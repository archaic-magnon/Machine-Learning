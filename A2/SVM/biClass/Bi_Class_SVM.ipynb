{
 "cells": [
  {
   "cell_type": "code",
   "execution_count": 1,
   "metadata": {
    "colab": {
     "base_uri": "https://localhost:8080/",
     "height": 34
    },
    "colab_type": "code",
    "id": "tgNaaXCePPoE",
    "outputId": "d66cb440-c958-4edf-b0fe-39d069767907"
   },
   "outputs": [
    {
     "name": "stdout",
     "output_type": "stream",
     "text": [
      "8\n"
     ]
    }
   ],
   "source": [
    "import multiprocessing \n",
    "print(multiprocessing.cpu_count())"
   ]
  },
  {
   "cell_type": "code",
   "execution_count": 2,
   "metadata": {
    "colab": {},
    "colab_type": "code",
    "id": "EhAEdIiDmWia"
   },
   "outputs": [],
   "source": [
    "import numpy as np"
   ]
  },
  {
   "cell_type": "code",
   "execution_count": 3,
   "metadata": {
    "colab": {},
    "colab_type": "code",
    "id": "HnYf-8j3mXy5"
   },
   "outputs": [],
   "source": [
    "# arr = np.ones(10**9, dtype='float128')"
   ]
  },
  {
   "cell_type": "code",
   "execution_count": 4,
   "metadata": {
    "colab": {},
    "colab_type": "code",
    "id": "Lkov98KJmfDG"
   },
   "outputs": [],
   "source": [
    "import cvxopt\n",
    "import pandas as pd\n",
    "import numpy as np\n",
    "from cvxopt import solvers, matrix\n",
    "from sklearn.metrics import accuracy_score, confusion_matrix, f1_score, roc_curve, auc, roc_auc_score\n",
    "import seaborn as sns\n",
    "import matplotlib.pyplot as plt  \n",
    "import math\n",
    "from scipy.spatial.distance import cdist\n",
    "import time\n",
    "from tqdm import tqdm\n",
    "from sklearn.svm import SVC\n",
    "from scipy.spatial.distance import pdist, squareform\n",
    "import scipy\n",
    "import joblib\n",
    "\n"
   ]
  },
  {
   "cell_type": "code",
   "execution_count": 5,
   "metadata": {
    "colab": {},
    "colab_type": "code",
    "id": "2DXVK3-_noHV"
   },
   "outputs": [],
   "source": [
    "gama = 0.05"
   ]
  },
  {
   "cell_type": "code",
   "execution_count": 6,
   "metadata": {
    "colab": {},
    "colab_type": "code",
    "id": "He9L_dov1hPW"
   },
   "outputs": [],
   "source": [
    "# train_path = \"/content/drive/My Drive/ML/fashion_mnist/train.csv\"\n",
    "# test_path = \"/content/drive/My Drive/ML/fashion_mnist/test.csv\"\n",
    "# val_path = \"/content/drive/My Drive/ML/fashion_mnist/val.csv\""
   ]
  },
  {
   "cell_type": "code",
   "execution_count": 8,
   "metadata": {
    "colab": {},
    "colab_type": "code",
    "id": "1Z-pPyPonrl5"
   },
   "outputs": [],
   "source": [
    "train_path = \"data/train.csv\"\n",
    "test_path = \"data/test.csv\"\n",
    "val_path = \"data/val.csv\""
   ]
  },
  {
   "cell_type": "code",
   "execution_count": null,
   "metadata": {
    "colab": {},
    "colab_type": "code",
    "id": "2lRfcdpQr_Vq"
   },
   "outputs": [],
   "source": []
  },
  {
   "cell_type": "code",
   "execution_count": 9,
   "metadata": {
    "colab": {},
    "colab_type": "code",
    "id": "58AMmK9Vr-2W"
   },
   "outputs": [],
   "source": [
    "def readData(path, c1, c2):\n",
    "\tdata = pd.read_csv(path, header=None)\n",
    "\n",
    "\tlast_column = data.shape[1]-1\n",
    "\tdata = filterData(c1, c2, data)\n",
    "\n",
    "\t# y_data = setY_1(data[last_column], c2, c1)\n",
    "\tx_data = scaleData(data.drop(last_column,1))\n",
    "\ty_data = data[last_column]\n",
    "\n",
    "\treturn np.array(x_data), np.array(y_data).reshape(-1,1)\n"
   ]
  },
  {
   "cell_type": "code",
   "execution_count": 10,
   "metadata": {
    "colab": {},
    "colab_type": "code",
    "id": "37XTrS3-n8my"
   },
   "outputs": [],
   "source": [
    "def readDataUnfiltered(path):\n",
    "    data = pd.read_csv(path, header=None)\n",
    "\n",
    "    last_column = data.shape[1]-1\n",
    "    # data = filterData(c1, c2, data)\n",
    "\n",
    "    x_data = scaleData(data.drop(last_column,1))\n",
    "    y_data = data[last_column]\n",
    "\n",
    "\n",
    "    return np.array(x_data), np.array(y_data).reshape(-1,1)"
   ]
  },
  {
   "cell_type": "code",
   "execution_count": 11,
   "metadata": {
    "colab": {},
    "colab_type": "code",
    "id": "QRihL8ORs9EK"
   },
   "outputs": [],
   "source": [
    "def filterData(c1, c2, data):\n",
    "\tlast_column = data.shape[1]-1\n",
    "\n",
    "\tr_data = data[(data[last_column]==c1) | (data[last_column]==c2)]\n",
    "\treturn r_data "
   ]
  },
  {
   "cell_type": "code",
   "execution_count": 12,
   "metadata": {
    "colab": {},
    "colab_type": "code",
    "id": "btpwTv3os3_e"
   },
   "outputs": [],
   "source": [
    "def setY_1(y, pos_class, neg_class):\n",
    "    y[y==pos_class] = 1\n",
    "    y[y==neg_class] = -1\n",
    "\n",
    "    return y\n"
   ]
  },
  {
   "cell_type": "code",
   "execution_count": 13,
   "metadata": {
    "colab": {},
    "colab_type": "code",
    "id": "Di_LPf5PoepI"
   },
   "outputs": [],
   "source": [
    "def scaleData(data):\n",
    "    return data / 255"
   ]
  },
  {
   "cell_type": "code",
   "execution_count": 14,
   "metadata": {
    "colab": {},
    "colab_type": "code",
    "id": "rHmtAuusok4H"
   },
   "outputs": [],
   "source": [
    "def getP(y_train, x_train, kernel):\n",
    "    m = y_train.shape[0]\n",
    "    KernelMatrix = None\n",
    "    if kernel == linear_kernel:\n",
    "        KernelMatrix = (x_train@x_train.T)\n",
    "        P = (y_train@y_train.T) * KernelMatrix\n",
    "        return matrix(P), KernelMatrix\n",
    "    if kernel == gaussian_kernel:\n",
    "        print(\"Calculating P\")\n",
    "        # pairwise_sq_dists = squareform(pdist(x_train, 'sqeuclidean'))\n",
    "        # KernelMatrix = np.exp(-pairwise_sq_dists * gama)\n",
    "        KernelMatrix = np.exp( -gama*(cdist(x_train, x_train,'sqeuclidean')))\n",
    "        P = (y_train@y_train.T) * KernelMatrix\n",
    "        # print(\"y\")\n",
    "        # print(y_train)\n",
    "        # print(\"yy.t\")\n",
    "        # print(y_train@y_train.T)\n",
    "        # print(\"k\")\n",
    "        # print(KernelMatrix)\n",
    "\n",
    "        return matrix(P), KernelMatrix"
   ]
  },
  {
   "cell_type": "code",
   "execution_count": 15,
   "metadata": {
    "colab": {},
    "colab_type": "code",
    "id": "riYKp5xeopyI"
   },
   "outputs": [],
   "source": [
    "\n",
    "def getq(m):\n",
    "    q = -np.ones((m,1))\n",
    "    return matrix(q)\n"
   ]
  },
  {
   "cell_type": "code",
   "execution_count": 16,
   "metadata": {
    "colab": {},
    "colab_type": "code",
    "id": "KVY-zlbqorpx"
   },
   "outputs": [],
   "source": [
    "def getGh(m, C):\n",
    "    G1 = np.identity(m)\n",
    "    G = np.vstack((-G1, G1))\n",
    "\n",
    "    H1 = np.zeros((m,1))\n",
    "    H2 = C * np.ones((m,1))\n",
    "    h = np.vstack((H1, H2))\n",
    "\n",
    "    return matrix(G), matrix(h)\n"
   ]
  },
  {
   "cell_type": "code",
   "execution_count": 17,
   "metadata": {
    "colab": {},
    "colab_type": "code",
    "id": "CHLvEWtuotlc"
   },
   "outputs": [],
   "source": [
    "def getAb(y_train):\n",
    "    A = y_train.T\n",
    "    b = np.zeros(1)\n",
    "    return matrix(A), matrix(b)\n"
   ]
  },
  {
   "cell_type": "code",
   "execution_count": 18,
   "metadata": {
    "colab": {},
    "colab_type": "code",
    "id": "yP1VP8f9ovYH"
   },
   "outputs": [],
   "source": [
    "def linear_kernel(x, z):\n",
    "    return (x.T)@z\n"
   ]
  },
  {
   "cell_type": "code",
   "execution_count": 19,
   "metadata": {
    "colab": {},
    "colab_type": "code",
    "id": "77zIgpSgozf-"
   },
   "outputs": [],
   "source": [
    "def gaussian_kernel(x, z):\n",
    "    return np.exp((-np.linalg.norm(x-z)**2) * gama)"
   ]
  },
  {
   "cell_type": "code",
   "execution_count": 20,
   "metadata": {
    "colab": {},
    "colab_type": "code",
    "id": "DhnaUzEQo2Rx"
   },
   "outputs": [],
   "source": [
    "def getWtX(alpha, Y, X, x, kernel):\n",
    "    m = Y.shape[0]\n",
    "    ans = 0\n",
    "    for i in range(m):\n",
    "        if(alpha[i]==0):\n",
    "            continue\n",
    "        ans+= alpha[i] * Y[i] * kernel(X[i].reshape(-1,1), x.reshape(-1,1))\n",
    "    return ans\n"
   ]
  },
  {
   "cell_type": "code",
   "execution_count": 21,
   "metadata": {
    "colab": {},
    "colab_type": "code",
    "id": "v5zCRUlppCQR"
   },
   "outputs": [],
   "source": [
    "def getb(alpha, Y, X, kernel):\n",
    "    print(\"calculating b\")\n",
    "    ans = 0\n",
    "    m = Y.shape[0]\n",
    "    max1 = -float('inf')\n",
    "    min1 = float('inf')\n",
    "    for i in tqdm(range(m)):\n",
    "        wtx = getWtX(alpha, Y, X, X[i], kernel)\n",
    "        if Y[i] == -1:\n",
    "            max1 = max(max1, wtx)\n",
    "        elif Y[i] == 1:\n",
    "            min1 = min(min1, wtx)\n",
    "\n",
    "    b = -1*(max1 + min1)/2\n",
    "    print(\"b\", b)\n",
    "    return b"
   ]
  },
  {
   "cell_type": "code",
   "execution_count": 22,
   "metadata": {
    "colab": {},
    "colab_type": "code",
    "id": "LzHaO7Qqxi1l"
   },
   "outputs": [],
   "source": [
    "def getGaussb(alpha,alpha_f, X, X_f, Y, Y_f, kernalMatrix):\n",
    "  print(\"alpha_f\",alpha_f.shape)\n",
    "  print(\"Y_f\",Y_f.shape)\n",
    "  print(\"X_f\",X_f.shape)\n",
    "  print(\"X\",X.shape)\n",
    "  wtx = (   np.exp(-1*cdist(X, X_f, \"sqeuclidean\")*gama) @ (alpha_f*Y_f) )\n",
    "  print(\"wtx\",wtx.shape)\n",
    "  t1 = np.max(wtx[np.where(Y==-1)])\n",
    "  t2 = np.min(wtx[np.where(Y==1)])\n",
    "  b = -1 * (t1 + t2) /2\n",
    "  print(\"gb\", b)\n",
    "  return b\n",
    "\n",
    "\n"
   ]
  },
  {
   "cell_type": "code",
   "execution_count": 23,
   "metadata": {
    "colab": {},
    "colab_type": "code",
    "id": "StllB5zyYNmQ"
   },
   "outputs": [],
   "source": [
    "def getbb(alpha, X,Y, kernalMatrix):\n",
    "  temp = alpha * Y * kernalMatrix\n",
    "  print(temp.shape)\n",
    "  # filter temp where y = -1 and 1\n",
    "  m,n = X.shape\n",
    "  Yy = np.repeat(Y,m,axis=1)\n",
    "  temp1 = temp[np.where(Yy ==1)].reshape(-1, m)\n",
    "  temp2 = temp[np.where(Yy ==-1)].reshape(-1, m)\n",
    "  print(Yy.shape)\n",
    "  print(temp1.shape)\n",
    "  print(temp2.shape)\n",
    "\n",
    "  b1 = np.max(np.sum(temp1, axis=0))\n",
    "  b2 = np.min(np.sum(temp2, axis=0))\n",
    "  b = -1*(b1+b2)/2\n",
    "  print(\"bb\", b)\n",
    "\n",
    "  return b"
   ]
  },
  {
   "cell_type": "code",
   "execution_count": 24,
   "metadata": {
    "colab": {},
    "colab_type": "code",
    "id": "ORsuu_mJpFqh"
   },
   "outputs": [],
   "source": [
    "\n",
    "def calculateAccuracy(actual, predicted):\n",
    "    count = 0\n",
    "    for y1, y2 in zip(actual, predicted):\n",
    "        if y1==y2:\n",
    "            count+=1\n",
    "    return count/len(predicted)"
   ]
  },
  {
   "cell_type": "code",
   "execution_count": 46,
   "metadata": {
    "colab": {},
    "colab_type": "code",
    "id": "yYjuplA_pJP1"
   },
   "outputs": [],
   "source": [
    "def plot_cm(actual, predicted, labels=None, title=\"Confusion Matrix\"):\n",
    "    cm = confusion_matrix(actual, predicted, labels=labels)\n",
    "    df_cm = pd.DataFrame(cm, columns=np.unique(actual), index = np.unique(actual))\n",
    "    df_cm.index.name = 'Actual'\n",
    "    df_cm.columns.name = 'Predicted'\n",
    "    # plt.figure(figsize = (10,7))\n",
    "    sns.set(font_scale=1.4)#for label size\n",
    "\n",
    "    ax = sns.heatmap(df_cm, cmap=\"Blues\", annot=True,annot_kws={\"size\": 16}, fmt='d')# font size\n",
    "    bottom, top = ax.get_ylim()\n",
    "    ax.set_ylim(bottom + 0.5, top - 0.5)\n",
    "    plt.title(title)\n",
    "    plt.show()"
   ]
  },
  {
   "cell_type": "code",
   "execution_count": 26,
   "metadata": {
    "colab": {},
    "colab_type": "code",
    "id": "3gslIIpupLso"
   },
   "outputs": [],
   "source": [
    "class BiSVM:\n",
    "\n",
    "    def replaceLabelsBefore(self, y):\n",
    "      y = np.where(y==self.neg_class, -1, y)\n",
    "      y = np.where(y==self.pos_class, 1, y)\n",
    "      return y\n",
    "\n",
    "    def replaceLabelsAfter(self, y):\n",
    "      # y = np.where(y==100, self.pos_class, y)\n",
    "      # print(self.pos_class)\n",
    "      y = np.where(y==1, self.pos_class, y)\n",
    "      # print(y)\n",
    "      # print(y.max())\n",
    "      # print(y.min())\n",
    "      y = np.where(y==-1, self.neg_class, y)\n",
    "      # print(y)\n",
    "      # print(y.max())\n",
    "      # print(y.min())\n",
    "      return y\n",
    "\n",
    "    def predictGauss(self, X_test):\n",
    "        kernel = self.kernel\n",
    "        alpha = self.alpha\n",
    "        Y = self.Y\n",
    "        X = self.X\n",
    "        b = self.b\n",
    "        wtx =  np.exp(-1*cdist(X_test, X, \"sqeuclidean\")*gama) @ (alpha*Y) \n",
    "        return self.replaceLabelsAfter(np.sign(wtx+b))\n",
    "\n",
    "\n",
    "\n",
    "    def predict(self, X_test):\n",
    "        kernel = self.kernel\n",
    "        if kernel ==gaussian_kernel:\n",
    "          return self.predictGauss(X_test)\n",
    "        alpha = self.alpha\n",
    "        Y = self.Y\n",
    "        X = self.X\n",
    "        b = self.b\n",
    "        p =  np.array([ 1  if getWtX(alpha, Y, X, el, kernel) + b > 0 else -1  for el in tqdm(X_test)])\n",
    "        p = self.replaceLabelsAfter(p)\n",
    "        return np.array(p).astype(int)\n",
    "\n",
    "    def getParameters(self):\n",
    "        parameter = {}\n",
    "        parameter[\"alpha\"]  = self.alpha\n",
    "        parameter[\"b\"] = self.b\n",
    "        parameter[\"pos_class\"] = self.pos_class\n",
    "        parameter[\"neg_class\"] = self.neg_class\n",
    "        parameter[\"kernel\"] = self.kernel\n",
    "        parameter[\"b\"] = self.b\n",
    "        parameter[\"w\"] = self.w\n",
    "        parameter[\"count_sv\"] = self.count_sv\n",
    "        return parameter\n",
    "\n",
    "    def fit(self, train_x, train_y, pos_class, neg_class, kernel):\n",
    "        self.pos_class = pos_class\n",
    "        self.neg_class = neg_class\n",
    "        self.kernel = kernel\n",
    "\n",
    "        train_y = self.replaceLabelsBefore(train_y)\n",
    "\n",
    "        cut_off = 1e-5\n",
    "        C = 1\n",
    "        m,n = train_x.shape\n",
    "        P, KernelMatrix = getP(train_y, train_x, kernel)\n",
    "        q = getq(m)\n",
    "        G, h = getGh(m, C)\n",
    "        A, b = getAb(train_y)\n",
    "\n",
    "        self.KernelMatrix = KernelMatrix\n",
    "\n",
    "        sol = solvers.qp(P,q,G,h,A,b)\n",
    "        # print(sol['x'])\n",
    "\n",
    "        alpha = np.array(sol['x']).reshape(-1,1)\n",
    "\n",
    "        count_sv = len(alpha[alpha>cut_off])\n",
    "        print(f\"No. of support vectors:\",  count_sv)\n",
    "\n",
    "        alpha_index = alpha>cut_off\n",
    "        alpha[alpha<cut_off] = 0\n",
    "\n",
    "        alpha_index1 = np.where(alpha_index)[0]\n",
    "\n",
    "        train_x_f = np.take(train_x, alpha_index1, axis=0)\n",
    "\n",
    "        alpha_f = (alpha*alpha_index)\n",
    "        alpha_f = (alpha_f[alpha_f!=0]).reshape(-1,1)\n",
    "\n",
    "        train_y_f = (train_y*alpha_index)\n",
    "        train_y_f = (train_y_f[train_y_f!=0]).reshape(-1,1)\n",
    "        if kernel == gaussian_kernel:\n",
    "          b = getGaussb(alpha,alpha_f, train_x, train_x_f, train_y, train_y_f, KernelMatrix)\n",
    "        else:\n",
    "          b = getb(alpha_f, train_y_f, train_x_f, kernel)\n",
    "        # bb = getbb(alpha, train_x,train_y, KernelMatrix)\n",
    "        \n",
    "\n",
    "        # self.bb = bb\n",
    "        self.count_sv = count_sv\n",
    "        self.alpha_f = alpha_f\n",
    "        self.train_x_f = train_x_f\n",
    "        self.train_y_f = train_y_f\n",
    "        self.b = b\n",
    "        self.w = None\n",
    "\n",
    "        self.alpha = alpha\n",
    "        self.X = train_x\n",
    "        self.Y = train_y\n",
    "\n",
    "        \n",
    "\n",
    "        if kernel == linear_kernel:\n",
    "            w = np.sum(train_y_f * alpha_f * train_x_f, axis=0).reshape(-1,1)\n",
    "            self.w = w\n",
    "\n",
    "        return True\n",
    "        \n",
    "       "
   ]
  },
  {
   "cell_type": "code",
   "execution_count": 27,
   "metadata": {
    "colab": {},
    "colab_type": "code",
    "id": "AZLF6cVKqOi8"
   },
   "outputs": [],
   "source": [
    "# def plot_cm(actual, predicted):\n",
    "#     cm = confusion_matrix(actual, predicted)\n",
    "#     df_cm = pd.DataFrame(cm, columns=np.unique(actual), index = np.unique(actual))\n",
    "#     df_cm.index.name = 'Actual'\n",
    "#     df_cm.columns.name = 'Predicted'\n",
    "#     # plt.figure(figsize = (10,7))\n",
    "#     sns.set(font_scale=1.4)#for label size\n",
    "\n",
    "#     ax = sns.heatmap(df_cm, cmap=\"Blues\", annot=True,annot_kws={\"size\": 16}, fmt='d')# font size\n",
    "#     bottom, top = ax.get_ylim()\n",
    "#     ax.set_ylim(bottom + 0.5, top - 0.5)\n",
    "#     plt.show()\n"
   ]
  },
  {
   "cell_type": "code",
   "execution_count": null,
   "metadata": {
    "colab": {},
    "colab_type": "code",
    "id": "cUphHB8s61Kw"
   },
   "outputs": [],
   "source": []
  },
  {
   "cell_type": "code",
   "execution_count": null,
   "metadata": {
    "colab": {},
    "colab_type": "code",
    "id": "SDpDPhVA6011"
   },
   "outputs": [],
   "source": []
  },
  {
   "cell_type": "markdown",
   "metadata": {
    "colab_type": "text",
    "id": "ottvLo3B63xc"
   },
   "source": [
    "# Linear SVM"
   ]
  },
  {
   "cell_type": "code",
   "execution_count": null,
   "metadata": {
    "colab": {},
    "colab_type": "code",
    "id": "KgaExI33tI24"
   },
   "outputs": [],
   "source": []
  },
  {
   "cell_type": "code",
   "execution_count": 28,
   "metadata": {
    "colab": {},
    "colab_type": "code",
    "id": "Auq7wqXYtPz6"
   },
   "outputs": [],
   "source": [
    "d = 5\n",
    "c1 = d\n",
    "c2 = (d+1)%10\n",
    "\n",
    "train_x, train_y = readData(train_path, c1, c2)\n",
    "test_x, test_y = readData(test_path, c1, c2)\n",
    "val_x, val_y = readData(val_path, c1, c2)"
   ]
  },
  {
   "cell_type": "code",
   "execution_count": null,
   "metadata": {
    "colab": {},
    "colab_type": "code",
    "id": "7m_9EScbtSec"
   },
   "outputs": [],
   "source": []
  },
  {
   "cell_type": "code",
   "execution_count": 29,
   "metadata": {
    "colab": {},
    "colab_type": "code",
    "id": "kLNgr7dD7IMH"
   },
   "outputs": [],
   "source": [
    "# train_x, train_y = readDataUnfiltered(train_path)\n",
    "# test_x, test_y = readDataUnfiltered(test_path)\n",
    "# val_x, val_y = readDataUnfiltered(val_path)"
   ]
  },
  {
   "cell_type": "code",
   "execution_count": 30,
   "metadata": {
    "colab": {
     "base_uri": "https://localhost:8080/",
     "height": 34
    },
    "colab_type": "code",
    "id": "f1JWIy4xrNCL",
    "outputId": "0c8a593b-a465-47ef-9868-80499bdd91e9"
   },
   "outputs": [
    {
     "data": {
      "text/plain": [
       "(4500, 784)"
      ]
     },
     "execution_count": 30,
     "metadata": {},
     "output_type": "execute_result"
    }
   ],
   "source": [
    "train_x.shape"
   ]
  },
  {
   "cell_type": "code",
   "execution_count": 31,
   "metadata": {
    "colab": {},
    "colab_type": "code",
    "id": "7E8xZWO78Nzt"
   },
   "outputs": [],
   "source": [
    "# yy = np.put(train_y, [-1, 1], [5, 6])"
   ]
  },
  {
   "cell_type": "code",
   "execution_count": 32,
   "metadata": {
    "colab": {},
    "colab_type": "code",
    "id": "-QsN-05O8Vtm"
   },
   "outputs": [],
   "source": [
    "# yy"
   ]
  },
  {
   "cell_type": "code",
   "execution_count": 33,
   "metadata": {
    "colab": {},
    "colab_type": "code",
    "id": "_aqtRU_2tWit"
   },
   "outputs": [],
   "source": [
    "BiSVM_model = BiSVM()"
   ]
  },
  {
   "cell_type": "code",
   "execution_count": 34,
   "metadata": {
    "colab": {
     "base_uri": "https://localhost:8080/",
     "height": 527
    },
    "colab_type": "code",
    "id": "zQn41ZVltieH",
    "outputId": "852e9843-d8da-4231-f694-af6f04fcbeee"
   },
   "outputs": [
    {
     "name": "stdout",
     "output_type": "stream",
     "text": [
      "     pcost       dcost       gap    pres   dres\n",
      " 0: -2.8076e+02 -8.3088e+03  4e+04  3e+00  2e-12\n",
      " 1: -1.5849e+02 -4.4639e+03  9e+03  4e-01  1e-12\n",
      " 2: -5.1865e+01 -1.2686e+03  2e+03  9e-02  6e-13\n",
      " 3: -2.1440e+01 -7.0693e+02  1e+03  4e-02  3e-13\n",
      " 4: -3.8988e+00 -1.9875e+02  3e+02  8e-03  1e-13\n",
      " 5: -1.3115e+00 -1.0143e+02  2e+02  4e-03  4e-14\n",
      " 6: -4.5724e-01 -4.1303e+01  6e+01  1e-03  2e-14\n",
      " 7: -2.6273e-02 -2.0037e+01  3e+01  5e-04  1e-14\n",
      " 8: -3.8091e-01 -7.1544e+00  8e+00  1e-04  1e-14\n",
      " 9: -6.0363e-01 -3.4105e+00  3e+00  2e-16  1e-14\n",
      "10: -9.8611e-01 -2.2986e+00  1e+00  2e-16  1e-14\n",
      "11: -1.1165e+00 -2.0484e+00  9e-01  8e-16  1e-14\n",
      "12: -1.2839e+00 -1.6996e+00  4e-01  2e-16  1e-14\n",
      "13: -1.3432e+00 -1.5701e+00  2e-01  2e-16  1e-14\n",
      "14: -1.4108e+00 -1.4693e+00  6e-02  4e-16  1e-14\n",
      "15: -1.4351e+00 -1.4385e+00  3e-03  2e-16  1e-14\n",
      "16: -1.4367e+00 -1.4367e+00  5e-05  3e-16  1e-14\n"
     ]
    },
    {
     "name": "stderr",
     "output_type": "stream",
     "text": [
      "100%|██████████| 86/86 [00:00<00:00, 1334.54it/s]"
     ]
    },
    {
     "name": "stdout",
     "output_type": "stream",
     "text": [
      "17: -1.4367e+00 -1.4367e+00  6e-07  7e-16  1e-14\n",
      "Optimal solution found.\n",
      "No. of support vectors: 86\n",
      "calculating b\n",
      "b [[-0.49050306]]\n",
      "Time taken = 34.255138874053955 sec\n"
     ]
    },
    {
     "name": "stderr",
     "output_type": "stream",
     "text": [
      "\n"
     ]
    }
   ],
   "source": [
    "start_time = time.time()\n",
    "BiSVM_model.fit(train_x, train_y, c2, c1, linear_kernel)\n",
    "print(f\"Time taken = {time.time() - start_time} sec\")"
   ]
  },
  {
   "cell_type": "code",
   "execution_count": 35,
   "metadata": {
    "colab": {
     "base_uri": "https://localhost:8080/",
     "height": 34
    },
    "colab_type": "code",
    "id": "35PW1h5yw0HD",
    "outputId": "4406682f-3085-4eaf-f881-657aca66135d"
   },
   "outputs": [
    {
     "data": {
      "text/plain": [
       "86"
      ]
     },
     "execution_count": 35,
     "metadata": {},
     "output_type": "execute_result"
    }
   ],
   "source": [
    "BiSVM_model.count_sv"
   ]
  },
  {
   "cell_type": "code",
   "execution_count": 36,
   "metadata": {
    "colab": {
     "base_uri": "https://localhost:8080/",
     "height": 1000
    },
    "colab_type": "code",
    "id": "by23B2MUvrql",
    "outputId": "220c1e6d-0b42-4864-f47d-ebe073e222f0"
   },
   "outputs": [
    {
     "data": {
      "text/plain": [
       "array([[ 0.00000000e+00],\n",
       "       [ 0.00000000e+00],\n",
       "       [ 8.14385650e-04],\n",
       "       [ 4.07192825e-04],\n",
       "       [ 2.75384072e-03],\n",
       "       [ 7.38448735e-03],\n",
       "       [ 6.31474771e-03],\n",
       "       [ 1.77914838e-02],\n",
       "       [ 4.82141858e-02],\n",
       "       [ 2.55315834e-02],\n",
       "       [ 3.82036803e-02],\n",
       "       [ 1.32396394e-01],\n",
       "       [ 7.42205649e-02],\n",
       "       [ 1.31544141e-01],\n",
       "       [ 1.54509806e-01],\n",
       "       [ 1.34075824e-01],\n",
       "       [ 7.69645356e-02],\n",
       "       [ 3.40328188e-02],\n",
       "       [ 1.21710417e-02],\n",
       "       [-1.23804977e-02],\n",
       "       [ 3.23233303e-02],\n",
       "       [-2.55740307e-02],\n",
       "       [-1.57690088e-02],\n",
       "       [ 1.13719635e-02],\n",
       "       [-2.79384735e-05],\n",
       "       [ 0.00000000e+00],\n",
       "       [ 0.00000000e+00],\n",
       "       [ 0.00000000e+00],\n",
       "       [ 0.00000000e+00],\n",
       "       [ 0.00000000e+00],\n",
       "       [ 0.00000000e+00],\n",
       "       [ 0.00000000e+00],\n",
       "       [ 3.17244950e-03],\n",
       "       [ 3.39435896e-02],\n",
       "       [ 5.32311348e-02],\n",
       "       [ 7.15217464e-02],\n",
       "       [ 6.80748314e-02],\n",
       "       [ 9.84484075e-02],\n",
       "       [ 7.78339381e-02],\n",
       "       [ 1.23860144e-01],\n",
       "       [ 2.05342096e-01],\n",
       "       [ 2.05768093e-01],\n",
       "       [ 1.71158019e-01],\n",
       "       [ 2.97377266e-01],\n",
       "       [ 5.79205208e-02],\n",
       "       [-2.03406277e-02],\n",
       "       [-6.87773262e-02],\n",
       "       [-2.97013922e-02],\n",
       "       [-4.82285418e-02],\n",
       "       [-9.40625281e-02],\n",
       "       [-3.60421209e-02],\n",
       "       [ 1.47044235e-02],\n",
       "       [-1.05197829e-05],\n",
       "       [ 5.27624094e-04],\n",
       "       [-8.28724921e-05],\n",
       "       [ 0.00000000e+00],\n",
       "       [ 5.99760157e-05],\n",
       "       [ 0.00000000e+00],\n",
       "       [ 3.46113901e-03],\n",
       "       [ 2.85034977e-03],\n",
       "       [ 4.24222751e-03],\n",
       "       [ 1.59059695e-02],\n",
       "       [ 8.16275460e-02],\n",
       "       [ 1.03070370e-01],\n",
       "       [ 1.01209815e-01],\n",
       "       [ 1.01991846e-01],\n",
       "       [ 5.21362730e-02],\n",
       "       [ 2.50180192e-02],\n",
       "       [ 1.29889235e-01],\n",
       "       [ 1.14005575e-01],\n",
       "       [ 1.46309399e-01],\n",
       "       [ 1.68449699e-01],\n",
       "       [ 9.63977388e-02],\n",
       "       [ 3.37256094e-02],\n",
       "       [-3.08285324e-03],\n",
       "       [ 4.77039104e-02],\n",
       "       [-7.38347138e-03],\n",
       "       [-7.23263703e-02],\n",
       "       [-5.52041634e-02],\n",
       "       [-6.54074735e-02],\n",
       "       [-4.01316004e-02],\n",
       "       [-1.20715270e-02],\n",
       "       [-1.14471465e-03],\n",
       "       [ 0.00000000e+00],\n",
       "       [ 5.99760157e-05],\n",
       "       [ 5.99760157e-05],\n",
       "       [ 4.88631390e-03],\n",
       "       [ 6.15564589e-03],\n",
       "       [ 6.55643512e-03],\n",
       "       [ 4.66071750e-02],\n",
       "       [ 9.47707059e-02],\n",
       "       [ 1.00211897e-01],\n",
       "       [ 8.06258205e-02],\n",
       "       [ 8.16842092e-02],\n",
       "       [ 6.91312365e-02],\n",
       "       [ 1.93040505e-02],\n",
       "       [ 5.46883406e-02],\n",
       "       [ 1.23185716e-01],\n",
       "       [ 2.01811300e-01],\n",
       "       [ 1.35455986e-01],\n",
       "       [ 2.04845451e-02],\n",
       "       [ 4.81341243e-03],\n",
       "       [ 7.92290468e-02],\n",
       "       [ 4.27055936e-02],\n",
       "       [ 3.69070807e-02],\n",
       "       [-5.61504130e-02],\n",
       "       [-6.59595825e-02],\n",
       "       [-1.03628028e-01],\n",
       "       [-2.34493065e-02],\n",
       "       [-2.02321271e-02],\n",
       "       [-2.72500924e-03],\n",
       "       [-7.22698434e-04],\n",
       "       [ 0.00000000e+00],\n",
       "       [ 1.42517489e-03],\n",
       "       [ 6.31148879e-03],\n",
       "       [ 3.59454317e-03],\n",
       "       [ 8.56672560e-03],\n",
       "       [ 4.56071221e-02],\n",
       "       [ 7.99780686e-02],\n",
       "       [ 1.06330852e-01],\n",
       "       [ 7.88992456e-02],\n",
       "       [ 8.50537362e-02],\n",
       "       [ 7.92027111e-02],\n",
       "       [ 6.41278376e-02],\n",
       "       [ 6.74120539e-02],\n",
       "       [ 4.86807120e-02],\n",
       "       [ 2.03563166e-02],\n",
       "       [ 3.76840460e-02],\n",
       "       [ 4.86602157e-02],\n",
       "       [ 3.03093934e-03],\n",
       "       [-1.90009148e-02],\n",
       "       [-4.34893242e-02],\n",
       "       [-5.42139766e-02],\n",
       "       [-6.03667867e-02],\n",
       "       [-5.77960277e-02],\n",
       "       [-8.04903317e-02],\n",
       "       [-1.56535443e-02],\n",
       "       [ 3.51083837e-02],\n",
       "       [-6.49837551e-03],\n",
       "       [-1.91062369e-04],\n",
       "       [ 5.99760157e-05],\n",
       "       [ 1.83236771e-03],\n",
       "       [ 5.84989814e-03],\n",
       "       [ 9.17756894e-04],\n",
       "       [ 2.41560886e-02],\n",
       "       [ 7.30872697e-02],\n",
       "       [ 9.83214180e-02],\n",
       "       [ 1.50841455e-01],\n",
       "       [ 1.09537815e-01],\n",
       "       [ 9.05783758e-02],\n",
       "       [ 7.43907439e-02],\n",
       "       [ 3.14170381e-02],\n",
       "       [ 3.37710355e-02],\n",
       "       [ 5.65437369e-02],\n",
       "       [-5.50739452e-04],\n",
       "       [ 4.33343987e-02],\n",
       "       [ 9.22353067e-02],\n",
       "       [ 1.01808822e-02],\n",
       "       [-3.22999311e-02],\n",
       "       [-2.58764264e-02],\n",
       "       [-2.27745740e-03],\n",
       "       [-6.15236453e-02],\n",
       "       [-4.11707496e-02],\n",
       "       [ 3.42237008e-03],\n",
       "       [-1.23787976e-02],\n",
       "       [ 2.80112441e-02],\n",
       "       [-7.18569571e-03],\n",
       "       [-1.06904086e-04],\n",
       "       [ 5.99760157e-05],\n",
       "       [ 1.46685704e-03],\n",
       "       [ 3.98014550e-03],\n",
       "       [ 1.16249280e-02],\n",
       "       [ 5.27043132e-02],\n",
       "       [ 8.84875688e-02],\n",
       "       [ 1.09669307e-01],\n",
       "       [ 1.75390019e-01],\n",
       "       [ 1.54540177e-01],\n",
       "       [ 1.32199797e-01],\n",
       "       [ 1.30075209e-01],\n",
       "       [ 9.66926349e-02],\n",
       "       [ 9.13473778e-02],\n",
       "       [ 9.47740755e-02],\n",
       "       [ 2.97993114e-04],\n",
       "       [-2.27871791e-02],\n",
       "       [-3.12411434e-02],\n",
       "       [-5.84274106e-02],\n",
       "       [-1.60179835e-02],\n",
       "       [ 1.88310577e-03],\n",
       "       [-3.52622492e-02],\n",
       "       [-6.01733294e-02],\n",
       "       [-1.77195019e-02],\n",
       "       [-2.07010514e-02],\n",
       "       [-1.17620457e-02],\n",
       "       [ 1.60160048e-02],\n",
       "       [ 1.40565639e-02],\n",
       "       [-9.34118744e-05],\n",
       "       [ 2.53142916e-03],\n",
       "       [ 1.76197226e-02],\n",
       "       [ 9.44811040e-03],\n",
       "       [ 3.59920267e-02],\n",
       "       [ 1.03036304e-01],\n",
       "       [ 1.19867896e-01],\n",
       "       [ 1.26991807e-01],\n",
       "       [ 2.37576263e-01],\n",
       "       [ 2.36461032e-01],\n",
       "       [ 1.69636710e-01],\n",
       "       [ 1.65651984e-01],\n",
       "       [ 5.51178157e-02],\n",
       "       [ 3.36013026e-02],\n",
       "       [ 3.59769931e-02],\n",
       "       [ 1.95221710e-02],\n",
       "       [ 2.72443243e-02],\n",
       "       [ 3.84239222e-02],\n",
       "       [ 1.31129154e-03],\n",
       "       [ 8.45378149e-02],\n",
       "       [ 3.62623228e-02],\n",
       "       [ 2.61058619e-02],\n",
       "       [ 2.18412976e-02],\n",
       "       [-3.44691423e-02],\n",
       "       [-6.25571112e-02],\n",
       "       [-2.21118411e-02],\n",
       "       [-1.65941772e-02],\n",
       "       [ 3.73641278e-02],\n",
       "       [ 1.42778764e-03],\n",
       "       [ 1.46167008e-02],\n",
       "       [ 3.24671176e-02],\n",
       "       [ 4.55376780e-02],\n",
       "       [ 6.25153212e-02],\n",
       "       [ 1.04952074e-01],\n",
       "       [ 1.49222939e-01],\n",
       "       [ 1.48091146e-01],\n",
       "       [ 2.45903291e-01],\n",
       "       [ 2.05260592e-01],\n",
       "       [ 1.42661268e-01],\n",
       "       [ 1.60142532e-01],\n",
       "       [ 7.25382529e-02],\n",
       "       [ 5.36404469e-03],\n",
       "       [-3.05551873e-02],\n",
       "       [-2.68757743e-02],\n",
       "       [ 1.95677107e-02],\n",
       "       [ 2.06142752e-02],\n",
       "       [-3.58853919e-02],\n",
       "       [ 1.92517676e-02],\n",
       "       [-1.95963809e-02],\n",
       "       [-2.73133323e-02],\n",
       "       [-1.59277503e-02],\n",
       "       [-7.56189132e-02],\n",
       "       [-5.39138586e-02],\n",
       "       [-2.74675635e-02],\n",
       "       [-2.47224963e-02],\n",
       "       [ 4.72489392e-02],\n",
       "       [ 3.80416573e-03],\n",
       "       [ 5.38856220e-03],\n",
       "       [ 1.61193106e-02],\n",
       "       [ 3.80649612e-02],\n",
       "       [ 4.66173918e-02],\n",
       "       [ 8.12666996e-02],\n",
       "       [ 1.26558068e-01],\n",
       "       [ 1.62533336e-01],\n",
       "       [ 1.97127930e-01],\n",
       "       [ 1.99564527e-01],\n",
       "       [ 1.14716204e-01],\n",
       "       [ 3.63944554e-02],\n",
       "       [-1.34926743e-03],\n",
       "       [-1.77047771e-02],\n",
       "       [ 6.52526615e-03],\n",
       "       [-1.56373412e-02],\n",
       "       [-8.83862025e-02],\n",
       "       [-8.40965923e-02],\n",
       "       [-4.61116916e-02],\n",
       "       [-5.12904660e-02],\n",
       "       [-9.84524429e-03],\n",
       "       [ 5.40251391e-02],\n",
       "       [-4.43406279e-02],\n",
       "       [-3.95039263e-02],\n",
       "       [-7.48930023e-02],\n",
       "       [-5.09040095e-02],\n",
       "       [-4.61340651e-02],\n",
       "       [ 1.87173202e-02],\n",
       "       [ 1.32365674e-02],\n",
       "       [ 2.82732486e-02],\n",
       "       [ 6.12015517e-02],\n",
       "       [ 8.47576947e-02],\n",
       "       [ 1.51421434e-01],\n",
       "       [ 1.72636131e-01],\n",
       "       [ 8.17693997e-02],\n",
       "       [ 1.07283474e-01],\n",
       "       [ 1.80107886e-01],\n",
       "       [ 1.30842235e-01],\n",
       "       [ 4.61823309e-02],\n",
       "       [ 1.14023930e-01],\n",
       "       [-3.16290237e-02],\n",
       "       [ 4.51950779e-03],\n",
       "       [ 7.68776550e-02],\n",
       "       [ 8.26311295e-02],\n",
       "       [ 3.85157930e-02],\n",
       "       [-3.49988431e-02],\n",
       "       [-7.31138324e-02],\n",
       "       [-5.09740558e-02],\n",
       "       [ 7.81057474e-03],\n",
       "       [ 6.88950283e-02],\n",
       "       [-7.81239887e-03],\n",
       "       [ 4.92894714e-02],\n",
       "       [-7.36858413e-03],\n",
       "       [-6.26579293e-02],\n",
       "       [-8.16567700e-02],\n",
       "       [-2.62150023e-02],\n",
       "       [ 1.04717182e-02],\n",
       "       [ 2.14044320e-02],\n",
       "       [ 8.74313387e-02],\n",
       "       [ 1.16305804e-01],\n",
       "       [ 1.71838129e-01],\n",
       "       [ 1.43539282e-01],\n",
       "       [ 8.52414985e-02],\n",
       "       [ 4.11515793e-02],\n",
       "       [ 7.36623226e-02],\n",
       "       [ 3.95875549e-02],\n",
       "       [-6.83855628e-02],\n",
       "       [-1.70074447e-02],\n",
       "       [-5.30887765e-02],\n",
       "       [-3.32929957e-02],\n",
       "       [-9.61429590e-03],\n",
       "       [ 2.53443169e-02],\n",
       "       [ 1.65456364e-02],\n",
       "       [ 3.42689754e-02],\n",
       "       [-7.17172156e-03],\n",
       "       [-6.02342283e-02],\n",
       "       [ 3.19193899e-03],\n",
       "       [-2.07151179e-02],\n",
       "       [-4.92604246e-02],\n",
       "       [-9.07458183e-03],\n",
       "       [-2.08463742e-02],\n",
       "       [-1.38389931e-02],\n",
       "       [-1.05005763e-01],\n",
       "       [-4.09157271e-02],\n",
       "       [-6.52212539e-03],\n",
       "       [ 1.19831203e-02],\n",
       "       [ 2.97713782e-02],\n",
       "       [ 5.64376520e-02],\n",
       "       [ 6.85857156e-02],\n",
       "       [ 3.45940660e-02],\n",
       "       [ 6.58652130e-02],\n",
       "       [-2.10220750e-02],\n",
       "       [-1.61852340e-02],\n",
       "       [ 3.45537232e-02],\n",
       "       [-4.74636635e-02],\n",
       "       [-5.01475557e-02],\n",
       "       [-5.80613690e-02],\n",
       "       [-8.00216307e-02],\n",
       "       [-6.86512521e-02],\n",
       "       [-9.79701568e-03],\n",
       "       [-1.76635542e-02],\n",
       "       [ 2.98730803e-03],\n",
       "       [-1.70350925e-02],\n",
       "       [-1.29987844e-01],\n",
       "       [-3.13662868e-02],\n",
       "       [ 6.98090463e-03],\n",
       "       [-6.34930056e-02],\n",
       "       [-2.09915492e-02],\n",
       "       [-8.00899733e-02],\n",
       "       [-1.29109860e-02],\n",
       "       [-8.44604611e-02],\n",
       "       [-7.04903666e-02],\n",
       "       [ 1.52472389e-03],\n",
       "       [-4.20528788e-04],\n",
       "       [-8.00373188e-04],\n",
       "       [ 3.63213027e-02],\n",
       "       [-1.01169655e-02],\n",
       "       [-6.10357389e-02],\n",
       "       [-5.80924970e-03],\n",
       "       [ 1.35708487e-02],\n",
       "       [-9.97852848e-03],\n",
       "       [ 2.29571008e-02],\n",
       "       [-5.41092057e-02],\n",
       "       [-5.74090792e-02],\n",
       "       [ 2.93866679e-02],\n",
       "       [-2.61799678e-02],\n",
       "       [ 1.91622242e-02],\n",
       "       [-6.11079702e-03],\n",
       "       [-1.68423992e-02],\n",
       "       [-3.47559465e-02],\n",
       "       [-9.03388138e-02],\n",
       "       [-7.41496317e-02],\n",
       "       [ 2.31059958e-02],\n",
       "       [ 3.95388980e-02],\n",
       "       [ 5.98802007e-02],\n",
       "       [-2.45461330e-02],\n",
       "       [-4.69750701e-02],\n",
       "       [ 4.12019149e-03],\n",
       "       [ 3.36386316e-02],\n",
       "       [-8.26093089e-02],\n",
       "       [ 7.10441075e-03],\n",
       "       [-2.40953252e-02],\n",
       "       [ 5.77738384e-02],\n",
       "       [ 8.43341191e-02],\n",
       "       [ 1.04019481e-01],\n",
       "       [-3.37614834e-02],\n",
       "       [-2.41168240e-02],\n",
       "       [ 1.31428623e-03],\n",
       "       [-1.04052351e-03],\n",
       "       [-2.14100947e-02],\n",
       "       [ 5.03493822e-03],\n",
       "       [-5.47622884e-03],\n",
       "       [ 6.21271366e-02],\n",
       "       [-2.91943447e-02],\n",
       "       [-2.32474375e-02],\n",
       "       [ 3.30017529e-02],\n",
       "       [ 3.59042838e-02],\n",
       "       [-5.50648865e-02],\n",
       "       [-5.94491942e-02],\n",
       "       [-1.35042245e-02],\n",
       "       [-2.75534531e-02],\n",
       "       [-1.23890983e-02],\n",
       "       [ 6.99113794e-02],\n",
       "       [-2.68588752e-02],\n",
       "       [-5.81960946e-02],\n",
       "       [-5.63096865e-02],\n",
       "       [ 2.21968996e-02],\n",
       "       [-9.57150815e-02],\n",
       "       [ 4.20433278e-04],\n",
       "       [-5.27313650e-02],\n",
       "       [-3.61496486e-02],\n",
       "       [ 4.49570776e-02],\n",
       "       [ 9.46626970e-02],\n",
       "       [ 9.43418702e-03],\n",
       "       [-1.02213641e-01],\n",
       "       [ 8.52442783e-02],\n",
       "       [ 3.91614975e-02],\n",
       "       [-6.23062100e-03],\n",
       "       [-1.02507154e-02],\n",
       "       [-4.77427276e-02],\n",
       "       [ 5.38011750e-03],\n",
       "       [ 3.90607483e-02],\n",
       "       [ 2.62744517e-02],\n",
       "       [ 4.16534711e-02],\n",
       "       [-2.77288116e-02],\n",
       "       [-6.32376821e-02],\n",
       "       [-4.95167297e-02],\n",
       "       [-5.82081654e-02],\n",
       "       [-8.19019235e-02],\n",
       "       [-1.14226846e-01],\n",
       "       [-1.22299947e-02],\n",
       "       [ 7.62474578e-03],\n",
       "       [ 3.87188979e-02],\n",
       "       [-5.52962251e-02],\n",
       "       [-5.05669005e-02],\n",
       "       [-7.59890038e-02],\n",
       "       [-3.70511870e-02],\n",
       "       [-1.68968282e-02],\n",
       "       [-2.37912195e-02],\n",
       "       [ 3.24301811e-02],\n",
       "       [ 4.70050581e-02],\n",
       "       [ 1.27492185e-02],\n",
       "       [-9.79213650e-02],\n",
       "       [ 4.34533740e-02],\n",
       "       [ 4.79656785e-02],\n",
       "       [-1.00200286e-02],\n",
       "       [-5.80258819e-02],\n",
       "       [-4.22020275e-02],\n",
       "       [ 3.73204487e-02],\n",
       "       [-7.93575528e-03],\n",
       "       [ 1.03757324e-03],\n",
       "       [ 2.63750254e-02],\n",
       "       [ 2.51718414e-02],\n",
       "       [-1.75497836e-02],\n",
       "       [-3.55624084e-02],\n",
       "       [-5.81307390e-02],\n",
       "       [-1.08714502e-02],\n",
       "       [-7.70940206e-02],\n",
       "       [-7.28285299e-03],\n",
       "       [-2.62548536e-02],\n",
       "       [-5.41980096e-02],\n",
       "       [-5.75341186e-02],\n",
       "       [-4.96358358e-02],\n",
       "       [-3.92886944e-02],\n",
       "       [-3.11391994e-02],\n",
       "       [ 1.45130901e-02],\n",
       "       [ 1.09356531e-03],\n",
       "       [ 1.90630901e-02],\n",
       "       [ 6.92860719e-02],\n",
       "       [-3.29651606e-02],\n",
       "       [-7.06319992e-02],\n",
       "       [-4.72531228e-03],\n",
       "       [ 8.34737258e-03],\n",
       "       [ 7.15087511e-03],\n",
       "       [-1.20273966e-03],\n",
       "       [-5.30710501e-02],\n",
       "       [ 9.85839102e-03],\n",
       "       [ 8.09677791e-03],\n",
       "       [-6.55372245e-03],\n",
       "       [-3.20536366e-02],\n",
       "       [ 4.68304293e-02],\n",
       "       [-4.07197407e-02],\n",
       "       [ 1.87908232e-03],\n",
       "       [-8.32136856e-02],\n",
       "       [-3.35603002e-02],\n",
       "       [-9.48405083e-02],\n",
       "       [-1.47388088e-02],\n",
       "       [ 1.47178012e-02],\n",
       "       [-7.51498351e-02],\n",
       "       [-4.92107323e-02],\n",
       "       [-2.58065541e-02],\n",
       "       [ 1.28848482e-04],\n",
       "       [-1.33827400e-03],\n",
       "       [ 5.58796462e-02],\n",
       "       [-2.19030231e-02],\n",
       "       [-2.48963091e-02],\n",
       "       [ 6.67829146e-02],\n",
       "       [-8.62117662e-02],\n",
       "       [ 5.12109179e-03],\n",
       "       [ 2.09586263e-02],\n",
       "       [-2.22985164e-02],\n",
       "       [ 1.46205428e-02],\n",
       "       [ 1.46265557e-02],\n",
       "       [-1.16887070e-02],\n",
       "       [-3.73121507e-02],\n",
       "       [-2.15364756e-02],\n",
       "       [ 7.66802127e-02],\n",
       "       [ 1.13854451e-02],\n",
       "       [-1.08861182e-02],\n",
       "       [-4.56854485e-02],\n",
       "       [-2.58569251e-02],\n",
       "       [ 2.99392048e-03],\n",
       "       [-2.90445207e-02],\n",
       "       [-4.51456470e-02],\n",
       "       [-2.30639427e-02],\n",
       "       [ 3.11387448e-03],\n",
       "       [-2.82714662e-02],\n",
       "       [-1.06033788e-01],\n",
       "       [-5.09692153e-02],\n",
       "       [-5.99195686e-02],\n",
       "       [ 3.96962672e-03],\n",
       "       [ 5.70598066e-02],\n",
       "       [ 1.41897359e-02],\n",
       "       [ 3.66637818e-03],\n",
       "       [ 8.83430621e-02],\n",
       "       [-9.98799444e-04],\n",
       "       [ 1.00866900e-02],\n",
       "       [ 1.24433252e-02],\n",
       "       [-1.79003348e-02],\n",
       "       [-6.93376150e-04],\n",
       "       [ 5.15738071e-03],\n",
       "       [ 1.50837585e-02],\n",
       "       [ 1.14568551e-02],\n",
       "       [ 3.85878299e-03],\n",
       "       [-1.98780466e-02],\n",
       "       [ 2.86267624e-02],\n",
       "       [-1.60008964e-02],\n",
       "       [ 1.85313126e-02],\n",
       "       [-4.24771159e-02],\n",
       "       [-7.16770332e-02],\n",
       "       [-7.75590772e-05],\n",
       "       [ 1.61648757e-02],\n",
       "       [ 4.91573010e-02],\n",
       "       [ 2.62402353e-03],\n",
       "       [-4.14102227e-05],\n",
       "       [-8.02528099e-02],\n",
       "       [-3.19422839e-02],\n",
       "       [-2.96267464e-02],\n",
       "       [-7.66519106e-03],\n",
       "       [ 3.34150716e-02],\n",
       "       [-3.33369381e-02],\n",
       "       [-1.78293282e-02],\n",
       "       [-3.44982326e-02],\n",
       "       [-6.50343260e-02],\n",
       "       [-3.69528565e-02],\n",
       "       [ 2.98474833e-02],\n",
       "       [ 3.02717917e-02],\n",
       "       [ 9.36153266e-02],\n",
       "       [ 5.85084689e-02],\n",
       "       [-7.49577530e-03],\n",
       "       [ 1.33520985e-02],\n",
       "       [ 7.06062312e-02],\n",
       "       [ 4.58000717e-03],\n",
       "       [ 3.02434384e-03],\n",
       "       [ 5.52997713e-02],\n",
       "       [ 9.58011521e-02],\n",
       "       [-1.94024936e-02],\n",
       "       [ 3.18442830e-02],\n",
       "       [ 4.90820534e-02],\n",
       "       [-2.63938391e-02],\n",
       "       [ 2.16912966e-02],\n",
       "       [-4.53665082e-02],\n",
       "       [-2.93123982e-02],\n",
       "       [-5.10452204e-02],\n",
       "       [-3.86250127e-02],\n",
       "       [-1.11989610e-02],\n",
       "       [ 3.58079848e-03],\n",
       "       [ 4.75799188e-02],\n",
       "       [ 3.42111339e-02],\n",
       "       [ 5.35068394e-02],\n",
       "       [ 4.17197099e-02],\n",
       "       [ 8.40814720e-02],\n",
       "       [ 3.45206888e-02],\n",
       "       [ 4.67930636e-02],\n",
       "       [ 1.23167172e-02],\n",
       "       [-9.52079310e-05],\n",
       "       [-4.65589776e-03],\n",
       "       [-3.53847526e-02],\n",
       "       [-3.71977295e-02],\n",
       "       [-2.41892136e-02],\n",
       "       [ 6.53978969e-05],\n",
       "       [ 1.42748147e-02],\n",
       "       [ 2.55130722e-03],\n",
       "       [-6.43883688e-02],\n",
       "       [-2.76944968e-02],\n",
       "       [ 6.07715642e-02],\n",
       "       [-2.12461969e-03],\n",
       "       [ 5.13188231e-02],\n",
       "       [ 6.72280025e-02],\n",
       "       [ 3.20284675e-02],\n",
       "       [ 8.12569155e-02],\n",
       "       [-9.09719015e-02],\n",
       "       [-1.12771998e-01],\n",
       "       [-6.51741227e-02],\n",
       "       [ 2.98634471e-03],\n",
       "       [ 1.38552254e-02],\n",
       "       [-4.31946073e-02],\n",
       "       [-1.57075604e-02],\n",
       "       [ 2.07060922e-04],\n",
       "       [ 5.00121211e-02],\n",
       "       [ 1.80101278e-02],\n",
       "       [ 3.34419306e-02],\n",
       "       [ 4.09276559e-02],\n",
       "       [-3.91119018e-03],\n",
       "       [-1.83123288e-02],\n",
       "       [ 2.78620433e-02],\n",
       "       [ 5.80396183e-02],\n",
       "       [ 4.15359404e-03],\n",
       "       [-4.11075128e-02],\n",
       "       [ 5.81315619e-02],\n",
       "       [ 1.46327876e-02],\n",
       "       [-4.66716310e-02],\n",
       "       [ 8.49829717e-02],\n",
       "       [ 1.09385710e-01],\n",
       "       [ 6.18865566e-02],\n",
       "       [ 9.33705643e-02],\n",
       "       [ 2.37546561e-02],\n",
       "       [ 7.91653065e-02],\n",
       "       [-3.68607052e-02],\n",
       "       [-8.76922692e-02],\n",
       "       [-9.65012554e-02],\n",
       "       [-5.41195436e-02],\n",
       "       [-4.07989929e-03],\n",
       "       [ 3.74935310e-02],\n",
       "       [ 1.64455114e-03],\n",
       "       [-1.09853983e-02],\n",
       "       [-2.86915376e-04],\n",
       "       [ 1.16001799e-02],\n",
       "       [ 3.59451044e-03],\n",
       "       [ 4.47943779e-02],\n",
       "       [ 7.11257489e-03],\n",
       "       [-2.74326234e-02],\n",
       "       [-1.89675146e-02],\n",
       "       [-5.37318939e-02],\n",
       "       [ 6.21022047e-03],\n",
       "       [ 4.71796281e-02],\n",
       "       [-1.96922578e-02],\n",
       "       [-5.00675075e-02],\n",
       "       [-7.69972984e-03],\n",
       "       [ 6.45320890e-02],\n",
       "       [ 1.14362480e-01],\n",
       "       [ 8.39398508e-02],\n",
       "       [ 2.80460753e-02],\n",
       "       [ 1.14837684e-02],\n",
       "       [-3.30374560e-02],\n",
       "       [ 4.22584454e-02],\n",
       "       [-1.63917473e-02],\n",
       "       [-4.02047360e-02],\n",
       "       [-3.24055334e-02],\n",
       "       [-3.47973496e-02],\n",
       "       [ 5.65413175e-03],\n",
       "       [ 3.41268053e-02],\n",
       "       [ 2.25873454e-02],\n",
       "       [-1.66331436e-02],\n",
       "       [-1.71327540e-02],\n",
       "       [ 2.27952296e-02],\n",
       "       [ 9.29511896e-03],\n",
       "       [ 4.98940639e-02],\n",
       "       [-9.21968772e-03],\n",
       "       [-1.10564153e-02],\n",
       "       [ 1.20170045e-02],\n",
       "       [-3.12718918e-02],\n",
       "       [-4.35774839e-02],\n",
       "       [ 1.78703101e-02],\n",
       "       [ 3.32993010e-02],\n",
       "       [-7.12272313e-02],\n",
       "       [-1.36899729e-02],\n",
       "       [ 1.10823260e-01],\n",
       "       [ 8.29326823e-02],\n",
       "       [ 6.92537012e-02],\n",
       "       [ 4.82904621e-02],\n",
       "       [ 5.44945299e-02],\n",
       "       [ 1.76604644e-02],\n",
       "       [ 3.98697803e-02],\n",
       "       [-3.01393720e-02],\n",
       "       [-5.04080746e-02],\n",
       "       [-4.27106878e-02],\n",
       "       [-4.50691549e-02],\n",
       "       [ 1.88424898e-04],\n",
       "       [ 2.29404258e-02],\n",
       "       [ 1.40117181e-02],\n",
       "       [-2.78513403e-02],\n",
       "       [-2.86099750e-02],\n",
       "       [-1.43115820e-02],\n",
       "       [-6.18575815e-02],\n",
       "       [-3.03554186e-02],\n",
       "       [-8.26560169e-03],\n",
       "       [-6.46112925e-02],\n",
       "       [ 2.77350652e-03],\n",
       "       [-5.64154994e-03],\n",
       "       [-3.50413226e-02],\n",
       "       [-2.44709086e-02],\n",
       "       [-2.10014223e-02],\n",
       "       [-7.30113874e-02],\n",
       "       [ 8.60999415e-02],\n",
       "       [ 1.50079048e-01],\n",
       "       [ 9.09450681e-02],\n",
       "       [ 5.35185986e-02],\n",
       "       [ 7.70769760e-02],\n",
       "       [ 7.01193315e-02],\n",
       "       [ 6.93512751e-02],\n",
       "       [ 3.65584798e-02],\n",
       "       [-3.79551833e-02],\n",
       "       [-4.58230711e-02],\n",
       "       [-2.78526819e-02],\n",
       "       [-3.44794290e-02],\n",
       "       [-1.08132383e-03],\n",
       "       [-1.14086711e-04],\n",
       "       [-4.91641444e-06],\n",
       "       [-9.07601495e-03],\n",
       "       [-4.74222112e-02],\n",
       "       [-4.00313995e-02],\n",
       "       [-4.73848057e-02],\n",
       "       [-1.03441428e-02],\n",
       "       [-5.07735898e-02],\n",
       "       [-3.84814718e-03],\n",
       "       [-1.01670742e-02],\n",
       "       [-5.31400616e-02],\n",
       "       [-4.08761304e-02],\n",
       "       [-4.99062085e-02],\n",
       "       [-1.65724249e-02],\n",
       "       [ 3.10298864e-02],\n",
       "       [ 9.43076245e-02],\n",
       "       [ 1.17821402e-01],\n",
       "       [ 6.69545421e-02],\n",
       "       [ 4.58140343e-02],\n",
       "       [ 8.20031575e-02],\n",
       "       [ 8.11824566e-05],\n",
       "       [ 1.73602797e-02],\n",
       "       [ 1.11330571e-02],\n",
       "       [-9.48480033e-02],\n",
       "       [-5.88426277e-02],\n",
       "       [-6.90827506e-03],\n",
       "       [-1.97461804e-02],\n",
       "       [-8.77666631e-04],\n",
       "       [-2.28173422e-04],\n",
       "       [ 1.01360653e-03],\n",
       "       [ 3.75192104e-03],\n",
       "       [-2.82700558e-03],\n",
       "       [-9.66852585e-03],\n",
       "       [-1.56139737e-02],\n",
       "       [ 3.05594954e-02],\n",
       "       [ 3.12871857e-02],\n",
       "       [ 2.06828111e-02],\n",
       "       [-4.11062981e-02],\n",
       "       [-5.98665508e-02],\n",
       "       [-5.35394999e-02],\n",
       "       [-1.33751529e-02],\n",
       "       [ 2.77362289e-02],\n",
       "       [ 6.12957860e-02],\n",
       "       [ 7.04664272e-02],\n",
       "       [ 6.40503112e-02],\n",
       "       [ 6.40342324e-02],\n",
       "       [ 5.40581427e-02],\n",
       "       [ 1.88483537e-02],\n",
       "       [ 1.32836064e-02],\n",
       "       [-3.86255479e-02],\n",
       "       [-1.09317091e-02],\n",
       "       [-6.19788879e-02],\n",
       "       [-2.39086694e-02],\n",
       "       [ 4.42940488e-03],\n",
       "       [ 3.81625551e-03],\n",
       "       [ 0.00000000e+00]])"
      ]
     },
     "execution_count": 36,
     "metadata": {},
     "output_type": "execute_result"
    }
   ],
   "source": [
    "BiSVM_model.w"
   ]
  },
  {
   "cell_type": "code",
   "execution_count": 37,
   "metadata": {
    "colab": {},
    "colab_type": "code",
    "id": "3IOg4gmptmPG"
   },
   "outputs": [],
   "source": [
    "bisvm_parameter = BiSVM_model.getParameters()"
   ]
  },
  {
   "cell_type": "code",
   "execution_count": 38,
   "metadata": {
    "colab": {
     "base_uri": "https://localhost:8080/",
     "height": 34
    },
    "colab_type": "code",
    "id": "rqglszmFuUp7",
    "outputId": "fab431bc-34c3-47bc-e9e2-8dc99442c5da"
   },
   "outputs": [
    {
     "name": "stderr",
     "output_type": "stream",
     "text": [
      "100%|██████████| 4500/4500 [00:26<00:00, 168.42it/s]"
     ]
    },
    {
     "name": "stdout",
     "output_type": "stream",
     "text": [
      "Time taken = 26.721782445907593 sec\n"
     ]
    },
    {
     "name": "stderr",
     "output_type": "stream",
     "text": [
      "\n"
     ]
    }
   ],
   "source": [
    "start_time = time.time()\n",
    "predicted_train =  BiSVM_model.predict(train_x)\n",
    "print(f\"Time taken = {time.time() - start_time} sec\")"
   ]
  },
  {
   "cell_type": "code",
   "execution_count": 39,
   "metadata": {
    "colab": {},
    "colab_type": "code",
    "id": "EsBlENxwv-Nr"
   },
   "outputs": [],
   "source": [
    "train_acc = calculateAccuracy(predicted_train, train_y)"
   ]
  },
  {
   "cell_type": "code",
   "execution_count": 40,
   "metadata": {
    "colab": {},
    "colab_type": "code",
    "id": "x0oA7YfZ3jOJ"
   },
   "outputs": [],
   "source": [
    "train_f1 = f1_score(train_y, predicted_train, pos_label=c2)"
   ]
  },
  {
   "cell_type": "code",
   "execution_count": 41,
   "metadata": {
    "colab": {
     "base_uri": "https://localhost:8080/",
     "height": 51
    },
    "colab_type": "code",
    "id": "unps7Biv3rtC",
    "outputId": "22d30cfa-8ffe-40e0-fefb-f129bd37cba2"
   },
   "outputs": [
    {
     "name": "stdout",
     "output_type": "stream",
     "text": [
      "Train Accuracy: 1.0\n",
      "Train F1 score: 1.0\n"
     ]
    }
   ],
   "source": [
    "print(f\"Train Accuracy:\", train_acc)\n",
    "print(f\"Train F1 score:\", train_f1)"
   ]
  },
  {
   "cell_type": "code",
   "execution_count": 59,
   "metadata": {
    "colab": {
     "base_uri": "https://localhost:8080/",
     "height": 295
    },
    "colab_type": "code",
    "id": "chgZChSQ0CSd",
    "outputId": "c28272d9-2cd2-4c33-9617-d77eb5c20074"
   },
   "outputs": [
    {
     "data": {
      "image/png": "[encoded data removed]",
      "text/plain": [
       "<Figure size 432x288 with 2 Axes>"
      ]
     },
     "metadata": {},
     "output_type": "display_data"
    }
   ],
   "source": [
    "plot_cm(train_y.astype(int), predicted_train.astype(int), labels=[6,5], title=\"5 vs 6 on Train\")"
   ]
  },
  {
   "cell_type": "code",
   "execution_count": null,
   "metadata": {
    "colab": {},
    "colab_type": "code",
    "id": "Ucz0lFhhSngb"
   },
   "outputs": [],
   "source": [
    "#validation"
   ]
  },
  {
   "cell_type": "code",
   "execution_count": 52,
   "metadata": {
    "colab": {
     "base_uri": "https://localhost:8080/",
     "height": 34
    },
    "colab_type": "code",
    "id": "xd-OQrS6xKEV",
    "outputId": "efa49d95-3ef1-4a2a-a0fd-aaecf0a2cfa6"
   },
   "outputs": [
    {
     "name": "stderr",
     "output_type": "stream",
     "text": [
      "100%|██████████| 500/500 [00:03<00:00, 165.98it/s]"
     ]
    },
    {
     "name": "stdout",
     "output_type": "stream",
     "text": [
      "Time taken = 3.0142338275909424 sec\n"
     ]
    },
    {
     "name": "stderr",
     "output_type": "stream",
     "text": [
      "\n"
     ]
    }
   ],
   "source": [
    "start_time = time.time()\n",
    "predicted_val = BiSVM_model.predict(val_x)\n",
    "print(f\"Time taken = {time.time() - start_time} sec\")"
   ]
  },
  {
   "cell_type": "code",
   "execution_count": 53,
   "metadata": {
    "colab": {},
    "colab_type": "code",
    "id": "kFC3UtlNx8OX"
   },
   "outputs": [],
   "source": [
    "val_acc = calculateAccuracy(predicted_val, val_y)"
   ]
  },
  {
   "cell_type": "code",
   "execution_count": 54,
   "metadata": {
    "colab": {},
    "colab_type": "code",
    "id": "3Sz1F0ROyQXH"
   },
   "outputs": [],
   "source": [
    "val_f1 = f1_score(val_y, predicted_val, pos_label=c1)"
   ]
  },
  {
   "cell_type": "code",
   "execution_count": 55,
   "metadata": {
    "colab": {
     "base_uri": "https://localhost:8080/",
     "height": 51
    },
    "colab_type": "code",
    "id": "9sMndEEPTd96",
    "outputId": "4d026a43-9b5a-4ba5-828c-1062b2869676"
   },
   "outputs": [
    {
     "name": "stdout",
     "output_type": "stream",
     "text": [
      "Val Accuracy: 0.998\n",
      "Val F1 score: 0.9979959919839679\n"
     ]
    }
   ],
   "source": [
    "print(f\"Val Accuracy:\", val_acc)\n",
    "print(f\"Val F1 score:\", val_f1)"
   ]
  },
  {
   "cell_type": "code",
   "execution_count": 60,
   "metadata": {
    "colab": {
     "base_uri": "https://localhost:8080/",
     "height": 301
    },
    "colab_type": "code",
    "id": "galCJdnjTjuV",
    "outputId": "4caf9ffe-374c-4e6c-9c52-62ab23e6f8fe"
   },
   "outputs": [
    {
     "data": {
      "image/png": "[encoded data removed]",
      "text/plain": [
       "<Figure size 432x288 with 2 Axes>"
      ]
     },
     "metadata": {},
     "output_type": "display_data"
    }
   ],
   "source": [
    "plot_cm(val_y.astype(int), predicted_val.astype(int), labels=[c2,c1],  title=\"5 vs 6 on Val\")"
   ]
  },
  {
   "cell_type": "code",
   "execution_count": null,
   "metadata": {
    "colab": {},
    "colab_type": "code",
    "id": "pdGn-fAVTkPU"
   },
   "outputs": [],
   "source": [
    "# test"
   ]
  },
  {
   "cell_type": "code",
   "execution_count": null,
   "metadata": {
    "colab": {},
    "colab_type": "code",
    "id": "jF3k9mzNgSFY"
   },
   "outputs": [],
   "source": []
  },
  {
   "cell_type": "code",
   "execution_count": 61,
   "metadata": {
    "colab": {},
    "colab_type": "code",
    "id": "Jteo6UaFT-i8"
   },
   "outputs": [
    {
     "name": "stderr",
     "output_type": "stream",
     "text": [
      "100%|██████████| 1000/1000 [00:06<00:00, 165.68it/s]"
     ]
    },
    {
     "name": "stdout",
     "output_type": "stream",
     "text": [
      "Time taken = 6.037841081619263 sec\n"
     ]
    },
    {
     "name": "stderr",
     "output_type": "stream",
     "text": [
      "\n"
     ]
    }
   ],
   "source": [
    "start_time = time.time()\n",
    "predicted_test = BiSVM_model.predict(test_x)\n",
    "print(f\"Time taken = {time.time() - start_time} sec\")"
   ]
  },
  {
   "cell_type": "code",
   "execution_count": 62,
   "metadata": {
    "colab": {},
    "colab_type": "code",
    "id": "DDLlQR-IUETA"
   },
   "outputs": [],
   "source": [
    "test_acc = calculateAccuracy(predicted_test, test_y)"
   ]
  },
  {
   "cell_type": "code",
   "execution_count": 63,
   "metadata": {
    "colab": {},
    "colab_type": "code",
    "id": "lTRP9Fui7DvB"
   },
   "outputs": [],
   "source": [
    "test_f1 = f1_score(test_y, predicted_test, pos_label=c1)"
   ]
  },
  {
   "cell_type": "code",
   "execution_count": 120,
   "metadata": {},
   "outputs": [
    {
     "name": "stdout",
     "output_type": "stream",
     "text": [
      "Test Accuracy: 0.998\n",
      "Test F1 score: 0.9979959919839679\n"
     ]
    }
   ],
   "source": [
    "print(f\"Test Accuracy:\", val_acc)\n",
    "print(f\"Test F1 score:\", val_f1)"
   ]
  },
  {
   "cell_type": "code",
   "execution_count": 64,
   "metadata": {},
   "outputs": [
    {
     "data": {
      "image/png": "[encoded data removed]",
      "text/plain": [
       "<Figure size 432x288 with 2 Axes>"
      ]
     },
     "metadata": {},
     "output_type": "display_data"
    }
   ],
   "source": [
    "plot_cm(test_y.astype(int), predicted_test.astype(int), labels=[c2,c1],  title=\"5 vs 6 on Test\")"
   ]
  },
  {
   "cell_type": "code",
   "execution_count": null,
   "metadata": {},
   "outputs": [],
   "source": []
  },
  {
   "cell_type": "code",
   "execution_count": null,
   "metadata": {},
   "outputs": [],
   "source": []
  },
  {
   "cell_type": "markdown",
   "metadata": {
    "colab_type": "text",
    "id": "GEd5R3Bn7Ei3"
   },
   "source": [
    "## Linear SVM SKLearn"
   ]
  },
  {
   "cell_type": "code",
   "execution_count": null,
   "metadata": {},
   "outputs": [],
   "source": []
  },
  {
   "cell_type": "code",
   "execution_count": 65,
   "metadata": {
    "colab": {},
    "colab_type": "code",
    "id": "rnbN2NwJV__D"
   },
   "outputs": [],
   "source": [
    "# SKLearn"
   ]
  },
  {
   "cell_type": "code",
   "execution_count": 66,
   "metadata": {
    "colab": {
     "base_uri": "https://localhost:8080/",
     "height": 34
    },
    "colab_type": "code",
    "id": "24naz0O8XIBU",
    "outputId": "e19786b9-e25c-44d4-8be7-bdecbfca3755"
   },
   "outputs": [],
   "source": [
    "clf_linear_model = SVC(kernel=\"linear\")"
   ]
  },
  {
   "cell_type": "code",
   "execution_count": 67,
   "metadata": {
    "colab": {
     "base_uri": "https://localhost:8080/",
     "height": 88
    },
    "colab_type": "code",
    "id": "2Z9HgYNxm9LR",
    "outputId": "451557dc-f0b8-4822-dbe5-5ca67ce9ad93"
   },
   "outputs": [
    {
     "name": "stderr",
     "output_type": "stream",
     "text": [
      "/home/merajahmed/anaconda3/lib/python3.7/site-packages/sklearn/utils/validation.py:724: DataConversionWarning: A column-vector y was passed when a 1d array was expected. Please change the shape of y to (n_samples, ), for example using ravel().\n",
      "  y = column_or_1d(y, warn=True)\n"
     ]
    },
    {
     "name": "stdout",
     "output_type": "stream",
     "text": [
      "Time taken = 0.4044985771179199 sec\n"
     ]
    }
   ],
   "source": [
    "start_time = time.time()\n",
    "clf_linear_model.fit(train_x, train_y)\n",
    "print(f\"Time taken = {time.time() - start_time} sec\")"
   ]
  },
  {
   "cell_type": "code",
   "execution_count": 68,
   "metadata": {
    "colab": {
     "base_uri": "https://localhost:8080/",
     "height": 34
    },
    "colab_type": "code",
    "id": "fOMyn39vnEZi",
    "outputId": "61ed9b6b-b2aa-4de0-b858-2cc5ec13d063"
   },
   "outputs": [
    {
     "data": {
      "text/plain": [
       "array([-0.49029701])"
      ]
     },
     "execution_count": 68,
     "metadata": {},
     "output_type": "execute_result"
    }
   ],
   "source": [
    "clf_linear_model.intercept_"
   ]
  },
  {
   "cell_type": "code",
   "execution_count": 69,
   "metadata": {
    "colab": {
     "base_uri": "https://localhost:8080/",
     "height": 34
    },
    "colab_type": "code",
    "id": "aCLu0aYDnQYE",
    "outputId": "e9af8946-25f6-4dd5-94c7-3ae27894dd9c"
   },
   "outputs": [
    {
     "name": "stdout",
     "output_type": "stream",
     "text": [
      "SKLearn b [-0.49029701]\n"
     ]
    }
   ],
   "source": [
    "print(\"SKLearn b\", clf_linear_model.intercept_)"
   ]
  },
  {
   "cell_type": "code",
   "execution_count": 128,
   "metadata": {},
   "outputs": [
    {
     "data": {
      "text/plain": [
       "(1, 784)"
      ]
     },
     "execution_count": 128,
     "metadata": {},
     "output_type": "execute_result"
    }
   ],
   "source": [
    "clf_linear_model.coef_.shape"
   ]
  },
  {
   "cell_type": "code",
   "execution_count": 131,
   "metadata": {},
   "outputs": [],
   "source": [
    "w_diff = np.linalg.norm(clf_linear_model.coef_ - (BiSVM_model.w).reshape(1,-1))"
   ]
  },
  {
   "cell_type": "code",
   "execution_count": 132,
   "metadata": {},
   "outputs": [
    {
     "name": "stdout",
     "output_type": "stream",
     "text": [
      "Norm distance between w 0.0008548542758285319\n"
     ]
    }
   ],
   "source": [
    "print(\"Norm distance between w\", w_diff)"
   ]
  },
  {
   "cell_type": "code",
   "execution_count": 70,
   "metadata": {
    "colab": {
     "base_uri": "https://localhost:8080/",
     "height": 1000
    },
    "colab_type": "code",
    "id": "i9Cyi7EDvmaj",
    "outputId": "3954b805-c171-4934-d0fe-d9eb3aab4b9d"
   },
   "outputs": [
    {
     "name": "stdout",
     "output_type": "stream",
     "text": [
      "SKLearn w [[ 0.00000000e+00  0.00000000e+00  8.14655870e-04  4.07327935e-04\n",
      "   2.75429824e-03  7.39204991e-03  6.31396000e-03  1.77809297e-02\n",
      "   4.82158760e-02  2.55387815e-02  3.81927421e-02  1.32365117e-01\n",
      "   7.42228073e-02  1.31566402e-01  1.54549375e-01  1.34006424e-01\n",
      "   7.69225545e-02  3.40269244e-02  1.21603267e-02 -1.23953066e-02\n",
      "   3.23079776e-02 -2.56100248e-02 -1.57920201e-02  1.13826318e-02\n",
      "  -1.73996638e-05  0.00000000e+00  0.00000000e+00  0.00000000e+00\n",
      "   0.00000000e+00  0.00000000e+00  0.00000000e+00  0.00000000e+00\n",
      "   3.17386205e-03  3.39477723e-02  5.32374582e-02  7.15180426e-02\n",
      "   6.80603343e-02  9.84392131e-02  7.78393153e-02  1.23828573e-01\n",
      "   2.05341902e-01  2.05785517e-01  1.71152287e-01  2.97258176e-01\n",
      "   5.78978019e-02 -2.03615457e-02 -6.88319822e-02 -2.97549603e-02\n",
      "  -4.82639496e-02 -9.40746212e-02 -3.60782900e-02  1.47226748e-02\n",
      "   9.97015437e-06  5.30386500e-04 -8.29292344e-05  0.00000000e+00\n",
      "   6.00285634e-05  0.00000000e+00  3.46228745e-03  2.85129555e-03\n",
      "   4.24608066e-03  1.59121700e-02  8.16358947e-02  1.03047769e-01\n",
      "   1.01193274e-01  1.01994432e-01  5.21281085e-02  2.50152676e-02\n",
      "   1.29905471e-01  1.14058432e-01  1.46401622e-01  1.68524027e-01\n",
      "   9.64263916e-02  3.37176119e-02 -3.07842245e-03  4.77249330e-02\n",
      "  -7.34587334e-03 -7.23089792e-02 -5.51889238e-02 -6.53845362e-02\n",
      "  -4.01065414e-02 -1.20589051e-02 -1.14496277e-03  0.00000000e+00\n",
      "   6.00285634e-05  6.00285634e-05  4.88793522e-03  6.15755591e-03\n",
      "   6.56189049e-03  4.66230646e-02  9.48046189e-02  1.00220718e-01\n",
      "   8.06529275e-02  8.17028486e-02  6.91311891e-02  1.92768133e-02\n",
      "   5.46459931e-02  1.23175690e-01  2.01791883e-01  1.35406579e-01\n",
      "   2.04464168e-02  4.77626923e-03  7.92568202e-02  4.27128840e-02\n",
      "   3.69163143e-02 -5.61205444e-02 -6.59346306e-02 -1.03594079e-01\n",
      "  -2.34242882e-02 -2.02157704e-02 -2.72654457e-03 -7.22493257e-04\n",
      "   0.00000000e+00  1.42564777e-03  6.31358299e-03  3.59718676e-03\n",
      "   8.57342003e-03  4.56205389e-02  8.00117460e-02  1.06352796e-01\n",
      "   7.89206244e-02  8.50732624e-02  7.92289705e-02  6.41250218e-02\n",
      "   6.74201702e-02  4.86488277e-02  2.02979437e-02  3.76611105e-02\n",
      "   4.86974678e-02  2.99905820e-03 -1.90180284e-02 -4.34787966e-02\n",
      "  -5.41944874e-02 -6.03309417e-02 -5.77685002e-02 -8.05005393e-02\n",
      "  -1.56424233e-02  3.50965979e-02 -6.49651557e-03 -1.90823606e-04\n",
      "   6.00285634e-05  1.83297571e-03  5.85155753e-03  9.19749448e-04\n",
      "   2.41691995e-02  7.31100038e-02  9.83763290e-02  1.50845563e-01\n",
      "   1.09538927e-01  9.05876217e-02  7.44002043e-02  3.14179215e-02\n",
      "   3.37668890e-02  5.65572852e-02 -5.32337157e-04  4.33224851e-02\n",
      "   9.21919991e-02  1.01447212e-02 -3.23466667e-02 -2.58991599e-02\n",
      "  -2.23926528e-03 -6.15404133e-02 -4.11744308e-02  3.41301292e-03\n",
      "  -1.23938425e-02  2.80039064e-02 -7.17638418e-03 -1.06456447e-04\n",
      "   6.00285634e-05  1.46746299e-03  3.98106163e-03  1.15991582e-02\n",
      "   5.26808230e-02  8.85224901e-02  1.09691699e-01  1.75384047e-01\n",
      "   1.54539301e-01  1.32196993e-01  1.30098131e-01  9.67353934e-02\n",
      "   9.13404460e-02  9.47807840e-02  3.09853054e-04 -2.27930063e-02\n",
      "  -3.12955466e-02 -5.84153351e-02 -1.60362041e-02  1.83670897e-03\n",
      "  -3.52302797e-02 -6.02249063e-02 -1.77328276e-02 -2.06952620e-02\n",
      "  -1.17962405e-02  1.60466993e-02  1.40440720e-02 -9.10090176e-05\n",
      "   2.52949651e-03  1.76101077e-02  9.44635372e-03  3.59746187e-02\n",
      "   1.03045067e-01  1.19901058e-01  1.27020579e-01  2.37612321e-01\n",
      "   2.36465803e-01  1.69670038e-01  1.65657927e-01  5.51462779e-02\n",
      "   3.36017738e-02  3.60177207e-02  1.95643127e-02  2.72742233e-02\n",
      "   3.84489765e-02  1.29737922e-03  8.45119552e-02  3.62414636e-02\n",
      "   2.61693191e-02  2.18964696e-02 -3.44370746e-02 -6.25444561e-02\n",
      "  -2.21639212e-02 -1.65496299e-02  3.73564771e-02  1.41530159e-03\n",
      "   1.46068474e-02  3.24455176e-02  4.55291654e-02  6.25314176e-02\n",
      "   1.04969635e-01  1.49231674e-01  1.48098931e-01  2.45915418e-01\n",
      "   2.05279490e-01  1.42679047e-01  1.60144729e-01  7.25520135e-02\n",
      "   5.35931136e-03 -3.05742116e-02 -2.68970761e-02  1.95674433e-02\n",
      "   2.06219923e-02 -3.58659213e-02  1.92939817e-02 -1.95806570e-02\n",
      "  -2.72780663e-02 -1.59010565e-02 -7.55902651e-02 -5.39103800e-02\n",
      "  -2.74757600e-02 -2.46806688e-02  4.72654247e-02  3.80176805e-03\n",
      "   5.38425259e-03  1.61182926e-02  3.80756310e-02  4.66442142e-02\n",
      "   8.13028275e-02  1.26626370e-01  1.62535416e-01  1.97173031e-01\n",
      "   1.99619442e-01  1.14761938e-01  3.64091033e-02 -1.32899807e-03\n",
      "  -1.77722767e-02  6.47893908e-03 -1.56031356e-02 -8.83449275e-02\n",
      "  -8.41014366e-02 -4.60990829e-02 -5.13026518e-02 -9.86836162e-03\n",
      "   5.40326491e-02 -4.43229493e-02 -3.94715058e-02 -7.48810317e-02\n",
      "  -5.08486800e-02 -4.61301323e-02  1.87432831e-02  1.32417032e-02\n",
      "   2.82529936e-02  6.11756867e-02  8.47491146e-02  1.51393560e-01\n",
      "   1.72615182e-01  8.18207213e-02  1.07241333e-01  1.80123624e-01\n",
      "   1.30858068e-01  4.61497944e-02  1.13982730e-01 -3.16616189e-02\n",
      "   4.52441681e-03  7.68962556e-02  8.25484943e-02  3.84751055e-02\n",
      "  -3.50248372e-02 -7.31092366e-02 -5.09756068e-02  7.68697565e-03\n",
      "   6.89189903e-02 -7.77270273e-03  4.92569699e-02 -7.44867634e-03\n",
      "  -6.27426239e-02 -8.16763762e-02 -2.62036343e-02  1.04811754e-02\n",
      "   2.13917755e-02  8.74067188e-02  1.16289541e-01  1.71813957e-01\n",
      "   1.43526308e-01  8.52745105e-02  4.11304452e-02  7.36978554e-02\n",
      "   3.95756168e-02 -6.84195340e-02 -1.69956231e-02 -5.30493487e-02\n",
      "  -3.34120531e-02 -9.61588359e-03  2.52708786e-02  1.65450936e-02\n",
      "   3.42279596e-02 -7.18654063e-03 -6.01819769e-02  3.21740504e-03\n",
      "  -2.06891973e-02 -4.92985067e-02 -9.15550527e-03 -2.08466595e-02\n",
      "  -1.37835268e-02 -1.05018691e-01 -4.09617092e-02 -6.52798694e-03\n",
      "   1.19987963e-02  2.98017616e-02  5.64497786e-02  6.85983065e-02\n",
      "   3.46154354e-02  6.58335153e-02 -2.11314362e-02 -1.62343550e-02\n",
      "   3.45534872e-02 -4.74444443e-02 -5.01170206e-02 -5.81231100e-02\n",
      "  -8.00513716e-02 -6.86998859e-02 -9.82764350e-03 -1.76462656e-02\n",
      "   2.98305626e-03 -1.70622505e-02 -1.29941162e-01 -3.13580276e-02\n",
      "   7.03897387e-03 -6.34342715e-02 -2.09179550e-02 -8.00408423e-02\n",
      "  -1.28834717e-02 -8.44416929e-02 -7.04921903e-02  1.53329411e-03\n",
      "  -4.04023698e-04 -7.78594750e-04  3.63012937e-02 -1.01600340e-02\n",
      "  -6.10551381e-02 -5.83344904e-03  1.35248932e-02 -1.00100260e-02\n",
      "   2.29456293e-02 -5.41535519e-02 -5.73452598e-02  2.93374015e-02\n",
      "  -2.61454918e-02  1.91751013e-02 -6.09837394e-03 -1.68341467e-02\n",
      "  -3.47491711e-02 -9.03402215e-02 -7.40961182e-02  2.30709097e-02\n",
      "   3.95049036e-02  5.99076063e-02 -2.45689668e-02 -4.69414396e-02\n",
      "   4.15802448e-03  3.36774249e-02 -8.26098152e-02  7.10237204e-03\n",
      "  -2.41187171e-02  5.77658157e-02  8.43195853e-02  1.03994546e-01\n",
      "  -3.37862597e-02 -2.41831551e-02  1.25426979e-03 -1.13137122e-03\n",
      "  -2.15026130e-02  4.98033990e-03 -5.45295144e-03  6.21560725e-02\n",
      "  -2.93008840e-02 -2.32021692e-02  3.30011248e-02  3.59581222e-02\n",
      "  -5.50657710e-02 -5.94431688e-02 -1.35403280e-02 -2.75751593e-02\n",
      "  -1.23665985e-02  6.98891292e-02 -2.68793526e-02 -5.81740738e-02\n",
      "  -5.62594724e-02  2.22011898e-02 -9.56703122e-02  4.08357041e-04\n",
      "  -5.26664385e-02 -3.61365604e-02  4.49866373e-02  9.47206982e-02\n",
      "   9.50897793e-03 -1.02204833e-01  8.52712986e-02  3.91661038e-02\n",
      "  -6.22160974e-03 -1.01789978e-02 -4.77225006e-02  5.40966010e-03\n",
      "   3.90324591e-02  2.62891862e-02  4.16790750e-02 -2.77491249e-02\n",
      "  -6.32646057e-02 -4.95681514e-02 -5.82698696e-02 -8.19417099e-02\n",
      "  -1.14237113e-01 -1.22425989e-02  7.56889948e-03  3.86443546e-02\n",
      "  -5.52948687e-02 -5.06149968e-02 -7.60691791e-02 -3.71073461e-02\n",
      "  -1.68595591e-02 -2.37182503e-02  3.24917959e-02  4.70407661e-02\n",
      "   1.27652757e-02 -9.79610779e-02  4.35016500e-02  4.79940712e-02\n",
      "  -9.97311116e-03 -5.80230942e-02 -4.22151156e-02  3.72598768e-02\n",
      "  -7.92737357e-03  1.02158809e-03  2.63606721e-02  2.51485234e-02\n",
      "  -1.75480248e-02 -3.55425557e-02 -5.81156220e-02 -1.08599942e-02\n",
      "  -7.71101633e-02 -7.31132146e-03 -2.63110888e-02 -5.42561743e-02\n",
      "  -5.74816798e-02 -4.95908195e-02 -3.92991070e-02 -3.11433803e-02\n",
      "   1.44862852e-02  1.05671844e-03  1.90678941e-02  6.92652037e-02\n",
      "  -3.29639850e-02 -7.06990176e-02 -4.66062436e-03  8.44760984e-03\n",
      "   7.19255651e-03 -1.24704478e-03 -5.30623476e-02  9.83812510e-03\n",
      "   8.06593190e-03 -6.57972467e-03 -3.20216775e-02  4.68726983e-02\n",
      "  -4.07120015e-02  1.94200116e-03 -8.31707579e-02 -3.35564210e-02\n",
      "  -9.48350267e-02 -1.47043632e-02  1.47622262e-02 -7.51272141e-02\n",
      "  -4.91734186e-02 -2.58028705e-02  1.98118762e-04 -1.31588037e-03\n",
      "   5.58749850e-02 -2.19132813e-02 -2.48851792e-02  6.67139489e-02\n",
      "  -8.61747476e-02  5.12924004e-03  2.09596681e-02 -2.23360357e-02\n",
      "   1.45968928e-02  1.46069381e-02 -1.16544613e-02 -3.72953373e-02\n",
      "  -2.15523781e-02  7.66567066e-02  1.13310131e-02 -1.09540738e-02\n",
      "  -4.57323214e-02 -2.59150884e-02  3.02089795e-03 -2.90248245e-02\n",
      "  -4.51662574e-02 -2.30700125e-02  3.14071791e-03 -2.82778997e-02\n",
      "  -1.06050572e-01 -5.10131817e-02 -5.99159052e-02  3.96790977e-03\n",
      "   5.70393593e-02  1.41670346e-02  3.68488067e-03  8.83617909e-02\n",
      "  -9.36772893e-04  1.00975409e-02  1.24651876e-02 -1.79019205e-02\n",
      "  -6.77614837e-04  5.14809856e-03  1.50935894e-02  1.14459758e-02\n",
      "   3.84562452e-03 -1.98880728e-02  2.85965318e-02 -1.59817559e-02\n",
      "   1.85097887e-02 -4.24623277e-02 -7.16364828e-02 -7.83933407e-05\n",
      "   1.61405304e-02  4.91145839e-02  2.56121060e-03 -5.77261672e-05\n",
      "  -8.02590587e-02 -3.19213027e-02 -2.96240432e-02 -7.63769362e-03\n",
      "   3.33970797e-02 -3.33624623e-02 -1.78056032e-02 -3.44782447e-02\n",
      "  -6.49988284e-02 -3.70116485e-02  2.98872090e-02  3.02597124e-02\n",
      "   9.35715748e-02  5.84432466e-02 -7.50358892e-03  1.33218026e-02\n",
      "   7.05540097e-02  4.55027208e-03  3.04213482e-03  5.53231946e-02\n",
      "   9.58052409e-02 -1.94178423e-02  3.18389198e-02  4.90425220e-02\n",
      "  -2.64315787e-02  2.16867112e-02 -4.53624296e-02 -2.92642153e-02\n",
      "  -5.10303380e-02 -3.86351464e-02 -1.12042841e-02  3.59393226e-03\n",
      "   4.75373777e-02  3.41579861e-02  5.34864617e-02  4.16890830e-02\n",
      "   8.40200296e-02  3.44436608e-02  4.67676779e-02  1.23434667e-02\n",
      "  -5.18813110e-05 -4.63035987e-03 -3.53743645e-02 -3.72385750e-02\n",
      "  -2.41857258e-02  1.17030890e-04  1.42761741e-02  2.56039175e-03\n",
      "  -6.43777288e-02 -2.77068988e-02  6.08041039e-02 -2.14270188e-03\n",
      "   5.13353554e-02  6.71905781e-02  3.19827647e-02  8.12494376e-02\n",
      "  -9.09800328e-02 -1.12815123e-01 -6.51809610e-02  2.98760554e-03\n",
      "   1.38325416e-02 -4.31662613e-02 -1.57290655e-02  1.96697660e-04\n",
      "   4.99455002e-02  1.79750263e-02  3.34906969e-02  4.09640921e-02\n",
      "  -3.89898725e-03 -1.82867019e-02  2.78985897e-02  5.80196266e-02\n",
      "   4.17723814e-03 -4.11215475e-02  5.81347755e-02  1.46247874e-02\n",
      "  -4.66853425e-02  8.49399061e-02  1.09364577e-01  6.19123620e-02\n",
      "   9.34202673e-02  2.37325711e-02  7.91720523e-02 -3.68376292e-02\n",
      "  -8.76961910e-02 -9.65114910e-02 -5.40833871e-02 -4.10238868e-03\n",
      "   3.74866887e-02  1.67358379e-03 -1.09548224e-02 -2.57345668e-04\n",
      "   1.15996613e-02  3.59382283e-03  4.48122086e-02  7.09948137e-03\n",
      "  -2.74169792e-02 -1.89789490e-02 -5.37453711e-02  6.20571356e-03\n",
      "   4.72196917e-02 -1.97196060e-02 -5.00712184e-02 -7.71069200e-03\n",
      "   6.45547255e-02  1.14354837e-01  8.39343836e-02  2.80757392e-02\n",
      "   1.14742129e-02 -3.30568827e-02  4.22764884e-02 -1.63712314e-02\n",
      "  -4.02231272e-02 -3.24597241e-02 -3.47720167e-02  5.66084891e-03\n",
      "   3.41104585e-02  2.25911029e-02 -1.66030730e-02 -1.71210843e-02\n",
      "   2.27874342e-02  9.26381235e-03  4.98787241e-02 -9.21990759e-03\n",
      "  -1.10767086e-02  1.19780458e-02 -3.12851340e-02 -4.35952288e-02\n",
      "   1.78824025e-02  3.33097983e-02 -7.12404857e-02 -1.36877102e-02\n",
      "   1.10816096e-01  8.29224555e-02  6.92477334e-02  4.83201238e-02\n",
      "   5.45061127e-02  1.76835668e-02  3.99165006e-02 -3.01242708e-02\n",
      "  -5.04019513e-02 -4.27420365e-02 -4.50425431e-02  1.92357621e-04\n",
      "   2.29322984e-02  1.39950945e-02 -2.78680850e-02 -2.86170211e-02\n",
      "  -1.43005567e-02 -6.18494804e-02 -3.03467219e-02 -8.25240472e-03\n",
      "  -6.46541950e-02  2.73070212e-03 -5.63872347e-03 -3.50440897e-02\n",
      "  -2.44724224e-02 -2.10007641e-02 -7.30120363e-02  8.61212499e-02\n",
      "   1.50066095e-01  9.09541769e-02  5.35216000e-02  7.71033473e-02\n",
      "   7.01540135e-02  6.93950037e-02  3.66013826e-02 -3.79353145e-02\n",
      "  -4.58217208e-02 -2.78959402e-02 -3.44720855e-02 -1.07978432e-03\n",
      "  -1.14058491e-04 -4.78994829e-06 -9.08563706e-03 -4.74465261e-02\n",
      "  -4.00538835e-02 -4.73943637e-02 -1.03653863e-02 -5.07711531e-02\n",
      "  -3.83703324e-03 -1.01625170e-02 -5.31320413e-02 -4.08817470e-02\n",
      "  -4.99146699e-02 -1.65644587e-02  3.10492075e-02  9.43053170e-02\n",
      "   1.17823315e-01  6.69587230e-02  4.58077420e-02  8.20216777e-02\n",
      "   6.97779645e-05  1.73586932e-02  1.11392826e-02 -9.48413069e-02\n",
      "  -5.88460408e-02 -6.92723098e-03 -1.97337402e-02 -8.76673825e-04\n",
      "  -2.28116981e-04  1.01365251e-03  3.75020928e-03 -2.82232239e-03\n",
      "  -9.65996476e-03 -1.56000542e-02  3.05590372e-02  3.12757480e-02\n",
      "   2.06857879e-02 -4.11118118e-02 -5.98729955e-02 -5.35464951e-02\n",
      "  -1.33869542e-02  2.77039082e-02  6.12584425e-02  7.04446798e-02\n",
      "   6.40269642e-02  6.40110812e-02  5.40303699e-02  1.88177564e-02\n",
      "   1.32497620e-02 -3.86447863e-02 -1.09474924e-02 -6.19856140e-02\n",
      "  -2.39096734e-02  4.42158378e-03  3.82620112e-03  0.00000000e+00]]\n"
     ]
    }
   ],
   "source": [
    "print(\"SKLearn w\", clf_linear_model.coef_)"
   ]
  },
  {
   "cell_type": "code",
   "execution_count": null,
   "metadata": {
    "colab": {},
    "colab_type": "code",
    "id": "QQ30YuQNv7Z6"
   },
   "outputs": [],
   "source": []
  },
  {
   "cell_type": "code",
   "execution_count": 71,
   "metadata": {
    "colab": {
     "base_uri": "https://localhost:8080/",
     "height": 34
    },
    "colab_type": "code",
    "id": "QNSO4GYtv_AE",
    "outputId": "1c0778ad-9022-4b73-e018-d5e4ec81ada4"
   },
   "outputs": [
    {
     "data": {
      "text/plain": [
       "(1, 784)"
      ]
     },
     "execution_count": 71,
     "metadata": {},
     "output_type": "execute_result"
    }
   ],
   "source": [
    "clf_linear_model.coef_.shape"
   ]
  },
  {
   "cell_type": "code",
   "execution_count": 72,
   "metadata": {
    "colab": {
     "base_uri": "https://localhost:8080/",
     "height": 34
    },
    "colab_type": "code",
    "id": "5OcVVH0pwAFo",
    "outputId": "c926a2b9-462b-4f8a-9ef3-0938df540b7f"
   },
   "outputs": [
    {
     "data": {
      "text/plain": [
       "array([64, 21], dtype=int32)"
      ]
     },
     "execution_count": 72,
     "metadata": {},
     "output_type": "execute_result"
    }
   ],
   "source": [
    "clf_linear_model.n_support_"
   ]
  },
  {
   "cell_type": "code",
   "execution_count": 73,
   "metadata": {
    "colab": {
     "base_uri": "https://localhost:8080/",
     "height": 34
    },
    "colab_type": "code",
    "id": "hNuzJ9IbwT_B",
    "outputId": "a57e7dbc-731c-419c-80db-02544140624d"
   },
   "outputs": [
    {
     "name": "stdout",
     "output_type": "stream",
     "text": [
      "SKLearn NSV [64 21]\n"
     ]
    }
   ],
   "source": [
    "print(f\"SKLearn NSV\", clf_linear_model.n_support_)"
   ]
  },
  {
   "cell_type": "code",
   "execution_count": 74,
   "metadata": {
    "colab": {},
    "colab_type": "code",
    "id": "NGM9irOU00kR"
   },
   "outputs": [],
   "source": [
    "# train"
   ]
  },
  {
   "cell_type": "code",
   "execution_count": 75,
   "metadata": {
    "colab": {
     "base_uri": "https://localhost:8080/",
     "height": 34
    },
    "colab_type": "code",
    "id": "9c3yFbKH1F9a",
    "outputId": "f66bb256-0215-4889-978c-b9083a8d6a70"
   },
   "outputs": [
    {
     "name": "stdout",
     "output_type": "stream",
     "text": [
      "Time taken = 0.24721288681030273 sec\n"
     ]
    }
   ],
   "source": [
    "start_time = time.time()\n",
    "clf_linear_pred = clf_linear_model.predict(train_x)\n",
    "print(f\"Time taken = {time.time() - start_time} sec\")"
   ]
  },
  {
   "cell_type": "code",
   "execution_count": 76,
   "metadata": {
    "colab": {},
    "colab_type": "code",
    "id": "NtlqGoTR00fJ"
   },
   "outputs": [],
   "source": [
    "train_sk_l_acc = calculateAccuracy(train_y,clf_linear_pred)"
   ]
  },
  {
   "cell_type": "code",
   "execution_count": 77,
   "metadata": {
    "colab": {},
    "colab_type": "code",
    "id": "8IQX4aJ600SU"
   },
   "outputs": [],
   "source": [
    "train_sk_l_f1 = f1_score(train_y,clf_linear_pred, pos_label=c1)"
   ]
  },
  {
   "cell_type": "code",
   "execution_count": 78,
   "metadata": {
    "colab": {
     "base_uri": "https://localhost:8080/",
     "height": 51
    },
    "colab_type": "code",
    "id": "6KGXWU-v00J0",
    "outputId": "098f2836-986c-4d9d-ade5-58826c6c9572"
   },
   "outputs": [
    {
     "name": "stdout",
     "output_type": "stream",
     "text": [
      "Train Accuracy: 1.0\n",
      "Train F1 score: 1.0\n"
     ]
    }
   ],
   "source": [
    "print(f\"Train Accuracy:\", train_sk_l_acc)\n",
    "print(f\"Train F1 score:\", train_sk_l_f1)"
   ]
  },
  {
   "cell_type": "code",
   "execution_count": 79,
   "metadata": {
    "colab": {},
    "colab_type": "code",
    "id": "q4C9X-UK23JU"
   },
   "outputs": [],
   "source": [
    "#Val"
   ]
  },
  {
   "cell_type": "code",
   "execution_count": 80,
   "metadata": {
    "colab": {
     "base_uri": "https://localhost:8080/",
     "height": 34
    },
    "colab_type": "code",
    "id": "rLX09oHd224s",
    "outputId": "fee78dca-bd13-44f2-e86c-8abd27366fd8"
   },
   "outputs": [
    {
     "name": "stdout",
     "output_type": "stream",
     "text": [
      "Time taken = 0.028174161911010742 sec\n"
     ]
    }
   ],
   "source": [
    "start_time = time.time()\n",
    "clf_linear_pred_val = clf_linear_model.predict(val_x)\n",
    "print(f\"Time taken = {time.time() - start_time} sec\")"
   ]
  },
  {
   "cell_type": "code",
   "execution_count": 81,
   "metadata": {
    "colab": {},
    "colab_type": "code",
    "id": "2oi2uOh422w6"
   },
   "outputs": [],
   "source": [
    "val_sk_l_acc = calculateAccuracy(val_y,clf_linear_pred_val)\n",
    "val_sk_l_f1 = f1_score(val_y,clf_linear_pred_val, pos_label=c1)"
   ]
  },
  {
   "cell_type": "code",
   "execution_count": 82,
   "metadata": {
    "colab": {
     "base_uri": "https://localhost:8080/",
     "height": 51
    },
    "colab_type": "code",
    "id": "J2RbBhP-22fC",
    "outputId": "20b8dda1-960f-4050-848e-56e872c25081"
   },
   "outputs": [
    {
     "name": "stdout",
     "output_type": "stream",
     "text": [
      "Val Accuracy: 0.998\n",
      "Val F1 score: 0.9979959919839679\n"
     ]
    }
   ],
   "source": [
    "print(f\"Val Accuracy:\", val_sk_l_acc)\n",
    "print(f\"Val F1 score:\", val_sk_l_f1)"
   ]
  },
  {
   "cell_type": "code",
   "execution_count": null,
   "metadata": {
    "colab": {},
    "colab_type": "code",
    "id": "7CFFLDit211T"
   },
   "outputs": [],
   "source": []
  },
  {
   "cell_type": "code",
   "execution_count": null,
   "metadata": {
    "colab": {},
    "colab_type": "code",
    "id": "6LbFBIRN21Ic"
   },
   "outputs": [],
   "source": []
  },
  {
   "cell_type": "code",
   "execution_count": null,
   "metadata": {
    "colab": {},
    "colab_type": "code",
    "id": "EtBSgh9820rd"
   },
   "outputs": [],
   "source": []
  },
  {
   "cell_type": "code",
   "execution_count": 83,
   "metadata": {
    "colab": {},
    "colab_type": "code",
    "id": "dJFcBK6z00AX"
   },
   "outputs": [],
   "source": [
    "#test"
   ]
  },
  {
   "cell_type": "code",
   "execution_count": 84,
   "metadata": {
    "colab": {
     "base_uri": "https://localhost:8080/",
     "height": 34
    },
    "colab_type": "code",
    "id": "dkMFisRf0z1q",
    "outputId": "d5419873-d247-41c1-b217-3bfddfe618f3"
   },
   "outputs": [
    {
     "name": "stdout",
     "output_type": "stream",
     "text": [
      "Time taken = 0.058469295501708984 sec\n"
     ]
    }
   ],
   "source": [
    "start_time = time.time()\n",
    "clf_linear_pred_test = clf_linear_model.predict(test_x)\n",
    "print(f\"Time taken = {time.time() - start_time} sec\")"
   ]
  },
  {
   "cell_type": "code",
   "execution_count": 85,
   "metadata": {
    "colab": {},
    "colab_type": "code",
    "id": "s-jdjWpi2c1N"
   },
   "outputs": [],
   "source": [
    "test_sk_l_acc = calculateAccuracy(test_y,clf_linear_pred_test)\n",
    "test_sk_l_f1 = f1_score(test_y,clf_linear_pred_test, pos_label=c1)"
   ]
  },
  {
   "cell_type": "code",
   "execution_count": 86,
   "metadata": {
    "colab": {
     "base_uri": "https://localhost:8080/",
     "height": 51
    },
    "colab_type": "code",
    "id": "yTOxDFnT2dpK",
    "outputId": "f28ee18c-910f-4d94-ff66-034fb0cab351"
   },
   "outputs": [
    {
     "name": "stdout",
     "output_type": "stream",
     "text": [
      "Test Accuracy: 0.996\n",
      "Test F1 score: 0.9959839357429718\n"
     ]
    }
   ],
   "source": [
    "print(f\"Test Accuracy:\", test_sk_l_acc)\n",
    "print(f\"Test F1 score:\", test_sk_l_f1)"
   ]
  },
  {
   "cell_type": "code",
   "execution_count": 87,
   "metadata": {
    "colab": {},
    "colab_type": "code",
    "id": "KsiD15sb2d8S"
   },
   "outputs": [],
   "source": [
    "# Gaussian"
   ]
  },
  {
   "cell_type": "markdown",
   "metadata": {
    "colab_type": "text",
    "id": "ppwEdeAr7jtI"
   },
   "source": [
    "# Gaussian"
   ]
  },
  {
   "cell_type": "code",
   "execution_count": 88,
   "metadata": {
    "colab": {},
    "colab_type": "code",
    "id": "e7vkt6sZwafq"
   },
   "outputs": [],
   "source": [
    "## Gaussian Manual"
   ]
  },
  {
   "cell_type": "markdown",
   "metadata": {
    "colab_type": "text",
    "id": "HsAHOoAg7oa5"
   },
   "source": [
    "## Gaussian Manual"
   ]
  },
  {
   "cell_type": "code",
   "execution_count": 89,
   "metadata": {
    "colab": {
     "base_uri": "https://localhost:8080/",
     "height": 34
    },
    "colab_type": "code",
    "id": "TQdQqqD3T_mS",
    "outputId": "305ce6e3-8c1d-403c-a80f-afa031a13308"
   },
   "outputs": [
    {
     "data": {
      "text/plain": [
       "(4500, 784)"
      ]
     },
     "execution_count": 89,
     "metadata": {},
     "output_type": "execute_result"
    }
   ],
   "source": [
    "train_x.shape"
   ]
  },
  {
   "cell_type": "code",
   "execution_count": 90,
   "metadata": {
    "colab": {},
    "colab_type": "code",
    "id": "8cYvTHNqxQGU"
   },
   "outputs": [],
   "source": [
    "BiSVM_model_gauss = BiSVM()"
   ]
  },
  {
   "cell_type": "code",
   "execution_count": 91,
   "metadata": {
    "colab": {
     "base_uri": "https://localhost:8080/",
     "height": 408
    },
    "colab_type": "code",
    "id": "A6l5cKGJxjS1",
    "outputId": "cef9208e-1fab-4237-f0f2-915546409e73"
   },
   "outputs": [
    {
     "name": "stdout",
     "output_type": "stream",
     "text": [
      "Calculating P\n",
      "     pcost       dcost       gap    pres   dres\n",
      " 0: -2.0533e+02 -7.5506e+03  3e+04  2e+00  2e-15\n",
      " 1: -1.2813e+02 -3.9857e+03  6e+03  2e-01  1e-15\n",
      " 2: -9.5987e+01 -7.8644e+02  8e+02  2e-02  5e-15\n",
      " 3: -1.4760e+02 -3.3431e+02  2e+02  5e-03  3e-15\n",
      " 4: -1.6699e+02 -2.3327e+02  7e+01  1e-03  2e-15\n",
      " 5: -1.7565e+02 -2.0037e+02  3e+01  2e-04  1e-15\n",
      " 6: -1.7993e+02 -1.8778e+02  8e+00  3e-05  1e-15\n",
      " 7: -1.8146e+02 -1.8393e+02  2e+00  2e-15  1e-15\n",
      " 8: -1.8213e+02 -1.8255e+02  4e-01  2e-14  1e-15\n",
      " 9: -1.8227e+02 -1.8229e+02  3e-02  9e-15  2e-15\n",
      "10: -1.8228e+02 -1.8228e+02  4e-04  5e-15  2e-15\n",
      "11: -1.8228e+02 -1.8228e+02  7e-06  2e-14  2e-15\n",
      "Optimal solution found.\n",
      "No. of support vectors: 1130\n",
      "alpha_f (1130, 1)\n",
      "Y_f (1130, 1)\n",
      "X_f (1130, 784)\n",
      "X (4500, 784)\n",
      "wtx (4500, 1)\n",
      "gb -0.08654572282511158\n",
      "Time taken = 34.1121563911438 sec\n"
     ]
    }
   ],
   "source": [
    "start_time = time.time()\n",
    "BiSVM_model_gauss.fit(train_x, train_y, c1, c2, gaussian_kernel)\n",
    "print(f\"Time taken = {time.time() - start_time} sec\")"
   ]
  },
  {
   "cell_type": "code",
   "execution_count": 92,
   "metadata": {
    "colab": {
     "base_uri": "https://localhost:8080/",
     "height": 34
    },
    "colab_type": "code",
    "id": "OGknfvBrHw_b",
    "outputId": "cd319abf-62a6-45a9-cac7-8fd3887e42d9"
   },
   "outputs": [
    {
     "name": "stdout",
     "output_type": "stream",
     "text": [
      "-0.08654572282511158\n"
     ]
    }
   ],
   "source": [
    "print(BiSVM_model_gauss.b)"
   ]
  },
  {
   "cell_type": "code",
   "execution_count": 93,
   "metadata": {
    "colab": {},
    "colab_type": "code",
    "id": "86BDSFRudT2L"
   },
   "outputs": [],
   "source": [
    "# train"
   ]
  },
  {
   "cell_type": "code",
   "execution_count": 94,
   "metadata": {
    "colab": {
     "base_uri": "https://localhost:8080/",
     "height": 34
    },
    "colab_type": "code",
    "id": "38pEYA-gxrsy",
    "outputId": "115ae2d0-490e-4b36-9cd0-e0aaa0866056"
   },
   "outputs": [
    {
     "name": "stdout",
     "output_type": "stream",
     "text": [
      "Time taken = 8.309123992919922 sec\n"
     ]
    }
   ],
   "source": [
    "start_time = time.time()\n",
    "g_train_pred = BiSVM_model_gauss.predictGauss(train_x)\n",
    "print(f\"Time taken = {time.time() - start_time} sec\")"
   ]
  },
  {
   "cell_type": "code",
   "execution_count": 121,
   "metadata": {
    "colab": {
     "base_uri": "https://localhost:8080/",
     "height": 329
    },
    "colab_type": "code",
    "id": "BXsurJDCPiJB",
    "outputId": "0a916caa-10b6-40e1-97a5-1854849233db"
   },
   "outputs": [
    {
     "name": "stdout",
     "output_type": "stream",
     "text": [
      "Val Accuracy: 1.0\n",
      "Val F1 score: 1.0\n"
     ]
    },
    {
     "data": {
      "image/png": "[encoded data removed]",
      "text/plain": [
       "<Figure size 432x288 with 2 Axes>"
      ]
     },
     "metadata": {},
     "output_type": "display_data"
    }
   ],
   "source": [
    "g_train_acc = calculateAccuracy(g_train_pred, train_y)\n",
    "g_train_f1 = f1_score(train_y, g_train_pred, pos_label=c1)\n",
    "print(f\"Val Accuracy:\", g_train_acc)\n",
    "print(f\"Val F1 score:\", g_train_f1)\n",
    "plot_cm(train_y.astype(int), g_train_pred.astype(int), labels=[c2,c1], title =\"5 vs 6 on Train\")"
   ]
  },
  {
   "cell_type": "code",
   "execution_count": 96,
   "metadata": {
    "colab": {},
    "colab_type": "code",
    "id": "87WawYsMbVv3"
   },
   "outputs": [],
   "source": [
    "# val"
   ]
  },
  {
   "cell_type": "code",
   "execution_count": 97,
   "metadata": {
    "colab": {
     "base_uri": "https://localhost:8080/",
     "height": 34
    },
    "colab_type": "code",
    "id": "8PSb6caabWMR",
    "outputId": "f1d9fc90-7465-498b-e152-13e32292efbb"
   },
   "outputs": [
    {
     "name": "stdout",
     "output_type": "stream",
     "text": [
      "Time taken = 0.9912939071655273 sec\n"
     ]
    }
   ],
   "source": [
    "start_time = time.time()\n",
    "g_val_pred = BiSVM_model_gauss.predictGauss(val_x)\n",
    "print(f\"Time taken = {time.time() - start_time} sec\")"
   ]
  },
  {
   "cell_type": "code",
   "execution_count": 122,
   "metadata": {
    "colab": {
     "base_uri": "https://localhost:8080/",
     "height": 335
    },
    "colab_type": "code",
    "id": "qL3JNncwbWfx",
    "outputId": "2cf6d008-0e8d-4ea5-9405-6c4400ef0905"
   },
   "outputs": [
    {
     "name": "stdout",
     "output_type": "stream",
     "text": [
      "Val Accuracy: 0.996\n",
      "Val F1 score: 0.9959839357429718\n"
     ]
    },
    {
     "data": {
      "image/png": "[encoded data removed]",
      "text/plain": [
       "<Figure size 432x288 with 2 Axes>"
      ]
     },
     "metadata": {},
     "output_type": "display_data"
    }
   ],
   "source": [
    "g_val_acc = calculateAccuracy(g_val_pred, val_y)\n",
    "g_val_f1 = f1_score(val_y, g_val_pred, pos_label=c1)\n",
    "print(f\"Val Accuracy:\", g_val_acc)\n",
    "print(f\"Val F1 score:\", g_val_f1)\n",
    "plot_cm(val_y.astype(int), g_val_pred.astype(int), labels=[c2,c1],  title =\"5 vs 6 on Validation\")"
   ]
  },
  {
   "cell_type": "code",
   "execution_count": 99,
   "metadata": {
    "colab": {},
    "colab_type": "code",
    "id": "wZC-W40ebWnw"
   },
   "outputs": [],
   "source": [
    "# test"
   ]
  },
  {
   "cell_type": "code",
   "execution_count": 100,
   "metadata": {
    "colab": {
     "base_uri": "https://localhost:8080/",
     "height": 34
    },
    "colab_type": "code",
    "id": "ieAYXYx0bWvu",
    "outputId": "f3820182-247b-4ebe-d6f7-a979abe1b946"
   },
   "outputs": [
    {
     "name": "stdout",
     "output_type": "stream",
     "text": [
      "Time taken = 1.843393087387085 sec\n"
     ]
    }
   ],
   "source": [
    "start_time = time.time()\n",
    "g_test_pred = BiSVM_model_gauss.predictGauss(test_x)\n",
    "print(f\"Time taken = {time.time() - start_time} sec\")"
   ]
  },
  {
   "cell_type": "code",
   "execution_count": 123,
   "metadata": {
    "colab": {
     "base_uri": "https://localhost:8080/",
     "height": 335
    },
    "colab_type": "code",
    "id": "QyBYf0vNbW4f",
    "outputId": "57e8d332-8ddf-4de2-8587-3dc91cc2cec4"
   },
   "outputs": [
    {
     "name": "stdout",
     "output_type": "stream",
     "text": [
      "Val Accuracy: 0.998\n",
      "Val F1 score: 0.9979959919839679\n"
     ]
    },
    {
     "data": {
      "image/png": "[encoded data removed]",
      "text/plain": [
       "<Figure size 432x288 with 2 Axes>"
      ]
     },
     "metadata": {},
     "output_type": "display_data"
    }
   ],
   "source": [
    "g_test_acc = calculateAccuracy(g_test_pred, test_y)\n",
    "g_test_f1 = f1_score(test_y, g_test_pred, pos_label=c1)\n",
    "print(f\"Val Accuracy:\", g_test_acc)\n",
    "print(f\"Val F1 score:\", g_test_f1)\n",
    "plot_cm(test_y.astype(int), g_test_pred.astype(int), labels=[c2,c1], title=\"5 vs 6 on Test\")"
   ]
  },
  {
   "cell_type": "code",
   "execution_count": 102,
   "metadata": {
    "colab": {
     "base_uri": "https://localhost:8080/",
     "height": 34
    },
    "colab_type": "code",
    "id": "FYdcdbBAbXCf",
    "outputId": "4c67bb74-1885-438b-e675-57b1cc608333"
   },
   "outputs": [],
   "source": [
    "# joblib.dump(BiSVM_model_gauss, \"/content/drive/My Drive/ML/SVM/MultiClass/BiSVM_model_gauss_j\")"
   ]
  },
  {
   "cell_type": "code",
   "execution_count": null,
   "metadata": {
    "colab": {},
    "colab_type": "code",
    "id": "5B5OHEcJbXI4"
   },
   "outputs": [],
   "source": []
  },
  {
   "cell_type": "markdown",
   "metadata": {
    "colab_type": "text",
    "id": "V2ZD5bhH7t9X"
   },
   "source": [
    "## Gaussian SKLearn"
   ]
  },
  {
   "cell_type": "code",
   "execution_count": 103,
   "metadata": {
    "colab": {},
    "colab_type": "code",
    "id": "ogT8Jd1JxtDA"
   },
   "outputs": [],
   "source": [
    "# sklearn Gaussian"
   ]
  },
  {
   "cell_type": "code",
   "execution_count": 104,
   "metadata": {
    "colab": {},
    "colab_type": "code",
    "id": "qBaBUTBz0ADW"
   },
   "outputs": [],
   "source": [
    "clf_gauss = SVC(gamma=gama)"
   ]
  },
  {
   "cell_type": "code",
   "execution_count": 105,
   "metadata": {
    "colab": {
     "base_uri": "https://localhost:8080/",
     "height": 88
    },
    "colab_type": "code",
    "id": "_mL1urEQxuj5",
    "outputId": "20c10c7a-21d0-4cc3-e97b-b1b152a1594c"
   },
   "outputs": [
    {
     "name": "stderr",
     "output_type": "stream",
     "text": [
      "/home/merajahmed/anaconda3/lib/python3.7/site-packages/sklearn/utils/validation.py:724: DataConversionWarning: A column-vector y was passed when a 1d array was expected. Please change the shape of y to (n_samples, ), for example using ravel().\n",
      "  y = column_or_1d(y, warn=True)\n"
     ]
    },
    {
     "name": "stdout",
     "output_type": "stream",
     "text": [
      "Time taken = 3.6342804431915283 sec\n"
     ]
    }
   ],
   "source": [
    "start_time = time.time()\n",
    "clf_gauss.fit(train_x, train_y)\n",
    "print(f\"Time taken = {time.time() - start_time} sec\")"
   ]
  },
  {
   "cell_type": "code",
   "execution_count": 106,
   "metadata": {
    "colab": {
     "base_uri": "https://localhost:8080/",
     "height": 51
    },
    "colab_type": "code",
    "id": "EDvtIzQU4UUM",
    "outputId": "3988bc92-573d-408f-8a4c-4b4189eaef79"
   },
   "outputs": [
    {
     "name": "stdout",
     "output_type": "stream",
     "text": [
      "b: [-0.12264118]\n",
      "nsv [631 492]\n"
     ]
    }
   ],
   "source": [
    "print(\"b:\",clf_gauss.intercept_)\n",
    "print(\"nsv\",clf_gauss.n_support_ )"
   ]
  },
  {
   "cell_type": "code",
   "execution_count": 107,
   "metadata": {
    "colab": {},
    "colab_type": "code",
    "id": "3MjQjnPv4UmE"
   },
   "outputs": [],
   "source": [
    "#train predict"
   ]
  },
  {
   "cell_type": "code",
   "execution_count": 108,
   "metadata": {
    "colab": {
     "base_uri": "https://localhost:8080/",
     "height": 34
    },
    "colab_type": "code",
    "id": "HfSzxQaHzkam",
    "outputId": "c74e6a10-d250-42d7-e81f-0a5676b020e0"
   },
   "outputs": [
    {
     "name": "stdout",
     "output_type": "stream",
     "text": [
      "Time taken = 3.2920498847961426 sec\n"
     ]
    }
   ],
   "source": [
    "start_time = time.time()\n",
    "g_predicted_train  = clf_gauss.predict(train_x)\n",
    "print(f\"Time taken = {time.time() - start_time} sec\")"
   ]
  },
  {
   "cell_type": "code",
   "execution_count": 109,
   "metadata": {
    "colab": {},
    "colab_type": "code",
    "id": "vU4eS6Kf0TTK"
   },
   "outputs": [],
   "source": [
    "g_acc_train = calculateAccuracy(g_predicted_train, train_y)\n",
    "g_f1_train = f1_score(train_y, g_predicted_train, pos_label=c2)"
   ]
  },
  {
   "cell_type": "code",
   "execution_count": 110,
   "metadata": {
    "colab": {
     "base_uri": "https://localhost:8080/",
     "height": 51
    },
    "colab_type": "code",
    "id": "cVlRjK6J3_6H",
    "outputId": "91625a5e-cfe8-469a-b80e-f33702aa611e"
   },
   "outputs": [
    {
     "name": "stdout",
     "output_type": "stream",
     "text": [
      "Train Accuracy: 1.0\n",
      "Train F1 score: 1.0\n"
     ]
    }
   ],
   "source": [
    "print(f\"Train Accuracy:\", g_acc_train)\n",
    "print(f\"Train F1 score:\", g_f1_train)"
   ]
  },
  {
   "cell_type": "code",
   "execution_count": 111,
   "metadata": {
    "colab": {},
    "colab_type": "code",
    "id": "iFD-bOMN4I3f"
   },
   "outputs": [],
   "source": [
    "#validation"
   ]
  },
  {
   "cell_type": "code",
   "execution_count": 112,
   "metadata": {
    "colab": {
     "base_uri": "https://localhost:8080/",
     "height": 34
    },
    "colab_type": "code",
    "id": "zGFa2LKs4SK-",
    "outputId": "460c1753-db51-4630-c040-dc284451f47c"
   },
   "outputs": [
    {
     "name": "stdout",
     "output_type": "stream",
     "text": [
      "Time taken = 0.36039137840270996 sec\n"
     ]
    }
   ],
   "source": [
    "start_time = time.time()\n",
    "g_predicted_val  = clf_gauss.predict(val_x)\n",
    "print(f\"Time taken = {time.time() - start_time} sec\")"
   ]
  },
  {
   "cell_type": "code",
   "execution_count": 113,
   "metadata": {
    "colab": {},
    "colab_type": "code",
    "id": "i8RWi3bY44eP"
   },
   "outputs": [],
   "source": [
    "g_acc_val = calculateAccuracy(g_predicted_val, val_y)\n",
    "g_f1_val = f1_score(val_y, g_predicted_val, pos_label=c2)"
   ]
  },
  {
   "cell_type": "code",
   "execution_count": 114,
   "metadata": {
    "colab": {
     "base_uri": "https://localhost:8080/",
     "height": 51
    },
    "colab_type": "code",
    "id": "MoCYu65W4_qN",
    "outputId": "46f4d571-ad24-4200-a47e-5d9069f4937e"
   },
   "outputs": [
    {
     "name": "stdout",
     "output_type": "stream",
     "text": [
      "Val Accuracy: 0.996\n",
      "Val F1 score: 0.996\n"
     ]
    }
   ],
   "source": [
    "print(f\"Val Accuracy:\", g_acc_val)\n",
    "print(f\"Val F1 score:\", g_f1_val)"
   ]
  },
  {
   "cell_type": "code",
   "execution_count": 115,
   "metadata": {
    "colab": {},
    "colab_type": "code",
    "id": "GC1BKJhu5Csu"
   },
   "outputs": [],
   "source": [
    "# test"
   ]
  },
  {
   "cell_type": "code",
   "execution_count": 116,
   "metadata": {
    "colab": {
     "base_uri": "https://localhost:8080/",
     "height": 34
    },
    "colab_type": "code",
    "id": "ecZAEIqw5GKl",
    "outputId": "6a40a7c5-f0e1-4b1e-d2db-404c9f15d887"
   },
   "outputs": [
    {
     "name": "stdout",
     "output_type": "stream",
     "text": [
      "Time taken = 0.7180986404418945 sec\n"
     ]
    }
   ],
   "source": [
    "start_time = time.time()\n",
    "g_predicted_test  = clf_gauss.predict(test_x)\n",
    "print(f\"Time taken = {time.time() - start_time} sec\")"
   ]
  },
  {
   "cell_type": "code",
   "execution_count": 117,
   "metadata": {
    "colab": {},
    "colab_type": "code",
    "id": "n9HsIdWx5JNp"
   },
   "outputs": [],
   "source": [
    "g_acc_test = calculateAccuracy(g_predicted_test, test_y)\n",
    "g_f1_test = f1_score(test_y, g_predicted_test, pos_label=c2)"
   ]
  },
  {
   "cell_type": "code",
   "execution_count": 118,
   "metadata": {
    "colab": {
     "base_uri": "https://localhost:8080/",
     "height": 51
    },
    "colab_type": "code",
    "id": "h9S48mEr5iH2",
    "outputId": "e5fde1db-25ee-4446-e788-cc85084398ca"
   },
   "outputs": [
    {
     "name": "stdout",
     "output_type": "stream",
     "text": [
      "Test Accuracy: 1.0\n",
      "Test F1 score: 1.0\n"
     ]
    }
   ],
   "source": [
    "print(f\"Test Accuracy:\", g_acc_test)\n",
    "print(f\"Test F1 score:\", g_f1_test)"
   ]
  },
  {
   "cell_type": "code",
   "execution_count": null,
   "metadata": {
    "colab": {},
    "colab_type": "code",
    "id": "OLqFRgot6nui"
   },
   "outputs": [],
   "source": []
  },
  {
   "cell_type": "code",
   "execution_count": 119,
   "metadata": {
    "colab": {},
    "colab_type": "code",
    "id": "4DjL8ou8vpbs"
   },
   "outputs": [],
   "source": []
  },
  {
   "cell_type": "code",
   "execution_count": null,
   "metadata": {
    "colab": {},
    "colab_type": "code",
    "id": "SlrVcJAYDgHI"
   },
   "outputs": [],
   "source": []
  },
  {
   "cell_type": "code",
   "execution_count": null,
   "metadata": {
    "colab": {},
    "colab_type": "code",
    "id": "T-Q_5nGSQqmG"
   },
   "outputs": [],
   "source": []
  },
  {
   "cell_type": "code",
   "execution_count": null,
   "metadata": {},
   "outputs": [],
   "source": []
  }
 ],
 "metadata": {
  "colab": {
   "collapsed_sections": [],
   "machine_shape": "hm",
   "name": "Bi Class SVM",
   "provenance": []
  },
  "kernelspec": {
   "display_name": "Python 3",
   "language": "python",
   "name": "python3"
  },
  "language_info": {
   "codemirror_mode": {
    "name": "ipython",
    "version": 3
   },
   "file_extension": ".py",
   "mimetype": "text/x-python",
   "name": "python",
   "nbconvert_exporter": "python",
   "pygments_lexer": "ipython3",
   "version": "3.7.4"
  }
 },
 "nbformat": 4,
 "nbformat_minor": 1
}
