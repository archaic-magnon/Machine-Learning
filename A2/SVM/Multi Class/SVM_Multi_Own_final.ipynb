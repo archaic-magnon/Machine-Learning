{
 "cells": [
  {
   "cell_type": "code",
   "execution_count": 0,
   "metadata": {
    "colab": {},
    "colab_type": "code",
    "id": "zCQN0hzRbzg_"
   },
   "outputs": [],
   "source": []
  },
  {
   "cell_type": "code",
   "execution_count": 0,
   "metadata": {
    "colab": {
     "base_uri": "https://localhost:8080/",
     "height": 34
    },
    "colab_type": "code",
    "id": "xZRapnOj8sXL",
    "outputId": "1eb61c4f-99b9-4da9-919d-820b64c1b85a"
   },
   "outputs": [
    {
     "name": "stdout",
     "output_type": "stream",
     "text": [
      "40\n"
     ]
    }
   ],
   "source": [
    "import multiprocessing \n",
    "print(multiprocessing.cpu_count())"
   ]
  },
  {
   "cell_type": "code",
   "execution_count": 0,
   "metadata": {
    "colab": {},
    "colab_type": "code",
    "id": "ZrFhJ5X080K3"
   },
   "outputs": [],
   "source": [
    "import numpy as np"
   ]
  },
  {
   "cell_type": "code",
   "execution_count": 0,
   "metadata": {
    "colab": {},
    "colab_type": "code",
    "id": "nnDrnUL58wdI"
   },
   "outputs": [],
   "source": [
    "import cvxopt\n",
    "import pandas as pd\n",
    "import numpy as np\n",
    "from cvxopt import solvers, matrix\n",
    "from sklearn.metrics import accuracy_score, confusion_matrix, f1_score, roc_curve, auc, roc_auc_score\n",
    "import seaborn as sns\n",
    "import matplotlib.pyplot as plt  \n",
    "import math\n",
    "from scipy.spatial.distance import cdist\n",
    "import time\n",
    "from tqdm import tqdm, tqdm_notebook\n",
    "from sklearn.svm import SVC\n",
    "from scipy.spatial.distance import pdist, squareform\n",
    "import scipy\n",
    "import joblib\n",
    "from itertools import combinations\n",
    "from joblib import Parallel, delayed"
   ]
  },
  {
   "cell_type": "code",
   "execution_count": 0,
   "metadata": {
    "colab": {},
    "colab_type": "code",
    "id": "qieVxAvT838d"
   },
   "outputs": [],
   "source": [
    "# arr = np.ones(10**9, dtype='float128')"
   ]
  },
  {
   "cell_type": "code",
   "execution_count": 0,
   "metadata": {
    "colab": {},
    "colab_type": "code",
    "id": "y4QHeFkV-LQz"
   },
   "outputs": [],
   "source": [
    "gama = 0.05"
   ]
  },
  {
   "cell_type": "code",
   "execution_count": 0,
   "metadata": {
    "colab": {},
    "colab_type": "code",
    "id": "SdHYo_vI-fZr"
   },
   "outputs": [],
   "source": [
    "train_path = \"/content/drive/My Drive/ML/fashion_mnist/train.csv\"\n",
    "test_path = \"/content/drive/My Drive/ML/fashion_mnist/test.csv\"\n",
    "val_path = \"/content/drive/My Drive/ML/fashion_mnist/val.csv\""
   ]
  },
  {
   "cell_type": "code",
   "execution_count": 0,
   "metadata": {
    "colab": {},
    "colab_type": "code",
    "id": "2_b-mPqA-hcK"
   },
   "outputs": [],
   "source": [
    "def readData(path, c1, c2):\n",
    "\tdata = pd.read_csv(path, header=None)\n",
    "\n",
    "\tlast_column = data.shape[1]-1\n",
    "\tdata = filterData(c1, c2, data)\n",
    "\n",
    "\t# y_data = setY_1(data[last_column], c2, c1)\n",
    "\tx_data = scaleData(data.drop(last_column,1))\n",
    "\ty_data = data[last_column]\n",
    "\n",
    "\treturn np.array(x_data), np.array(y_data).reshape(-1,1)\n"
   ]
  },
  {
   "cell_type": "code",
   "execution_count": 0,
   "metadata": {
    "colab": {},
    "colab_type": "code",
    "id": "Pq5EoqBj-oiQ"
   },
   "outputs": [],
   "source": [
    "def readDataUnfiltered(path):\n",
    "    data = pd.read_csv(path, header=None)\n",
    "\n",
    "    last_column = data.shape[1]-1\n",
    "    # data = filterData(c1, c2, data)\n",
    "\n",
    "    x_data = scaleData(data.drop(last_column,1))\n",
    "    y_data = data[last_column]\n",
    "\n",
    "\n",
    "    return np.array(x_data), np.array(y_data).reshape(-1,1)"
   ]
  },
  {
   "cell_type": "code",
   "execution_count": 0,
   "metadata": {
    "colab": {},
    "colab_type": "code",
    "id": "49qzzG80-rNt"
   },
   "outputs": [],
   "source": [
    "def filterData(c1, c2, data):\n",
    "\tlast_column = data.shape[1]-1\n",
    "\n",
    "\tr_data = data[(data[last_column]==c1) | (data[last_column]==c2)]\n",
    "\treturn r_data "
   ]
  },
  {
   "cell_type": "code",
   "execution_count": 0,
   "metadata": {
    "colab": {},
    "colab_type": "code",
    "id": "62kzsljZ-tVL"
   },
   "outputs": [],
   "source": [
    "def setY_1(y, pos_class, neg_class):\n",
    "    y[y==pos_class] = 1\n",
    "    y[y==neg_class] = -1\n",
    "\n",
    "    return y\n"
   ]
  },
  {
   "cell_type": "code",
   "execution_count": 0,
   "metadata": {
    "colab": {},
    "colab_type": "code",
    "id": "D75AEm1lZf6g"
   },
   "outputs": [],
   "source": [
    "def scaleData(data):\n",
    "    return data / 255"
   ]
  },
  {
   "cell_type": "code",
   "execution_count": 0,
   "metadata": {
    "colab": {},
    "colab_type": "code",
    "id": "nfL8Kva6-u7R"
   },
   "outputs": [],
   "source": [
    "def getP(y_train, x_train, kernel):\n",
    "    m = y_train.shape[0]\n",
    "    KernelMatrix = None\n",
    "    if kernel == linear_kernel:\n",
    "        KernelMatrix = (x_train@x_train.T)\n",
    "        P = (y_train@y_train.T) * KernelMatrix\n",
    "        return matrix(P), KernelMatrix\n",
    "    if kernel == gaussian_kernel:\n",
    "        # pairwise_sq_dists = squareform(pdist(x_train, 'sqeuclidean'))\n",
    "        # KernelMatrix = np.exp(-pairwise_sq_dists * gama)\n",
    "        KernelMatrix = np.exp( -gama*(cdist(x_train, x_train,'sqeuclidean')))\n",
    "        P = (y_train@y_train.T) * KernelMatrix\n",
    "        # print(\"y\")\n",
    "        # print(y_train)\n",
    "        # print(\"yy.t\")\n",
    "        # print(y_train@y_train.T)\n",
    "        # print(\"k\")\n",
    "        # print(KernelMatrix)\n",
    "\n",
    "        return matrix(P), KernelMatrix"
   ]
  },
  {
   "cell_type": "code",
   "execution_count": 0,
   "metadata": {
    "colab": {},
    "colab_type": "code",
    "id": "HCMB9utm-xEO"
   },
   "outputs": [],
   "source": [
    "\n",
    "def getq(m):\n",
    "    q = -np.ones((m,1))\n",
    "    return matrix(q)\n"
   ]
  },
  {
   "cell_type": "code",
   "execution_count": 0,
   "metadata": {
    "colab": {},
    "colab_type": "code",
    "id": "SzBSQfQU-z2S"
   },
   "outputs": [],
   "source": [
    "def getGh(m, C):\n",
    "    G1 = np.identity(m)\n",
    "    G = np.vstack((-G1, G1))\n",
    "\n",
    "    H1 = np.zeros((m,1))\n",
    "    H2 = C * np.ones((m,1))\n",
    "    h = np.vstack((H1, H2))\n",
    "\n",
    "    return matrix(G), matrix(h)\n"
   ]
  },
  {
   "cell_type": "code",
   "execution_count": 0,
   "metadata": {
    "colab": {},
    "colab_type": "code",
    "id": "DyTFLmYA-1oH"
   },
   "outputs": [],
   "source": [
    "def getAb(y_train):\n",
    "    A = y_train.T\n",
    "    b = np.zeros(1)\n",
    "    return matrix(A), matrix(b)\n"
   ]
  },
  {
   "cell_type": "code",
   "execution_count": 0,
   "metadata": {
    "colab": {},
    "colab_type": "code",
    "id": "fbv6BO0V-3l0"
   },
   "outputs": [],
   "source": [
    "def linear_kernel(x, z):\n",
    "    return (x.T)@z\n"
   ]
  },
  {
   "cell_type": "code",
   "execution_count": 0,
   "metadata": {
    "colab": {},
    "colab_type": "code",
    "id": "Pl1lSaWj-5hh"
   },
   "outputs": [],
   "source": [
    "def gaussian_kernel(x, z):\n",
    "    return np.exp((-np.linalg.norm(x-z)**2) * gama)"
   ]
  },
  {
   "cell_type": "code",
   "execution_count": 0,
   "metadata": {
    "colab": {},
    "colab_type": "code",
    "id": "RTtwOGFj-7S2"
   },
   "outputs": [],
   "source": [
    "def getWtX(alpha, Y, X, x, kernel):\n",
    "    m = Y.shape[0]\n",
    "    ans = 0\n",
    "    for i in range(m):\n",
    "        if(alpha[i]==0):\n",
    "            continue\n",
    "        ans+= alpha[i] * Y[i] * kernel(X[i].reshape(-1,1), x.reshape(-1,1))\n",
    "    return ans\n"
   ]
  },
  {
   "cell_type": "code",
   "execution_count": 0,
   "metadata": {
    "colab": {},
    "colab_type": "code",
    "id": "Jpm-owOO-9Zx"
   },
   "outputs": [],
   "source": [
    "def getb(alpha, Y, X, kernel):\n",
    "    print(\"calculating b\")\n",
    "    ans = 0\n",
    "    m = Y.shape[0]\n",
    "    max1 = -float('inf')\n",
    "    min1 = float('inf')\n",
    "    for i in tqdm(range(m)):\n",
    "        wtx = getWtX(alpha, Y, X, X[i], kernel)\n",
    "        if Y[i] == -1:\n",
    "            max1 = max(max1, wtx)\n",
    "        elif Y[i] == 1:\n",
    "            min1 = min(min1, wtx)\n",
    "\n",
    "    b = -1*(max1 + min1)/2\n",
    "    # print(\"b\", b)\n",
    "    return b"
   ]
  },
  {
   "cell_type": "code",
   "execution_count": 0,
   "metadata": {
    "colab": {},
    "colab_type": "code",
    "id": "FaMOVzmS-_ew"
   },
   "outputs": [],
   "source": [
    "def getGaussb(alpha,alpha_f, X, X_f, Y, Y_f, kernalMatrix):\n",
    "  # print(\"alpha_f\",alpha_f.shape)\n",
    "  # print(\"Y_f\",Y_f.shape)\n",
    "  # print(\"X_f\",X_f.shape)\n",
    "  # print(\"X\",X.shape)\n",
    "  wtx = (   np.exp(-1*cdist(X, X_f, \"sqeuclidean\")*gama) @ (alpha_f*Y_f) )\n",
    "  # print(\"wtx\",wtx.shape)\n",
    "  t1 = np.max(wtx[np.where(Y==-1)])\n",
    "  t2 = np.min(wtx[np.where(Y==1)])\n",
    "  b = -1 * (t1 + t2) /2\n",
    "  # print(\"gb\", b)\n",
    "  return b\n",
    "\n",
    "\n"
   ]
  },
  {
   "cell_type": "code",
   "execution_count": 0,
   "metadata": {
    "colab": {},
    "colab_type": "code",
    "id": "Z1Iu_akQ_Bex"
   },
   "outputs": [],
   "source": [
    "\n",
    "def calculateAccuracy(actual, predicted):\n",
    "    count = 0\n",
    "    for y1, y2 in zip(actual, predicted):\n",
    "        if y1==y2:\n",
    "            count+=1\n",
    "    return count/len(predicted)"
   ]
  },
  {
   "cell_type": "code",
   "execution_count": 0,
   "metadata": {
    "colab": {},
    "colab_type": "code",
    "id": "FkOzUXPH_EBH"
   },
   "outputs": [],
   "source": [
    "def plot_cm(actual, predicted,title=\"Confusion Matrix\" ,labels=None):\n",
    "    cm = confusion_matrix(actual, predicted, labels=labels)\n",
    "    df_cm = pd.DataFrame(cm, columns=np.unique(actual), index = np.unique(actual))\n",
    "    df_cm.index.name = 'Actual'\n",
    "    df_cm.columns.name = 'Predicted'\n",
    "    plt.figure(figsize = (11,9))\n",
    "    sns.set(font_scale=1.4)#for label size\n",
    "    plt.title(title)\n",
    "\n",
    "    ax = sns.heatmap(df_cm, cmap=\"Blues\", annot=True,annot_kws={\"size\": 16}, fmt='d')# font size\n",
    "    bottom, top = ax.get_ylim()\n",
    "    # ax.set_ylim(bottom + 0.5, top - 0.5)\n",
    "    plt.show()"
   ]
  },
  {
   "cell_type": "code",
   "execution_count": 0,
   "metadata": {
    "colab": {},
    "colab_type": "code",
    "id": "kBgJyrTe_F2c"
   },
   "outputs": [],
   "source": [
    "class MulSVM:\n",
    "\n",
    "    def replaceLabelsBefore(self, y):\n",
    "      y = np.where(y==self.neg_class, -1, y)\n",
    "      y = np.where(y==self.pos_class, 1, y)\n",
    "      return y\n",
    "\n",
    "    def replaceLabelsAfter(self, y):\n",
    "      # print(\"replaceLabelsAfter\")\n",
    "      # print(y)\n",
    "      # y = np.where(y==100, self.pos_class, y)\n",
    "      # print(self.pos_class)\n",
    "      y = np.where(y==1, self.pos_class, y)\n",
    "      # print(y)\n",
    "      # print(y.max())\n",
    "      # print(y.min())\n",
    "      y = np.where(y==-1, self.neg_class, y)\n",
    "      # print(y)\n",
    "      # print(y.max())\n",
    "      # print(y.min())\n",
    "      return y\n",
    "\n",
    "    def predictGauss(self, X_test):\n",
    "        # kernel = self.kernel\n",
    "        alpha_f = self.alpha_f\n",
    "        x_f = self.x_f\n",
    "        y_f= self.y_f\n",
    "        c2 = self.pos_class\n",
    "        c1 = self.neg_class\n",
    "\n",
    "        b = self.b\n",
    "        # print(\"Predicting\")\n",
    "        wtx =  np.exp(-1*cdist(X_test, x_f, \"sqeuclidean\")*gama) @ (alpha_f*y_f) \n",
    "        # print(\"Prediction Done..\")\n",
    "        # print(\"-\"*30)\n",
    "        return self.replaceLabelsAfter(np.sign(wtx+b)), wtx+b\n",
    "    \n",
    "    \n",
    "\n",
    "    def predict(self, test_x, test_y):\n",
    "        c2 = self.pos_class\n",
    "        c1 = self.neg_class\n",
    "        print(f\"pos: {c2}, neg: {c1}\")\n",
    "\n",
    "        kernel = self.kernel\n",
    "        if kernel ==gaussian_kernel:\n",
    "          pred_y, confidence = self.predictGauss(test_x)\n",
    "          return pred_y, confidence\n",
    "        # alpha = self.alpha\n",
    "        # Y = self.Y\n",
    "        # X = self.X\n",
    "        # b = self.b\n",
    "        # p =  np.array([ 1  if getWtX(alpha, Y, X, el, kernel) + b > 0 else -1  for el in tqdm(X_test)])\n",
    "        # p = self.replaceLabelsAfter(p)\n",
    "        # return np.array(p).astype(int)\n",
    "\n",
    "    def fit(self, c1, c2, x, y ):\n",
    "        print(f\"pos: {c2}, neg: {c1}\")\n",
    "        kernel = gaussian_kernel\n",
    "        self.pos_class = c2\n",
    "        self.neg_class = c1\n",
    "        self.kernel = kernel\n",
    "\n",
    "        # print(\"Reading Data\")\n",
    "        train_x, train_y = x,y\n",
    "        train_y = self.replaceLabelsBefore(train_y)\n",
    "        # print(\"replaceLabelsBefore\")\n",
    "        # print(train_y)\n",
    "\n",
    "        cut_off = 1e-5\n",
    "        C = 1\n",
    "        m,n = train_x.shape\n",
    "        # print(\"Calculating P\")\n",
    "        P, KernelMatrix = getP(train_y, train_x, kernel)\n",
    "        q = getq(m)\n",
    "        G, h = getGh(m, C)\n",
    "        A, b = getAb(train_y)\n",
    "\n",
    "        # self.KernelMatrix = KernelMatrix\n",
    "        solvers.options[\"show_progress\"] = False\n",
    "        # print(\"CVXOPT is runnung\")\n",
    "        sol = solvers.qp(P,q,G,h,A,b)\n",
    "        # print(sol['x'])\n",
    "\n",
    "        alpha = np.array(sol['x']).reshape(-1,1)\n",
    "\n",
    "        count_sv = len(alpha[alpha>cut_off])\n",
    "        # print(f\"No. of support vectors:\",  count_sv)\n",
    "\n",
    "        alpha_index = alpha>cut_off\n",
    "        alpha[alpha<cut_off] = 0\n",
    "\n",
    "        alpha_index1 = np.where(alpha_index)[0]\n",
    "\n",
    "        train_x_f = np.take(train_x, alpha_index1, axis=0)\n",
    "\n",
    "        alpha_f = (alpha*alpha_index)\n",
    "        alpha_f = (alpha_f[alpha_f!=0]).reshape(-1,1)\n",
    "\n",
    "        train_y_f = (train_y*alpha_index)\n",
    "        train_y_f = (train_y_f[train_y_f!=0]).reshape(-1,1)\n",
    "        if kernel == gaussian_kernel:\n",
    "          b = getGaussb(alpha,alpha_f, train_x, train_x_f, train_y, train_y_f, KernelMatrix)\n",
    "        # else:\n",
    "        #   b = getb(alpha_f, train_y_f, train_x_f, kernel)\n",
    "        # bb = getbb(alpha, train_x,train_y, KernelMatrix)\n",
    "        \n",
    "\n",
    "        # self.bb = bb\n",
    "        self.count_sv = count_sv\n",
    "        self.alpha_f = alpha_f\n",
    "        self.x_f = train_x_f\n",
    "        self.y_f = train_y_f\n",
    "        self.b = b\n",
    "        # self.w = None\n",
    "\n",
    "        self.alpha = alpha\n",
    "        # self.X = train_x\n",
    "        # self.Y = train_y\n",
    "\n",
    "      \n",
    "        # print(\"Training Done..\")\n",
    "        \n",
    "\n",
    "        # if kernel == linear_kernel:\n",
    "        #     w = np.sum(train_y_f * alpha_f * train_x_f, axis=0).reshape(-1,1)\n",
    "        #     self.w = w\n",
    "\n",
    "        return True\n",
    "        \n",
    "       "
   ]
  },
  {
   "cell_type": "markdown",
   "metadata": {
    "colab_type": "text",
    "id": "3wQdCQ6G96wy"
   },
   "source": [
    "# Training on 45 models"
   ]
  },
  {
   "cell_type": "code",
   "execution_count": 0,
   "metadata": {
    "colab": {},
    "colab_type": "code",
    "id": "7och04Rra56X"
   },
   "outputs": [],
   "source": [
    "base_path = \"/content/drive/My Drive/ML/SVM/MultiClass2/\""
   ]
  },
  {
   "cell_type": "code",
   "execution_count": 0,
   "metadata": {
    "colab": {},
    "colab_type": "code",
    "id": "7EztALEvbZOX"
   },
   "outputs": [],
   "source": [
    "from itertools import  combinations"
   ]
  },
  {
   "cell_type": "code",
   "execution_count": 0,
   "metadata": {
    "colab": {},
    "colab_type": "code",
    "id": "uhNlEr-dbfES"
   },
   "outputs": [],
   "source": [
    "comb_list = list(combinations(range(10) , 2))"
   ]
  },
  {
   "cell_type": "code",
   "execution_count": 0,
   "metadata": {
    "colab": {},
    "colab_type": "code",
    "id": "DAWxmvwUcgje"
   },
   "outputs": [],
   "source": [
    "train_x, train_y = readDataUnfiltered(train_path)"
   ]
  },
  {
   "cell_type": "code",
   "execution_count": 0,
   "metadata": {
    "colab": {},
    "colab_type": "code",
    "id": "7yglFZbscvRq"
   },
   "outputs": [],
   "source": [
    "filterData()"
   ]
  },
  {
   "cell_type": "code",
   "execution_count": 0,
   "metadata": {
    "colab": {},
    "colab_type": "code",
    "id": "8ozn5S9rb2uP"
   },
   "outputs": [],
   "source": [
    "def pl_Fit(i,j):\n",
    "    model_name = str(i)+\"_\"+str(j)\n",
    "    MulSVM_model = MulSVM()\n",
    "    x_ij, y_ij = readData(train_path, i,j)\n",
    "    MulSVM_model.fit(i,j,x_ij, y_ij)\n",
    "    return MulSVM_model\n",
    "\n"
   ]
  },
  {
   "cell_type": "code",
   "execution_count": 0,
   "metadata": {
    "colab": {},
    "colab_type": "code",
    "id": "K_C2rsqfamzc"
   },
   "outputs": [],
   "source": []
  },
  {
   "cell_type": "code",
   "execution_count": 0,
   "metadata": {
    "colab": {
     "base_uri": "https://localhost:8080/",
     "height": 782
    },
    "colab_type": "code",
    "id": "ue0MdrLudd-3",
    "outputId": "6e28c311-0a7a-4358-c2e2-09e283279cdc"
   },
   "outputs": [
    {
     "data": {
      "text/plain": [
       "[(0, 1),\n",
       " (0, 2),\n",
       " (0, 3),\n",
       " (0, 4),\n",
       " (0, 5),\n",
       " (0, 6),\n",
       " (0, 7),\n",
       " (0, 8),\n",
       " (0, 9),\n",
       " (1, 2),\n",
       " (1, 3),\n",
       " (1, 4),\n",
       " (1, 5),\n",
       " (1, 6),\n",
       " (1, 7),\n",
       " (1, 8),\n",
       " (1, 9),\n",
       " (2, 3),\n",
       " (2, 4),\n",
       " (2, 5),\n",
       " (2, 6),\n",
       " (2, 7),\n",
       " (2, 8),\n",
       " (2, 9),\n",
       " (3, 4),\n",
       " (3, 5),\n",
       " (3, 6),\n",
       " (3, 7),\n",
       " (3, 8),\n",
       " (3, 9),\n",
       " (4, 5),\n",
       " (4, 6),\n",
       " (4, 7),\n",
       " (4, 8),\n",
       " (4, 9),\n",
       " (5, 6),\n",
       " (5, 7),\n",
       " (5, 8),\n",
       " (5, 9),\n",
       " (6, 7),\n",
       " (6, 8),\n",
       " (6, 9),\n",
       " (7, 8),\n",
       " (7, 9),\n",
       " (8, 9)]"
      ]
     },
     "execution_count": 101,
     "metadata": {
      "tags": []
     },
     "output_type": "execute_result"
    }
   ],
   "source": [
    "comb_list"
   ]
  },
  {
   "cell_type": "code",
   "execution_count": 0,
   "metadata": {
    "colab": {},
    "colab_type": "code",
    "id": "ZDsce-E5cuIo"
   },
   "outputs": [],
   "source": [
    "out = Parallel(n_jobs=10)(delayed(pl_Fit)(i,j) for i,j in comb_list)"
   ]
  },
  {
   "cell_type": "code",
   "execution_count": 0,
   "metadata": {
    "colab": {},
    "colab_type": "code",
    "id": "nbmLOX9zdhOC"
   },
   "outputs": [],
   "source": [
    "joblib.dump(out, base_path+\"out\")"
   ]
  },
  {
   "cell_type": "code",
   "execution_count": 0,
   "metadata": {
    "colab": {},
    "colab_type": "code",
    "id": "fOSCNHGmg5LT"
   },
   "outputs": [],
   "source": [
    "test_x, test_y = readData(test_path, 0, 1)"
   ]
  },
  {
   "cell_type": "code",
   "execution_count": 0,
   "metadata": {
    "colab": {
     "base_uri": "https://localhost:8080/",
     "height": 34
    },
    "colab_type": "code",
    "id": "nrZuuSoad3wz",
    "outputId": "de623a67-495f-4a94-d34d-9e3755b34f9e"
   },
   "outputs": [
    {
     "data": {
      "text/plain": [
       "6"
      ]
     },
     "execution_count": 120,
     "metadata": {
      "tags": []
     },
     "output_type": "execute_result"
    }
   ],
   "source": [
    "out[20].pos_class"
   ]
  },
  {
   "cell_type": "code",
   "execution_count": 0,
   "metadata": {
    "colab": {},
    "colab_type": "code",
    "id": "hrhJCkSygrz_"
   },
   "outputs": [],
   "source": [
    "p,a = out[0].predictGauss(test_x)"
   ]
  },
  {
   "cell_type": "code",
   "execution_count": 0,
   "metadata": {
    "colab": {
     "base_uri": "https://localhost:8080/",
     "height": 34
    },
    "colab_type": "code",
    "id": "qvc4gjNchGtt",
    "outputId": "93b93c10-68b9-4c0c-f9b1-7df389084d88"
   },
   "outputs": [
    {
     "data": {
      "text/plain": [
       "0.993"
      ]
     },
     "execution_count": 129,
     "metadata": {
      "tags": []
     },
     "output_type": "execute_result"
    }
   ],
   "source": [
    "calculateAccuracy(p, test_y)"
   ]
  },
  {
   "cell_type": "code",
   "execution_count": 0,
   "metadata": {
    "colab": {},
    "colab_type": "code",
    "id": "IX0BDDCc-Gfd"
   },
   "outputs": [],
   "source": []
  },
  {
   "cell_type": "markdown",
   "metadata": {
    "colab_type": "text",
    "id": "YUVVdwTs-In0"
   },
   "source": [
    "# Prediction on 45 models"
   ]
  },
  {
   "cell_type": "code",
   "execution_count": 0,
   "metadata": {
    "colab": {},
    "colab_type": "code",
    "id": "q8hiUyKhjiwN"
   },
   "outputs": [],
   "source": [
    "def pl_pred(test_ex, model):\n",
    "    pred,conf = model.predictGauss(test_ex.reshape(1,-1))\n",
    "    pred = int(pred[0][0])\n",
    "    conf = int(conf[0][0])\n",
    "    return pred, conf"
   ]
  },
  {
   "cell_type": "code",
   "execution_count": 0,
   "metadata": {
    "colab": {},
    "colab_type": "code",
    "id": "T766P53RiJ1-"
   },
   "outputs": [],
   "source": [
    "def predictMulti(test):\n",
    "    test_count = test.shape[0]\n",
    "    m_vote = np.zeros((test_count,10))\n",
    "    m_conf = np.zeros((test_count,10))\n",
    "\n",
    "    for i in tqdm(range(len(comb_list))):\n",
    "        model = out[i]\n",
    "        output =  Parallel(n_jobs=-1)(delayed(pl_pred)(test[i], model) for i in (range(test_count)))\n",
    "        for test_no, el in enumerate(output):\n",
    "                pred, conf = el\n",
    "                # pred = int(pred[0][0])\n",
    "                # conf = int(conf[0][0])\n",
    "\n",
    "                m_vote[test_no][pred] = m_vote[test_no][pred] + 1\n",
    "                m_conf[test_no][pred] = m_conf[test_no][pred] + abs(conf)\n",
    "\n",
    "    p = np.argmax(m_vote, axis=1)\n",
    "    return p, m_vote, m_conf"
   ]
  },
  {
   "cell_type": "code",
   "execution_count": 0,
   "metadata": {
    "colab": {},
    "colab_type": "code",
    "id": "kKPOPlBclD_x"
   },
   "outputs": [],
   "source": [
    "test_x, test_y = readDataUnfiltered(test_path)"
   ]
  },
  {
   "cell_type": "code",
   "execution_count": 0,
   "metadata": {
    "colab": {},
    "colab_type": "code",
    "id": "eEZF80f7lLIe"
   },
   "outputs": [],
   "source": [
    "val_x, val_y = readDataUnfiltered(val_path)"
   ]
  },
  {
   "cell_type": "code",
   "execution_count": 0,
   "metadata": {
    "colab": {
     "base_uri": "https://localhost:8080/",
     "height": 816
    },
    "colab_type": "code",
    "id": "PyLmyXdjlQBG",
    "outputId": "7bee3160-6316-4f71-921f-7f8487d6fcae"
   },
   "outputs": [
    {
     "name": "stderr",
     "output_type": "stream",
     "text": [
      "\n",
      "  0%|          | 0/45 [00:00<?, ?it/s]\u001b[A\n",
      "  2%|▏         | 1/45 [00:28<21:08, 28.83s/it]\u001b[A\n",
      "  4%|▍         | 2/45 [00:58<20:50, 29.07s/it]\u001b[A\n",
      "  7%|▋         | 3/45 [01:28<20:30, 29.29s/it]\u001b[A\n",
      "  9%|▉         | 4/45 [01:57<20:01, 29.31s/it]\u001b[A\n",
      " 11%|█         | 5/45 [02:27<19:35, 29.38s/it]\u001b[A\n",
      " 13%|█▎        | 6/45 [02:58<19:30, 30.01s/it]\u001b[A\n",
      " 16%|█▌        | 7/45 [03:26<18:40, 29.50s/it]\u001b[A\n",
      " 18%|█▊        | 8/45 [03:56<18:12, 29.54s/it]\u001b[A\n",
      " 20%|██        | 9/45 [04:25<17:37, 29.38s/it]\u001b[A\n",
      " 22%|██▏       | 10/45 [04:54<17:04, 29.27s/it]\u001b[A\n",
      " 24%|██▍       | 11/45 [05:23<16:33, 29.22s/it]\u001b[A\n",
      " 27%|██▋       | 12/45 [05:52<16:02, 29.17s/it]\u001b[A\n",
      " 29%|██▉       | 13/45 [06:21<15:32, 29.14s/it]\u001b[A\n",
      " 31%|███       | 14/45 [06:51<15:04, 29.19s/it]\u001b[A\n",
      " 33%|███▎      | 15/45 [07:19<14:31, 29.04s/it]\u001b[A\n",
      " 36%|███▌      | 16/45 [07:50<14:13, 29.41s/it]\u001b[A\n",
      " 38%|███▊      | 17/45 [08:19<13:44, 29.44s/it]\u001b[A\n",
      " 40%|████      | 18/45 [08:49<13:14, 29.44s/it]\u001b[A\n",
      " 42%|████▏     | 19/45 [09:20<13:03, 30.15s/it]\u001b[A\n",
      " 44%|████▍     | 20/45 [09:50<12:28, 29.95s/it]\u001b[A\n",
      " 47%|████▋     | 21/45 [10:22<12:15, 30.66s/it]\u001b[A\n",
      " 49%|████▉     | 22/45 [10:51<11:33, 30.14s/it]\u001b[A\n",
      " 51%|█████     | 23/45 [11:21<10:59, 29.96s/it]\u001b[A\n",
      " 53%|█████▎    | 24/45 [11:49<10:21, 29.58s/it]\u001b[A\n",
      " 56%|█████▌    | 25/45 [12:19<09:53, 29.68s/it]\u001b[A\n",
      " 58%|█████▊    | 26/45 [12:49<09:23, 29.68s/it]\u001b[A\n",
      " 60%|██████    | 27/45 [13:19<08:57, 29.88s/it]\u001b[A\n",
      " 62%|██████▏   | 28/45 [13:48<08:21, 29.49s/it]\u001b[A\n",
      " 64%|██████▍   | 29/45 [14:18<07:53, 29.62s/it]\u001b[A\n",
      " 67%|██████▋   | 30/45 [14:47<07:22, 29.49s/it]\u001b[A\n",
      " 69%|██████▉   | 31/45 [15:16<06:52, 29.47s/it]\u001b[A\n",
      " 71%|███████   | 32/45 [15:48<06:32, 30.15s/it]\u001b[A\n",
      " 73%|███████▎  | 33/45 [16:17<05:57, 29.80s/it]\u001b[A\n",
      " 76%|███████▌  | 34/45 [16:48<05:29, 29.98s/it]\u001b[A\n",
      " 78%|███████▊  | 35/45 [17:17<04:57, 29.71s/it]\u001b[A\n",
      " 80%|████████  | 36/45 [17:46<04:27, 29.69s/it]\u001b[A\n",
      " 82%|████████▏ | 37/45 [18:16<03:58, 29.79s/it]\u001b[A\n",
      " 84%|████████▍ | 38/45 [18:46<03:28, 29.83s/it]\u001b[A\n",
      " 87%|████████▋ | 39/45 [19:15<02:57, 29.56s/it]\u001b[A\n",
      " 89%|████████▉ | 40/45 [19:44<02:27, 29.43s/it]\u001b[A\n",
      " 91%|█████████ | 41/45 [20:15<01:58, 29.72s/it]\u001b[A\n",
      " 93%|█████████▎| 42/45 [20:43<01:28, 29.44s/it]\u001b[A\n",
      " 96%|█████████▌| 43/45 [21:13<00:58, 29.47s/it]\u001b[A\n",
      " 98%|█████████▊| 44/45 [21:41<00:29, 29.00s/it]\u001b[A\n",
      "100%|██████████| 45/45 [22:11<00:00, 29.23s/it]\u001b[A\n",
      "\u001b[A"
     ]
    }
   ],
   "source": [
    "p, mv, mc = predictMulti(test_x)"
   ]
  },
  {
   "cell_type": "code",
   "execution_count": 0,
   "metadata": {
    "colab": {},
    "colab_type": "code",
    "id": "bgxXfboMlbUC"
   },
   "outputs": [],
   "source": [
    "acc1 = calculateAccuracy(p ,test_y)"
   ]
  },
  {
   "cell_type": "code",
   "execution_count": 0,
   "metadata": {
    "colab": {
     "base_uri": "https://localhost:8080/",
     "height": 34
    },
    "colab_type": "code",
    "id": "3x3rYMMvlhUL",
    "outputId": "63bbe25b-e9b8-484f-8168-e0ec7388cb7c"
   },
   "outputs": [
    {
     "data": {
      "text/plain": [
       "0.8506"
      ]
     },
     "execution_count": 160,
     "metadata": {
      "tags": []
     },
     "output_type": "execute_result"
    }
   ],
   "source": [
    "acc1"
   ]
  },
  {
   "cell_type": "code",
   "execution_count": 0,
   "metadata": {
    "colab": {},
    "colab_type": "code",
    "id": "FGNAZsOPryJu"
   },
   "outputs": [],
   "source": [
    "f1_test = f1_score(test_y, p, average=\"weighted\")"
   ]
  },
  {
   "cell_type": "code",
   "execution_count": 0,
   "metadata": {
    "colab": {
     "base_uri": "https://localhost:8080/",
     "height": 34
    },
    "colab_type": "code",
    "id": "GWIVbPALr5Tz",
    "outputId": "90010e10-85b9-4ea7-eadd-233aba4d815b"
   },
   "outputs": [
    {
     "data": {
      "text/plain": [
       "0.8513590364003317"
      ]
     },
     "execution_count": 158,
     "metadata": {
      "tags": []
     },
     "output_type": "execute_result"
    }
   ],
   "source": [
    "f1_test"
   ]
  },
  {
   "cell_type": "code",
   "execution_count": 0,
   "metadata": {
    "colab": {
     "base_uri": "https://localhost:8080/",
     "height": 51
    },
    "colab_type": "code",
    "id": "X808Pxgtr-Iz",
    "outputId": "ccfcc5c1-eecd-44f9-e5ee-559387d0c7e9"
   },
   "outputs": [
    {
     "name": "stdout",
     "output_type": "stream",
     "text": [
      "Accuracy on Test 0.8506\n",
      "F1 score on Test 0.8513590364003317\n"
     ]
    }
   ],
   "source": [
    "print(\"Accuracy on Test\",acc1 )\n",
    "print(\"F1 score on Test\", f1_test)"
   ]
  },
  {
   "cell_type": "code",
   "execution_count": 0,
   "metadata": {
    "colab": {
     "base_uri": "https://localhost:8080/",
     "height": 587
    },
    "colab_type": "code",
    "id": "nGlATD21sJit",
    "outputId": "f77249d8-402c-4ac1-b044-5a5b93376465"
   },
   "outputs": [
    {
     "data": {
      "image/png": "[encoded data removed]",
      "text/plain": [
       "<Figure size 792x648 with 2 Axes>"
      ]
     },
     "metadata": {
      "tags": []
     },
     "output_type": "display_data"
    }
   ],
   "source": [
    "plot_cm(test_y.astype(int), p.astype(int), title=\"Implemented Confusion Matrix: Test\")"
   ]
  },
  {
   "cell_type": "code",
   "execution_count": 0,
   "metadata": {
    "colab": {},
    "colab_type": "code",
    "id": "WCKhl1Evskox"
   },
   "outputs": [],
   "source": []
  },
  {
   "cell_type": "code",
   "execution_count": 0,
   "metadata": {
    "colab": {
     "base_uri": "https://localhost:8080/",
     "height": 816
    },
    "colab_type": "code",
    "id": "2an5d5xDtyHB",
    "outputId": "e0598a54-a63a-44ba-dffd-341e4711b3e9"
   },
   "outputs": [
    {
     "name": "stderr",
     "output_type": "stream",
     "text": [
      "\n",
      "  0%|          | 0/45 [00:00<?, ?it/s]\u001b[A\n",
      "  2%|▏         | 1/45 [00:28<20:35, 28.07s/it]\u001b[A\n",
      "  4%|▍         | 2/45 [00:43<17:18, 24.15s/it]\u001b[A\n",
      "  7%|▋         | 3/45 [00:58<15:01, 21.46s/it]\u001b[A\n",
      "  9%|▉         | 4/45 [01:13<13:20, 19.53s/it]\u001b[A\n",
      " 11%|█         | 5/45 [01:28<12:05, 18.14s/it]\u001b[A\n",
      " 13%|█▎        | 6/45 [01:44<11:23, 17.52s/it]\u001b[A\n",
      " 16%|█▌        | 7/45 [01:58<10:31, 16.63s/it]\u001b[A\n",
      " 18%|█▊        | 8/45 [02:13<09:56, 16.13s/it]\u001b[A\n",
      " 20%|██        | 9/45 [02:28<09:24, 15.69s/it]\u001b[A\n",
      " 22%|██▏       | 10/45 [02:43<08:59, 15.41s/it]\u001b[A\n",
      " 24%|██▍       | 11/45 [02:57<08:34, 15.12s/it]\u001b[A\n",
      " 27%|██▋       | 12/45 [03:11<08:09, 14.84s/it]\u001b[A\n",
      " 29%|██▉       | 13/45 [03:26<07:51, 14.72s/it]\u001b[A\n",
      " 31%|███       | 14/45 [03:41<07:37, 14.76s/it]\u001b[A\n",
      " 33%|███▎      | 15/45 [03:55<07:18, 14.63s/it]\u001b[A\n",
      " 36%|███▌      | 16/45 [04:10<07:05, 14.69s/it]\u001b[A\n",
      " 38%|███▊      | 17/45 [04:24<06:50, 14.68s/it]\u001b[A\n",
      " 40%|████      | 18/45 [04:39<06:36, 14.69s/it]\u001b[A\n",
      " 42%|████▏     | 19/45 [04:55<06:31, 15.07s/it]\u001b[A\n",
      " 44%|████▍     | 20/45 [05:10<06:14, 14.98s/it]\u001b[A\n",
      " 47%|████▋     | 21/45 [05:26<06:09, 15.39s/it]\u001b[A\n",
      " 49%|████▉     | 22/45 [05:41<05:47, 15.13s/it]\u001b[A\n",
      " 51%|█████     | 23/45 [05:56<05:33, 15.15s/it]\u001b[A\n",
      " 53%|█████▎    | 24/45 [06:11<05:15, 15.03s/it]\u001b[A\n",
      " 56%|█████▌    | 25/45 [06:26<05:02, 15.12s/it]\u001b[A\n",
      " 58%|█████▊    | 26/45 [06:41<04:46, 15.07s/it]\u001b[A\n",
      " 60%|██████    | 27/45 [06:56<04:33, 15.17s/it]\u001b[A\n",
      " 62%|██████▏   | 28/45 [07:11<04:15, 15.01s/it]\u001b[A\n",
      " 64%|██████▍   | 29/45 [07:26<04:00, 15.05s/it]\u001b[A\n",
      " 67%|██████▋   | 30/45 [07:41<03:44, 14.96s/it]\u001b[A\n",
      " 69%|██████▉   | 31/45 [07:56<03:29, 14.99s/it]\u001b[A\n",
      " 71%|███████   | 32/45 [08:12<03:19, 15.34s/it]\u001b[A\n",
      " 73%|███████▎  | 33/45 [08:27<03:02, 15.18s/it]\u001b[A\n",
      " 76%|███████▌  | 34/45 [08:42<02:46, 15.15s/it]\u001b[A\n",
      " 78%|███████▊  | 35/45 [08:57<02:30, 15.03s/it]\u001b[A\n",
      " 80%|████████  | 36/45 [09:12<02:15, 15.02s/it]\u001b[A\n",
      " 82%|████████▏ | 37/45 [09:27<02:00, 15.09s/it]\u001b[A\n",
      " 84%|████████▍ | 38/45 [09:43<01:46, 15.23s/it]\u001b[A\n",
      " 87%|████████▋ | 39/45 [09:58<01:31, 15.24s/it]\u001b[A\n",
      " 89%|████████▉ | 40/45 [10:13<01:15, 15.11s/it]\u001b[A\n",
      " 91%|█████████ | 41/45 [10:28<01:00, 15.25s/it]\u001b[A\n",
      " 93%|█████████▎| 42/45 [10:43<00:45, 15.16s/it]\u001b[A\n",
      " 96%|█████████▌| 43/45 [10:58<00:30, 15.13s/it]\u001b[A\n",
      " 98%|█████████▊| 44/45 [11:12<00:14, 14.82s/it]\u001b[A\n",
      "100%|██████████| 45/45 [11:27<00:00, 14.90s/it]\u001b[A\n",
      "\u001b[A"
     ]
    }
   ],
   "source": [
    "p_val, mv_val, mc_val = predictMulti(val_x)"
   ]
  },
  {
   "cell_type": "code",
   "execution_count": 0,
   "metadata": {
    "colab": {
     "base_uri": "https://localhost:8080/",
     "height": 51
    },
    "colab_type": "code",
    "id": "xGYhX-lXt3GN",
    "outputId": "e3d4d387-7609-44ac-8973-56d26692715d"
   },
   "outputs": [
    {
     "name": "stdout",
     "output_type": "stream",
     "text": [
      "Accuracy on Val 0.8504\n",
      "F1 score on Val 0.8506360017907653\n"
     ]
    }
   ],
   "source": [
    "acc_val = calculateAccuracy(p_val ,val_y)\n",
    "f1_val = f1_score(val_y, p_val, average=\"weighted\")\n",
    "\n",
    "print(\"Accuracy on Val\",acc_val )\n",
    "print(\"F1 score on Val\", f1_val)"
   ]
  },
  {
   "cell_type": "code",
   "execution_count": 0,
   "metadata": {
    "colab": {
     "base_uri": "https://localhost:8080/",
     "height": 587
    },
    "colab_type": "code",
    "id": "oyR4_1Hyw4ZT",
    "outputId": "5ad9a41c-9715-4d69-ff5a-36b30e3a31be"
   },
   "outputs": [
    {
     "data": {
      "image/png": "[encoded data removed]",
      "text/plain": [
       "<Figure size 792x648 with 2 Axes>"
      ]
     },
     "metadata": {
      "tags": []
     },
     "output_type": "display_data"
    }
   ],
   "source": [
    "plot_cm(val_y.astype(int), p_val.astype(int), title=\"Implemented Confusion Matrix: Validation\")"
   ]
  },
  {
   "cell_type": "code",
   "execution_count": 0,
   "metadata": {
    "colab": {},
    "colab_type": "code",
    "id": "cYEPEt6wxjD1"
   },
   "outputs": [],
   "source": []
  }
 ],
 "metadata": {
  "accelerator": "TPU",
  "colab": {
   "collapsed_sections": [],
   "machine_shape": "hm",
   "name": "SVM_Multi_Own_final.ipynb",
   "provenance": []
  },
  "kernelspec": {
   "display_name": "Python 3",
   "language": "python",
   "name": "python3"
  },
  "language_info": {
   "codemirror_mode": {
    "name": "ipython",
    "version": 3
   },
   "file_extension": ".py",
   "mimetype": "text/x-python",
   "name": "python",
   "nbconvert_exporter": "python",
   "pygments_lexer": "ipython3",
   "version": "3.7.4"
  }
 },
 "nbformat": 4,
 "nbformat_minor": 1
}
