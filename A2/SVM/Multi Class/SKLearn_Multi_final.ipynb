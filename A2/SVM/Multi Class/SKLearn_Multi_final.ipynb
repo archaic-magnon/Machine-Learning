{
 "cells": [
  {
   "cell_type": "code",
   "execution_count": 1,
   "metadata": {},
   "outputs": [],
   "source": [
    "import cvxopt\n",
    "import pandas as pd\n",
    "import numpy as np\n",
    "from cvxopt import solvers, matrix\n",
    "from sklearn.metrics import accuracy_score, confusion_matrix, f1_score, roc_curve, auc, roc_auc_score\n",
    "import seaborn as sns\n",
    "import matplotlib.pyplot as plt  \n",
    "import math\n",
    "from scipy.spatial.distance import cdist\n",
    "import time\n",
    "from tqdm import tqdm\n",
    "from sklearn.svm import SVC\n",
    "from scipy.spatial.distance import pdist, squareform\n",
    "import scipy\n",
    "import joblib\n",
    "from itertools import combinations\n",
    "from joblib import Parallel, delayed\n",
    "from sklearn.model_selection import StratifiedKFold\n",
    "from sklearn import svm\n",
    "from sklearn.model_selection import GridSearchCV"
   ]
  },
  {
   "cell_type": "code",
   "execution_count": 2,
   "metadata": {},
   "outputs": [
    {
     "name": "stdout",
     "output_type": "stream",
     "text": [
      "8\n"
     ]
    }
   ],
   "source": [
    "import multiprocessing \n",
    "print(multiprocessing.cpu_count())"
   ]
  },
  {
   "cell_type": "code",
   "execution_count": 3,
   "metadata": {},
   "outputs": [],
   "source": [
    "gama = 0.05"
   ]
  },
  {
   "cell_type": "code",
   "execution_count": 4,
   "metadata": {},
   "outputs": [],
   "source": [
    "train_path = \"data/train.csv\"\n",
    "test_path = \"data/test.csv\"\n",
    "val_path = \"data/val.csv\""
   ]
  },
  {
   "cell_type": "code",
   "execution_count": 5,
   "metadata": {},
   "outputs": [],
   "source": [
    "def readData(path, c1, c2):\n",
    "\tdata = pd.read_csv(path, header=None)\n",
    "\n",
    "\tlast_column = data.shape[1]-1\n",
    "\tdata = filterData(c1, c2, data)\n",
    "\n",
    "\t# y_data = setY_1(data[last_column], c2, c1)\n",
    "\tx_data = scaleData(data.drop(last_column,1))\n",
    "\ty_data = data[last_column]\n",
    "\n",
    "\treturn np.array(x_data), np.array(y_data).reshape(-1,1)\n"
   ]
  },
  {
   "cell_type": "code",
   "execution_count": 6,
   "metadata": {},
   "outputs": [],
   "source": [
    "def readDataUnfiltered(path):\n",
    "    data = pd.read_csv(path, header=None)\n",
    "\n",
    "    last_column = data.shape[1]-1\n",
    "    # data = filterData(c1, c2, data)\n",
    "\n",
    "    x_data = scaleData(data.drop(last_column,1))\n",
    "    y_data = data[last_column]\n",
    "\n",
    "\n",
    "    return np.array(x_data), np.array(y_data).reshape(-1,1)"
   ]
  },
  {
   "cell_type": "code",
   "execution_count": 7,
   "metadata": {},
   "outputs": [],
   "source": [
    "def filterData(c1, c2, data):\n",
    "\tlast_column = data.shape[1]-1\n",
    "\n",
    "\tr_data = data[(data[last_column]==c1) | (data[last_column]==c2)]\n",
    "\treturn r_data "
   ]
  },
  {
   "cell_type": "code",
   "execution_count": 8,
   "metadata": {},
   "outputs": [],
   "source": [
    "def scaleData(data):\n",
    "    return data / 255"
   ]
  },
  {
   "cell_type": "code",
   "execution_count": 9,
   "metadata": {},
   "outputs": [],
   "source": [
    "\n",
    "def calculateAccuracy(actual, predicted):\n",
    "    count = 0\n",
    "    for y1, y2 in zip(actual, predicted):\n",
    "        if y1==y2:\n",
    "            count+=1\n",
    "    return count/len(predicted)"
   ]
  },
  {
   "cell_type": "code",
   "execution_count": 10,
   "metadata": {},
   "outputs": [],
   "source": [
    "def plot_cm(actual, predicted,title=\"Confusion Matrix\" ,labels=None):\n",
    "    cm = confusion_matrix(actual, predicted, labels=labels)\n",
    "    df_cm = pd.DataFrame(cm, columns=np.unique(actual), index = np.unique(actual))\n",
    "    df_cm.index.name = 'Actual'\n",
    "    df_cm.columns.name = 'Predicted'\n",
    "    plt.figure(figsize = (11,9))\n",
    "    sns.set(font_scale=1.4)#for label size\n",
    "    plt.title(title)\n",
    "\n",
    "    ax = sns.heatmap(df_cm, cmap=\"Blues\", annot=True,annot_kws={\"size\": 16}, fmt='d')# font size\n",
    "    bottom, top = ax.get_ylim()\n",
    "    ax.set_ylim(bottom + 0.5, top - 0.5)\n",
    "    plt.show()"
   ]
  },
  {
   "cell_type": "markdown",
   "metadata": {},
   "source": [
    "# Train Multi"
   ]
  },
  {
   "cell_type": "code",
   "execution_count": 22,
   "metadata": {
    "collapsed": true
   },
   "outputs": [
    {
     "name": "stderr",
     "output_type": "stream",
     "text": [
      "\n",
      "\n",
      "\n",
      "\n",
      "  0%|          | 0/9 [00:00<?, ?it/s]\u001b[A\u001b[A\u001b[A\u001b[A\n",
      "\n",
      "\n",
      "\n",
      "\n",
      "  0%|          | 0/9 [00:00<?, ?it/s]\u001b[A\u001b[A\u001b[A\u001b[A\u001b[A\n",
      "\n",
      "\n",
      "\n",
      "\n",
      " 11%|█         | 1/9 [00:16<02:15, 16.97s/it]\u001b[A\u001b[A\u001b[A\u001b[A\u001b[A"
     ]
    },
    {
     "name": "stdout",
     "output_type": "stream",
     "text": [
      "train_pred 0.9984444444444445\n",
      "val_pred 0.986\n",
      "test_pred 0.989\n"
     ]
    },
    {
     "name": "stderr",
     "output_type": "stream",
     "text": [
      "\n",
      "\n",
      "\n",
      "\n",
      "\n",
      " 22%|██▏       | 2/9 [00:37<02:06, 18.00s/it]\u001b[A\u001b[A\u001b[A\u001b[A\u001b[A"
     ]
    },
    {
     "name": "stdout",
     "output_type": "stream",
     "text": [
      "train_pred 0.9928888888888889\n",
      "val_pred 0.976\n",
      "test_pred 0.967\n"
     ]
    },
    {
     "name": "stderr",
     "output_type": "stream",
     "text": [
      "\n",
      "\n",
      "\n",
      "\n",
      "\n",
      " 33%|███▎      | 3/9 [01:05<02:05, 20.92s/it]\u001b[A\u001b[A\u001b[A\u001b[A\u001b[A"
     ]
    },
    {
     "name": "stdout",
     "output_type": "stream",
     "text": [
      "train_pred 0.992\n",
      "val_pred 0.96\n",
      "test_pred 0.961\n"
     ]
    },
    {
     "name": "stderr",
     "output_type": "stream",
     "text": [
      "\n",
      "\n",
      "\n",
      "\n",
      "\n",
      " 44%|████▍     | 4/9 [01:27<01:46, 21.33s/it]\u001b[A\u001b[A\u001b[A\u001b[A\u001b[A"
     ]
    },
    {
     "name": "stdout",
     "output_type": "stream",
     "text": [
      "train_pred 0.9988888888888889\n",
      "val_pred 0.988\n",
      "test_pred 0.983\n"
     ]
    },
    {
     "name": "stderr",
     "output_type": "stream",
     "text": [
      "\n",
      "\n",
      "\n",
      "\n",
      "\n",
      " 56%|█████▌    | 5/9 [01:47<01:24, 21.02s/it]\u001b[A\u001b[A\u001b[A\u001b[A\u001b[A"
     ]
    },
    {
     "name": "stdout",
     "output_type": "stream",
     "text": [
      "train_pred 0.9997777777777778\n",
      "val_pred 0.998\n",
      "test_pred 0.999\n"
     ]
    },
    {
     "name": "stderr",
     "output_type": "stream",
     "text": [
      "\n",
      "\n",
      "\n",
      "\n",
      "\n",
      " 67%|██████▋   | 6/9 [02:23<01:16, 25.41s/it]\u001b[A\u001b[A\u001b[A\u001b[A\u001b[A"
     ]
    },
    {
     "name": "stdout",
     "output_type": "stream",
     "text": [
      "train_pred 0.9662222222222222\n",
      "val_pred 0.866\n",
      "test_pred 0.858\n"
     ]
    },
    {
     "name": "stderr",
     "output_type": "stream",
     "text": [
      "\n",
      "\n",
      "\n",
      "\n",
      "\n",
      " 78%|███████▊  | 7/9 [02:36<00:43, 21.79s/it]\u001b[A\u001b[A\u001b[A\u001b[A\u001b[A"
     ]
    },
    {
     "name": "stdout",
     "output_type": "stream",
     "text": [
      "train_pred 0.9997777777777778\n",
      "val_pred 0.992\n",
      "test_pred 0.999\n"
     ]
    },
    {
     "name": "stderr",
     "output_type": "stream",
     "text": [
      "\n",
      "\n",
      "\n",
      "\n",
      "\n",
      " 89%|████████▉ | 8/9 [02:56<00:21, 21.06s/it]\u001b[A\u001b[A\u001b[A\u001b[A\u001b[A"
     ]
    },
    {
     "name": "stdout",
     "output_type": "stream",
     "text": [
      "train_pred 0.9982222222222222\n",
      "val_pred 0.986\n",
      "test_pred 0.978\n"
     ]
    },
    {
     "name": "stderr",
     "output_type": "stream",
     "text": [
      "\n",
      "\n",
      "\n",
      "\n",
      "\n",
      "100%|██████████| 9/9 [03:12<00:00, 21.44s/it]\u001b[A\u001b[A\u001b[A\u001b[A\u001b[A\n",
      "\n",
      "\n",
      "\n",
      "\n",
      " 11%|█         | 1/9 [03:12<25:43, 192.99s/it]\u001b[A\u001b[A\u001b[A\u001b[A\n",
      "\n",
      "\n",
      "\n",
      "\n",
      "  0%|          | 0/8 [00:00<?, ?it/s]\u001b[A\u001b[A\u001b[A\u001b[A\u001b[A"
     ]
    },
    {
     "name": "stdout",
     "output_type": "stream",
     "text": [
      "train_pred 1.0\n",
      "val_pred 1.0\n",
      "test_pred 0.998\n"
     ]
    },
    {
     "name": "stderr",
     "output_type": "stream",
     "text": [
      "\n",
      "\n",
      "\n",
      "\n",
      "\n",
      " 12%|█▎        | 1/8 [00:17<02:04, 17.82s/it]\u001b[A\u001b[A\u001b[A\u001b[A\u001b[A"
     ]
    },
    {
     "name": "stdout",
     "output_type": "stream",
     "text": [
      "train_pred 0.9991111111111111\n",
      "val_pred 0.99\n",
      "test_pred 0.989\n"
     ]
    },
    {
     "name": "stderr",
     "output_type": "stream",
     "text": [
      "\n",
      "\n",
      "\n",
      "\n",
      "\n",
      " 25%|██▌       | 2/8 [00:34<01:45, 17.51s/it]\u001b[A\u001b[A\u001b[A\u001b[A\u001b[A"
     ]
    },
    {
     "name": "stdout",
     "output_type": "stream",
     "text": [
      "train_pred 0.9964444444444445\n",
      "val_pred 0.976\n",
      "test_pred 0.984\n"
     ]
    },
    {
     "name": "stderr",
     "output_type": "stream",
     "text": [
      "\n",
      "\n",
      "\n",
      "\n",
      "\n",
      " 38%|███▊      | 3/8 [00:49<01:23, 16.63s/it]\u001b[A\u001b[A\u001b[A\u001b[A\u001b[A"
     ]
    },
    {
     "name": "stdout",
     "output_type": "stream",
     "text": [
      "train_pred 1.0\n",
      "val_pred 0.988\n",
      "test_pred 0.989\n"
     ]
    },
    {
     "name": "stderr",
     "output_type": "stream",
     "text": [
      "\n",
      "\n",
      "\n",
      "\n",
      "\n",
      " 50%|█████     | 4/8 [01:04<01:05, 16.32s/it]\u001b[A\u001b[A\u001b[A\u001b[A\u001b[A"
     ]
    },
    {
     "name": "stdout",
     "output_type": "stream",
     "text": [
      "train_pred 1.0\n",
      "val_pred 0.994\n",
      "test_pred 1.0\n"
     ]
    },
    {
     "name": "stderr",
     "output_type": "stream",
     "text": [
      "\n",
      "\n",
      "\n",
      "\n",
      "\n",
      " 62%|██████▎   | 5/8 [01:25<00:52, 17.61s/it]\u001b[A\u001b[A\u001b[A\u001b[A\u001b[A"
     ]
    },
    {
     "name": "stdout",
     "output_type": "stream",
     "text": [
      "train_pred 0.9982222222222222\n",
      "val_pred 0.986\n",
      "test_pred 0.986\n"
     ]
    },
    {
     "name": "stderr",
     "output_type": "stream",
     "text": [
      "\n",
      "\n",
      "\n",
      "\n",
      "\n",
      " 75%|███████▌  | 6/8 [01:37<00:32, 16.07s/it]\u001b[A\u001b[A\u001b[A\u001b[A\u001b[A"
     ]
    },
    {
     "name": "stdout",
     "output_type": "stream",
     "text": [
      "train_pred 1.0\n",
      "val_pred 1.0\n",
      "test_pred 1.0\n"
     ]
    },
    {
     "name": "stderr",
     "output_type": "stream",
     "text": [
      "\n",
      "\n",
      "\n",
      "\n",
      "\n",
      " 88%|████████▊ | 7/8 [01:58<00:17, 17.42s/it]\u001b[A\u001b[A\u001b[A\u001b[A\u001b[A"
     ]
    },
    {
     "name": "stdout",
     "output_type": "stream",
     "text": [
      "train_pred 0.9997777777777778\n",
      "val_pred 0.992\n",
      "test_pred 0.997\n"
     ]
    },
    {
     "name": "stderr",
     "output_type": "stream",
     "text": [
      "\n",
      "\n",
      "\n",
      "\n",
      "\n",
      "100%|██████████| 8/8 [02:14<00:00, 16.76s/it]\u001b[A\u001b[A\u001b[A\u001b[A\u001b[A\n",
      "\n",
      "\n",
      "\n",
      "\n",
      " 22%|██▏       | 2/9 [05:27<20:27, 175.33s/it]\u001b[A\u001b[A\u001b[A\u001b[A\n",
      "\n",
      "\n",
      "\n",
      "\n",
      "  0%|          | 0/7 [00:00<?, ?it/s]\u001b[A\u001b[A\u001b[A\u001b[A\u001b[A"
     ]
    },
    {
     "name": "stdout",
     "output_type": "stream",
     "text": [
      "train_pred 1.0\n",
      "val_pred 0.998\n",
      "test_pred 1.0\n"
     ]
    },
    {
     "name": "stderr",
     "output_type": "stream",
     "text": [
      "\n",
      "\n",
      "\n",
      "\n",
      "\n",
      " 14%|█▍        | 1/7 [00:18<01:49, 18.20s/it]\u001b[A\u001b[A\u001b[A\u001b[A\u001b[A"
     ]
    },
    {
     "name": "stdout",
     "output_type": "stream",
     "text": [
      "train_pred 0.994\n",
      "val_pred 0.982\n",
      "test_pred 0.972\n"
     ]
    },
    {
     "name": "stderr",
     "output_type": "stream",
     "text": [
      "\n",
      "\n",
      "\n",
      "\n",
      "\n",
      " 29%|██▊       | 2/7 [00:49<01:51, 22.26s/it]\u001b[A\u001b[A\u001b[A\u001b[A\u001b[A"
     ]
    },
    {
     "name": "stdout",
     "output_type": "stream",
     "text": [
      "train_pred 0.9744444444444444\n",
      "val_pred 0.892\n",
      "test_pred 0.894\n"
     ]
    },
    {
     "name": "stderr",
     "output_type": "stream",
     "text": [
      "\n",
      "\n",
      "\n",
      "\n",
      "\n",
      " 43%|████▎     | 3/7 [01:07<01:23, 20.92s/it]\u001b[A\u001b[A\u001b[A\u001b[A\u001b[A"
     ]
    },
    {
     "name": "stdout",
     "output_type": "stream",
     "text": [
      "train_pred 1.0\n",
      "val_pred 0.998\n",
      "test_pred 0.997\n"
     ]
    },
    {
     "name": "stderr",
     "output_type": "stream",
     "text": [
      "\n",
      "\n",
      "\n",
      "\n",
      "\n",
      " 57%|█████▋    | 4/7 [01:41<01:14, 24.72s/it]\u001b[A\u001b[A\u001b[A\u001b[A\u001b[A"
     ]
    },
    {
     "name": "stdout",
     "output_type": "stream",
     "text": [
      "train_pred 0.9764444444444444\n",
      "val_pred 0.894\n",
      "test_pred 0.874\n"
     ]
    },
    {
     "name": "stderr",
     "output_type": "stream",
     "text": [
      "\n",
      "\n",
      "\n",
      "\n",
      "\n",
      " 71%|███████▏  | 5/7 [01:56<00:43, 21.75s/it]\u001b[A\u001b[A\u001b[A\u001b[A\u001b[A"
     ]
    },
    {
     "name": "stdout",
     "output_type": "stream",
     "text": [
      "train_pred 1.0\n",
      "val_pred 0.992\n",
      "test_pred 0.999\n"
     ]
    },
    {
     "name": "stderr",
     "output_type": "stream",
     "text": [
      "\n",
      "\n",
      "\n",
      "\n",
      "\n",
      " 86%|████████▌ | 6/7 [02:16<00:21, 21.41s/it]\u001b[A\u001b[A\u001b[A\u001b[A\u001b[A"
     ]
    },
    {
     "name": "stdout",
     "output_type": "stream",
     "text": [
      "train_pred 0.9995555555555555\n",
      "val_pred 0.976\n",
      "test_pred 0.986\n"
     ]
    },
    {
     "name": "stderr",
     "output_type": "stream",
     "text": [
      "\n",
      "\n",
      "\n",
      "\n",
      "\n",
      "100%|██████████| 7/7 [02:32<00:00, 21.76s/it]\u001b[A\u001b[A\u001b[A\u001b[A\u001b[A\n",
      "\n",
      "\n",
      "\n",
      "\n",
      " 33%|███▎      | 3/9 [07:59<16:50, 168.42s/it]\u001b[A\u001b[A\u001b[A\u001b[A\n",
      "\n",
      "\n",
      "\n",
      "\n",
      "  0%|          | 0/6 [00:00<?, ?it/s]\u001b[A\u001b[A\u001b[A\u001b[A\u001b[A"
     ]
    },
    {
     "name": "stdout",
     "output_type": "stream",
     "text": [
      "train_pred 1.0\n",
      "val_pred 1.0\n",
      "test_pred 0.999\n"
     ]
    },
    {
     "name": "stderr",
     "output_type": "stream",
     "text": [
      "\n",
      "\n",
      "\n",
      "\n",
      "\n",
      " 17%|█▋        | 1/6 [00:26<02:10, 26.09s/it]\u001b[A\u001b[A\u001b[A\u001b[A\u001b[A"
     ]
    },
    {
     "name": "stdout",
     "output_type": "stream",
     "text": [
      "train_pred 0.9902222222222222\n",
      "val_pred 0.964\n",
      "test_pred 0.965\n"
     ]
    },
    {
     "name": "stderr",
     "output_type": "stream",
     "text": [
      "\n",
      "\n",
      "\n",
      "\n",
      "\n",
      " 33%|███▎      | 2/6 [00:43<01:34, 23.55s/it]\u001b[A\u001b[A\u001b[A\u001b[A\u001b[A"
     ]
    },
    {
     "name": "stdout",
     "output_type": "stream",
     "text": [
      "train_pred 1.0\n",
      "val_pred 0.998\n",
      "test_pred 0.994\n"
     ]
    },
    {
     "name": "stderr",
     "output_type": "stream",
     "text": [
      "\n",
      "\n",
      "\n",
      "\n",
      "\n",
      " 50%|█████     | 3/6 [01:09<01:12, 24.07s/it]\u001b[A\u001b[A\u001b[A\u001b[A\u001b[A"
     ]
    },
    {
     "name": "stdout",
     "output_type": "stream",
     "text": [
      "train_pred 0.9884444444444445\n",
      "val_pred 0.966\n",
      "test_pred 0.947\n"
     ]
    },
    {
     "name": "stderr",
     "output_type": "stream",
     "text": [
      "\n",
      "\n",
      "\n",
      "\n",
      "\n",
      " 67%|██████▋   | 4/6 [01:23<00:42, 21.05s/it]\u001b[A\u001b[A\u001b[A\u001b[A\u001b[A"
     ]
    },
    {
     "name": "stdout",
     "output_type": "stream",
     "text": [
      "train_pred 1.0\n",
      "val_pred 0.998\n",
      "test_pred 0.999\n"
     ]
    },
    {
     "name": "stderr",
     "output_type": "stream",
     "text": [
      "\n",
      "\n",
      "\n",
      "\n",
      "\n",
      " 83%|████████▎ | 5/6 [01:42<00:20, 20.67s/it]\u001b[A\u001b[A\u001b[A\u001b[A\u001b[A"
     ]
    },
    {
     "name": "stdout",
     "output_type": "stream",
     "text": [
      "train_pred 0.9986666666666667\n",
      "val_pred 0.994\n",
      "test_pred 0.988\n"
     ]
    },
    {
     "name": "stderr",
     "output_type": "stream",
     "text": [
      "\n",
      "\n",
      "\n",
      "\n",
      "\n",
      "100%|██████████| 6/6 [01:58<00:00, 19.78s/it]\u001b[A\u001b[A\u001b[A\u001b[A\u001b[A\n",
      "\n",
      "\n",
      "\n",
      "\n",
      " 44%|████▍     | 4/9 [09:58<12:47, 153.49s/it]\u001b[A\u001b[A\u001b[A\u001b[A\n",
      "\n",
      "\n",
      "\n",
      "\n",
      "  0%|          | 0/5 [00:00<?, ?it/s]\u001b[A\u001b[A\u001b[A\u001b[A\u001b[A"
     ]
    },
    {
     "name": "stdout",
     "output_type": "stream",
     "text": [
      "train_pred 1.0\n",
      "val_pred 1.0\n",
      "test_pred 1.0\n"
     ]
    },
    {
     "name": "stderr",
     "output_type": "stream",
     "text": [
      "\n",
      "\n",
      "\n",
      "\n",
      "\n",
      " 20%|██        | 1/5 [00:18<01:13, 18.27s/it]\u001b[A\u001b[A\u001b[A\u001b[A\u001b[A"
     ]
    },
    {
     "name": "stdout",
     "output_type": "stream",
     "text": [
      "train_pred 1.0\n",
      "val_pred 0.996\n",
      "test_pred 0.996\n"
     ]
    },
    {
     "name": "stderr",
     "output_type": "stream",
     "text": [
      "\n",
      "\n",
      "\n",
      "\n",
      "\n",
      " 40%|████      | 2/5 [00:50<01:07, 22.58s/it]\u001b[A\u001b[A\u001b[A\u001b[A\u001b[A"
     ]
    },
    {
     "name": "stdout",
     "output_type": "stream",
     "text": [
      "train_pred 0.9762222222222222\n",
      "val_pred 0.892\n",
      "test_pred 0.89\n"
     ]
    },
    {
     "name": "stderr",
     "output_type": "stream",
     "text": [
      "\n",
      "\n",
      "\n",
      "\n",
      "\n",
      " 60%|██████    | 3/5 [01:04<00:39, 19.84s/it]\u001b[A\u001b[A\u001b[A\u001b[A\u001b[A"
     ]
    },
    {
     "name": "stdout",
     "output_type": "stream",
     "text": [
      "train_pred 1.0\n",
      "val_pred 0.994\n",
      "test_pred 0.999\n"
     ]
    },
    {
     "name": "stderr",
     "output_type": "stream",
     "text": [
      "\n",
      "\n",
      "\n",
      "\n",
      "\n",
      " 80%|████████  | 4/5 [01:26<00:20, 20.48s/it]\u001b[A\u001b[A\u001b[A\u001b[A\u001b[A"
     ]
    },
    {
     "name": "stdout",
     "output_type": "stream",
     "text": [
      "train_pred 0.9984444444444445\n",
      "val_pred 0.984\n",
      "test_pred 0.983\n"
     ]
    },
    {
     "name": "stderr",
     "output_type": "stream",
     "text": [
      "\n",
      "\n",
      "\n",
      "\n",
      "\n",
      "100%|██████████| 5/5 [01:42<00:00, 20.48s/it]\u001b[A\u001b[A\u001b[A\u001b[A\u001b[A\n",
      "\n",
      "\n",
      "\n",
      "\n",
      " 56%|█████▌    | 5/9 [11:40<09:12, 138.17s/it]\u001b[A\u001b[A\u001b[A\u001b[A\n",
      "\n",
      "\n",
      "\n",
      "\n",
      "  0%|          | 0/4 [00:00<?, ?it/s]\u001b[A\u001b[A\u001b[A\u001b[A\u001b[A"
     ]
    },
    {
     "name": "stdout",
     "output_type": "stream",
     "text": [
      "train_pred 1.0\n",
      "val_pred 1.0\n",
      "test_pred 0.999\n"
     ]
    },
    {
     "name": "stderr",
     "output_type": "stream",
     "text": [
      "\n",
      "\n",
      "\n",
      "\n",
      "\n",
      " 25%|██▌       | 1/4 [00:21<01:05, 21.74s/it]\u001b[A\u001b[A\u001b[A\u001b[A\u001b[A"
     ]
    },
    {
     "name": "stdout",
     "output_type": "stream",
     "text": [
      "train_pred 1.0\n",
      "val_pred 0.996\n",
      "test_pred 1.0\n"
     ]
    },
    {
     "name": "stderr",
     "output_type": "stream",
     "text": [
      "\n",
      "\n",
      "\n",
      "\n",
      "\n",
      " 50%|█████     | 2/4 [00:45<00:44, 22.44s/it]\u001b[A\u001b[A\u001b[A\u001b[A\u001b[A"
     ]
    },
    {
     "name": "stdout",
     "output_type": "stream",
     "text": [
      "train_pred 0.9964444444444445\n",
      "val_pred 0.97\n",
      "test_pred 0.968\n"
     ]
    },
    {
     "name": "stderr",
     "output_type": "stream",
     "text": [
      "\n",
      "\n",
      "\n",
      "\n",
      "\n",
      " 75%|███████▌  | 3/4 [01:10<00:23, 23.25s/it]\u001b[A\u001b[A\u001b[A\u001b[A\u001b[A"
     ]
    },
    {
     "name": "stdout",
     "output_type": "stream",
     "text": [
      "train_pred 0.9997777777777778\n",
      "val_pred 0.994\n",
      "test_pred 0.992\n"
     ]
    },
    {
     "name": "stderr",
     "output_type": "stream",
     "text": [
      "\n",
      "\n",
      "\n",
      "\n",
      "\n",
      "100%|██████████| 4/4 [01:32<00:00, 23.23s/it]\u001b[A\u001b[A\u001b[A\u001b[A\u001b[A\n",
      "\n",
      "\n",
      "\n",
      "\n",
      " 67%|██████▋   | 6/9 [13:13<06:13, 124.60s/it]\u001b[A\u001b[A\u001b[A\u001b[A\n",
      "\n",
      "\n",
      "\n",
      "\n",
      "  0%|          | 0/3 [00:00<?, ?it/s]\u001b[A\u001b[A\u001b[A\u001b[A\u001b[A"
     ]
    },
    {
     "name": "stdout",
     "output_type": "stream",
     "text": [
      "train_pred 0.9991111111111111\n",
      "val_pred 0.976\n",
      "test_pred 0.981\n"
     ]
    },
    {
     "name": "stderr",
     "output_type": "stream",
     "text": [
      "\n",
      "\n",
      "\n",
      "\n",
      "\n",
      " 33%|███▎      | 1/3 [00:14<00:29, 14.83s/it]\u001b[A\u001b[A\u001b[A\u001b[A\u001b[A"
     ]
    },
    {
     "name": "stdout",
     "output_type": "stream",
     "text": [
      "train_pred 1.0\n",
      "val_pred 0.992\n",
      "test_pred 0.999\n"
     ]
    },
    {
     "name": "stderr",
     "output_type": "stream",
     "text": [
      "\n",
      "\n",
      "\n",
      "\n",
      "\n",
      " 67%|██████▋   | 2/3 [00:39<00:17, 17.92s/it]\u001b[A\u001b[A\u001b[A\u001b[A\u001b[A"
     ]
    },
    {
     "name": "stdout",
     "output_type": "stream",
     "text": [
      "train_pred 0.9971111111111111\n",
      "val_pred 0.99\n",
      "test_pred 0.986\n"
     ]
    },
    {
     "name": "stderr",
     "output_type": "stream",
     "text": [
      "\n",
      "\n",
      "\n",
      "\n",
      "\n",
      "100%|██████████| 3/3 [00:58<00:00, 19.37s/it]\u001b[A\u001b[A\u001b[A\u001b[A\u001b[A\n",
      "\n",
      "\n",
      "\n",
      "\n",
      " 78%|███████▊  | 7/9 [14:11<03:29, 104.66s/it]\u001b[A\u001b[A\u001b[A\u001b[A\n",
      "\n",
      "\n",
      "\n",
      "\n",
      "  0%|          | 0/2 [00:00<?, ?it/s]\u001b[A\u001b[A\u001b[A\u001b[A\u001b[A"
     ]
    },
    {
     "name": "stdout",
     "output_type": "stream",
     "text": [
      "train_pred 1.0\n",
      "val_pred 0.998\n",
      "test_pred 0.999\n"
     ]
    },
    {
     "name": "stderr",
     "output_type": "stream",
     "text": [
      "\n",
      "\n",
      "\n",
      "\n",
      "\n",
      " 50%|█████     | 1/2 [00:17<00:17, 17.61s/it]\u001b[A\u001b[A\u001b[A\u001b[A\u001b[A"
     ]
    },
    {
     "name": "stdout",
     "output_type": "stream",
     "text": [
      "train_pred 1.0\n",
      "val_pred 0.986\n",
      "test_pred 0.995\n"
     ]
    },
    {
     "name": "stderr",
     "output_type": "stream",
     "text": [
      "\n",
      "\n",
      "\n",
      "\n",
      "\n",
      "100%|██████████| 2/2 [00:39<00:00, 19.69s/it]\u001b[A\u001b[A\u001b[A\u001b[A\u001b[A\n",
      "\n",
      "\n",
      "\n",
      "\n",
      " 89%|████████▉ | 8/9 [14:50<01:25, 85.07s/it] \u001b[A\u001b[A\u001b[A\u001b[A\n",
      "\n",
      "\n",
      "\n",
      "\n",
      "  0%|          | 0/1 [00:00<?, ?it/s]\u001b[A\u001b[A\u001b[A\u001b[A\u001b[A"
     ]
    },
    {
     "name": "stdout",
     "output_type": "stream",
     "text": [
      "train_pred 0.9882222222222222\n",
      "val_pred 0.958\n",
      "test_pred 0.966\n"
     ]
    },
    {
     "name": "stderr",
     "output_type": "stream",
     "text": [
      "\n",
      "\n",
      "\n",
      "\n",
      "\n",
      "100%|██████████| 1/1 [00:22<00:00, 22.20s/it]\u001b[A\u001b[A\u001b[A\u001b[A\u001b[A\n",
      "\n",
      "\n",
      "\n",
      "\n",
      "100%|██████████| 9/9 [15:13<00:00, 101.46s/it][A\u001b[A\u001b[A\u001b[A"
     ]
    },
    {
     "name": "stdout",
     "output_type": "stream",
     "text": [
      "train_pred 1.0\n",
      "val_pred 0.992\n",
      "test_pred 0.998\n",
      "Total time 913.1469151973724\n"
     ]
    },
    {
     "name": "stderr",
     "output_type": "stream",
     "text": [
      "\n"
     ]
    }
   ],
   "source": [
    "sk_data_list = []\n",
    "\n",
    "total_time = time.time()\n",
    "for i in tqdm(range(0,9)):\n",
    "    for j in tqdm(range(i+1, 10)):\n",
    "        model_name = str(i)+\"_\"+str(j)\n",
    "        \n",
    "        clf_gauss = SVC(gamma=gama)\n",
    "        \n",
    "        train_x, train_y = readData(train_path, i, j)\n",
    "        val_x, val_y = readData(val_path, i, j)\n",
    "        test_x, test_y = readData(test_path, i, j)\n",
    "        \n",
    "        train_time = time.time()\n",
    "        clf_gauss.fit(train_x, train_y.reshape(-1,))\n",
    "        train_time = time.time() - train_time\n",
    "        \n",
    "        train_pred = clf_gauss.predict(train_x)\n",
    "        val_pred = clf_gauss.predict(val_x)\n",
    "        test_pred = clf_gauss.predict(test_x)\n",
    "        \n",
    "        a1 = calculateAccuracy(train_y, train_pred)\n",
    "        a2 = calculateAccuracy(val_y, val_pred)\n",
    "        a3 = calculateAccuracy(test_y, test_pred)\n",
    "        \n",
    "        \n",
    "        model_data = {\n",
    "            \"name\": model_name,\n",
    "            \"train_acc\": a1,\n",
    "            \"val_acc\": a2,\n",
    "            \"test_acc\": a3,\n",
    "            \"train_time\": train_time,\n",
    "            \"train_pred\": train_pred,\n",
    "            \"val_pred\": val_pred,\n",
    "            \"test_pred\": test_pred,  \n",
    "        }\n",
    "        sk_data_list.append(model_data)\n",
    "#         joblib.dump(clf_gauss, model_name)\n",
    "        \n",
    "        print(\"train_pred\", a1)\n",
    "        print(\"val_pred\", a2)\n",
    "        print(\"test_pred\", a3)\n",
    "        \n",
    "        \n",
    "print(f\"Total time\", time.time() - total_time)"
   ]
  },
  {
   "cell_type": "code",
   "execution_count": 23,
   "metadata": {
    "scrolled": true
   },
   "outputs": [
    {
     "data": {
      "text/plain": [
       "[{'name': '0_1',\n",
       "  'train_acc': 0.9984444444444445,\n",
       "  'val_acc': 0.986,\n",
       "  'test_acc': 0.989,\n",
       "  'train_time': 4.254934072494507,\n",
       "  'train_pred': array([1., 1., 0., ..., 0., 1., 1.]),\n",
       "  'val_pred': array([0., 0., 1., 1., 0., 1., 1., 1., 0., 1., 1., 1., 0., 1., 1., 1., 0.,\n",
       "         0., 1., 1., 1., 0., 1., 1., 0., 1., 0., 1., 0., 0., 1., 1., 0., 0.,\n",
       "         1., 1., 0., 0., 1., 1., 0., 0., 0., 1., 0., 1., 0., 0., 1., 0., 0.,\n",
       "         0., 1., 1., 0., 0., 1., 0., 0., 0., 0., 1., 0., 1., 1., 0., 0., 0.,\n",
       "         1., 0., 0., 0., 0., 1., 0., 0., 0., 0., 1., 1., 1., 1., 0., 1., 0.,\n",
       "         0., 1., 1., 0., 1., 0., 1., 0., 1., 1., 1., 0., 1., 0., 1., 0., 1.,\n",
       "         0., 1., 0., 1., 1., 0., 1., 0., 0., 1., 1., 0., 1., 1., 0., 0., 1.,\n",
       "         0., 0., 1., 0., 0., 1., 1., 1., 0., 1., 0., 1., 0., 1., 0., 0., 1.,\n",
       "         0., 1., 0., 0., 1., 1., 0., 1., 1., 1., 0., 0., 0., 0., 1., 0., 1.,\n",
       "         1., 1., 0., 1., 0., 0., 0., 1., 1., 0., 0., 0., 1., 0., 0., 1., 1.,\n",
       "         1., 1., 1., 0., 1., 1., 1., 0., 0., 1., 0., 1., 1., 1., 0., 0., 1.,\n",
       "         1., 0., 1., 0., 0., 0., 1., 1., 1., 0., 0., 0., 1., 1., 1., 0., 1.,\n",
       "         1., 0., 0., 1., 0., 0., 0., 1., 1., 1., 0., 1., 0., 1., 1., 0., 0.,\n",
       "         1., 1., 0., 0., 0., 1., 1., 0., 0., 1., 0., 0., 1., 0., 1., 0., 0.,\n",
       "         1., 0., 1., 0., 1., 1., 0., 1., 0., 0., 0., 0., 1., 1., 1., 1., 1.,\n",
       "         1., 0., 0., 0., 0., 1., 0., 0., 1., 0., 0., 0., 0., 1., 1., 1., 1.,\n",
       "         1., 1., 1., 0., 1., 0., 1., 1., 0., 1., 0., 1., 1., 1., 0., 0., 0.,\n",
       "         0., 1., 0., 1., 0., 0., 1., 1., 0., 1., 0., 0., 1., 0., 1., 0., 0.,\n",
       "         1., 1., 1., 0., 1., 1., 0., 0., 0., 1., 0., 0., 1., 1., 0., 0., 0.,\n",
       "         1., 1., 0., 0., 0., 0., 1., 0., 1., 1., 1., 0., 0., 0., 0., 0., 1.,\n",
       "         0., 1., 1., 1., 1., 1., 0., 1., 1., 0., 0., 0., 0., 0., 1., 1., 0.,\n",
       "         1., 1., 1., 1., 0., 1., 0., 0., 1., 0., 0., 0., 0., 0., 0., 1., 1.,\n",
       "         1., 1., 0., 0., 0., 1., 1., 1., 1., 1., 0., 1., 1., 1., 0., 1., 0.,\n",
       "         0., 1., 0., 0., 0., 1., 0., 0., 0., 0., 0., 0., 1., 1., 1., 1., 1.,\n",
       "         1., 1., 1., 1., 1., 1., 0., 0., 1., 0., 1., 1., 0., 0., 0., 0., 0.,\n",
       "         0., 1., 0., 0., 0., 1., 0., 1., 0., 0., 0., 1., 1., 1., 0., 1., 1.,\n",
       "         0., 1., 0., 0., 0., 0., 1., 1., 0., 1., 0., 0., 1., 1., 1., 0., 0.,\n",
       "         0., 0., 0., 0., 1., 1., 1., 0., 0., 0., 0., 1., 1., 1., 1., 1., 0.,\n",
       "         0., 0., 0., 0., 0., 1., 1., 0., 1., 1., 1., 1., 0., 0., 1., 0., 0.,\n",
       "         0., 1., 0., 0., 0., 1., 0.]),\n",
       "  'test_pred': array([0., 1., 0., 1., 0., 0., 1., 1., 0., 0., 1., 0., 1., 0., 1., 1., 0.,\n",
       "         0., 1., 1., 1., 0., 0., 0., 1., 1., 1., 0., 0., 1., 0., 1., 0., 0.,\n",
       "         1., 1., 1., 1., 1., 0., 1., 0., 1., 1., 1., 1., 0., 0., 0., 1., 0.,\n",
       "         0., 1., 0., 1., 1., 0., 1., 1., 0., 0., 0., 0., 1., 1., 0., 1., 0.,\n",
       "         1., 1., 0., 0., 0., 1., 0., 1., 1., 0., 0., 0., 0., 0., 1., 0., 0.,\n",
       "         1., 0., 1., 0., 0., 0., 1., 1., 1., 0., 1., 0., 1., 0., 1., 0., 0.,\n",
       "         1., 0., 0., 0., 0., 1., 0., 0., 1., 1., 1., 1., 1., 1., 0., 0., 0.,\n",
       "         0., 0., 1., 0., 1., 1., 1., 1., 1., 0., 0., 0., 1., 0., 1., 1., 1.,\n",
       "         0., 1., 0., 1., 1., 1., 1., 0., 0., 1., 1., 1., 0., 1., 0., 1., 1.,\n",
       "         0., 0., 1., 1., 0., 0., 1., 1., 0., 0., 0., 1., 0., 1., 1., 1., 1.,\n",
       "         0., 0., 1., 1., 1., 1., 1., 0., 0., 1., 0., 1., 0., 1., 0., 0., 1.,\n",
       "         0., 1., 0., 1., 1., 0., 0., 1., 1., 0., 0., 1., 1., 1., 0., 0., 0.,\n",
       "         1., 1., 0., 0., 1., 0., 0., 0., 0., 0., 0., 0., 1., 1., 0., 1., 0.,\n",
       "         1., 1., 0., 0., 0., 1., 0., 1., 1., 0., 0., 1., 0., 1., 1., 1., 0.,\n",
       "         0., 1., 1., 1., 1., 0., 1., 0., 0., 0., 0., 1., 0., 0., 1., 0., 1.,\n",
       "         1., 1., 0., 1., 1., 0., 0., 0., 1., 1., 0., 1., 1., 0., 1., 1., 1.,\n",
       "         0., 0., 0., 1., 0., 1., 0., 0., 1., 1., 0., 1., 1., 1., 0., 1., 0.,\n",
       "         0., 1., 0., 0., 0., 1., 0., 1., 1., 0., 1., 1., 1., 1., 1., 1., 1.,\n",
       "         0., 0., 1., 0., 1., 0., 0., 0., 0., 1., 0., 1., 0., 1., 0., 0., 0.,\n",
       "         0., 1., 1., 0., 0., 0., 1., 1., 1., 0., 0., 0., 0., 1., 0., 0., 0.,\n",
       "         1., 0., 1., 0., 0., 1., 0., 1., 0., 1., 1., 1., 1., 0., 1., 1., 0.,\n",
       "         0., 0., 1., 0., 1., 1., 0., 1., 1., 1., 0., 0., 1., 1., 0., 1., 0.,\n",
       "         0., 0., 0., 0., 0., 1., 0., 0., 0., 1., 0., 0., 1., 1., 0., 1., 0.,\n",
       "         0., 1., 0., 1., 0., 1., 0., 1., 0., 0., 1., 0., 1., 0., 0., 0., 1.,\n",
       "         1., 0., 1., 0., 0., 1., 0., 1., 1., 1., 1., 1., 1., 0., 0., 1., 0.,\n",
       "         0., 0., 0., 0., 0., 1., 0., 0., 1., 0., 0., 1., 1., 0., 1., 0., 1.,\n",
       "         1., 0., 0., 1., 1., 1., 1., 1., 1., 1., 0., 1., 1., 0., 1., 0., 1.,\n",
       "         0., 0., 0., 0., 1., 1., 1., 1., 0., 0., 0., 1., 0., 0., 0., 0., 1.,\n",
       "         0., 1., 0., 1., 0., 0., 0., 0., 1., 0., 1., 0., 0., 0., 1., 0., 1.,\n",
       "         0., 0., 1., 0., 0., 1., 1., 1., 1., 1., 0., 0., 0., 0., 0., 1., 1.,\n",
       "         1., 0., 0., 0., 0., 0., 0., 1., 1., 0., 1., 1., 1., 1., 1., 1., 0.,\n",
       "         1., 0., 0., 0., 0., 0., 1., 0., 0., 1., 1., 0., 0., 1., 0., 0., 0.,\n",
       "         1., 1., 0., 0., 0., 1., 0., 0., 0., 1., 0., 1., 0., 0., 1., 1., 1.,\n",
       "         0., 0., 1., 1., 0., 0., 0., 1., 0., 1., 0., 1., 1., 0., 1., 1., 1.,\n",
       "         0., 1., 0., 1., 1., 0., 1., 1., 1., 0., 0., 0., 1., 1., 0., 0., 0.,\n",
       "         1., 1., 0., 0., 0., 0., 0., 0., 0., 1., 0., 0., 0., 1., 1., 0., 1.,\n",
       "         0., 0., 1., 1., 1., 1., 0., 1., 0., 0., 1., 1., 0., 1., 0., 1., 0.,\n",
       "         0., 1., 0., 0., 0., 0., 1., 0., 1., 0., 1., 1., 1., 1., 0., 0., 1.,\n",
       "         0., 1., 0., 1., 1., 0., 1., 0., 0., 0., 1., 0., 1., 0., 1., 1., 0.,\n",
       "         1., 0., 1., 0., 0., 1., 1., 1., 1., 0., 0., 0., 1., 1., 1., 1., 0.,\n",
       "         0., 0., 1., 0., 0., 0., 1., 0., 0., 0., 1., 0., 0., 1., 1., 1., 1.,\n",
       "         1., 1., 0., 1., 0., 0., 1., 1., 1., 1., 1., 0., 0., 0., 1., 0., 0.,\n",
       "         1., 1., 1., 0., 0., 1., 1., 1., 1., 0., 1., 1., 1., 0., 1., 1., 1.,\n",
       "         1., 0., 1., 0., 1., 0., 1., 1., 1., 0., 0., 0., 1., 1., 0., 0., 1.,\n",
       "         1., 0., 1., 0., 0., 0., 1., 0., 1., 1., 0., 1., 1., 1., 1., 0., 1.,\n",
       "         1., 0., 1., 0., 1., 0., 1., 1., 1., 1., 0., 1., 1., 0., 1., 0., 0.,\n",
       "         0., 0., 0., 1., 0., 0., 0., 0., 1., 0., 0., 0., 0., 1., 1., 0., 1.,\n",
       "         1., 1., 1., 1., 0., 0., 0., 0., 1., 0., 0., 0., 1., 1., 1., 1., 1.,\n",
       "         0., 0., 0., 0., 0., 0., 0., 0., 1., 1., 0., 1., 1., 0., 0., 1., 0.,\n",
       "         0., 1., 0., 0., 1., 1., 0., 0., 1., 0., 1., 1., 1., 1., 1., 0., 0.,\n",
       "         0., 1., 0., 1., 0., 1., 0., 0., 1., 1., 1., 1., 0., 1., 0., 1., 0.,\n",
       "         0., 1., 1., 1., 1., 0., 0., 0., 1., 1., 1., 0., 0., 1., 1., 1., 0.,\n",
       "         1., 1., 0., 1., 0., 1., 1., 0., 1., 1., 1., 1., 0., 0., 0., 1., 0.,\n",
       "         1., 0., 0., 1., 0., 1., 1., 0., 0., 0., 0., 1., 0., 1., 1., 1., 1.,\n",
       "         1., 0., 0., 0., 1., 1., 0., 0., 0., 0., 1., 1., 1., 0., 0., 0., 0.,\n",
       "         0., 1., 1., 1., 1., 0., 0., 1., 1., 0., 0., 1., 0., 1., 1., 1., 0.,\n",
       "         0., 1., 0., 1., 0., 0., 1., 0., 1., 0., 1., 0., 0., 1., 0., 0., 0.,\n",
       "         0., 1., 1., 0., 1., 1., 1., 0., 0., 0., 1., 1., 0., 1., 1., 0., 1.,\n",
       "         0., 0., 1., 1., 0., 0., 1., 0., 1., 1., 0., 1., 1., 0.])},\n",
       " {'name': '0_2',\n",
       "  'train_acc': 0.9928888888888889,\n",
       "  'val_acc': 0.976,\n",
       "  'test_acc': 0.967,\n",
       "  'train_time': 5.970793008804321,\n",
       "  'train_pred': array([2., 2., 2., ..., 2., 2., 2.]),\n",
       "  'val_pred': array([2., 0., 0., 0., 2., 0., 2., 0., 2., 2., 2., 0., 0., 2., 0., 2., 2.,\n",
       "         0., 0., 0., 2., 2., 0., 0., 2., 2., 2., 0., 2., 0., 2., 0., 0., 2.,\n",
       "         0., 2., 0., 2., 0., 2., 0., 2., 2., 0., 0., 0., 0., 0., 0., 0., 0.,\n",
       "         2., 0., 2., 0., 2., 0., 0., 2., 0., 2., 2., 2., 0., 2., 2., 2., 0.,\n",
       "         2., 0., 2., 2., 0., 0., 0., 2., 2., 2., 2., 2., 0., 2., 2., 0., 0.,\n",
       "         0., 2., 2., 0., 0., 0., 2., 0., 0., 2., 0., 2., 2., 0., 2., 0., 0.,\n",
       "         0., 2., 2., 2., 0., 0., 0., 2., 2., 0., 0., 0., 0., 2., 0., 0., 0.,\n",
       "         0., 0., 0., 2., 0., 0., 0., 2., 2., 0., 2., 0., 0., 2., 2., 2., 2.,\n",
       "         0., 2., 2., 0., 0., 2., 2., 2., 2., 2., 0., 0., 0., 2., 0., 2., 2.,\n",
       "         2., 2., 2., 0., 2., 0., 2., 0., 0., 2., 0., 2., 0., 2., 0., 2., 0.,\n",
       "         0., 2., 2., 0., 0., 2., 2., 0., 2., 0., 2., 0., 0., 0., 0., 2., 2.,\n",
       "         2., 0., 0., 2., 2., 2., 0., 0., 0., 2., 2., 0., 2., 2., 0., 2., 0.,\n",
       "         2., 2., 0., 2., 0., 2., 2., 2., 0., 0., 2., 2., 2., 2., 2., 2., 0.,\n",
       "         0., 2., 0., 0., 0., 2., 0., 0., 2., 0., 2., 2., 0., 0., 2., 2., 0.,\n",
       "         0., 2., 0., 2., 2., 0., 2., 0., 2., 2., 2., 0., 0., 0., 0., 0., 0.,\n",
       "         0., 2., 0., 2., 0., 0., 2., 2., 2., 2., 2., 0., 2., 2., 0., 2., 0.,\n",
       "         2., 2., 2., 0., 2., 0., 2., 2., 0., 0., 0., 2., 2., 0., 2., 0., 2.,\n",
       "         0., 2., 0., 2., 0., 0., 2., 0., 0., 2., 2., 2., 0., 2., 2., 0., 0.,\n",
       "         0., 2., 2., 0., 2., 0., 0., 0., 2., 0., 2., 0., 0., 0., 2., 0., 0.,\n",
       "         2., 0., 0., 2., 2., 0., 2., 0., 2., 2., 2., 0., 0., 2., 2., 2., 2.,\n",
       "         2., 2., 0., 0., 0., 0., 0., 0., 2., 2., 2., 2., 2., 2., 2., 0., 2.,\n",
       "         2., 0., 2., 0., 0., 2., 0., 0., 0., 0., 0., 2., 0., 2., 2., 2., 2.,\n",
       "         0., 0., 0., 2., 2., 2., 0., 2., 2., 0., 2., 0., 2., 2., 0., 0., 2.,\n",
       "         2., 0., 0., 2., 0., 2., 2., 0., 0., 0., 2., 2., 0., 0., 2., 0., 0.,\n",
       "         2., 2., 2., 0., 0., 0., 2., 2., 2., 2., 0., 0., 2., 0., 0., 2., 0.,\n",
       "         2., 2., 0., 0., 0., 2., 0., 0., 0., 2., 2., 0., 0., 2., 2., 0., 2.,\n",
       "         0., 2., 0., 0., 2., 0., 2., 0., 0., 2., 0., 0., 2., 2., 0., 2., 0.,\n",
       "         0., 0., 2., 0., 0., 0., 2., 0., 0., 0., 0., 2., 2., 0., 2., 0., 0.,\n",
       "         2., 0., 2., 0., 0., 0., 2., 2., 0., 0., 2., 2., 0., 0., 2., 2., 2.,\n",
       "         0., 2., 0., 0., 0., 0., 2.]),\n",
       "  'test_pred': array([0., 2., 2., 0., 2., 0., 0., 0., 0., 0., 0., 2., 0., 0., 2., 0., 2.,\n",
       "         0., 2., 0., 2., 2., 0., 2., 0., 2., 0., 0., 2., 0., 2., 0., 2., 2.,\n",
       "         2., 2., 2., 2., 2., 0., 0., 2., 2., 0., 2., 0., 0., 0., 0., 2., 0.,\n",
       "         2., 0., 0., 0., 2., 0., 0., 2., 2., 2., 0., 2., 2., 0., 2., 2., 2.,\n",
       "         0., 2., 2., 2., 2., 2., 2., 2., 2., 2., 0., 0., 0., 0., 0., 0., 2.,\n",
       "         2., 0., 0., 0., 2., 0., 2., 2., 2., 2., 0., 2., 0., 0., 2., 0., 2.,\n",
       "         2., 0., 0., 0., 0., 0., 2., 0., 0., 2., 0., 0., 2., 0., 0., 2., 0.,\n",
       "         2., 0., 2., 0., 0., 2., 2., 0., 2., 2., 2., 0., 2., 2., 2., 0., 0.,\n",
       "         2., 2., 0., 0., 0., 2., 0., 2., 0., 0., 2., 0., 0., 2., 2., 2., 2.,\n",
       "         2., 2., 0., 0., 0., 2., 0., 2., 2., 2., 2., 2., 2., 2., 2., 0., 2.,\n",
       "         2., 2., 2., 2., 2., 2., 2., 2., 2., 2., 0., 0., 0., 0., 0., 2., 2.,\n",
       "         0., 2., 0., 0., 2., 0., 0., 2., 0., 2., 2., 2., 2., 0., 2., 2., 2.,\n",
       "         2., 0., 2., 0., 0., 2., 2., 2., 0., 0., 0., 2., 0., 0., 0., 0., 0.,\n",
       "         0., 2., 2., 0., 2., 2., 2., 0., 2., 2., 0., 0., 0., 2., 0., 0., 0.,\n",
       "         2., 2., 2., 2., 2., 0., 2., 0., 0., 2., 2., 2., 0., 0., 2., 0., 0.,\n",
       "         0., 2., 0., 2., 2., 0., 2., 2., 2., 2., 0., 0., 0., 2., 0., 0., 0.,\n",
       "         2., 2., 0., 2., 0., 0., 2., 0., 2., 0., 0., 0., 2., 0., 2., 2., 2.,\n",
       "         0., 2., 0., 0., 0., 0., 2., 2., 2., 0., 2., 0., 2., 2., 0., 2., 2.,\n",
       "         2., 2., 0., 0., 0., 2., 2., 0., 2., 2., 0., 2., 0., 2., 0., 2., 0.,\n",
       "         0., 2., 0., 0., 2., 0., 0., 2., 0., 0., 2., 0., 2., 2., 0., 2., 0.,\n",
       "         0., 2., 2., 2., 0., 2., 2., 0., 2., 2., 2., 2., 2., 0., 2., 0., 0.,\n",
       "         0., 2., 0., 2., 2., 2., 2., 0., 0., 2., 0., 0., 2., 0., 0., 0., 0.,\n",
       "         0., 2., 2., 0., 0., 0., 0., 0., 0., 0., 0., 2., 2., 0., 2., 0., 0.,\n",
       "         0., 0., 0., 2., 0., 0., 0., 0., 2., 0., 0., 0., 0., 0., 0., 0., 0.,\n",
       "         2., 2., 2., 0., 0., 2., 0., 0., 0., 0., 0., 0., 0., 2., 2., 0., 2.,\n",
       "         0., 2., 0., 0., 0., 2., 0., 0., 2., 2., 2., 0., 2., 0., 2., 2., 2.,\n",
       "         0., 2., 2., 2., 2., 0., 2., 2., 0., 2., 0., 2., 2., 0., 2., 0., 0.,\n",
       "         2., 0., 0., 0., 0., 2., 0., 0., 0., 2., 2., 0., 0., 0., 0., 0., 2.,\n",
       "         0., 0., 2., 2., 0., 0., 2., 0., 0., 2., 0., 0., 0., 2., 2., 2., 0.,\n",
       "         0., 2., 2., 2., 2., 0., 0., 0., 0., 2., 2., 2., 2., 2., 2., 0., 0.,\n",
       "         0., 0., 0., 0., 2., 2., 2., 0., 2., 2., 0., 2., 0., 2., 0., 0., 2.,\n",
       "         2., 0., 0., 0., 2., 0., 2., 0., 2., 0., 2., 0., 0., 0., 2., 0., 2.,\n",
       "         2., 0., 0., 2., 0., 2., 0., 0., 2., 2., 0., 2., 2., 0., 0., 2., 2.,\n",
       "         0., 2., 2., 2., 2., 0., 0., 2., 0., 0., 2., 0., 0., 2., 2., 2., 0.,\n",
       "         2., 2., 0., 0., 0., 2., 2., 0., 0., 0., 2., 2., 0., 0., 0., 2., 2.,\n",
       "         2., 2., 0., 2., 2., 2., 0., 0., 2., 0., 0., 0., 0., 2., 0., 0., 2.,\n",
       "         0., 0., 0., 2., 0., 2., 2., 0., 0., 2., 2., 0., 0., 0., 2., 0., 0.,\n",
       "         0., 0., 0., 0., 2., 0., 2., 2., 2., 0., 2., 0., 2., 2., 0., 0., 0.,\n",
       "         2., 0., 2., 2., 0., 0., 2., 0., 2., 2., 2., 0., 2., 0., 0., 0., 2.,\n",
       "         0., 2., 0., 0., 2., 0., 0., 2., 0., 2., 2., 0., 2., 0., 0., 0., 2.,\n",
       "         2., 2., 2., 2., 0., 0., 0., 2., 2., 2., 0., 2., 2., 2., 0., 0., 0.,\n",
       "         2., 2., 2., 2., 2., 2., 0., 0., 0., 0., 0., 0., 0., 2., 2., 0., 2.,\n",
       "         2., 2., 2., 2., 0., 2., 2., 0., 2., 2., 0., 2., 2., 2., 2., 0., 2.,\n",
       "         2., 0., 2., 0., 2., 2., 0., 0., 0., 2., 0., 2., 2., 0., 0., 2., 0.,\n",
       "         2., 2., 0., 2., 2., 2., 0., 2., 2., 2., 0., 0., 0., 2., 0., 0., 0.,\n",
       "         2., 2., 0., 0., 0., 0., 0., 0., 0., 0., 0., 0., 2., 0., 2., 0., 0.,\n",
       "         2., 2., 2., 2., 2., 2., 0., 2., 2., 2., 0., 0., 0., 2., 0., 2., 0.,\n",
       "         2., 2., 0., 2., 0., 0., 2., 2., 2., 2., 0., 0., 0., 2., 2., 2., 0.,\n",
       "         2., 0., 0., 2., 0., 2., 2., 0., 0., 2., 2., 2., 0., 2., 2., 0., 2.,\n",
       "         0., 2., 2., 0., 0., 2., 0., 2., 2., 0., 0., 0., 0., 2., 0., 2., 0.,\n",
       "         0., 2., 2., 2., 2., 2., 2., 0., 0., 0., 2., 2., 0., 0., 2., 2., 2.,\n",
       "         0., 0., 0., 2., 2., 2., 0., 2., 0., 2., 2., 2., 2., 0., 2., 0., 2.,\n",
       "         0., 2., 2., 0., 2., 2., 2., 2., 0., 2., 0., 0., 2., 0., 0., 2., 0.,\n",
       "         0., 0., 0., 0., 0., 0., 2., 2., 2., 0., 2., 0., 0., 0., 2., 2., 0.,\n",
       "         2., 0., 0., 0., 0., 2., 0., 2., 2., 0., 2., 0., 0., 2., 0., 2., 2.,\n",
       "         2., 0., 0., 0., 0., 0., 2., 0., 2., 0., 2., 0., 2., 2., 0., 0., 2.,\n",
       "         0., 2., 2., 0., 0., 0., 2., 0., 0., 2., 2., 2., 2., 0., 2., 2., 2.,\n",
       "         2., 2., 0., 0., 0., 0., 2., 2., 2., 2., 2., 2., 0., 2., 0., 0., 2.,\n",
       "         2., 0., 0., 0., 2., 2., 2., 2., 2., 0., 2., 2., 0., 2.])},\n",
       " {'name': '0_3',\n",
       "  'train_acc': 0.992,\n",
       "  'val_acc': 0.96,\n",
       "  'test_acc': 0.961,\n",
       "  'train_time': 10.101507663726807,\n",
       "  'train_pred': array([3., 3., 0., ..., 3., 3., 3.]),\n",
       "  'val_pred': array([0., 3., 0., 3., 0., 3., 3., 0., 3., 3., 0., 3., 3., 3., 3., 0., 0.,\n",
       "         3., 3., 3., 0., 0., 3., 0., 0., 3., 0., 0., 3., 3., 0., 3., 0., 3.,\n",
       "         0., 3., 0., 0., 0., 0., 3., 3., 3., 3., 0., 0., 0., 0., 0., 0., 0.,\n",
       "         3., 0., 0., 0., 0., 0., 0., 0., 3., 3., 0., 3., 3., 0., 3., 3., 3.,\n",
       "         0., 0., 3., 3., 0., 0., 3., 3., 3., 0., 3., 3., 0., 0., 3., 0., 3.,\n",
       "         0., 0., 0., 0., 0., 0., 3., 3., 0., 3., 3., 0., 0., 0., 3., 3., 3.,\n",
       "         3., 3., 3., 3., 3., 0., 3., 3., 0., 0., 0., 3., 3., 3., 3., 0., 0.,\n",
       "         0., 0., 3., 0., 3., 0., 0., 0., 0., 0., 0., 3., 0., 3., 3., 0., 3.,\n",
       "         0., 3., 3., 0., 3., 3., 0., 3., 3., 0., 3., 0., 3., 0., 0., 0., 3.,\n",
       "         3., 3., 0., 0., 3., 3., 3., 0., 3., 3., 0., 0., 3., 3., 3., 0., 3.,\n",
       "         3., 3., 0., 0., 3., 3., 0., 0., 0., 3., 0., 3., 0., 0., 0., 3., 3.,\n",
       "         3., 3., 3., 0., 0., 3., 0., 0., 0., 3., 0., 3., 0., 3., 3., 3., 0.,\n",
       "         3., 3., 0., 0., 3., 3., 3., 0., 0., 3., 3., 3., 0., 0., 0., 0., 3.,\n",
       "         0., 3., 0., 3., 0., 0., 0., 3., 3., 0., 0., 0., 3., 0., 3., 0., 0.,\n",
       "         3., 3., 3., 3., 0., 3., 3., 0., 3., 3., 0., 0., 3., 0., 3., 0., 0.,\n",
       "         0., 0., 3., 0., 0., 0., 3., 3., 0., 0., 3., 3., 3., 3., 0., 0., 3.,\n",
       "         0., 0., 3., 0., 0., 0., 0., 0., 3., 0., 3., 3., 0., 3., 3., 0., 0.,\n",
       "         0., 0., 0., 0., 3., 3., 0., 3., 0., 0., 3., 0., 3., 3., 0., 0., 0.,\n",
       "         3., 0., 3., 0., 3., 3., 0., 3., 3., 0., 3., 3., 0., 0., 3., 0., 3.,\n",
       "         0., 3., 3., 3., 3., 3., 0., 3., 0., 0., 0., 3., 0., 0., 3., 3., 0.,\n",
       "         3., 3., 3., 3., 0., 0., 0., 3., 0., 3., 3., 0., 0., 0., 0., 3., 3.,\n",
       "         0., 3., 3., 0., 0., 0., 3., 3., 3., 3., 0., 3., 3., 3., 0., 3., 0.,\n",
       "         3., 3., 0., 0., 0., 0., 3., 0., 3., 3., 0., 3., 0., 0., 0., 3., 3.,\n",
       "         3., 3., 3., 3., 3., 3., 3., 0., 3., 3., 3., 0., 3., 0., 3., 0., 0.,\n",
       "         0., 0., 0., 0., 3., 0., 3., 3., 3., 0., 3., 3., 0., 3., 0., 3., 3.,\n",
       "         0., 0., 3., 3., 0., 3., 0., 3., 3., 0., 0., 0., 3., 3., 3., 0., 3.,\n",
       "         3., 3., 0., 0., 0., 0., 3., 3., 0., 0., 0., 0., 0., 0., 3., 3., 3.,\n",
       "         3., 0., 0., 3., 0., 3., 3., 3., 3., 3., 3., 3., 3., 0., 0., 0., 0.,\n",
       "         3., 3., 3., 0., 0., 0., 0., 3., 3., 3., 3., 0., 3., 3., 3., 0., 0.,\n",
       "         0., 0., 3., 3., 0., 0., 0.]),\n",
       "  'test_pred': array([0., 0., 3., 0., 0., 0., 0., 3., 0., 3., 3., 0., 3., 3., 0., 0., 3.,\n",
       "         3., 0., 0., 0., 3., 0., 3., 0., 3., 0., 0., 0., 0., 3., 3., 3., 3.,\n",
       "         3., 0., 3., 0., 3., 3., 3., 3., 3., 0., 0., 0., 0., 0., 0., 3., 3.,\n",
       "         0., 3., 0., 0., 3., 0., 0., 3., 0., 3., 0., 0., 0., 3., 0., 3., 0.,\n",
       "         3., 3., 3., 3., 3., 3., 3., 0., 0., 3., 0., 0., 0., 3., 3., 0., 0.,\n",
       "         0., 3., 0., 3., 0., 3., 0., 3., 0., 3., 0., 3., 3., 0., 0., 3., 0.,\n",
       "         3., 0., 3., 3., 0., 0., 0., 0., 3., 3., 3., 3., 0., 0., 0., 3., 0.,\n",
       "         0., 0., 3., 3., 0., 0., 0., 3., 3., 3., 3., 0., 3., 3., 3., 3., 3.,\n",
       "         0., 0., 3., 0., 0., 0., 3., 3., 3., 0., 0., 0., 3., 0., 3., 3., 0.,\n",
       "         0., 3., 3., 0., 0., 3., 3., 3., 3., 3., 3., 3., 0., 0., 3., 3., 3.,\n",
       "         0., 3., 0., 3., 0., 0., 0., 0., 0., 3., 0., 0., 0., 3., 3., 3., 0.,\n",
       "         3., 3., 3., 0., 0., 0., 0., 0., 0., 0., 0., 3., 0., 3., 0., 0., 0.,\n",
       "         3., 0., 3., 3., 3., 0., 3., 3., 3., 0., 0., 0., 0., 0., 3., 0., 3.,\n",
       "         0., 3., 0., 3., 3., 3., 3., 3., 3., 3., 3., 0., 3., 0., 3., 0., 0.,\n",
       "         0., 0., 0., 3., 0., 3., 3., 3., 0., 0., 0., 3., 0., 3., 0., 0., 0.,\n",
       "         3., 3., 0., 0., 0., 0., 0., 3., 3., 0., 3., 0., 3., 0., 3., 0., 3.,\n",
       "         3., 0., 0., 0., 3., 3., 0., 3., 3., 0., 0., 0., 3., 3., 3., 0., 3.,\n",
       "         0., 0., 0., 0., 0., 3., 3., 0., 3., 0., 0., 0., 3., 0., 0., 3., 0.,\n",
       "         0., 3., 0., 0., 0., 3., 0., 3., 3., 0., 3., 0., 3., 0., 0., 0., 3.,\n",
       "         3., 3., 3., 0., 3., 0., 3., 0., 3., 0., 3., 0., 0., 3., 3., 3., 3.,\n",
       "         3., 3., 3., 0., 3., 0., 0., 0., 3., 0., 3., 0., 3., 0., 0., 3., 0.,\n",
       "         3., 0., 0., 0., 3., 0., 0., 0., 0., 3., 3., 0., 0., 0., 3., 0., 0.,\n",
       "         3., 3., 0., 0., 3., 0., 3., 3., 0., 0., 0., 3., 0., 0., 0., 3., 0.,\n",
       "         3., 3., 0., 3., 3., 3., 3., 0., 3., 0., 3., 0., 0., 3., 0., 3., 3.,\n",
       "         3., 3., 0., 0., 3., 0., 0., 0., 3., 3., 3., 0., 3., 3., 0., 0., 3.,\n",
       "         0., 3., 0., 3., 0., 0., 0., 0., 3., 0., 0., 3., 3., 3., 0., 3., 3.,\n",
       "         3., 3., 3., 3., 0., 3., 3., 0., 3., 0., 3., 3., 0., 0., 0., 3., 0.,\n",
       "         0., 0., 0., 0., 0., 0., 3., 3., 3., 3., 0., 0., 3., 0., 0., 3., 0.,\n",
       "         0., 0., 0., 0., 0., 3., 0., 0., 0., 3., 0., 3., 0., 3., 3., 3., 3.,\n",
       "         3., 3., 3., 0., 0., 0., 3., 3., 0., 3., 0., 3., 0., 0., 0., 0., 3.,\n",
       "         3., 3., 0., 0., 3., 3., 0., 0., 3., 3., 0., 3., 0., 3., 0., 0., 0.,\n",
       "         3., 0., 0., 0., 0., 0., 3., 3., 3., 0., 0., 3., 0., 3., 0., 3., 0.,\n",
       "         3., 3., 0., 3., 3., 3., 0., 0., 3., 3., 3., 0., 3., 3., 0., 0., 0.,\n",
       "         3., 3., 0., 3., 0., 0., 0., 3., 0., 3., 3., 3., 3., 3., 0., 3., 0.,\n",
       "         0., 3., 0., 3., 0., 0., 3., 3., 3., 3., 0., 0., 3., 3., 0., 3., 0.,\n",
       "         3., 3., 3., 3., 3., 0., 3., 0., 0., 0., 0., 0., 0., 0., 0., 0., 3.,\n",
       "         3., 0., 3., 3., 0., 0., 3., 0., 0., 0., 3., 3., 3., 0., 0., 3., 3.,\n",
       "         3., 0., 0., 3., 0., 0., 3., 0., 3., 3., 0., 0., 0., 3., 3., 0., 0.,\n",
       "         3., 3., 3., 0., 0., 0., 0., 0., 3., 3., 3., 3., 0., 3., 0., 3., 3.,\n",
       "         3., 0., 0., 3., 3., 3., 0., 0., 3., 0., 0., 0., 0., 3., 3., 0., 3.,\n",
       "         3., 0., 0., 0., 0., 0., 3., 3., 0., 3., 3., 3., 3., 0., 3., 3., 3.,\n",
       "         3., 3., 3., 3., 3., 3., 0., 0., 3., 3., 3., 0., 0., 0., 0., 3., 3.,\n",
       "         3., 3., 3., 0., 3., 0., 0., 0., 3., 3., 3., 3., 3., 0., 3., 3., 3.,\n",
       "         0., 3., 3., 3., 3., 0., 3., 3., 0., 3., 0., 0., 0., 3., 3., 3., 3.,\n",
       "         3., 3., 3., 3., 3., 0., 3., 0., 0., 0., 3., 0., 0., 0., 0., 0., 0.,\n",
       "         3., 3., 0., 0., 0., 3., 0., 3., 3., 3., 3., 3., 0., 0., 3., 0., 3.,\n",
       "         0., 0., 0., 0., 0., 0., 0., 3., 3., 0., 3., 0., 0., 0., 3., 3., 0.,\n",
       "         3., 3., 3., 0., 0., 3., 0., 0., 3., 3., 0., 0., 3., 3., 0., 3., 3.,\n",
       "         0., 3., 0., 0., 3., 0., 3., 0., 0., 0., 3., 3., 0., 3., 3., 0., 3.,\n",
       "         0., 3., 3., 0., 3., 0., 0., 3., 0., 0., 0., 3., 3., 3., 0., 0., 0.,\n",
       "         3., 0., 0., 3., 0., 0., 0., 3., 3., 0., 0., 3., 3., 0., 3., 3., 3.,\n",
       "         3., 0., 3., 0., 3., 0., 0., 0., 3., 3., 3., 3., 3., 0., 3., 3., 0.,\n",
       "         3., 0., 3., 3., 0., 3., 3., 3., 0., 0., 0., 0., 0., 0., 3., 0., 0.,\n",
       "         3., 3., 0., 0., 0., 0., 0., 0., 3., 3., 3., 3., 3., 3., 0., 0., 0.,\n",
       "         3., 0., 3., 0., 0., 3., 0., 3., 0., 0., 3., 0., 3., 3., 0., 3., 0.,\n",
       "         3., 0., 3., 0., 3., 0., 3., 3., 0., 3., 3., 0., 3., 3., 0., 0., 3.,\n",
       "         0., 3., 3., 3., 0., 0., 0., 0., 3., 0., 0., 3., 0., 0., 0., 3., 0.,\n",
       "         3., 3., 3., 3., 3., 0., 3., 0., 3., 0., 0., 3., 3., 0., 0., 0., 3.,\n",
       "         3., 0., 0., 3., 3., 0., 3., 3., 3., 3., 0., 3., 0., 3.])},\n",
       " {'name': '0_4',\n",
       "  'train_acc': 0.9988888888888889,\n",
       "  'val_acc': 0.988,\n",
       "  'test_acc': 0.983,\n",
       "  'train_time': 5.487857103347778,\n",
       "  'train_pred': array([4., 4., 0., ..., 4., 4., 4.]),\n",
       "  'val_pred': array([0., 4., 0., 0., 0., 4., 0., 4., 4., 4., 4., 4., 4., 0., 0., 4., 4.,\n",
       "         4., 4., 4., 4., 0., 0., 4., 4., 0., 0., 4., 4., 0., 0., 4., 4., 4.,\n",
       "         4., 4., 0., 4., 0., 0., 0., 0., 0., 4., 0., 0., 4., 0., 0., 4., 0.,\n",
       "         0., 0., 0., 0., 0., 0., 0., 4., 4., 0., 0., 4., 0., 0., 4., 0., 4.,\n",
       "         4., 4., 0., 4., 4., 0., 0., 4., 0., 4., 4., 4., 4., 4., 0., 4., 0.,\n",
       "         4., 0., 0., 4., 0., 0., 0., 4., 0., 4., 0., 0., 4., 0., 4., 0., 4.,\n",
       "         0., 0., 4., 4., 4., 4., 4., 4., 4., 0., 0., 0., 0., 0., 4., 4., 0.,\n",
       "         0., 4., 0., 0., 4., 4., 0., 0., 0., 0., 0., 0., 0., 0., 4., 4., 4.,\n",
       "         4., 4., 0., 4., 4., 4., 4., 4., 4., 0., 4., 4., 4., 4., 0., 4., 4.,\n",
       "         4., 4., 4., 4., 0., 4., 4., 4., 4., 0., 0., 4., 4., 0., 0., 4., 4.,\n",
       "         4., 4., 4., 0., 4., 4., 4., 0., 0., 0., 0., 0., 4., 0., 0., 4., 0.,\n",
       "         4., 4., 0., 0., 0., 4., 0., 0., 4., 4., 0., 0., 0., 4., 4., 4., 0.,\n",
       "         0., 0., 0., 0., 0., 4., 4., 4., 0., 4., 0., 4., 0., 0., 4., 0., 0.,\n",
       "         0., 4., 0., 0., 0., 4., 4., 0., 0., 0., 0., 0., 4., 0., 4., 4., 4.,\n",
       "         0., 0., 4., 4., 4., 4., 0., 0., 4., 4., 0., 4., 4., 4., 4., 0., 0.,\n",
       "         0., 0., 0., 0., 0., 0., 0., 0., 4., 4., 4., 0., 4., 0., 4., 0., 0.,\n",
       "         0., 0., 0., 0., 0., 0., 4., 0., 4., 0., 0., 4., 4., 0., 4., 4., 4.,\n",
       "         0., 0., 4., 0., 0., 4., 4., 4., 0., 0., 4., 0., 4., 4., 0., 4., 0.,\n",
       "         0., 4., 0., 4., 4., 4., 0., 4., 0., 4., 0., 4., 0., 4., 4., 0., 4.,\n",
       "         4., 0., 4., 4., 0., 4., 0., 0., 4., 4., 4., 4., 4., 4., 0., 4., 4.,\n",
       "         0., 4., 4., 4., 4., 0., 4., 0., 0., 0., 4., 0., 0., 4., 4., 4., 4.,\n",
       "         4., 4., 0., 4., 0., 4., 0., 4., 0., 4., 4., 0., 0., 0., 0., 0., 4.,\n",
       "         0., 4., 0., 4., 0., 0., 0., 4., 4., 4., 0., 0., 0., 4., 0., 0., 4.,\n",
       "         0., 0., 0., 0., 0., 4., 4., 0., 0., 0., 4., 4., 4., 4., 4., 4., 0.,\n",
       "         0., 4., 0., 4., 4., 4., 0., 0., 0., 0., 0., 4., 4., 0., 4., 0., 4.,\n",
       "         0., 4., 0., 4., 0., 0., 4., 4., 0., 0., 4., 4., 0., 4., 0., 4., 4.,\n",
       "         0., 0., 0., 4., 0., 4., 4., 4., 0., 0., 4., 0., 4., 0., 0., 4., 0.,\n",
       "         0., 4., 0., 0., 4., 0., 0., 0., 0., 4., 4., 4., 4., 4., 4., 0., 0.,\n",
       "         0., 0., 0., 4., 0., 0., 4., 4., 0., 4., 4., 0., 0., 0., 4., 4., 4.,\n",
       "         0., 4., 0., 0., 4., 4., 0.]),\n",
       "  'test_pred': array([0., 4., 0., 0., 0., 0., 0., 4., 0., 0., 0., 0., 4., 0., 0., 0., 4.,\n",
       "         0., 4., 0., 0., 4., 0., 4., 0., 4., 4., 0., 0., 4., 4., 4., 0., 0.,\n",
       "         4., 0., 4., 0., 0., 0., 4., 0., 4., 4., 0., 0., 0., 4., 4., 4., 0.,\n",
       "         0., 0., 4., 4., 0., 4., 0., 4., 4., 0., 4., 0., 4., 0., 0., 0., 4.,\n",
       "         0., 4., 0., 4., 0., 0., 0., 0., 0., 4., 0., 4., 4., 0., 4., 0., 4.,\n",
       "         4., 4., 0., 4., 0., 0., 4., 4., 4., 0., 0., 0., 4., 0., 4., 4., 4.,\n",
       "         0., 0., 0., 0., 0., 4., 0., 0., 0., 0., 4., 4., 4., 0., 4., 4., 4.,\n",
       "         4., 4., 4., 0., 0., 0., 4., 0., 0., 4., 0., 0., 4., 4., 4., 0., 0.,\n",
       "         0., 4., 4., 4., 0., 4., 4., 0., 0., 0., 0., 4., 0., 0., 4., 4., 4.,\n",
       "         4., 0., 0., 4., 0., 0., 0., 0., 0., 4., 0., 4., 4., 0., 0., 0., 0.,\n",
       "         4., 0., 4., 4., 4., 0., 0., 4., 4., 0., 4., 0., 0., 4., 4., 0., 4.,\n",
       "         0., 0., 0., 0., 4., 0., 0., 0., 4., 0., 0., 0., 0., 0., 0., 4., 0.,\n",
       "         0., 0., 4., 4., 4., 0., 0., 0., 0., 0., 4., 4., 4., 0., 4., 0., 4.,\n",
       "         0., 4., 0., 4., 4., 4., 4., 0., 0., 0., 4., 0., 0., 4., 0., 0., 4.,\n",
       "         0., 4., 4., 0., 4., 0., 4., 4., 0., 4., 4., 4., 0., 0., 0., 4., 4.,\n",
       "         0., 4., 0., 4., 0., 4., 0., 4., 4., 4., 4., 4., 4., 4., 4., 0., 0.,\n",
       "         0., 4., 0., 0., 0., 4., 0., 0., 4., 0., 4., 0., 4., 4., 4., 4., 4.,\n",
       "         0., 0., 4., 4., 4., 4., 0., 4., 4., 4., 4., 4., 0., 0., 0., 4., 0.,\n",
       "         0., 0., 0., 4., 4., 0., 4., 4., 0., 4., 0., 4., 4., 4., 4., 0., 4.,\n",
       "         4., 0., 4., 4., 4., 4., 0., 0., 4., 4., 4., 0., 4., 4., 4., 4., 4.,\n",
       "         4., 4., 4., 0., 0., 0., 4., 0., 0., 0., 0., 0., 0., 4., 0., 4., 4.,\n",
       "         0., 0., 4., 0., 0., 0., 4., 4., 0., 4., 0., 4., 4., 0., 4., 0., 0.,\n",
       "         4., 4., 0., 0., 0., 4., 0., 4., 0., 0., 0., 0., 4., 4., 0., 0., 0.,\n",
       "         4., 0., 4., 4., 0., 4., 4., 0., 0., 4., 4., 0., 4., 4., 0., 4., 4.,\n",
       "         4., 4., 0., 0., 0., 0., 0., 4., 4., 0., 0., 4., 0., 0., 4., 0., 0.,\n",
       "         4., 4., 4., 0., 4., 0., 0., 4., 4., 4., 4., 0., 4., 4., 0., 0., 4.,\n",
       "         4., 0., 4., 4., 0., 0., 4., 0., 4., 4., 0., 4., 0., 0., 0., 4., 0.,\n",
       "         0., 0., 4., 4., 0., 4., 4., 0., 4., 4., 0., 0., 0., 0., 0., 4., 0.,\n",
       "         0., 4., 4., 0., 0., 4., 4., 4., 0., 0., 4., 0., 4., 4., 4., 4., 4.,\n",
       "         0., 0., 0., 0., 0., 0., 0., 4., 4., 0., 0., 0., 0., 0., 0., 4., 4.,\n",
       "         4., 4., 4., 0., 4., 4., 4., 0., 4., 0., 4., 0., 4., 4., 4., 0., 0.,\n",
       "         0., 0., 0., 0., 4., 0., 4., 4., 4., 0., 0., 0., 4., 4., 4., 4., 4.,\n",
       "         0., 0., 4., 0., 4., 4., 0., 4., 4., 0., 4., 4., 4., 0., 4., 4., 4.,\n",
       "         0., 4., 0., 4., 0., 4., 4., 0., 0., 4., 0., 4., 0., 0., 4., 0., 4.,\n",
       "         4., 4., 0., 4., 4., 0., 4., 4., 0., 0., 0., 0., 4., 0., 0., 4., 4.,\n",
       "         4., 4., 0., 0., 4., 0., 4., 0., 4., 4., 4., 0., 0., 4., 0., 0., 0.,\n",
       "         0., 4., 4., 0., 4., 4., 0., 0., 0., 4., 0., 4., 4., 0., 4., 0., 0.,\n",
       "         4., 4., 4., 0., 4., 0., 4., 0., 4., 4., 4., 0., 0., 4., 0., 0., 0.,\n",
       "         4., 0., 0., 4., 4., 4., 0., 4., 0., 0., 0., 0., 4., 4., 4., 0., 0.,\n",
       "         0., 4., 0., 4., 0., 4., 0., 0., 4., 4., 4., 0., 0., 4., 0., 4., 0.,\n",
       "         0., 0., 4., 4., 0., 0., 0., 4., 0., 4., 0., 4., 0., 0., 0., 0., 0.,\n",
       "         4., 0., 4., 4., 4., 0., 4., 4., 4., 4., 0., 4., 4., 4., 0., 0., 4.,\n",
       "         4., 4., 0., 0., 0., 4., 0., 4., 4., 0., 0., 4., 4., 0., 0., 4., 0.,\n",
       "         4., 0., 4., 0., 4., 4., 0., 0., 4., 4., 4., 0., 0., 4., 4., 4., 4.,\n",
       "         0., 4., 0., 0., 4., 0., 4., 4., 4., 0., 4., 0., 0., 0., 4., 4., 4.,\n",
       "         0., 0., 0., 4., 4., 0., 4., 4., 0., 4., 4., 4., 0., 0., 4., 0., 0.,\n",
       "         0., 0., 0., 4., 0., 0., 0., 4., 0., 0., 0., 4., 0., 0., 4., 0., 4.,\n",
       "         4., 0., 0., 0., 4., 4., 0., 0., 4., 0., 0., 0., 4., 4., 0., 0., 0.,\n",
       "         0., 4., 0., 4., 4., 0., 4., 0., 4., 0., 4., 4., 4., 0., 0., 0., 4.,\n",
       "         4., 4., 4., 0., 4., 0., 4., 4., 0., 4., 0., 0., 0., 4., 4., 0., 0.,\n",
       "         0., 0., 0., 4., 4., 0., 4., 0., 4., 4., 0., 0., 0., 0., 4., 4., 0.,\n",
       "         4., 0., 0., 4., 0., 0., 4., 4., 4., 0., 0., 4., 4., 0., 4., 0., 4.,\n",
       "         4., 4., 4., 0., 0., 0., 0., 0., 4., 4., 0., 0., 4., 4., 0., 0., 4.,\n",
       "         0., 0., 0., 4., 4., 4., 4., 4., 0., 0., 0., 0., 4., 0., 4., 0., 0.,\n",
       "         4., 0., 4., 0., 4., 0., 0., 4., 4., 0., 4., 4., 4., 0., 4., 4., 0.,\n",
       "         0., 4., 0., 0., 4., 4., 4., 4., 0., 4., 4., 4., 4., 0., 0., 4., 0.,\n",
       "         4., 4., 0., 0., 0., 4., 4., 0., 4., 0., 0., 4., 0., 4., 4., 4., 0.,\n",
       "         0., 0., 4., 4., 4., 0., 0., 0., 0., 4., 4., 4., 0., 4., 0., 0., 0.,\n",
       "         4., 0., 0., 0., 4., 4., 4., 4., 4., 0., 4., 4., 4., 0.])},\n",
       " {'name': '0_5',\n",
       "  'train_acc': 0.9997777777777778,\n",
       "  'val_acc': 0.998,\n",
       "  'test_acc': 0.999,\n",
       "  'train_time': 5.6760029792785645,\n",
       "  'train_pred': array([5., 0., 5., ..., 5., 5., 5.]),\n",
       "  'val_pred': array([0., 5., 5., 5., 5., 0., 5., 0., 5., 0., 0., 5., 5., 5., 5., 5., 5.,\n",
       "         5., 0., 0., 5., 0., 5., 0., 0., 0., 0., 0., 0., 5., 5., 5., 0., 5.,\n",
       "         5., 5., 0., 0., 5., 0., 0., 5., 5., 0., 0., 0., 5., 5., 5., 0., 0.,\n",
       "         0., 5., 5., 0., 0., 0., 5., 0., 0., 0., 5., 5., 0., 5., 5., 0., 0.,\n",
       "         0., 0., 5., 0., 5., 5., 0., 5., 5., 0., 0., 5., 0., 5., 5., 0., 5.,\n",
       "         0., 0., 0., 5., 5., 0., 5., 0., 5., 0., 0., 5., 5., 0., 0., 0., 5.,\n",
       "         5., 5., 0., 5., 0., 0., 5., 5., 5., 5., 5., 5., 0., 0., 0., 0., 0.,\n",
       "         5., 0., 0., 5., 0., 0., 5., 0., 0., 5., 0., 0., 0., 0., 0., 0., 5.,\n",
       "         0., 5., 5., 5., 5., 5., 5., 0., 5., 0., 5., 0., 5., 5., 5., 0., 0.,\n",
       "         0., 0., 5., 5., 5., 5., 5., 0., 0., 5., 0., 5., 0., 5., 5., 5., 0.,\n",
       "         5., 0., 5., 0., 5., 0., 0., 5., 5., 0., 0., 0., 5., 0., 5., 0., 5.,\n",
       "         0., 5., 0., 5., 5., 5., 0., 0., 5., 5., 0., 5., 5., 0., 0., 0., 0.,\n",
       "         5., 0., 5., 5., 5., 0., 0., 5., 5., 0., 0., 0., 5., 5., 5., 5., 0.,\n",
       "         0., 5., 5., 0., 0., 5., 5., 0., 0., 0., 0., 5., 0., 0., 0., 5., 5.,\n",
       "         0., 0., 0., 5., 5., 5., 5., 5., 5., 0., 0., 0., 5., 0., 0., 5., 0.,\n",
       "         0., 5., 0., 0., 5., 5., 0., 5., 5., 0., 5., 0., 5., 5., 0., 5., 0.,\n",
       "         5., 5., 0., 5., 0., 0., 0., 5., 5., 0., 0., 5., 0., 5., 5., 0., 0.,\n",
       "         0., 0., 0., 5., 5., 0., 5., 0., 0., 0., 5., 5., 5., 5., 0., 0., 5.,\n",
       "         0., 0., 5., 0., 5., 5., 0., 0., 0., 0., 5., 5., 5., 0., 0., 0., 0.,\n",
       "         0., 5., 5., 5., 0., 0., 5., 5., 5., 5., 5., 5., 0., 5., 0., 0., 0.,\n",
       "         5., 5., 0., 0., 5., 5., 5., 5., 5., 5., 5., 5., 5., 5., 5., 0., 5.,\n",
       "         0., 0., 5., 0., 5., 5., 5., 0., 0., 0., 0., 0., 5., 5., 0., 0., 5.,\n",
       "         0., 5., 0., 5., 5., 5., 5., 0., 5., 5., 0., 5., 0., 0., 5., 5., 0.,\n",
       "         0., 5., 0., 5., 0., 5., 0., 0., 0., 5., 5., 0., 5., 5., 5., 5., 5.,\n",
       "         5., 5., 5., 0., 0., 5., 0., 5., 5., 0., 0., 5., 5., 0., 0., 5., 5.,\n",
       "         0., 0., 5., 0., 0., 5., 0., 5., 0., 0., 5., 0., 0., 5., 0., 5., 0.,\n",
       "         5., 0., 0., 0., 5., 0., 5., 0., 0., 0., 5., 5., 0., 0., 0., 0., 0.,\n",
       "         0., 5., 0., 0., 0., 0., 5., 5., 5., 5., 5., 0., 0., 0., 5., 0., 0.,\n",
       "         5., 0., 0., 5., 0., 5., 5., 0., 0., 5., 5., 5., 5., 5., 5., 0., 0.,\n",
       "         0., 5., 5., 5., 5., 5., 0.]),\n",
       "  'test_pred': array([0., 5., 0., 0., 0., 0., 0., 0., 5., 0., 5., 5., 0., 0., 5., 5., 5.,\n",
       "         5., 5., 0., 0., 0., 5., 0., 5., 0., 5., 0., 0., 0., 5., 5., 0., 0.,\n",
       "         5., 5., 5., 5., 0., 0., 0., 5., 0., 0., 5., 5., 5., 0., 5., 5., 0.,\n",
       "         5., 5., 5., 0., 0., 5., 0., 0., 0., 5., 5., 0., 5., 0., 5., 0., 5.,\n",
       "         5., 5., 0., 5., 5., 5., 0., 0., 0., 0., 0., 0., 5., 0., 5., 0., 5.,\n",
       "         0., 5., 0., 5., 0., 0., 0., 5., 5., 0., 0., 0., 0., 5., 5., 0., 0.,\n",
       "         0., 5., 5., 5., 0., 5., 5., 0., 0., 0., 5., 0., 0., 0., 5., 5., 5.,\n",
       "         5., 0., 0., 5., 0., 5., 0., 5., 5., 5., 5., 0., 0., 5., 5., 0., 0.,\n",
       "         5., 5., 5., 0., 0., 5., 5., 5., 5., 5., 0., 5., 0., 5., 0., 0., 5.,\n",
       "         5., 5., 0., 0., 5., 0., 5., 5., 0., 5., 5., 5., 0., 0., 5., 5., 5.,\n",
       "         5., 5., 5., 0., 0., 5., 0., 0., 5., 0., 0., 0., 5., 0., 0., 0., 5.,\n",
       "         5., 0., 0., 5., 5., 5., 5., 0., 0., 5., 5., 5., 0., 5., 0., 0., 5.,\n",
       "         0., 5., 0., 0., 0., 0., 0., 5., 0., 5., 5., 0., 5., 5., 5., 0., 0.,\n",
       "         0., 5., 0., 0., 0., 5., 0., 5., 5., 0., 5., 5., 5., 0., 0., 5., 5.,\n",
       "         5., 5., 5., 5., 0., 0., 0., 0., 0., 5., 5., 5., 0., 0., 5., 5., 0.,\n",
       "         0., 5., 5., 5., 5., 0., 5., 0., 5., 0., 0., 0., 5., 5., 0., 0., 5.,\n",
       "         0., 5., 0., 5., 5., 0., 5., 5., 5., 0., 5., 0., 0., 5., 0., 0., 5.,\n",
       "         0., 5., 0., 0., 5., 5., 5., 5., 5., 5., 5., 5., 0., 0., 5., 5., 0.,\n",
       "         0., 0., 0., 5., 0., 5., 5., 5., 0., 5., 5., 5., 5., 0., 5., 0., 5.,\n",
       "         0., 0., 0., 5., 0., 0., 0., 5., 0., 5., 5., 0., 0., 0., 0., 5., 0.,\n",
       "         5., 5., 5., 5., 0., 5., 5., 0., 5., 0., 5., 0., 5., 0., 5., 0., 5.,\n",
       "         0., 0., 5., 5., 0., 0., 0., 5., 5., 0., 5., 0., 0., 5., 0., 5., 5.,\n",
       "         0., 0., 0., 0., 0., 0., 5., 0., 5., 0., 5., 0., 0., 0., 5., 0., 5.,\n",
       "         0., 5., 0., 0., 0., 0., 5., 0., 0., 5., 5., 0., 0., 0., 0., 5., 0.,\n",
       "         0., 0., 5., 5., 5., 0., 5., 0., 5., 0., 5., 0., 0., 0., 5., 0., 5.,\n",
       "         0., 0., 5., 0., 5., 5., 5., 5., 0., 5., 5., 0., 0., 0., 0., 5., 0.,\n",
       "         0., 5., 5., 5., 0., 5., 5., 5., 0., 5., 0., 5., 0., 5., 0., 0., 0.,\n",
       "         5., 5., 5., 5., 5., 5., 0., 0., 0., 0., 5., 5., 0., 0., 0., 5., 0.,\n",
       "         5., 0., 5., 0., 0., 0., 5., 0., 0., 5., 5., 5., 0., 0., 5., 0., 5.,\n",
       "         5., 0., 5., 0., 0., 5., 5., 5., 5., 5., 0., 5., 5., 5., 0., 5., 5.,\n",
       "         5., 0., 5., 0., 0., 5., 0., 0., 5., 5., 0., 0., 0., 0., 0., 0., 5.,\n",
       "         5., 5., 5., 5., 0., 5., 5., 0., 5., 0., 5., 0., 0., 5., 0., 0., 0.,\n",
       "         0., 5., 0., 0., 5., 5., 0., 0., 0., 5., 5., 0., 0., 0., 5., 0., 5.,\n",
       "         0., 5., 0., 5., 0., 0., 0., 5., 0., 5., 0., 5., 0., 5., 5., 5., 0.,\n",
       "         0., 5., 5., 0., 5., 5., 5., 5., 0., 0., 0., 5., 5., 0., 5., 0., 0.,\n",
       "         5., 5., 5., 5., 5., 5., 5., 5., 0., 0., 0., 5., 5., 5., 5., 0., 5.,\n",
       "         0., 0., 0., 0., 5., 0., 0., 5., 0., 5., 0., 0., 5., 0., 0., 5., 5.,\n",
       "         0., 5., 5., 0., 5., 0., 0., 0., 0., 5., 5., 0., 0., 0., 5., 5., 0.,\n",
       "         0., 5., 5., 0., 0., 5., 5., 0., 5., 0., 5., 0., 0., 0., 5., 5., 0.,\n",
       "         5., 5., 5., 0., 0., 0., 5., 0., 5., 5., 5., 0., 5., 5., 0., 5., 5.,\n",
       "         0., 0., 0., 0., 5., 0., 5., 0., 0., 0., 5., 5., 5., 0., 5., 0., 5.,\n",
       "         0., 0., 0., 0., 0., 5., 5., 0., 5., 5., 0., 5., 0., 0., 5., 5., 5.,\n",
       "         0., 0., 0., 5., 0., 0., 5., 5., 0., 0., 5., 5., 0., 5., 5., 5., 5.,\n",
       "         5., 0., 5., 5., 5., 0., 5., 0., 5., 5., 5., 0., 5., 5., 5., 0., 0.,\n",
       "         5., 5., 5., 0., 5., 5., 5., 0., 0., 5., 0., 5., 0., 0., 0., 5., 0.,\n",
       "         5., 5., 0., 5., 5., 0., 0., 0., 0., 5., 5., 5., 5., 5., 5., 5., 0.,\n",
       "         5., 0., 0., 0., 5., 0., 0., 0., 0., 5., 0., 0., 0., 0., 0., 0., 0.,\n",
       "         5., 5., 0., 5., 0., 0., 0., 5., 5., 5., 0., 0., 5., 0., 5., 0., 0.,\n",
       "         5., 5., 5., 0., 5., 0., 0., 0., 5., 0., 0., 5., 5., 0., 5., 5., 0.,\n",
       "         0., 0., 0., 5., 5., 5., 0., 0., 5., 5., 0., 0., 0., 5., 5., 0., 0.,\n",
       "         5., 5., 0., 5., 0., 5., 0., 5., 5., 5., 0., 0., 5., 5., 5., 5., 0.,\n",
       "         0., 5., 0., 0., 5., 0., 0., 5., 5., 0., 5., 5., 5., 0., 0., 5., 5.,\n",
       "         0., 5., 0., 5., 5., 0., 5., 5., 5., 0., 5., 5., 5., 5., 5., 5., 0.,\n",
       "         0., 0., 5., 0., 0., 5., 0., 0., 0., 0., 5., 0., 0., 0., 5., 5., 5.,\n",
       "         5., 0., 0., 0., 5., 0., 5., 0., 5., 5., 0., 5., 0., 5., 0., 5., 0.,\n",
       "         0., 5., 0., 0., 5., 5., 0., 0., 5., 0., 5., 0., 0., 5., 5., 0., 0.,\n",
       "         0., 0., 0., 5., 0., 5., 5., 0., 5., 0., 5., 0., 5., 5., 0., 5., 0.,\n",
       "         0., 5., 5., 5., 5., 0., 5., 0., 5., 0., 0., 5., 5., 0., 0., 0., 5.,\n",
       "         0., 0., 5., 0., 5., 5., 5., 5., 5., 0., 5., 5., 5., 0.])},\n",
       " {'name': '0_6',\n",
       "  'train_acc': 0.9662222222222222,\n",
       "  'val_acc': 0.866,\n",
       "  'test_acc': 0.858,\n",
       "  'train_time': 12.572663068771362,\n",
       "  'train_pred': array([6., 6., 6., ..., 6., 6., 0.]),\n",
       "  'val_pred': array([6., 0., 0., 0., 6., 0., 0., 6., 6., 6., 0., 0., 6., 6., 6., 0., 0.,\n",
       "         6., 0., 6., 0., 0., 6., 0., 0., 6., 0., 0., 0., 6., 6., 0., 6., 0.,\n",
       "         6., 0., 0., 6., 6., 0., 0., 0., 6., 0., 0., 6., 0., 0., 0., 0., 6.,\n",
       "         0., 6., 6., 6., 0., 0., 6., 6., 6., 0., 6., 0., 6., 0., 0., 6., 0.,\n",
       "         0., 0., 0., 0., 6., 6., 0., 6., 6., 6., 6., 0., 6., 0., 0., 6., 0.,\n",
       "         0., 0., 0., 0., 6., 6., 0., 6., 0., 6., 6., 0., 6., 0., 0., 0., 0.,\n",
       "         6., 6., 6., 6., 0., 6., 0., 6., 0., 0., 6., 6., 0., 0., 6., 0., 0.,\n",
       "         6., 6., 0., 0., 0., 0., 0., 0., 6., 0., 6., 0., 6., 6., 0., 6., 0.,\n",
       "         6., 6., 0., 6., 6., 0., 0., 0., 0., 6., 6., 6., 6., 0., 6., 6., 0.,\n",
       "         6., 0., 6., 6., 0., 0., 6., 6., 0., 0., 6., 0., 0., 0., 0., 0., 0.,\n",
       "         6., 6., 6., 0., 0., 0., 0., 6., 6., 6., 6., 0., 0., 0., 0., 0., 6.,\n",
       "         0., 6., 0., 0., 6., 6., 0., 0., 0., 6., 0., 0., 0., 6., 6., 0., 6.,\n",
       "         6., 0., 0., 6., 0., 6., 0., 6., 6., 0., 6., 0., 6., 6., 0., 0., 0.,\n",
       "         0., 6., 0., 6., 6., 6., 0., 6., 6., 0., 0., 0., 0., 0., 0., 0., 6.,\n",
       "         0., 6., 0., 0., 0., 0., 6., 0., 6., 0., 0., 6., 0., 0., 0., 6., 0.,\n",
       "         6., 0., 0., 0., 6., 6., 0., 0., 0., 6., 6., 0., 6., 0., 6., 0., 6.,\n",
       "         6., 0., 6., 6., 6., 6., 0., 0., 0., 6., 0., 0., 6., 0., 6., 6., 0.,\n",
       "         0., 0., 0., 6., 0., 6., 6., 6., 6., 0., 6., 0., 0., 0., 6., 6., 0.,\n",
       "         0., 6., 0., 0., 6., 6., 0., 6., 0., 6., 0., 0., 6., 0., 6., 6., 6.,\n",
       "         0., 0., 0., 0., 6., 0., 0., 0., 6., 6., 6., 0., 6., 0., 6., 6., 6.,\n",
       "         0., 0., 0., 0., 6., 6., 0., 0., 6., 0., 0., 6., 6., 6., 6., 6., 6.,\n",
       "         0., 6., 0., 0., 6., 6., 6., 0., 6., 6., 6., 0., 6., 6., 0., 6., 0.,\n",
       "         0., 6., 0., 0., 0., 6., 0., 0., 0., 0., 0., 0., 6., 6., 6., 0., 6.,\n",
       "         6., 0., 6., 0., 6., 6., 6., 6., 6., 0., 6., 6., 0., 6., 6., 6., 6.,\n",
       "         0., 0., 6., 6., 6., 6., 0., 6., 0., 6., 0., 6., 6., 0., 6., 0., 6.,\n",
       "         6., 6., 6., 6., 6., 0., 6., 6., 6., 0., 0., 6., 0., 6., 0., 0., 0.,\n",
       "         6., 6., 0., 6., 6., 6., 0., 0., 0., 0., 0., 0., 6., 6., 0., 6., 0.,\n",
       "         6., 6., 0., 6., 6., 6., 6., 6., 6., 6., 6., 6., 6., 6., 0., 0., 0.,\n",
       "         0., 6., 0., 0., 0., 0., 0., 6., 6., 6., 6., 6., 0., 6., 6., 6., 0.,\n",
       "         6., 0., 0., 6., 6., 6., 0.]),\n",
       "  'test_pred': array([0., 0., 0., 0., 6., 0., 0., 0., 6., 6., 0., 0., 6., 6., 0., 6., 0.,\n",
       "         6., 6., 0., 6., 6., 0., 0., 6., 0., 6., 0., 6., 6., 0., 6., 0., 6.,\n",
       "         0., 0., 0., 0., 0., 0., 0., 0., 0., 0., 0., 6., 0., 0., 6., 6., 0.,\n",
       "         6., 6., 0., 6., 0., 6., 0., 6., 6., 0., 6., 6., 6., 6., 6., 0., 0.,\n",
       "         0., 0., 0., 0., 6., 6., 6., 0., 6., 6., 6., 0., 0., 6., 0., 0., 0.,\n",
       "         0., 6., 0., 0., 6., 6., 6., 0., 0., 0., 0., 0., 6., 6., 6., 0., 6.,\n",
       "         6., 6., 6., 0., 0., 0., 0., 6., 6., 6., 0., 6., 0., 6., 0., 6., 0.,\n",
       "         6., 0., 6., 6., 6., 6., 0., 0., 6., 6., 6., 6., 0., 0., 6., 0., 0.,\n",
       "         6., 6., 0., 0., 0., 0., 6., 6., 0., 6., 0., 6., 6., 0., 0., 6., 6.,\n",
       "         6., 6., 0., 6., 0., 6., 6., 6., 6., 6., 0., 6., 6., 6., 6., 6., 0.,\n",
       "         0., 0., 6., 0., 6., 6., 0., 6., 6., 0., 6., 0., 0., 0., 0., 6., 0.,\n",
       "         0., 0., 0., 0., 6., 6., 6., 6., 0., 0., 6., 0., 0., 6., 6., 0., 0.,\n",
       "         6., 0., 6., 0., 6., 0., 6., 6., 0., 6., 0., 0., 0., 6., 0., 6., 0.,\n",
       "         0., 0., 0., 6., 0., 6., 6., 6., 6., 6., 0., 0., 0., 0., 0., 6., 0.,\n",
       "         0., 6., 0., 6., 6., 0., 6., 0., 6., 0., 0., 0., 6., 0., 0., 6., 0.,\n",
       "         0., 0., 0., 6., 6., 6., 0., 6., 6., 0., 6., 0., 0., 6., 0., 6., 6.,\n",
       "         6., 0., 6., 0., 0., 0., 0., 0., 0., 0., 6., 6., 6., 6., 6., 6., 6.,\n",
       "         6., 0., 0., 6., 0., 0., 0., 6., 0., 0., 0., 6., 6., 0., 6., 6., 6.,\n",
       "         0., 0., 0., 6., 0., 6., 0., 0., 6., 0., 6., 0., 0., 6., 0., 6., 6.,\n",
       "         6., 0., 6., 0., 6., 6., 0., 6., 6., 6., 0., 0., 6., 6., 6., 0., 0.,\n",
       "         6., 0., 6., 6., 6., 0., 0., 0., 0., 6., 6., 6., 6., 0., 0., 6., 0.,\n",
       "         0., 0., 6., 6., 6., 6., 0., 0., 6., 0., 0., 6., 6., 0., 6., 0., 6.,\n",
       "         6., 6., 0., 0., 0., 0., 6., 0., 0., 0., 0., 0., 6., 0., 6., 0., 6.,\n",
       "         6., 0., 0., 0., 0., 0., 0., 0., 6., 0., 0., 6., 6., 0., 6., 0., 6.,\n",
       "         6., 0., 6., 0., 6., 0., 6., 0., 6., 0., 0., 0., 0., 0., 6., 6., 0.,\n",
       "         0., 0., 6., 0., 0., 6., 0., 0., 0., 6., 0., 0., 6., 0., 6., 6., 6.,\n",
       "         0., 6., 6., 0., 6., 0., 6., 0., 6., 0., 0., 0., 0., 6., 0., 6., 0.,\n",
       "         0., 6., 0., 6., 6., 6., 0., 0., 0., 0., 0., 6., 0., 0., 6., 0., 6.,\n",
       "         0., 0., 6., 6., 0., 0., 0., 6., 6., 0., 6., 0., 0., 6., 6., 6., 6.,\n",
       "         0., 6., 0., 6., 6., 6., 6., 6., 0., 0., 0., 6., 6., 0., 0., 0., 0.,\n",
       "         0., 0., 0., 0., 6., 6., 6., 6., 6., 6., 0., 6., 6., 0., 6., 6., 0.,\n",
       "         6., 0., 0., 0., 0., 0., 6., 0., 0., 6., 0., 0., 6., 6., 0., 0., 0.,\n",
       "         0., 0., 0., 0., 6., 0., 0., 6., 6., 6., 0., 0., 0., 6., 0., 0., 0.,\n",
       "         6., 6., 6., 0., 0., 6., 6., 6., 6., 6., 0., 0., 0., 6., 6., 0., 0.,\n",
       "         0., 0., 6., 6., 6., 0., 0., 0., 0., 6., 6., 6., 0., 6., 0., 6., 0.,\n",
       "         0., 6., 0., 0., 6., 0., 0., 0., 0., 6., 6., 6., 0., 6., 0., 0., 0.,\n",
       "         0., 6., 6., 0., 6., 0., 6., 0., 0., 0., 6., 6., 0., 6., 0., 6., 0.,\n",
       "         0., 6., 0., 0., 0., 0., 6., 0., 0., 0., 0., 6., 0., 0., 6., 0., 6.,\n",
       "         6., 6., 6., 6., 0., 0., 0., 6., 6., 0., 6., 6., 0., 6., 0., 0., 6.,\n",
       "         0., 6., 0., 0., 6., 0., 6., 0., 6., 0., 6., 0., 6., 0., 0., 0., 6.,\n",
       "         0., 6., 6., 0., 6., 6., 0., 0., 0., 6., 6., 0., 6., 6., 6., 0., 0.,\n",
       "         6., 6., 0., 0., 6., 6., 0., 6., 6., 6., 6., 6., 0., 0., 0., 6., 6.,\n",
       "         6., 6., 0., 0., 6., 0., 0., 0., 6., 0., 6., 0., 0., 0., 0., 0., 6.,\n",
       "         6., 0., 6., 6., 6., 0., 6., 0., 0., 6., 6., 6., 0., 0., 6., 6., 6.,\n",
       "         6., 6., 6., 0., 6., 6., 6., 0., 0., 6., 0., 6., 0., 0., 0., 0., 0.,\n",
       "         6., 6., 6., 0., 6., 6., 6., 0., 0., 6., 6., 0., 6., 6., 0., 6., 6.,\n",
       "         6., 6., 0., 0., 0., 0., 0., 0., 0., 0., 6., 0., 0., 0., 0., 0., 0.,\n",
       "         6., 6., 6., 6., 0., 0., 0., 6., 6., 0., 0., 6., 0., 6., 0., 0., 0.,\n",
       "         6., 0., 6., 0., 0., 0., 0., 0., 6., 0., 0., 6., 0., 6., 0., 6., 0.,\n",
       "         0., 6., 6., 0., 6., 0., 6., 6., 0., 0., 0., 6., 6., 0., 6., 6., 6.,\n",
       "         0., 0., 6., 6., 6., 0., 0., 6., 6., 6., 0., 6., 0., 6., 0., 0., 0.,\n",
       "         0., 0., 6., 6., 6., 0., 0., 0., 0., 6., 6., 6., 6., 6., 6., 0., 6.,\n",
       "         6., 6., 0., 6., 6., 0., 6., 0., 6., 6., 6., 6., 0., 0., 0., 0., 0.,\n",
       "         0., 0., 0., 0., 6., 0., 0., 6., 0., 0., 6., 0., 0., 0., 6., 6., 0.,\n",
       "         6., 0., 0., 0., 0., 6., 6., 6., 0., 6., 0., 6., 0., 0., 6., 6., 0.,\n",
       "         0., 0., 0., 0., 6., 6., 0., 6., 0., 0., 0., 0., 6., 6., 0., 6., 0.,\n",
       "         0., 0., 6., 6., 6., 0., 6., 0., 0., 6., 0., 6., 6., 0., 0., 6., 0.,\n",
       "         6., 6., 6., 0., 6., 0., 0., 6., 6., 0., 0., 6., 6., 0., 6., 0., 0.,\n",
       "         6., 6., 0., 0., 6., 0., 6., 6., 6., 6., 0., 6., 6., 0.])},\n",
       " {'name': '0_7',\n",
       "  'train_acc': 0.9997777777777778,\n",
       "  'val_acc': 0.992,\n",
       "  'test_acc': 0.999,\n",
       "  'train_time': 2.619023084640503,\n",
       "  'train_pred': array([7., 7., 7., ..., 7., 7., 7.]),\n",
       "  'val_pred': array([0., 7., 0., 0., 7., 0., 0., 7., 7., 7., 7., 7., 0., 0., 7., 7., 0.,\n",
       "         7., 7., 7., 0., 0., 7., 0., 7., 0., 7., 0., 7., 0., 7., 7., 0., 0.,\n",
       "         0., 7., 0., 0., 0., 7., 0., 0., 7., 0., 0., 0., 7., 7., 7., 0., 0.,\n",
       "         0., 0., 7., 0., 0., 7., 0., 7., 7., 0., 0., 7., 0., 0., 0., 7., 0.,\n",
       "         7., 7., 0., 0., 7., 0., 7., 0., 7., 7., 7., 0., 7., 7., 7., 7., 7.,\n",
       "         7., 0., 0., 0., 7., 0., 7., 0., 7., 0., 7., 7., 0., 7., 0., 0., 0.,\n",
       "         7., 7., 0., 0., 0., 7., 7., 7., 7., 7., 0., 0., 0., 0., 0., 0., 0.,\n",
       "         7., 0., 0., 7., 0., 0., 0., 0., 0., 7., 0., 7., 7., 7., 0., 7., 0.,\n",
       "         7., 7., 7., 0., 7., 0., 0., 7., 7., 7., 7., 0., 7., 7., 7., 7., 0.,\n",
       "         0., 0., 0., 0., 7., 7., 7., 7., 7., 7., 0., 7., 7., 7., 0., 7., 0.,\n",
       "         0., 7., 7., 0., 0., 0., 7., 0., 7., 0., 7., 0., 0., 0., 7., 0., 7.,\n",
       "         7., 0., 0., 0., 7., 0., 7., 7., 0., 0., 7., 7., 0., 0., 7., 0., 0.,\n",
       "         0., 7., 7., 0., 0., 7., 7., 0., 0., 0., 7., 7., 7., 7., 7., 0., 0.,\n",
       "         7., 7., 7., 0., 7., 0., 7., 0., 0., 0., 7., 7., 7., 0., 7., 0., 0.,\n",
       "         0., 7., 0., 7., 0., 7., 7., 7., 0., 7., 0., 0., 0., 0., 0., 7., 0.,\n",
       "         0., 0., 0., 7., 0., 7., 7., 0., 0., 7., 0., 7., 0., 7., 7., 7., 0.,\n",
       "         0., 0., 0., 7., 0., 0., 0., 0., 0., 0., 0., 0., 7., 7., 7., 7., 7.,\n",
       "         7., 7., 0., 7., 0., 0., 7., 0., 7., 0., 0., 0., 0., 0., 7., 0., 0.,\n",
       "         7., 0., 0., 7., 0., 7., 0., 0., 0., 0., 0., 7., 7., 0., 7., 0., 7.,\n",
       "         7., 7., 7., 0., 0., 0., 0., 7., 0., 0., 7., 0., 0., 0., 7., 0., 7.,\n",
       "         0., 7., 0., 0., 0., 7., 0., 7., 7., 7., 7., 0., 0., 7., 0., 7., 7.,\n",
       "         7., 7., 7., 7., 7., 0., 7., 7., 7., 7., 0., 0., 7., 0., 7., 7., 0.,\n",
       "         0., 7., 0., 0., 7., 0., 0., 0., 0., 0., 7., 7., 7., 7., 7., 7., 7.,\n",
       "         0., 0., 0., 7., 7., 7., 7., 0., 0., 7., 0., 0., 7., 7., 0., 0., 0.,\n",
       "         0., 7., 7., 0., 7., 0., 7., 7., 0., 7., 0., 7., 0., 0., 0., 7., 7.,\n",
       "         7., 0., 7., 7., 0., 0., 0., 7., 7., 7., 0., 7., 0., 0., 0., 7., 0.,\n",
       "         0., 7., 7., 0., 0., 0., 0., 7., 7., 0., 7., 0., 0., 7., 7., 0., 7.,\n",
       "         7., 7., 7., 7., 7., 7., 7., 7., 7., 0., 0., 0., 7., 7., 0., 0., 0.,\n",
       "         7., 0., 7., 7., 7., 7., 0., 7., 7., 7., 7., 7., 0., 0., 0., 0., 0.,\n",
       "         0., 7., 7., 7., 7., 7., 0.]),\n",
       "  'test_pred': array([0., 7., 7., 0., 0., 0., 0., 0., 0., 7., 0., 0., 0., 7., 7., 7., 0.,\n",
       "         7., 0., 0., 7., 0., 7., 0., 0., 7., 0., 0., 7., 0., 7., 0., 7., 7.,\n",
       "         0., 0., 0., 0., 0., 7., 7., 7., 7., 7., 0., 7., 0., 7., 7., 0., 0.,\n",
       "         0., 7., 7., 0., 0., 7., 0., 7., 7., 0., 0., 7., 7., 0., 7., 7., 0.,\n",
       "         7., 0., 0., 0., 0., 0., 7., 0., 0., 0., 0., 0., 0., 0., 7., 0., 0.,\n",
       "         0., 7., 0., 7., 0., 0., 0., 7., 7., 7., 7., 0., 7., 7., 7., 0., 7.,\n",
       "         0., 0., 0., 0., 0., 7., 0., 0., 7., 7., 0., 7., 0., 7., 7., 7., 0.,\n",
       "         7., 0., 0., 7., 0., 7., 7., 7., 0., 0., 7., 7., 0., 0., 0., 0., 0.,\n",
       "         7., 0., 7., 0., 0., 7., 7., 0., 7., 7., 7., 7., 7., 7., 0., 0., 7.,\n",
       "         7., 7., 7., 7., 7., 0., 0., 0., 7., 0., 7., 7., 0., 0., 0., 0., 7.,\n",
       "         0., 0., 7., 7., 0., 7., 0., 7., 7., 7., 0., 0., 7., 0., 7., 0., 0.,\n",
       "         7., 7., 0., 7., 7., 0., 0., 0., 0., 0., 0., 7., 7., 7., 0., 7., 7.,\n",
       "         7., 0., 7., 0., 0., 7., 7., 0., 0., 0., 0., 7., 7., 0., 7., 7., 7.,\n",
       "         0., 0., 7., 7., 7., 7., 0., 0., 7., 0., 7., 0., 0., 7., 7., 0., 0.,\n",
       "         0., 7., 0., 7., 7., 7., 0., 0., 0., 0., 7., 0., 0., 7., 7., 7., 0.,\n",
       "         7., 0., 7., 7., 0., 7., 0., 7., 7., 0., 7., 7., 0., 7., 0., 7., 0.,\n",
       "         7., 7., 0., 7., 0., 0., 7., 7., 0., 7., 7., 7., 7., 7., 7., 7., 7.,\n",
       "         7., 7., 7., 7., 7., 0., 7., 7., 0., 0., 7., 7., 0., 0., 0., 7., 7.,\n",
       "         7., 0., 7., 7., 0., 7., 7., 0., 0., 7., 0., 0., 7., 7., 7., 0., 0.,\n",
       "         0., 0., 7., 7., 0., 0., 0., 7., 0., 7., 7., 7., 0., 7., 7., 7., 0.,\n",
       "         7., 7., 0., 7., 0., 7., 7., 0., 7., 0., 0., 0., 7., 7., 7., 7., 7.,\n",
       "         7., 0., 0., 0., 7., 0., 0., 7., 7., 0., 0., 0., 0., 7., 7., 0., 0.,\n",
       "         0., 0., 0., 0., 0., 0., 0., 0., 0., 7., 0., 7., 0., 0., 0., 0., 0.,\n",
       "         7., 0., 0., 7., 0., 7., 0., 7., 0., 0., 0., 0., 7., 7., 7., 0., 7.,\n",
       "         7., 0., 7., 7., 7., 0., 7., 7., 0., 7., 0., 0., 0., 7., 0., 0., 7.,\n",
       "         0., 0., 7., 7., 0., 7., 7., 0., 0., 0., 0., 0., 0., 7., 7., 7., 7.,\n",
       "         7., 0., 7., 7., 7., 0., 7., 0., 7., 7., 7., 7., 0., 7., 7., 7., 0.,\n",
       "         7., 0., 0., 7., 0., 0., 7., 7., 0., 0., 0., 0., 0., 7., 7., 0., 0.,\n",
       "         0., 7., 0., 0., 0., 7., 0., 0., 0., 7., 7., 7., 0., 7., 0., 7., 7.,\n",
       "         0., 0., 7., 7., 7., 0., 7., 0., 7., 0., 7., 0., 0., 0., 7., 0., 7.,\n",
       "         7., 0., 0., 0., 0., 0., 0., 7., 0., 7., 7., 7., 7., 7., 7., 0., 0.,\n",
       "         7., 0., 0., 0., 0., 0., 7., 7., 0., 0., 0., 7., 0., 7., 0., 0., 7.,\n",
       "         7., 7., 7., 0., 0., 0., 0., 7., 7., 0., 0., 7., 7., 7., 0., 7., 7.,\n",
       "         0., 7., 7., 7., 0., 7., 0., 0., 0., 0., 7., 0., 0., 7., 0., 7., 7.,\n",
       "         0., 0., 0., 7., 7., 7., 0., 7., 0., 0., 7., 7., 7., 7., 7., 0., 0.,\n",
       "         0., 7., 7., 7., 0., 0., 0., 7., 7., 0., 0., 0., 0., 0., 0., 7., 0.,\n",
       "         0., 0., 7., 7., 7., 7., 0., 7., 7., 0., 7., 0., 7., 0., 0., 0., 7.,\n",
       "         0., 0., 0., 7., 7., 7., 0., 0., 7., 0., 0., 7., 7., 7., 7., 7., 0.,\n",
       "         0., 7., 0., 7., 0., 7., 7., 7., 7., 0., 7., 0., 7., 0., 0., 7., 0.,\n",
       "         0., 7., 7., 7., 7., 7., 7., 0., 7., 7., 7., 0., 0., 0., 7., 0., 0.,\n",
       "         7., 7., 0., 7., 7., 7., 0., 7., 0., 7., 0., 7., 7., 0., 7., 7., 0.,\n",
       "         0., 0., 7., 0., 0., 7., 0., 7., 7., 0., 7., 7., 7., 0., 0., 0., 7.,\n",
       "         7., 0., 0., 7., 0., 7., 0., 0., 0., 7., 0., 7., 7., 7., 7., 7., 7.,\n",
       "         0., 7., 0., 0., 7., 7., 0., 7., 0., 7., 7., 7., 7., 0., 0., 7., 7.,\n",
       "         0., 7., 7., 0., 0., 7., 0., 7., 7., 0., 0., 0., 0., 7., 7., 7., 0.,\n",
       "         7., 7., 0., 0., 0., 0., 7., 7., 7., 7., 7., 0., 0., 7., 7., 7., 0.,\n",
       "         0., 7., 0., 0., 7., 0., 0., 0., 0., 0., 0., 7., 0., 0., 0., 7., 7.,\n",
       "         0., 7., 0., 7., 0., 7., 0., 7., 7., 0., 0., 7., 0., 0., 7., 0., 7.,\n",
       "         7., 0., 7., 0., 0., 0., 7., 7., 0., 7., 0., 7., 0., 7., 7., 7., 0.,\n",
       "         7., 0., 0., 7., 7., 7., 0., 7., 0., 7., 0., 7., 7., 7., 0., 7., 0.,\n",
       "         0., 7., 7., 0., 0., 7., 0., 0., 0., 7., 0., 0., 7., 7., 7., 7., 0.,\n",
       "         0., 7., 7., 0., 0., 7., 7., 0., 7., 7., 0., 0., 7., 7., 0., 7., 0.,\n",
       "         7., 7., 7., 7., 0., 7., 7., 7., 0., 7., 7., 0., 0., 7., 7., 7., 7.,\n",
       "         0., 0., 0., 7., 7., 0., 0., 7., 0., 0., 0., 0., 0., 7., 0., 0., 7.,\n",
       "         7., 7., 7., 7., 0., 0., 0., 7., 0., 0., 7., 0., 7., 7., 0., 7., 7.,\n",
       "         0., 7., 0., 0., 7., 0., 0., 7., 0., 7., 0., 7., 0., 0., 0., 7., 7.,\n",
       "         7., 7., 7., 0., 7., 0., 7., 7., 0., 7., 0., 0., 7., 7., 0., 7., 0.,\n",
       "         0., 0., 0., 0., 7., 0., 7., 7., 0., 7., 0., 0., 0., 7., 7., 7., 0.,\n",
       "         7., 0., 0., 0., 0., 0., 7., 7., 7., 7., 7., 7., 0., 0.])},\n",
       " {'name': '0_8',\n",
       "  'train_acc': 0.9982222222222222,\n",
       "  'val_acc': 0.986,\n",
       "  'test_acc': 0.978,\n",
       "  'train_time': 5.569499969482422,\n",
       "  'train_pred': array([8., 0., 0., ..., 8., 8., 8.]),\n",
       "  'val_pred': array([0., 0., 0., 8., 0., 8., 8., 0., 8., 8., 8., 8., 0., 0., 8., 8., 0.,\n",
       "         0., 0., 8., 8., 0., 8., 0., 8., 8., 0., 0., 8., 8., 8., 8., 0., 0.,\n",
       "         8., 0., 0., 8., 0., 0., 0., 0., 0., 0., 8., 0., 8., 0., 0., 8., 0.,\n",
       "         0., 8., 0., 0., 0., 8., 0., 0., 0., 0., 8., 8., 0., 8., 8., 0., 8.,\n",
       "         8., 0., 0., 8., 8., 8., 8., 8., 8., 8., 8., 0., 8., 8., 8., 8., 0.,\n",
       "         8., 0., 8., 0., 8., 8., 8., 0., 0., 8., 0., 0., 8., 0., 8., 0., 8.,\n",
       "         8., 0., 0., 0., 8., 8., 8., 8., 8., 0., 8., 0., 0., 8., 8., 8., 0.,\n",
       "         0., 8., 8., 0., 0., 0., 0., 8., 0., 0., 8., 0., 8., 8., 0., 8., 0.,\n",
       "         0., 0., 8., 8., 0., 8., 0., 8., 0., 0., 8., 0., 8., 8., 8., 0., 0.,\n",
       "         0., 0., 8., 8., 0., 8., 8., 8., 0., 0., 8., 0., 0., 8., 8., 0., 0.,\n",
       "         8., 0., 8., 0., 8., 8., 8., 0., 8., 0., 0., 8., 0., 0., 0., 0., 0.,\n",
       "         8., 8., 8., 0., 0., 0., 8., 0., 0., 0., 0., 8., 0., 8., 0., 0., 8.,\n",
       "         8., 0., 0., 0., 8., 8., 8., 0., 0., 8., 8., 8., 8., 8., 0., 8., 0.,\n",
       "         8., 0., 0., 0., 0., 0., 0., 0., 0., 8., 8., 8., 8., 0., 8., 8., 8.,\n",
       "         8., 0., 0., 8., 0., 0., 0., 0., 0., 8., 8., 0., 0., 0., 8., 8., 8.,\n",
       "         0., 8., 0., 8., 8., 8., 8., 8., 8., 0., 8., 0., 8., 8., 0., 8., 0.,\n",
       "         0., 0., 8., 8., 0., 8., 8., 0., 8., 0., 8., 0., 0., 0., 0., 0., 8.,\n",
       "         8., 8., 8., 8., 8., 0., 0., 0., 0., 0., 8., 0., 0., 0., 8., 8., 0.,\n",
       "         8., 8., 0., 0., 0., 8., 0., 8., 0., 8., 0., 8., 8., 8., 0., 0., 0.,\n",
       "         8., 8., 0., 8., 0., 8., 8., 8., 8., 8., 8., 8., 0., 0., 0., 0., 8.,\n",
       "         8., 8., 0., 8., 0., 8., 8., 8., 8., 8., 8., 0., 8., 8., 8., 0., 8.,\n",
       "         0., 8., 0., 0., 0., 0., 0., 8., 0., 8., 8., 8., 0., 0., 0., 8., 8.,\n",
       "         8., 0., 8., 8., 0., 8., 8., 0., 0., 8., 8., 0., 0., 8., 0., 8., 0.,\n",
       "         0., 0., 0., 8., 0., 8., 0., 8., 8., 8., 8., 8., 8., 0., 0., 8., 8.,\n",
       "         0., 8., 8., 8., 0., 8., 0., 0., 0., 8., 0., 8., 8., 0., 0., 0., 8.,\n",
       "         8., 0., 8., 8., 8., 0., 0., 8., 0., 8., 8., 0., 8., 8., 0., 0., 8.,\n",
       "         8., 0., 0., 0., 8., 0., 8., 0., 0., 0., 8., 0., 0., 0., 8., 0., 0.,\n",
       "         0., 8., 8., 8., 0., 0., 0., 0., 8., 8., 8., 8., 8., 0., 0., 0., 8.,\n",
       "         0., 8., 8., 0., 0., 8., 0., 0., 8., 8., 0., 8., 8., 0., 8., 8., 8.,\n",
       "         0., 8., 0., 0., 8., 8., 0.]),\n",
       "  'test_pred': array([0., 0., 0., 0., 8., 0., 0., 0., 8., 8., 8., 0., 0., 8., 8., 8., 0.,\n",
       "         0., 0., 8., 0., 8., 0., 0., 8., 0., 0., 8., 8., 0., 0., 8., 8., 8.,\n",
       "         0., 0., 0., 8., 0., 0., 8., 8., 0., 0., 8., 8., 0., 0., 0., 8., 8.,\n",
       "         8., 8., 0., 8., 8., 0., 8., 8., 0., 0., 8., 8., 8., 0., 8., 8., 8.,\n",
       "         0., 8., 0., 0., 0., 0., 8., 0., 8., 8., 0., 8., 0., 0., 8., 0., 0.,\n",
       "         8., 0., 8., 8., 0., 0., 8., 0., 8., 0., 0., 8., 8., 0., 0., 0., 8.,\n",
       "         8., 0., 8., 8., 8., 0., 8., 0., 8., 0., 0., 0., 8., 8., 0., 0., 0.,\n",
       "         0., 8., 8., 8., 0., 8., 8., 0., 0., 8., 8., 0., 0., 0., 0., 8., 0.,\n",
       "         0., 8., 8., 0., 0., 8., 8., 0., 0., 8., 0., 8., 8., 0., 8., 8., 0.,\n",
       "         8., 8., 8., 8., 8., 8., 8., 8., 8., 0., 0., 0., 8., 8., 0., 8., 0.,\n",
       "         0., 0., 8., 8., 0., 8., 0., 8., 0., 8., 8., 8., 8., 0., 8., 0., 8.,\n",
       "         8., 0., 0., 0., 0., 0., 8., 8., 0., 8., 0., 8., 8., 8., 8., 8., 0.,\n",
       "         8., 0., 0., 0., 0., 8., 8., 0., 8., 0., 0., 0., 8., 0., 0., 0., 8.,\n",
       "         0., 8., 0., 0., 8., 0., 0., 0., 8., 0., 8., 0., 8., 0., 8., 0., 8.,\n",
       "         0., 8., 8., 8., 0., 8., 8., 0., 0., 8., 8., 0., 0., 8., 8., 0., 0.,\n",
       "         8., 0., 0., 8., 0., 8., 0., 8., 8., 8., 0., 8., 8., 8., 8., 0., 8.,\n",
       "         8., 8., 8., 8., 0., 8., 0., 0., 8., 8., 8., 8., 0., 0., 8., 8., 0.,\n",
       "         8., 8., 8., 8., 8., 8., 0., 0., 8., 0., 0., 0., 0., 0., 8., 0., 0.,\n",
       "         8., 0., 8., 0., 0., 8., 8., 8., 0., 0., 0., 0., 0., 8., 0., 0., 8.,\n",
       "         0., 8., 0., 8., 8., 8., 0., 8., 0., 8., 8., 0., 8., 0., 8., 0., 0.,\n",
       "         8., 0., 8., 8., 8., 8., 8., 8., 8., 8., 8., 0., 0., 0., 8., 8., 8.,\n",
       "         0., 0., 8., 0., 0., 8., 0., 0., 0., 8., 0., 8., 8., 0., 0., 0., 8.,\n",
       "         0., 0., 8., 0., 8., 0., 0., 8., 0., 8., 0., 0., 0., 0., 8., 8., 0.,\n",
       "         8., 8., 0., 0., 0., 0., 0., 0., 8., 8., 0., 0., 0., 8., 8., 0., 8.,\n",
       "         8., 8., 0., 8., 0., 8., 0., 0., 0., 0., 0., 8., 0., 8., 8., 8., 8.,\n",
       "         0., 8., 8., 0., 8., 8., 0., 8., 8., 0., 0., 8., 0., 8., 8., 8., 8.,\n",
       "         0., 8., 8., 8., 0., 8., 8., 8., 0., 8., 8., 8., 0., 0., 0., 8., 0.,\n",
       "         0., 8., 8., 0., 0., 0., 0., 0., 8., 8., 8., 0., 0., 0., 0., 0., 0.,\n",
       "         8., 8., 0., 8., 0., 0., 0., 8., 8., 8., 0., 8., 8., 0., 0., 8., 0.,\n",
       "         8., 0., 8., 8., 8., 0., 0., 0., 8., 8., 0., 0., 0., 0., 0., 0., 8.,\n",
       "         0., 8., 8., 8., 8., 0., 8., 8., 0., 8., 0., 8., 0., 8., 0., 8., 0.,\n",
       "         8., 0., 0., 8., 0., 0., 0., 8., 0., 0., 0., 8., 8., 0., 0., 8., 8.,\n",
       "         0., 8., 0., 8., 0., 8., 8., 8., 8., 0., 0., 8., 0., 0., 8., 0., 8.,\n",
       "         0., 8., 8., 0., 8., 8., 0., 0., 8., 8., 0., 8., 8., 8., 8., 0., 8.,\n",
       "         0., 0., 8., 8., 0., 8., 8., 0., 0., 8., 8., 0., 0., 0., 8., 0., 8.,\n",
       "         0., 8., 0., 8., 0., 0., 8., 0., 0., 0., 0., 8., 0., 0., 8., 8., 0.,\n",
       "         8., 0., 0., 8., 8., 8., 0., 8., 8., 8., 8., 0., 0., 8., 8., 8., 0.,\n",
       "         8., 0., 8., 8., 0., 8., 8., 0., 0., 0., 0., 8., 8., 8., 8., 0., 0.,\n",
       "         8., 0., 8., 0., 8., 8., 8., 8., 0., 8., 0., 8., 0., 8., 8., 0., 8.,\n",
       "         8., 0., 8., 8., 8., 0., 8., 8., 0., 0., 0., 0., 0., 8., 0., 8., 8.,\n",
       "         8., 0., 0., 8., 0., 0., 8., 8., 8., 8., 0., 0., 8., 8., 0., 8., 0.,\n",
       "         8., 0., 8., 8., 8., 8., 0., 0., 0., 8., 8., 8., 8., 0., 8., 8., 8.,\n",
       "         0., 0., 0., 8., 8., 0., 0., 8., 8., 8., 0., 8., 8., 0., 8., 0., 8.,\n",
       "         8., 0., 8., 8., 0., 8., 8., 0., 8., 8., 8., 0., 8., 0., 8., 8., 8.,\n",
       "         8., 0., 8., 0., 0., 8., 8., 8., 0., 8., 0., 0., 0., 8., 0., 8., 0.,\n",
       "         8., 8., 0., 0., 8., 0., 8., 0., 8., 8., 8., 8., 8., 8., 8., 8., 0.,\n",
       "         0., 0., 8., 0., 8., 0., 0., 0., 0., 0., 0., 0., 8., 8., 0., 8., 0.,\n",
       "         8., 8., 0., 0., 8., 8., 8., 8., 0., 8., 8., 0., 0., 0., 8., 0., 0.,\n",
       "         8., 8., 8., 0., 0., 0., 8., 0., 8., 0., 0., 8., 0., 8., 0., 0., 0.,\n",
       "         0., 8., 8., 0., 8., 0., 8., 0., 8., 8., 0., 0., 0., 0., 0., 8., 8.,\n",
       "         8., 8., 8., 8., 0., 0., 8., 0., 0., 0., 8., 0., 0., 8., 8., 0., 0.,\n",
       "         8., 0., 0., 0., 8., 8., 8., 0., 0., 8., 0., 0., 8., 8., 0., 8., 0.,\n",
       "         0., 8., 0., 8., 8., 0., 0., 0., 0., 0., 8., 8., 8., 0., 8., 0., 0.,\n",
       "         0., 8., 0., 0., 8., 0., 8., 0., 0., 0., 0., 0., 8., 0., 8., 8., 0.,\n",
       "         0., 8., 8., 0., 8., 0., 8., 0., 0., 8., 8., 8., 8., 8., 8., 0., 8.,\n",
       "         0., 8., 0., 8., 0., 8., 8., 8., 8., 0., 8., 0., 0., 8., 8., 0., 0.,\n",
       "         8., 0., 0., 0., 0., 8., 0., 0., 8., 8., 8., 0., 8., 8., 8., 0., 8.,\n",
       "         0., 0., 0., 8., 8., 8., 0., 0., 8., 0., 8., 0., 8., 8., 8., 8., 8.,\n",
       "         0., 0., 0., 8., 8., 8., 8., 8., 8., 8., 8., 0., 8., 0.])},\n",
       " {'name': '0_9',\n",
       "  'train_acc': 1.0,\n",
       "  'val_acc': 1.0,\n",
       "  'test_acc': 0.998,\n",
       "  'train_time': 4.460172891616821,\n",
       "  'train_pred': array([9., 0., 0., ..., 9., 9., 9.]),\n",
       "  'val_pred': array([0., 9., 0., 9., 0., 9., 0., 9., 0., 9., 9., 9., 9., 0., 0., 9., 0.,\n",
       "         9., 0., 0., 9., 9., 0., 9., 0., 9., 9., 9., 9., 0., 9., 0., 9., 9.,\n",
       "         0., 0., 0., 0., 9., 0., 9., 0., 9., 9., 0., 0., 9., 0., 0., 0., 9.,\n",
       "         9., 0., 9., 0., 0., 0., 0., 0., 0., 9., 9., 0., 9., 0., 0., 9., 0.,\n",
       "         0., 9., 9., 9., 0., 9., 0., 0., 0., 9., 9., 9., 9., 9., 9., 9., 0.,\n",
       "         9., 9., 0., 9., 9., 0., 0., 0., 9., 9., 0., 0., 0., 9., 0., 9., 0.,\n",
       "         9., 9., 0., 9., 9., 0., 9., 0., 9., 0., 9., 0., 9., 0., 0., 0., 0.,\n",
       "         9., 0., 9., 0., 9., 0., 0., 0., 0., 9., 0., 0., 0., 0., 0., 9., 9.,\n",
       "         9., 0., 0., 9., 9., 9., 9., 9., 0., 9., 9., 9., 0., 9., 9., 0., 9.,\n",
       "         9., 9., 0., 9., 9., 0., 0., 0., 9., 9., 9., 0., 0., 0., 0., 9., 0.,\n",
       "         0., 9., 0., 9., 9., 9., 0., 9., 0., 9., 9., 0., 0., 9., 9., 0., 9.,\n",
       "         0., 9., 0., 9., 0., 0., 9., 9., 0., 0., 0., 9., 9., 0., 0., 0., 9.,\n",
       "         0., 9., 0., 0., 0., 9., 9., 9., 0., 0., 0., 9., 0., 0., 0., 0., 0.,\n",
       "         0., 0., 9., 0., 0., 0., 0., 9., 0., 9., 0., 9., 9., 9., 9., 0., 9.,\n",
       "         9., 9., 9., 0., 0., 0., 0., 0., 0., 0., 0., 0., 9., 9., 0., 9., 9.,\n",
       "         0., 9., 0., 9., 0., 0., 9., 9., 9., 0., 0., 0., 9., 0., 9., 0., 0.,\n",
       "         9., 0., 9., 0., 0., 9., 9., 0., 9., 0., 0., 9., 9., 0., 0., 9., 9.,\n",
       "         9., 0., 9., 0., 0., 9., 0., 0., 0., 9., 9., 0., 9., 0., 0., 9., 0.,\n",
       "         0., 0., 9., 9., 0., 9., 9., 0., 0., 0., 0., 9., 0., 9., 9., 9., 9.,\n",
       "         9., 0., 0., 0., 0., 0., 0., 9., 9., 9., 9., 9., 9., 9., 9., 9., 0.,\n",
       "         0., 9., 9., 0., 9., 0., 9., 9., 0., 0., 0., 0., 9., 9., 0., 9., 9.,\n",
       "         9., 9., 9., 9., 9., 0., 0., 0., 9., 9., 9., 9., 0., 9., 0., 9., 9.,\n",
       "         0., 9., 0., 0., 0., 0., 0., 9., 0., 0., 9., 0., 0., 0., 9., 9., 9.,\n",
       "         9., 9., 9., 9., 9., 0., 0., 0., 9., 9., 9., 9., 9., 9., 0., 0., 0.,\n",
       "         0., 9., 0., 9., 9., 0., 9., 0., 0., 0., 9., 9., 9., 9., 9., 9., 0.,\n",
       "         0., 9., 9., 0., 0., 9., 0., 9., 9., 0., 9., 9., 9., 9., 0., 0., 0.,\n",
       "         9., 0., 9., 9., 9., 0., 0., 9., 0., 0., 0., 0., 9., 0., 9., 9., 0.,\n",
       "         0., 9., 0., 9., 0., 0., 0., 9., 9., 9., 9., 0., 0., 0., 9., 9., 9.,\n",
       "         0., 0., 9., 0., 0., 9., 9., 0., 9., 9., 9., 9., 0., 9., 0., 0., 0.,\n",
       "         9., 0., 0., 9., 9., 9., 0.]),\n",
       "  'test_pred': array([0., 9., 0., 9., 0., 0., 9., 0., 0., 0., 0., 0., 0., 0., 9., 0., 0.,\n",
       "         9., 0., 0., 0., 0., 0., 9., 9., 9., 9., 9., 9., 0., 9., 0., 9., 9.,\n",
       "         9., 9., 9., 9., 9., 9., 9., 9., 0., 0., 0., 0., 0., 9., 9., 9., 9.,\n",
       "         0., 9., 9., 9., 0., 0., 0., 9., 9., 0., 9., 9., 0., 0., 9., 9., 9.,\n",
       "         9., 9., 9., 0., 9., 0., 9., 0., 9., 9., 9., 0., 0., 0., 0., 0., 0.,\n",
       "         0., 0., 0., 0., 0., 0., 0., 9., 0., 9., 0., 0., 9., 9., 0., 9., 9.,\n",
       "         0., 0., 9., 9., 0., 0., 0., 9., 0., 9., 9., 9., 0., 9., 0., 0., 0.,\n",
       "         9., 0., 9., 9., 0., 9., 9., 9., 9., 0., 0., 0., 0., 9., 9., 0., 9.,\n",
       "         0., 9., 9., 9., 9., 9., 9., 0., 0., 9., 0., 0., 0., 9., 9., 9., 0.,\n",
       "         9., 0., 0., 9., 0., 9., 9., 0., 9., 9., 0., 9., 0., 0., 9., 0., 9.,\n",
       "         0., 9., 9., 9., 0., 0., 9., 9., 0., 9., 9., 0., 0., 0., 0., 0., 9.,\n",
       "         9., 9., 0., 0., 9., 0., 9., 0., 9., 0., 0., 9., 0., 9., 9., 0., 0.,\n",
       "         9., 0., 9., 9., 9., 0., 0., 0., 9., 0., 0., 0., 9., 9., 9., 0., 0.,\n",
       "         0., 0., 9., 9., 0., 0., 0., 0., 9., 9., 9., 9., 0., 0., 0., 9., 9.,\n",
       "         0., 9., 0., 0., 0., 0., 9., 9., 0., 0., 0., 9., 9., 9., 0., 9., 9.,\n",
       "         0., 9., 0., 0., 9., 0., 0., 9., 0., 0., 9., 9., 0., 0., 9., 9., 0.,\n",
       "         9., 9., 0., 9., 9., 0., 9., 9., 0., 9., 9., 9., 0., 0., 9., 0., 0.,\n",
       "         0., 9., 9., 9., 9., 9., 9., 0., 0., 0., 9., 0., 0., 0., 9., 9., 0.,\n",
       "         9., 0., 9., 9., 0., 9., 0., 0., 0., 0., 0., 0., 0., 9., 9., 0., 0.,\n",
       "         9., 0., 0., 9., 9., 0., 0., 9., 0., 0., 9., 0., 0., 9., 0., 9., 9.,\n",
       "         9., 0., 9., 9., 9., 0., 9., 0., 0., 0., 0., 9., 0., 9., 0., 9., 0.,\n",
       "         0., 0., 9., 0., 0., 0., 0., 0., 9., 9., 9., 9., 0., 0., 9., 0., 9.,\n",
       "         0., 0., 0., 0., 0., 9., 9., 0., 9., 0., 9., 9., 0., 0., 0., 9., 9.,\n",
       "         9., 9., 0., 9., 9., 0., 9., 0., 0., 9., 9., 9., 0., 0., 0., 9., 9.,\n",
       "         9., 9., 0., 9., 9., 9., 0., 0., 9., 0., 9., 0., 9., 0., 9., 9., 0.,\n",
       "         0., 9., 0., 0., 0., 9., 9., 9., 0., 9., 0., 0., 9., 0., 9., 9., 0.,\n",
       "         0., 9., 9., 9., 9., 9., 9., 9., 9., 9., 9., 9., 9., 9., 0., 9., 9.,\n",
       "         9., 0., 0., 9., 9., 0., 9., 0., 0., 0., 9., 0., 0., 0., 0., 0., 0.,\n",
       "         0., 9., 9., 9., 9., 0., 9., 9., 0., 0., 9., 9., 0., 0., 9., 0., 0.,\n",
       "         9., 9., 0., 0., 9., 9., 9., 9., 0., 0., 9., 0., 9., 0., 9., 0., 0.,\n",
       "         9., 9., 9., 9., 0., 0., 0., 0., 0., 9., 0., 0., 0., 0., 0., 9., 0.,\n",
       "         9., 9., 0., 9., 9., 9., 0., 0., 0., 0., 9., 0., 0., 0., 9., 0., 0.,\n",
       "         0., 9., 9., 9., 0., 0., 0., 9., 9., 9., 9., 0., 0., 9., 9., 0., 9.,\n",
       "         0., 9., 0., 0., 9., 0., 9., 0., 9., 0., 0., 9., 0., 0., 0., 0., 9.,\n",
       "         0., 9., 0., 9., 9., 9., 9., 9., 9., 9., 9., 0., 9., 0., 9., 0., 0.,\n",
       "         9., 9., 0., 0., 9., 0., 0., 0., 9., 9., 0., 9., 9., 9., 9., 0., 0.,\n",
       "         0., 0., 0., 9., 0., 9., 9., 0., 9., 0., 0., 0., 0., 9., 0., 9., 9.,\n",
       "         0., 0., 9., 0., 9., 0., 0., 9., 9., 9., 0., 0., 9., 0., 0., 0., 0.,\n",
       "         0., 9., 9., 9., 0., 0., 0., 0., 9., 9., 9., 0., 9., 0., 0., 0., 0.,\n",
       "         9., 0., 9., 9., 9., 9., 9., 9., 0., 9., 0., 0., 9., 0., 9., 0., 0.,\n",
       "         9., 0., 9., 9., 0., 0., 0., 9., 9., 0., 9., 9., 0., 9., 0., 0., 9.,\n",
       "         0., 0., 0., 9., 9., 9., 9., 0., 9., 9., 9., 9., 9., 9., 0., 9., 0.,\n",
       "         0., 9., 9., 9., 9., 0., 9., 9., 9., 0., 0., 9., 0., 0., 0., 0., 9.,\n",
       "         9., 9., 9., 9., 0., 9., 9., 9., 9., 9., 9., 0., 9., 0., 0., 0., 9.,\n",
       "         9., 0., 0., 9., 9., 0., 0., 0., 9., 9., 0., 9., 0., 0., 0., 0., 9.,\n",
       "         0., 9., 0., 0., 9., 9., 0., 0., 9., 9., 0., 0., 0., 9., 0., 0., 0.,\n",
       "         0., 9., 0., 0., 0., 0., 0., 0., 0., 0., 9., 9., 0., 9., 0., 9., 9.,\n",
       "         0., 0., 9., 9., 9., 9., 0., 0., 0., 0., 9., 9., 9., 0., 9., 9., 9.,\n",
       "         9., 0., 0., 0., 0., 9., 9., 0., 9., 9., 0., 9., 0., 9., 9., 0., 0.,\n",
       "         0., 9., 9., 0., 9., 0., 9., 0., 9., 9., 0., 0., 0., 9., 9., 9., 0.,\n",
       "         0., 0., 9., 0., 0., 0., 9., 0., 9., 9., 9., 9., 0., 0., 9., 0., 0.,\n",
       "         9., 9., 0., 0., 9., 0., 9., 9., 9., 9., 9., 9., 9., 0., 9., 0., 9.,\n",
       "         9., 0., 0., 0., 9., 9., 9., 0., 9., 9., 9., 9., 9., 0., 0., 0., 9.,\n",
       "         0., 0., 9., 0., 0., 9., 9., 0., 0., 0., 0., 9., 0., 9., 9., 9., 0.,\n",
       "         0., 0., 0., 9., 9., 9., 9., 0., 0., 0., 9., 9., 0., 9., 9., 0., 0.,\n",
       "         9., 0., 9., 0., 9., 9., 9., 0., 0., 0., 0., 0., 9., 9., 9., 9., 9.,\n",
       "         9., 9., 9., 0., 0., 9., 9., 0., 9., 0., 9., 0., 9., 0., 9., 9., 9.,\n",
       "         0., 0., 0., 0., 9., 0., 9., 0., 0., 9., 0., 0., 0., 9., 9., 9., 9.,\n",
       "         9., 9., 0., 0., 0., 0., 0., 0., 9., 9., 9., 9., 0., 0.])},\n",
       " {'name': '1_2',\n",
       "  'train_acc': 0.9991111111111111,\n",
       "  'val_acc': 0.99,\n",
       "  'test_acc': 0.989,\n",
       "  'train_time': 3.9105396270751953,\n",
       "  'train_pred': array([1., 2., 1., ..., 2., 2., 1.]),\n",
       "  'val_pred': array([2., 1., 1., 2., 1., 1., 1., 2., 1., 1., 1., 1., 2., 2., 1., 2., 1.,\n",
       "         1., 1., 1., 1., 1., 2., 1., 2., 1., 1., 2., 1., 2., 2., 1., 2., 2.,\n",
       "         1., 2., 1., 2., 1., 2., 2., 1., 1., 2., 2., 2., 1., 2., 1., 1., 1.,\n",
       "         2., 2., 1., 1., 2., 1., 1., 2., 1., 2., 2., 2., 2., 2., 2., 1., 2.,\n",
       "         1., 2., 2., 1., 2., 2., 1., 1., 2., 1., 2., 2., 2., 1., 2., 1., 1.,\n",
       "         2., 1., 2., 1., 1., 1., 1., 2., 1., 1., 2., 1., 2., 2., 1., 1., 1.,\n",
       "         2., 1., 2., 1., 1., 2., 2., 1., 1., 1., 2., 2., 1., 1., 2., 1., 1.,\n",
       "         1., 1., 2., 1., 1., 2., 1., 2., 2., 1., 1., 1., 1., 1., 2., 2., 2.,\n",
       "         2., 2., 2., 2., 1., 2., 2., 2., 2., 1., 1., 2., 1., 1., 2., 2., 2.,\n",
       "         2., 2., 1., 2., 1., 1., 2., 2., 1., 1., 1., 1., 2., 1., 1., 1., 1.,\n",
       "         2., 1., 2., 1., 2., 1., 1., 1., 2., 1., 1., 2., 2., 1., 2., 2., 2.,\n",
       "         1., 2., 1., 1., 2., 2., 1., 2., 2., 1., 1., 1., 1., 2., 2., 2., 1.,\n",
       "         2., 2., 1., 2., 1., 1., 2., 2., 1., 2., 2., 1., 1., 2., 2., 1., 2.,\n",
       "         2., 1., 2., 2., 2., 2., 1., 2., 1., 2., 1., 1., 2., 1., 1., 2., 1.,\n",
       "         2., 2., 1., 1., 2., 1., 2., 2., 2., 2., 2., 2., 1., 1., 2., 2., 1.,\n",
       "         1., 1., 2., 1., 1., 1., 2., 2., 1., 1., 2., 2., 1., 1., 2., 1., 1.,\n",
       "         2., 2., 1., 2., 2., 1., 1., 1., 2., 1., 2., 2., 2., 1., 1., 1., 2.,\n",
       "         2., 2., 2., 1., 2., 1., 2., 2., 1., 1., 2., 2., 1., 2., 1., 2., 1.,\n",
       "         1., 2., 2., 2., 1., 1., 1., 2., 2., 1., 2., 1., 2., 2., 1., 1., 2.,\n",
       "         2., 1., 1., 2., 1., 1., 2., 1., 1., 2., 2., 2., 2., 2., 2., 1., 2.,\n",
       "         2., 2., 2., 1., 2., 2., 1., 1., 1., 1., 1., 1., 2., 2., 2., 1., 2.,\n",
       "         2., 2., 1., 2., 1., 2., 1., 1., 1., 2., 1., 2., 1., 2., 2., 2., 2.,\n",
       "         2., 1., 1., 2., 2., 1., 1., 2., 1., 2., 2., 2., 2., 1., 2., 2., 1.,\n",
       "         2., 1., 2., 1., 2., 1., 1., 1., 2., 1., 2., 2., 1., 2., 2., 2., 1.,\n",
       "         2., 2., 2., 1., 2., 1., 1., 2., 2., 1., 1., 1., 1., 1., 1., 2., 1.,\n",
       "         1., 2., 1., 1., 2., 2., 2., 2., 2., 2., 2., 1., 2., 1., 1., 2., 2.,\n",
       "         1., 1., 2., 1., 2., 1., 2., 1., 2., 1., 2., 2., 2., 1., 1., 2., 1.,\n",
       "         2., 2., 1., 1., 1., 2., 2., 1., 1., 1., 2., 1., 1., 2., 2., 1., 2.,\n",
       "         1., 1., 2., 2., 2., 1., 2., 2., 1., 1., 1., 1., 1., 2., 2., 1., 2.,\n",
       "         2., 2., 1., 2., 2., 1., 2.]),\n",
       "  'test_pred': array([2., 1., 2., 1., 2., 1., 1., 2., 1., 1., 1., 1., 1., 1., 1., 2., 1.,\n",
       "         2., 1., 1., 2., 2., 2., 1., 1., 2., 1., 1., 1., 1., 2., 1., 2., 1.,\n",
       "         1., 2., 2., 1., 2., 2., 2., 2., 2., 1., 1., 2., 2., 2., 1., 2., 1.,\n",
       "         1., 2., 1., 1., 1., 2., 2., 2., 1., 1., 1., 2., 1., 2., 1., 2., 2.,\n",
       "         1., 2., 2., 2., 2., 2., 2., 1., 2., 2., 2., 2., 2., 2., 1., 1., 2.,\n",
       "         1., 1., 2., 2., 2., 1., 2., 1., 2., 1., 2., 1., 1., 2., 1., 2., 2.,\n",
       "         1., 1., 2., 2., 2., 2., 1., 1., 1., 1., 1., 1., 2., 2., 2., 1., 1.,\n",
       "         1., 1., 1., 1., 2., 2., 2., 2., 2., 2., 1., 1., 2., 1., 2., 1., 2.,\n",
       "         1., 1., 1., 2., 1., 1., 2., 1., 1., 1., 2., 1., 1., 1., 2., 1., 1.,\n",
       "         2., 2., 1., 2., 2., 2., 2., 2., 1., 1., 2., 2., 2., 2., 1., 2., 1.,\n",
       "         2., 2., 1., 2., 1., 2., 2., 2., 2., 2., 1., 2., 1., 2., 2., 2., 1.,\n",
       "         2., 1., 2., 1., 1., 1., 1., 2., 2., 1., 2., 1., 1., 1., 2., 1., 2.,\n",
       "         1., 2., 2., 2., 2., 1., 1., 2., 2., 2., 2., 1., 2., 2., 1., 2., 1.,\n",
       "         2., 1., 2., 2., 1., 1., 2., 2., 2., 1., 2., 2., 2., 1., 1., 1., 2.,\n",
       "         1., 1., 2., 2., 1., 2., 2., 2., 1., 1., 1., 2., 1., 1., 2., 1., 2.,\n",
       "         2., 1., 1., 2., 2., 1., 1., 1., 1., 1., 2., 1., 2., 2., 1., 2., 1.,\n",
       "         2., 1., 1., 1., 1., 1., 1., 2., 2., 2., 1., 2., 1., 2., 2., 1., 1.,\n",
       "         1., 1., 1., 1., 2., 1., 2., 2., 2., 2., 2., 1., 1., 1., 1., 1., 1.,\n",
       "         1., 2., 1., 2., 2., 1., 1., 1., 2., 2., 1., 2., 2., 1., 2., 2., 2.,\n",
       "         2., 2., 2., 1., 2., 2., 1., 1., 2., 2., 2., 2., 2., 2., 1., 1., 2.,\n",
       "         1., 2., 1., 1., 2., 2., 1., 2., 2., 2., 2., 2., 2., 2., 1., 2., 2.,\n",
       "         2., 2., 1., 1., 2., 1., 2., 2., 2., 1., 1., 1., 2., 1., 1., 1., 2.,\n",
       "         1., 2., 1., 1., 1., 1., 1., 1., 1., 1., 2., 2., 1., 2., 2., 2., 1.,\n",
       "         1., 1., 1., 1., 1., 2., 1., 1., 2., 1., 1., 1., 1., 2., 2., 1., 2.,\n",
       "         2., 2., 1., 1., 1., 2., 1., 1., 1., 1., 1., 2., 2., 1., 2., 1., 1.,\n",
       "         1., 1., 1., 2., 2., 1., 1., 1., 1., 1., 1., 1., 2., 2., 2., 2., 1.,\n",
       "         2., 1., 2., 1., 2., 2., 2., 2., 2., 2., 1., 2., 2., 2., 2., 2., 1.,\n",
       "         1., 1., 2., 1., 1., 2., 1., 2., 2., 1., 1., 2., 1., 2., 1., 2., 2.,\n",
       "         1., 2., 1., 2., 2., 2., 2., 1., 1., 1., 2., 2., 2., 1., 1., 1., 2.,\n",
       "         1., 1., 2., 2., 2., 2., 2., 1., 1., 2., 1., 2., 2., 1., 1., 1., 1.,\n",
       "         1., 2., 2., 1., 1., 2., 2., 2., 2., 1., 2., 2., 2., 1., 2., 1., 2.,\n",
       "         1., 2., 2., 1., 2., 1., 2., 1., 2., 2., 2., 2., 1., 2., 1., 2., 2.,\n",
       "         2., 1., 1., 2., 2., 1., 2., 1., 2., 1., 2., 1., 2., 2., 1., 2., 1.,\n",
       "         1., 2., 2., 1., 1., 1., 1., 1., 1., 2., 2., 1., 1., 1., 2., 2., 1.,\n",
       "         1., 2., 2., 1., 1., 2., 2., 2., 2., 2., 2., 2., 2., 1., 2., 1., 1.,\n",
       "         2., 1., 1., 1., 1., 1., 2., 2., 2., 1., 2., 1., 1., 2., 1., 1., 2.,\n",
       "         1., 2., 2., 1., 1., 1., 1., 2., 1., 2., 1., 2., 2., 1., 2., 1., 1.,\n",
       "         1., 2., 1., 2., 1., 1., 2., 1., 2., 1., 2., 2., 1., 2., 1., 1., 1.,\n",
       "         1., 1., 2., 2., 1., 1., 1., 2., 2., 2., 2., 1., 2., 2., 1., 2., 2.,\n",
       "         2., 2., 2., 1., 2., 2., 2., 1., 2., 1., 1., 1., 1., 2., 2., 1., 1.,\n",
       "         1., 2., 2., 2., 1., 1., 2., 2., 2., 1., 1., 1., 1., 1., 1., 1., 1.,\n",
       "         2., 1., 1., 2., 2., 1., 2., 2., 1., 2., 1., 2., 1., 2., 2., 1., 1.,\n",
       "         1., 2., 2., 1., 2., 2., 2., 1., 2., 1., 2., 2., 1., 1., 2., 2., 2.,\n",
       "         1., 1., 2., 1., 1., 1., 2., 2., 2., 2., 1., 2., 2., 2., 1., 2., 1.,\n",
       "         1., 1., 2., 2., 2., 1., 1., 1., 1., 1., 2., 1., 1., 1., 1., 1., 1.,\n",
       "         1., 2., 1., 2., 1., 1., 2., 2., 2., 1., 2., 2., 2., 2., 2., 1., 2.,\n",
       "         2., 1., 2., 1., 1., 1., 2., 2., 1., 2., 2., 2., 1., 1., 1., 1., 2.,\n",
       "         1., 1., 2., 2., 2., 2., 2., 2., 2., 1., 1., 1., 1., 2., 2., 2., 2.,\n",
       "         1., 2., 2., 2., 2., 1., 2., 2., 1., 1., 2., 2., 1., 1., 2., 1., 1.,\n",
       "         1., 2., 1., 1., 1., 2., 1., 2., 2., 1., 2., 1., 2., 1., 2., 1., 2.,\n",
       "         2., 1., 2., 1., 2., 2., 1., 2., 2., 1., 2., 1., 1., 1., 2., 2., 1.,\n",
       "         2., 1., 2., 2., 2., 1., 2., 1., 1., 2., 1., 1., 2., 2., 1., 1., 1.,\n",
       "         2., 2., 2., 2., 1., 1., 1., 2., 1., 2., 2., 2., 1., 1., 2., 1., 1.,\n",
       "         1., 1., 1., 1., 2., 2., 2., 2., 2., 1., 1., 1., 1., 2., 1., 2., 2.,\n",
       "         2., 1., 1., 2., 1., 2., 2., 2., 2., 2., 2., 1., 1., 1., 1., 2., 1.,\n",
       "         1., 1., 1., 2., 1., 1., 2., 2., 1., 1., 2., 2., 1., 2., 2., 2., 1.,\n",
       "         1., 1., 2., 2., 2., 2., 2., 2., 2., 2., 2., 1., 2., 2., 1., 1., 1.,\n",
       "         1., 1., 2., 2., 1., 2., 2., 2., 2., 2., 1., 1., 1., 2., 2., 1., 1.,\n",
       "         2., 2., 2., 1., 2., 2., 1., 1., 1., 1., 2., 2., 1., 2.])},\n",
       " {'name': '1_3',\n",
       "  'train_acc': 0.9964444444444445,\n",
       "  'val_acc': 0.976,\n",
       "  'test_acc': 0.984,\n",
       "  'train_time': 4.180836200714111,\n",
       "  'train_pred': array([1., 1., 3., ..., 1., 3., 3.]),\n",
       "  'val_pred': array([3., 3., 1., 1., 1., 1., 3., 3., 1., 1., 1., 3., 1., 3., 1., 3., 3.,\n",
       "         1., 3., 1., 3., 1., 3., 3., 1., 1., 1., 1., 1., 3., 1., 1., 3., 1.,\n",
       "         1., 3., 1., 3., 3., 1., 3., 1., 3., 1., 1., 3., 3., 1., 3., 1., 1.,\n",
       "         1., 3., 1., 1., 1., 3., 3., 1., 3., 3., 3., 3., 3., 3., 3., 3., 1.,\n",
       "         3., 3., 1., 1., 3., 1., 3., 3., 3., 1., 3., 3., 1., 1., 3., 3., 1.,\n",
       "         1., 1., 1., 1., 1., 1., 1., 3., 1., 3., 1., 3., 1., 3., 1., 3., 3.,\n",
       "         3., 3., 3., 3., 1., 1., 3., 3., 1., 1., 3., 1., 1., 3., 3., 3., 3.,\n",
       "         3., 1., 1., 1., 3., 3., 1., 3., 1., 1., 1., 3., 1., 1., 1., 3., 1.,\n",
       "         3., 1., 3., 3., 3., 3., 3., 3., 3., 1., 1., 3., 1., 1., 3., 1., 3.,\n",
       "         3., 3., 1., 1., 3., 3., 1., 3., 1., 1., 3., 3., 1., 1., 1., 1., 1.,\n",
       "         1., 3., 3., 3., 3., 3., 1., 3., 1., 1., 1., 3., 1., 1., 3., 3., 1.,\n",
       "         3., 1., 1., 3., 1., 3., 1., 3., 3., 1., 1., 3., 3., 1., 1., 3., 1.,\n",
       "         3., 1., 3., 1., 1., 3., 3., 3., 1., 3., 1., 1., 3., 3., 1., 3., 1.,\n",
       "         3., 3., 3., 1., 1., 1., 3., 1., 3., 1., 3., 1., 1., 3., 3., 1., 1.,\n",
       "         1., 3., 3., 3., 1., 1., 3., 1., 3., 1., 3., 1., 1., 3., 3., 3., 3.,\n",
       "         1., 3., 1., 3., 3., 3., 1., 1., 1., 1., 1., 1., 1., 1., 1., 1., 3.,\n",
       "         3., 1., 3., 3., 3., 3., 1., 1., 1., 3., 3., 3., 3., 1., 1., 1., 1.,\n",
       "         1., 3., 3., 3., 3., 3., 1., 3., 1., 1., 1., 1., 1., 1., 3., 3., 3.,\n",
       "         1., 3., 3., 1., 1., 3., 3., 1., 3., 3., 1., 3., 1., 1., 3., 3., 3.,\n",
       "         3., 3., 1., 3., 3., 3., 3., 1., 3., 1., 1., 1., 3., 1., 1., 1., 3.,\n",
       "         3., 3., 3., 3., 3., 3., 1., 3., 3., 1., 1., 1., 1., 1., 1., 3., 3.,\n",
       "         1., 3., 3., 3., 3., 1., 3., 1., 1., 1., 3., 1., 3., 3., 1., 3., 3.,\n",
       "         1., 3., 1., 3., 3., 1., 1., 3., 1., 1., 3., 3., 3., 1., 1., 3., 3.,\n",
       "         3., 3., 1., 3., 3., 1., 3., 3., 1., 3., 1., 1., 1., 1., 1., 1., 3.,\n",
       "         1., 1., 3., 3., 3., 1., 3., 1., 1., 3., 3., 1., 3., 3., 3., 3., 1.,\n",
       "         3., 3., 3., 1., 3., 3., 1., 1., 1., 3., 3., 1., 3., 1., 3., 1., 3.,\n",
       "         3., 3., 3., 3., 1., 3., 1., 3., 3., 1., 3., 1., 3., 1., 1., 3., 1.,\n",
       "         1., 1., 3., 3., 3., 1., 3., 3., 1., 3., 3., 3., 3., 1., 1., 3., 3.,\n",
       "         1., 3., 3., 3., 3., 1., 1., 3., 3., 3., 1., 1., 3., 1., 1., 3., 3.,\n",
       "         3., 3., 1., 1., 3., 3., 1.]),\n",
       "  'test_pred': array([1., 1., 3., 1., 1., 3., 1., 3., 1., 3., 3., 3., 3., 1., 3., 1., 1.,\n",
       "         1., 3., 1., 3., 1., 1., 3., 1., 3., 1., 3., 3., 1., 3., 1., 1., 3.,\n",
       "         3., 1., 3., 1., 1., 3., 3., 1., 3., 3., 1., 3., 1., 1., 3., 1., 1.,\n",
       "         3., 1., 3., 1., 3., 1., 1., 3., 3., 1., 1., 1., 3., 1., 1., 3., 3.,\n",
       "         3., 3., 1., 3., 3., 3., 3., 1., 3., 3., 3., 1., 3., 1., 3., 3., 1.,\n",
       "         1., 3., 3., 3., 1., 1., 3., 1., 1., 3., 3., 1., 3., 1., 3., 3., 1.,\n",
       "         3., 3., 1., 3., 3., 3., 1., 3., 3., 1., 1., 1., 3., 1., 3., 1., 1.,\n",
       "         1., 1., 1., 1., 3., 3., 3., 3., 1., 3., 3., 1., 1., 3., 3., 1., 3.,\n",
       "         3., 1., 1., 1., 1., 1., 3., 1., 1., 1., 3., 1., 3., 1., 3., 3., 1.,\n",
       "         1., 3., 3., 1., 3., 1., 3., 3., 1., 3., 3., 1., 3., 3., 1., 3., 3.,\n",
       "         1., 1., 3., 1., 1., 3., 3., 1., 3., 1., 1., 1., 3., 1., 1., 1., 1.,\n",
       "         1., 1., 3., 1., 1., 3., 3., 3., 1., 1., 3., 1., 3., 3., 1., 1., 3.,\n",
       "         1., 3., 3., 3., 3., 1., 1., 3., 3., 3., 1., 3., 3., 1., 1., 1., 1.,\n",
       "         3., 1., 3., 1., 3., 3., 3., 1., 3., 1., 3., 3., 3., 1., 3., 3., 3.,\n",
       "         1., 1., 1., 3., 1., 1., 3., 3., 3., 3., 3., 1., 1., 1., 3., 3., 1.,\n",
       "         3., 1., 1., 1., 1., 3., 1., 1., 1., 1., 1., 1., 3., 3., 3., 3., 1.,\n",
       "         3., 1., 3., 1., 3., 1., 3., 1., 3., 1., 1., 1., 1., 3., 3., 3., 3.,\n",
       "         3., 1., 1., 1., 1., 3., 1., 3., 1., 3., 1., 1., 1., 1., 3., 1., 1.,\n",
       "         3., 3., 3., 1., 1., 1., 3., 3., 1., 3., 3., 1., 1., 1., 3., 1., 3.,\n",
       "         3., 3., 3., 1., 3., 3., 3., 3., 1., 3., 3., 1., 3., 3., 1., 1., 3.,\n",
       "         3., 3., 3., 1., 3., 3., 1., 1., 1., 3., 3., 3., 1., 1., 3., 3., 1.,\n",
       "         3., 1., 1., 1., 1., 1., 3., 1., 1., 3., 1., 3., 1., 3., 3., 3., 1.,\n",
       "         3., 1., 3., 1., 1., 3., 1., 3., 3., 1., 1., 1., 3., 3., 3., 1., 1.,\n",
       "         3., 3., 3., 3., 3., 1., 3., 1., 3., 1., 1., 3., 1., 1., 1., 3., 3.,\n",
       "         3., 1., 1., 3., 1., 1., 3., 3., 3., 3., 3., 3., 1., 3., 3., 3., 1.,\n",
       "         1., 1., 1., 1., 3., 1., 3., 3., 1., 1., 1., 1., 1., 1., 3., 1., 3.,\n",
       "         3., 1., 3., 3., 3., 3., 1., 1., 3., 3., 3., 1., 3., 3., 3., 1., 1.,\n",
       "         1., 1., 3., 3., 3., 3., 1., 3., 1., 3., 1., 3., 1., 1., 1., 3., 1.,\n",
       "         3., 1., 3., 3., 1., 3., 1., 3., 3., 3., 3., 1., 1., 3., 1., 3., 1.,\n",
       "         3., 1., 1., 3., 1., 1., 3., 3., 1., 1., 1., 1., 1., 1., 3., 1., 3.,\n",
       "         3., 3., 3., 3., 1., 1., 3., 1., 1., 1., 3., 1., 3., 3., 3., 1., 3.,\n",
       "         3., 3., 3., 3., 1., 3., 3., 1., 3., 3., 3., 3., 3., 1., 1., 1., 3.,\n",
       "         3., 1., 3., 1., 3., 1., 3., 1., 1., 3., 1., 3., 3., 3., 3., 1., 1.,\n",
       "         3., 1., 1., 3., 3., 3., 3., 1., 1., 1., 3., 3., 3., 3., 3., 1., 1.,\n",
       "         3., 3., 3., 1., 1., 3., 3., 3., 3., 3., 3., 1., 1., 1., 1., 3., 3.,\n",
       "         1., 1., 1., 1., 3., 3., 1., 3., 1., 1., 1., 1., 3., 3., 3., 1., 3.,\n",
       "         3., 3., 3., 1., 1., 3., 1., 3., 1., 3., 1., 3., 1., 3., 1., 1., 1.,\n",
       "         1., 1., 3., 3., 3., 1., 1., 1., 3., 3., 3., 1., 3., 1., 3., 1., 3.,\n",
       "         3., 3., 1., 1., 1., 3., 3., 1., 3., 3., 1., 1., 1., 1., 3., 1., 3.,\n",
       "         3., 3., 1., 3., 3., 1., 3., 3., 3., 3., 1., 1., 1., 1., 1., 3., 1.,\n",
       "         3., 3., 3., 3., 3., 3., 3., 1., 3., 1., 1., 1., 3., 1., 1., 3., 1.,\n",
       "         3., 3., 3., 1., 3., 1., 1., 3., 3., 1., 1., 1., 1., 1., 3., 3., 3.,\n",
       "         3., 3., 3., 1., 1., 3., 3., 1., 1., 1., 1., 3., 3., 3., 1., 3., 3.,\n",
       "         3., 1., 1., 1., 1., 3., 3., 3., 3., 3., 3., 3., 3., 3., 3., 3., 3.,\n",
       "         1., 1., 1., 1., 3., 1., 3., 1., 1., 1., 1., 1., 3., 1., 1., 3., 1.,\n",
       "         1., 1., 1., 3., 1., 3., 1., 1., 3., 1., 3., 3., 3., 1., 1., 1., 3.,\n",
       "         3., 1., 1., 3., 3., 3., 3., 1., 1., 3., 1., 1., 3., 1., 1., 3., 3.,\n",
       "         1., 3., 3., 3., 1., 1., 3., 1., 1., 1., 3., 3., 3., 3., 3., 3., 3.,\n",
       "         1., 1., 3., 1., 1., 3., 3., 1., 3., 3., 3., 3., 1., 1., 3., 1., 1.,\n",
       "         3., 1., 3., 1., 3., 1., 1., 1., 3., 1., 1., 3., 1., 3., 1., 3., 3.,\n",
       "         1., 1., 1., 1., 3., 3., 1., 3., 3., 1., 1., 1., 1., 3., 3., 3., 1.,\n",
       "         1., 1., 3., 1., 1., 3., 3., 3., 1., 3., 3., 1., 1., 3., 3., 1., 1.,\n",
       "         3., 3., 1., 3., 1., 3., 1., 1., 3., 1., 3., 1., 1., 3., 1., 3., 1.,\n",
       "         1., 3., 3., 1., 1., 1., 3., 3., 3., 3., 1., 1., 1., 3., 3., 3., 1.,\n",
       "         1., 3., 3., 1., 3., 1., 1., 3., 3., 3., 1., 1., 1., 1., 3., 1., 1.,\n",
       "         3., 3., 3., 3., 1., 1., 3., 1., 3., 3., 3., 3., 1., 3., 1., 3., 3.,\n",
       "         3., 1., 1., 1., 1., 3., 1., 3., 3., 3., 3., 3., 3., 1., 3., 3., 3.,\n",
       "         1., 3., 1., 1., 1., 3., 1., 3., 1., 3., 1., 1., 1., 3., 3., 1., 1.,\n",
       "         3., 3., 3., 3., 1., 3., 3., 1., 1., 3., 3., 1., 1., 3.])},\n",
       " {'name': '1_4',\n",
       "  'train_acc': 1.0,\n",
       "  'val_acc': 0.988,\n",
       "  'test_acc': 0.989,\n",
       "  'train_time': 3.238403081893921,\n",
       "  'train_pred': array([1., 4., 4., ..., 4., 4., 1.]),\n",
       "  'val_pred': array([4., 1., 1., 1., 1., 1., 1., 1., 4., 1., 4., 1., 4., 4., 4., 1., 4.,\n",
       "         1., 4., 4., 4., 1., 4., 4., 4., 1., 1., 1., 1., 1., 1., 4., 4., 1.,\n",
       "         4., 1., 4., 4., 4., 4., 1., 1., 4., 4., 4., 1., 1., 1., 1., 4., 4.,\n",
       "         1., 4., 1., 1., 1., 1., 4., 4., 1., 1., 1., 4., 1., 4., 1., 4., 4.,\n",
       "         1., 4., 4., 4., 4., 1., 1., 4., 1., 4., 4., 4., 4., 1., 1., 4., 4.,\n",
       "         1., 1., 4., 1., 1., 1., 1., 1., 4., 1., 4., 1., 1., 4., 1., 1., 1.,\n",
       "         4., 1., 4., 4., 4., 4., 4., 4., 1., 4., 1., 4., 1., 1., 1., 1., 4.,\n",
       "         4., 1., 1., 4., 1., 1., 1., 4., 4., 1., 1., 1., 1., 1., 1., 1., 1.,\n",
       "         4., 4., 4., 4., 4., 4., 4., 4., 4., 4., 4., 4., 4., 4., 4., 4., 4.,\n",
       "         4., 4., 4., 1., 4., 4., 1., 4., 1., 1., 4., 4., 1., 4., 4., 4., 4.,\n",
       "         4., 4., 4., 1., 1., 1., 4., 4., 1., 1., 1., 1., 1., 1., 1., 1., 1.,\n",
       "         1., 4., 1., 1., 1., 1., 4., 4., 1., 4., 4., 1., 1., 1., 4., 1., 4.,\n",
       "         4., 1., 1., 1., 1., 1., 4., 4., 4., 1., 1., 1., 1., 4., 1., 4., 1.,\n",
       "         4., 4., 1., 4., 1., 1., 1., 4., 1., 4., 4., 1., 1., 4., 1., 1., 1.,\n",
       "         1., 4., 1., 4., 4., 1., 4., 1., 1., 4., 4., 4., 4., 4., 4., 1., 4.,\n",
       "         4., 1., 1., 1., 1., 4., 1., 4., 1., 1., 1., 1., 4., 1., 4., 1., 1.,\n",
       "         1., 4., 1., 1., 4., 4., 1., 1., 1., 1., 1., 1., 4., 1., 1., 1., 1.,\n",
       "         4., 1., 4., 4., 1., 4., 4., 4., 4., 1., 1., 4., 1., 1., 1., 1., 4.,\n",
       "         4., 4., 4., 1., 4., 4., 4., 1., 1., 4., 4., 4., 1., 4., 1., 4., 4.,\n",
       "         4., 4., 1., 4., 1., 4., 4., 1., 1., 4., 4., 4., 4., 4., 4., 4., 4.,\n",
       "         4., 4., 1., 4., 4., 4., 1., 4., 4., 1., 1., 1., 1., 1., 1., 4., 4.,\n",
       "         4., 4., 4., 1., 4., 4., 4., 1., 1., 1., 4., 1., 1., 4., 1., 4., 4.,\n",
       "         1., 4., 4., 1., 1., 4., 1., 1., 4., 4., 1., 1., 1., 1., 4., 1., 4.,\n",
       "         4., 1., 1., 1., 4., 1., 4., 1., 4., 1., 4., 4., 4., 4., 1., 1., 4.,\n",
       "         4., 1., 4., 1., 4., 1., 1., 4., 1., 1., 1., 1., 1., 1., 4., 4., 4.,\n",
       "         1., 1., 4., 4., 4., 4., 1., 4., 4., 4., 1., 1., 4., 4., 4., 1., 1.,\n",
       "         4., 1., 1., 4., 1., 4., 1., 4., 4., 4., 4., 1., 1., 4., 1., 4., 1.,\n",
       "         1., 1., 4., 4., 4., 1., 1., 1., 4., 4., 1., 4., 1., 4., 4., 4., 1.,\n",
       "         1., 4., 1., 4., 1., 1., 1., 1., 4., 4., 1., 1., 4., 4., 1., 4., 4.,\n",
       "         4., 1., 4., 4., 4., 1., 4.]),\n",
       "  'test_pred': array([1., 4., 1., 1., 1., 1., 4., 1., 1., 1., 1., 4., 1., 1., 1., 1., 1.,\n",
       "         4., 4., 1., 1., 4., 4., 4., 1., 4., 1., 1., 1., 1., 1., 1., 4., 1.,\n",
       "         1., 4., 1., 4., 4., 1., 4., 1., 4., 1., 1., 4., 1., 1., 4., 1., 4.,\n",
       "         4., 1., 4., 4., 1., 1., 1., 1., 4., 4., 4., 4., 1., 4., 1., 1., 4.,\n",
       "         4., 4., 1., 4., 1., 1., 1., 1., 4., 1., 1., 4., 4., 4., 1., 1., 4.,\n",
       "         4., 4., 4., 1., 4., 4., 4., 1., 4., 4., 1., 4., 1., 1., 4., 1., 4.,\n",
       "         1., 1., 4., 1., 1., 1., 1., 1., 1., 4., 4., 4., 1., 4., 1., 4., 4.,\n",
       "         4., 1., 1., 4., 4., 1., 1., 4., 1., 1., 1., 1., 1., 4., 1., 1., 1.,\n",
       "         1., 1., 4., 4., 4., 1., 1., 4., 4., 4., 1., 4., 1., 4., 1., 1., 1.,\n",
       "         1., 1., 4., 4., 1., 1., 4., 4., 4., 1., 1., 1., 1., 4., 1., 4., 1.,\n",
       "         1., 4., 4., 1., 4., 1., 1., 1., 1., 4., 1., 1., 4., 4., 4., 1., 4.,\n",
       "         4., 1., 1., 4., 4., 4., 1., 4., 1., 1., 1., 4., 1., 1., 1., 1., 1.,\n",
       "         4., 1., 1., 1., 1., 1., 4., 1., 1., 4., 1., 4., 1., 4., 4., 4., 1.,\n",
       "         4., 1., 4., 1., 1., 4., 1., 4., 1., 4., 4., 4., 1., 1., 4., 1., 1.,\n",
       "         1., 4., 1., 1., 1., 4., 4., 4., 1., 4., 1., 4., 4., 1., 4., 1., 1.,\n",
       "         4., 4., 1., 4., 1., 1., 1., 4., 4., 4., 4., 4., 1., 4., 1., 1., 4.,\n",
       "         4., 1., 4., 1., 4., 1., 1., 4., 4., 1., 4., 1., 1., 4., 1., 1., 4.,\n",
       "         4., 1., 4., 1., 1., 4., 4., 4., 4., 4., 4., 4., 4., 4., 4., 1., 4.,\n",
       "         4., 4., 4., 4., 1., 1., 4., 1., 1., 4., 4., 1., 4., 4., 4., 4., 4.,\n",
       "         4., 1., 4., 4., 4., 1., 4., 4., 4., 4., 1., 4., 4., 4., 1., 4., 4.,\n",
       "         4., 4., 4., 4., 1., 4., 4., 1., 1., 1., 1., 1., 4., 1., 1., 1., 1.,\n",
       "         1., 1., 1., 1., 1., 4., 4., 4., 4., 1., 4., 4., 4., 4., 4., 1., 4.,\n",
       "         1., 4., 1., 4., 1., 1., 4., 1., 4., 4., 1., 1., 4., 4., 1., 4., 4.,\n",
       "         4., 1., 1., 4., 4., 1., 1., 4., 4., 1., 1., 1., 1., 1., 4., 4., 1.,\n",
       "         4., 4., 4., 4., 1., 4., 4., 1., 4., 1., 4., 4., 1., 4., 4., 1., 1.,\n",
       "         1., 1., 4., 1., 1., 4., 1., 1., 1., 1., 4., 1., 4., 4., 4., 1., 1.,\n",
       "         1., 4., 1., 4., 4., 4., 4., 1., 1., 1., 4., 1., 4., 4., 1., 4., 1.,\n",
       "         4., 4., 1., 4., 4., 4., 4., 1., 1., 4., 1., 4., 4., 1., 1., 4., 4.,\n",
       "         4., 4., 1., 4., 4., 4., 4., 4., 1., 1., 1., 1., 1., 4., 1., 4., 4.,\n",
       "         1., 1., 4., 1., 4., 1., 4., 4., 4., 1., 1., 4., 4., 1., 1., 1., 1.,\n",
       "         4., 4., 1., 4., 4., 4., 4., 1., 1., 1., 4., 1., 4., 4., 4., 4., 4.,\n",
       "         1., 4., 1., 4., 4., 4., 1., 4., 4., 4., 4., 4., 4., 4., 4., 1., 4.,\n",
       "         4., 4., 1., 4., 4., 1., 1., 4., 1., 1., 4., 1., 4., 1., 4., 4., 4.,\n",
       "         1., 4., 1., 1., 4., 4., 4., 1., 1., 1., 4., 1., 1., 1., 1., 1., 1.,\n",
       "         1., 1., 4., 4., 4., 4., 4., 1., 1., 4., 1., 1., 4., 4., 4., 4., 1.,\n",
       "         4., 1., 4., 4., 4., 4., 1., 1., 1., 4., 1., 1., 1., 1., 4., 4., 4.,\n",
       "         1., 4., 1., 1., 4., 4., 1., 4., 4., 1., 4., 4., 4., 1., 4., 4., 1.,\n",
       "         1., 1., 1., 4., 4., 1., 1., 4., 4., 1., 1., 1., 1., 4., 1., 4., 4.,\n",
       "         4., 1., 1., 4., 1., 1., 4., 1., 4., 4., 4., 4., 1., 4., 1., 1., 1.,\n",
       "         4., 4., 1., 4., 4., 1., 1., 1., 4., 4., 4., 1., 4., 1., 4., 1., 4.,\n",
       "         4., 4., 4., 1., 1., 4., 1., 1., 1., 4., 1., 4., 4., 1., 4., 4., 1.,\n",
       "         4., 1., 1., 4., 4., 1., 1., 1., 4., 4., 4., 1., 4., 4., 1., 4., 1.,\n",
       "         1., 1., 4., 1., 1., 1., 4., 1., 1., 4., 1., 1., 1., 1., 4., 1., 4.,\n",
       "         1., 1., 4., 1., 4., 4., 1., 4., 4., 4., 4., 1., 1., 4., 4., 1., 1.,\n",
       "         4., 1., 4., 4., 4., 1., 4., 4., 4., 1., 1., 1., 1., 1., 1., 1., 1.,\n",
       "         1., 4., 4., 4., 1., 4., 1., 1., 1., 4., 4., 4., 1., 1., 1., 1., 4.,\n",
       "         4., 1., 4., 1., 4., 1., 1., 4., 4., 1., 4., 1., 1., 1., 4., 4., 4.,\n",
       "         1., 1., 4., 1., 1., 4., 1., 4., 1., 4., 4., 4., 4., 4., 4., 1., 1.,\n",
       "         4., 4., 4., 1., 1., 4., 1., 4., 4., 4., 4., 1., 4., 4., 4., 1., 4.,\n",
       "         1., 1., 1., 1., 1., 4., 1., 4., 1., 1., 1., 4., 1., 4., 4., 1., 4.,\n",
       "         1., 1., 1., 4., 1., 1., 4., 1., 4., 1., 1., 1., 4., 1., 4., 1., 1.,\n",
       "         1., 1., 4., 4., 1., 4., 1., 1., 1., 4., 4., 4., 1., 1., 1., 4., 1.,\n",
       "         4., 1., 1., 4., 4., 1., 1., 4., 4., 1., 1., 4., 1., 4., 4., 1., 1.,\n",
       "         1., 4., 4., 4., 1., 4., 1., 1., 4., 1., 1., 4., 4., 1., 4., 1., 1.,\n",
       "         4., 4., 4., 4., 4., 4., 4., 1., 4., 4., 1., 1., 1., 4., 1., 1., 4.,\n",
       "         1., 4., 1., 4., 4., 4., 1., 4., 4., 4., 1., 4., 4., 1., 4., 1., 4.,\n",
       "         1., 4., 1., 4., 1., 4., 4., 1., 4., 4., 4., 4., 4., 1., 4., 4., 4.,\n",
       "         1., 1., 1., 1., 1., 4., 4., 4., 1., 4., 1., 1., 1., 1., 4., 1., 1.,\n",
       "         4., 4., 1., 4., 1., 4., 1., 4., 1., 4., 4., 1., 4., 1.])},\n",
       " {'name': '1_5',\n",
       "  'train_acc': 1.0,\n",
       "  'val_acc': 0.994,\n",
       "  'test_acc': 1.0,\n",
       "  'train_time': 3.542069911956787,\n",
       "  'train_pred': array([5., 1., 1., ..., 5., 5., 1.]),\n",
       "  'val_pred': array([5., 5., 5., 5., 1., 1., 5., 1., 1., 1., 5., 1., 1., 1., 5., 1., 5.,\n",
       "         5., 5., 5., 5., 1., 5., 1., 5., 1., 1., 1., 1., 1., 5., 1., 1., 1.,\n",
       "         1., 1., 5., 5., 5., 1., 5., 5., 5., 1., 1., 5., 5., 5., 1., 1., 5.,\n",
       "         5., 5., 1., 5., 1., 5., 1., 1., 5., 5., 5., 1., 1., 5., 5., 1., 1.,\n",
       "         1., 5., 1., 1., 5., 5., 5., 5., 5., 1., 1., 1., 5., 5., 1., 1., 5.,\n",
       "         1., 1., 1., 5., 5., 5., 1., 1., 1., 1., 5., 1., 1., 5., 5., 1., 1.,\n",
       "         1., 5., 5., 5., 1., 5., 1., 5., 5., 5., 5., 1., 1., 5., 5., 1., 1.,\n",
       "         1., 1., 5., 1., 5., 1., 1., 1., 1., 5., 1., 5., 1., 1., 1., 1., 1.,\n",
       "         1., 1., 5., 5., 5., 5., 5., 5., 5., 5., 1., 5., 5., 5., 1., 5., 1.,\n",
       "         1., 1., 5., 5., 5., 5., 5., 1., 1., 1., 5., 1., 5., 5., 1., 1., 1.,\n",
       "         1., 5., 5., 1., 1., 1., 1., 5., 5., 1., 5., 1., 1., 1., 1., 5., 1.,\n",
       "         5., 1., 1., 5., 1., 1., 5., 1., 5., 5., 5., 1., 5., 1., 1., 5., 1.,\n",
       "         1., 5., 5., 5., 5., 1., 1., 1., 1., 5., 1., 5., 5., 1., 1., 5., 5.,\n",
       "         1., 1., 5., 5., 5., 1., 5., 5., 1., 5., 1., 5., 5., 5., 1., 1., 1.,\n",
       "         5., 1., 1., 1., 1., 5., 5., 1., 5., 1., 5., 1., 1., 1., 5., 5., 5.,\n",
       "         5., 1., 5., 1., 5., 1., 5., 5., 5., 1., 1., 1., 5., 1., 1., 1., 5.,\n",
       "         1., 1., 5., 5., 1., 1., 5., 1., 5., 1., 5., 1., 1., 5., 5., 5., 1.,\n",
       "         1., 5., 5., 1., 1., 5., 5., 5., 1., 1., 1., 5., 5., 1., 1., 1., 1.,\n",
       "         5., 1., 5., 5., 1., 5., 5., 5., 1., 1., 5., 1., 5., 5., 1., 1., 5.,\n",
       "         5., 5., 1., 1., 1., 5., 5., 5., 1., 5., 5., 5., 1., 5., 5., 1., 1.,\n",
       "         1., 1., 5., 1., 1., 5., 5., 5., 5., 5., 5., 5., 1., 5., 5., 5., 5.,\n",
       "         5., 5., 1., 5., 1., 5., 1., 1., 1., 1., 5., 1., 5., 5., 5., 5., 5.,\n",
       "         1., 1., 1., 1., 5., 5., 1., 1., 1., 1., 5., 1., 5., 1., 1., 1., 5.,\n",
       "         5., 5., 1., 5., 5., 5., 1., 5., 5., 1., 5., 5., 5., 5., 5., 1., 1.,\n",
       "         5., 1., 5., 5., 5., 5., 1., 1., 5., 5., 5., 1., 1., 1., 1., 1., 1.,\n",
       "         1., 5., 1., 1., 5., 5., 5., 5., 5., 5., 5., 1., 5., 5., 1., 1., 5.,\n",
       "         1., 1., 1., 5., 1., 5., 1., 5., 1., 5., 5., 1., 1., 1., 5., 1., 1.,\n",
       "         1., 5., 1., 1., 1., 5., 1., 5., 1., 5., 5., 5., 5., 1., 1., 1., 5.,\n",
       "         5., 1., 1., 1., 1., 1., 5., 1., 5., 5., 5., 1., 5., 5., 5., 5., 1.,\n",
       "         5., 5., 5., 5., 5., 1., 5.]),\n",
       "  'test_pred': array([1., 5., 1., 1., 1., 1., 5., 1., 5., 1., 1., 5., 5., 5., 5., 5., 5.,\n",
       "         1., 1., 1., 1., 1., 1., 5., 5., 1., 5., 1., 5., 1., 1., 1., 5., 1.,\n",
       "         1., 1., 1., 1., 5., 5., 5., 1., 1., 5., 5., 1., 5., 5., 1., 5., 1.,\n",
       "         5., 5., 1., 5., 1., 1., 5., 5., 5., 1., 1., 1., 1., 1., 1., 5., 5.,\n",
       "         5., 5., 5., 5., 5., 1., 1., 5., 5., 5., 1., 1., 5., 5., 1., 1., 5.,\n",
       "         5., 5., 1., 1., 1., 1., 1., 5., 5., 1., 1., 5., 5., 5., 5., 1., 5.,\n",
       "         1., 5., 1., 1., 1., 5., 1., 1., 1., 5., 1., 5., 1., 1., 1., 1., 1.,\n",
       "         5., 5., 5., 5., 1., 5., 1., 5., 1., 5., 1., 5., 5., 1., 5., 1., 5.,\n",
       "         1., 1., 1., 5., 1., 1., 5., 1., 5., 1., 1., 1., 5., 5., 5., 5., 5.,\n",
       "         5., 1., 5., 1., 5., 1., 5., 5., 1., 5., 1., 5., 5., 5., 1., 1., 5.,\n",
       "         1., 5., 1., 1., 1., 5., 5., 5., 5., 1., 5., 5., 1., 1., 5., 1., 1.,\n",
       "         5., 1., 1., 1., 5., 1., 1., 5., 1., 5., 1., 5., 5., 5., 1., 1., 5.,\n",
       "         1., 5., 5., 5., 5., 1., 1., 5., 1., 5., 5., 1., 5., 1., 5., 1., 5.,\n",
       "         5., 5., 1., 1., 5., 1., 1., 1., 5., 5., 1., 5., 5., 1., 1., 5., 1.,\n",
       "         5., 1., 5., 1., 5., 5., 1., 5., 5., 5., 1., 1., 5., 5., 1., 5., 1.,\n",
       "         5., 5., 1., 1., 1., 1., 5., 5., 1., 5., 5., 5., 5., 1., 1., 1., 1.,\n",
       "         5., 1., 5., 1., 1., 5., 5., 1., 5., 1., 5., 5., 5., 1., 5., 1., 1.,\n",
       "         1., 5., 1., 1., 1., 5., 1., 1., 5., 1., 5., 1., 1., 5., 5., 1., 5.,\n",
       "         1., 5., 5., 1., 1., 1., 5., 5., 5., 1., 1., 5., 5., 1., 1., 5., 5.,\n",
       "         5., 1., 5., 5., 5., 5., 1., 5., 1., 5., 5., 1., 5., 1., 5., 1., 1.,\n",
       "         1., 5., 5., 1., 5., 5., 5., 5., 5., 1., 5., 5., 1., 5., 5., 5., 1.,\n",
       "         1., 5., 1., 5., 1., 1., 1., 1., 1., 5., 5., 1., 5., 5., 1., 1., 1.,\n",
       "         5., 1., 1., 5., 1., 1., 5., 5., 1., 1., 5., 5., 5., 1., 1., 1., 5.,\n",
       "         5., 1., 5., 1., 1., 1., 1., 5., 5., 1., 5., 1., 5., 1., 1., 1., 1.,\n",
       "         5., 5., 5., 1., 1., 1., 1., 1., 5., 1., 5., 1., 5., 5., 5., 1., 5.,\n",
       "         5., 5., 5., 5., 5., 1., 5., 1., 1., 1., 1., 5., 1., 1., 1., 1., 5.,\n",
       "         1., 1., 5., 1., 5., 1., 5., 5., 1., 5., 1., 1., 5., 5., 1., 5., 5.,\n",
       "         1., 1., 5., 1., 5., 5., 5., 5., 1., 1., 5., 5., 1., 5., 1., 5., 1.,\n",
       "         5., 5., 1., 5., 5., 1., 5., 5., 1., 5., 5., 1., 5., 5., 5., 5., 5.,\n",
       "         5., 1., 5., 5., 5., 1., 5., 1., 5., 5., 1., 1., 1., 5., 5., 1., 1.,\n",
       "         5., 5., 1., 5., 5., 1., 1., 5., 5., 5., 1., 5., 1., 1., 1., 1., 1.,\n",
       "         5., 5., 1., 5., 5., 1., 1., 5., 1., 5., 5., 1., 1., 5., 5., 1., 1.,\n",
       "         5., 5., 5., 5., 1., 1., 1., 1., 5., 1., 5., 1., 5., 1., 5., 5., 1.,\n",
       "         5., 5., 1., 1., 1., 5., 5., 5., 5., 1., 1., 1., 1., 5., 1., 1., 5.,\n",
       "         5., 1., 1., 1., 1., 5., 5., 5., 5., 5., 5., 1., 1., 5., 5., 5., 5.,\n",
       "         5., 5., 1., 1., 5., 1., 5., 1., 5., 5., 1., 1., 5., 1., 5., 5., 1.,\n",
       "         1., 1., 1., 5., 5., 1., 5., 1., 1., 1., 1., 5., 5., 1., 5., 5., 5.,\n",
       "         5., 1., 1., 1., 1., 5., 5., 1., 1., 5., 1., 5., 1., 1., 1., 1., 5.,\n",
       "         5., 5., 5., 5., 1., 5., 1., 1., 5., 5., 1., 5., 5., 1., 5., 1., 5.,\n",
       "         5., 1., 1., 1., 1., 5., 1., 1., 5., 1., 1., 5., 5., 1., 5., 5., 5.,\n",
       "         1., 1., 5., 5., 1., 1., 1., 1., 5., 1., 1., 5., 1., 5., 1., 1., 1.,\n",
       "         5., 5., 5., 1., 1., 1., 5., 5., 1., 1., 1., 5., 5., 1., 1., 5., 1.,\n",
       "         1., 1., 5., 5., 1., 5., 5., 1., 5., 5., 1., 5., 5., 1., 1., 1., 5.,\n",
       "         1., 5., 5., 5., 1., 1., 5., 1., 5., 1., 5., 5., 5., 5., 1., 1., 5.,\n",
       "         5., 5., 5., 1., 1., 1., 5., 1., 5., 5., 5., 1., 1., 1., 1., 1., 1.,\n",
       "         5., 5., 1., 1., 1., 1., 5., 1., 5., 5., 1., 1., 5., 5., 1., 5., 5.,\n",
       "         1., 1., 5., 1., 5., 1., 5., 1., 5., 1., 5., 1., 5., 1., 1., 1., 1.,\n",
       "         5., 5., 5., 1., 5., 5., 1., 1., 5., 1., 1., 5., 5., 1., 1., 5., 5.,\n",
       "         5., 5., 1., 5., 1., 5., 1., 1., 1., 5., 1., 5., 5., 1., 5., 1., 1.,\n",
       "         5., 1., 1., 5., 1., 1., 1., 5., 1., 5., 5., 5., 1., 5., 1., 5., 5.,\n",
       "         1., 5., 1., 5., 1., 1., 5., 1., 5., 5., 1., 1., 5., 1., 1., 5., 1.,\n",
       "         1., 5., 5., 1., 5., 1., 5., 5., 1., 5., 1., 1., 5., 1., 5., 1., 1.,\n",
       "         1., 5., 5., 1., 5., 1., 5., 5., 5., 1., 1., 5., 1., 5., 5., 5., 1.,\n",
       "         5., 5., 1., 1., 5., 1., 1., 1., 5., 1., 1., 1., 5., 5., 5., 1., 5.,\n",
       "         1., 1., 5., 1., 1., 5., 5., 5., 5., 1., 5., 1., 1., 5., 5., 1., 1.,\n",
       "         1., 1., 5., 5., 1., 5., 1., 5., 1., 1., 5., 1., 5., 1., 1., 1., 5.,\n",
       "         1., 5., 5., 1., 1., 5., 5., 5., 1., 5., 5., 5., 5., 5., 1., 5., 1.,\n",
       "         1., 5., 1., 1., 1., 5., 1., 1., 5., 5., 1., 1., 1., 5., 1., 1., 5.,\n",
       "         5., 5., 1., 5., 1., 5., 5., 1., 1., 5., 5., 1., 5., 1.])},\n",
       " {'name': '1_6',\n",
       "  'train_acc': 0.9982222222222222,\n",
       "  'val_acc': 0.986,\n",
       "  'test_acc': 0.986,\n",
       "  'train_time': 6.151735067367554,\n",
       "  'train_pred': array([1., 6., 1., ..., 6., 6., 1.]),\n",
       "  'val_pred': array([6., 1., 1., 6., 1., 1., 1., 1., 1., 1., 1., 6., 1., 6., 6., 1., 6.,\n",
       "         1., 1., 1., 6., 1., 1., 1., 1., 6., 1., 1., 1., 6., 6., 1., 6., 6.,\n",
       "         1., 6., 1., 6., 6., 6., 1., 1., 1., 6., 6., 1., 1., 1., 6., 6., 1.,\n",
       "         6., 1., 6., 1., 6., 6., 6., 6., 1., 6., 6., 6., 1., 6., 6., 6., 6.,\n",
       "         6., 1., 1., 1., 6., 6., 6., 6., 6., 1., 6., 1., 6., 1., 6., 1., 1.,\n",
       "         6., 1., 1., 1., 1., 6., 1., 6., 1., 6., 1., 6., 1., 1., 6., 1., 6.,\n",
       "         1., 6., 6., 6., 6., 1., 1., 1., 1., 1., 6., 6., 1., 6., 1., 6., 1.,\n",
       "         1., 1., 1., 1., 1., 1., 1., 1., 1., 1., 1., 6., 6., 6., 6., 6., 6.,\n",
       "         6., 6., 1., 6., 6., 1., 1., 1., 1., 6., 6., 6., 1., 6., 1., 6., 6.,\n",
       "         6., 1., 1., 1., 1., 6., 6., 1., 1., 1., 1., 1., 6., 1., 6., 1., 6.,\n",
       "         1., 1., 6., 1., 1., 1., 6., 1., 6., 6., 6., 1., 1., 1., 6., 1., 6.,\n",
       "         6., 1., 6., 6., 1., 1., 1., 6., 1., 6., 1., 1., 1., 6., 1., 6., 1.,\n",
       "         6., 1., 6., 1., 6., 1., 6., 1., 1., 6., 6., 1., 6., 1., 1., 6., 1.,\n",
       "         6., 1., 6., 6., 1., 1., 6., 6., 6., 6., 6., 6., 1., 6., 1., 6., 1.,\n",
       "         1., 1., 6., 1., 1., 6., 1., 6., 6., 6., 1., 1., 6., 6., 1., 1., 1.,\n",
       "         1., 1., 1., 6., 1., 1., 1., 6., 1., 1., 1., 6., 6., 1., 1., 6., 6.,\n",
       "         1., 1., 6., 6., 1., 6., 1., 6., 6., 6., 1., 6., 6., 1., 6., 1., 1.,\n",
       "         1., 1., 6., 6., 1., 6., 6., 6., 1., 6., 1., 6., 6., 6., 1., 6., 6.,\n",
       "         1., 6., 1., 6., 6., 1., 6., 6., 1., 1., 6., 6., 6., 6., 6., 1., 6.,\n",
       "         6., 6., 1., 1., 1., 1., 6., 1., 1., 1., 6., 6., 6., 1., 6., 6., 6.,\n",
       "         1., 6., 1., 6., 6., 1., 6., 1., 1., 1., 1., 6., 6., 6., 6., 1., 6.,\n",
       "         6., 1., 6., 6., 1., 1., 6., 6., 6., 1., 6., 1., 1., 6., 1., 6., 1.,\n",
       "         6., 6., 1., 1., 6., 1., 1., 6., 6., 6., 1., 1., 6., 6., 1., 1., 6.,\n",
       "         6., 6., 1., 6., 1., 1., 1., 1., 6., 1., 1., 1., 6., 1., 6., 6., 6.,\n",
       "         1., 6., 1., 1., 6., 6., 6., 6., 6., 6., 6., 6., 6., 6., 6., 1., 6.,\n",
       "         6., 1., 6., 6., 1., 6., 6., 6., 1., 1., 6., 1., 6., 1., 1., 6., 6.,\n",
       "         1., 6., 1., 1., 1., 6., 6., 6., 6., 6., 1., 1., 1., 6., 1., 6., 1.,\n",
       "         1., 6., 6., 6., 1., 6., 1., 6., 6., 6., 6., 6., 6., 6., 6., 6., 1.,\n",
       "         1., 1., 6., 6., 1., 1., 1., 1., 1., 1., 6., 6., 6., 6., 1., 6., 6.,\n",
       "         6., 1., 6., 6., 6., 1., 6.]),\n",
       "  'test_pred': array([1., 1., 6., 1., 1., 1., 1., 1., 6., 1., 1., 6., 1., 1., 6., 1., 6.,\n",
       "         1., 1., 6., 6., 6., 1., 1., 6., 1., 6., 1., 1., 1., 6., 1., 1., 1.,\n",
       "         6., 1., 6., 1., 6., 1., 1., 1., 1., 6., 1., 1., 1., 6., 6., 6., 1.,\n",
       "         6., 1., 1., 6., 6., 1., 1., 6., 6., 1., 6., 6., 6., 6., 6., 1., 6.,\n",
       "         1., 6., 6., 1., 6., 6., 6., 6., 6., 1., 1., 6., 1., 1., 1., 1., 1.,\n",
       "         1., 6., 6., 6., 6., 6., 1., 1., 6., 6., 6., 6., 6., 6., 1., 1., 1.,\n",
       "         1., 6., 1., 1., 6., 6., 1., 6., 6., 1., 1., 1., 1., 1., 6., 6., 6.,\n",
       "         1., 1., 1., 1., 6., 6., 6., 1., 6., 6., 6., 6., 1., 6., 1., 1., 1.,\n",
       "         1., 6., 1., 1., 1., 1., 1., 6., 6., 1., 1., 1., 1., 6., 6., 6., 6.,\n",
       "         6., 1., 6., 6., 6., 6., 6., 6., 6., 6., 1., 6., 1., 6., 1., 1., 6.,\n",
       "         6., 6., 1., 6., 1., 6., 6., 1., 1., 1., 1., 6., 6., 6., 1., 6., 6.,\n",
       "         6., 6., 6., 1., 1., 1., 1., 1., 6., 6., 1., 1., 6., 6., 1., 1., 6.,\n",
       "         1., 6., 6., 1., 1., 1., 6., 6., 1., 1., 6., 6., 1., 6., 1., 1., 6.,\n",
       "         1., 6., 6., 1., 1., 6., 1., 6., 1., 1., 1., 6., 6., 6., 6., 1., 1.,\n",
       "         1., 1., 1., 6., 6., 6., 6., 1., 6., 6., 1., 1., 6., 1., 6., 1., 6.,\n",
       "         1., 1., 6., 1., 1., 1., 1., 1., 1., 1., 6., 6., 6., 6., 1., 6., 1.,\n",
       "         6., 6., 6., 1., 1., 1., 6., 6., 1., 1., 6., 1., 6., 1., 6., 1., 1.,\n",
       "         6., 1., 6., 1., 6., 6., 1., 6., 6., 1., 6., 1., 6., 6., 6., 1., 1.,\n",
       "         1., 6., 1., 6., 1., 6., 6., 6., 6., 1., 6., 6., 1., 1., 6., 6., 1.,\n",
       "         6., 1., 6., 6., 1., 1., 1., 6., 6., 6., 6., 6., 1., 6., 6., 6., 6.,\n",
       "         6., 1., 6., 1., 6., 6., 6., 6., 6., 1., 6., 1., 6., 6., 6., 1., 6.,\n",
       "         1., 1., 1., 1., 1., 6., 6., 1., 6., 1., 1., 6., 1., 1., 1., 1., 1.,\n",
       "         6., 6., 6., 6., 1., 6., 6., 6., 1., 6., 1., 1., 1., 6., 1., 6., 1.,\n",
       "         1., 6., 1., 1., 1., 1., 6., 1., 1., 6., 6., 1., 6., 1., 1., 1., 6.,\n",
       "         6., 6., 1., 1., 6., 1., 6., 1., 6., 6., 6., 6., 1., 6., 1., 6., 6.,\n",
       "         6., 1., 1., 1., 6., 1., 1., 1., 1., 1., 1., 1., 1., 1., 6., 6., 6.,\n",
       "         1., 6., 1., 6., 1., 6., 6., 1., 1., 6., 6., 6., 6., 1., 1., 1., 1.,\n",
       "         6., 1., 6., 6., 6., 1., 1., 1., 6., 6., 6., 1., 1., 6., 1., 6., 6.,\n",
       "         1., 6., 6., 6., 1., 6., 6., 6., 1., 1., 6., 6., 6., 6., 6., 6., 1.,\n",
       "         1., 1., 1., 6., 6., 1., 1., 6., 6., 6., 1., 1., 6., 6., 6., 6., 1.,\n",
       "         6., 1., 6., 6., 1., 6., 1., 1., 6., 1., 6., 6., 1., 6., 6., 1., 6.,\n",
       "         1., 6., 6., 1., 1., 6., 1., 6., 1., 6., 6., 6., 6., 1., 6., 6., 6.,\n",
       "         1., 6., 6., 1., 6., 1., 6., 1., 6., 6., 1., 6., 1., 6., 1., 1., 6.,\n",
       "         1., 1., 1., 6., 6., 6., 6., 1., 1., 1., 1., 1., 1., 6., 6., 6., 1.,\n",
       "         6., 1., 1., 6., 6., 6., 6., 1., 1., 6., 6., 1., 1., 6., 6., 6., 6.,\n",
       "         6., 1., 6., 6., 6., 1., 1., 6., 1., 6., 6., 1., 1., 1., 1., 6., 6.,\n",
       "         6., 1., 6., 1., 1., 1., 1., 6., 6., 6., 1., 6., 6., 1., 6., 1., 1.,\n",
       "         1., 6., 6., 1., 6., 1., 6., 6., 6., 6., 1., 6., 1., 1., 6., 1., 1.,\n",
       "         6., 6., 1., 6., 1., 1., 6., 1., 1., 6., 6., 1., 6., 6., 1., 1., 1.,\n",
       "         1., 6., 6., 6., 6., 1., 6., 1., 1., 6., 6., 6., 6., 6., 1., 1., 6.,\n",
       "         1., 6., 6., 6., 6., 1., 6., 1., 1., 1., 6., 1., 6., 1., 1., 1., 1.,\n",
       "         1., 6., 6., 6., 6., 6., 1., 1., 6., 1., 6., 1., 6., 6., 1., 1., 1.,\n",
       "         1., 6., 1., 1., 1., 6., 1., 6., 1., 6., 6., 6., 1., 1., 1., 1., 6.,\n",
       "         1., 1., 1., 6., 1., 6., 1., 6., 6., 6., 6., 6., 6., 6., 1., 1., 6.,\n",
       "         6., 6., 6., 6., 1., 1., 6., 1., 6., 1., 6., 6., 1., 1., 1., 1., 6.,\n",
       "         6., 1., 1., 6., 1., 1., 1., 6., 6., 1., 6., 6., 6., 1., 6., 1., 1.,\n",
       "         6., 1., 6., 1., 1., 1., 1., 1., 6., 1., 6., 6., 6., 6., 1., 6., 1.,\n",
       "         6., 1., 1., 1., 6., 6., 1., 6., 1., 1., 1., 1., 1., 6., 6., 6., 1.,\n",
       "         1., 6., 1., 6., 1., 6., 6., 6., 6., 1., 6., 1., 6., 6., 6., 1., 1.,\n",
       "         6., 1., 6., 1., 1., 1., 6., 1., 6., 6., 1., 6., 6., 6., 1., 1., 6.,\n",
       "         1., 6., 6., 1., 6., 1., 1., 1., 1., 1., 1., 1., 6., 6., 1., 6., 1.,\n",
       "         6., 6., 1., 6., 6., 6., 1., 6., 6., 6., 1., 6., 1., 6., 6., 1., 6.,\n",
       "         6., 1., 1., 1., 6., 6., 1., 1., 6., 6., 1., 1., 1., 1., 6., 1., 1.,\n",
       "         1., 1., 1., 6., 1., 1., 1., 1., 6., 1., 1., 1., 6., 1., 6., 1., 6.,\n",
       "         6., 6., 1., 6., 6., 1., 1., 6., 6., 1., 1., 1., 1., 6., 1., 1., 6.,\n",
       "         6., 1., 1., 6., 6., 1., 6., 1., 6., 1., 6., 6., 6., 1., 1., 1., 6.,\n",
       "         1., 6., 1., 6., 1., 6., 6., 6., 6., 6., 6., 6., 6., 1., 6., 1., 6.,\n",
       "         1., 1., 1., 6., 6., 6., 1., 1., 6., 6., 1., 1., 6., 1., 6., 6., 1.,\n",
       "         1., 6., 6., 1., 6., 6., 6., 1., 1., 6., 6., 1., 1., 6.])},\n",
       " {'name': '1_7',\n",
       "  'train_acc': 1.0,\n",
       "  'val_acc': 1.0,\n",
       "  'test_acc': 1.0,\n",
       "  'train_time': 1.7562530040740967,\n",
       "  'train_pred': array([1., 7., 7., ..., 7., 1., 7.]),\n",
       "  'val_pred': array([7., 1., 1., 7., 1., 1., 1., 1., 1., 1., 7., 1., 7., 7., 7., 7., 1.,\n",
       "         1., 7., 7., 1., 1., 1., 7., 1., 1., 7., 7., 1., 1., 7., 7., 1., 7.,\n",
       "         1., 7., 7., 1., 7., 1., 1., 1., 7., 1., 1., 7., 7., 1., 7., 7., 1.,\n",
       "         7., 1., 1., 7., 7., 1., 1., 1., 7., 7., 1., 7., 1., 1., 7., 1., 7.,\n",
       "         7., 7., 7., 1., 1., 7., 1., 7., 1., 7., 7., 7., 1., 7., 7., 7., 7.,\n",
       "         7., 1., 1., 1., 7., 7., 1., 1., 7., 1., 1., 7., 7., 1., 1., 7., 1.,\n",
       "         1., 1., 7., 7., 1., 1., 7., 7., 7., 1., 7., 1., 7., 1., 1., 1., 1.,\n",
       "         1., 7., 1., 1., 1., 1., 7., 1., 1., 1., 7., 7., 7., 7., 1., 1., 1.,\n",
       "         7., 1., 1., 7., 7., 7., 7., 7., 7., 7., 1., 7., 7., 7., 1., 7., 7.,\n",
       "         1., 1., 1., 7., 7., 7., 7., 7., 7., 1., 7., 1., 1., 7., 7., 7., 7.,\n",
       "         1., 1., 7., 1., 1., 1., 1., 7., 1., 1., 1., 1., 7., 1., 7., 1., 1.,\n",
       "         7., 1., 1., 1., 1., 7., 1., 7., 1., 7., 1., 1., 1., 1., 7., 1., 7.,\n",
       "         7., 1., 7., 7., 1., 7., 1., 1., 1., 1., 7., 7., 1., 1., 1., 7., 7.,\n",
       "         1., 7., 7., 1., 7., 7., 7., 1., 7., 1., 7., 7., 7., 1., 7., 1., 7.,\n",
       "         7., 1., 7., 7., 1., 1., 1., 1., 7., 7., 7., 7., 7., 1., 1., 1., 1.,\n",
       "         1., 7., 1., 1., 7., 1., 7., 1., 1., 1., 1., 7., 1., 1., 7., 1., 1.,\n",
       "         1., 1., 7., 1., 7., 7., 1., 7., 1., 1., 7., 1., 1., 7., 1., 1., 1.,\n",
       "         1., 1., 1., 7., 7., 7., 7., 1., 7., 7., 7., 1., 1., 1., 1., 7., 7.,\n",
       "         7., 1., 1., 1., 1., 1., 7., 7., 7., 1., 1., 7., 1., 1., 7., 7., 7.,\n",
       "         7., 1., 7., 7., 7., 1., 1., 1., 1., 1., 7., 1., 1., 7., 7., 1., 1.,\n",
       "         1., 1., 1., 1., 1., 7., 1., 7., 7., 1., 7., 1., 7., 7., 1., 7., 1.,\n",
       "         1., 7., 7., 1., 7., 7., 1., 7., 1., 1., 7., 7., 7., 7., 1., 7., 1.,\n",
       "         1., 1., 7., 7., 7., 1., 7., 7., 7., 1., 7., 1., 7., 7., 7., 7., 1.,\n",
       "         1., 1., 7., 7., 7., 1., 1., 1., 1., 7., 1., 1., 1., 1., 1., 7., 1.,\n",
       "         1., 7., 7., 7., 7., 7., 7., 1., 7., 7., 7., 7., 7., 1., 7., 7., 1.,\n",
       "         7., 1., 1., 1., 7., 1., 7., 7., 1., 7., 7., 1., 7., 7., 7., 1., 7.,\n",
       "         1., 1., 7., 1., 1., 1., 7., 7., 1., 7., 1., 1., 7., 7., 7., 7., 7.,\n",
       "         1., 7., 7., 1., 7., 7., 7., 7., 7., 7., 1., 7., 1., 1., 7., 7., 1.,\n",
       "         7., 1., 7., 1., 1., 1., 7., 7., 7., 1., 1., 7., 7., 7., 1., 7., 7.,\n",
       "         1., 7., 7., 7., 7., 7., 1.]),\n",
       "  'test_pred': array([1., 7., 7., 1., 1., 1., 1., 7., 1., 1., 1., 7., 1., 7., 1., 1., 7.,\n",
       "         7., 1., 7., 1., 1., 7., 1., 1., 7., 7., 1., 1., 1., 1., 1., 7., 1.,\n",
       "         1., 1., 7., 1., 1., 7., 1., 7., 7., 7., 7., 1., 7., 1., 7., 1., 7.,\n",
       "         1., 1., 7., 1., 7., 7., 1., 1., 1., 1., 7., 1., 7., 7., 7., 1., 7.,\n",
       "         1., 7., 7., 1., 7., 1., 7., 1., 1., 1., 1., 1., 1., 1., 7., 1., 1.,\n",
       "         7., 7., 7., 1., 7., 7., 7., 1., 7., 7., 1., 1., 1., 7., 1., 1., 1.,\n",
       "         7., 1., 7., 1., 1., 1., 1., 1., 7., 7., 7., 1., 7., 1., 1., 7., 1.,\n",
       "         7., 1., 7., 1., 1., 1., 1., 7., 7., 1., 7., 1., 1., 7., 1., 1., 7.,\n",
       "         1., 7., 1., 1., 7., 1., 7., 1., 7., 1., 7., 7., 7., 1., 7., 7., 1.,\n",
       "         7., 1., 7., 1., 7., 7., 1., 1., 7., 7., 7., 1., 7., 7., 1., 1., 1.,\n",
       "         1., 7., 7., 7., 1., 1., 1., 1., 1., 7., 1., 7., 7., 1., 7., 1., 1.,\n",
       "         7., 1., 7., 7., 7., 1., 1., 7., 7., 1., 7., 7., 7., 7., 7., 1., 1.,\n",
       "         7., 7., 1., 7., 7., 7., 1., 1., 7., 7., 1., 1., 1., 7., 7., 1., 7.,\n",
       "         7., 7., 1., 1., 1., 1., 1., 7., 7., 1., 7., 7., 1., 1., 7., 7., 7.,\n",
       "         7., 1., 1., 1., 1., 1., 7., 7., 7., 1., 7., 1., 1., 1., 7., 1., 1.,\n",
       "         1., 1., 1., 7., 7., 7., 7., 7., 1., 7., 7., 1., 7., 1., 7., 1., 1.,\n",
       "         7., 1., 7., 1., 1., 1., 7., 7., 1., 7., 7., 1., 7., 1., 7., 1., 1.,\n",
       "         7., 7., 7., 1., 7., 7., 7., 7., 7., 1., 1., 7., 1., 7., 7., 7., 1.,\n",
       "         7., 7., 1., 1., 7., 7., 1., 1., 7., 7., 7., 7., 7., 7., 1., 7., 7.,\n",
       "         7., 1., 1., 7., 7., 7., 7., 1., 1., 7., 1., 7., 1., 1., 7., 7., 7.,\n",
       "         7., 1., 7., 7., 7., 7., 7., 1., 7., 7., 1., 7., 7., 1., 1., 7., 7.,\n",
       "         7., 7., 1., 1., 1., 7., 7., 1., 1., 1., 7., 1., 7., 7., 1., 1., 1.,\n",
       "         1., 1., 1., 1., 7., 7., 1., 1., 1., 1., 1., 7., 7., 1., 1., 1., 1.,\n",
       "         7., 1., 1., 7., 1., 7., 7., 1., 1., 1., 7., 7., 7., 7., 1., 7., 7.,\n",
       "         1., 1., 1., 7., 7., 1., 1., 1., 7., 7., 1., 7., 7., 7., 1., 7., 7.,\n",
       "         7., 1., 7., 1., 1., 1., 1., 1., 7., 7., 7., 1., 7., 1., 1., 1., 1.,\n",
       "         1., 1., 7., 7., 7., 1., 1., 7., 1., 7., 7., 1., 7., 7., 7., 7., 7.,\n",
       "         7., 7., 1., 1., 1., 1., 7., 7., 7., 1., 1., 7., 7., 1., 1., 7., 1.,\n",
       "         7., 1., 7., 7., 7., 1., 7., 7., 7., 1., 7., 7., 7., 1., 7., 1., 7.,\n",
       "         1., 1., 1., 1., 7., 7., 1., 7., 1., 7., 1., 1., 1., 7., 1., 7., 1.,\n",
       "         7., 7., 1., 1., 1., 7., 7., 1., 7., 1., 7., 1., 7., 7., 1., 1., 1.,\n",
       "         7., 7., 7., 7., 1., 7., 1., 7., 1., 7., 7., 1., 7., 7., 7., 7., 7.,\n",
       "         1., 7., 7., 7., 1., 1., 7., 1., 1., 1., 7., 1., 1., 7., 1., 1., 7.,\n",
       "         7., 1., 1., 1., 1., 1., 1., 7., 7., 7., 7., 1., 1., 1., 1., 7., 7.,\n",
       "         1., 1., 7., 7., 7., 7., 7., 1., 1., 7., 1., 7., 7., 1., 1., 1., 7.,\n",
       "         1., 7., 7., 7., 1., 7., 1., 1., 1., 7., 7., 1., 7., 7., 1., 1., 1.,\n",
       "         1., 7., 1., 7., 7., 7., 1., 7., 1., 1., 1., 7., 7., 7., 7., 7., 1.,\n",
       "         1., 1., 7., 7., 1., 1., 7., 1., 7., 7., 7., 7., 1., 7., 7., 1., 1.,\n",
       "         1., 7., 7., 7., 7., 7., 1., 7., 1., 7., 7., 7., 1., 1., 1., 1., 7.,\n",
       "         1., 7., 7., 1., 7., 1., 1., 7., 1., 7., 7., 7., 7., 7., 1., 7., 7.,\n",
       "         1., 7., 7., 1., 7., 7., 1., 1., 1., 1., 1., 7., 7., 1., 7., 1., 1.,\n",
       "         1., 1., 7., 7., 1., 1., 7., 1., 7., 1., 1., 1., 7., 7., 1., 1., 7.,\n",
       "         7., 7., 7., 1., 7., 1., 1., 1., 1., 7., 1., 1., 1., 1., 7., 1., 7.,\n",
       "         7., 1., 1., 7., 7., 1., 7., 7., 1., 7., 7., 1., 1., 7., 7., 1., 7.,\n",
       "         1., 1., 7., 7., 1., 7., 7., 7., 1., 1., 1., 1., 1., 1., 7., 7., 1.,\n",
       "         1., 1., 1., 7., 7., 1., 1., 1., 7., 7., 1., 7., 1., 1., 7., 1., 7.,\n",
       "         7., 7., 7., 1., 1., 7., 1., 7., 7., 1., 7., 1., 1., 7., 1., 1., 7.,\n",
       "         7., 7., 7., 1., 7., 1., 1., 1., 1., 7., 7., 1., 1., 7., 7., 7., 7.,\n",
       "         7., 1., 7., 1., 7., 7., 7., 1., 1., 1., 7., 7., 7., 1., 1., 7., 7.,\n",
       "         1., 7., 7., 1., 7., 7., 1., 7., 1., 1., 1., 1., 7., 1., 7., 1., 1.,\n",
       "         7., 1., 7., 1., 7., 1., 1., 7., 7., 1., 1., 7., 7., 1., 7., 1., 1.,\n",
       "         7., 1., 1., 7., 7., 1., 7., 7., 1., 1., 7., 7., 7., 7., 1., 7., 1.,\n",
       "         1., 7., 1., 1., 7., 7., 7., 7., 1., 1., 1., 7., 7., 1., 1., 1., 7.,\n",
       "         1., 7., 7., 7., 1., 1., 7., 1., 1., 1., 7., 1., 1., 1., 7., 7., 7.,\n",
       "         7., 1., 7., 1., 1., 1., 7., 1., 7., 7., 7., 1., 7., 1., 1., 7., 7.,\n",
       "         7., 7., 1., 1., 1., 1., 7., 1., 1., 7., 1., 1., 7., 7., 7., 1., 7.,\n",
       "         7., 1., 7., 1., 7., 7., 7., 1., 7., 1., 7., 7., 1., 1., 1., 7., 1.,\n",
       "         1., 7., 7., 1., 1., 1., 7., 1., 7., 1., 7., 1., 7., 7., 1., 1., 1.,\n",
       "         1., 1., 1., 7., 7., 7., 7., 1., 7., 1., 7., 1., 1., 1.])},\n",
       " {'name': '1_8',\n",
       "  'train_acc': 0.9997777777777778,\n",
       "  'val_acc': 0.992,\n",
       "  'test_acc': 0.997,\n",
       "  'train_time': 5.06024694442749,\n",
       "  'train_pred': array([1., 8., 1., ..., 8., 1., 8.]),\n",
       "  'val_pred': array([1., 1., 8., 1., 1., 1., 8., 1., 1., 1., 8., 1., 8., 8., 8., 8., 1.,\n",
       "         1., 8., 1., 8., 1., 1., 1., 1., 1., 1., 8., 8., 8., 1., 8., 1., 8.,\n",
       "         8., 8., 1., 8., 1., 8., 1., 8., 1., 8., 1., 1., 1., 8., 8., 1., 1.,\n",
       "         8., 1., 8., 1., 1., 8., 1., 1., 1., 8., 8., 1., 1., 8., 8., 8., 8.,\n",
       "         8., 1., 1., 1., 8., 8., 8., 8., 8., 1., 8., 1., 8., 8., 8., 8., 8.,\n",
       "         1., 1., 8., 8., 1., 8., 8., 1., 1., 8., 1., 1., 1., 8., 1., 8., 1.,\n",
       "         8., 1., 1., 1., 1., 8., 8., 8., 8., 1., 1., 8., 8., 1., 1., 1., 8.,\n",
       "         8., 8., 1., 8., 8., 1., 1., 1., 1., 1., 8., 1., 8., 1., 8., 8., 1.,\n",
       "         8., 1., 1., 1., 8., 1., 1., 8., 8., 8., 8., 1., 8., 8., 1., 1., 1.,\n",
       "         8., 1., 8., 8., 8., 8., 1., 1., 8., 1., 8., 8., 1., 1., 1., 8., 1.,\n",
       "         1., 1., 8., 1., 1., 1., 8., 1., 8., 1., 8., 1., 1., 8., 8., 8., 1.,\n",
       "         8., 1., 1., 8., 1., 1., 1., 1., 8., 1., 1., 8., 8., 1., 1., 8., 1.,\n",
       "         1., 1., 1., 8., 1., 1., 1., 8., 8., 1., 8., 1., 8., 1., 8., 8., 1.,\n",
       "         8., 8., 8., 1., 8., 8., 1., 8., 1., 1., 1., 1., 1., 1., 8., 8., 8.,\n",
       "         8., 1., 1., 1., 1., 1., 8., 8., 8., 1., 8., 8., 1., 1., 8., 8., 1.,\n",
       "         1., 1., 8., 1., 8., 1., 1., 8., 1., 1., 8., 8., 8., 8., 1., 1., 8.,\n",
       "         8., 8., 1., 8., 1., 8., 8., 1., 1., 8., 8., 1., 1., 8., 8., 8., 8.,\n",
       "         1., 1., 8., 8., 1., 1., 1., 8., 8., 8., 1., 8., 8., 1., 8., 1., 1.,\n",
       "         1., 1., 8., 1., 1., 8., 8., 8., 1., 1., 8., 8., 1., 8., 1., 8., 1.,\n",
       "         1., 8., 8., 8., 8., 8., 1., 8., 8., 8., 8., 8., 8., 1., 1., 8., 8.,\n",
       "         1., 1., 1., 1., 1., 8., 8., 8., 8., 8., 8., 8., 8., 1., 8., 8., 1.,\n",
       "         1., 8., 1., 1., 8., 1., 8., 1., 8., 8., 1., 8., 8., 1., 1., 8., 1.,\n",
       "         8., 1., 8., 1., 8., 8., 1., 1., 1., 8., 1., 8., 8., 1., 1., 1., 1.,\n",
       "         8., 8., 8., 8., 1., 8., 1., 8., 8., 8., 1., 1., 8., 8., 1., 8., 1.,\n",
       "         1., 8., 1., 1., 1., 1., 8., 1., 1., 8., 8., 1., 8., 8., 8., 1., 1.,\n",
       "         8., 8., 8., 8., 8., 1., 8., 8., 8., 8., 1., 8., 1., 8., 8., 8., 8.,\n",
       "         1., 1., 1., 8., 1., 1., 8., 1., 8., 8., 8., 1., 1., 1., 8., 1., 1.,\n",
       "         1., 8., 8., 1., 1., 1., 8., 8., 1., 1., 8., 8., 8., 8., 1., 1., 8.,\n",
       "         1., 8., 8., 8., 1., 1., 8., 8., 1., 8., 1., 1., 8., 1., 8., 8., 1.,\n",
       "         8., 8., 1., 8., 8., 1., 8.]),\n",
       "  'test_pred': array([1., 1., 8., 1., 1., 1., 1., 1., 8., 1., 8., 1., 8., 8., 1., 1., 8.,\n",
       "         1., 8., 1., 1., 8., 1., 1., 8., 1., 8., 8., 1., 1., 1., 1., 1., 1.,\n",
       "         8., 1., 1., 1., 8., 8., 1., 8., 8., 1., 8., 1., 1., 1., 8., 1., 8.,\n",
       "         8., 8., 1., 8., 1., 1., 8., 1., 1., 8., 8., 8., 1., 1., 8., 8., 8.,\n",
       "         8., 8., 8., 8., 1., 8., 1., 8., 8., 8., 8., 1., 1., 8., 8., 1., 1.,\n",
       "         1., 1., 8., 8., 1., 8., 1., 8., 1., 8., 8., 1., 8., 8., 1., 8., 8.,\n",
       "         8., 1., 1., 1., 1., 1., 1., 8., 8., 8., 1., 8., 1., 1., 1., 1., 1.,\n",
       "         8., 8., 8., 1., 1., 1., 8., 1., 8., 1., 8., 1., 8., 1., 1., 1., 1.,\n",
       "         1., 1., 1., 1., 1., 8., 1., 1., 8., 8., 8., 1., 8., 1., 8., 1., 8.,\n",
       "         8., 1., 1., 8., 1., 8., 1., 8., 1., 8., 1., 8., 8., 8., 1., 8., 8.,\n",
       "         1., 1., 8., 1., 8., 1., 8., 8., 1., 1., 8., 1., 8., 1., 8., 1., 8.,\n",
       "         1., 8., 8., 8., 1., 8., 8., 8., 1., 1., 1., 8., 1., 1., 8., 1., 8.,\n",
       "         8., 8., 8., 8., 8., 8., 1., 1., 8., 1., 8., 8., 1., 1., 1., 8., 1.,\n",
       "         1., 8., 1., 8., 1., 1., 1., 1., 1., 1., 8., 1., 1., 8., 8., 8., 1.,\n",
       "         8., 1., 8., 1., 1., 8., 1., 8., 8., 8., 1., 8., 1., 8., 8., 1., 1.,\n",
       "         8., 8., 1., 1., 1., 1., 1., 8., 8., 1., 8., 1., 1., 8., 8., 8., 1.,\n",
       "         1., 1., 8., 8., 8., 1., 8., 1., 1., 8., 8., 8., 8., 8., 8., 1., 8.,\n",
       "         8., 8., 8., 8., 1., 8., 1., 1., 8., 1., 1., 1., 8., 1., 8., 8., 8.,\n",
       "         8., 8., 1., 1., 1., 1., 8., 1., 8., 1., 1., 1., 8., 8., 8., 8., 8.,\n",
       "         1., 1., 1., 1., 1., 8., 8., 8., 1., 8., 8., 8., 8., 8., 1., 8., 1.,\n",
       "         8., 8., 1., 8., 1., 8., 8., 8., 8., 1., 8., 8., 1., 8., 8., 1., 8.,\n",
       "         1., 1., 1., 8., 8., 8., 1., 1., 1., 1., 1., 1., 8., 1., 1., 1., 8.,\n",
       "         8., 8., 1., 8., 8., 8., 1., 1., 8., 1., 8., 1., 1., 1., 1., 8., 8.,\n",
       "         8., 1., 8., 1., 1., 8., 8., 1., 1., 1., 1., 8., 8., 8., 8., 1., 1.,\n",
       "         1., 1., 1., 8., 1., 8., 8., 1., 1., 8., 8., 8., 8., 1., 8., 8., 8.,\n",
       "         1., 1., 1., 1., 8., 1., 1., 1., 1., 1., 1., 8., 1., 1., 8., 8., 1.,\n",
       "         8., 8., 1., 8., 1., 8., 8., 8., 8., 1., 8., 8., 8., 8., 1., 1., 1.,\n",
       "         8., 1., 8., 8., 1., 1., 8., 8., 8., 1., 1., 8., 8., 1., 1., 8., 8.,\n",
       "         1., 8., 8., 1., 8., 8., 8., 1., 8., 1., 1., 8., 8., 1., 1., 1., 8.,\n",
       "         8., 1., 1., 1., 8., 8., 8., 1., 1., 8., 8., 1., 8., 1., 1., 1., 1.,\n",
       "         1., 8., 1., 8., 8., 8., 8., 8., 1., 8., 1., 1., 1., 8., 1., 8., 1.,\n",
       "         8., 8., 8., 1., 8., 8., 8., 8., 8., 8., 1., 8., 1., 8., 1., 1., 1.,\n",
       "         8., 8., 1., 8., 1., 8., 1., 8., 8., 1., 1., 1., 8., 8., 8., 8., 1.,\n",
       "         1., 8., 1., 1., 1., 1., 8., 8., 8., 1., 1., 1., 1., 8., 8., 1., 1.,\n",
       "         8., 1., 1., 8., 8., 1., 8., 8., 1., 1., 1., 8., 1., 8., 8., 1., 1.,\n",
       "         1., 1., 8., 1., 8., 8., 1., 8., 1., 1., 8., 8., 8., 8., 1., 8., 8.,\n",
       "         8., 8., 1., 8., 8., 8., 8., 8., 1., 1., 1., 1., 8., 8., 8., 1., 1.,\n",
       "         1., 8., 8., 1., 1., 8., 8., 8., 8., 1., 1., 8., 1., 8., 8., 8., 1.,\n",
       "         8., 1., 8., 8., 1., 8., 1., 8., 8., 1., 1., 1., 1., 1., 8., 1., 1.,\n",
       "         1., 8., 8., 8., 1., 8., 1., 8., 8., 8., 1., 8., 8., 1., 8., 1., 1.,\n",
       "         8., 8., 1., 1., 8., 1., 8., 1., 1., 8., 1., 8., 8., 1., 1., 8., 1.,\n",
       "         1., 8., 8., 8., 1., 8., 8., 1., 1., 1., 8., 8., 8., 8., 1., 8., 1.,\n",
       "         1., 1., 1., 1., 1., 8., 8., 1., 8., 1., 1., 1., 8., 8., 1., 8., 8.,\n",
       "         1., 1., 8., 8., 8., 1., 1., 8., 8., 8., 8., 8., 8., 1., 1., 8., 8.,\n",
       "         1., 1., 8., 8., 1., 1., 8., 8., 1., 1., 1., 1., 1., 1., 8., 8., 1.,\n",
       "         1., 1., 8., 1., 8., 8., 1., 1., 1., 8., 8., 8., 8., 8., 8., 1., 8.,\n",
       "         1., 1., 1., 8., 8., 1., 1., 8., 8., 8., 8., 8., 1., 8., 8., 8., 8.,\n",
       "         1., 1., 8., 1., 8., 1., 1., 8., 1., 8., 8., 8., 1., 1., 1., 1., 8.,\n",
       "         1., 1., 8., 8., 8., 1., 1., 8., 1., 1., 8., 8., 8., 1., 8., 8., 8.,\n",
       "         1., 1., 1., 1., 1., 8., 8., 8., 1., 1., 1., 8., 8., 1., 8., 8., 1.,\n",
       "         1., 8., 1., 1., 8., 1., 1., 1., 8., 1., 8., 8., 1., 8., 1., 1., 1.,\n",
       "         1., 8., 1., 8., 1., 1., 8., 8., 1., 1., 1., 1., 1., 8., 1., 1., 8.,\n",
       "         1., 8., 8., 1., 1., 1., 1., 1., 1., 8., 8., 8., 8., 1., 1., 1., 8.,\n",
       "         1., 8., 1., 1., 8., 1., 1., 1., 1., 1., 8., 8., 8., 1., 1., 1., 8.,\n",
       "         8., 8., 8., 8., 8., 1., 1., 1., 1., 8., 8., 8., 1., 8., 1., 8., 8.,\n",
       "         1., 1., 8., 1., 8., 1., 8., 8., 8., 1., 8., 1., 8., 1., 8., 1., 1.,\n",
       "         1., 8., 8., 8., 8., 1., 1., 8., 8., 8., 1., 1., 1., 1., 8., 1., 8.,\n",
       "         8., 8., 1., 8., 8., 1., 1., 8., 1., 8., 8., 8., 8., 8., 1., 1., 8.,\n",
       "         8., 8., 1., 8., 1., 8., 8., 1., 8., 8., 1., 8., 1., 1.])},\n",
       " {'name': '1_9',\n",
       "  'train_acc': 1.0,\n",
       "  'val_acc': 0.998,\n",
       "  'test_acc': 1.0,\n",
       "  'train_time': 3.101209878921509,\n",
       "  'train_pred': array([1., 9., 1., ..., 9., 9., 1.]),\n",
       "  'val_pred': array([9., 1., 1., 9., 9., 1., 1., 1., 1., 9., 1., 1., 1., 9., 9., 9., 1.,\n",
       "         9., 1., 9., 1., 1., 1., 9., 1., 1., 1., 1., 9., 9., 9., 1., 9., 9.,\n",
       "         1., 9., 9., 9., 1., 1., 9., 9., 1., 1., 9., 9., 1., 1., 9., 9., 9.,\n",
       "         1., 9., 9., 1., 1., 9., 1., 1., 9., 9., 1., 1., 9., 1., 1., 9., 9.,\n",
       "         1., 9., 1., 9., 9., 1., 1., 9., 9., 9., 1., 9., 9., 9., 1., 9., 1.,\n",
       "         9., 9., 9., 9., 1., 1., 1., 9., 9., 1., 1., 1., 1., 1., 1., 9., 9.,\n",
       "         1., 9., 9., 1., 1., 9., 9., 1., 9., 1., 9., 1., 1., 9., 9., 1., 1.,\n",
       "         1., 9., 1., 9., 1., 9., 1., 1., 1., 1., 1., 9., 1., 1., 1., 1., 1.,\n",
       "         1., 9., 1., 9., 9., 9., 9., 9., 9., 9., 9., 9., 9., 9., 9., 1., 9.,\n",
       "         1., 9., 9., 1., 1., 9., 9., 1., 9., 9., 9., 1., 1., 1., 1., 1., 1.,\n",
       "         1., 9., 1., 1., 1., 1., 1., 9., 9., 1., 9., 9., 1., 1., 9., 1., 1.,\n",
       "         9., 1., 1., 9., 1., 9., 9., 9., 1., 1., 1., 9., 9., 1., 9., 9., 1.,\n",
       "         1., 1., 1., 9., 9., 1., 1., 1., 1., 9., 9., 1., 1., 1., 9., 9., 9.,\n",
       "         1., 1., 9., 1., 1., 1., 1., 1., 9., 1., 1., 1., 1., 1., 9., 9., 9.,\n",
       "         9., 9., 9., 1., 1., 9., 9., 1., 1., 1., 9., 9., 1., 1., 1., 9., 9.,\n",
       "         1., 1., 9., 1., 1., 1., 1., 9., 1., 9., 1., 9., 1., 1., 1., 9., 9.,\n",
       "         1., 9., 1., 1., 9., 9., 1., 1., 9., 1., 1., 9., 9., 1., 9., 1., 9.,\n",
       "         9., 1., 9., 1., 9., 1., 1., 1., 1., 9., 9., 9., 9., 1., 9., 1., 1.,\n",
       "         9., 9., 9., 1., 1., 9., 1., 1., 9., 1., 1., 9., 9., 9., 1., 9., 9.,\n",
       "         9., 9., 9., 1., 9., 1., 1., 1., 1., 1., 1., 9., 9., 9., 9., 9., 9.,\n",
       "         9., 9., 1., 9., 1., 1., 1., 1., 1., 9., 1., 9., 9., 1., 9., 9., 1.,\n",
       "         9., 9., 9., 1., 9., 1., 9., 1., 9., 1., 9., 9., 9., 1., 9., 9., 1.,\n",
       "         1., 1., 9., 9., 1., 9., 1., 1., 1., 9., 1., 9., 9., 1., 1., 9., 9.,\n",
       "         9., 9., 1., 9., 1., 1., 9., 1., 1., 9., 9., 1., 1., 1., 9., 1., 1.,\n",
       "         1., 9., 1., 9., 9., 1., 1., 9., 9., 9., 9., 9., 9., 9., 9., 1., 9.,\n",
       "         9., 9., 9., 9., 1., 9., 1., 9., 9., 1., 1., 9., 1., 9., 1., 9., 1.,\n",
       "         9., 9., 9., 1., 9., 9., 1., 1., 9., 9., 9., 1., 9., 1., 1., 1., 9.,\n",
       "         9., 9., 9., 1., 1., 1., 9., 1., 1., 9., 9., 9., 9., 1., 1., 1., 9.,\n",
       "         9., 9., 9., 1., 1., 1., 1., 9., 1., 9., 1., 1., 9., 9., 1., 9., 9.,\n",
       "         9., 1., 9., 9., 9., 1., 9.]),\n",
       "  'test_pred': array([1., 9., 1., 9., 9., 1., 1., 1., 1., 1., 1., 1., 1., 1., 9., 9., 1.,\n",
       "         1., 1., 1., 1., 1., 9., 9., 9., 1., 1., 1., 9., 9., 1., 9., 9., 1.,\n",
       "         1., 9., 9., 1., 9., 9., 9., 9., 9., 9., 9., 1., 1., 9., 1., 9., 9.,\n",
       "         1., 9., 9., 9., 1., 9., 9., 1., 1., 1., 9., 9., 1., 9., 1., 9., 1.,\n",
       "         1., 9., 9., 1., 1., 9., 9., 9., 9., 9., 9., 9., 9., 1., 9., 1., 1.,\n",
       "         1., 9., 1., 1., 1., 1., 1., 9., 1., 9., 1., 1., 9., 9., 9., 9., 1.,\n",
       "         9., 9., 1., 9., 1., 9., 9., 9., 1., 1., 1., 1., 1., 1., 9., 9., 9.,\n",
       "         1., 9., 9., 9., 1., 9., 1., 1., 9., 1., 1., 1., 1., 1., 1., 9., 9.,\n",
       "         1., 9., 9., 9., 9., 9., 9., 1., 9., 1., 1., 1., 1., 1., 9., 9., 1.,\n",
       "         1., 1., 1., 9., 9., 9., 9., 1., 1., 9., 9., 1., 1., 9., 9., 9., 9.,\n",
       "         1., 1., 1., 9., 1., 1., 9., 9., 1., 9., 1., 1., 9., 1., 1., 1., 9.,\n",
       "         9., 1., 9., 9., 1., 1., 1., 1., 1., 9., 9., 9., 1., 1., 9., 9., 1.,\n",
       "         1., 9., 1., 9., 1., 9., 1., 9., 9., 1., 9., 9., 9., 9., 9., 1., 1.,\n",
       "         9., 9., 1., 1., 1., 9., 9., 1., 1., 1., 9., 1., 9., 9., 9., 1., 1.,\n",
       "         1., 1., 1., 9., 1., 9., 1., 1., 9., 9., 9., 1., 1., 1., 9., 1., 9.,\n",
       "         1., 9., 9., 9., 1., 1., 9., 1., 9., 1., 1., 1., 1., 9., 1., 1., 9.,\n",
       "         9., 1., 9., 9., 1., 9., 1., 9., 1., 1., 1., 9., 1., 9., 1., 1., 9.,\n",
       "         9., 9., 9., 9., 1., 1., 9., 1., 1., 1., 1., 9., 9., 1., 1., 1., 9.,\n",
       "         9., 9., 1., 9., 1., 1., 1., 9., 1., 9., 9., 9., 1., 9., 9., 1., 9.,\n",
       "         1., 1., 1., 1., 9., 1., 9., 1., 9., 9., 9., 1., 9., 1., 1., 9., 9.,\n",
       "         1., 9., 9., 9., 1., 9., 9., 9., 1., 1., 1., 1., 9., 1., 1., 1., 1.,\n",
       "         1., 9., 1., 9., 1., 1., 9., 1., 1., 1., 9., 1., 9., 9., 9., 9., 9.,\n",
       "         9., 1., 1., 1., 1., 9., 1., 9., 9., 1., 9., 1., 9., 1., 9., 9., 1.,\n",
       "         9., 9., 9., 9., 1., 9., 9., 9., 1., 1., 9., 1., 9., 1., 9., 9., 9.,\n",
       "         1., 1., 1., 9., 9., 9., 1., 1., 1., 9., 1., 9., 9., 9., 9., 9., 1.,\n",
       "         9., 9., 1., 9., 9., 1., 1., 1., 9., 1., 9., 9., 1., 9., 9., 9., 9.,\n",
       "         9., 9., 9., 1., 1., 9., 9., 9., 9., 1., 1., 1., 9., 1., 9., 1., 9.,\n",
       "         1., 9., 9., 1., 1., 9., 9., 1., 9., 1., 1., 1., 9., 1., 1., 9., 1.,\n",
       "         9., 9., 9., 1., 9., 9., 1., 9., 9., 9., 1., 9., 9., 1., 9., 9., 9.,\n",
       "         9., 1., 1., 9., 9., 9., 1., 1., 1., 9., 9., 9., 1., 1., 9., 1., 1.,\n",
       "         1., 9., 1., 9., 9., 1., 1., 9., 9., 1., 1., 1., 1., 1., 9., 9., 1.,\n",
       "         1., 9., 1., 9., 1., 1., 9., 1., 9., 9., 9., 1., 9., 9., 1., 9., 9.,\n",
       "         9., 1., 9., 9., 1., 9., 9., 1., 9., 1., 1., 1., 9., 1., 1., 1., 9.,\n",
       "         9., 1., 1., 9., 1., 9., 9., 9., 9., 9., 9., 9., 9., 1., 1., 1., 9.,\n",
       "         1., 1., 1., 9., 9., 1., 1., 1., 1., 9., 1., 1., 9., 1., 9., 1., 9.,\n",
       "         9., 9., 9., 1., 9., 1., 9., 9., 9., 1., 1., 1., 1., 9., 1., 1., 1.,\n",
       "         9., 9., 1., 1., 1., 9., 9., 1., 1., 9., 9., 9., 1., 9., 1., 1., 1.,\n",
       "         1., 9., 9., 9., 1., 1., 1., 1., 1., 9., 1., 9., 9., 9., 1., 1., 9.,\n",
       "         1., 1., 9., 9., 9., 9., 9., 9., 1., 1., 9., 1., 9., 9., 1., 1., 1.,\n",
       "         1., 9., 1., 1., 1., 9., 9., 1., 9., 1., 9., 9., 9., 9., 1., 9., 1.,\n",
       "         9., 9., 9., 9., 9., 1., 9., 1., 9., 1., 1., 9., 1., 1., 9., 9., 9.,\n",
       "         1., 9., 1., 1., 1., 9., 9., 9., 1., 1., 9., 9., 9., 1., 9., 1., 1.,\n",
       "         1., 9., 1., 9., 1., 9., 9., 9., 1., 1., 1., 9., 9., 9., 1., 9., 9.,\n",
       "         9., 1., 1., 9., 1., 1., 1., 1., 1., 1., 1., 9., 9., 1., 9., 9., 1.,\n",
       "         1., 9., 1., 9., 1., 1., 9., 1., 9., 1., 1., 1., 1., 9., 1., 1., 1.,\n",
       "         1., 1., 9., 9., 1., 1., 1., 1., 9., 1., 9., 1., 1., 1., 9., 1., 9.,\n",
       "         1., 1., 9., 1., 9., 1., 1., 9., 9., 9., 1., 1., 9., 9., 9., 9., 1.,\n",
       "         9., 9., 9., 1., 9., 1., 1., 1., 9., 9., 1., 9., 1., 9., 9., 9., 9.,\n",
       "         9., 1., 9., 1., 9., 1., 1., 9., 1., 9., 1., 1., 9., 9., 1., 9., 1.,\n",
       "         9., 1., 1., 1., 1., 9., 1., 9., 9., 1., 1., 9., 1., 1., 9., 9., 1.,\n",
       "         9., 9., 1., 1., 1., 9., 1., 9., 1., 9., 1., 1., 1., 1., 9., 9., 1.,\n",
       "         9., 9., 1., 9., 9., 9., 9., 9., 1., 9., 9., 1., 9., 1., 1., 1., 1.,\n",
       "         1., 1., 9., 9., 1., 9., 9., 9., 1., 1., 1., 9., 9., 1., 9., 9., 1.,\n",
       "         1., 9., 1., 1., 9., 1., 9., 9., 1., 1., 1., 9., 9., 1., 9., 1., 1.,\n",
       "         1., 1., 9., 9., 9., 9., 1., 9., 9., 1., 1., 9., 9., 9., 9., 1., 9.,\n",
       "         9., 1., 1., 1., 9., 1., 1., 1., 9., 1., 9., 9., 9., 1., 9., 9., 9.,\n",
       "         1., 9., 9., 1., 9., 9., 1., 9., 1., 9., 9., 1., 9., 9., 1., 1., 9.,\n",
       "         9., 1., 1., 1., 1., 1., 9., 1., 1., 9., 9., 1., 9., 9., 9., 9., 1.,\n",
       "         1., 1., 1., 1., 1., 9., 9., 9., 1., 1., 1., 9., 1., 1.])},\n",
       " {'name': '2_3',\n",
       "  'train_acc': 0.994,\n",
       "  'val_acc': 0.982,\n",
       "  'test_acc': 0.972,\n",
       "  'train_time': 4.9710118770599365,\n",
       "  'train_pred': array([2., 2., 3., ..., 3., 3., 3.]),\n",
       "  'val_pred': array([2., 3., 3., 2., 3., 3., 2., 3., 3., 2., 2., 3., 3., 3., 2., 3., 3.,\n",
       "         3., 2., 2., 3., 3., 2., 2., 2., 2., 3., 2., 3., 3., 2., 3., 2., 3.,\n",
       "         2., 2., 2., 3., 2., 2., 3., 3., 2., 3., 2., 2., 2., 2., 3., 3., 2.,\n",
       "         3., 2., 2., 3., 2., 2., 3., 2., 3., 2., 3., 3., 2., 2., 3., 2., 2.,\n",
       "         3., 2., 3., 3., 2., 2., 3., 2., 3., 2., 3., 3., 2., 3., 2., 2., 2.,\n",
       "         3., 2., 2., 3., 3., 2., 3., 3., 3., 3., 3., 3., 2., 3., 3., 2., 2.,\n",
       "         3., 3., 2., 2., 3., 3., 3., 3., 2., 3., 3., 3., 3., 2., 3., 2., 2.,\n",
       "         3., 3., 2., 3., 2., 2., 2., 3., 3., 2., 2., 3., 3., 2., 3., 3., 2.,\n",
       "         2., 2., 2., 3., 2., 3., 2., 3., 2., 3., 3., 2., 2., 2., 2., 2., 3.,\n",
       "         2., 3., 3., 3., 2., 2., 3., 3., 2., 3., 3., 3., 2., 3., 2., 3., 2.,\n",
       "         3., 2., 2., 3., 2., 2., 3., 3., 2., 3., 2., 2., 3., 3., 3., 3., 3.,\n",
       "         2., 2., 2., 2., 2., 3., 3., 2., 2., 3., 3., 2., 3., 3., 3., 2., 2.,\n",
       "         2., 3., 2., 3., 2., 2., 3., 2., 2., 3., 2., 2., 3., 2., 2., 3., 3.,\n",
       "         2., 3., 2., 2., 2., 3., 3., 2., 2., 2., 2., 2., 2., 3., 3., 2., 3.,\n",
       "         3., 2., 2., 3., 3., 2., 3., 3., 3., 3., 3., 3., 2., 3., 2., 3., 2.,\n",
       "         2., 2., 2., 2., 2., 2., 3., 3., 2., 2., 2., 2., 3., 3., 3., 3., 2.,\n",
       "         3., 2., 2., 3., 3., 2., 2., 2., 2., 2., 3., 2., 3., 3., 3., 2., 3.,\n",
       "         2., 2., 2., 2., 2., 2., 3., 3., 2., 3., 2., 2., 2., 3., 3., 2., 3.,\n",
       "         3., 3., 2., 3., 3., 3., 3., 2., 3., 2., 2., 2., 2., 3., 2., 3., 2.,\n",
       "         2., 3., 2., 3., 3., 2., 3., 2., 2., 3., 3., 3., 3., 3., 2., 3., 2.,\n",
       "         2., 3., 2., 2., 3., 3., 2., 2., 2., 2., 2., 2., 3., 3., 3., 2., 3.,\n",
       "         3., 2., 3., 2., 3., 2., 3., 3., 2., 2., 2., 3., 3., 2., 3., 2., 2.,\n",
       "         2., 3., 2., 3., 3., 2., 3., 3., 2., 3., 3., 2., 2., 3., 2., 2., 2.,\n",
       "         3., 3., 2., 2., 3., 2., 3., 3., 2., 3., 3., 3., 3., 2., 2., 3., 3.,\n",
       "         3., 3., 3., 2., 2., 2., 2., 3., 3., 2., 2., 2., 2., 3., 3., 2., 3.,\n",
       "         3., 3., 3., 3., 2., 2., 3., 3., 2., 3., 2., 3., 3., 2., 3., 2., 3.,\n",
       "         2., 2., 3., 3., 3., 3., 3., 3., 3., 2., 3., 2., 2., 3., 3., 2., 2.,\n",
       "         3., 3., 2., 3., 3., 3., 3., 3., 3., 2., 2., 3., 3., 2., 3., 3., 2.,\n",
       "         2., 2., 3., 3., 3., 3., 2., 2., 3., 3., 3., 3., 3., 2., 3., 3., 2.,\n",
       "         2., 2., 3., 2., 3., 2., 2.]),\n",
       "  'test_pred': array([2., 2., 2., 3., 3., 2., 3., 3., 3., 3., 3., 2., 3., 3., 2., 2., 2.,\n",
       "         3., 2., 3., 2., 3., 3., 3., 3., 3., 3., 2., 3., 3., 3., 3., 2., 3.,\n",
       "         2., 2., 2., 2., 3., 2., 2., 3., 2., 2., 2., 3., 3., 3., 2., 3., 2.,\n",
       "         2., 2., 3., 2., 2., 3., 2., 2., 3., 3., 3., 2., 2., 2., 2., 2., 2.,\n",
       "         3., 3., 3., 3., 2., 3., 2., 2., 3., 2., 2., 2., 2., 3., 3., 3., 2.,\n",
       "         3., 3., 3., 2., 2., 2., 2., 3., 2., 2., 3., 3., 3., 2., 2., 3., 2.,\n",
       "         3., 3., 3., 2., 2., 2., 3., 3., 3., 3., 2., 3., 2., 2., 2., 3., 3.,\n",
       "         2., 2., 3., 2., 2., 3., 2., 3., 3., 2., 3., 2., 3., 3., 2., 3., 2.,\n",
       "         2., 3., 2., 3., 3., 3., 2., 2., 3., 2., 3., 2., 3., 2., 2., 2., 2.,\n",
       "         3., 3., 2., 2., 2., 2., 3., 3., 3., 2., 3., 3., 2., 3., 3., 2., 3.,\n",
       "         3., 2., 2., 2., 2., 2., 2., 3., 2., 2., 3., 2., 3., 2., 3., 2., 2.,\n",
       "         2., 3., 2., 2., 2., 2., 2., 2., 3., 3., 3., 2., 3., 2., 2., 2., 3.,\n",
       "         3., 2., 2., 2., 3., 2., 2., 3., 3., 3., 3., 2., 3., 2., 3., 3., 3.,\n",
       "         2., 3., 3., 2., 2., 2., 2., 3., 3., 2., 2., 2., 2., 2., 3., 3., 3.,\n",
       "         3., 3., 3., 3., 3., 2., 3., 3., 2., 3., 2., 2., 2., 3., 3., 3., 2.,\n",
       "         3., 3., 3., 2., 3., 2., 2., 2., 2., 3., 2., 2., 3., 2., 2., 3., 3.,\n",
       "         3., 3., 2., 2., 3., 3., 3., 2., 2., 3., 3., 2., 2., 2., 3., 3., 3.,\n",
       "         3., 3., 3., 2., 2., 2., 2., 3., 2., 2., 2., 2., 2., 2., 3., 2., 3.,\n",
       "         2., 2., 3., 2., 2., 2., 3., 2., 3., 3., 2., 3., 2., 3., 3., 2., 2.,\n",
       "         3., 3., 3., 2., 3., 3., 2., 2., 2., 2., 2., 3., 3., 3., 3., 2., 2.,\n",
       "         2., 2., 2., 2., 3., 3., 2., 3., 3., 2., 3., 3., 2., 3., 2., 2., 3.,\n",
       "         3., 3., 2., 3., 3., 3., 2., 3., 3., 2., 3., 3., 3., 2., 2., 3., 3.,\n",
       "         3., 2., 2., 2., 3., 3., 3., 2., 3., 3., 3., 3., 3., 2., 3., 3., 3.,\n",
       "         3., 3., 3., 3., 2., 2., 2., 3., 2., 2., 2., 3., 3., 3., 3., 3., 3.,\n",
       "         3., 3., 3., 3., 2., 3., 3., 2., 3., 2., 3., 2., 3., 3., 2., 3., 2.,\n",
       "         3., 3., 2., 3., 2., 3., 2., 3., 3., 3., 2., 3., 2., 2., 2., 3., 2.,\n",
       "         2., 3., 2., 2., 2., 2., 2., 3., 3., 2., 2., 2., 2., 3., 3., 3., 2.,\n",
       "         3., 2., 3., 3., 2., 2., 2., 2., 3., 2., 3., 2., 2., 3., 2., 3., 3.,\n",
       "         3., 2., 2., 2., 2., 3., 3., 3., 3., 3., 2., 3., 2., 2., 2., 2., 2.,\n",
       "         3., 2., 2., 3., 3., 2., 2., 2., 3., 2., 3., 2., 3., 3., 2., 3., 2.,\n",
       "         3., 2., 3., 2., 3., 2., 2., 2., 2., 2., 3., 3., 3., 2., 3., 3., 2.,\n",
       "         3., 2., 2., 3., 3., 3., 2., 2., 3., 3., 3., 3., 2., 3., 2., 3., 3.,\n",
       "         2., 2., 2., 2., 2., 3., 3., 2., 3., 2., 2., 2., 3., 2., 3., 2., 3.,\n",
       "         2., 3., 3., 3., 3., 3., 2., 2., 3., 2., 3., 3., 3., 3., 2., 3., 3.,\n",
       "         2., 3., 2., 2., 2., 2., 2., 3., 3., 3., 2., 3., 3., 2., 2., 2., 3.,\n",
       "         3., 2., 3., 2., 3., 2., 2., 3., 2., 2., 3., 3., 3., 3., 3., 3., 2.,\n",
       "         3., 2., 3., 3., 3., 2., 2., 2., 2., 2., 3., 2., 2., 3., 3., 3., 2.,\n",
       "         2., 3., 3., 2., 3., 2., 2., 3., 3., 2., 3., 3., 3., 3., 3., 3., 2.,\n",
       "         3., 3., 2., 2., 2., 3., 3., 2., 3., 3., 2., 2., 2., 2., 2., 2., 3.,\n",
       "         3., 2., 2., 3., 3., 3., 3., 2., 2., 2., 2., 3., 3., 3., 3., 3., 3.,\n",
       "         3., 3., 3., 2., 2., 2., 2., 2., 3., 2., 3., 3., 3., 2., 3., 3., 2.,\n",
       "         2., 2., 2., 3., 3., 3., 2., 3., 3., 2., 2., 2., 2., 3., 3., 2., 3.,\n",
       "         2., 2., 3., 3., 3., 3., 3., 3., 2., 2., 2., 2., 2., 2., 3., 3., 2.,\n",
       "         3., 3., 3., 3., 3., 3., 3., 2., 3., 3., 2., 3., 2., 3., 2., 3., 2.,\n",
       "         2., 2., 2., 2., 2., 2., 3., 2., 2., 2., 3., 2., 3., 3., 3., 3., 3.,\n",
       "         3., 2., 3., 2., 3., 3., 3., 2., 2., 3., 3., 2., 2., 2., 2., 2., 2.,\n",
       "         2., 2., 2., 2., 3., 2., 3., 2., 3., 2., 3., 2., 2., 3., 3., 3., 2.,\n",
       "         3., 3., 2., 2., 3., 2., 2., 2., 3., 2., 2., 3., 3., 3., 2., 2., 3.,\n",
       "         3., 2., 2., 3., 2., 3., 2., 3., 2., 2., 2., 3., 2., 2., 3., 3., 2.,\n",
       "         3., 2., 3., 2., 3., 2., 2., 2., 3., 2., 3., 2., 2., 2., 2., 2., 3.,\n",
       "         3., 2., 2., 3., 3., 2., 2., 2., 3., 3., 3., 2., 2., 2., 2., 2., 2.,\n",
       "         3., 2., 3., 3., 3., 2., 3., 3., 2., 3., 3., 2., 3., 3., 2., 2., 2.,\n",
       "         3., 2., 3., 3., 2., 2., 3., 2., 2., 3., 2., 3., 3., 3., 3., 2., 2.,\n",
       "         2., 3., 3., 3., 2., 2., 3., 3., 3., 2., 2., 2., 3., 3., 3., 3., 2.,\n",
       "         2., 2., 3., 2., 3., 3., 2., 2., 2., 2., 3., 3., 3., 3., 3., 2., 3.,\n",
       "         3., 2., 3., 3., 2., 3., 2., 3., 3., 3., 2., 2., 2., 2., 2., 3., 3.,\n",
       "         2., 3., 2., 2., 2., 3., 2., 2., 3., 2., 3., 2., 3., 2., 2., 3., 3.,\n",
       "         3., 3., 2., 2., 3., 2., 2., 3., 2., 2., 2., 3., 3., 2., 2., 3., 3.,\n",
       "         3., 2., 2., 3., 2., 3., 2., 2., 3., 3., 2., 2., 3., 2.])},\n",
       " {'name': '2_4',\n",
       "  'train_acc': 0.9744444444444444,\n",
       "  'val_acc': 0.892,\n",
       "  'test_acc': 0.894,\n",
       "  'train_time': 10.998911142349243,\n",
       "  'train_pred': array([4., 2., 4., ..., 2., 2., 4.]),\n",
       "  'val_pred': array([2., 4., 2., 2., 4., 4., 2., 2., 4., 4., 4., 2., 4., 4., 4., 4., 2.,\n",
       "         2., 4., 2., 2., 4., 4., 4., 2., 4., 2., 4., 4., 4., 2., 4., 2., 4.,\n",
       "         2., 2., 4., 2., 4., 2., 2., 2., 2., 4., 2., 2., 4., 2., 2., 4., 4.,\n",
       "         2., 4., 4., 2., 2., 2., 4., 4., 4., 4., 4., 4., 2., 4., 2., 4., 2.,\n",
       "         4., 4., 2., 2., 4., 4., 4., 2., 4., 2., 2., 2., 2., 2., 4., 4., 4.,\n",
       "         2., 2., 4., 2., 4., 2., 2., 2., 2., 4., 4., 4., 4., 4., 4., 4., 2.,\n",
       "         4., 4., 2., 4., 2., 2., 2., 2., 2., 2., 4., 4., 4., 4., 2., 2., 2.,\n",
       "         2., 4., 4., 4., 4., 4., 4., 2., 4., 4., 4., 4., 2., 4., 2., 2., 4.,\n",
       "         2., 4., 2., 4., 4., 4., 4., 4., 4., 4., 2., 2., 2., 4., 2., 2., 4.,\n",
       "         2., 4., 4., 4., 4., 2., 4., 4., 2., 4., 2., 4., 2., 4., 2., 2., 2.,\n",
       "         2., 4., 4., 2., 2., 2., 4., 2., 2., 4., 4., 4., 2., 2., 2., 2., 4.,\n",
       "         4., 2., 4., 4., 2., 2., 2., 4., 2., 4., 4., 4., 2., 2., 2., 2., 2.,\n",
       "         4., 2., 4., 4., 2., 4., 2., 4., 2., 4., 2., 2., 4., 2., 2., 2., 2.,\n",
       "         4., 2., 2., 2., 4., 4., 2., 2., 2., 2., 2., 2., 4., 4., 4., 2., 4.,\n",
       "         2., 2., 4., 4., 4., 4., 2., 2., 4., 4., 2., 4., 4., 2., 2., 4., 4.,\n",
       "         4., 4., 2., 2., 4., 2., 2., 2., 4., 2., 2., 2., 2., 4., 4., 4., 2.,\n",
       "         2., 2., 2., 4., 2., 2., 2., 2., 4., 2., 2., 4., 2., 4., 4., 4., 4.,\n",
       "         2., 4., 2., 4., 2., 2., 2., 2., 2., 4., 4., 4., 2., 2., 4., 4., 2.,\n",
       "         4., 4., 2., 2., 4., 4., 4., 4., 4., 2., 2., 4., 4., 2., 4., 4., 4.,\n",
       "         2., 2., 4., 2., 2., 2., 4., 2., 2., 4., 4., 2., 4., 4., 4., 4., 2.,\n",
       "         2., 2., 4., 2., 4., 2., 4., 2., 2., 4., 2., 4., 4., 2., 4., 2., 2.,\n",
       "         2., 2., 4., 2., 4., 2., 2., 2., 4., 2., 4., 2., 4., 4., 2., 2., 4.,\n",
       "         2., 2., 4., 2., 2., 2., 4., 4., 2., 2., 4., 2., 2., 2., 2., 4., 2.,\n",
       "         4., 2., 4., 2., 4., 2., 4., 4., 2., 2., 4., 2., 2., 2., 2., 4., 2.,\n",
       "         2., 4., 2., 4., 4., 2., 2., 2., 4., 4., 4., 4., 4., 2., 2., 2., 4.,\n",
       "         2., 2., 2., 4., 2., 2., 2., 4., 2., 4., 2., 2., 4., 2., 4., 2., 2.,\n",
       "         4., 2., 2., 2., 4., 4., 2., 4., 2., 4., 4., 2., 4., 2., 4., 2., 2.,\n",
       "         4., 2., 2., 4., 4., 2., 4., 2., 2., 4., 4., 4., 4., 4., 2., 2., 2.,\n",
       "         4., 2., 2., 2., 4., 2., 4., 4., 4., 4., 2., 4., 2., 2., 4., 4., 2.,\n",
       "         4., 4., 4., 4., 2., 4., 2.]),\n",
       "  'test_pred': array([2., 4., 4., 2., 2., 4., 4., 2., 4., 4., 4., 2., 2., 2., 2., 4., 4.,\n",
       "         4., 2., 2., 2., 2., 4., 2., 2., 2., 4., 2., 2., 4., 4., 4., 2., 2.,\n",
       "         2., 4., 4., 4., 4., 4., 2., 4., 4., 4., 2., 2., 4., 2., 2., 4., 4.,\n",
       "         2., 2., 4., 4., 2., 4., 2., 2., 2., 2., 4., 2., 2., 2., 2., 2., 2.,\n",
       "         4., 4., 4., 4., 2., 2., 2., 2., 2., 4., 4., 2., 4., 4., 4., 2., 4.,\n",
       "         4., 4., 2., 4., 2., 4., 4., 4., 2., 4., 2., 2., 4., 4., 4., 4., 4.,\n",
       "         2., 4., 2., 2., 2., 4., 4., 2., 4., 2., 2., 4., 2., 2., 4., 4., 2.,\n",
       "         4., 2., 2., 2., 4., 2., 2., 4., 2., 4., 4., 4., 2., 2., 4., 4., 4.,\n",
       "         2., 2., 2., 2., 2., 4., 2., 4., 2., 2., 2., 4., 2., 2., 4., 2., 4.,\n",
       "         4., 2., 2., 4., 2., 2., 4., 4., 4., 2., 4., 2., 4., 2., 4., 4., 2.,\n",
       "         2., 2., 4., 2., 4., 4., 2., 4., 2., 2., 2., 2., 4., 2., 4., 4., 2.,\n",
       "         2., 4., 4., 2., 2., 4., 2., 2., 4., 2., 2., 4., 4., 2., 2., 2., 4.,\n",
       "         2., 2., 2., 2., 2., 2., 2., 4., 2., 2., 2., 2., 2., 4., 2., 2., 2.,\n",
       "         4., 4., 2., 4., 2., 4., 4., 4., 4., 4., 2., 4., 2., 4., 4., 2., 4.,\n",
       "         2., 4., 2., 4., 2., 2., 2., 2., 4., 4., 4., 2., 2., 4., 4., 4., 4.,\n",
       "         4., 2., 2., 4., 2., 2., 4., 2., 2., 4., 4., 4., 4., 4., 4., 4., 2.,\n",
       "         2., 2., 4., 4., 4., 2., 2., 2., 2., 4., 4., 4., 2., 2., 4., 2., 2.,\n",
       "         2., 4., 4., 2., 4., 2., 2., 4., 4., 4., 2., 2., 2., 2., 2., 4., 4.,\n",
       "         4., 4., 2., 4., 4., 4., 2., 4., 2., 2., 4., 2., 2., 4., 4., 2., 2.,\n",
       "         4., 4., 4., 2., 4., 2., 4., 2., 2., 2., 4., 4., 2., 2., 2., 4., 2.,\n",
       "         4., 4., 4., 4., 4., 4., 4., 2., 4., 2., 4., 2., 2., 4., 4., 2., 4.,\n",
       "         4., 4., 4., 2., 2., 4., 2., 4., 2., 2., 2., 2., 4., 4., 4., 4., 4.,\n",
       "         2., 2., 4., 2., 4., 4., 4., 4., 4., 2., 4., 4., 4., 4., 4., 4., 2.,\n",
       "         2., 2., 2., 4., 4., 2., 2., 2., 4., 4., 4., 4., 2., 4., 4., 4., 2.,\n",
       "         4., 2., 4., 2., 4., 4., 4., 4., 2., 2., 4., 2., 4., 2., 2., 4., 4.,\n",
       "         4., 2., 2., 2., 2., 2., 2., 4., 2., 4., 2., 2., 2., 4., 2., 4., 2.,\n",
       "         4., 2., 4., 2., 4., 4., 4., 4., 4., 2., 4., 4., 2., 4., 4., 4., 4.,\n",
       "         2., 2., 4., 2., 2., 4., 4., 2., 4., 2., 4., 2., 2., 4., 4., 2., 2.,\n",
       "         4., 4., 4., 4., 2., 2., 2., 2., 2., 4., 4., 2., 2., 2., 2., 2., 4.,\n",
       "         2., 4., 2., 4., 2., 4., 2., 4., 4., 2., 2., 4., 4., 2., 4., 2., 4.,\n",
       "         4., 4., 2., 2., 2., 2., 2., 4., 2., 4., 2., 4., 4., 2., 4., 2., 4.,\n",
       "         2., 4., 4., 4., 4., 2., 4., 2., 4., 4., 4., 2., 2., 4., 4., 4., 4.,\n",
       "         2., 4., 4., 4., 4., 2., 2., 4., 2., 4., 4., 2., 2., 2., 2., 4., 2.,\n",
       "         2., 4., 2., 4., 4., 4., 2., 4., 2., 2., 4., 4., 4., 4., 2., 2., 2.,\n",
       "         4., 2., 4., 2., 4., 4., 2., 4., 2., 2., 2., 2., 2., 2., 2., 4., 4.,\n",
       "         4., 2., 2., 4., 4., 2., 2., 4., 4., 2., 4., 4., 4., 2., 2., 2., 4.,\n",
       "         4., 2., 4., 2., 2., 4., 4., 2., 4., 2., 4., 4., 2., 4., 2., 4., 4.,\n",
       "         2., 2., 2., 4., 2., 2., 2., 4., 2., 2., 4., 2., 4., 4., 4., 2., 2.,\n",
       "         4., 2., 2., 4., 4., 2., 4., 4., 4., 4., 2., 4., 4., 4., 2., 4., 2.,\n",
       "         2., 4., 2., 4., 2., 2., 2., 2., 2., 2., 4., 2., 4., 2., 4., 4., 2.,\n",
       "         4., 2., 4., 4., 4., 2., 4., 4., 4., 4., 2., 2., 2., 4., 4., 2., 2.,\n",
       "         2., 4., 4., 4., 4., 2., 4., 2., 2., 2., 2., 2., 4., 2., 2., 2., 2.,\n",
       "         4., 2., 2., 4., 2., 2., 4., 2., 2., 2., 2., 2., 4., 2., 2., 4., 4.,\n",
       "         4., 4., 4., 2., 4., 2., 2., 2., 4., 4., 4., 2., 2., 2., 4., 2., 2.,\n",
       "         4., 2., 4., 4., 2., 4., 2., 2., 2., 2., 4., 4., 4., 2., 4., 2., 4.,\n",
       "         4., 2., 4., 2., 4., 4., 2., 2., 4., 2., 4., 2., 2., 2., 2., 4., 2.,\n",
       "         2., 4., 2., 4., 4., 2., 4., 2., 4., 2., 2., 2., 4., 4., 2., 4., 2.,\n",
       "         2., 4., 2., 2., 2., 4., 2., 4., 2., 4., 2., 4., 4., 4., 2., 2., 4.,\n",
       "         2., 4., 4., 4., 2., 4., 2., 2., 4., 4., 4., 2., 2., 4., 2., 2., 2.,\n",
       "         2., 2., 4., 2., 4., 2., 4., 4., 4., 4., 2., 2., 2., 2., 2., 4., 2.,\n",
       "         2., 2., 4., 4., 4., 2., 2., 4., 2., 4., 2., 2., 2., 2., 2., 2., 2.,\n",
       "         4., 2., 4., 2., 2., 4., 4., 4., 2., 2., 2., 2., 4., 2., 4., 4., 2.,\n",
       "         4., 2., 2., 4., 4., 2., 4., 4., 4., 2., 2., 2., 2., 4., 2., 4., 2.,\n",
       "         4., 4., 2., 2., 4., 2., 4., 2., 4., 4., 2., 4., 2., 4., 2., 4., 4.,\n",
       "         2., 4., 4., 4., 2., 2., 4., 4., 4., 4., 4., 4., 2., 4., 4., 2., 4.,\n",
       "         4., 4., 4., 2., 4., 2., 4., 2., 2., 2., 2., 2., 2., 4., 4., 4., 4.,\n",
       "         2., 4., 4., 4., 2., 2., 2., 4., 2., 2., 2., 2., 4., 4., 2., 4., 2.,\n",
       "         2., 4., 4., 4., 4., 4., 4., 2., 2., 2., 2., 2., 4., 2., 2., 2., 4.,\n",
       "         2., 2., 2., 4., 4., 2., 4., 2., 4., 2., 2., 2., 4., 2.])},\n",
       " {'name': '2_5',\n",
       "  'train_acc': 1.0,\n",
       "  'val_acc': 0.998,\n",
       "  'test_acc': 0.997,\n",
       "  'train_time': 4.957698106765747,\n",
       "  'train_pred': array([5., 2., 2., ..., 5., 2., 5.]),\n",
       "  'val_pred': array([2., 5., 5., 5., 5., 5., 2., 5., 2., 5., 2., 5., 2., 5., 5., 5., 5.,\n",
       "         2., 5., 5., 5., 2., 2., 2., 2., 2., 2., 5., 5., 2., 5., 5., 5., 2.,\n",
       "         5., 2., 5., 2., 2., 5., 5., 2., 2., 5., 5., 2., 5., 2., 5., 5., 5.,\n",
       "         2., 5., 2., 5., 2., 5., 5., 2., 2., 2., 2., 2., 5., 2., 2., 2., 5.,\n",
       "         5., 2., 2., 5., 5., 5., 2., 2., 5., 2., 5., 2., 2., 2., 2., 5., 2.,\n",
       "         5., 5., 2., 5., 5., 2., 5., 5., 2., 2., 2., 5., 5., 5., 2., 5., 5.,\n",
       "         5., 5., 2., 5., 2., 2., 5., 5., 2., 2., 5., 2., 5., 5., 2., 5., 2.,\n",
       "         2., 2., 2., 5., 2., 5., 5., 5., 5., 5., 2., 2., 5., 2., 2., 2., 5.,\n",
       "         5., 5., 5., 2., 2., 2., 2., 5., 2., 2., 2., 5., 2., 5., 2., 2., 5.,\n",
       "         5., 5., 2., 2., 5., 2., 5., 5., 2., 5., 5., 2., 5., 2., 5., 2., 5.,\n",
       "         5., 5., 2., 2., 2., 2., 5., 2., 2., 5., 5., 5., 5., 2., 5., 2., 2.,\n",
       "         5., 5., 2., 2., 5., 2., 5., 5., 5., 2., 2., 2., 2., 5., 2., 2., 2.,\n",
       "         5., 5., 5., 2., 5., 2., 2., 2., 5., 2., 2., 5., 5., 2., 2., 5., 5.,\n",
       "         2., 2., 5., 5., 5., 5., 2., 2., 5., 2., 2., 2., 2., 2., 2., 5., 5.,\n",
       "         2., 2., 2., 5., 5., 2., 2., 5., 5., 5., 5., 2., 5., 5., 2., 5., 2.,\n",
       "         5., 5., 2., 2., 5., 2., 2., 5., 2., 2., 2., 5., 5., 5., 2., 2., 2.,\n",
       "         2., 5., 5., 2., 5., 2., 5., 2., 2., 5., 2., 5., 2., 2., 5., 5., 5.,\n",
       "         2., 2., 2., 5., 5., 2., 2., 2., 2., 5., 2., 5., 5., 2., 5., 5., 2.,\n",
       "         2., 5., 5., 2., 2., 5., 5., 2., 5., 5., 5., 2., 2., 2., 2., 2., 2.,\n",
       "         5., 5., 2., 5., 2., 2., 5., 2., 5., 5., 2., 5., 2., 2., 5., 5., 5.,\n",
       "         5., 5., 5., 5., 5., 2., 5., 2., 2., 5., 5., 2., 5., 5., 5., 2., 5.,\n",
       "         2., 2., 5., 5., 2., 2., 2., 5., 5., 2., 5., 5., 2., 2., 5., 2., 2.,\n",
       "         2., 2., 5., 5., 2., 2., 2., 2., 2., 2., 2., 2., 5., 5., 2., 5., 2.,\n",
       "         5., 5., 5., 5., 2., 2., 5., 2., 5., 5., 2., 2., 5., 5., 2., 5., 2.,\n",
       "         2., 5., 5., 2., 5., 5., 5., 5., 2., 2., 5., 5., 5., 5., 5., 2., 2.,\n",
       "         2., 2., 5., 5., 5., 5., 2., 2., 5., 5., 2., 2., 5., 2., 5., 5., 2.,\n",
       "         2., 5., 2., 2., 5., 5., 2., 5., 2., 2., 2., 2., 5., 5., 2., 2., 2.,\n",
       "         5., 2., 5., 2., 2., 5., 5., 5., 5., 2., 2., 5., 5., 2., 2., 2., 2.,\n",
       "         5., 5., 2., 2., 5., 5., 5., 2., 2., 5., 5., 5., 2., 5., 2., 5., 2.,\n",
       "         2., 5., 5., 5., 5., 5., 2.]),\n",
       "  'test_pred': array([2., 5., 2., 2., 2., 5., 5., 5., 5., 5., 5., 5., 5., 2., 2., 5., 2.,\n",
       "         2., 5., 2., 5., 2., 5., 5., 2., 2., 2., 2., 2., 2., 2., 5., 2., 5.,\n",
       "         5., 2., 5., 2., 2., 2., 5., 5., 2., 5., 5., 5., 2., 5., 5., 5., 2.,\n",
       "         5., 5., 2., 2., 2., 5., 5., 2., 2., 5., 5., 5., 5., 5., 2., 2., 2.,\n",
       "         2., 2., 2., 2., 5., 2., 2., 5., 2., 2., 5., 2., 5., 2., 5., 5., 5.,\n",
       "         5., 2., 2., 2., 2., 2., 2., 5., 5., 2., 2., 2., 5., 5., 5., 5., 2.,\n",
       "         2., 5., 2., 5., 5., 2., 5., 2., 2., 5., 2., 5., 5., 5., 5., 2., 2.,\n",
       "         2., 2., 2., 5., 2., 5., 5., 2., 5., 2., 5., 5., 5., 2., 2., 5., 5.,\n",
       "         5., 2., 5., 5., 2., 5., 5., 5., 5., 5., 2., 5., 2., 5., 2., 2., 2.,\n",
       "         2., 2., 5., 5., 5., 5., 2., 2., 2., 5., 2., 2., 2., 5., 2., 5., 2.,\n",
       "         2., 2., 2., 2., 2., 2., 5., 5., 5., 2., 5., 2., 2., 5., 5., 2., 2.,\n",
       "         5., 5., 2., 2., 2., 5., 2., 5., 2., 5., 2., 2., 2., 2., 5., 5., 5.,\n",
       "         2., 2., 5., 2., 2., 2., 5., 5., 5., 2., 5., 2., 2., 5., 5., 2., 5.,\n",
       "         2., 5., 2., 5., 2., 2., 5., 5., 5., 2., 2., 2., 5., 2., 5., 2., 2.,\n",
       "         5., 2., 2., 2., 5., 5., 5., 5., 2., 5., 2., 5., 5., 5., 5., 2., 2.,\n",
       "         5., 2., 5., 2., 5., 5., 5., 5., 2., 2., 2., 5., 5., 2., 5., 5., 5.,\n",
       "         5., 2., 5., 5., 2., 2., 2., 5., 5., 5., 2., 5., 5., 5., 2., 5., 5.,\n",
       "         5., 2., 2., 2., 2., 2., 5., 2., 5., 5., 5., 5., 5., 5., 2., 2., 2.,\n",
       "         5., 5., 5., 2., 5., 2., 5., 2., 2., 2., 2., 2., 2., 5., 2., 2., 5.,\n",
       "         5., 5., 2., 5., 5., 5., 2., 5., 2., 2., 2., 5., 2., 2., 5., 2., 5.,\n",
       "         2., 5., 2., 5., 5., 2., 2., 2., 2., 5., 2., 2., 5., 5., 5., 2., 5.,\n",
       "         2., 2., 2., 2., 2., 5., 5., 2., 5., 5., 5., 2., 5., 2., 2., 2., 5.,\n",
       "         2., 5., 5., 2., 2., 5., 5., 5., 5., 5., 5., 2., 2., 5., 5., 5., 2.,\n",
       "         2., 2., 5., 5., 5., 5., 5., 2., 5., 5., 2., 2., 5., 2., 5., 2., 5.,\n",
       "         2., 2., 5., 5., 5., 5., 5., 2., 5., 5., 5., 5., 2., 5., 5., 5., 2.,\n",
       "         5., 2., 2., 5., 5., 5., 2., 2., 2., 5., 5., 2., 2., 5., 2., 5., 2.,\n",
       "         2., 2., 2., 2., 5., 2., 2., 2., 5., 2., 2., 2., 5., 5., 2., 5., 5.,\n",
       "         5., 5., 5., 5., 2., 2., 2., 5., 5., 5., 2., 5., 2., 5., 5., 5., 2.,\n",
       "         5., 2., 5., 5., 2., 5., 2., 5., 2., 5., 5., 5., 2., 5., 2., 5., 5.,\n",
       "         5., 5., 5., 2., 2., 2., 5., 5., 5., 2., 2., 2., 5., 2., 2., 5., 2.,\n",
       "         5., 5., 2., 5., 2., 5., 2., 5., 5., 2., 2., 5., 5., 2., 2., 5., 2.,\n",
       "         2., 5., 2., 2., 2., 2., 5., 2., 5., 5., 2., 2., 5., 2., 5., 2., 5.,\n",
       "         2., 5., 5., 5., 2., 5., 2., 2., 2., 2., 2., 5., 2., 2., 2., 5., 5.,\n",
       "         2., 5., 2., 5., 2., 5., 5., 2., 2., 5., 5., 2., 2., 5., 5., 5., 2.,\n",
       "         5., 2., 5., 5., 5., 2., 5., 5., 5., 5., 2., 5., 5., 5., 5., 5., 5.,\n",
       "         2., 2., 2., 2., 2., 5., 2., 2., 2., 5., 5., 2., 5., 2., 5., 5., 5.,\n",
       "         2., 5., 2., 2., 5., 5., 2., 2., 2., 5., 5., 5., 2., 5., 5., 5., 2.,\n",
       "         5., 5., 2., 2., 5., 2., 2., 5., 2., 2., 5., 5., 5., 2., 5., 5., 5.,\n",
       "         2., 5., 2., 5., 2., 2., 5., 5., 5., 2., 5., 5., 2., 2., 5., 5., 2.,\n",
       "         2., 5., 2., 5., 5., 2., 5., 5., 5., 2., 2., 2., 2., 2., 2., 2., 5.,\n",
       "         2., 5., 2., 5., 2., 2., 5., 5., 2., 2., 2., 5., 2., 2., 2., 5., 5.,\n",
       "         5., 5., 5., 5., 2., 5., 2., 2., 5., 5., 2., 2., 2., 5., 5., 2., 5.,\n",
       "         5., 2., 2., 5., 5., 2., 2., 5., 2., 2., 5., 5., 5., 2., 2., 2., 2.,\n",
       "         5., 5., 5., 2., 5., 5., 2., 5., 2., 5., 5., 5., 2., 5., 2., 5., 2.,\n",
       "         2., 2., 5., 2., 2., 5., 5., 2., 2., 2., 2., 2., 5., 5., 2., 5., 5.,\n",
       "         5., 5., 5., 5., 5., 5., 2., 2., 5., 5., 2., 2., 5., 2., 2., 2., 5.,\n",
       "         2., 2., 2., 2., 2., 5., 2., 5., 2., 5., 5., 2., 5., 2., 2., 5., 2.,\n",
       "         5., 5., 2., 5., 2., 5., 2., 2., 2., 5., 2., 2., 5., 5., 2., 5., 5.,\n",
       "         2., 2., 2., 2., 2., 2., 5., 2., 5., 5., 2., 2., 5., 2., 5., 2., 5.,\n",
       "         2., 2., 5., 5., 5., 5., 5., 2., 5., 5., 2., 5., 2., 2., 5., 2., 5.,\n",
       "         2., 2., 2., 5., 5., 5., 2., 2., 5., 2., 2., 5., 2., 5., 5., 5., 2.,\n",
       "         2., 2., 5., 5., 2., 2., 2., 5., 2., 5., 2., 5., 2., 2., 5., 5., 5.,\n",
       "         5., 5., 2., 2., 5., 2., 2., 5., 5., 5., 5., 2., 2., 5., 2., 2., 5.,\n",
       "         5., 2., 5., 2., 2., 2., 2., 5., 5., 5., 2., 5., 5., 2., 2., 2., 5.,\n",
       "         5., 5., 5., 2., 5., 2., 5., 2., 2., 2., 5., 2., 2., 2., 2., 5., 5.,\n",
       "         5., 5., 5., 2., 5., 2., 2., 2., 2., 5., 2., 5., 2., 2., 5., 5., 5.,\n",
       "         5., 2., 5., 5., 2., 2., 2., 2., 2., 5., 5., 5., 2., 5., 2., 2., 2.,\n",
       "         5., 5., 2., 2., 2., 2., 5., 2., 2., 5., 2., 2., 2., 5., 5., 2., 2.,\n",
       "         5., 5., 2., 5., 2., 2., 5., 5., 5., 5., 2., 2., 5., 2.])},\n",
       " {'name': '2_6',\n",
       "  'train_acc': 0.9764444444444444,\n",
       "  'val_acc': 0.894,\n",
       "  'test_acc': 0.874,\n",
       "  'train_time': 12.042638063430786,\n",
       "  'train_pred': array([6., 2., 2., ..., 6., 2., 2.]),\n",
       "  'val_pred': array([2., 6., 6., 2., 2., 2., 2., 6., 6., 6., 2., 6., 6., 2., 2., 2., 2.,\n",
       "         2., 6., 2., 6., 6., 2., 6., 6., 2., 6., 2., 6., 6., 2., 6., 2., 2.,\n",
       "         2., 2., 6., 2., 6., 2., 2., 2., 6., 6., 6., 2., 6., 2., 2., 6., 2.,\n",
       "         2., 2., 2., 6., 2., 6., 2., 6., 6., 2., 2., 6., 2., 6., 6., 2., 2.,\n",
       "         2., 2., 6., 6., 6., 6., 6., 2., 2., 2., 2., 2., 6., 2., 2., 6., 6.,\n",
       "         2., 6., 2., 6., 2., 2., 6., 2., 6., 6., 6., 2., 6., 6., 6., 2., 2.,\n",
       "         2., 6., 2., 6., 6., 2., 6., 6., 2., 2., 2., 2., 6., 2., 6., 6., 6.,\n",
       "         2., 2., 6., 2., 2., 6., 2., 6., 6., 6., 6., 2., 2., 2., 2., 2., 2.,\n",
       "         6., 2., 2., 2., 2., 6., 2., 2., 6., 2., 6., 2., 2., 6., 6., 6., 2.,\n",
       "         6., 2., 2., 6., 2., 2., 2., 2., 2., 6., 2., 6., 2., 2., 2., 6., 2.,\n",
       "         2., 6., 6., 6., 6., 6., 2., 2., 2., 2., 6., 2., 2., 6., 2., 2., 2.,\n",
       "         2., 6., 2., 6., 2., 6., 2., 2., 2., 2., 2., 2., 6., 2., 2., 6., 2.,\n",
       "         2., 6., 6., 6., 2., 2., 2., 2., 2., 6., 6., 6., 2., 2., 6., 6., 2.,\n",
       "         2., 2., 2., 2., 6., 2., 2., 6., 2., 6., 2., 2., 2., 6., 6., 6., 6.,\n",
       "         2., 6., 6., 2., 6., 6., 2., 2., 2., 2., 2., 2., 6., 6., 2., 2., 2.,\n",
       "         6., 6., 2., 6., 6., 2., 2., 2., 6., 2., 2., 2., 6., 6., 2., 6., 6.,\n",
       "         6., 2., 6., 6., 6., 2., 2., 2., 6., 2., 2., 6., 6., 2., 6., 2., 6.,\n",
       "         6., 2., 6., 6., 2., 2., 6., 6., 6., 6., 6., 2., 6., 2., 6., 6., 6.,\n",
       "         2., 6., 6., 2., 6., 2., 2., 2., 6., 2., 6., 6., 2., 2., 2., 6., 2.,\n",
       "         6., 2., 2., 6., 6., 6., 2., 2., 2., 6., 6., 2., 6., 6., 2., 2., 2.,\n",
       "         6., 6., 2., 2., 6., 6., 2., 2., 6., 6., 6., 2., 6., 2., 6., 6., 6.,\n",
       "         2., 2., 6., 6., 2., 6., 2., 2., 2., 2., 6., 2., 2., 2., 6., 2., 6.,\n",
       "         2., 2., 6., 2., 6., 2., 2., 6., 2., 2., 6., 2., 2., 2., 6., 6., 2.,\n",
       "         6., 2., 2., 6., 2., 6., 6., 2., 2., 6., 6., 6., 6., 6., 6., 2., 6.,\n",
       "         2., 2., 2., 6., 6., 6., 6., 6., 6., 2., 6., 2., 6., 6., 6., 2., 2.,\n",
       "         6., 2., 6., 6., 6., 2., 6., 2., 6., 6., 2., 2., 2., 6., 2., 6., 2.,\n",
       "         6., 2., 2., 6., 2., 2., 6., 6., 2., 2., 2., 6., 6., 6., 2., 6., 6.,\n",
       "         2., 6., 2., 6., 6., 6., 6., 6., 6., 6., 2., 2., 6., 6., 6., 6., 6.,\n",
       "         2., 2., 2., 6., 6., 2., 2., 6., 2., 2., 6., 2., 6., 6., 6., 6., 2.,\n",
       "         2., 6., 2., 6., 6., 6., 2.]),\n",
       "  'test_pred': array([2., 2., 2., 2., 6., 6., 6., 6., 2., 6., 2., 6., 2., 2., 2., 6., 2.,\n",
       "         2., 6., 6., 2., 6., 2., 2., 6., 2., 6., 2., 2., 2., 6., 2., 6., 2.,\n",
       "         6., 2., 6., 6., 2., 6., 2., 6., 2., 6., 6., 2., 6., 6., 6., 2., 2.,\n",
       "         6., 2., 6., 6., 6., 6., 2., 2., 2., 2., 6., 6., 2., 2., 2., 2., 2.,\n",
       "         2., 2., 6., 6., 2., 6., 6., 6., 6., 6., 2., 2., 2., 2., 2., 2., 2.,\n",
       "         2., 6., 6., 6., 2., 6., 6., 2., 2., 6., 2., 6., 6., 2., 6., 6., 6.,\n",
       "         2., 2., 2., 6., 6., 6., 6., 2., 6., 2., 2., 2., 6., 2., 2., 2., 2.,\n",
       "         2., 6., 2., 2., 6., 6., 6., 6., 2., 6., 2., 2., 6., 2., 6., 6., 2.,\n",
       "         2., 2., 2., 2., 2., 2., 2., 6., 2., 6., 6., 6., 6., 2., 2., 2., 2.,\n",
       "         6., 2., 6., 2., 2., 2., 2., 6., 2., 2., 2., 6., 2., 6., 6., 6., 2.,\n",
       "         2., 6., 2., 2., 6., 2., 6., 6., 2., 6., 6., 2., 2., 6., 6., 6., 2.,\n",
       "         2., 6., 6., 6., 2., 2., 2., 6., 6., 6., 2., 2., 2., 2., 2., 6., 6.,\n",
       "         2., 2., 2., 6., 2., 6., 2., 6., 2., 2., 2., 6., 2., 6., 6., 2., 6.,\n",
       "         6., 6., 2., 6., 2., 2., 2., 6., 6., 2., 6., 2., 2., 6., 2., 2., 2.,\n",
       "         2., 6., 6., 2., 6., 6., 2., 2., 2., 2., 6., 6., 6., 2., 6., 6., 6.,\n",
       "         6., 6., 6., 2., 2., 2., 2., 6., 2., 2., 6., 2., 6., 2., 2., 6., 2.,\n",
       "         6., 6., 6., 2., 6., 2., 2., 6., 2., 2., 2., 2., 2., 6., 6., 6., 6.,\n",
       "         6., 2., 6., 6., 6., 2., 2., 6., 6., 6., 6., 2., 2., 2., 6., 6., 2.,\n",
       "         2., 6., 2., 6., 2., 6., 2., 2., 6., 6., 6., 6., 2., 2., 6., 2., 6.,\n",
       "         6., 2., 6., 2., 6., 2., 6., 2., 2., 6., 6., 2., 6., 2., 6., 6., 2.,\n",
       "         2., 6., 6., 6., 6., 2., 2., 6., 6., 6., 2., 2., 6., 2., 2., 2., 6.,\n",
       "         6., 6., 6., 6., 2., 6., 6., 6., 2., 2., 2., 6., 6., 2., 2., 6., 6.,\n",
       "         2., 6., 6., 6., 6., 6., 6., 2., 2., 6., 2., 6., 6., 2., 2., 2., 6.,\n",
       "         6., 2., 6., 2., 6., 6., 2., 2., 2., 2., 6., 2., 2., 6., 6., 6., 2.,\n",
       "         6., 6., 6., 2., 6., 6., 2., 6., 2., 6., 2., 6., 2., 2., 6., 2., 2.,\n",
       "         6., 6., 6., 2., 6., 6., 6., 2., 2., 2., 6., 2., 2., 2., 2., 2., 2.,\n",
       "         6., 2., 6., 6., 2., 2., 6., 2., 2., 2., 6., 6., 2., 6., 6., 2., 2.,\n",
       "         2., 2., 6., 6., 2., 2., 6., 2., 6., 6., 2., 6., 6., 6., 6., 2., 2.,\n",
       "         2., 2., 6., 6., 6., 6., 2., 2., 6., 6., 6., 6., 6., 2., 6., 2., 2.,\n",
       "         2., 2., 2., 2., 6., 6., 6., 2., 6., 2., 6., 2., 6., 6., 2., 6., 6.,\n",
       "         6., 2., 2., 6., 6., 6., 2., 6., 2., 2., 2., 2., 6., 2., 6., 2., 6.,\n",
       "         2., 6., 2., 2., 2., 6., 2., 6., 6., 6., 6., 2., 6., 6., 2., 6., 6.,\n",
       "         6., 2., 6., 6., 6., 6., 2., 2., 6., 2., 6., 6., 6., 2., 2., 2., 6.,\n",
       "         6., 6., 2., 2., 6., 6., 2., 2., 6., 2., 2., 6., 6., 6., 6., 2., 6.,\n",
       "         2., 6., 6., 6., 6., 2., 2., 6., 6., 2., 2., 2., 6., 2., 2., 2., 2.,\n",
       "         6., 6., 2., 2., 2., 6., 2., 6., 6., 6., 2., 6., 2., 6., 6., 2., 2.,\n",
       "         2., 6., 2., 2., 6., 2., 6., 2., 2., 6., 2., 2., 6., 6., 6., 2., 6.,\n",
       "         2., 6., 6., 2., 2., 6., 2., 2., 2., 6., 2., 6., 2., 6., 6., 2., 2.,\n",
       "         6., 2., 2., 6., 2., 2., 6., 6., 2., 6., 6., 6., 2., 6., 6., 2., 6.,\n",
       "         6., 2., 6., 2., 6., 2., 6., 2., 2., 2., 2., 6., 2., 2., 6., 2., 6.,\n",
       "         2., 6., 6., 2., 6., 6., 2., 2., 6., 2., 2., 2., 6., 6., 6., 2., 2.,\n",
       "         6., 2., 6., 6., 6., 6., 6., 2., 6., 2., 2., 2., 2., 2., 6., 6., 6.,\n",
       "         2., 6., 6., 2., 6., 2., 2., 6., 2., 2., 2., 2., 2., 6., 2., 2., 6.,\n",
       "         2., 6., 2., 6., 6., 2., 6., 2., 2., 2., 6., 6., 6., 2., 6., 6., 2.,\n",
       "         6., 2., 2., 2., 6., 2., 2., 6., 2., 2., 2., 6., 2., 2., 2., 6., 6.,\n",
       "         6., 2., 6., 6., 6., 6., 6., 6., 2., 2., 2., 6., 2., 6., 6., 2., 2.,\n",
       "         6., 2., 2., 6., 2., 6., 2., 2., 6., 2., 6., 2., 6., 2., 6., 2., 2.,\n",
       "         2., 2., 2., 2., 2., 2., 2., 2., 2., 6., 6., 2., 6., 2., 2., 6., 2.,\n",
       "         6., 6., 6., 2., 2., 2., 2., 2., 6., 2., 6., 6., 2., 2., 2., 6., 6.,\n",
       "         2., 6., 6., 2., 6., 6., 6., 2., 2., 6., 6., 6., 6., 6., 2., 6., 2.,\n",
       "         2., 2., 2., 6., 2., 2., 2., 2., 2., 6., 6., 6., 6., 6., 2., 6., 6.,\n",
       "         6., 2., 6., 2., 6., 6., 2., 2., 2., 6., 2., 6., 6., 2., 6., 2., 2.,\n",
       "         6., 2., 6., 2., 2., 2., 2., 2., 2., 2., 6., 2., 2., 2., 2., 6., 2.,\n",
       "         2., 2., 6., 6., 2., 6., 6., 2., 2., 6., 2., 6., 6., 6., 6., 6., 2.,\n",
       "         6., 2., 2., 2., 2., 2., 2., 2., 6., 2., 6., 6., 6., 2., 6., 6., 2.,\n",
       "         6., 2., 6., 6., 6., 2., 2., 6., 6., 2., 2., 2., 6., 6., 2., 6., 6.,\n",
       "         6., 6., 2., 2., 2., 6., 2., 2., 6., 2., 6., 2., 6., 2., 6., 6., 6.,\n",
       "         6., 2., 2., 6., 2., 6., 2., 2., 2., 2., 2., 6., 6., 2., 6., 2., 2.,\n",
       "         6., 2., 2., 2., 2., 6., 2., 6., 6., 6., 2., 2., 6., 2.])},\n",
       " {'name': '2_7',\n",
       "  'train_acc': 1.0,\n",
       "  'val_acc': 0.992,\n",
       "  'test_acc': 0.999,\n",
       "  'train_time': 2.680875062942505,\n",
       "  'train_pred': array([7., 7., 2., ..., 2., 7., 7.]),\n",
       "  'val_pred': array([2., 7., 2., 7., 2., 7., 2., 2., 7., 7., 7., 7., 2., 7., 7., 7., 7.,\n",
       "         7., 2., 2., 7., 7., 7., 2., 2., 7., 2., 7., 2., 7., 2., 2., 2., 7.,\n",
       "         2., 2., 2., 7., 2., 2., 7., 2., 7., 7., 7., 7., 2., 2., 7., 2., 7.,\n",
       "         7., 2., 7., 2., 2., 2., 2., 2., 2., 7., 2., 2., 7., 2., 7., 7., 7.,\n",
       "         2., 2., 2., 2., 7., 7., 7., 2., 2., 2., 7., 7., 7., 7., 7., 2., 7.,\n",
       "         2., 2., 7., 7., 7., 7., 7., 2., 7., 2., 2., 2., 7., 7., 2., 7., 7.,\n",
       "         2., 7., 7., 2., 2., 7., 2., 2., 7., 2., 7., 2., 2., 7., 7., 7., 2.,\n",
       "         2., 7., 7., 2., 7., 7., 7., 2., 7., 2., 2., 2., 2., 2., 7., 7., 7.,\n",
       "         7., 7., 2., 2., 2., 2., 7., 7., 7., 2., 2., 2., 2., 7., 2., 7., 2.,\n",
       "         7., 2., 7., 7., 2., 7., 2., 7., 7., 7., 2., 7., 7., 2., 7., 2., 2.,\n",
       "         2., 7., 7., 7., 2., 2., 2., 2., 2., 7., 7., 2., 7., 2., 2., 2., 2.,\n",
       "         7., 7., 7., 2., 2., 2., 7., 7., 7., 2., 2., 2., 2., 2., 2., 2., 7.,\n",
       "         7., 2., 2., 7., 2., 2., 7., 2., 2., 7., 7., 2., 2., 7., 7., 7., 2.,\n",
       "         7., 2., 7., 7., 7., 7., 2., 7., 7., 2., 7., 7., 2., 2., 2., 2., 2.,\n",
       "         2., 7., 2., 7., 2., 7., 2., 7., 7., 2., 2., 7., 2., 7., 2., 2., 7.,\n",
       "         2., 2., 2., 7., 7., 2., 2., 2., 2., 7., 2., 2., 2., 2., 7., 7., 7.,\n",
       "         7., 2., 2., 2., 2., 7., 2., 2., 2., 2., 2., 2., 7., 7., 7., 7., 2.,\n",
       "         7., 7., 2., 2., 7., 2., 2., 7., 7., 2., 7., 2., 2., 2., 2., 7., 7.,\n",
       "         2., 7., 2., 7., 2., 2., 2., 2., 2., 7., 2., 7., 2., 7., 2., 7., 2.,\n",
       "         2., 7., 7., 2., 2., 2., 7., 7., 7., 2., 2., 2., 2., 2., 2., 2., 2.,\n",
       "         2., 2., 7., 2., 2., 7., 7., 2., 7., 2., 7., 7., 2., 2., 7., 2., 7.,\n",
       "         7., 7., 2., 2., 2., 7., 2., 2., 7., 2., 2., 7., 7., 7., 2., 7., 2.,\n",
       "         7., 7., 2., 7., 7., 2., 7., 2., 7., 7., 2., 2., 7., 2., 7., 2., 2.,\n",
       "         2., 7., 7., 7., 2., 2., 7., 2., 7., 7., 7., 7., 2., 2., 2., 7., 2.,\n",
       "         7., 7., 7., 2., 2., 7., 7., 2., 2., 7., 2., 7., 7., 2., 7., 7., 7.,\n",
       "         7., 2., 2., 2., 2., 7., 7., 2., 7., 7., 7., 2., 2., 2., 7., 7., 2.,\n",
       "         7., 7., 2., 2., 2., 7., 2., 7., 7., 2., 7., 7., 2., 7., 7., 7., 7.,\n",
       "         7., 7., 7., 7., 7., 7., 7., 7., 2., 2., 7., 2., 2., 2., 2., 7., 7.,\n",
       "         7., 2., 2., 7., 7., 7., 7., 7., 7., 7., 2., 2., 7., 7., 2., 2., 2.,\n",
       "         7., 2., 7., 7., 7., 7., 2.]),\n",
       "  'test_pred': array([2., 7., 7., 2., 2., 2., 7., 7., 7., 7., 2., 7., 7., 2., 7., 2., 2.,\n",
       "         2., 2., 7., 7., 2., 7., 2., 2., 2., 7., 2., 2., 2., 2., 2., 7., 2.,\n",
       "         2., 2., 7., 7., 2., 7., 7., 7., 7., 2., 7., 2., 7., 7., 7., 2., 2.,\n",
       "         7., 2., 2., 2., 7., 7., 7., 7., 2., 2., 2., 2., 2., 2., 2., 7., 2.,\n",
       "         7., 2., 2., 2., 2., 7., 7., 2., 2., 2., 2., 2., 2., 2., 7., 2., 2.,\n",
       "         2., 7., 7., 7., 7., 7., 7., 2., 2., 2., 7., 7., 7., 7., 2., 2., 2.,\n",
       "         7., 2., 7., 7., 2., 2., 7., 2., 2., 2., 7., 2., 7., 2., 7., 2., 7.,\n",
       "         2., 2., 7., 7., 7., 7., 2., 7., 7., 2., 2., 2., 2., 2., 2., 2., 2.,\n",
       "         2., 7., 7., 7., 2., 7., 2., 2., 2., 7., 2., 7., 7., 2., 7., 2., 7.,\n",
       "         2., 2., 7., 2., 2., 7., 2., 2., 2., 7., 2., 7., 2., 2., 7., 2., 7.,\n",
       "         7., 2., 7., 7., 7., 2., 2., 2., 7., 2., 2., 7., 7., 2., 2., 2., 7.,\n",
       "         2., 2., 7., 2., 2., 2., 7., 7., 2., 7., 2., 2., 7., 2., 7., 7., 2.,\n",
       "         7., 7., 7., 2., 7., 7., 2., 7., 2., 2., 2., 7., 7., 2., 2., 7., 7.,\n",
       "         7., 2., 2., 7., 2., 7., 2., 2., 2., 7., 7., 7., 2., 2., 7., 7., 7.,\n",
       "         2., 2., 7., 2., 7., 7., 7., 7., 2., 7., 7., 7., 2., 2., 2., 7., 2.,\n",
       "         2., 7., 2., 7., 7., 7., 2., 7., 2., 7., 7., 7., 2., 2., 7., 7., 7.,\n",
       "         7., 7., 7., 2., 2., 7., 2., 2., 7., 2., 7., 2., 7., 7., 7., 7., 7.,\n",
       "         7., 7., 7., 7., 7., 2., 7., 2., 2., 7., 7., 7., 7., 2., 7., 7., 2.,\n",
       "         2., 2., 2., 7., 7., 2., 2., 7., 7., 2., 2., 7., 2., 7., 2., 7., 7.,\n",
       "         7., 2., 2., 2., 2., 7., 2., 2., 7., 7., 7., 2., 2., 7., 2., 7., 2.,\n",
       "         7., 2., 7., 7., 7., 2., 7., 2., 7., 7., 2., 2., 7., 2., 7., 2., 2.,\n",
       "         2., 2., 2., 7., 2., 7., 7., 7., 2., 7., 2., 2., 2., 7., 7., 7., 7.,\n",
       "         2., 7., 2., 7., 2., 7., 7., 7., 7., 2., 2., 2., 2., 2., 7., 7., 7.,\n",
       "         7., 2., 7., 7., 7., 7., 7., 7., 2., 2., 2., 2., 2., 7., 7., 2., 7.,\n",
       "         7., 7., 7., 7., 7., 7., 2., 7., 2., 7., 7., 7., 2., 2., 7., 7., 7.,\n",
       "         2., 7., 7., 2., 2., 2., 7., 2., 7., 2., 7., 2., 2., 2., 2., 7., 2.,\n",
       "         2., 7., 2., 7., 2., 7., 2., 7., 7., 2., 2., 7., 7., 2., 7., 2., 7.,\n",
       "         7., 7., 2., 7., 2., 2., 7., 7., 2., 7., 2., 2., 7., 7., 2., 7., 7.,\n",
       "         7., 2., 7., 2., 7., 7., 7., 2., 2., 2., 7., 7., 2., 2., 2., 7., 7.,\n",
       "         2., 7., 2., 2., 2., 7., 2., 2., 2., 2., 7., 2., 7., 7., 7., 7., 2.,\n",
       "         2., 7., 7., 2., 2., 7., 2., 2., 2., 2., 7., 2., 7., 2., 2., 7., 7.,\n",
       "         2., 7., 7., 2., 7., 2., 7., 2., 2., 7., 7., 2., 2., 2., 7., 2., 7.,\n",
       "         7., 7., 7., 7., 2., 2., 7., 7., 2., 2., 7., 2., 2., 2., 2., 7., 2.,\n",
       "         2., 7., 2., 2., 2., 7., 7., 7., 7., 7., 2., 2., 7., 7., 2., 7., 2.,\n",
       "         7., 7., 7., 7., 7., 2., 2., 2., 2., 7., 2., 2., 2., 7., 2., 7., 2.,\n",
       "         2., 7., 7., 7., 7., 7., 2., 7., 2., 2., 7., 7., 7., 2., 2., 2., 7.,\n",
       "         7., 7., 7., 2., 2., 7., 7., 7., 7., 7., 7., 2., 2., 2., 2., 2., 7.,\n",
       "         7., 7., 7., 7., 7., 7., 2., 2., 7., 7., 2., 7., 7., 2., 7., 7., 7.,\n",
       "         2., 7., 2., 7., 7., 7., 2., 7., 2., 2., 7., 7., 7., 7., 2., 7., 7.,\n",
       "         7., 2., 7., 7., 2., 2., 7., 7., 2., 2., 2., 2., 7., 2., 2., 7., 2.,\n",
       "         2., 7., 7., 2., 2., 2., 7., 2., 7., 7., 2., 2., 2., 7., 7., 2., 2.,\n",
       "         2., 7., 7., 7., 7., 7., 2., 7., 7., 7., 7., 2., 2., 2., 2., 2., 7.,\n",
       "         2., 2., 2., 2., 7., 2., 7., 2., 7., 2., 2., 2., 2., 7., 2., 7., 7.,\n",
       "         7., 2., 7., 2., 7., 2., 7., 7., 2., 7., 2., 7., 7., 2., 2., 2., 2.,\n",
       "         7., 7., 2., 7., 2., 2., 2., 2., 2., 7., 7., 2., 7., 7., 7., 7., 7.,\n",
       "         7., 2., 7., 7., 2., 7., 7., 7., 2., 2., 2., 2., 2., 7., 7., 2., 2.,\n",
       "         2., 2., 2., 7., 2., 7., 7., 2., 7., 7., 2., 7., 2., 2., 2., 7., 2.,\n",
       "         7., 7., 7., 2., 2., 2., 7., 2., 2., 7., 7., 2., 7., 2., 7., 7., 7.,\n",
       "         7., 2., 2., 2., 2., 7., 7., 7., 2., 2., 2., 7., 2., 7., 2., 7., 7.,\n",
       "         2., 7., 7., 2., 7., 2., 7., 2., 7., 2., 7., 2., 7., 2., 2., 7., 2.,\n",
       "         7., 7., 2., 2., 2., 2., 7., 7., 2., 2., 7., 2., 2., 7., 2., 7., 7.,\n",
       "         7., 2., 7., 2., 2., 7., 2., 2., 7., 2., 7., 7., 2., 7., 2., 7., 7.,\n",
       "         2., 7., 7., 2., 7., 2., 2., 7., 2., 2., 7., 2., 7., 7., 2., 2., 2.,\n",
       "         7., 7., 7., 2., 7., 2., 7., 2., 7., 2., 7., 2., 7., 2., 7., 7., 2.,\n",
       "         2., 2., 7., 7., 7., 2., 7., 2., 7., 7., 2., 2., 2., 7., 2., 2., 2.,\n",
       "         7., 2., 7., 7., 7., 7., 2., 7., 7., 7., 7., 2., 2., 7., 7., 7., 2.,\n",
       "         2., 7., 2., 7., 2., 2., 7., 2., 2., 2., 2., 2., 7., 2., 2., 2., 7.,\n",
       "         2., 2., 7., 7., 7., 2., 2., 7., 2., 2., 7., 2., 2., 2., 7., 2., 2.,\n",
       "         2., 2., 2., 7., 2., 2., 7., 7., 7., 7., 7., 2., 2., 2.])},\n",
       " {'name': '2_8',\n",
       "  'train_acc': 0.9995555555555555,\n",
       "  'val_acc': 0.976,\n",
       "  'test_acc': 0.986,\n",
       "  'train_time': 5.965218782424927,\n",
       "  'train_pred': array([8., 2., 2., ..., 8., 8., 8.]),\n",
       "  'val_pred': array([2., 8., 2., 8., 2., 8., 8., 8., 2., 2., 8., 8., 2., 8., 8., 2., 2.,\n",
       "         8., 8., 8., 8., 2., 8., 2., 8., 2., 8., 2., 8., 2., 8., 2., 8., 8.,\n",
       "         8., 2., 2., 2., 2., 2., 2., 8., 8., 8., 8., 2., 2., 8., 2., 2., 2.,\n",
       "         2., 2., 2., 2., 8., 2., 8., 2., 8., 8., 2., 2., 8., 8., 8., 2., 2.,\n",
       "         2., 8., 8., 8., 8., 8., 8., 2., 2., 2., 2., 8., 8., 8., 8., 8., 8.,\n",
       "         2., 8., 8., 8., 2., 8., 2., 8., 8., 8., 2., 8., 2., 2., 8., 8., 8.,\n",
       "         2., 8., 2., 2., 8., 8., 8., 2., 8., 2., 8., 8., 8., 2., 8., 8., 8.,\n",
       "         8., 8., 2., 8., 2., 2., 8., 8., 2., 8., 2., 8., 2., 2., 2., 2., 2.,\n",
       "         8., 8., 8., 2., 2., 2., 2., 2., 8., 2., 8., 2., 2., 8., 2., 2., 8.,\n",
       "         2., 2., 8., 8., 2., 8., 2., 8., 2., 8., 2., 2., 8., 2., 8., 8., 8.,\n",
       "         8., 8., 2., 2., 2., 8., 2., 2., 2., 8., 2., 2., 2., 8., 8., 8., 2.,\n",
       "         2., 2., 8., 2., 2., 2., 2., 8., 2., 2., 2., 8., 2., 8., 2., 2., 2.,\n",
       "         8., 8., 2., 2., 2., 2., 8., 8., 2., 8., 2., 8., 2., 8., 8., 8., 2.,\n",
       "         2., 2., 2., 2., 2., 2., 2., 2., 2., 8., 8., 8., 8., 2., 2., 2., 8.,\n",
       "         2., 8., 8., 8., 8., 2., 8., 8., 2., 2., 2., 8., 2., 8., 8., 2., 2.,\n",
       "         2., 2., 8., 8., 8., 8., 8., 8., 8., 2., 2., 2., 2., 8., 8., 8., 8.,\n",
       "         8., 2., 2., 2., 8., 8., 2., 8., 8., 2., 8., 2., 2., 8., 2., 2., 8.,\n",
       "         8., 8., 2., 8., 2., 2., 8., 8., 2., 2., 2., 2., 8., 2., 8., 2., 8.,\n",
       "         2., 8., 8., 2., 8., 8., 8., 8., 8., 8., 8., 2., 2., 2., 2., 2., 8.,\n",
       "         2., 8., 8., 2., 2., 8., 8., 8., 8., 2., 2., 8., 2., 2., 8., 8., 8.,\n",
       "         8., 8., 8., 8., 8., 2., 8., 2., 8., 2., 2., 8., 2., 8., 2., 2., 8.,\n",
       "         2., 8., 8., 8., 8., 2., 8., 2., 2., 8., 2., 2., 2., 2., 8., 8., 8.,\n",
       "         2., 8., 2., 2., 2., 2., 8., 2., 2., 2., 2., 8., 8., 2., 8., 2., 8.,\n",
       "         8., 2., 2., 8., 8., 2., 2., 8., 2., 8., 2., 2., 2., 8., 8., 2., 8.,\n",
       "         8., 2., 8., 2., 8., 8., 8., 8., 8., 8., 8., 2., 2., 8., 8., 2., 8.,\n",
       "         2., 8., 2., 2., 2., 8., 8., 8., 2., 8., 8., 8., 8., 2., 8., 2., 8.,\n",
       "         8., 8., 2., 8., 2., 2., 8., 2., 8., 2., 2., 8., 2., 8., 2., 2., 2.,\n",
       "         8., 2., 8., 2., 8., 8., 8., 2., 8., 8., 8., 2., 8., 2., 8., 8., 2.,\n",
       "         2., 2., 8., 8., 8., 2., 2., 8., 2., 8., 8., 8., 2., 2., 8., 2., 8.,\n",
       "         2., 8., 2., 8., 2., 8., 2.]),\n",
       "  'test_pred': array([2., 2., 2., 8., 2., 8., 8., 8., 8., 8., 2., 8., 2., 2., 2., 8., 2.,\n",
       "         2., 8., 8., 8., 2., 2., 2., 8., 2., 8., 2., 2., 2., 2., 8., 8., 2.,\n",
       "         2., 2., 8., 8., 2., 8., 2., 8., 2., 8., 8., 2., 8., 8., 2., 8., 2.,\n",
       "         8., 8., 2., 8., 2., 2., 2., 2., 2., 2., 2., 8., 8., 2., 8., 2., 8.,\n",
       "         8., 8., 2., 2., 2., 2., 8., 8., 8., 8., 2., 8., 8., 2., 2., 8., 2.,\n",
       "         2., 2., 2., 8., 8., 2., 8., 8., 2., 2., 8., 8., 8., 2., 8., 2., 2.,\n",
       "         8., 8., 8., 8., 8., 2., 2., 2., 8., 8., 2., 2., 2., 8., 8., 2., 8.,\n",
       "         2., 2., 2., 8., 2., 8., 2., 8., 8., 2., 2., 2., 8., 2., 8., 8., 2.,\n",
       "         8., 2., 2., 2., 2., 2., 2., 8., 8., 2., 8., 8., 2., 2., 2., 2., 2.,\n",
       "         8., 2., 8., 2., 2., 2., 2., 8., 2., 2., 8., 2., 8., 2., 2., 8., 8.,\n",
       "         2., 2., 8., 8., 2., 8., 8., 8., 8., 2., 2., 2., 8., 8., 8., 2., 8.,\n",
       "         8., 8., 2., 8., 8., 2., 2., 2., 2., 8., 8., 2., 2., 2., 2., 8., 2.,\n",
       "         2., 2., 2., 8., 8., 8., 2., 8., 8., 8., 8., 8., 2., 2., 8., 2., 2.,\n",
       "         8., 2., 2., 2., 8., 8., 2., 2., 8., 2., 2., 2., 8., 8., 2., 2., 2.,\n",
       "         8., 2., 2., 8., 8., 2., 8., 8., 8., 8., 8., 8., 8., 2., 2., 2., 8.,\n",
       "         2., 8., 8., 2., 8., 8., 2., 8., 2., 2., 8., 8., 2., 2., 8., 8., 8.,\n",
       "         8., 8., 8., 8., 8., 8., 8., 8., 8., 8., 2., 2., 2., 2., 8., 2., 2.,\n",
       "         8., 8., 8., 8., 8., 8., 2., 2., 2., 8., 8., 8., 8., 8., 2., 2., 2.,\n",
       "         8., 2., 2., 2., 2., 2., 2., 2., 8., 2., 2., 2., 2., 2., 8., 8., 2.,\n",
       "         2., 8., 8., 8., 2., 2., 2., 8., 2., 8., 2., 8., 2., 8., 2., 8., 2.,\n",
       "         8., 2., 2., 8., 2., 2., 8., 8., 2., 2., 2., 2., 8., 8., 8., 2., 2.,\n",
       "         2., 2., 8., 8., 8., 8., 8., 8., 8., 8., 2., 8., 2., 8., 8., 8., 2.,\n",
       "         8., 2., 2., 2., 8., 8., 8., 8., 2., 2., 8., 2., 8., 8., 8., 8., 8.,\n",
       "         8., 2., 8., 8., 2., 2., 2., 8., 8., 2., 2., 8., 8., 2., 8., 8., 8.,\n",
       "         2., 8., 8., 2., 8., 8., 8., 2., 8., 8., 8., 2., 2., 8., 2., 2., 2.,\n",
       "         2., 8., 8., 2., 8., 8., 2., 8., 2., 8., 2., 2., 8., 2., 8., 8., 2.,\n",
       "         2., 2., 8., 2., 8., 8., 2., 2., 8., 2., 2., 8., 8., 8., 2., 2., 8.,\n",
       "         8., 8., 2., 2., 8., 8., 2., 8., 2., 2., 8., 8., 8., 2., 8., 8., 2.,\n",
       "         2., 8., 2., 2., 8., 8., 2., 2., 2., 8., 8., 8., 2., 2., 2., 2., 2.,\n",
       "         2., 8., 8., 8., 2., 8., 8., 2., 2., 8., 2., 2., 8., 2., 8., 8., 2.,\n",
       "         8., 8., 2., 2., 8., 2., 8., 2., 2., 2., 2., 8., 2., 2., 2., 8., 8.,\n",
       "         8., 2., 8., 8., 2., 8., 8., 8., 8., 2., 8., 8., 8., 2., 8., 2., 2.,\n",
       "         8., 2., 2., 2., 2., 8., 8., 8., 8., 8., 2., 2., 8., 2., 8., 2., 2.,\n",
       "         8., 2., 8., 8., 8., 8., 8., 2., 8., 2., 8., 8., 2., 8., 2., 8., 2.,\n",
       "         2., 2., 8., 2., 2., 2., 8., 2., 2., 8., 8., 2., 2., 8., 8., 8., 2.,\n",
       "         8., 2., 2., 8., 8., 8., 8., 2., 8., 8., 8., 8., 2., 8., 8., 8., 8.,\n",
       "         8., 8., 8., 8., 8., 2., 2., 8., 8., 8., 2., 2., 2., 2., 8., 2., 8.,\n",
       "         8., 8., 8., 8., 2., 8., 2., 8., 8., 8., 2., 8., 8., 8., 8., 2., 2.,\n",
       "         8., 8., 8., 2., 2., 2., 8., 8., 8., 8., 2., 8., 2., 2., 2., 8., 8.,\n",
       "         8., 8., 2., 8., 2., 2., 2., 2., 8., 2., 2., 8., 2., 2., 8., 8., 8.,\n",
       "         2., 2., 8., 8., 8., 2., 2., 8., 2., 2., 2., 2., 8., 8., 8., 8., 8.,\n",
       "         8., 8., 8., 8., 8., 8., 2., 2., 2., 2., 2., 8., 2., 8., 8., 2., 8.,\n",
       "         2., 8., 2., 8., 2., 2., 8., 8., 2., 2., 2., 2., 8., 8., 2., 8., 8.,\n",
       "         2., 8., 8., 8., 8., 2., 2., 8., 2., 8., 8., 8., 8., 2., 2., 2., 2.,\n",
       "         2., 8., 2., 8., 2., 2., 2., 2., 2., 8., 8., 8., 2., 8., 8., 8., 8.,\n",
       "         8., 8., 8., 8., 8., 2., 2., 8., 8., 8., 8., 8., 2., 2., 8., 8., 2.,\n",
       "         2., 8., 2., 2., 2., 8., 2., 8., 8., 2., 2., 8., 2., 8., 2., 8., 2.,\n",
       "         8., 2., 8., 2., 8., 2., 2., 8., 8., 2., 2., 8., 2., 2., 2., 8., 2.,\n",
       "         2., 8., 2., 2., 8., 8., 8., 2., 2., 2., 2., 8., 2., 8., 2., 2., 2.,\n",
       "         2., 8., 2., 8., 8., 8., 2., 8., 8., 8., 2., 8., 2., 2., 2., 8., 2.,\n",
       "         2., 2., 2., 8., 8., 8., 2., 2., 2., 8., 2., 2., 2., 8., 8., 2., 2.,\n",
       "         2., 2., 2., 2., 8., 8., 2., 2., 2., 8., 2., 8., 2., 2., 2., 8., 2.,\n",
       "         8., 2., 2., 2., 2., 2., 8., 8., 8., 8., 8., 8., 2., 2., 8., 2., 2.,\n",
       "         2., 2., 2., 2., 8., 8., 2., 8., 2., 8., 8., 2., 2., 8., 2., 8., 2.,\n",
       "         8., 2., 8., 2., 8., 8., 2., 8., 8., 8., 8., 2., 8., 8., 8., 8., 2.,\n",
       "         8., 2., 8., 2., 8., 2., 8., 2., 2., 2., 8., 2., 2., 2., 2., 8., 8.,\n",
       "         2., 8., 2., 2., 2., 8., 2., 2., 8., 8., 8., 2., 8., 8., 2., 8., 2.,\n",
       "         2., 2., 2., 2., 8., 8., 8., 2., 8., 8., 8., 8., 8., 2., 8., 8., 2.,\n",
       "         2., 8., 2., 8., 2., 2., 8., 8., 8., 8., 8., 2., 2., 2.])},\n",
       " {'name': '2_9',\n",
       "  'train_acc': 1.0,\n",
       "  'val_acc': 1.0,\n",
       "  'test_acc': 0.999,\n",
       "  'train_time': 3.7808797359466553,\n",
       "  'train_pred': array([9., 2., 2., ..., 9., 2., 2.]),\n",
       "  'val_pred': array([2., 9., 9., 9., 2., 2., 9., 2., 9., 2., 9., 9., 9., 2., 9., 9., 2.,\n",
       "         2., 9., 9., 9., 9., 9., 2., 9., 9., 2., 9., 2., 2., 2., 9., 9., 2.,\n",
       "         2., 9., 2., 2., 9., 9., 2., 9., 2., 9., 2., 2., 9., 9., 9., 2., 2.,\n",
       "         9., 9., 2., 9., 2., 2., 9., 2., 2., 2., 2., 2., 9., 9., 2., 9., 2.,\n",
       "         2., 9., 2., 2., 9., 9., 9., 2., 9., 9., 9., 2., 9., 2., 2., 9., 2.,\n",
       "         9., 9., 9., 2., 2., 9., 9., 2., 9., 2., 9., 9., 9., 2., 2., 9., 9.,\n",
       "         2., 9., 9., 2., 2., 2., 9., 9., 2., 2., 9., 9., 2., 9., 2., 9., 2.,\n",
       "         2., 2., 9., 2., 9., 9., 9., 2., 9., 9., 9., 2., 2., 9., 2., 2., 9.,\n",
       "         2., 9., 9., 9., 9., 2., 2., 2., 2., 9., 9., 9., 2., 9., 9., 2., 9.,\n",
       "         2., 9., 2., 2., 9., 2., 2., 2., 2., 2., 9., 2., 9., 2., 9., 2., 9.,\n",
       "         9., 9., 9., 2., 2., 9., 9., 2., 9., 2., 9., 2., 2., 9., 9., 2., 2.,\n",
       "         2., 2., 9., 9., 2., 2., 2., 9., 9., 2., 2., 2., 9., 2., 9., 2., 2.,\n",
       "         2., 2., 9., 9., 9., 2., 2., 2., 2., 2., 9., 2., 2., 2., 2., 2., 9.,\n",
       "         2., 2., 2., 2., 2., 2., 2., 9., 9., 2., 2., 9., 9., 9., 2., 9., 9.,\n",
       "         9., 2., 2., 2., 9., 9., 2., 2., 9., 9., 9., 2., 2., 2., 2., 9., 2.,\n",
       "         2., 2., 9., 9., 2., 2., 2., 2., 9., 9., 9., 2., 2., 2., 9., 2., 9.,\n",
       "         2., 2., 9., 2., 2., 9., 2., 9., 9., 9., 2., 9., 2., 9., 2., 2., 2.,\n",
       "         2., 9., 9., 9., 9., 2., 2., 9., 2., 9., 9., 2., 2., 9., 9., 2., 2.,\n",
       "         9., 9., 9., 9., 2., 2., 2., 2., 2., 2., 9., 2., 2., 2., 9., 9., 9.,\n",
       "         2., 9., 9., 2., 2., 9., 9., 9., 9., 9., 9., 2., 9., 9., 2., 2., 2.,\n",
       "         2., 9., 2., 2., 2., 2., 9., 9., 2., 9., 9., 2., 9., 2., 9., 9., 2.,\n",
       "         9., 2., 9., 9., 2., 2., 9., 9., 9., 2., 9., 2., 2., 9., 2., 9., 2.,\n",
       "         2., 2., 2., 9., 2., 9., 2., 9., 2., 9., 9., 9., 2., 2., 2., 2., 2.,\n",
       "         9., 2., 2., 9., 2., 9., 9., 9., 2., 9., 2., 2., 9., 9., 9., 9., 9.,\n",
       "         2., 9., 9., 9., 2., 2., 2., 9., 9., 2., 9., 2., 9., 2., 2., 9., 9.,\n",
       "         2., 9., 9., 9., 9., 9., 9., 2., 2., 9., 9., 9., 2., 2., 9., 2., 9.,\n",
       "         9., 9., 2., 9., 9., 2., 9., 2., 2., 9., 9., 9., 2., 9., 2., 2., 2.,\n",
       "         2., 9., 9., 9., 9., 2., 9., 9., 9., 9., 2., 9., 2., 2., 2., 2., 9.,\n",
       "         2., 9., 9., 9., 2., 2., 9., 9., 9., 9., 2., 9., 9., 2., 9., 2., 2.,\n",
       "         2., 9., 2., 9., 9., 9., 2.]),\n",
       "  'test_pred': array([2., 9., 2., 2., 9., 9., 2., 2., 9., 9., 2., 2., 2., 2., 2., 9., 9.,\n",
       "         9., 9., 2., 9., 9., 9., 2., 2., 9., 2., 9., 2., 9., 2., 9., 2., 9.,\n",
       "         2., 9., 9., 2., 9., 9., 9., 2., 2., 2., 9., 2., 9., 9., 9., 9., 9.,\n",
       "         9., 2., 2., 9., 9., 9., 2., 9., 2., 9., 9., 2., 9., 9., 9., 9., 2.,\n",
       "         2., 9., 9., 9., 9., 9., 2., 2., 2., 2., 2., 2., 2., 2., 2., 2., 2.,\n",
       "         2., 2., 2., 2., 2., 2., 2., 2., 9., 2., 9., 2., 9., 9., 9., 2., 9.,\n",
       "         2., 9., 9., 2., 9., 2., 2., 9., 9., 9., 9., 2., 9., 2., 2., 9., 9.,\n",
       "         9., 9., 9., 9., 2., 2., 2., 2., 2., 2., 2., 2., 9., 2., 9., 9., 9.,\n",
       "         9., 9., 9., 9., 9., 2., 2., 9., 9., 2., 9., 9., 9., 2., 9., 2., 9.,\n",
       "         2., 9., 2., 2., 2., 2., 2., 9., 9., 9., 9., 2., 2., 2., 2., 2., 2.,\n",
       "         9., 2., 2., 2., 9., 2., 2., 9., 2., 2., 9., 2., 2., 2., 2., 2., 9.,\n",
       "         2., 9., 9., 9., 9., 2., 2., 2., 9., 9., 9., 2., 2., 9., 2., 2., 2.,\n",
       "         2., 9., 2., 2., 2., 9., 2., 2., 9., 2., 9., 2., 9., 2., 9., 9., 2.,\n",
       "         9., 9., 9., 2., 9., 2., 9., 9., 2., 2., 2., 2., 2., 9., 9., 2., 2.,\n",
       "         9., 2., 2., 2., 2., 9., 9., 9., 2., 2., 9., 9., 2., 2., 9., 2., 2.,\n",
       "         9., 9., 9., 9., 9., 9., 9., 2., 2., 2., 2., 9., 9., 2., 9., 2., 2.,\n",
       "         9., 2., 9., 9., 2., 9., 9., 2., 9., 9., 9., 9., 9., 9., 9., 9., 2.,\n",
       "         2., 2., 2., 2., 2., 9., 9., 9., 2., 9., 9., 2., 9., 2., 9., 2., 2.,\n",
       "         2., 9., 2., 2., 2., 2., 9., 2., 9., 2., 2., 9., 2., 9., 2., 9., 9.,\n",
       "         2., 2., 2., 2., 2., 2., 2., 2., 9., 9., 9., 2., 2., 9., 9., 2., 2.,\n",
       "         2., 2., 2., 9., 2., 2., 2., 2., 2., 2., 9., 9., 2., 9., 9., 9., 9.,\n",
       "         2., 2., 2., 9., 9., 2., 9., 2., 2., 9., 9., 9., 2., 2., 9., 9., 9.,\n",
       "         9., 9., 9., 2., 2., 2., 9., 9., 9., 9., 9., 9., 9., 9., 2., 9., 9.,\n",
       "         9., 9., 9., 9., 9., 9., 2., 2., 9., 2., 9., 9., 2., 2., 9., 9., 2.,\n",
       "         9., 9., 9., 9., 9., 9., 9., 9., 2., 2., 9., 9., 2., 9., 9., 9., 9.,\n",
       "         9., 9., 9., 9., 2., 9., 9., 9., 9., 2., 9., 9., 9., 9., 9., 9., 2.,\n",
       "         2., 2., 2., 9., 9., 2., 9., 2., 2., 2., 2., 2., 9., 2., 2., 9., 2.,\n",
       "         2., 9., 2., 2., 2., 9., 2., 2., 9., 9., 2., 9., 9., 2., 9., 9., 9.,\n",
       "         9., 2., 9., 2., 9., 9., 2., 9., 9., 2., 9., 9., 2., 9., 2., 9., 9.,\n",
       "         2., 2., 2., 2., 9., 9., 2., 9., 2., 9., 2., 2., 2., 9., 2., 2., 2.,\n",
       "         9., 9., 2., 2., 9., 2., 9., 2., 9., 2., 9., 2., 2., 2., 9., 2., 9.,\n",
       "         2., 2., 2., 2., 2., 9., 9., 9., 2., 2., 9., 9., 2., 9., 9., 9., 2.,\n",
       "         9., 9., 2., 9., 2., 2., 2., 2., 9., 9., 2., 2., 9., 2., 2., 2., 2.,\n",
       "         9., 2., 2., 9., 2., 9., 2., 2., 9., 9., 9., 2., 9., 2., 9., 9., 9.,\n",
       "         9., 9., 9., 2., 2., 9., 9., 9., 2., 2., 9., 2., 9., 2., 2., 2., 2.,\n",
       "         2., 9., 9., 9., 9., 2., 2., 9., 9., 2., 9., 9., 2., 9., 2., 9., 9.,\n",
       "         2., 2., 2., 9., 2., 9., 2., 9., 9., 9., 9., 2., 2., 9., 9., 9., 2.,\n",
       "         2., 2., 2., 2., 9., 9., 9., 9., 2., 2., 9., 2., 9., 9., 2., 9., 9.,\n",
       "         9., 9., 2., 2., 9., 2., 9., 9., 2., 2., 9., 9., 9., 2., 2., 9., 2.,\n",
       "         9., 2., 9., 9., 2., 9., 2., 2., 9., 2., 2., 2., 2., 2., 9., 9., 9.,\n",
       "         2., 9., 9., 2., 9., 9., 9., 2., 2., 9., 9., 9., 9., 2., 2., 2., 9.,\n",
       "         9., 2., 9., 2., 2., 9., 9., 9., 9., 9., 9., 2., 9., 9., 9., 2., 2.,\n",
       "         9., 9., 2., 9., 2., 2., 9., 9., 9., 2., 2., 2., 9., 2., 2., 2., 2.,\n",
       "         2., 2., 2., 2., 9., 9., 2., 9., 9., 2., 2., 2., 9., 9., 2., 2., 9.,\n",
       "         2., 2., 2., 2., 2., 9., 2., 9., 2., 2., 2., 9., 9., 2., 9., 9., 2.,\n",
       "         2., 9., 9., 2., 2., 2., 2., 2., 2., 2., 2., 9., 9., 2., 2., 2., 9.,\n",
       "         9., 9., 9., 9., 9., 2., 9., 2., 2., 2., 2., 9., 9., 9., 9., 2., 9.,\n",
       "         9., 9., 2., 2., 2., 2., 9., 2., 9., 9., 9., 2., 9., 2., 9., 9., 2.,\n",
       "         2., 9., 2., 2., 9., 2., 2., 2., 9., 2., 9., 2., 9., 2., 9., 2., 2.,\n",
       "         9., 9., 2., 9., 9., 2., 2., 9., 9., 2., 9., 2., 9., 2., 2., 2., 2.,\n",
       "         9., 2., 9., 2., 2., 9., 2., 2., 2., 9., 9., 9., 9., 2., 2., 9., 9.,\n",
       "         9., 2., 9., 9., 9., 2., 2., 2., 9., 2., 9., 2., 2., 2., 9., 9., 2.,\n",
       "         9., 2., 9., 9., 2., 2., 9., 2., 9., 2., 9., 2., 2., 9., 2., 9., 9.,\n",
       "         9., 9., 2., 2., 2., 2., 9., 2., 9., 9., 2., 2., 9., 2., 9., 9., 9.,\n",
       "         2., 9., 9., 2., 9., 2., 9., 2., 2., 9., 2., 9., 2., 2., 9., 9., 2.,\n",
       "         9., 9., 2., 9., 9., 9., 9., 9., 9., 9., 2., 9., 2., 9., 9., 2., 2.,\n",
       "         9., 9., 2., 2., 2., 9., 9., 9., 2., 9., 2., 2., 2., 9., 2., 2., 2.,\n",
       "         2., 2., 2., 9., 2., 9., 9., 2., 2., 2., 9., 9., 9., 9., 2., 2., 2.,\n",
       "         2., 2., 2., 2., 2., 9., 9., 9., 2., 2., 9., 2., 2., 2.])},\n",
       " {'name': '3_4',\n",
       "  'train_acc': 0.9902222222222222,\n",
       "  'val_acc': 0.964,\n",
       "  'test_acc': 0.965,\n",
       "  'train_time': 7.1639392375946045,\n",
       "  'train_pred': array([4., 4., 4., ..., 4., 3., 3.]),\n",
       "  'val_pred': array([3., 4., 3., 3., 3., 3., 3., 3., 4., 4., 4., 4., 3., 3., 3., 4., 4.,\n",
       "         3., 4., 4., 4., 4., 3., 3., 4., 3., 4., 4., 3., 4., 4., 4., 4., 4.,\n",
       "         3., 3., 4., 4., 3., 4., 3., 3., 4., 3., 4., 3., 3., 4., 3., 4., 4.,\n",
       "         4., 3., 3., 3., 3., 4., 3., 3., 4., 4., 3., 3., 4., 4., 4., 4., 3.,\n",
       "         4., 4., 4., 3., 4., 4., 3., 3., 3., 3., 4., 3., 4., 3., 4., 3., 4.,\n",
       "         4., 3., 4., 3., 3., 4., 3., 4., 3., 4., 4., 4., 3., 3., 3., 4., 3.,\n",
       "         3., 4., 4., 3., 4., 3., 3., 4., 3., 3., 3., 4., 3., 4., 3., 3., 4.,\n",
       "         4., 3., 3., 3., 3., 4., 3., 4., 4., 4., 4., 4., 4., 4., 4., 4., 4.,\n",
       "         3., 3., 4., 3., 4., 3., 4., 4., 3., 4., 3., 4., 4., 4., 4., 4., 4.,\n",
       "         3., 4., 4., 4., 3., 4., 4., 3., 4., 4., 3., 4., 3., 4., 4., 4., 4.,\n",
       "         4., 3., 3., 3., 3., 4., 3., 3., 3., 3., 4., 3., 4., 4., 4., 3., 3.,\n",
       "         3., 3., 3., 4., 4., 3., 3., 3., 3., 4., 3., 4., 4., 3., 3., 3., 3.,\n",
       "         4., 3., 4., 4., 3., 3., 3., 3., 4., 4., 3., 4., 3., 3., 4., 3., 4.,\n",
       "         4., 4., 3., 3., 3., 4., 3., 3., 4., 4., 4., 4., 4., 4., 4., 3., 3.,\n",
       "         4., 4., 4., 4., 4., 3., 3., 3., 4., 3., 4., 3., 3., 3., 3., 4., 3.,\n",
       "         3., 4., 4., 3., 4., 4., 3., 4., 3., 3., 3., 3., 3., 3., 3., 4., 4.,\n",
       "         3., 4., 3., 4., 3., 3., 4., 4., 4., 3., 4., 4., 4., 4., 4., 3., 3.,\n",
       "         3., 4., 4., 4., 4., 3., 4., 4., 4., 3., 4., 4., 4., 4., 4., 4., 3.,\n",
       "         3., 3., 4., 4., 4., 4., 3., 3., 3., 4., 3., 4., 4., 4., 3., 4., 4.,\n",
       "         4., 4., 4., 3., 3., 4., 3., 3., 4., 3., 4., 4., 3., 3., 4., 3., 4.,\n",
       "         4., 3., 3., 3., 4., 3., 4., 3., 3., 3., 4., 4., 4., 4., 4., 4., 3.,\n",
       "         4., 3., 3., 4., 3., 3., 3., 4., 3., 4., 3., 3., 3., 4., 4., 3., 3.,\n",
       "         4., 3., 4., 3., 4., 3., 3., 3., 4., 3., 3., 3., 3., 4., 4., 3., 3.,\n",
       "         4., 3., 3., 3., 3., 4., 4., 3., 4., 4., 4., 4., 3., 3., 3., 3., 4.,\n",
       "         4., 4., 4., 3., 3., 4., 4., 4., 3., 4., 4., 3., 3., 3., 4., 3., 3.,\n",
       "         3., 4., 4., 3., 3., 4., 4., 3., 3., 3., 4., 4., 3., 3., 4., 3., 4.,\n",
       "         3., 3., 4., 3., 4., 3., 4., 4., 3., 4., 3., 3., 4., 4., 4., 3., 4.,\n",
       "         3., 3., 3., 4., 4., 3., 3., 3., 3., 4., 4., 4., 3., 3., 3., 3., 4.,\n",
       "         3., 3., 3., 3., 4., 3., 3., 3., 4., 3., 4., 4., 3., 3., 3., 4., 4.,\n",
       "         4., 4., 4., 3., 3., 4., 4.]),\n",
       "  'test_pred': array([4., 3., 3., 4., 3., 3., 3., 3., 3., 4., 3., 3., 4., 4., 3., 3., 3.,\n",
       "         3., 4., 4., 4., 3., 4., 3., 3., 3., 3., 3., 3., 3., 4., 3., 4., 4.,\n",
       "         3., 4., 4., 4., 3., 3., 3., 4., 4., 3., 4., 4., 4., 4., 3., 4., 3.,\n",
       "         4., 3., 3., 3., 4., 4., 3., 3., 3., 3., 4., 3., 4., 3., 4., 3., 4.,\n",
       "         4., 3., 3., 4., 3., 3., 3., 3., 4., 4., 3., 4., 3., 4., 3., 4., 4.,\n",
       "         4., 4., 3., 3., 4., 4., 4., 3., 3., 4., 3., 3., 4., 3., 3., 4., 4.,\n",
       "         3., 4., 3., 3., 4., 4., 3., 4., 3., 3., 3., 4., 4., 4., 4., 3., 3.,\n",
       "         4., 3., 4., 3., 3., 4., 3., 4., 3., 4., 4., 3., 3., 3., 4., 3., 4.,\n",
       "         4., 3., 3., 4., 4., 3., 3., 3., 3., 3., 3., 3., 3., 4., 3., 4., 3.,\n",
       "         4., 4., 3., 4., 3., 4., 3., 4., 4., 4., 4., 3., 3., 3., 3., 4., 3.,\n",
       "         4., 4., 4., 3., 3., 4., 4., 3., 4., 4., 4., 4., 3., 3., 3., 3., 3.,\n",
       "         3., 3., 3., 3., 4., 3., 3., 4., 3., 3., 3., 3., 3., 3., 3., 3., 3.,\n",
       "         3., 4., 3., 4., 4., 3., 3., 4., 3., 3., 4., 3., 4., 4., 4., 3., 3.,\n",
       "         3., 4., 4., 4., 4., 4., 3., 4., 4., 3., 4., 3., 3., 4., 4., 3., 4.,\n",
       "         3., 4., 4., 3., 3., 4., 4., 3., 4., 4., 3., 3., 4., 3., 3., 4., 3.,\n",
       "         4., 4., 4., 3., 4., 4., 3., 3., 4., 4., 4., 4., 4., 4., 3., 4., 3.,\n",
       "         3., 4., 3., 4., 4., 3., 4., 4., 4., 3., 4., 4., 4., 3., 3., 3., 4.,\n",
       "         4., 4., 4., 4., 4., 3., 3., 3., 3., 3., 4., 4., 4., 4., 3., 3., 4.,\n",
       "         3., 3., 4., 4., 4., 4., 3., 4., 3., 4., 3., 4., 4., 4., 4., 3., 4.,\n",
       "         4., 4., 3., 3., 3., 4., 4., 4., 4., 4., 3., 4., 4., 4., 3., 3., 3.,\n",
       "         3., 3., 3., 4., 3., 3., 3., 3., 4., 4., 4., 3., 4., 3., 3., 4., 4.,\n",
       "         4., 4., 4., 3., 4., 3., 3., 3., 4., 3., 3., 3., 4., 4., 3., 3., 3.,\n",
       "         4., 4., 3., 3., 3., 3., 3., 4., 4., 4., 3., 4., 4., 3., 4., 4., 3.,\n",
       "         3., 3., 3., 4., 4., 3., 4., 4., 4., 4., 3., 4., 3., 3., 3., 4., 4.,\n",
       "         3., 4., 3., 3., 3., 4., 4., 4., 4., 3., 4., 3., 3., 4., 4., 3., 4.,\n",
       "         3., 3., 4., 4., 3., 3., 3., 3., 3., 3., 4., 3., 4., 4., 4., 3., 3.,\n",
       "         4., 4., 4., 4., 4., 4., 3., 3., 3., 3., 4., 4., 4., 4., 4., 4., 3.,\n",
       "         3., 4., 4., 4., 3., 4., 4., 4., 4., 3., 4., 4., 3., 4., 4., 4., 3.,\n",
       "         3., 4., 3., 3., 3., 3., 3., 3., 3., 4., 4., 4., 4., 4., 4., 4., 3.,\n",
       "         3., 4., 4., 4., 4., 4., 3., 3., 4., 3., 4., 4., 3., 3., 3., 3., 3.,\n",
       "         4., 3., 4., 4., 4., 4., 4., 3., 3., 4., 4., 3., 4., 3., 3., 4., 4.,\n",
       "         4., 4., 3., 3., 3., 4., 4., 4., 3., 4., 4., 3., 3., 4., 4., 3., 3.,\n",
       "         3., 4., 3., 3., 4., 4., 4., 4., 3., 4., 4., 3., 4., 4., 4., 3., 4.,\n",
       "         3., 3., 3., 3., 4., 4., 3., 4., 3., 4., 3., 3., 3., 4., 3., 4., 3.,\n",
       "         3., 4., 4., 3., 4., 3., 4., 3., 3., 4., 3., 4., 3., 3., 4., 4., 3.,\n",
       "         3., 4., 4., 4., 4., 4., 4., 3., 3., 4., 4., 3., 3., 4., 4., 3., 4.,\n",
       "         4., 4., 4., 4., 3., 3., 4., 3., 4., 3., 3., 3., 4., 3., 4., 3., 3.,\n",
       "         4., 4., 3., 4., 4., 4., 3., 4., 4., 3., 4., 3., 3., 4., 4., 3., 3.,\n",
       "         3., 4., 3., 3., 3., 4., 4., 4., 3., 3., 3., 4., 3., 3., 3., 3., 3.,\n",
       "         3., 4., 4., 4., 3., 4., 3., 3., 4., 3., 3., 4., 3., 4., 3., 3., 4.,\n",
       "         3., 4., 3., 4., 4., 4., 3., 3., 3., 3., 3., 3., 4., 3., 3., 4., 4.,\n",
       "         4., 3., 4., 4., 3., 4., 3., 4., 3., 4., 4., 3., 3., 3., 3., 4., 4.,\n",
       "         3., 3., 4., 3., 3., 3., 4., 3., 3., 3., 3., 3., 4., 4., 3., 3., 3.,\n",
       "         3., 3., 3., 3., 4., 4., 4., 3., 3., 4., 4., 3., 4., 3., 3., 3., 3.,\n",
       "         3., 3., 3., 3., 4., 3., 4., 4., 3., 4., 3., 4., 4., 4., 4., 4., 4.,\n",
       "         3., 3., 4., 4., 4., 3., 4., 3., 4., 3., 4., 4., 3., 3., 3., 3., 4.,\n",
       "         3., 4., 4., 4., 3., 4., 3., 3., 4., 4., 4., 4., 3., 4., 3., 4., 3.,\n",
       "         4., 3., 3., 3., 4., 3., 4., 3., 3., 3., 3., 4., 4., 4., 3., 4., 4.,\n",
       "         3., 3., 4., 4., 4., 3., 3., 3., 4., 3., 4., 4., 4., 3., 3., 4., 4.,\n",
       "         3., 4., 3., 3., 3., 3., 4., 4., 3., 4., 3., 4., 4., 4., 4., 3., 3.,\n",
       "         4., 3., 3., 3., 3., 4., 4., 3., 3., 4., 3., 4., 3., 3., 4., 3., 4.,\n",
       "         3., 3., 4., 3., 3., 3., 4., 4., 4., 3., 3., 3., 4., 3., 4., 4., 4.,\n",
       "         4., 3., 4., 3., 4., 3., 4., 3., 4., 4., 3., 3., 3., 3., 3., 4., 4.,\n",
       "         4., 4., 4., 3., 3., 3., 4., 3., 4., 3., 3., 4., 4., 4., 3., 3., 3.,\n",
       "         4., 4., 4., 4., 4., 3., 4., 4., 3., 3., 4., 3., 3., 3., 4., 4., 4.,\n",
       "         4., 3., 4., 4., 3., 4., 3., 4., 3., 4., 4., 3., 3., 4., 3., 3., 4.,\n",
       "         4., 4., 3., 4., 4., 3., 4., 4., 3., 4., 3., 4., 3., 3., 3., 3., 4.,\n",
       "         4., 4., 3., 3., 3., 4., 4., 4., 3., 3., 4., 3., 4., 3., 3., 3., 3.,\n",
       "         3., 4., 4., 3., 3., 4., 4., 4., 3., 4., 4., 3., 4., 3.])},\n",
       " {'name': '3_5',\n",
       "  'train_acc': 1.0,\n",
       "  'val_acc': 0.998,\n",
       "  'test_acc': 0.994,\n",
       "  'train_time': 4.11910605430603,\n",
       "  'train_pred': array([5., 3., 3., ..., 3., 3., 3.]),\n",
       "  'val_pred': array([5., 3., 5., 5., 5., 3., 5., 3., 3., 5., 3., 3., 5., 5., 5., 5., 5.,\n",
       "         3., 5., 3., 3., 5., 3., 5., 3., 3., 5., 3., 3., 5., 3., 5., 5., 3.,\n",
       "         3., 5., 5., 5., 3., 3., 5., 5., 5., 3., 5., 5., 3., 5., 3., 5., 5.,\n",
       "         5., 3., 5., 5., 5., 5., 3., 3., 3., 3., 5., 3., 3., 3., 3., 5., 5.,\n",
       "         5., 5., 5., 3., 5., 3., 5., 3., 3., 3., 3., 3., 5., 3., 3., 5., 5.,\n",
       "         5., 5., 5., 5., 3., 3., 5., 5., 5., 3., 3., 5., 3., 5., 5., 5., 3.,\n",
       "         3., 3., 3., 5., 3., 3., 5., 3., 5., 3., 3., 3., 5., 3., 3., 5., 3.,\n",
       "         3., 5., 3., 5., 3., 3., 3., 5., 3., 5., 5., 5., 5., 5., 3., 3., 5.,\n",
       "         3., 3., 5., 3., 3., 5., 5., 5., 3., 5., 3., 3., 3., 3., 5., 5., 5.,\n",
       "         5., 5., 3., 5., 3., 5., 5., 3., 3., 5., 5., 5., 3., 3., 5., 3., 3.,\n",
       "         3., 3., 5., 5., 5., 3., 3., 3., 5., 3., 5., 5., 5., 5., 3., 3., 5.,\n",
       "         3., 5., 3., 3., 3., 5., 5., 5., 5., 3., 3., 5., 3., 3., 3., 3., 5.,\n",
       "         5., 5., 3., 3., 5., 3., 3., 5., 5., 5., 3., 3., 5., 5., 5., 5., 5.,\n",
       "         5., 3., 3., 3., 5., 3., 3., 5., 5., 3., 3., 3., 5., 5., 3., 3., 3.,\n",
       "         5., 5., 5., 5., 3., 3., 3., 5., 3., 3., 5., 3., 3., 5., 5., 5., 3.,\n",
       "         5., 5., 5., 5., 3., 5., 3., 5., 3., 3., 3., 3., 5., 5., 3., 5., 3.,\n",
       "         3., 5., 5., 5., 5., 5., 3., 3., 3., 3., 3., 5., 5., 5., 5., 5., 3.,\n",
       "         5., 5., 3., 3., 5., 5., 3., 5., 5., 3., 3., 5., 5., 5., 3., 3., 3.,\n",
       "         3., 3., 3., 3., 5., 3., 5., 5., 3., 5., 3., 5., 5., 3., 3., 5., 3.,\n",
       "         5., 3., 5., 3., 5., 3., 3., 5., 5., 5., 3., 3., 3., 3., 5., 5., 3.,\n",
       "         5., 5., 3., 5., 3., 5., 5., 5., 5., 5., 5., 3., 3., 3., 5., 5., 5.,\n",
       "         3., 3., 5., 3., 3., 5., 5., 3., 3., 3., 5., 3., 5., 3., 3., 3., 5.,\n",
       "         5., 5., 5., 3., 5., 3., 5., 3., 5., 5., 3., 5., 5., 3., 5., 3., 5.,\n",
       "         5., 3., 3., 3., 3., 3., 5., 5., 5., 3., 5., 5., 5., 5., 5., 3., 3.,\n",
       "         3., 3., 3., 5., 5., 3., 5., 3., 5., 5., 5., 5., 5., 3., 3., 5., 3.,\n",
       "         3., 5., 3., 3., 3., 3., 3., 5., 3., 3., 5., 5., 3., 5., 3., 3., 3.,\n",
       "         3., 3., 5., 3., 5., 3., 3., 3., 3., 5., 3., 5., 3., 3., 3., 3., 5.,\n",
       "         5., 3., 3., 3., 3., 5., 5., 5., 3., 3., 5., 3., 3., 3., 3., 3., 5.,\n",
       "         3., 5., 3., 3., 3., 3., 5., 5., 5., 3., 3., 3., 5., 5., 5., 5., 5.,\n",
       "         3., 3., 5., 5., 5., 5., 5.]),\n",
       "  'test_pred': array([5., 3., 3., 5., 3., 3., 3., 5., 3., 5., 5., 5., 5., 3., 5., 5., 3.,\n",
       "         3., 5., 3., 5., 5., 3., 3., 3., 5., 3., 5., 3., 3., 3., 3., 3., 3.,\n",
       "         3., 5., 3., 5., 5., 5., 3., 5., 5., 5., 5., 3., 5., 3., 5., 5., 3.,\n",
       "         5., 5., 3., 5., 3., 5., 5., 3., 5., 5., 3., 5., 5., 3., 3., 5., 3.,\n",
       "         3., 3., 3., 5., 3., 5., 3., 5., 5., 3., 3., 3., 5., 5., 5., 3., 3.,\n",
       "         5., 3., 5., 3., 3., 3., 5., 5., 3., 3., 3., 5., 5., 3., 3., 5., 5.,\n",
       "         5., 5., 3., 3., 3., 3., 5., 3., 5., 5., 3., 3., 5., 5., 5., 5., 3.,\n",
       "         3., 3., 3., 5., 5., 3., 5., 3., 5., 3., 5., 3., 5., 5., 3., 5., 5.,\n",
       "         5., 3., 3., 5., 5., 3., 5., 5., 5., 5., 5., 3., 5., 3., 5., 3., 5.,\n",
       "         3., 5., 5., 5., 5., 5., 3., 3., 3., 3., 3., 5., 3., 5., 3., 5., 5.,\n",
       "         5., 5., 3., 3., 5., 5., 3., 5., 3., 5., 5., 3., 5., 5., 3., 3., 3.,\n",
       "         5., 5., 5., 3., 5., 3., 3., 5., 5., 5., 5., 3., 5., 5., 3., 3., 5.,\n",
       "         3., 3., 5., 3., 3., 5., 3., 5., 3., 5., 3., 5., 5., 3., 5., 3., 5.,\n",
       "         5., 3., 3., 3., 5., 3., 3., 3., 3., 5., 5., 3., 3., 3., 5., 5., 5.,\n",
       "         5., 5., 3., 5., 3., 3., 5., 3., 3., 5., 3., 5., 5., 5., 3., 3., 3.,\n",
       "         5., 5., 5., 5., 5., 5., 3., 5., 5., 3., 3., 5., 3., 5., 3., 5., 3.,\n",
       "         5., 5., 5., 5., 3., 3., 3., 5., 5., 3., 3., 5., 3., 3., 5., 5., 5.,\n",
       "         3., 5., 5., 3., 5., 3., 5., 5., 5., 3., 5., 5., 3., 3., 5., 3., 5.,\n",
       "         5., 5., 5., 5., 5., 5., 5., 3., 5., 3., 3., 3., 5., 5., 3., 3., 3.,\n",
       "         5., 5., 3., 3., 5., 3., 3., 5., 3., 5., 5., 3., 5., 5., 3., 5., 3.,\n",
       "         5., 3., 5., 3., 5., 5., 3., 3., 3., 3., 3., 3., 5., 3., 3., 3., 5.,\n",
       "         5., 3., 3., 5., 5., 3., 5., 3., 5., 3., 5., 5., 3., 3., 3., 5., 5.,\n",
       "         5., 3., 3., 3., 5., 5., 3., 5., 3., 3., 5., 3., 5., 3., 3., 5., 3.,\n",
       "         3., 3., 3., 3., 5., 3., 3., 5., 5., 3., 5., 3., 3., 3., 5., 3., 5.,\n",
       "         3., 5., 3., 5., 3., 3., 5., 3., 3., 3., 5., 3., 5., 5., 5., 5., 3.,\n",
       "         5., 5., 5., 3., 3., 3., 5., 5., 5., 3., 3., 3., 5., 5., 3., 3., 5.,\n",
       "         3., 3., 5., 3., 3., 3., 5., 5., 3., 3., 5., 3., 5., 5., 5., 5., 5.,\n",
       "         5., 5., 3., 3., 3., 3., 5., 5., 3., 5., 3., 5., 5., 5., 5., 5., 5.,\n",
       "         3., 5., 5., 5., 5., 5., 5., 5., 3., 5., 5., 3., 5., 3., 5., 3., 5.,\n",
       "         3., 3., 3., 5., 3., 3., 5., 5., 3., 3., 5., 5., 3., 5., 5., 5., 5.,\n",
       "         3., 3., 5., 5., 5., 5., 3., 3., 5., 3., 3., 3., 5., 3., 3., 5., 5.,\n",
       "         5., 5., 3., 5., 3., 3., 3., 3., 5., 5., 3., 5., 3., 3., 3., 5., 3.,\n",
       "         3., 3., 3., 3., 3., 3., 5., 5., 5., 3., 5., 3., 3., 5., 5., 5., 5.,\n",
       "         3., 3., 5., 5., 3., 3., 3., 5., 3., 5., 3., 5., 3., 5., 5., 3., 5.,\n",
       "         5., 3., 5., 3., 3., 5., 5., 5., 3., 5., 5., 3., 5., 5., 3., 5., 5.,\n",
       "         3., 5., 3., 3., 3., 3., 3., 5., 5., 5., 5., 5., 5., 3., 3., 3., 5.,\n",
       "         3., 5., 5., 3., 3., 5., 3., 3., 5., 3., 3., 3., 5., 5., 3., 5., 5.,\n",
       "         3., 3., 5., 3., 5., 3., 5., 3., 5., 3., 5., 5., 3., 3., 5., 5., 5.,\n",
       "         5., 3., 3., 5., 3., 5., 5., 3., 5., 3., 5., 5., 3., 3., 3., 5., 3.,\n",
       "         3., 3., 3., 5., 5., 5., 3., 5., 3., 5., 3., 3., 5., 5., 3., 3., 3.,\n",
       "         3., 5., 3., 3., 5., 5., 3., 3., 3., 3., 3., 3., 5., 3., 3., 5., 3.,\n",
       "         5., 3., 5., 5., 3., 5., 3., 3., 3., 5., 3., 5., 3., 5., 5., 5., 3.,\n",
       "         5., 5., 3., 3., 3., 3., 3., 5., 5., 5., 3., 3., 5., 5., 5., 5., 3.,\n",
       "         3., 3., 3., 3., 3., 5., 5., 5., 5., 5., 3., 5., 3., 5., 3., 3., 3.,\n",
       "         3., 3., 3., 5., 3., 3., 3., 5., 3., 5., 5., 5., 5., 3., 5., 3., 5.,\n",
       "         5., 5., 3., 5., 3., 5., 3., 5., 5., 3., 5., 3., 5., 5., 3., 3., 3.,\n",
       "         5., 5., 5., 3., 3., 5., 5., 3., 3., 3., 5., 3., 5., 3., 5., 3., 5.,\n",
       "         3., 5., 5., 3., 5., 3., 5., 3., 3., 3., 5., 5., 5., 3., 3., 5., 3.,\n",
       "         5., 3., 5., 5., 3., 3., 5., 5., 3., 3., 3., 3., 3., 5., 3., 5., 5.,\n",
       "         5., 3., 5., 3., 3., 5., 3., 5., 5., 5., 3., 5., 5., 5., 5., 3., 5.,\n",
       "         5., 3., 5., 3., 5., 5., 5., 3., 3., 5., 3., 3., 5., 3., 3., 3., 5.,\n",
       "         5., 5., 5., 5., 5., 3., 3., 3., 3., 5., 3., 3., 5., 3., 3., 5., 5.,\n",
       "         5., 3., 3., 5., 5., 5., 3., 3., 5., 3., 5., 5., 5., 5., 3., 5., 5.,\n",
       "         3., 3., 3., 5., 3., 3., 3., 3., 3., 5., 5., 5., 5., 3., 3., 3., 5.,\n",
       "         3., 5., 5., 5., 5., 3., 3., 5., 5., 3., 3., 5., 3., 5., 5., 3., 5.,\n",
       "         3., 5., 3., 3., 3., 5., 3., 5., 3., 5., 3., 3., 3., 3., 3., 3., 5.,\n",
       "         5., 5., 3., 5., 5., 5., 3., 5., 3., 5., 3., 5., 3., 5., 5., 3., 5.,\n",
       "         3., 3., 3., 3., 5., 3., 5., 3., 5., 3., 5., 3., 3., 5., 3., 5., 3.,\n",
       "         3., 5., 3., 5., 5., 3., 5., 5., 3., 3., 5., 5., 5., 3.])},\n",
       " {'name': '3_6',\n",
       "  'train_acc': 0.9884444444444445,\n",
       "  'val_acc': 0.966,\n",
       "  'test_acc': 0.947,\n",
       "  'train_time': 7.387843132019043,\n",
       "  'train_pred': array([6., 6., 3., ..., 3., 3., 3.]),\n",
       "  'val_pred': array([3., 3., 3., 6., 3., 3., 3., 3., 6., 3., 3., 3., 6., 6., 3., 6., 3.,\n",
       "         3., 6., 3., 6., 3., 3., 6., 6., 3., 3., 6., 3., 3., 6., 3., 6., 6.,\n",
       "         6., 3., 3., 3., 6., 6., 6., 3., 6., 6., 6., 6., 6., 6., 6., 3., 3.,\n",
       "         3., 6., 3., 3., 6., 3., 3., 6., 6., 3., 6., 6., 3., 3., 6., 6., 6.,\n",
       "         6., 6., 3., 3., 6., 3., 3., 6., 3., 6., 3., 3., 6., 6., 3., 6., 3.,\n",
       "         6., 3., 6., 3., 6., 3., 3., 6., 3., 3., 3., 3., 6., 6., 6., 3., 3.,\n",
       "         3., 3., 6., 6., 3., 3., 6., 3., 3., 6., 3., 3., 3., 3., 3., 3., 3.,\n",
       "         6., 6., 6., 6., 6., 3., 3., 3., 6., 3., 3., 6., 3., 6., 6., 6., 3.,\n",
       "         3., 3., 6., 3., 3., 6., 6., 6., 6., 6., 3., 3., 3., 3., 6., 6., 6.,\n",
       "         3., 3., 3., 3., 3., 3., 6., 6., 3., 3., 6., 3., 6., 6., 6., 3., 3.,\n",
       "         3., 6., 3., 6., 6., 3., 3., 6., 6., 3., 6., 3., 3., 6., 3., 3., 3.,\n",
       "         6., 3., 6., 6., 6., 3., 6., 3., 3., 3., 6., 3., 6., 6., 6., 3., 3.,\n",
       "         6., 3., 6., 6., 3., 3., 6., 6., 6., 3., 6., 6., 3., 6., 6., 6., 6.,\n",
       "         6., 3., 6., 3., 3., 6., 3., 3., 3., 3., 6., 3., 6., 6., 3., 6., 6.,\n",
       "         3., 6., 6., 6., 3., 3., 3., 3., 6., 3., 3., 6., 3., 6., 3., 6., 6.,\n",
       "         6., 6., 3., 6., 3., 3., 6., 6., 6., 6., 3., 6., 6., 6., 6., 6., 6.,\n",
       "         3., 3., 6., 3., 6., 6., 6., 6., 3., 6., 6., 6., 3., 6., 3., 6., 3.,\n",
       "         6., 3., 6., 6., 3., 3., 3., 3., 6., 6., 3., 6., 3., 6., 6., 6., 3.,\n",
       "         3., 3., 6., 3., 6., 3., 3., 3., 3., 3., 6., 6., 3., 3., 6., 3., 3.,\n",
       "         6., 6., 3., 3., 6., 6., 6., 6., 6., 6., 3., 3., 3., 6., 6., 3., 3.,\n",
       "         6., 6., 6., 3., 6., 6., 6., 3., 6., 6., 3., 3., 6., 6., 6., 6., 3.,\n",
       "         3., 3., 6., 6., 3., 6., 6., 6., 3., 6., 6., 3., 3., 3., 3., 6., 3.,\n",
       "         3., 3., 3., 3., 6., 3., 6., 6., 3., 6., 6., 3., 6., 6., 6., 3., 3.,\n",
       "         6., 3., 3., 6., 6., 3., 6., 3., 6., 6., 6., 6., 6., 6., 6., 6., 6.,\n",
       "         3., 6., 3., 3., 3., 6., 3., 3., 6., 3., 6., 6., 3., 3., 6., 6., 6.,\n",
       "         3., 3., 6., 3., 6., 3., 6., 3., 3., 3., 3., 6., 3., 3., 6., 3., 6.,\n",
       "         6., 6., 6., 6., 6., 3., 6., 3., 6., 3., 3., 3., 6., 6., 6., 3., 3.,\n",
       "         6., 3., 3., 6., 6., 6., 6., 6., 6., 6., 3., 3., 6., 6., 3., 3., 3.,\n",
       "         3., 3., 3., 6., 6., 3., 3., 3., 3., 6., 3., 6., 3., 6., 3., 6., 6.,\n",
       "         6., 3., 3., 6., 6., 6., 6.]),\n",
       "  'test_pred': array([3., 6., 3., 3., 3., 3., 3., 3., 3., 6., 6., 3., 3., 6., 6., 3., 6.,\n",
       "         6., 3., 3., 6., 6., 3., 6., 3., 3., 3., 3., 3., 3., 3., 6., 3., 3.,\n",
       "         6., 6., 3., 3., 3., 6., 3., 6., 6., 6., 6., 6., 3., 6., 3., 6., 6.,\n",
       "         3., 6., 3., 6., 6., 6., 3., 3., 6., 3., 3., 6., 6., 3., 6., 3., 6.,\n",
       "         6., 3., 3., 3., 6., 6., 6., 6., 6., 3., 3., 3., 6., 3., 3., 3., 3.,\n",
       "         6., 6., 6., 6., 6., 3., 3., 3., 3., 6., 6., 6., 6., 6., 3., 3., 3.,\n",
       "         3., 6., 3., 6., 6., 6., 6., 3., 3., 3., 6., 6., 3., 3., 3., 3., 3.,\n",
       "         3., 3., 6., 6., 6., 3., 6., 6., 6., 6., 6., 3., 6., 3., 6., 6., 3.,\n",
       "         3., 3., 3., 3., 6., 6., 6., 6., 6., 3., 6., 6., 6., 6., 6., 6., 6.,\n",
       "         6., 3., 6., 3., 3., 6., 3., 6., 3., 3., 6., 6., 3., 6., 6., 3., 6.,\n",
       "         6., 3., 3., 6., 6., 3., 6., 6., 6., 6., 6., 6., 3., 6., 6., 3., 3.,\n",
       "         3., 6., 6., 3., 6., 3., 6., 3., 6., 3., 6., 3., 3., 6., 3., 3., 3.,\n",
       "         6., 3., 6., 3., 6., 3., 3., 6., 6., 6., 3., 3., 6., 3., 3., 3., 3.,\n",
       "         3., 3., 3., 3., 6., 3., 6., 6., 6., 3., 3., 3., 6., 6., 6., 3., 6.,\n",
       "         3., 6., 3., 3., 6., 6., 6., 3., 6., 6., 3., 6., 6., 3., 6., 3., 6.,\n",
       "         3., 3., 6., 6., 3., 3., 6., 3., 6., 3., 3., 6., 3., 6., 6., 6., 3.,\n",
       "         3., 3., 3., 6., 6., 3., 6., 6., 6., 3., 6., 3., 6., 6., 6., 6., 6.,\n",
       "         3., 6., 3., 6., 3., 3., 6., 3., 6., 6., 6., 6., 3., 6., 3., 3., 3.,\n",
       "         6., 6., 6., 3., 3., 3., 6., 6., 3., 3., 6., 6., 6., 6., 6., 6., 3.,\n",
       "         3., 3., 3., 6., 6., 6., 3., 3., 6., 6., 3., 6., 6., 6., 3., 6., 3.,\n",
       "         3., 6., 6., 3., 6., 3., 6., 3., 3., 3., 3., 3., 6., 3., 6., 3., 6.,\n",
       "         3., 6., 3., 6., 3., 6., 6., 6., 6., 6., 6., 6., 3., 3., 6., 3., 3.,\n",
       "         3., 6., 6., 6., 3., 3., 6., 6., 3., 3., 3., 3., 3., 3., 3., 6., 3.,\n",
       "         6., 6., 3., 6., 6., 6., 6., 3., 3., 3., 6., 3., 6., 3., 6., 6., 6.,\n",
       "         6., 3., 3., 3., 3., 6., 3., 3., 6., 3., 6., 3., 6., 6., 3., 3., 3.,\n",
       "         3., 6., 3., 3., 6., 6., 3., 6., 3., 3., 3., 6., 3., 6., 6., 3., 3.,\n",
       "         3., 6., 6., 6., 3., 3., 6., 3., 6., 6., 6., 6., 3., 3., 3., 3., 3.,\n",
       "         6., 3., 6., 6., 6., 3., 6., 6., 6., 6., 6., 3., 3., 6., 6., 6., 3.,\n",
       "         3., 6., 6., 6., 6., 3., 3., 6., 3., 6., 3., 3., 3., 3., 6., 6., 6.,\n",
       "         3., 6., 6., 6., 6., 6., 6., 3., 3., 6., 6., 3., 6., 6., 6., 3., 3.,\n",
       "         3., 6., 3., 3., 3., 6., 3., 6., 3., 6., 6., 6., 3., 6., 3., 3., 6.,\n",
       "         6., 6., 6., 3., 3., 6., 6., 3., 6., 3., 3., 3., 6., 3., 3., 6., 3.,\n",
       "         3., 3., 3., 6., 3., 6., 6., 6., 6., 6., 3., 3., 6., 3., 3., 6., 3.,\n",
       "         3., 6., 3., 6., 6., 3., 3., 6., 3., 6., 6., 3., 6., 3., 6., 6., 3.,\n",
       "         6., 3., 3., 3., 6., 3., 6., 3., 6., 3., 6., 3., 3., 3., 6., 6., 6.,\n",
       "         3., 3., 6., 6., 6., 6., 6., 6., 3., 3., 6., 3., 6., 3., 6., 3., 6.,\n",
       "         6., 3., 3., 3., 6., 6., 3., 3., 3., 6., 3., 6., 6., 3., 3., 3., 6.,\n",
       "         6., 6., 6., 6., 6., 6., 6., 3., 6., 6., 3., 3., 3., 3., 6., 6., 3.,\n",
       "         3., 3., 6., 3., 6., 3., 6., 3., 3., 3., 3., 6., 3., 3., 3., 6., 3.,\n",
       "         6., 6., 6., 6., 6., 6., 6., 3., 6., 3., 3., 3., 6., 3., 3., 6., 6.,\n",
       "         3., 3., 3., 3., 6., 6., 6., 6., 6., 3., 3., 3., 3., 3., 3., 3., 3.,\n",
       "         3., 6., 6., 6., 6., 3., 6., 3., 6., 3., 3., 6., 6., 6., 3., 6., 6.,\n",
       "         6., 6., 3., 6., 3., 3., 3., 3., 6., 6., 6., 6., 3., 3., 6., 6., 3.,\n",
       "         3., 3., 3., 3., 3., 6., 6., 3., 6., 3., 6., 3., 3., 3., 6., 6., 3.,\n",
       "         3., 3., 6., 3., 3., 3., 6., 6., 3., 6., 6., 6., 6., 6., 6., 3., 6.,\n",
       "         6., 6., 6., 3., 6., 6., 6., 3., 6., 6., 3., 6., 6., 6., 6., 3., 3.,\n",
       "         6., 6., 3., 3., 6., 3., 6., 6., 3., 3., 3., 6., 6., 6., 6., 6., 6.,\n",
       "         6., 6., 3., 3., 6., 6., 3., 3., 3., 6., 3., 3., 3., 3., 3., 3., 6.,\n",
       "         6., 3., 3., 6., 3., 6., 6., 3., 6., 3., 6., 6., 3., 3., 3., 6., 3.,\n",
       "         6., 3., 6., 6., 3., 3., 3., 6., 6., 6., 6., 6., 6., 3., 6., 3., 6.,\n",
       "         6., 6., 3., 3., 6., 3., 3., 3., 3., 6., 6., 6., 3., 3., 6., 6., 3.,\n",
       "         6., 6., 6., 6., 6., 6., 3., 6., 6., 6., 3., 6., 3., 6., 3., 3., 3.,\n",
       "         6., 3., 3., 6., 6., 3., 3., 6., 3., 3., 6., 6., 6., 3., 3., 6., 3.,\n",
       "         6., 3., 3., 3., 3., 6., 3., 3., 3., 6., 6., 6., 3., 3., 6., 3., 6.,\n",
       "         6., 6., 6., 6., 3., 3., 3., 6., 3., 3., 6., 3., 6., 3., 3., 6., 3.,\n",
       "         6., 3., 6., 3., 3., 6., 6., 3., 6., 6., 6., 3., 3., 3., 3., 6., 6.,\n",
       "         3., 6., 3., 6., 6., 6., 6., 6., 6., 3., 6., 3., 3., 6., 3., 3., 6.,\n",
       "         3., 3., 6., 6., 6., 3., 6., 3., 6., 6., 3., 6., 3., 3., 6., 6., 3.,\n",
       "         6., 3., 6., 3., 3., 3., 6., 6., 6., 3., 3., 6., 6., 3.])},\n",
       " {'name': '3_7',\n",
       "  'train_acc': 1.0,\n",
       "  'val_acc': 0.998,\n",
       "  'test_acc': 0.999,\n",
       "  'train_time': 2.32647705078125,\n",
       "  'train_pred': array([7., 7., 7., ..., 3., 3., 7.]),\n",
       "  'val_pred': array([3., 7., 3., 7., 3., 3., 3., 3., 7., 7., 7., 7., 3., 7., 3., 3., 3.,\n",
       "         7., 7., 3., 3., 7., 7., 7., 3., 7., 7., 3., 7., 7., 7., 3., 7., 3.,\n",
       "         3., 3., 7., 3., 7., 3., 3., 7., 3., 7., 7., 7., 7., 3., 7., 7., 7.,\n",
       "         7., 3., 3., 3., 3., 3., 7., 3., 3., 3., 7., 7., 7., 3., 7., 7., 3.,\n",
       "         7., 7., 3., 3., 7., 3., 7., 7., 7., 7., 7., 3., 7., 3., 3., 3., 7.,\n",
       "         7., 7., 7., 7., 7., 3., 3., 7., 7., 3., 3., 3., 7., 3., 3., 7., 3.,\n",
       "         3., 7., 3., 7., 3., 7., 3., 3., 3., 3., 3., 3., 7., 3., 3., 7., 3.,\n",
       "         7., 3., 7., 7., 7., 7., 3., 3., 7., 3., 7., 7., 7., 3., 3., 3., 3.,\n",
       "         3., 7., 7., 3., 7., 7., 7., 7., 3., 7., 7., 3., 3., 3., 3., 7., 7.,\n",
       "         7., 7., 7., 7., 7., 7., 7., 7., 3., 7., 3., 7., 3., 3., 7., 3., 3.,\n",
       "         3., 3., 3., 3., 7., 7., 7., 3., 3., 3., 7., 7., 7., 3., 3., 3., 3.,\n",
       "         3., 7., 3., 7., 7., 3., 7., 7., 7., 3., 3., 3., 3., 3., 3., 7., 7.,\n",
       "         3., 3., 7., 3., 7., 3., 7., 3., 7., 3., 7., 7., 7., 7., 7., 7., 7.,\n",
       "         3., 7., 3., 3., 7., 7., 7., 7., 3., 3., 7., 7., 3., 3., 7., 3., 7.,\n",
       "         7., 3., 3., 3., 7., 3., 3., 3., 3., 7., 3., 3., 3., 7., 3., 7., 7.,\n",
       "         3., 7., 3., 7., 3., 3., 7., 3., 3., 7., 7., 3., 3., 3., 7., 3., 3.,\n",
       "         3., 3., 3., 7., 7., 7., 7., 7., 7., 7., 7., 7., 7., 3., 3., 3., 3.,\n",
       "         3., 7., 7., 3., 7., 3., 3., 3., 7., 3., 3., 3., 3., 3., 7., 3., 7.,\n",
       "         7., 3., 7., 3., 7., 7., 3., 3., 3., 3., 7., 3., 3., 7., 7., 3., 3.,\n",
       "         3., 3., 3., 3., 3., 7., 3., 3., 3., 7., 7., 3., 3., 7., 3., 7., 7.,\n",
       "         7., 3., 7., 7., 7., 3., 3., 7., 7., 3., 7., 7., 7., 7., 3., 3., 3.,\n",
       "         7., 3., 7., 7., 7., 3., 3., 7., 3., 7., 7., 7., 3., 3., 7., 3., 7.,\n",
       "         7., 7., 3., 3., 3., 3., 3., 3., 7., 7., 7., 7., 3., 3., 3., 3., 3.,\n",
       "         7., 7., 7., 7., 3., 3., 7., 7., 7., 3., 3., 7., 7., 3., 3., 7., 7.,\n",
       "         7., 3., 3., 7., 3., 7., 7., 3., 3., 3., 3., 7., 7., 3., 7., 7., 3.,\n",
       "         7., 3., 3., 7., 3., 7., 3., 7., 3., 7., 3., 3., 3., 3., 7., 3., 7.,\n",
       "         7., 3., 7., 7., 3., 3., 3., 7., 7., 7., 7., 3., 7., 3., 7., 7., 3.,\n",
       "         3., 7., 7., 7., 7., 7., 3., 3., 7., 3., 3., 7., 7., 3., 3., 3., 3.,\n",
       "         7., 3., 3., 3., 7., 3., 7., 7., 7., 7., 7., 3., 7., 3., 3., 7., 7.,\n",
       "         3., 3., 7., 7., 7., 7., 7.]),\n",
       "  'test_pred': array([7., 7., 3., 3., 7., 3., 3., 3., 3., 3., 7., 7., 7., 3., 7., 3., 7.,\n",
       "         7., 3., 3., 3., 7., 3., 7., 3., 3., 3., 3., 7., 3., 3., 3., 3., 7.,\n",
       "         3., 7., 3., 7., 7., 7., 7., 7., 3., 3., 7., 3., 7., 7., 3., 7., 7.,\n",
       "         3., 7., 3., 7., 7., 3., 3., 3., 7., 7., 3., 3., 3., 3., 3., 7., 3.,\n",
       "         7., 3., 7., 3., 3., 3., 7., 3., 3., 3., 3., 3., 3., 7., 3., 3., 3.,\n",
       "         7., 7., 3., 3., 7., 7., 7., 7., 7., 7., 3., 3., 3., 3., 7., 7., 3.,\n",
       "         7., 3., 3., 7., 7., 7., 3., 3., 3., 3., 7., 3., 7., 3., 3., 7., 3.,\n",
       "         7., 7., 3., 7., 7., 7., 3., 7., 7., 3., 3., 3., 3., 3., 3., 7., 7.,\n",
       "         3., 3., 7., 7., 7., 3., 3., 3., 3., 7., 7., 3., 7., 3., 7., 3., 7.,\n",
       "         7., 7., 7., 3., 7., 3., 7., 7., 3., 3., 7., 7., 7., 3., 7., 7., 7.,\n",
       "         7., 3., 3., 3., 3., 7., 7., 3., 7., 3., 7., 7., 3., 7., 7., 7., 7.,\n",
       "         3., 3., 3., 7., 3., 7., 7., 3., 3., 7., 3., 3., 3., 7., 7., 7., 7.,\n",
       "         7., 3., 3., 7., 7., 3., 3., 7., 3., 7., 7., 3., 3., 3., 3., 3., 3.,\n",
       "         3., 7., 7., 7., 3., 7., 3., 7., 7., 3., 3., 7., 7., 3., 3., 3., 3.,\n",
       "         3., 7., 7., 7., 7., 3., 7., 7., 7., 7., 3., 7., 3., 3., 7., 3., 7.,\n",
       "         3., 7., 7., 7., 3., 3., 7., 7., 3., 7., 7., 7., 3., 3., 7., 7., 3.,\n",
       "         3., 7., 7., 7., 7., 3., 7., 7., 7., 7., 7., 3., 7., 3., 7., 7., 7.,\n",
       "         7., 7., 3., 7., 7., 7., 7., 7., 3., 7., 3., 7., 3., 7., 7., 7., 7.,\n",
       "         7., 3., 7., 7., 7., 3., 3., 3., 7., 7., 3., 3., 3., 3., 7., 3., 7.,\n",
       "         7., 7., 7., 7., 7., 3., 3., 3., 7., 3., 7., 7., 3., 3., 7., 7., 3.,\n",
       "         7., 3., 7., 3., 3., 3., 7., 7., 3., 7., 3., 3., 7., 7., 3., 3., 3.,\n",
       "         3., 7., 3., 3., 7., 7., 3., 3., 7., 7., 3., 3., 3., 3., 3., 3., 7.,\n",
       "         7., 3., 3., 3., 7., 3., 3., 3., 7., 7., 3., 3., 3., 3., 7., 3., 3.,\n",
       "         3., 7., 7., 7., 7., 3., 7., 7., 7., 7., 3., 3., 3., 3., 7., 7., 3.,\n",
       "         7., 3., 3., 3., 7., 3., 3., 7., 3., 3., 7., 7., 7., 3., 7., 3., 7.,\n",
       "         3., 3., 7., 7., 7., 3., 7., 3., 3., 7., 7., 3., 3., 3., 3., 7., 3.,\n",
       "         3., 7., 7., 3., 7., 7., 7., 7., 3., 7., 7., 3., 7., 3., 7., 7., 7.,\n",
       "         3., 3., 3., 7., 3., 7., 3., 7., 3., 7., 7., 7., 7., 3., 7., 7., 7.,\n",
       "         7., 7., 7., 3., 3., 7., 3., 7., 3., 3., 3., 3., 3., 3., 7., 7., 3.,\n",
       "         3., 7., 7., 3., 7., 3., 3., 7., 7., 7., 7., 7., 7., 3., 3., 7., 3.,\n",
       "         3., 3., 3., 7., 7., 3., 7., 7., 7., 7., 7., 3., 7., 3., 3., 3., 3.,\n",
       "         7., 7., 3., 3., 3., 3., 7., 3., 3., 7., 7., 7., 7., 3., 3., 7., 3.,\n",
       "         7., 7., 3., 3., 7., 3., 3., 3., 3., 7., 3., 7., 3., 3., 3., 7., 3.,\n",
       "         7., 3., 3., 7., 7., 7., 3., 7., 3., 7., 3., 3., 3., 7., 3., 7., 7.,\n",
       "         7., 3., 7., 7., 3., 3., 7., 3., 3., 3., 3., 3., 7., 7., 7., 7., 3.,\n",
       "         3., 7., 7., 7., 3., 7., 3., 7., 7., 7., 3., 3., 3., 7., 3., 3., 3.,\n",
       "         3., 7., 7., 7., 3., 7., 3., 3., 7., 7., 7., 3., 7., 7., 3., 3., 7.,\n",
       "         7., 7., 7., 7., 7., 7., 3., 3., 3., 7., 7., 3., 3., 7., 7., 7., 3.,\n",
       "         7., 7., 7., 3., 7., 7., 3., 7., 3., 3., 3., 3., 3., 7., 3., 3., 7.,\n",
       "         7., 7., 7., 7., 7., 7., 7., 7., 3., 3., 3., 7., 7., 3., 7., 3., 7.,\n",
       "         3., 7., 3., 3., 7., 3., 3., 7., 3., 7., 7., 3., 3., 3., 3., 3., 3.,\n",
       "         3., 3., 7., 7., 3., 3., 7., 7., 3., 3., 3., 3., 3., 3., 7., 7., 7.,\n",
       "         7., 7., 7., 7., 3., 3., 3., 3., 3., 3., 7., 3., 3., 7., 3., 3., 3.,\n",
       "         3., 7., 3., 3., 7., 7., 7., 7., 7., 3., 3., 3., 3., 3., 7., 3., 3.,\n",
       "         3., 3., 7., 3., 3., 3., 7., 7., 7., 3., 7., 7., 3., 7., 7., 7., 3.,\n",
       "         7., 7., 3., 3., 7., 7., 3., 7., 3., 7., 3., 3., 3., 7., 7., 7., 7.,\n",
       "         3., 3., 7., 7., 3., 3., 7., 3., 3., 7., 7., 3., 7., 3., 7., 7., 7.,\n",
       "         3., 7., 3., 7., 3., 3., 7., 3., 3., 7., 7., 3., 7., 3., 3., 7., 3.,\n",
       "         7., 7., 7., 3., 3., 7., 7., 7., 7., 3., 3., 3., 7., 7., 3., 7., 3.,\n",
       "         3., 7., 7., 7., 3., 7., 7., 7., 7., 3., 3., 3., 7., 7., 3., 7., 3.,\n",
       "         3., 7., 3., 3., 7., 7., 7., 3., 7., 3., 7., 3., 3., 7., 7., 3., 7.,\n",
       "         3., 7., 3., 7., 7., 7., 7., 3., 7., 7., 7., 3., 3., 3., 3., 3., 7.,\n",
       "         7., 7., 3., 7., 3., 7., 3., 3., 7., 3., 7., 3., 3., 7., 7., 3., 7.,\n",
       "         7., 3., 7., 3., 3., 7., 3., 3., 7., 7., 7., 3., 3., 3., 7., 7., 3.,\n",
       "         3., 3., 7., 3., 7., 7., 7., 3., 7., 3., 7., 7., 3., 7., 3., 3., 7.,\n",
       "         7., 3., 3., 7., 3., 3., 3., 7., 7., 7., 3., 7., 3., 3., 3., 7., 3.,\n",
       "         7., 3., 7., 7., 3., 7., 3., 3., 7., 7., 7., 3., 3., 3., 3., 7., 3.,\n",
       "         3., 3., 7., 3., 7., 3., 3., 7., 3., 7., 3., 7., 7., 3., 7., 3., 3.,\n",
       "         3., 3., 3., 3., 7., 3., 7., 7., 7., 7., 7., 3., 3., 3.])},\n",
       " {'name': '3_8',\n",
       "  'train_acc': 0.9986666666666667,\n",
       "  'val_acc': 0.994,\n",
       "  'test_acc': 0.988,\n",
       "  'train_time': 5.440034866333008,\n",
       "  'train_pred': array([8., 3., 3., ..., 3., 3., 8.]),\n",
       "  'val_pred': array([3., 3., 8., 3., 3., 8., 3., 8., 3., 8., 8., 8., 8., 3., 3., 3., 3.,\n",
       "         8., 8., 3., 3., 3., 8., 8., 8., 3., 8., 8., 8., 8., 3., 8., 3., 8.,\n",
       "         3., 3., 8., 3., 8., 3., 3., 3., 8., 8., 8., 8., 3., 8., 3., 3., 3.,\n",
       "         3., 3., 8., 8., 3., 3., 3., 8., 8., 8., 8., 8., 3., 3., 8., 8., 8.,\n",
       "         8., 8., 3., 3., 8., 3., 3., 3., 8., 8., 8., 8., 8., 3., 8., 8., 3.,\n",
       "         8., 8., 8., 8., 8., 3., 8., 3., 3., 3., 3., 8., 8., 3., 8., 3., 3.,\n",
       "         3., 8., 3., 3., 8., 3., 8., 3., 8., 8., 8., 3., 3., 8., 3., 3., 8.,\n",
       "         3., 3., 8., 3., 8., 8., 8., 8., 3., 8., 3., 3., 8., 8., 3., 8., 3.,\n",
       "         3., 3., 3., 8., 3., 3., 8., 8., 3., 8., 3., 3., 8., 3., 3., 8., 3.,\n",
       "         8., 8., 8., 8., 3., 3., 8., 3., 3., 8., 3., 3., 3., 8., 3., 3., 3.,\n",
       "         8., 8., 8., 8., 8., 3., 3., 8., 3., 3., 3., 8., 3., 3., 8., 8., 3.,\n",
       "         3., 3., 8., 3., 3., 8., 3., 3., 3., 3., 3., 8., 3., 8., 3., 8., 3.,\n",
       "         8., 3., 3., 8., 8., 8., 8., 8., 8., 8., 8., 3., 8., 3., 3., 3., 3.,\n",
       "         8., 8., 3., 8., 8., 3., 3., 3., 3., 8., 8., 8., 8., 3., 3., 8., 3.,\n",
       "         3., 3., 3., 8., 3., 8., 3., 8., 8., 8., 8., 8., 8., 8., 3., 8., 8.,\n",
       "         3., 8., 8., 3., 3., 3., 3., 8., 8., 3., 8., 3., 3., 8., 8., 8., 8.,\n",
       "         8., 8., 3., 3., 3., 3., 3., 8., 8., 8., 8., 8., 8., 3., 3., 8., 3.,\n",
       "         8., 8., 3., 8., 3., 8., 8., 3., 8., 3., 3., 8., 3., 8., 8., 8., 3.,\n",
       "         3., 3., 3., 8., 3., 8., 3., 8., 8., 8., 8., 3., 8., 3., 3., 8., 3.,\n",
       "         8., 8., 3., 3., 3., 8., 8., 8., 8., 3., 8., 3., 8., 3., 3., 8., 3.,\n",
       "         8., 3., 3., 8., 8., 8., 8., 8., 8., 8., 3., 3., 3., 3., 8., 3., 3.,\n",
       "         8., 8., 3., 8., 8., 3., 3., 8., 3., 8., 3., 8., 3., 3., 8., 3., 8.,\n",
       "         3., 8., 3., 3., 8., 8., 8., 8., 3., 3., 3., 8., 8., 3., 3., 3., 3.,\n",
       "         3., 8., 8., 3., 8., 8., 3., 8., 8., 3., 8., 3., 3., 3., 8., 8., 8.,\n",
       "         8., 3., 3., 8., 8., 8., 8., 3., 3., 8., 8., 3., 3., 8., 8., 3., 3.,\n",
       "         8., 3., 8., 3., 3., 8., 8., 8., 8., 3., 3., 3., 3., 8., 3., 8., 8.,\n",
       "         3., 3., 3., 3., 8., 3., 3., 3., 8., 3., 3., 8., 8., 3., 8., 8., 3.,\n",
       "         3., 3., 3., 3., 3., 3., 8., 8., 8., 8., 3., 3., 3., 8., 3., 3., 3.,\n",
       "         3., 8., 3., 8., 8., 8., 3., 3., 3., 3., 8., 3., 8., 8., 3., 3., 3.,\n",
       "         8., 8., 3., 8., 3., 8., 8.]),\n",
       "  'test_pred': array([3., 8., 3., 3., 3., 3., 3., 8., 8., 3., 8., 8., 8., 3., 3., 8., 3.,\n",
       "         8., 3., 3., 3., 8., 8., 8., 3., 3., 3., 3., 3., 3., 3., 3., 8., 3.,\n",
       "         8., 8., 3., 8., 8., 8., 3., 3., 3., 8., 8., 3., 8., 8., 3., 8., 3.,\n",
       "         8., 8., 8., 3., 3., 3., 3., 3., 3., 3., 3., 8., 8., 8., 8., 3., 8.,\n",
       "         8., 8., 3., 8., 3., 8., 3., 3., 8., 8., 8., 3., 3., 8., 3., 8., 3.,\n",
       "         3., 8., 8., 3., 3., 8., 8., 3., 3., 8., 8., 3., 3., 8., 8., 8., 8.,\n",
       "         3., 8., 3., 3., 3., 8., 8., 3., 8., 8., 3., 3., 8., 3., 8., 8., 3.,\n",
       "         3., 3., 8., 3., 3., 8., 3., 3., 8., 8., 3., 3., 8., 3., 3., 8., 8.,\n",
       "         3., 8., 3., 3., 8., 3., 8., 8., 8., 8., 3., 3., 3., 3., 3., 8., 3.,\n",
       "         8., 3., 8., 8., 8., 3., 8., 8., 3., 8., 3., 8., 8., 8., 3., 8., 8.,\n",
       "         8., 8., 8., 3., 8., 8., 8., 8., 8., 8., 3., 3., 3., 8., 3., 3., 8.,\n",
       "         3., 3., 8., 8., 8., 8., 3., 8., 8., 3., 8., 8., 3., 3., 3., 3., 8.,\n",
       "         3., 3., 8., 3., 8., 8., 3., 3., 8., 3., 3., 8., 3., 3., 3., 3., 3.,\n",
       "         3., 3., 3., 3., 8., 3., 8., 3., 8., 3., 3., 3., 8., 8., 8., 3., 8.,\n",
       "         3., 8., 8., 8., 8., 8., 8., 8., 3., 8., 8., 3., 8., 3., 3., 8., 3.,\n",
       "         3., 8., 8., 8., 8., 3., 3., 3., 8., 8., 8., 8., 8., 8., 8., 8., 8.,\n",
       "         8., 3., 3., 8., 3., 8., 8., 3., 8., 8., 8., 3., 3., 8., 3., 8., 8.,\n",
       "         8., 8., 8., 3., 8., 3., 3., 3., 8., 8., 3., 8., 8., 8., 8., 3., 3.,\n",
       "         3., 3., 8., 3., 3., 3., 8., 3., 8., 8., 8., 8., 3., 3., 3., 3., 8.,\n",
       "         8., 8., 3., 3., 8., 3., 8., 3., 8., 3., 3., 3., 8., 8., 3., 8., 8.,\n",
       "         3., 3., 8., 8., 8., 8., 8., 3., 3., 3., 3., 8., 8., 8., 3., 3., 3.,\n",
       "         8., 3., 8., 3., 8., 8., 3., 3., 8., 8., 8., 3., 3., 3., 8., 8., 3.,\n",
       "         3., 3., 8., 8., 8., 8., 3., 8., 3., 3., 3., 3., 3., 3., 8., 8., 3.,\n",
       "         3., 8., 3., 8., 8., 8., 3., 3., 3., 8., 3., 8., 8., 3., 3., 3., 3.,\n",
       "         3., 3., 3., 8., 3., 8., 8., 8., 3., 8., 8., 8., 8., 3., 3., 3., 8.,\n",
       "         3., 3., 3., 8., 8., 3., 3., 8., 3., 3., 8., 8., 3., 8., 3., 8., 8.,\n",
       "         8., 3., 8., 8., 8., 8., 3., 3., 3., 8., 8., 8., 3., 3., 3., 3., 8.,\n",
       "         8., 8., 3., 3., 8., 8., 8., 8., 8., 3., 8., 8., 8., 8., 3., 3., 8.,\n",
       "         3., 3., 3., 8., 3., 3., 3., 8., 3., 8., 3., 8., 3., 8., 3., 8., 8.,\n",
       "         8., 8., 3., 3., 8., 8., 3., 3., 8., 8., 3., 8., 3., 8., 3., 8., 3.,\n",
       "         8., 3., 8., 8., 3., 3., 8., 3., 8., 8., 3., 3., 8., 8., 3., 8., 8.,\n",
       "         3., 8., 3., 8., 3., 3., 3., 8., 3., 3., 3., 8., 3., 3., 8., 8., 8.,\n",
       "         3., 8., 3., 3., 8., 8., 3., 8., 3., 3., 8., 3., 8., 3., 8., 8., 3.,\n",
       "         3., 8., 3., 8., 8., 3., 8., 8., 3., 8., 3., 3., 3., 8., 3., 3., 3.,\n",
       "         8., 3., 3., 3., 8., 3., 3., 8., 8., 8., 8., 8., 3., 3., 3., 8., 3.,\n",
       "         8., 3., 8., 8., 8., 8., 8., 8., 8., 3., 8., 3., 3., 8., 8., 3., 8.,\n",
       "         3., 3., 8., 8., 8., 3., 3., 3., 3., 3., 8., 8., 8., 8., 3., 8., 8.,\n",
       "         8., 8., 8., 8., 3., 8., 3., 3., 8., 8., 8., 8., 3., 3., 3., 8., 8.,\n",
       "         3., 8., 8., 3., 8., 3., 3., 3., 3., 3., 3., 3., 8., 8., 8., 8., 8.,\n",
       "         3., 3., 3., 8., 3., 8., 8., 8., 3., 8., 3., 8., 3., 3., 3., 3., 8.,\n",
       "         8., 8., 3., 8., 3., 3., 3., 3., 3., 3., 3., 8., 3., 8., 8., 3., 8.,\n",
       "         3., 8., 8., 8., 8., 3., 8., 3., 3., 3., 3., 8., 8., 8., 8., 8., 8.,\n",
       "         3., 3., 3., 3., 3., 8., 8., 3., 8., 3., 8., 8., 8., 3., 3., 3., 3.,\n",
       "         3., 3., 8., 8., 8., 8., 8., 3., 3., 8., 8., 3., 8., 3., 3., 8., 3.,\n",
       "         8., 3., 3., 3., 3., 3., 3., 8., 8., 8., 8., 3., 8., 3., 8., 8., 3.,\n",
       "         3., 8., 8., 8., 3., 8., 8., 3., 8., 3., 8., 8., 8., 8., 8., 8., 3.,\n",
       "         3., 3., 3., 8., 3., 8., 8., 3., 8., 3., 8., 8., 8., 3., 3., 8., 8.,\n",
       "         8., 8., 3., 8., 3., 8., 3., 8., 3., 8., 3., 8., 8., 3., 3., 3., 8.,\n",
       "         3., 8., 3., 3., 8., 8., 3., 3., 3., 8., 3., 8., 3., 8., 3., 8., 3.,\n",
       "         3., 3., 8., 8., 3., 3., 3., 8., 8., 8., 3., 8., 8., 8., 8., 3., 8.,\n",
       "         3., 8., 3., 8., 3., 8., 8., 3., 3., 8., 3., 3., 8., 3., 8., 3., 3.,\n",
       "         8., 3., 8., 8., 3., 3., 3., 3., 3., 8., 3., 3., 8., 3., 3., 3., 8.,\n",
       "         8., 3., 3., 3., 3., 8., 8., 8., 8., 3., 3., 8., 3., 8., 3., 8., 3.,\n",
       "         3., 3., 3., 3., 3., 3., 8., 8., 8., 3., 3., 8., 8., 3., 8., 8., 3.,\n",
       "         3., 8., 8., 8., 8., 8., 3., 8., 3., 8., 3., 8., 3., 3., 3., 8., 8.,\n",
       "         3., 8., 3., 3., 8., 8., 8., 3., 8., 3., 3., 3., 8., 8., 3., 3., 8.,\n",
       "         3., 8., 8., 3., 8., 3., 3., 8., 3., 3., 8., 3., 8., 3., 8., 3., 8.,\n",
       "         8., 8., 3., 3., 8., 8., 8., 3., 3., 8., 8., 8., 8., 8., 3., 3., 3.,\n",
       "         8., 8., 3., 8., 8., 3., 8., 8., 8., 8., 3., 8., 3., 3.])},\n",
       " {'name': '3_9',\n",
       "  'train_acc': 1.0,\n",
       "  'val_acc': 1.0,\n",
       "  'test_acc': 1.0,\n",
       "  'train_time': 3.595123052597046,\n",
       "  'train_pred': array([9., 3., 3., ..., 3., 3., 3.]),\n",
       "  'val_pred': array([3., 9., 3., 9., 9., 3., 3., 9., 3., 3., 9., 3., 9., 3., 9., 9., 3.,\n",
       "         3., 9., 3., 3., 9., 3., 9., 9., 9., 3., 9., 9., 9., 9., 9., 3., 9.,\n",
       "         3., 9., 3., 3., 3., 9., 9., 9., 9., 3., 9., 3., 3., 9., 9., 9., 3.,\n",
       "         9., 9., 9., 3., 3., 9., 3., 3., 3., 9., 9., 3., 3., 3., 9., 9., 3.,\n",
       "         9., 9., 9., 3., 9., 9., 9., 3., 3., 9., 3., 3., 9., 3., 9., 9., 9.,\n",
       "         3., 3., 9., 9., 9., 9., 9., 3., 9., 3., 9., 9., 3., 3., 9., 9., 3.,\n",
       "         3., 3., 3., 3., 3., 3., 3., 9., 9., 3., 9., 3., 3., 3., 3., 9., 9.,\n",
       "         3., 3., 3., 9., 3., 3., 3., 9., 9., 9., 3., 9., 9., 9., 9., 3., 3.,\n",
       "         9., 3., 9., 3., 9., 9., 9., 3., 9., 3., 9., 3., 9., 9., 9., 9., 3.,\n",
       "         3., 9., 3., 3., 9., 9., 3., 3., 3., 3., 9., 9., 3., 3., 3., 3., 3.,\n",
       "         9., 3., 9., 9., 9., 9., 3., 9., 3., 9., 9., 9., 3., 3., 9., 9., 3.,\n",
       "         9., 9., 3., 3., 3., 3., 3., 9., 9., 3., 3., 9., 3., 9., 3., 3., 3.,\n",
       "         3., 3., 9., 9., 9., 3., 3., 9., 3., 3., 3., 3., 3., 9., 3., 3., 9.,\n",
       "         9., 3., 3., 9., 9., 9., 3., 9., 9., 3., 9., 3., 3., 9., 9., 3., 3.,\n",
       "         3., 3., 3., 3., 3., 9., 9., 3., 9., 9., 9., 9., 3., 3., 3., 3., 9.,\n",
       "         9., 3., 3., 9., 3., 3., 3., 9., 9., 9., 9., 3., 9., 3., 3., 9., 3.,\n",
       "         9., 3., 9., 9., 9., 9., 9., 9., 3., 3., 3., 9., 9., 9., 9., 3., 3.,\n",
       "         9., 3., 3., 3., 3., 9., 9., 9., 3., 3., 9., 3., 3., 3., 9., 3., 3.,\n",
       "         9., 3., 3., 9., 9., 9., 9., 3., 3., 3., 3., 9., 9., 3., 3., 9., 9.,\n",
       "         3., 9., 3., 9., 9., 9., 3., 3., 3., 9., 9., 9., 3., 9., 3., 3., 9.,\n",
       "         9., 9., 3., 9., 3., 9., 9., 3., 9., 9., 9., 9., 3., 9., 9., 3., 3.,\n",
       "         9., 3., 9., 9., 3., 3., 3., 9., 3., 9., 3., 9., 3., 9., 3., 3., 3.,\n",
       "         9., 9., 3., 9., 3., 9., 3., 9., 3., 3., 3., 3., 9., 9., 9., 9., 3.,\n",
       "         9., 3., 3., 3., 3., 9., 9., 9., 9., 3., 9., 9., 3., 9., 9., 9., 9.,\n",
       "         3., 3., 3., 3., 9., 9., 9., 9., 9., 3., 3., 9., 3., 3., 3., 9., 9.,\n",
       "         9., 3., 3., 9., 3., 9., 9., 9., 3., 9., 3., 9., 9., 3., 3., 3., 3.,\n",
       "         3., 3., 9., 9., 9., 3., 9., 3., 3., 9., 9., 9., 9., 3., 3., 3., 3.,\n",
       "         9., 3., 3., 3., 3., 9., 9., 9., 9., 3., 3., 3., 3., 9., 3., 9., 3.,\n",
       "         9., 3., 3., 9., 3., 3., 3., 3., 9., 9., 9., 9., 3., 3., 3., 9., 9.,\n",
       "         9., 3., 9., 3., 9., 9., 9.]),\n",
       "  'test_pred': array([9., 9., 3., 9., 3., 3., 3., 3., 3., 3., 3., 9., 9., 3., 3., 3., 3.,\n",
       "         3., 9., 9., 9., 3., 3., 3., 9., 3., 9., 9., 9., 3., 3., 3., 3., 9.,\n",
       "         9., 9., 9., 9., 3., 9., 9., 9., 9., 9., 3., 9., 9., 9., 9., 3., 9.,\n",
       "         9., 9., 3., 3., 3., 9., 9., 9., 9., 3., 9., 9., 9., 9., 3., 9., 9.,\n",
       "         9., 9., 9., 3., 3., 3., 9., 9., 3., 3., 3., 3., 3., 3., 3., 3., 3.,\n",
       "         3., 9., 3., 3., 3., 3., 9., 3., 9., 3., 3., 9., 9., 9., 9., 3., 3.,\n",
       "         9., 9., 3., 3., 9., 9., 9., 3., 3., 9., 3., 3., 9., 3., 9., 9., 9.,\n",
       "         9., 9., 9., 9., 3., 3., 3., 3., 3., 3., 3., 3., 9., 3., 9., 3., 9.,\n",
       "         9., 9., 9., 9., 9., 9., 3., 9., 9., 3., 9., 9., 3., 9., 3., 9., 9.,\n",
       "         3., 3., 9., 3., 9., 9., 9., 9., 3., 3., 3., 3., 3., 3., 3., 9., 3.,\n",
       "         3., 9., 9., 9., 3., 3., 9., 3., 9., 9., 3., 9., 9., 3., 9., 9., 9.,\n",
       "         9., 9., 3., 3., 3., 3., 9., 3., 3., 9., 9., 3., 9., 9., 9., 9., 9.,\n",
       "         3., 3., 9., 3., 3., 9., 3., 3., 9., 9., 3., 3., 3., 9., 9., 3., 3.,\n",
       "         9., 9., 3., 9., 9., 3., 3., 3., 3., 3., 3., 3., 3., 3., 9., 3., 9.,\n",
       "         9., 3., 3., 3., 9., 9., 3., 3., 9., 3., 3., 3., 9., 9., 9., 9., 9.,\n",
       "         3., 9., 9., 3., 9., 3., 9., 3., 3., 3., 9., 9., 9., 9., 3., 3., 9.,\n",
       "         3., 9., 9., 9., 9., 9., 9., 3., 3., 3., 9., 3., 3., 9., 9., 3., 3.,\n",
       "         9., 9., 9., 9., 3., 9., 3., 9., 3., 9., 3., 9., 9., 9., 9., 3., 3.,\n",
       "         3., 3., 9., 9., 3., 3., 3., 9., 3., 3., 9., 9., 3., 3., 3., 3., 9.,\n",
       "         3., 3., 9., 3., 9., 3., 9., 9., 9., 9., 3., 3., 3., 9., 9., 3., 3.,\n",
       "         3., 3., 3., 3., 9., 3., 3., 3., 9., 9., 3., 9., 3., 9., 3., 3., 3.,\n",
       "         9., 9., 9., 9., 9., 9., 3., 3., 3., 3., 9., 3., 3., 9., 9., 9., 9.,\n",
       "         3., 9., 3., 3., 9., 9., 9., 9., 9., 3., 3., 3., 3., 3., 9., 9., 9.,\n",
       "         3., 9., 3., 9., 9., 3., 9., 9., 9., 9., 9., 3., 3., 3., 3., 9., 3.,\n",
       "         9., 9., 9., 3., 9., 3., 3., 3., 3., 9., 3., 3., 9., 3., 9., 9., 9.,\n",
       "         9., 9., 3., 9., 9., 9., 9., 9., 3., 3., 9., 9., 9., 9., 9., 9., 9.,\n",
       "         9., 9., 3., 3., 3., 9., 3., 9., 3., 9., 3., 3., 3., 3., 9., 3., 9.,\n",
       "         9., 3., 3., 3., 9., 3., 3., 3., 9., 9., 3., 9., 9., 9., 9., 3., 9.,\n",
       "         9., 3., 9., 9., 9., 9., 9., 9., 9., 3., 9., 9., 9., 3., 3., 3., 3.,\n",
       "         3., 9., 9., 9., 3., 3., 3., 9., 3., 3., 3., 9., 9., 3., 9., 3., 9.,\n",
       "         3., 9., 9., 9., 3., 3., 3., 3., 9., 3., 3., 9., 3., 9., 9., 9., 9.,\n",
       "         9., 3., 9., 3., 3., 9., 9., 9., 3., 9., 3., 9., 3., 3., 3., 3., 3.,\n",
       "         9., 3., 9., 3., 3., 3., 9., 3., 3., 9., 3., 3., 3., 3., 9., 9., 3.,\n",
       "         3., 9., 9., 9., 3., 9., 9., 3., 3., 9., 9., 3., 9., 9., 3., 9., 3.,\n",
       "         9., 9., 3., 9., 3., 3., 3., 3., 3., 9., 3., 3., 9., 9., 3., 3., 3.,\n",
       "         9., 9., 9., 3., 3., 9., 9., 9., 9., 3., 3., 9., 3., 9., 9., 3., 3.,\n",
       "         9., 9., 9., 3., 9., 3., 3., 9., 3., 9., 3., 3., 3., 3., 3., 9., 3.,\n",
       "         9., 9., 3., 3., 9., 9., 9., 9., 3., 3., 3., 9., 3., 3., 9., 9., 9.,\n",
       "         3., 9., 9., 9., 3., 9., 3., 3., 3., 3., 9., 9., 3., 3., 3., 3., 9.,\n",
       "         9., 9., 9., 3., 9., 3., 3., 9., 3., 9., 9., 9., 3., 3., 9., 3., 9.,\n",
       "         3., 9., 3., 3., 9., 9., 9., 9., 9., 3., 9., 3., 3., 3., 3., 3., 9.,\n",
       "         3., 3., 9., 9., 3., 9., 9., 9., 3., 3., 9., 9., 9., 9., 3., 3., 3.,\n",
       "         3., 3., 3., 9., 9., 9., 9., 9., 9., 3., 9., 3., 3., 9., 3., 3., 3.,\n",
       "         9., 9., 9., 3., 3., 9., 3., 3., 3., 3., 3., 3., 9., 9., 3., 3., 3.,\n",
       "         9., 9., 3., 3., 3., 3., 3., 3., 3., 3., 3., 9., 9., 3., 3., 9., 9.,\n",
       "         3., 9., 3., 9., 9., 3., 3., 3., 9., 3., 3., 3., 9., 3., 9., 3., 9.,\n",
       "         3., 3., 3., 3., 9., 9., 3., 3., 9., 9., 9., 9., 9., 9., 9., 3., 3.,\n",
       "         3., 9., 9., 3., 9., 3., 9., 3., 9., 9., 9., 3., 3., 3., 9., 9., 3.,\n",
       "         9., 9., 9., 3., 3., 9., 9., 3., 3., 3., 9., 3., 9., 3., 3., 9., 9.,\n",
       "         3., 9., 9., 3., 3., 3., 9., 9., 9., 3., 9., 3., 9., 3., 9., 3., 9.,\n",
       "         3., 9., 9., 3., 9., 3., 3., 3., 9., 9., 3., 3., 3., 9., 9., 9., 9.,\n",
       "         9., 9., 9., 9., 9., 3., 9., 9., 3., 3., 3., 3., 3., 3., 3., 9., 9.,\n",
       "         3., 3., 9., 9., 9., 3., 3., 3., 9., 9., 9., 3., 9., 3., 9., 3., 9.,\n",
       "         9., 3., 9., 3., 3., 3., 3., 3., 9., 9., 9., 3., 3., 3., 9., 9., 9.,\n",
       "         3., 9., 3., 3., 9., 9., 9., 9., 3., 3., 9., 3., 9., 9., 9., 9., 3.,\n",
       "         3., 3., 3., 3., 9., 9., 9., 3., 9., 9., 9., 3., 3., 3., 3., 9., 9.,\n",
       "         3., 9., 9., 3., 3., 3., 9., 9., 9., 9., 9., 9., 3., 3., 3., 9., 9.,\n",
       "         3., 3., 3., 3., 3., 3., 3., 9., 3., 9., 9., 3., 9., 9., 9., 3., 9.,\n",
       "         3., 3., 3., 3., 3., 3., 9., 9., 3., 9., 3., 9., 3., 3.])},\n",
       " {'name': '4_5',\n",
       "  'train_acc': 1.0,\n",
       "  'val_acc': 0.996,\n",
       "  'test_acc': 0.996,\n",
       "  'train_time': 5.2293407917022705,\n",
       "  'train_pred': array([5., 4., 4., ..., 5., 5., 4.]),\n",
       "  'val_pred': array([5., 4., 5., 5., 5., 5., 5., 4., 5., 4., 5., 4., 5., 4., 5., 4., 5.,\n",
       "         5., 5., 4., 4., 5., 4., 4., 4., 4., 4., 5., 4., 4., 4., 4., 4., 4.,\n",
       "         4., 5., 5., 5., 4., 4., 5., 5., 4., 5., 5., 5., 5., 4., 5., 4., 5.,\n",
       "         5., 4., 5., 5., 5., 5., 5., 4., 4., 5., 5., 4., 4., 5., 4., 4., 5.,\n",
       "         4., 5., 4., 4., 5., 5., 4., 5., 4., 4., 5., 4., 5., 4., 4., 4., 5.,\n",
       "         4., 4., 5., 5., 5., 5., 4., 4., 5., 5., 4., 5., 5., 5., 4., 5., 4.,\n",
       "         4., 4., 5., 4., 5., 5., 4., 5., 4., 4., 4., 5., 5., 4., 5., 4., 5.,\n",
       "         4., 4., 4., 5., 5., 5., 4., 4., 4., 4., 4., 4., 5., 5., 4., 5., 4.,\n",
       "         4., 4., 5., 4., 5., 5., 4., 4., 4., 5., 4., 4., 4., 4., 4., 4., 4.,\n",
       "         5., 5., 5., 4., 5., 4., 4., 4., 4., 4., 4., 4., 4., 5., 4., 5., 4.,\n",
       "         5., 5., 5., 4., 4., 4., 5., 5., 5., 5., 5., 5., 4., 5., 5., 4., 5.,\n",
       "         4., 4., 4., 5., 4., 5., 4., 4., 5., 5., 5., 5., 5., 5., 4., 4., 4.,\n",
       "         5., 5., 5., 5., 4., 4., 4., 4., 5., 4., 5., 5., 5., 5., 4., 5., 5.,\n",
       "         4., 5., 5., 5., 5., 4., 5., 5., 5., 5., 4., 5., 4., 4., 4., 4., 4.,\n",
       "         5., 5., 4., 4., 4., 4., 4., 5., 4., 5., 5., 5., 4., 5., 5., 4., 5.,\n",
       "         5., 5., 5., 5., 4., 4., 5., 4., 5., 4., 5., 4., 5., 5., 5., 5., 5.,\n",
       "         5., 5., 5., 4., 5., 5., 5., 4., 4., 4., 4., 4., 4., 5., 5., 4., 5.,\n",
       "         4., 4., 4., 5., 5., 4., 5., 5., 4., 4., 4., 5., 5., 4., 4., 4., 4.,\n",
       "         5., 5., 4., 4., 4., 4., 5., 5., 5., 4., 4., 4., 4., 4., 4., 4., 5.,\n",
       "         4., 4., 4., 5., 4., 5., 4., 4., 4., 5., 5., 4., 5., 4., 5., 4., 4.,\n",
       "         5., 5., 4., 5., 5., 5., 5., 4., 5., 5., 4., 5., 5., 4., 5., 5., 5.,\n",
       "         5., 5., 5., 4., 4., 4., 5., 5., 4., 4., 4., 5., 4., 5., 5., 5., 4.,\n",
       "         5., 4., 5., 4., 5., 4., 4., 5., 5., 4., 4., 5., 5., 5., 4., 5., 5.,\n",
       "         5., 4., 5., 5., 4., 5., 5., 5., 4., 4., 4., 5., 5., 4., 5., 4., 4.,\n",
       "         5., 5., 5., 4., 5., 4., 5., 5., 5., 4., 5., 4., 4., 4., 4., 5., 5.,\n",
       "         5., 5., 5., 5., 4., 4., 5., 4., 4., 4., 5., 5., 4., 4., 4., 5., 4.,\n",
       "         4., 5., 5., 4., 5., 4., 4., 4., 5., 4., 5., 4., 4., 4., 5., 4., 5.,\n",
       "         4., 4., 4., 5., 4., 5., 4., 5., 5., 4., 4., 4., 5., 5., 4., 5., 4.,\n",
       "         5., 4., 4., 5., 5., 4., 5., 4., 5., 5., 5., 4., 4., 5., 5., 4., 4.,\n",
       "         4., 5., 5., 5., 5., 5., 4.]),\n",
       "  'test_pred': array([5., 4., 4., 5., 5., 5., 5., 5., 5., 5., 5., 4., 5., 4., 4., 5., 5.,\n",
       "         4., 4., 5., 4., 4., 5., 4., 5., 5., 5., 4., 5., 4., 4., 5., 4., 5.,\n",
       "         5., 5., 4., 5., 5., 5., 4., 5., 5., 4., 5., 4., 4., 4., 4., 4., 5.,\n",
       "         5., 4., 5., 5., 5., 5., 5., 4., 4., 4., 5., 5., 5., 4., 4., 4., 5.,\n",
       "         4., 5., 5., 5., 5., 4., 4., 4., 4., 5., 5., 4., 4., 4., 4., 4., 4.,\n",
       "         5., 4., 5., 5., 5., 4., 5., 5., 4., 5., 4., 4., 5., 4., 5., 5., 5.,\n",
       "         5., 5., 4., 4., 4., 5., 4., 5., 4., 4., 4., 5., 5., 4., 4., 5., 4.,\n",
       "         4., 5., 5., 5., 4., 5., 5., 4., 4., 5., 5., 4., 5., 5., 5., 5., 5.,\n",
       "         4., 4., 4., 5., 5., 4., 5., 4., 5., 5., 5., 5., 5., 5., 4., 4., 5.,\n",
       "         5., 5., 5., 4., 4., 4., 5., 5., 5., 4., 4., 5., 4., 4., 5., 4., 5.,\n",
       "         5., 4., 5., 5., 5., 4., 4., 5., 4., 4., 5., 4., 5., 5., 5., 4., 4.,\n",
       "         5., 4., 5., 4., 5., 5., 5., 5., 5., 5., 4., 5., 5., 4., 5., 5., 5.,\n",
       "         5., 5., 4., 5., 5., 5., 5., 5., 4., 5., 4., 4., 5., 4., 5., 4., 5.,\n",
       "         4., 5., 5., 4., 4., 4., 4., 4., 4., 5., 5., 5., 5., 5., 5., 4., 5.,\n",
       "         4., 5., 4., 5., 5., 4., 4., 5., 4., 5., 5., 5., 4., 5., 4., 4., 4.,\n",
       "         5., 4., 5., 4., 4., 5., 4., 4., 5., 4., 4., 5., 4., 5., 5., 4., 5.,\n",
       "         4., 5., 4., 4., 5., 4., 5., 5., 4., 5., 5., 4., 4., 5., 5., 5., 5.,\n",
       "         5., 5., 4., 5., 5., 4., 5., 4., 4., 4., 5., 4., 4., 4., 4., 4., 4.,\n",
       "         5., 4., 4., 4., 4., 4., 5., 4., 5., 5., 4., 4., 4., 4., 5., 4., 5.,\n",
       "         5., 5., 5., 4., 4., 4., 4., 5., 5., 4., 4., 5., 4., 5., 4., 4., 4.,\n",
       "         5., 4., 4., 4., 5., 4., 4., 4., 4., 4., 4., 4., 4., 5., 5., 5., 4.,\n",
       "         5., 5., 5., 5., 5., 5., 4., 4., 4., 4., 4., 5., 4., 5., 4., 4., 5.,\n",
       "         4., 4., 4., 5., 4., 5., 5., 4., 4., 5., 5., 4., 5., 4., 4., 5., 4.,\n",
       "         4., 4., 4., 5., 4., 5., 4., 5., 4., 4., 5., 4., 4., 5., 4., 4., 5.,\n",
       "         5., 5., 4., 4., 4., 5., 5., 5., 5., 5., 5., 5., 4., 4., 4., 4., 5.,\n",
       "         4., 4., 5., 5., 5., 4., 4., 5., 4., 4., 5., 5., 5., 4., 5., 4., 5.,\n",
       "         4., 4., 4., 5., 5., 4., 5., 5., 5., 5., 4., 4., 5., 5., 4., 4., 4.,\n",
       "         5., 4., 4., 5., 4., 4., 5., 5., 4., 5., 5., 5., 5., 4., 4., 5., 5.,\n",
       "         4., 4., 4., 5., 5., 5., 4., 5., 5., 5., 5., 5., 4., 4., 4., 4., 4.,\n",
       "         5., 5., 5., 5., 5., 4., 5., 4., 4., 5., 5., 5., 5., 4., 4., 5., 4.,\n",
       "         4., 5., 4., 5., 5., 4., 4., 4., 5., 5., 4., 4., 5., 4., 4., 4., 5.,\n",
       "         5., 4., 5., 5., 4., 4., 4., 4., 4., 5., 4., 5., 4., 4., 4., 4., 5.,\n",
       "         4., 4., 4., 5., 5., 4., 4., 4., 5., 4., 4., 4., 4., 4., 4., 5., 4.,\n",
       "         5., 5., 4., 4., 5., 5., 4., 5., 4., 5., 4., 4., 5., 5., 4., 4., 5.,\n",
       "         5., 4., 4., 5., 4., 5., 5., 4., 5., 5., 4., 5., 4., 4., 5., 5., 5.,\n",
       "         4., 5., 5., 4., 5., 5., 5., 5., 4., 5., 4., 4., 4., 4., 5., 5., 4.,\n",
       "         4., 4., 4., 5., 5., 4., 5., 5., 4., 4., 5., 4., 5., 5., 4., 4., 4.,\n",
       "         4., 4., 4., 5., 4., 4., 5., 4., 5., 5., 5., 5., 4., 4., 5., 4., 5.,\n",
       "         4., 5., 4., 5., 4., 4., 4., 5., 5., 5., 5., 5., 4., 5., 4., 5., 5.,\n",
       "         4., 5., 5., 5., 5., 4., 4., 4., 5., 5., 4., 4., 4., 4., 5., 4., 5.,\n",
       "         4., 5., 5., 4., 5., 4., 5., 5., 4., 4., 4., 5., 4., 5., 4., 4., 5.,\n",
       "         4., 5., 4., 4., 4., 4., 5., 4., 4., 5., 4., 5., 5., 5., 4., 4., 4.,\n",
       "         5., 4., 4., 4., 5., 5., 4., 5., 5., 5., 4., 5., 5., 5., 5., 4., 5.,\n",
       "         5., 4., 5., 4., 5., 5., 5., 4., 5., 5., 4., 4., 5., 4., 4., 5., 4.,\n",
       "         5., 4., 5., 5., 5., 5., 4., 5., 4., 4., 5., 4., 5., 4., 5., 5., 4.,\n",
       "         4., 5., 4., 5., 5., 4., 4., 4., 4., 5., 5., 5., 4., 4., 4., 5., 5.,\n",
       "         5., 5., 5., 4., 5., 4., 5., 4., 4., 5., 5., 4., 4., 5., 4., 4., 5.,\n",
       "         5., 4., 5., 4., 5., 5., 4., 5., 4., 5., 5., 4., 5., 4., 4., 4., 5.,\n",
       "         4., 4., 5., 5., 5., 4., 5., 4., 4., 4., 4., 4., 4., 5., 5., 5., 4.,\n",
       "         4., 4., 5., 4., 5., 5., 4., 5., 4., 5., 5., 5., 5., 5., 4., 5., 4.,\n",
       "         5., 4., 4., 5., 5., 5., 5., 4., 5., 4., 4., 5., 4., 5., 5., 5., 4.,\n",
       "         5., 5., 5., 4., 4., 5., 4., 5., 5., 4., 5., 4., 4., 5., 5., 5., 5.,\n",
       "         4., 4., 5., 5., 5., 5., 4., 4., 5., 5., 4., 5., 4., 4., 4., 5., 4.,\n",
       "         5., 5., 5., 4., 4., 4., 4., 5., 4., 5., 4., 5., 4., 5., 5., 5., 5.,\n",
       "         4., 5., 4., 4., 5., 4., 4., 4., 4., 4., 4., 4., 5., 4., 5., 5., 4.,\n",
       "         5., 4., 5., 4., 4., 5., 4., 4., 5., 4., 4., 4., 4., 4., 5., 5., 5.,\n",
       "         4., 4., 4., 5., 5., 4., 5., 5., 4., 4., 5., 4., 5., 5., 5., 5., 5.,\n",
       "         4., 4., 4., 5., 5., 4., 4., 4., 4., 4., 5., 5., 4., 5., 5., 4., 4.,\n",
       "         5., 5., 5., 4., 5., 4., 5., 4., 4., 4., 5., 5., 5., 4.])},\n",
       " {'name': '4_6',\n",
       "  'train_acc': 0.9762222222222222,\n",
       "  'val_acc': 0.892,\n",
       "  'test_acc': 0.89,\n",
       "  'train_time': 11.713685035705566,\n",
       "  'train_pred': array([6., 4., 4., ..., 4., 4., 4.]),\n",
       "  'val_pred': array([4., 6., 6., 4., 4., 4., 6., 4., 4., 6., 6., 4., 4., 4., 4., 6., 6.,\n",
       "         6., 4., 6., 4., 4., 4., 4., 4., 4., 6., 4., 6., 4., 6., 6., 4., 4.,\n",
       "         6., 6., 6., 6., 4., 6., 4., 6., 4., 6., 6., 6., 4., 4., 6., 6., 6.,\n",
       "         4., 4., 6., 4., 6., 6., 4., 6., 4., 6., 4., 6., 6., 4., 6., 4., 6.,\n",
       "         4., 4., 4., 6., 4., 6., 6., 4., 6., 6., 6., 4., 6., 4., 6., 4., 6.,\n",
       "         6., 4., 6., 4., 6., 6., 6., 6., 6., 4., 4., 6., 4., 4., 4., 4., 6.,\n",
       "         6., 6., 4., 4., 4., 6., 4., 6., 6., 6., 6., 4., 4., 4., 4., 6., 4.,\n",
       "         4., 4., 4., 4., 4., 6., 4., 6., 4., 6., 4., 4., 6., 4., 6., 4., 4.,\n",
       "         4., 6., 4., 6., 4., 4., 4., 4., 4., 6., 6., 6., 4., 4., 4., 4., 4.,\n",
       "         6., 4., 4., 4., 4., 6., 4., 4., 6., 6., 6., 4., 6., 4., 6., 6., 6.,\n",
       "         4., 6., 6., 4., 4., 4., 6., 4., 6., 6., 6., 4., 6., 4., 6., 6., 6.,\n",
       "         4., 4., 4., 6., 6., 6., 4., 6., 4., 4., 4., 4., 4., 6., 6., 4., 4.,\n",
       "         4., 6., 6., 6., 4., 6., 6., 6., 6., 4., 6., 6., 4., 6., 6., 4., 6.,\n",
       "         4., 4., 4., 4., 6., 6., 4., 6., 6., 4., 6., 4., 4., 6., 6., 4., 6.,\n",
       "         4., 6., 6., 6., 4., 6., 6., 4., 4., 4., 4., 6., 4., 6., 4., 6., 6.,\n",
       "         4., 6., 6., 6., 6., 4., 4., 6., 4., 4., 6., 4., 6., 6., 4., 4., 6.,\n",
       "         6., 4., 6., 4., 4., 4., 6., 6., 4., 4., 6., 4., 6., 6., 6., 6., 6.,\n",
       "         4., 4., 4., 6., 6., 6., 4., 4., 4., 4., 6., 4., 4., 6., 6., 4., 4.,\n",
       "         4., 6., 4., 6., 4., 6., 4., 6., 4., 6., 4., 4., 4., 6., 4., 4., 6.,\n",
       "         4., 6., 6., 6., 4., 4., 6., 4., 6., 6., 6., 4., 4., 4., 6., 6., 6.,\n",
       "         6., 4., 4., 4., 6., 6., 4., 6., 4., 4., 6., 4., 6., 6., 4., 6., 6.,\n",
       "         4., 6., 4., 6., 6., 6., 4., 4., 6., 6., 4., 6., 6., 4., 6., 4., 6.,\n",
       "         6., 4., 4., 6., 6., 4., 4., 6., 6., 6., 4., 4., 4., 6., 6., 6., 4.,\n",
       "         4., 6., 4., 4., 4., 6., 4., 6., 6., 6., 4., 6., 4., 4., 6., 4., 6.,\n",
       "         4., 6., 6., 6., 6., 4., 6., 6., 6., 4., 4., 4., 4., 6., 4., 4., 6.,\n",
       "         6., 6., 4., 6., 4., 6., 6., 4., 4., 6., 4., 4., 4., 6., 6., 4., 4.,\n",
       "         6., 4., 4., 4., 6., 6., 4., 4., 6., 6., 4., 4., 4., 6., 6., 6., 6.,\n",
       "         6., 6., 4., 4., 6., 4., 6., 4., 4., 6., 4., 6., 6., 6., 6., 6., 6.,\n",
       "         4., 6., 4., 6., 4., 4., 4., 6., 4., 6., 4., 6., 6., 4., 4., 6., 4.,\n",
       "         4., 6., 4., 6., 6., 6., 4.]),\n",
       "  'test_pred': array([4., 6., 6., 6., 6., 4., 4., 6., 6., 4., 4., 4., 6., 6., 4., 4., 4.,\n",
       "         4., 6., 4., 6., 4., 6., 4., 6., 4., 4., 4., 4., 6., 4., 6., 4., 6.,\n",
       "         4., 4., 6., 6., 6., 6., 6., 4., 4., 6., 6., 4., 4., 6., 6., 6., 6.,\n",
       "         6., 4., 4., 6., 6., 4., 4., 4., 4., 6., 6., 6., 6., 6., 6., 4., 4.,\n",
       "         4., 4., 6., 4., 6., 6., 6., 6., 6., 6., 4., 4., 4., 4., 4., 6., 4.,\n",
       "         6., 6., 6., 4., 4., 6., 4., 6., 4., 6., 6., 6., 4., 4., 4., 6., 4.,\n",
       "         4., 4., 6., 4., 4., 4., 6., 6., 6., 6., 6., 4., 6., 6., 6., 6., 6.,\n",
       "         4., 6., 6., 4., 6., 4., 4., 4., 6., 4., 4., 6., 4., 6., 6., 6., 6.,\n",
       "         6., 6., 6., 6., 6., 6., 6., 6., 6., 4., 6., 4., 6., 4., 6., 4., 6.,\n",
       "         4., 6., 4., 4., 4., 6., 6., 6., 6., 6., 4., 6., 6., 6., 4., 4., 4.,\n",
       "         6., 6., 4., 6., 6., 4., 4., 6., 6., 6., 4., 4., 6., 4., 4., 4., 6.,\n",
       "         4., 6., 6., 4., 6., 6., 6., 6., 6., 4., 6., 6., 6., 4., 6., 6., 4.,\n",
       "         4., 4., 6., 6., 6., 4., 6., 4., 4., 6., 4., 6., 4., 6., 6., 4., 6.,\n",
       "         4., 4., 6., 4., 6., 4., 4., 6., 6., 6., 4., 4., 4., 6., 4., 6., 6.,\n",
       "         6., 4., 6., 4., 4., 6., 6., 4., 6., 6., 4., 4., 4., 4., 4., 6., 4.,\n",
       "         6., 4., 6., 4., 6., 6., 4., 6., 6., 4., 4., 4., 6., 6., 4., 6., 6.,\n",
       "         6., 4., 4., 6., 4., 6., 6., 6., 6., 4., 4., 4., 4., 6., 4., 4., 6.,\n",
       "         6., 4., 4., 4., 4., 6., 4., 4., 4., 6., 4., 6., 4., 4., 6., 6., 6.,\n",
       "         6., 6., 4., 4., 6., 4., 4., 6., 6., 4., 6., 6., 4., 4., 4., 4., 6.,\n",
       "         4., 4., 6., 6., 6., 6., 6., 4., 6., 4., 4., 4., 4., 6., 4., 6., 6.,\n",
       "         4., 4., 6., 4., 6., 4., 4., 4., 4., 6., 6., 4., 6., 6., 6., 6., 6.,\n",
       "         6., 6., 4., 6., 4., 4., 4., 6., 4., 4., 4., 4., 4., 6., 4., 4., 4.,\n",
       "         4., 6., 6., 4., 4., 4., 4., 4., 6., 4., 6., 4., 6., 4., 6., 4., 6.,\n",
       "         6., 4., 6., 6., 6., 4., 4., 4., 4., 4., 6., 4., 6., 6., 6., 4., 4.,\n",
       "         6., 4., 6., 4., 6., 6., 6., 4., 4., 4., 6., 4., 4., 6., 6., 4., 4.,\n",
       "         4., 6., 6., 6., 6., 6., 4., 6., 4., 6., 4., 6., 4., 6., 4., 4., 4.,\n",
       "         4., 6., 6., 4., 6., 4., 6., 6., 4., 4., 4., 4., 4., 4., 6., 6., 4.,\n",
       "         4., 6., 4., 4., 6., 6., 6., 6., 4., 4., 4., 6., 4., 4., 4., 4., 6.,\n",
       "         6., 4., 4., 6., 6., 6., 6., 6., 6., 6., 6., 6., 4., 6., 6., 6., 6.,\n",
       "         6., 4., 4., 6., 4., 6., 6., 4., 6., 4., 6., 6., 4., 6., 4., 6., 4.,\n",
       "         4., 4., 6., 6., 6., 6., 4., 4., 4., 6., 6., 6., 6., 4., 6., 4., 4.,\n",
       "         4., 6., 4., 4., 6., 4., 4., 6., 6., 6., 4., 6., 6., 4., 4., 6., 4.,\n",
       "         4., 6., 4., 4., 4., 4., 6., 4., 6., 4., 4., 4., 6., 4., 6., 4., 4.,\n",
       "         6., 6., 6., 6., 4., 4., 4., 4., 6., 4., 6., 4., 4., 4., 6., 6., 4.,\n",
       "         4., 6., 6., 6., 6., 6., 4., 6., 6., 6., 4., 4., 4., 4., 6., 6., 4.,\n",
       "         6., 6., 4., 6., 4., 6., 6., 6., 4., 6., 6., 6., 6., 4., 6., 4., 6.,\n",
       "         4., 6., 6., 4., 4., 6., 6., 4., 6., 6., 4., 4., 6., 4., 4., 6., 4.,\n",
       "         4., 4., 6., 6., 4., 4., 4., 4., 6., 4., 4., 6., 6., 6., 6., 4., 6.,\n",
       "         4., 6., 6., 6., 6., 4., 4., 6., 4., 6., 4., 6., 4., 6., 4., 6., 6.,\n",
       "         4., 4., 4., 4., 6., 6., 4., 4., 6., 6., 4., 6., 6., 4., 6., 6., 6.,\n",
       "         4., 6., 6., 6., 4., 4., 6., 4., 6., 4., 6., 4., 4., 6., 4., 6., 6.,\n",
       "         4., 6., 4., 6., 4., 4., 4., 4., 4., 6., 6., 6., 4., 4., 4., 6., 6.,\n",
       "         4., 6., 4., 6., 6., 6., 6., 4., 4., 6., 4., 4., 4., 6., 6., 6., 6.,\n",
       "         4., 6., 6., 4., 6., 4., 6., 6., 4., 6., 6., 4., 4., 4., 4., 6., 6.,\n",
       "         6., 6., 4., 6., 6., 6., 6., 4., 6., 6., 6., 4., 6., 4., 6., 4., 6.,\n",
       "         6., 4., 4., 4., 6., 6., 4., 4., 6., 4., 6., 4., 6., 6., 6., 6., 6.,\n",
       "         6., 4., 4., 6., 6., 4., 4., 6., 4., 4., 6., 6., 6., 6., 4., 4., 6.,\n",
       "         4., 6., 4., 4., 6., 6., 4., 6., 6., 4., 6., 4., 4., 4., 4., 6., 4.,\n",
       "         6., 4., 6., 4., 4., 6., 6., 6., 6., 6., 4., 4., 4., 4., 6., 4., 4.,\n",
       "         4., 4., 6., 4., 6., 6., 4., 6., 6., 6., 4., 6., 6., 6., 4., 6., 6.,\n",
       "         4., 4., 4., 4., 6., 4., 4., 4., 6., 6., 6., 4., 6., 6., 4., 4., 6.,\n",
       "         6., 6., 6., 6., 6., 6., 6., 6., 6., 4., 6., 4., 6., 6., 4., 4., 4.,\n",
       "         6., 6., 4., 4., 6., 6., 4., 4., 4., 6., 4., 4., 4., 6., 4., 4., 6.,\n",
       "         4., 4., 6., 6., 6., 4., 6., 6., 6., 6., 6., 4., 6., 4., 6., 4., 4.,\n",
       "         4., 4., 4., 4., 4., 4., 6., 4., 6., 4., 4., 4., 6., 4., 4., 6., 6.,\n",
       "         4., 4., 4., 6., 4., 4., 6., 6., 4., 6., 4., 4., 6., 6., 4., 4., 4.,\n",
       "         6., 4., 4., 6., 6., 6., 4., 4., 6., 4., 6., 6., 6., 6., 4., 4., 6.,\n",
       "         6., 6., 6., 6., 6., 6., 4., 4., 6., 4., 6., 6., 6., 4., 6., 6., 6.,\n",
       "         6., 4., 4., 4., 6., 4., 4., 4., 6., 4., 4., 6., 4., 6.])},\n",
       " {'name': '4_7',\n",
       "  'train_acc': 1.0,\n",
       "  'val_acc': 0.994,\n",
       "  'test_acc': 0.999,\n",
       "  'train_time': 2.6390318870544434,\n",
       "  'train_pred': array([7., 7., 4., ..., 7., 4., 7.]),\n",
       "  'val_pred': array([4., 7., 7., 4., 7., 4., 4., 7., 4., 7., 7., 4., 7., 4., 4., 4., 7.,\n",
       "         7., 4., 4., 4., 4., 7., 7., 7., 4., 7., 4., 7., 4., 7., 4., 7., 4.,\n",
       "         4., 4., 7., 7., 4., 4., 4., 7., 4., 7., 4., 7., 4., 7., 7., 7., 7.,\n",
       "         7., 4., 4., 7., 7., 7., 4., 4., 7., 4., 4., 4., 4., 7., 7., 4., 4.,\n",
       "         7., 7., 4., 7., 4., 4., 4., 7., 4., 7., 7., 7., 7., 7., 7., 7., 4.,\n",
       "         7., 4., 4., 7., 7., 7., 7., 7., 4., 4., 7., 4., 7., 7., 4., 4., 4.,\n",
       "         4., 4., 7., 7., 4., 7., 4., 4., 7., 4., 7., 4., 4., 7., 4., 7., 4.,\n",
       "         4., 7., 7., 7., 7., 7., 4., 7., 7., 4., 4., 4., 7., 4., 4., 4., 4.,\n",
       "         7., 4., 4., 4., 4., 4., 4., 4., 7., 7., 4., 4., 4., 7., 4., 4., 4.,\n",
       "         7., 7., 4., 7., 4., 7., 7., 4., 4., 4., 4., 4., 4., 4., 4., 7., 4.,\n",
       "         7., 4., 7., 7., 7., 7., 4., 4., 7., 4., 7., 7., 7., 7., 7., 4., 7.,\n",
       "         7., 4., 7., 4., 4., 4., 4., 7., 4., 4., 7., 7., 4., 4., 7., 4., 7.,\n",
       "         7., 7., 7., 7., 4., 4., 4., 4., 7., 4., 7., 4., 7., 7., 7., 4., 4.,\n",
       "         7., 7., 7., 7., 4., 7., 7., 7., 7., 7., 7., 7., 7., 7., 4., 4., 4.,\n",
       "         4., 4., 4., 4., 4., 7., 7., 4., 4., 7., 7., 7., 4., 4., 7., 4., 4.,\n",
       "         7., 7., 4., 4., 7., 7., 4., 4., 4., 7., 7., 7., 7., 7., 7., 4., 4.,\n",
       "         4., 4., 4., 4., 4., 7., 7., 7., 7., 7., 7., 4., 7., 7., 4., 4., 4.,\n",
       "         7., 4., 7., 4., 4., 4., 4., 4., 4., 4., 7., 4., 4., 7., 4., 4., 7.,\n",
       "         4., 4., 4., 7., 4., 4., 4., 4., 4., 7., 4., 4., 4., 7., 4., 4., 7.,\n",
       "         4., 4., 7., 7., 4., 7., 4., 4., 4., 7., 4., 4., 7., 7., 4., 4., 4.,\n",
       "         4., 4., 4., 4., 4., 4., 7., 4., 4., 7., 7., 7., 7., 7., 4., 7., 7.,\n",
       "         4., 7., 4., 7., 7., 7., 7., 7., 4., 7., 7., 4., 4., 7., 7., 4., 7.,\n",
       "         7., 7., 4., 7., 7., 4., 7., 7., 4., 4., 4., 7., 7., 7., 4., 4., 4.,\n",
       "         4., 7., 7., 7., 4., 4., 7., 4., 4., 4., 7., 7., 4., 7., 7., 7., 7.,\n",
       "         7., 4., 4., 4., 4., 4., 7., 7., 7., 4., 7., 4., 7., 7., 4., 7., 4.,\n",
       "         4., 4., 7., 7., 4., 7., 7., 4., 7., 4., 7., 4., 7., 7., 4., 4., 7.,\n",
       "         4., 4., 7., 4., 7., 4., 7., 4., 7., 7., 4., 7., 7., 7., 4., 7., 4.,\n",
       "         7., 7., 7., 4., 7., 4., 4., 7., 7., 7., 7., 7., 4., 7., 7., 4., 7.,\n",
       "         7., 4., 4., 7., 7., 7., 4., 7., 7., 7., 4., 7., 7., 4., 4., 4., 4.,\n",
       "         4., 7., 7., 7., 7., 7., 4.]),\n",
       "  'test_pred': array([4., 7., 7., 4., 7., 7., 7., 4., 7., 7., 7., 4., 7., 4., 7., 4., 4.,\n",
       "         4., 7., 4., 7., 4., 7., 4., 7., 4., 4., 4., 7., 7., 7., 7., 7., 4.,\n",
       "         7., 7., 4., 7., 4., 7., 4., 4., 7., 4., 4., 7., 4., 4., 7., 7., 4.,\n",
       "         7., 4., 7., 4., 7., 7., 4., 7., 4., 4., 7., 4., 4., 4., 4., 4., 7.,\n",
       "         4., 4., 4., 4., 7., 4., 7., 4., 4., 7., 7., 7., 7., 4., 7., 7., 4.,\n",
       "         4., 7., 4., 7., 4., 7., 7., 7., 4., 4., 7., 4., 4., 7., 4., 4., 4.,\n",
       "         7., 4., 4., 7., 7., 4., 4., 7., 7., 4., 7., 7., 7., 7., 4., 4., 4.,\n",
       "         4., 4., 4., 4., 4., 7., 4., 7., 7., 7., 7., 7., 7., 7., 7., 4., 7.,\n",
       "         7., 4., 7., 7., 4., 4., 7., 4., 7., 7., 4., 4., 7., 7., 7., 4., 4.,\n",
       "         4., 7., 7., 7., 7., 4., 4., 7., 4., 4., 7., 7., 4., 4., 7., 7., 4.,\n",
       "         4., 4., 7., 7., 4., 7., 7., 7., 7., 7., 7., 7., 7., 4., 7., 7., 7.,\n",
       "         4., 7., 7., 7., 7., 7., 4., 7., 7., 7., 7., 4., 4., 7., 7., 4., 7.,\n",
       "         7., 4., 4., 4., 4., 4., 7., 7., 7., 4., 4., 4., 4., 7., 4., 7., 4.,\n",
       "         7., 7., 7., 7., 4., 4., 7., 4., 7., 4., 7., 7., 4., 7., 4., 7., 4.,\n",
       "         7., 4., 4., 7., 7., 7., 4., 4., 7., 7., 4., 4., 4., 7., 7., 7., 4.,\n",
       "         7., 4., 7., 7., 7., 7., 7., 4., 4., 7., 7., 4., 7., 4., 7., 4., 7.,\n",
       "         7., 4., 7., 7., 7., 7., 4., 7., 4., 7., 7., 7., 7., 7., 7., 4., 4.,\n",
       "         4., 4., 7., 4., 4., 4., 4., 4., 7., 7., 4., 7., 4., 4., 4., 4., 4.,\n",
       "         4., 7., 7., 4., 7., 7., 4., 4., 7., 7., 7., 7., 4., 4., 7., 4., 7.,\n",
       "         7., 4., 4., 4., 4., 7., 4., 7., 4., 7., 4., 7., 4., 4., 4., 4., 4.,\n",
       "         4., 7., 4., 4., 7., 4., 7., 4., 4., 4., 7., 4., 4., 7., 7., 7., 4.,\n",
       "         7., 7., 7., 7., 4., 4., 4., 4., 4., 4., 4., 4., 4., 4., 4., 4., 7.,\n",
       "         7., 4., 4., 7., 7., 4., 4., 7., 7., 4., 4., 4., 4., 4., 7., 7., 7.,\n",
       "         7., 4., 4., 7., 7., 7., 7., 4., 4., 4., 4., 4., 7., 7., 4., 7., 7.,\n",
       "         4., 4., 7., 4., 7., 7., 7., 7., 4., 4., 4., 4., 4., 7., 7., 7., 7.,\n",
       "         4., 4., 7., 4., 7., 4., 4., 7., 7., 7., 4., 7., 7., 7., 7., 4., 7.,\n",
       "         4., 4., 7., 7., 7., 4., 4., 7., 4., 4., 7., 7., 4., 7., 4., 4., 7.,\n",
       "         4., 4., 4., 4., 7., 7., 4., 7., 7., 4., 4., 7., 7., 7., 7., 4., 4.,\n",
       "         4., 7., 7., 7., 4., 4., 4., 4., 4., 7., 4., 7., 7., 4., 7., 4., 4.,\n",
       "         7., 7., 4., 4., 4., 4., 7., 4., 7., 7., 7., 4., 4., 7., 7., 4., 7.,\n",
       "         4., 4., 7., 4., 4., 4., 7., 7., 4., 7., 4., 4., 4., 7., 4., 7., 7.,\n",
       "         4., 7., 4., 7., 4., 4., 4., 4., 4., 7., 7., 4., 4., 4., 4., 4., 4.,\n",
       "         7., 4., 4., 7., 7., 7., 4., 7., 7., 4., 7., 7., 4., 4., 7., 4., 4.,\n",
       "         7., 4., 4., 4., 7., 4., 7., 4., 4., 7., 4., 4., 7., 7., 7., 4., 7.,\n",
       "         4., 7., 4., 4., 4., 7., 4., 7., 7., 7., 4., 7., 7., 4., 7., 4., 4.,\n",
       "         4., 7., 4., 7., 4., 4., 4., 4., 7., 4., 7., 7., 7., 7., 4., 4., 7.,\n",
       "         7., 4., 7., 4., 7., 4., 4., 4., 4., 4., 7., 4., 4., 4., 7., 7., 7.,\n",
       "         4., 7., 7., 4., 7., 7., 4., 7., 7., 4., 4., 7., 7., 7., 7., 7., 7.,\n",
       "         4., 7., 4., 4., 7., 4., 7., 4., 7., 7., 7., 7., 7., 4., 7., 7., 4.,\n",
       "         7., 4., 7., 4., 4., 4., 4., 4., 7., 4., 7., 4., 7., 7., 7., 7., 7.,\n",
       "         4., 7., 7., 7., 4., 7., 7., 4., 7., 4., 7., 4., 7., 4., 7., 4., 4.,\n",
       "         4., 4., 7., 7., 7., 4., 4., 4., 4., 4., 7., 7., 4., 4., 7., 7., 4.,\n",
       "         4., 4., 4., 4., 4., 7., 7., 7., 7., 7., 7., 4., 7., 4., 7., 4., 4.,\n",
       "         7., 7., 4., 7., 7., 4., 7., 7., 7., 4., 4., 4., 4., 4., 7., 7., 4.,\n",
       "         7., 7., 4., 4., 7., 4., 7., 7., 4., 4., 4., 7., 7., 7., 4., 4., 4.,\n",
       "         7., 7., 4., 4., 4., 4., 7., 7., 4., 7., 4., 7., 4., 7., 7., 7., 7.,\n",
       "         4., 7., 7., 4., 4., 7., 4., 7., 7., 4., 7., 4., 4., 7., 7., 4., 7.,\n",
       "         7., 4., 4., 7., 7., 4., 4., 7., 7., 4., 7., 4., 4., 7., 4., 7., 4.,\n",
       "         7., 4., 7., 7., 4., 7., 4., 4., 7., 7., 4., 7., 7., 7., 4., 4., 4.,\n",
       "         4., 7., 4., 4., 7., 4., 7., 7., 7., 7., 7., 4., 7., 4., 7., 4., 7.,\n",
       "         4., 4., 7., 4., 7., 7., 7., 4., 7., 7., 7., 4., 4., 7., 7., 4., 7.,\n",
       "         7., 4., 7., 7., 7., 7., 7., 7., 4., 4., 4., 7., 7., 7., 7., 7., 4.,\n",
       "         4., 4., 7., 7., 4., 4., 7., 7., 4., 4., 7., 7., 4., 4., 7., 4., 4.,\n",
       "         4., 7., 7., 7., 7., 7., 4., 4., 4., 4., 7., 4., 7., 4., 4., 7., 7.,\n",
       "         7., 7., 4., 7., 7., 4., 4., 7., 4., 4., 4., 4., 4., 7., 4., 4., 4.,\n",
       "         7., 4., 7., 4., 7., 7., 7., 4., 4., 4., 7., 4., 4., 4., 7., 4., 7.,\n",
       "         4., 7., 7., 4., 7., 4., 7., 7., 7., 4., 4., 4., 4., 4., 4., 4., 7.,\n",
       "         4., 4., 7., 4., 4., 7., 7., 7., 4., 4., 4., 7., 4., 4., 7., 7., 4.,\n",
       "         4., 4., 7., 4., 7., 7., 7., 4., 7., 7., 4., 4., 4., 4.])},\n",
       " {'name': '4_8',\n",
       "  'train_acc': 0.9984444444444445,\n",
       "  'val_acc': 0.984,\n",
       "  'test_acc': 0.983,\n",
       "  'train_time': 6.646546840667725,\n",
       "  'train_pred': array([8., 4., 4., ..., 4., 8., 8.]),\n",
       "  'val_pred': array([4., 8., 8., 4., 8., 4., 8., 8., 4., 8., 8., 4., 4., 4., 4., 4., 8.,\n",
       "         4., 8., 4., 4., 4., 4., 4., 8., 8., 8., 8., 4., 4., 8., 4., 8., 4.,\n",
       "         4., 8., 8., 4., 8., 4., 4., 8., 8., 4., 4., 8., 4., 8., 8., 8., 4.,\n",
       "         4., 8., 4., 4., 8., 8., 4., 4., 8., 8., 4., 4., 8., 4., 8., 4., 8.,\n",
       "         4., 4., 4., 8., 4., 8., 8., 8., 4., 8., 8., 4., 8., 8., 8., 8., 4.,\n",
       "         8., 8., 4., 8., 8., 8., 8., 4., 8., 4., 8., 8., 8., 4., 4., 8., 4.,\n",
       "         4., 4., 8., 8., 4., 8., 4., 4., 4., 8., 8., 8., 8., 8., 4., 8., 4.,\n",
       "         8., 4., 4., 4., 8., 8., 8., 8., 8., 8., 8., 4., 8., 4., 4., 4., 4.,\n",
       "         4., 4., 4., 4., 4., 8., 4., 4., 4., 4., 4., 8., 4., 4., 4., 4., 4.,\n",
       "         4., 8., 8., 4., 4., 4., 4., 8., 4., 4., 4., 4., 8., 4., 8., 4., 4.,\n",
       "         4., 8., 8., 8., 4., 4., 4., 8., 8., 8., 4., 8., 8., 8., 8., 4., 8.,\n",
       "         8., 4., 4., 4., 8., 4., 4., 4., 8., 8., 8., 4., 4., 4., 8., 4., 4.,\n",
       "         4., 4., 8., 4., 8., 8., 4., 8., 8., 4., 8., 8., 8., 8., 4., 8., 4.,\n",
       "         8., 8., 8., 4., 4., 4., 4., 4., 4., 4., 4., 8., 8., 4., 8., 4., 8.,\n",
       "         4., 4., 4., 8., 8., 8., 8., 4., 8., 8., 8., 4., 4., 8., 8., 8., 4.,\n",
       "         4., 8., 4., 8., 8., 8., 8., 8., 8., 8., 8., 8., 8., 8., 8., 8., 8.,\n",
       "         8., 4., 8., 4., 4., 4., 4., 4., 4., 8., 8., 8., 4., 8., 8., 8., 4.,\n",
       "         4., 4., 4., 8., 4., 4., 4., 4., 8., 8., 8., 4., 4., 4., 8., 4., 4.,\n",
       "         8., 4., 4., 8., 4., 8., 4., 4., 4., 8., 8., 4., 8., 4., 4., 8., 4.,\n",
       "         4., 4., 4., 4., 8., 4., 4., 8., 8., 8., 8., 8., 4., 4., 8., 4., 4.,\n",
       "         8., 8., 4., 8., 8., 8., 8., 8., 4., 8., 8., 4., 8., 4., 8., 8., 8.,\n",
       "         4., 4., 4., 8., 4., 8., 8., 4., 8., 4., 8., 4., 4., 8., 4., 8., 8.,\n",
       "         8., 4., 4., 8., 8., 8., 8., 8., 4., 8., 4., 4., 8., 8., 4., 8., 8.,\n",
       "         4., 8., 8., 8., 4., 4., 8., 8., 4., 4., 4., 8., 8., 4., 8., 4., 8.,\n",
       "         4., 8., 8., 8., 8., 4., 8., 4., 4., 8., 8., 4., 8., 8., 4., 8., 4.,\n",
       "         8., 4., 4., 4., 8., 8., 8., 4., 8., 8., 4., 8., 4., 8., 8., 8., 4.,\n",
       "         4., 8., 4., 4., 8., 4., 8., 8., 4., 4., 8., 4., 4., 4., 8., 4., 4.,\n",
       "         8., 4., 8., 8., 4., 8., 4., 4., 4., 8., 8., 4., 4., 8., 8., 8., 4.,\n",
       "         8., 8., 8., 4., 8., 4., 8., 4., 4., 8., 8., 4., 4., 8., 4., 4., 8.,\n",
       "         4., 4., 8., 4., 8., 8., 4.]),\n",
       "  'test_pred': array([4., 8., 4., 8., 8., 4., 8., 8., 8., 8., 4., 4., 8., 4., 8., 4., 4.,\n",
       "         8., 8., 4., 4., 8., 4., 8., 8., 4., 4., 4., 8., 8., 8., 4., 4., 8.,\n",
       "         8., 4., 4., 4., 8., 4., 8., 4., 8., 4., 4., 8., 8., 8., 4., 4., 4.,\n",
       "         8., 8., 8., 4., 8., 8., 8., 4., 8., 4., 4., 8., 4., 8., 8., 8., 8.,\n",
       "         8., 4., 4., 4., 8., 8., 4., 8., 4., 4., 4., 8., 4., 4., 8., 4., 4.,\n",
       "         8., 8., 8., 4., 8., 8., 8., 4., 4., 4., 8., 8., 8., 4., 8., 4., 8.,\n",
       "         4., 8., 8., 4., 4., 4., 4., 4., 8., 8., 4., 4., 8., 4., 8., 8., 4.,\n",
       "         8., 4., 4., 4., 8., 8., 4., 4., 4., 8., 4., 8., 4., 8., 8., 8., 8.,\n",
       "         8., 4., 4., 8., 8., 8., 4., 8., 4., 8., 4., 8., 8., 8., 4., 8., 8.,\n",
       "         8., 8., 4., 4., 8., 4., 8., 8., 8., 8., 8., 8., 8., 8., 4., 8., 4.,\n",
       "         4., 4., 8., 4., 4., 4., 4., 8., 4., 8., 8., 4., 8., 8., 8., 8., 8.,\n",
       "         8., 8., 8., 8., 8., 4., 4., 8., 4., 8., 4., 4., 8., 8., 4., 4., 8.,\n",
       "         4., 8., 4., 4., 8., 4., 8., 8., 8., 8., 4., 4., 4., 8., 4., 8., 8.,\n",
       "         4., 8., 8., 4., 8., 4., 4., 8., 4., 4., 8., 4., 8., 8., 8., 4., 4.,\n",
       "         4., 8., 8., 8., 8., 4., 8., 8., 8., 8., 8., 8., 4., 4., 8., 8., 8.,\n",
       "         4., 8., 4., 8., 4., 8., 4., 4., 4., 4., 8., 8., 8., 4., 8., 4., 8.,\n",
       "         8., 4., 4., 8., 4., 4., 8., 4., 4., 8., 4., 4., 4., 8., 4., 4., 8.,\n",
       "         8., 4., 8., 4., 4., 4., 4., 4., 4., 8., 4., 4., 8., 8., 4., 4., 8.,\n",
       "         8., 8., 4., 4., 8., 4., 8., 4., 4., 8., 4., 4., 8., 4., 4., 8., 4.,\n",
       "         8., 4., 4., 4., 4., 8., 4., 4., 4., 4., 4., 4., 8., 8., 4., 8., 4.,\n",
       "         8., 4., 4., 8., 8., 8., 8., 8., 8., 4., 8., 8., 8., 4., 4., 4., 8.,\n",
       "         4., 8., 8., 4., 8., 4., 4., 4., 8., 4., 8., 4., 4., 8., 4., 8., 4.,\n",
       "         4., 8., 8., 8., 8., 4., 4., 4., 8., 4., 8., 4., 4., 4., 4., 4., 8.,\n",
       "         8., 8., 8., 8., 4., 4., 4., 4., 8., 4., 4., 8., 4., 4., 4., 8., 8.,\n",
       "         8., 8., 8., 4., 4., 8., 8., 4., 4., 8., 4., 4., 8., 4., 4., 4., 4.,\n",
       "         8., 8., 8., 8., 8., 8., 8., 8., 8., 4., 8., 4., 8., 8., 4., 8., 4.,\n",
       "         4., 4., 8., 4., 4., 8., 8., 4., 4., 8., 4., 8., 8., 4., 4., 4., 4.,\n",
       "         8., 8., 4., 8., 8., 4., 8., 8., 8., 8., 8., 4., 4., 4., 4., 8., 4.,\n",
       "         4., 4., 8., 4., 4., 8., 8., 4., 8., 8., 4., 4., 8., 8., 8., 4., 4.,\n",
       "         8., 4., 4., 8., 4., 8., 4., 4., 4., 8., 4., 8., 8., 4., 4., 8., 4.,\n",
       "         4., 8., 8., 8., 4., 8., 8., 4., 4., 4., 4., 4., 8., 8., 4., 4., 4.,\n",
       "         8., 8., 8., 4., 4., 4., 8., 4., 8., 8., 8., 4., 8., 4., 4., 4., 4.,\n",
       "         4., 8., 4., 4., 8., 4., 4., 8., 8., 8., 4., 4., 8., 4., 4., 8., 4.,\n",
       "         8., 4., 8., 8., 8., 4., 8., 4., 4., 8., 4., 4., 8., 8., 8., 8., 4.,\n",
       "         4., 8., 4., 4., 4., 8., 4., 8., 4., 4., 4., 8., 4., 4., 8., 8., 4.,\n",
       "         4., 4., 4., 8., 4., 8., 8., 4., 4., 8., 4., 4., 8., 8., 8., 4., 8.,\n",
       "         4., 8., 8., 8., 8., 4., 8., 4., 8., 4., 4., 8., 8., 8., 4., 8., 8.,\n",
       "         8., 4., 4., 4., 4., 8., 8., 8., 4., 4., 8., 8., 8., 8., 8., 8., 4.,\n",
       "         4., 4., 8., 4., 8., 8., 8., 4., 8., 8., 8., 4., 8., 8., 8., 8., 4.,\n",
       "         4., 4., 4., 4., 4., 4., 8., 4., 8., 8., 8., 4., 8., 4., 8., 4., 8.,\n",
       "         8., 8., 8., 4., 4., 8., 4., 4., 4., 8., 8., 4., 8., 4., 8., 4., 4.,\n",
       "         4., 4., 8., 8., 8., 4., 4., 8., 4., 8., 8., 8., 4., 8., 4., 4., 8.,\n",
       "         4., 4., 4., 8., 8., 8., 8., 8., 4., 4., 8., 8., 4., 8., 4., 8., 8.,\n",
       "         4., 8., 8., 8., 8., 4., 8., 4., 4., 8., 4., 8., 4., 4., 8., 8., 8.,\n",
       "         4., 8., 4., 8., 4., 8., 8., 8., 4., 4., 8., 4., 8., 8., 4., 4., 4.,\n",
       "         8., 8., 4., 8., 4., 4., 4., 8., 8., 4., 8., 8., 8., 4., 8., 8., 4.,\n",
       "         8., 8., 4., 8., 8., 4., 4., 8., 8., 8., 8., 8., 4., 8., 8., 8., 8.,\n",
       "         4., 4., 8., 4., 8., 4., 4., 8., 4., 8., 8., 8., 4., 4., 4., 8., 8.,\n",
       "         8., 4., 4., 4., 8., 4., 4., 4., 4., 4., 8., 8., 8., 8., 4., 4., 4.,\n",
       "         4., 8., 8., 4., 4., 4., 4., 8., 8., 8., 4., 8., 8., 4., 8., 8., 8.,\n",
       "         4., 4., 4., 4., 8., 8., 4., 8., 4., 8., 4., 4., 8., 4., 8., 4., 8.,\n",
       "         8., 4., 4., 4., 8., 4., 4., 4., 8., 8., 8., 4., 4., 4., 4., 4., 4.,\n",
       "         8., 8., 8., 8., 4., 4., 8., 4., 8., 8., 4., 4., 4., 4., 4., 4., 4.,\n",
       "         8., 8., 8., 4., 8., 8., 4., 4., 8., 8., 4., 4., 8., 4., 4., 4., 8.,\n",
       "         4., 4., 8., 8., 4., 8., 8., 4., 8., 8., 4., 4., 4., 8., 8., 4., 8.,\n",
       "         4., 4., 4., 8., 8., 8., 4., 8., 4., 8., 4., 8., 4., 4., 4., 4., 8.,\n",
       "         4., 4., 4., 8., 8., 8., 8., 4., 8., 4., 8., 8., 8., 8., 8., 4., 4.,\n",
       "         8., 8., 8., 4., 4., 8., 8., 8., 4., 8., 8., 8., 8., 8., 8., 8., 4.,\n",
       "         4., 8., 8., 4., 4., 8., 8., 8., 4., 8., 8., 4., 4., 4.])},\n",
       " {'name': '4_9',\n",
       "  'train_acc': 1.0,\n",
       "  'val_acc': 1.0,\n",
       "  'test_acc': 0.999,\n",
       "  'train_time': 4.067864179611206,\n",
       "  'train_pred': array([9., 4., 4., ..., 9., 4., 4.]),\n",
       "  'val_pred': array([4., 9., 9., 9., 9., 4., 4., 9., 4., 4., 4., 9., 9., 9., 4., 4., 4.,\n",
       "         4., 9., 4., 4., 4., 9., 9., 4., 9., 4., 9., 9., 4., 9., 4., 9., 9.,\n",
       "         9., 4., 4., 4., 9., 9., 4., 4., 4., 9., 9., 9., 4., 9., 4., 9., 4.,\n",
       "         9., 9., 9., 4., 4., 9., 9., 9., 4., 9., 4., 9., 9., 4., 4., 9., 4.,\n",
       "         4., 4., 9., 4., 9., 4., 9., 9., 4., 4., 9., 4., 9., 9., 4., 9., 9.,\n",
       "         4., 9., 9., 9., 4., 4., 9., 9., 4., 4., 9., 9., 9., 9., 4., 9., 9.,\n",
       "         4., 9., 4., 9., 4., 4., 4., 4., 4., 4., 4., 9., 9., 9., 4., 4., 9.,\n",
       "         9., 4., 4., 4., 9., 9., 9., 9., 4., 4., 4., 4., 4., 4., 9., 9., 4.,\n",
       "         4., 4., 4., 9., 4., 9., 9., 4., 9., 4., 4., 9., 9., 4., 9., 9., 4.,\n",
       "         4., 4., 4., 4., 4., 4., 9., 4., 9., 9., 4., 4., 9., 9., 4., 4., 4.,\n",
       "         4., 9., 4., 9., 4., 4., 9., 4., 4., 4., 9., 9., 4., 9., 9., 9., 9.,\n",
       "         4., 9., 4., 4., 4., 9., 9., 9., 4., 9., 4., 4., 9., 9., 9., 9., 4.,\n",
       "         4., 4., 9., 9., 4., 4., 4., 9., 4., 9., 4., 9., 9., 9., 4., 9., 4.,\n",
       "         4., 4., 9., 4., 4., 4., 4., 4., 4., 4., 4., 9., 9., 9., 4., 9., 9.,\n",
       "         4., 9., 4., 4., 9., 9., 4., 9., 9., 4., 9., 9., 9., 4., 4., 4., 9.,\n",
       "         9., 4., 4., 9., 9., 9., 9., 9., 9., 9., 4., 9., 4., 4., 9., 4., 9.,\n",
       "         4., 4., 9., 4., 9., 9., 4., 9., 9., 4., 9., 4., 4., 9., 4., 4., 4.,\n",
       "         9., 4., 4., 9., 9., 9., 4., 4., 4., 4., 4., 9., 4., 4., 4., 4., 4.,\n",
       "         9., 9., 4., 4., 9., 9., 4., 4., 4., 4., 4., 4., 4., 4., 9., 4., 4.,\n",
       "         9., 9., 9., 4., 9., 9., 4., 4., 4., 4., 4., 9., 9., 9., 9., 9., 4.,\n",
       "         9., 9., 9., 4., 9., 4., 4., 4., 4., 9., 4., 9., 4., 9., 4., 9., 9.,\n",
       "         4., 9., 9., 9., 9., 4., 9., 9., 9., 9., 9., 4., 4., 9., 9., 4., 9.,\n",
       "         9., 4., 4., 9., 4., 9., 9., 9., 4., 4., 9., 4., 4., 4., 9., 9., 4.,\n",
       "         9., 9., 4., 4., 4., 9., 4., 9., 9., 4., 9., 9., 4., 9., 4., 4., 9.,\n",
       "         9., 9., 4., 9., 9., 9., 4., 9., 9., 4., 9., 4., 4., 4., 9., 9., 4.,\n",
       "         9., 9., 9., 9., 4., 4., 9., 9., 4., 4., 9., 9., 9., 4., 9., 9., 4.,\n",
       "         9., 4., 9., 9., 4., 4., 4., 9., 9., 4., 9., 9., 4., 4., 4., 9., 9.,\n",
       "         9., 4., 9., 4., 9., 4., 4., 4., 9., 4., 4., 9., 9., 9., 4., 9., 9.,\n",
       "         9., 9., 4., 4., 4., 9., 9., 9., 4., 9., 4., 9., 9., 9., 4., 4., 4.,\n",
       "         4., 9., 4., 9., 9., 9., 4.]),\n",
       "  'test_pred': array([9., 4., 9., 9., 4., 4., 9., 9., 4., 4., 4., 4., 4., 9., 9., 9., 4.,\n",
       "         9., 9., 9., 9., 9., 4., 9., 9., 9., 9., 9., 9., 9., 9., 4., 9., 4.,\n",
       "         4., 4., 9., 9., 9., 9., 4., 9., 9., 9., 4., 4., 9., 9., 4., 4., 9.,\n",
       "         4., 9., 4., 9., 9., 9., 4., 9., 4., 9., 9., 9., 9., 9., 4., 4., 9.,\n",
       "         9., 4., 4., 4., 4., 4., 4., 4., 9., 4., 9., 4., 4., 9., 9., 4., 4.,\n",
       "         4., 9., 4., 9., 4., 4., 4., 9., 9., 4., 9., 9., 9., 9., 4., 4., 4.,\n",
       "         9., 9., 9., 4., 9., 9., 9., 9., 9., 4., 4., 4., 4., 4., 4., 4., 4.,\n",
       "         9., 4., 9., 9., 4., 4., 9., 9., 9., 9., 9., 9., 4., 9., 9., 4., 9.,\n",
       "         9., 4., 4., 9., 9., 4., 9., 4., 4., 9., 4., 9., 4., 9., 9., 9., 9.,\n",
       "         4., 9., 4., 9., 9., 4., 4., 4., 9., 4., 9., 9., 9., 9., 4., 4., 4.,\n",
       "         4., 9., 9., 9., 9., 9., 4., 4., 4., 4., 9., 4., 4., 9., 9., 4., 9.,\n",
       "         4., 9., 4., 9., 4., 9., 9., 9., 9., 9., 9., 4., 9., 9., 4., 9., 9.,\n",
       "         9., 9., 4., 9., 9., 4., 4., 9., 4., 9., 9., 4., 4., 4., 4., 9., 9.,\n",
       "         4., 9., 9., 9., 4., 4., 4., 4., 9., 9., 4., 4., 9., 4., 9., 9., 4.,\n",
       "         4., 4., 9., 9., 9., 4., 9., 4., 4., 9., 4., 9., 4., 9., 9., 9., 9.,\n",
       "         9., 4., 4., 9., 4., 4., 4., 4., 4., 9., 9., 4., 4., 9., 9., 9., 4.,\n",
       "         4., 9., 4., 4., 9., 4., 4., 9., 9., 9., 9., 4., 9., 9., 4., 4., 4.,\n",
       "         4., 4., 4., 4., 4., 4., 4., 4., 4., 4., 4., 4., 4., 9., 9., 9., 4.,\n",
       "         4., 9., 9., 4., 4., 4., 9., 4., 4., 4., 4., 4., 4., 9., 4., 4., 4.,\n",
       "         4., 9., 4., 4., 9., 9., 4., 9., 9., 4., 4., 4., 9., 4., 9., 4., 4.,\n",
       "         4., 4., 9., 4., 9., 9., 9., 4., 4., 9., 4., 4., 9., 9., 4., 9., 4.,\n",
       "         9., 4., 4., 9., 4., 9., 4., 4., 4., 9., 4., 9., 9., 4., 9., 9., 9.,\n",
       "         9., 4., 9., 4., 9., 9., 9., 9., 4., 9., 9., 4., 4., 9., 4., 4., 9.,\n",
       "         4., 9., 4., 9., 9., 9., 9., 9., 4., 4., 4., 4., 4., 4., 9., 9., 9.,\n",
       "         9., 9., 4., 4., 9., 4., 9., 9., 4., 9., 9., 4., 4., 4., 9., 9., 9.,\n",
       "         9., 4., 9., 9., 9., 9., 9., 9., 4., 9., 9., 9., 9., 9., 4., 9., 4.,\n",
       "         4., 4., 9., 9., 9., 9., 4., 9., 4., 9., 4., 4., 4., 9., 4., 4., 4.,\n",
       "         4., 9., 9., 9., 4., 4., 9., 9., 4., 4., 9., 4., 4., 9., 9., 9., 4.,\n",
       "         9., 9., 9., 9., 4., 9., 4., 9., 9., 4., 4., 4., 9., 9., 4., 4., 4.,\n",
       "         4., 4., 4., 9., 9., 9., 9., 4., 4., 4., 9., 9., 4., 9., 4., 4., 4.,\n",
       "         9., 4., 9., 4., 4., 9., 9., 4., 4., 4., 4., 4., 4., 9., 9., 4., 9.,\n",
       "         9., 4., 4., 9., 4., 4., 9., 4., 9., 4., 9., 4., 4., 9., 9., 4., 9.,\n",
       "         9., 4., 4., 4., 4., 9., 4., 4., 4., 4., 4., 9., 4., 4., 9., 4., 9.,\n",
       "         4., 4., 9., 4., 4., 4., 9., 4., 9., 4., 4., 9., 9., 9., 9., 9., 4.,\n",
       "         9., 4., 9., 9., 9., 4., 4., 9., 4., 9., 9., 4., 9., 4., 4., 4., 4.,\n",
       "         4., 9., 9., 4., 9., 4., 4., 4., 9., 9., 9., 4., 9., 4., 4., 9., 9.,\n",
       "         4., 4., 9., 4., 9., 4., 4., 9., 9., 4., 4., 9., 4., 4., 9., 4., 4.,\n",
       "         4., 9., 9., 4., 4., 9., 9., 4., 4., 4., 4., 9., 9., 9., 4., 4., 9.,\n",
       "         9., 9., 4., 9., 4., 4., 4., 9., 4., 9., 9., 9., 9., 9., 9., 4., 4.,\n",
       "         9., 4., 4., 4., 4., 9., 9., 4., 4., 4., 4., 9., 9., 9., 4., 9., 4.,\n",
       "         9., 9., 4., 9., 9., 9., 4., 4., 9., 9., 4., 9., 4., 9., 4., 9., 9.,\n",
       "         4., 9., 9., 4., 9., 4., 9., 9., 4., 4., 4., 9., 4., 9., 9., 4., 9.,\n",
       "         4., 9., 9., 9., 9., 4., 4., 4., 4., 4., 4., 9., 9., 9., 9., 4., 9.,\n",
       "         9., 9., 4., 9., 9., 9., 9., 4., 9., 4., 4., 4., 9., 9., 4., 4., 4.,\n",
       "         4., 4., 9., 9., 4., 4., 4., 9., 9., 4., 9., 4., 4., 4., 4., 4., 9.,\n",
       "         4., 9., 4., 9., 4., 9., 4., 4., 4., 4., 4., 9., 9., 4., 9., 4., 9.,\n",
       "         4., 4., 9., 4., 9., 4., 4., 9., 9., 9., 9., 4., 9., 9., 9., 4., 4.,\n",
       "         9., 9., 9., 9., 4., 4., 9., 9., 4., 9., 4., 4., 4., 9., 9., 9., 9.,\n",
       "         4., 4., 9., 9., 4., 9., 4., 4., 4., 9., 9., 4., 4., 4., 9., 4., 4.,\n",
       "         4., 9., 4., 9., 9., 9., 4., 9., 9., 4., 9., 4., 4., 9., 4., 9., 4.,\n",
       "         9., 9., 9., 4., 9., 9., 4., 4., 9., 4., 9., 9., 9., 4., 9., 9., 9.,\n",
       "         9., 9., 9., 9., 9., 4., 4., 4., 4., 4., 4., 9., 9., 9., 9., 9., 4.,\n",
       "         4., 9., 9., 4., 4., 9., 9., 4., 4., 9., 4., 9., 9., 4., 4., 9., 4.,\n",
       "         9., 4., 9., 4., 4., 9., 4., 9., 4., 9., 9., 9., 4., 9., 9., 4., 9.,\n",
       "         9., 4., 4., 9., 4., 4., 9., 4., 4., 4., 9., 4., 4., 9., 4., 9., 4.,\n",
       "         4., 9., 4., 4., 9., 4., 9., 9., 4., 9., 4., 9., 4., 9., 9., 4., 4.,\n",
       "         9., 9., 4., 9., 4., 9., 9., 9., 4., 4., 9., 9., 4., 4., 4., 4., 9.,\n",
       "         4., 9., 4., 4., 4., 4., 9., 4., 9., 4., 4., 9., 4., 4., 9., 9., 9.,\n",
       "         9., 4., 4., 4., 9., 9., 4., 9., 4., 4., 9., 4., 4., 4.])},\n",
       " {'name': '5_6',\n",
       "  'train_acc': 1.0,\n",
       "  'val_acc': 0.996,\n",
       "  'test_acc': 1.0,\n",
       "  'train_time': 4.7734527587890625,\n",
       "  'train_pred': array([5., 6., 6., ..., 5., 5., 5.]),\n",
       "  'val_pred': array([5., 5., 5., 6., 5., 5., 6., 5., 5., 5., 5., 6., 5., 5., 5., 6., 6.,\n",
       "         5., 5., 6., 6., 5., 6., 5., 6., 6., 5., 5., 6., 6., 5., 5., 5., 6.,\n",
       "         6., 5., 6., 6., 5., 5., 5., 5., 5., 6., 6., 5., 5., 6., 5., 5., 5.,\n",
       "         5., 6., 6., 5., 5., 6., 6., 6., 6., 5., 6., 5., 6., 5., 6., 6., 5.,\n",
       "         5., 6., 5., 6., 5., 5., 6., 6., 6., 6., 6., 6., 6., 5., 6., 5., 5.,\n",
       "         6., 5., 5., 6., 6., 5., 5., 6., 6., 5., 6., 5., 5., 6., 5., 6., 5.,\n",
       "         5., 5., 6., 6., 6., 5., 5., 5., 6., 6., 5., 6., 5., 6., 5., 5., 5.,\n",
       "         6., 5., 5., 6., 5., 6., 6., 5., 5., 6., 5., 6., 5., 6., 6., 5., 6.,\n",
       "         6., 5., 5., 5., 6., 5., 5., 6., 6., 5., 5., 5., 6., 6., 6., 5., 5.,\n",
       "         5., 6., 6., 5., 5., 5., 6., 5., 6., 5., 6., 5., 5., 6., 5., 6., 6.,\n",
       "         6., 5., 5., 5., 5., 6., 5., 6., 6., 5., 6., 6., 5., 5., 5., 5., 6.,\n",
       "         6., 5., 6., 5., 5., 6., 5., 6., 5., 6., 5., 5., 5., 6., 5., 5., 6.,\n",
       "         5., 5., 6., 6., 5., 5., 6., 6., 5., 6., 6., 6., 6., 5., 5., 6., 6.,\n",
       "         6., 6., 6., 5., 6., 5., 6., 5., 5., 5., 5., 6., 5., 6., 5., 6., 5.,\n",
       "         5., 6., 5., 6., 6., 6., 5., 5., 6., 5., 5., 5., 5., 6., 5., 5., 5.,\n",
       "         6., 5., 6., 5., 6., 5., 5., 5., 6., 6., 6., 6., 6., 6., 6., 5., 5.,\n",
       "         6., 6., 5., 6., 6., 5., 5., 6., 5., 5., 6., 6., 5., 6., 5., 6., 6.,\n",
       "         6., 5., 6., 5., 6., 6., 5., 5., 6., 5., 6., 6., 6., 6., 6., 6., 5.,\n",
       "         6., 5., 5., 6., 6., 5., 5., 5., 6., 6., 5., 5., 6., 5., 5., 5., 5.,\n",
       "         6., 6., 5., 5., 5., 5., 6., 5., 6., 5., 5., 5., 5., 6., 6., 5., 5.,\n",
       "         6., 5., 6., 6., 6., 5., 5., 6., 5., 6., 5., 6., 5., 6., 6., 6., 6.,\n",
       "         6., 6., 5., 6., 5., 6., 6., 6., 5., 5., 6., 6., 6., 5., 5., 5., 5.,\n",
       "         6., 6., 5., 5., 6., 6., 5., 5., 6., 5., 6., 5., 5., 5., 6., 6., 6.,\n",
       "         5., 5., 5., 5., 6., 5., 5., 5., 5., 6., 6., 6., 6., 6., 5., 6., 6.,\n",
       "         5., 5., 6., 6., 6., 5., 6., 6., 5., 6., 6., 6., 6., 5., 5., 6., 5.,\n",
       "         6., 5., 5., 6., 6., 6., 6., 5., 6., 6., 6., 5., 6., 5., 5., 6., 6.,\n",
       "         6., 5., 5., 6., 6., 6., 5., 6., 6., 5., 6., 6., 5., 6., 6., 6., 5.,\n",
       "         6., 5., 5., 6., 6., 6., 6., 6., 5., 6., 6., 6., 6., 5., 5., 6., 5.,\n",
       "         6., 5., 5., 6., 5., 6., 6., 6., 6., 5., 5., 5., 6., 5., 5., 6., 5.,\n",
       "         5., 5., 5., 6., 6., 6., 5.]),\n",
       "  'test_pred': array([5., 6., 5., 5., 6., 5., 5., 5., 5., 5., 5., 6., 6., 6., 5., 6., 5.,\n",
       "         6., 6., 5., 6., 5., 6., 5., 6., 6., 5., 5., 6., 5., 6., 5., 5., 5.,\n",
       "         5., 5., 5., 6., 5., 5., 5., 6., 5., 6., 5., 6., 6., 6., 5., 5., 6.,\n",
       "         5., 5., 6., 5., 5., 5., 6., 6., 6., 6., 6., 6., 5., 5., 5., 6., 6.,\n",
       "         5., 6., 5., 6., 6., 6., 6., 5., 5., 5., 6., 5., 5., 6., 6., 6., 6.,\n",
       "         6., 5., 5., 5., 5., 6., 6., 5., 6., 5., 6., 6., 5., 6., 5., 6., 6.,\n",
       "         6., 6., 5., 5., 5., 5., 6., 5., 6., 6., 5., 5., 5., 5., 6., 6., 6.,\n",
       "         5., 6., 6., 5., 6., 6., 6., 5., 5., 6., 5., 5., 6., 6., 5., 5., 5.,\n",
       "         5., 5., 5., 5., 5., 5., 5., 6., 6., 6., 6., 6., 5., 5., 6., 6., 6.,\n",
       "         5., 6., 6., 6., 6., 5., 6., 6., 6., 5., 5., 6., 6., 6., 6., 5., 5.,\n",
       "         5., 5., 6., 6., 5., 5., 5., 6., 6., 6., 6., 6., 6., 5., 6., 6., 5.,\n",
       "         6., 5., 6., 5., 5., 5., 6., 5., 6., 5., 6., 6., 5., 6., 5., 5., 5.,\n",
       "         5., 6., 5., 6., 5., 5., 6., 5., 6., 5., 6., 5., 5., 6., 5., 6., 6.,\n",
       "         5., 5., 6., 5., 6., 5., 5., 5., 6., 6., 6., 6., 5., 5., 5., 5., 5.,\n",
       "         5., 6., 6., 6., 5., 6., 5., 6., 5., 6., 5., 5., 6., 6., 6., 5., 5.,\n",
       "         5., 5., 5., 6., 5., 5., 5., 6., 6., 5., 5., 6., 6., 5., 6., 5., 5.,\n",
       "         6., 5., 6., 5., 6., 5., 6., 6., 6., 5., 5., 5., 6., 5., 6., 5., 5.,\n",
       "         6., 6., 6., 5., 6., 5., 6., 6., 6., 6., 5., 5., 5., 6., 5., 5., 6.,\n",
       "         6., 6., 5., 6., 5., 6., 5., 5., 6., 6., 5., 5., 5., 5., 5., 6., 5.,\n",
       "         6., 5., 6., 6., 6., 5., 6., 5., 5., 6., 6., 6., 6., 6., 5., 6., 6.,\n",
       "         5., 5., 5., 6., 5., 6., 6., 5., 5., 6., 5., 6., 6., 6., 5., 6., 5.,\n",
       "         6., 5., 6., 6., 6., 6., 5., 5., 5., 6., 6., 5., 5., 6., 6., 5., 5.,\n",
       "         6., 5., 6., 6., 6., 5., 6., 6., 6., 5., 5., 5., 6., 5., 6., 5., 5.,\n",
       "         6., 5., 5., 5., 5., 6., 6., 6., 5., 5., 6., 5., 6., 6., 6., 6., 5.,\n",
       "         6., 5., 5., 6., 6., 6., 5., 5., 6., 5., 6., 5., 5., 5., 5., 5., 5.,\n",
       "         6., 6., 6., 6., 5., 5., 5., 5., 6., 5., 6., 6., 5., 6., 5., 6., 6.,\n",
       "         6., 6., 5., 5., 6., 6., 5., 6., 5., 6., 5., 5., 5., 5., 5., 6., 6.,\n",
       "         5., 5., 6., 6., 5., 5., 5., 6., 5., 6., 6., 5., 5., 5., 6., 5., 5.,\n",
       "         6., 5., 6., 6., 6., 6., 5., 5., 5., 5., 5., 5., 5., 5., 6., 6., 6.,\n",
       "         5., 5., 5., 6., 6., 6., 6., 6., 5., 6., 5., 5., 6., 6., 5., 5., 6.,\n",
       "         6., 5., 6., 5., 5., 6., 6., 6., 6., 5., 5., 6., 5., 6., 6., 6., 6.,\n",
       "         5., 5., 6., 6., 6., 5., 6., 5., 6., 6., 6., 5., 5., 5., 6., 5., 6.,\n",
       "         5., 6., 6., 6., 6., 6., 5., 6., 5., 5., 6., 5., 6., 6., 6., 6., 6.,\n",
       "         5., 6., 6., 5., 5., 6., 5., 5., 5., 5., 6., 5., 5., 6., 6., 6., 5.,\n",
       "         5., 6., 5., 6., 6., 6., 5., 5., 6., 6., 6., 5., 6., 5., 5., 5., 5.,\n",
       "         5., 6., 5., 5., 6., 5., 5., 5., 5., 6., 5., 6., 6., 6., 5., 6., 5.,\n",
       "         6., 6., 5., 6., 5., 5., 6., 6., 5., 6., 6., 5., 6., 5., 5., 6., 6.,\n",
       "         5., 6., 6., 5., 5., 6., 5., 6., 5., 5., 6., 5., 6., 6., 5., 6., 6.,\n",
       "         6., 5., 6., 6., 6., 5., 6., 5., 5., 6., 5., 5., 6., 5., 6., 5., 5.,\n",
       "         6., 5., 5., 5., 6., 5., 6., 5., 5., 6., 6., 6., 6., 6., 5., 6., 6.,\n",
       "         5., 6., 6., 6., 5., 5., 6., 5., 5., 5., 6., 6., 6., 5., 5., 6., 6.,\n",
       "         6., 6., 5., 6., 5., 5., 6., 6., 6., 5., 6., 5., 6., 5., 6., 5., 6.,\n",
       "         5., 6., 6., 5., 5., 6., 5., 6., 5., 5., 6., 5., 5., 6., 5., 6., 6.,\n",
       "         5., 5., 5., 6., 5., 5., 5., 5., 6., 5., 6., 5., 6., 5., 6., 5., 6.,\n",
       "         6., 6., 5., 6., 6., 5., 5., 5., 5., 6., 6., 6., 6., 5., 6., 6., 6.,\n",
       "         5., 5., 6., 5., 6., 5., 6., 6., 6., 5., 5., 6., 6., 6., 6., 5., 6.,\n",
       "         6., 5., 5., 5., 5., 6., 5., 6., 5., 5., 5., 5., 5., 6., 6., 6., 5.,\n",
       "         6., 6., 5., 6., 6., 5., 5., 6., 5., 6., 5., 5., 6., 5., 5., 5., 5.,\n",
       "         5., 6., 5., 5., 6., 5., 6., 5., 6., 6., 6., 6., 6., 5., 5., 5., 6.,\n",
       "         6., 6., 5., 5., 6., 6., 5., 6., 6., 5., 6., 6., 6., 5., 6., 5., 5.,\n",
       "         5., 5., 5., 6., 6., 5., 6., 5., 6., 5., 5., 5., 5., 5., 6., 6., 6.,\n",
       "         6., 6., 5., 5., 5., 6., 6., 6., 6., 6., 5., 5., 6., 5., 6., 6., 6.,\n",
       "         6., 6., 5., 5., 6., 6., 5., 5., 6., 5., 6., 5., 5., 5., 5., 5., 5.,\n",
       "         5., 6., 5., 5., 5., 6., 5., 6., 5., 5., 5., 5., 6., 5., 6., 6., 6.,\n",
       "         5., 6., 5., 5., 5., 6., 6., 5., 6., 5., 6., 5., 6., 5., 5., 5., 6.,\n",
       "         5., 6., 6., 5., 6., 5., 6., 6., 6., 6., 6., 6., 5., 6., 5., 5., 6.,\n",
       "         6., 5., 5., 5., 6., 5., 6., 6., 5., 6., 6., 6., 5., 5., 5., 6., 5.,\n",
       "         6., 5., 6., 6., 6., 6., 5., 6., 5., 6., 5., 6., 6., 6., 5., 6., 5.,\n",
       "         6., 5., 5., 5., 6., 5., 6., 5., 6., 5., 6., 5., 5., 6.])},\n",
       " {'name': '5_7',\n",
       "  'train_acc': 0.9964444444444445,\n",
       "  'val_acc': 0.97,\n",
       "  'test_acc': 0.968,\n",
       "  'train_time': 7.882179260253906,\n",
       "  'train_pred': array([5., 7., 7., ..., 5., 7., 7.]),\n",
       "  'val_pred': array([5., 5., 7., 5., 5., 5., 7., 5., 7., 5., 5., 7., 5., 5., 7., 7., 5.,\n",
       "         7., 5., 5., 5., 7., 7., 7., 7., 5., 7., 7., 7., 7., 5., 7., 5., 7.,\n",
       "         5., 5., 5., 5., 5., 7., 5., 5., 5., 7., 5., 5., 7., 5., 7., 7., 5.,\n",
       "         7., 5., 5., 7., 5., 7., 5., 5., 5., 7., 7., 7., 5., 7., 5., 5., 7.,\n",
       "         7., 5., 5., 5., 7., 7., 5., 5., 5., 7., 7., 7., 7., 7., 7., 7., 7.,\n",
       "         7., 5., 5., 5., 7., 7., 5., 7., 5., 7., 7., 5., 5., 7., 7., 5., 5.,\n",
       "         7., 5., 5., 5., 5., 7., 5., 5., 5., 7., 7., 7., 5., 5., 5., 7., 5.,\n",
       "         7., 5., 5., 7., 7., 7., 7., 7., 5., 7., 7., 7., 5., 5., 5., 7., 5.,\n",
       "         5., 5., 5., 7., 7., 7., 5., 7., 5., 7., 5., 7., 5., 7., 7., 5., 5.,\n",
       "         7., 5., 7., 5., 5., 7., 5., 5., 7., 7., 7., 7., 7., 5., 7., 5., 5.,\n",
       "         7., 5., 5., 7., 5., 5., 7., 5., 7., 7., 5., 5., 5., 7., 7., 7., 5.,\n",
       "         5., 5., 5., 5., 5., 7., 7., 7., 5., 5., 7., 7., 5., 5., 7., 5., 7.,\n",
       "         5., 5., 7., 5., 5., 7., 7., 5., 7., 5., 5., 7., 7., 7., 5., 5., 7.,\n",
       "         7., 5., 7., 7., 5., 7., 5., 7., 7., 7., 7., 7., 7., 5., 5., 5., 7.,\n",
       "         7., 7., 7., 7., 5., 5., 5., 5., 7., 5., 5., 5., 5., 5., 5., 5., 7.,\n",
       "         5., 5., 7., 7., 5., 5., 5., 5., 7., 5., 7., 7., 5., 7., 7., 5., 5.,\n",
       "         5., 5., 5., 5., 5., 5., 5., 7., 7., 5., 7., 7., 7., 7., 7., 5., 7.,\n",
       "         7., 5., 5., 7., 5., 5., 5., 5., 5., 5., 7., 7., 7., 5., 5., 5., 7.,\n",
       "         5., 7., 5., 5., 7., 5., 7., 7., 5., 7., 5., 7., 5., 5., 5., 7., 5.,\n",
       "         5., 5., 7., 5., 7., 5., 5., 5., 5., 5., 5., 5., 5., 5., 5., 5., 5.,\n",
       "         5., 7., 5., 5., 7., 7., 7., 7., 5., 7., 7., 5., 7., 5., 7., 5., 7.,\n",
       "         7., 5., 7., 7., 7., 7., 5., 5., 7., 5., 7., 5., 5., 7., 7., 5., 5.,\n",
       "         7., 5., 7., 7., 5., 5., 7., 5., 5., 7., 5., 5., 5., 7., 5., 7., 5.,\n",
       "         5., 5., 5., 7., 7., 5., 7., 5., 5., 5., 7., 5., 7., 7., 7., 5., 7.,\n",
       "         5., 5., 5., 7., 7., 5., 7., 5., 5., 7., 7., 5., 7., 5., 5., 7., 7.,\n",
       "         7., 7., 5., 5., 7., 7., 5., 7., 7., 5., 7., 7., 7., 5., 7., 5., 7.,\n",
       "         5., 7., 5., 7., 7., 7., 7., 5., 7., 7., 7., 7., 5., 7., 7., 7., 5.,\n",
       "         5., 7., 7., 7., 7., 7., 5., 5., 7., 7., 7., 5., 5., 7., 7., 7., 7.,\n",
       "         7., 5., 5., 7., 7., 5., 7., 7., 5., 5., 5., 5., 5., 5., 7., 7., 5.,\n",
       "         7., 7., 5., 5., 5., 7., 5.]),\n",
       "  'test_pred': array([5., 7., 7., 7., 5., 5., 5., 5., 5., 5., 5., 7., 5., 7., 7., 7., 7.,\n",
       "         5., 7., 7., 5., 7., 7., 7., 5., 7., 7., 5., 5., 5., 7., 5., 5., 5.,\n",
       "         5., 7., 7., 5., 7., 7., 5., 5., 7., 5., 5., 7., 5., 7., 5., 5., 7.,\n",
       "         7., 7., 5., 5., 5., 5., 5., 5., 5., 5., 5., 7., 7., 5., 7., 7., 5.,\n",
       "         5., 7., 7., 5., 5., 5., 5., 5., 7., 5., 5., 7., 7., 5., 5., 5., 5.,\n",
       "         7., 7., 5., 7., 5., 7., 7., 5., 7., 7., 7., 5., 5., 7., 5., 5., 5.,\n",
       "         5., 7., 7., 7., 5., 7., 5., 5., 5., 5., 7., 5., 7., 5., 5., 7., 5.,\n",
       "         7., 7., 5., 5., 7., 7., 7., 5., 5., 5., 5., 5., 5., 5., 5., 5., 5.,\n",
       "         5., 7., 7., 5., 5., 7., 5., 7., 5., 7., 7., 7., 5., 7., 7., 5., 7.,\n",
       "         7., 5., 5., 7., 5., 5., 7., 7., 5., 5., 7., 7., 5., 7., 5., 7., 7.,\n",
       "         5., 7., 5., 7., 7., 5., 7., 5., 5., 5., 7., 5., 7., 7., 5., 5., 7.,\n",
       "         5., 5., 7., 5., 7., 7., 5., 7., 7., 5., 7., 7., 5., 7., 5., 7., 5.,\n",
       "         5., 5., 7., 7., 7., 7., 5., 7., 5., 7., 5., 7., 5., 7., 5., 7., 7.,\n",
       "         5., 5., 5., 5., 7., 7., 5., 5., 5., 7., 7., 5., 7., 7., 5., 7., 7.,\n",
       "         5., 5., 5., 5., 7., 7., 7., 5., 5., 7., 5., 5., 5., 5., 5., 5., 7.,\n",
       "         7., 7., 7., 7., 5., 5., 7., 7., 5., 7., 5., 5., 5., 7., 5., 7., 7.,\n",
       "         5., 5., 5., 7., 5., 7., 7., 7., 5., 5., 7., 7., 7., 5., 7., 5., 7.,\n",
       "         5., 7., 7., 7., 7., 5., 5., 7., 7., 7., 7., 5., 7., 5., 7., 5., 7.,\n",
       "         7., 5., 5., 7., 7., 7., 7., 5., 7., 7., 5., 7., 5., 7., 5., 7., 5.,\n",
       "         7., 5., 5., 5., 7., 7., 7., 7., 7., 5., 7., 5., 7., 5., 5., 7., 7.,\n",
       "         7., 7., 7., 7., 7., 5., 5., 5., 5., 7., 5., 7., 5., 7., 5., 7., 5.,\n",
       "         7., 5., 7., 5., 5., 7., 7., 7., 7., 5., 7., 7., 5., 5., 7., 5., 5.,\n",
       "         7., 7., 5., 5., 7., 5., 7., 5., 5., 5., 5., 5., 7., 7., 5., 5., 7.,\n",
       "         5., 5., 7., 5., 7., 7., 5., 7., 7., 7., 7., 5., 5., 5., 7., 7., 7.,\n",
       "         7., 7., 5., 7., 7., 7., 5., 5., 7., 5., 7., 7., 5., 7., 5., 5., 7.,\n",
       "         5., 5., 5., 5., 7., 5., 7., 7., 7., 7., 5., 5., 5., 7., 5., 7., 5.,\n",
       "         7., 5., 5., 5., 7., 7., 5., 7., 7., 7., 7., 5., 7., 7., 7., 5., 5.,\n",
       "         5., 5., 5., 7., 7., 7., 7., 5., 5., 7., 5., 7., 5., 5., 7., 5., 7.,\n",
       "         5., 5., 5., 5., 7., 7., 7., 5., 5., 7., 7., 7., 5., 5., 7., 7., 5.,\n",
       "         5., 7., 5., 5., 5., 5., 7., 5., 7., 5., 5., 5., 5., 7., 5., 7., 7.,\n",
       "         5., 7., 5., 5., 5., 5., 5., 7., 5., 7., 5., 7., 7., 7., 7., 7., 5.,\n",
       "         5., 7., 5., 5., 7., 7., 5., 5., 5., 7., 7., 7., 7., 5., 7., 5., 7.,\n",
       "         5., 7., 7., 5., 5., 5., 7., 7., 7., 7., 7., 7., 7., 7., 5., 7., 5.,\n",
       "         5., 5., 7., 5., 5., 5., 7., 5., 5., 7., 5., 7., 5., 5., 7., 7., 7.,\n",
       "         5., 5., 7., 5., 7., 5., 5., 5., 7., 5., 5., 5., 7., 7., 5., 7., 7.,\n",
       "         5., 7., 5., 5., 5., 7., 5., 7., 7., 5., 5., 5., 7., 5., 5., 5., 5.,\n",
       "         7., 7., 7., 7., 5., 7., 5., 7., 5., 7., 5., 7., 5., 7., 5., 7., 7.,\n",
       "         5., 5., 5., 7., 7., 5., 7., 7., 7., 5., 7., 5., 5., 5., 7., 7., 7.,\n",
       "         7., 7., 7., 5., 5., 5., 7., 5., 5., 7., 5., 7., 5., 7., 7., 7., 5.,\n",
       "         7., 7., 5., 5., 7., 7., 5., 7., 5., 5., 7., 5., 7., 7., 7., 5., 7.,\n",
       "         7., 7., 7., 7., 7., 5., 5., 5., 7., 7., 5., 5., 7., 7., 7., 7., 5.,\n",
       "         5., 5., 7., 7., 7., 5., 7., 7., 7., 5., 5., 5., 7., 5., 7., 5., 5.,\n",
       "         7., 5., 7., 7., 7., 7., 7., 5., 7., 5., 5., 5., 5., 7., 5., 5., 5.,\n",
       "         5., 7., 5., 7., 7., 7., 5., 5., 7., 5., 7., 7., 5., 7., 5., 5., 7.,\n",
       "         5., 7., 5., 5., 5., 7., 7., 7., 5., 7., 7., 7., 5., 5., 7., 7., 7.,\n",
       "         5., 5., 7., 7., 5., 5., 5., 7., 7., 5., 5., 7., 7., 5., 5., 5., 5.,\n",
       "         7., 5., 7., 7., 7., 5., 7., 7., 5., 7., 5., 7., 5., 7., 7., 5., 7.,\n",
       "         7., 5., 7., 7., 5., 5., 7., 5., 5., 7., 5., 5., 7., 7., 5., 7., 5.,\n",
       "         7., 5., 7., 7., 5., 5., 7., 7., 5., 5., 7., 7., 7., 7., 7., 7., 5.,\n",
       "         5., 5., 7., 7., 5., 7., 7., 7., 5., 7., 7., 5., 7., 5., 7., 5., 5.,\n",
       "         5., 5., 5., 5., 7., 5., 7., 5., 7., 7., 5., 7., 5., 5., 7., 7., 5.,\n",
       "         7., 7., 5., 7., 7., 5., 5., 5., 7., 7., 5., 5., 7., 7., 5., 7., 7.,\n",
       "         7., 5., 7., 7., 7., 7., 7., 7., 5., 5., 5., 5., 5., 5., 7., 7., 5.,\n",
       "         5., 5., 5., 7., 7., 5., 7., 7., 5., 5., 7., 5., 7., 7., 7., 7., 5.,\n",
       "         5., 5., 7., 5., 7., 5., 7., 5., 5., 7., 7., 7., 5., 7., 7., 5., 7.,\n",
       "         5., 7., 7., 5., 7., 5., 5., 7., 5., 7., 5., 7., 7., 5., 7., 5., 5.,\n",
       "         7., 7., 7., 7., 7., 7., 5., 7., 5., 5., 7., 5., 5., 7., 5., 5., 7.,\n",
       "         5., 5., 5., 5., 7., 7., 5., 7., 5., 7., 7., 5., 7., 5., 7., 5., 5.,\n",
       "         5., 5., 5., 7., 7., 7., 7., 5., 5., 5., 7., 5., 5., 5.])},\n",
       " {'name': '5_8',\n",
       "  'train_acc': 0.9997777777777778,\n",
       "  'val_acc': 0.994,\n",
       "  'test_acc': 0.992,\n",
       "  'train_time': 8.156293153762817,\n",
       "  'train_pred': array([5., 8., 5., ..., 8., 8., 8.]),\n",
       "  'val_pred': array([5., 5., 5., 5., 5., 8., 5., 8., 8., 5., 8., 8., 5., 8., 8., 5., 5.,\n",
       "         5., 5., 5., 5., 8., 8., 5., 8., 8., 8., 8., 8., 8., 8., 5., 8., 5.,\n",
       "         5., 8., 5., 5., 5., 8., 5., 8., 5., 5., 5., 5., 5., 8., 8., 5., 5.,\n",
       "         8., 5., 8., 5., 5., 8., 5., 5., 5., 8., 8., 8., 5., 8., 5., 8., 8.,\n",
       "         5., 5., 5., 8., 5., 8., 5., 8., 8., 8., 8., 8., 8., 5., 8., 8., 8.,\n",
       "         8., 8., 8., 8., 5., 8., 5., 5., 8., 5., 8., 5., 5., 8., 8., 5., 5.,\n",
       "         5., 5., 8., 5., 5., 8., 5., 8., 5., 8., 5., 8., 5., 8., 8., 8., 8.,\n",
       "         5., 8., 8., 5., 8., 5., 5., 8., 8., 8., 8., 8., 8., 5., 8., 5., 5.,\n",
       "         5., 5., 8., 5., 5., 5., 8., 5., 5., 8., 5., 8., 5., 8., 8., 5., 8.,\n",
       "         5., 8., 8., 5., 5., 5., 8., 8., 8., 5., 5., 5., 8., 5., 5., 8., 5.,\n",
       "         5., 8., 8., 5., 8., 8., 8., 5., 8., 5., 8., 5., 5., 5., 5., 5., 8.,\n",
       "         5., 5., 8., 8., 5., 5., 5., 8., 5., 5., 8., 5., 5., 5., 8., 8., 5.,\n",
       "         8., 5., 8., 5., 5., 8., 8., 5., 5., 8., 8., 8., 5., 5., 8., 8., 5.,\n",
       "         5., 8., 5., 5., 5., 8., 8., 8., 8., 5., 5., 5., 5., 5., 5., 8., 8.,\n",
       "         8., 8., 8., 5., 5., 8., 5., 8., 5., 5., 5., 8., 8., 8., 5., 5., 8.,\n",
       "         5., 8., 8., 8., 5., 8., 8., 8., 5., 8., 8., 5., 8., 5., 8., 5., 5.,\n",
       "         8., 8., 5., 8., 8., 8., 5., 5., 5., 8., 8., 8., 5., 5., 8., 8., 8.,\n",
       "         8., 5., 5., 5., 5., 5., 8., 5., 5., 8., 8., 8., 5., 5., 8., 8., 5.,\n",
       "         8., 5., 5., 8., 8., 8., 8., 8., 5., 5., 5., 8., 8., 8., 5., 8., 8.,\n",
       "         8., 5., 5., 8., 5., 5., 8., 5., 5., 5., 5., 8., 8., 5., 8., 8., 5.,\n",
       "         5., 8., 8., 5., 8., 5., 8., 5., 5., 5., 5., 5., 8., 5., 8., 5., 5.,\n",
       "         8., 8., 8., 8., 5., 8., 5., 5., 5., 8., 5., 8., 8., 8., 5., 5., 8.,\n",
       "         8., 5., 8., 8., 5., 8., 5., 5., 5., 5., 8., 5., 8., 5., 8., 8., 8.,\n",
       "         5., 8., 8., 5., 5., 5., 8., 5., 8., 5., 5., 8., 8., 5., 5., 5., 8.,\n",
       "         5., 5., 8., 5., 5., 8., 8., 8., 5., 8., 5., 8., 8., 5., 5., 8., 5.,\n",
       "         5., 8., 5., 5., 8., 8., 5., 8., 5., 8., 8., 5., 8., 8., 8., 5., 8.,\n",
       "         8., 8., 8., 5., 5., 5., 8., 8., 8., 5., 8., 5., 8., 5., 5., 8., 8.,\n",
       "         8., 8., 5., 5., 5., 5., 8., 8., 8., 8., 5., 5., 8., 5., 8., 8., 8.,\n",
       "         5., 8., 8., 8., 8., 5., 5., 8., 5., 8., 5., 5., 5., 8., 5., 5., 8.,\n",
       "         8., 5., 5., 5., 5., 8., 5.]),\n",
       "  'test_pred': array([5., 8., 5., 5., 8., 5., 8., 5., 5., 5., 5., 5., 8., 8., 8., 8., 5.,\n",
       "         8., 5., 5., 8., 5., 8., 8., 5., 8., 5., 5., 5., 8., 8., 5., 5., 8.,\n",
       "         5., 8., 5., 5., 8., 5., 8., 5., 8., 5., 5., 8., 5., 8., 8., 8., 5.,\n",
       "         5., 8., 8., 5., 8., 5., 5., 5., 5., 5., 8., 8., 8., 8., 8., 8., 8.,\n",
       "         5., 5., 8., 8., 5., 8., 8., 5., 8., 5., 8., 5., 5., 8., 8., 8., 5.,\n",
       "         5., 8., 8., 8., 5., 8., 5., 5., 5., 8., 8., 5., 8., 8., 5., 8., 5.,\n",
       "         8., 8., 5., 8., 8., 5., 5., 5., 5., 5., 8., 8., 8., 5., 5., 8., 5.,\n",
       "         5., 8., 5., 8., 5., 8., 5., 5., 5., 5., 8., 5., 5., 5., 5., 5., 5.,\n",
       "         5., 8., 8., 5., 8., 5., 5., 8., 5., 8., 5., 5., 8., 8., 5., 8., 5.,\n",
       "         5., 8., 8., 8., 5., 5., 8., 5., 5., 8., 8., 5., 5., 8., 8., 8., 5.,\n",
       "         8., 8., 5., 8., 8., 5., 8., 8., 8., 5., 8., 8., 8., 5., 8., 8., 8.,\n",
       "         5., 5., 5., 5., 8., 5., 5., 5., 5., 8., 5., 8., 5., 8., 8., 8., 8.,\n",
       "         8., 8., 5., 5., 5., 8., 5., 5., 8., 5., 8., 5., 8., 5., 8., 5., 5.,\n",
       "         8., 5., 5., 5., 5., 5., 5., 5., 8., 8., 5., 8., 8., 5., 5., 8., 5.,\n",
       "         8., 5., 5., 8., 8., 8., 8., 8., 8., 5., 5., 5., 5., 5., 8., 8., 5.,\n",
       "         8., 8., 5., 5., 5., 5., 5., 8., 5., 8., 5., 5., 5., 5., 8., 8., 8.,\n",
       "         8., 8., 5., 8., 8., 5., 8., 8., 8., 8., 8., 5., 8., 5., 8., 8., 8.,\n",
       "         5., 8., 8., 5., 5., 5., 5., 5., 8., 8., 8., 8., 8., 8., 5., 5., 5.,\n",
       "         5., 5., 8., 5., 8., 8., 5., 5., 5., 5., 5., 5., 5., 8., 8., 5., 8.,\n",
       "         8., 8., 5., 5., 8., 5., 5., 8., 8., 8., 8., 5., 8., 5., 5., 5., 5.,\n",
       "         8., 8., 8., 5., 5., 5., 8., 5., 5., 5., 8., 5., 8., 8., 8., 8., 8.,\n",
       "         5., 8., 8., 8., 8., 5., 5., 8., 8., 8., 5., 5., 5., 8., 5., 5., 5.,\n",
       "         8., 8., 8., 8., 5., 5., 5., 8., 8., 8., 5., 8., 5., 5., 8., 8., 8.,\n",
       "         5., 8., 5., 5., 5., 8., 8., 5., 5., 8., 8., 5., 8., 8., 8., 5., 8.,\n",
       "         5., 8., 5., 5., 5., 5., 8., 8., 5., 5., 5., 8., 8., 5., 5., 8., 5.,\n",
       "         8., 8., 5., 8., 5., 5., 8., 5., 5., 5., 8., 8., 5., 8., 8., 8., 5.,\n",
       "         8., 8., 8., 8., 5., 8., 8., 5., 8., 8., 5., 5., 8., 5., 5., 5., 5.,\n",
       "         8., 8., 5., 5., 8., 8., 8., 5., 5., 5., 5., 8., 8., 5., 5., 8., 5.,\n",
       "         5., 8., 8., 5., 5., 8., 8., 8., 5., 5., 5., 5., 8., 5., 5., 5., 5.,\n",
       "         8., 5., 5., 5., 8., 5., 8., 5., 5., 8., 8., 5., 5., 8., 8., 8., 5.,\n",
       "         5., 8., 5., 8., 5., 5., 5., 8., 5., 8., 5., 8., 8., 5., 8., 8., 5.,\n",
       "         8., 8., 5., 5., 5., 8., 5., 8., 5., 8., 8., 8., 8., 5., 8., 5., 8.,\n",
       "         5., 8., 8., 8., 5., 8., 8., 5., 5., 8., 8., 8., 5., 5., 8., 5., 5.,\n",
       "         8., 8., 8., 5., 5., 8., 8., 8., 8., 5., 5., 8., 5., 8., 8., 5., 5.,\n",
       "         8., 8., 5., 5., 8., 5., 5., 5., 5., 5., 8., 5., 5., 5., 5., 5., 8.,\n",
       "         5., 8., 8., 5., 8., 5., 5., 5., 8., 8., 5., 8., 5., 8., 5., 5., 5.,\n",
       "         8., 8., 8., 8., 8., 8., 8., 8., 8., 5., 8., 5., 8., 8., 8., 5., 8.,\n",
       "         8., 8., 5., 5., 5., 5., 8., 8., 5., 8., 5., 8., 5., 8., 8., 8., 8.,\n",
       "         8., 8., 5., 5., 5., 5., 5., 8., 8., 8., 5., 8., 5., 8., 5., 8., 5.,\n",
       "         8., 5., 8., 8., 5., 5., 5., 8., 5., 5., 8., 8., 8., 8., 5., 5., 5.,\n",
       "         8., 5., 5., 8., 8., 8., 8., 8., 5., 5., 8., 8., 5., 8., 8., 5., 5.,\n",
       "         8., 8., 8., 5., 8., 5., 5., 8., 8., 8., 5., 8., 8., 5., 5., 8., 8.,\n",
       "         8., 5., 8., 8., 5., 5., 5., 5., 5., 8., 5., 8., 5., 8., 5., 5., 8.,\n",
       "         8., 5., 8., 8., 5., 5., 5., 8., 8., 8., 5., 5., 5., 8., 8., 5., 8.,\n",
       "         8., 8., 5., 5., 8., 5., 5., 5., 5., 8., 8., 8., 8., 5., 5., 8., 8.,\n",
       "         5., 5., 8., 8., 8., 5., 8., 8., 8., 5., 5., 5., 8., 8., 8., 8., 8.,\n",
       "         5., 8., 5., 8., 5., 5., 5., 8., 8., 5., 5., 8., 8., 8., 8., 8., 5.,\n",
       "         8., 5., 8., 8., 8., 5., 8., 8., 5., 5., 8., 5., 8., 5., 8., 8., 5.,\n",
       "         5., 5., 5., 8., 8., 5., 8., 5., 8., 5., 5., 5., 5., 8., 8., 8., 8.,\n",
       "         5., 8., 8., 5., 5., 5., 5., 8., 5., 8., 8., 8., 5., 8., 8., 8., 5.,\n",
       "         5., 5., 5., 5., 8., 5., 5., 5., 8., 5., 5., 5., 8., 8., 8., 5., 8.,\n",
       "         5., 8., 5., 5., 5., 8., 5., 5., 5., 8., 8., 5., 5., 8., 5., 5., 8.,\n",
       "         5., 5., 5., 5., 8., 8., 5., 5., 5., 5., 5., 5., 5., 8., 8., 8., 8.,\n",
       "         5., 8., 8., 8., 5., 5., 5., 5., 5., 5., 8., 5., 5., 8., 5., 8., 5.,\n",
       "         8., 5., 8., 8., 8., 5., 8., 8., 8., 8., 5., 5., 8., 8., 5., 8., 5.,\n",
       "         8., 5., 8., 8., 5., 8., 8., 8., 8., 8., 5., 8., 5., 5., 5., 5., 5.,\n",
       "         8., 5., 5., 8., 8., 8., 5., 5., 5., 5., 8., 8., 8., 5., 8., 5., 8.,\n",
       "         8., 8., 5., 5., 8., 8., 8., 8., 8., 8., 8., 8., 5., 5., 8., 8., 5.,\n",
       "         5., 8., 8., 5., 5., 8., 5., 8., 8., 8., 8., 5., 5., 5.])},\n",
       " {'name': '5_9',\n",
       "  'train_acc': 0.9991111111111111,\n",
       "  'val_acc': 0.976,\n",
       "  'test_acc': 0.981,\n",
       "  'train_time': 5.876366853713989,\n",
       "  'train_pred': array([5., 9., 5., ..., 9., 5., 5.]),\n",
       "  'val_pred': array([5., 5., 5., 9., 5., 5., 9., 9., 5., 9., 5., 5., 5., 5., 5., 5., 9.,\n",
       "         5., 9., 9., 5., 5., 9., 9., 5., 9., 9., 9., 9., 9., 9., 9., 9., 5.,\n",
       "         5., 5., 9., 9., 5., 5., 5., 5., 9., 9., 9., 5., 9., 9., 5., 9., 5.,\n",
       "         5., 9., 5., 9., 5., 9., 5., 5., 5., 9., 9., 5., 5., 9., 9., 5., 9.,\n",
       "         9., 5., 9., 5., 5., 5., 9., 5., 9., 9., 5., 5., 9., 5., 9., 9., 9.,\n",
       "         9., 5., 9., 5., 9., 5., 5., 9., 5., 9., 5., 5., 5., 9., 9., 9., 9.,\n",
       "         9., 5., 5., 9., 5., 5., 9., 9., 5., 5., 5., 5., 5., 9., 5., 9., 9.,\n",
       "         5., 9., 9., 5., 5., 9., 5., 5., 9., 9., 5., 9., 9., 5., 5., 5., 9.,\n",
       "         5., 9., 5., 5., 9., 9., 9., 5., 9., 9., 9., 5., 5., 5., 9., 5., 9.,\n",
       "         9., 9., 9., 9., 5., 9., 5., 9., 5., 5., 5., 9., 5., 5., 9., 5., 5.,\n",
       "         5., 9., 5., 9., 9., 9., 5., 9., 5., 9., 5., 9., 9., 9., 9., 5., 5.,\n",
       "         9., 9., 5., 5., 5., 9., 9., 5., 5., 5., 5., 9., 5., 9., 5., 9., 9.,\n",
       "         9., 5., 5., 5., 9., 9., 5., 5., 5., 9., 5., 5., 5., 5., 5., 5., 5.,\n",
       "         5., 9., 5., 5., 5., 9., 9., 9., 9., 9., 9., 5., 9., 5., 9., 5., 5.,\n",
       "         5., 5., 9., 9., 5., 5., 5., 5., 9., 9., 5., 9., 5., 9., 5., 9., 5.,\n",
       "         5., 9., 5., 5., 9., 9., 5., 9., 5., 5., 9., 5., 9., 5., 9., 5., 5.,\n",
       "         5., 9., 9., 9., 9., 9., 9., 5., 9., 5., 9., 5., 9., 9., 5., 5., 5.,\n",
       "         5., 9., 5., 5., 9., 9., 9., 5., 5., 9., 5., 5., 5., 9., 5., 9., 9.,\n",
       "         5., 5., 5., 9., 5., 5., 5., 9., 9., 9., 9., 9., 5., 5., 5., 5., 5.,\n",
       "         5., 9., 5., 9., 5., 9., 9., 9., 9., 5., 5., 9., 9., 5., 5., 5., 5.,\n",
       "         5., 5., 9., 5., 5., 9., 9., 5., 9., 5., 9., 5., 9., 5., 9., 9., 5.,\n",
       "         9., 9., 9., 9., 9., 9., 9., 5., 5., 9., 9., 9., 9., 5., 5., 9., 5.,\n",
       "         5., 5., 9., 5., 5., 9., 9., 5., 5., 5., 5., 5., 9., 5., 9., 5., 5.,\n",
       "         9., 9., 9., 5., 5., 5., 5., 9., 5., 5., 9., 9., 5., 5., 9., 9., 5.,\n",
       "         9., 9., 9., 9., 5., 5., 9., 9., 5., 5., 9., 5., 5., 9., 9., 9., 5.,\n",
       "         5., 5., 9., 9., 9., 9., 9., 9., 5., 9., 9., 9., 5., 9., 5., 9., 9.,\n",
       "         5., 9., 9., 9., 9., 5., 5., 9., 9., 9., 9., 5., 5., 9., 9., 9., 9.,\n",
       "         5., 9., 5., 5., 5., 9., 9., 9., 9., 5., 5., 9., 9., 9., 5., 9., 5.,\n",
       "         9., 9., 5., 5., 9., 9., 5., 9., 9., 9., 9., 5., 5., 5., 5., 9., 5.,\n",
       "         5., 5., 5., 9., 9., 9., 5.]),\n",
       "  'test_pred': array([5., 9., 9., 9., 5., 5., 5., 5., 5., 5., 5., 5., 9., 9., 5., 5., 5.,\n",
       "         5., 9., 9., 9., 5., 9., 9., 9., 9., 9., 9., 9., 9., 5., 9., 5., 9.,\n",
       "         9., 5., 9., 9., 9., 5., 5., 9., 5., 9., 5., 5., 5., 5., 9., 9., 9.,\n",
       "         5., 5., 5., 5., 5., 5., 9., 9., 9., 5., 9., 9., 9., 9., 5., 5., 9.,\n",
       "         9., 5., 9., 9., 5., 9., 5., 5., 5., 9., 9., 5., 5., 5., 5., 5., 5.,\n",
       "         5., 5., 5., 9., 9., 5., 5., 9., 9., 9., 9., 5., 9., 9., 5., 5., 5.,\n",
       "         9., 5., 9., 9., 5., 9., 5., 9., 5., 9., 9., 9., 9., 5., 9., 9., 9.,\n",
       "         5., 5., 5., 5., 5., 5., 5., 5., 9., 9., 5., 9., 9., 9., 9., 5., 9.,\n",
       "         9., 9., 5., 5., 9., 5., 5., 5., 9., 9., 5., 5., 9., 5., 5., 5., 9.,\n",
       "         5., 5., 9., 5., 9., 5., 5., 9., 9., 9., 9., 5., 5., 5., 5., 9., 5.,\n",
       "         5., 9., 9., 9., 5., 5., 5., 5., 5., 5., 9., 5., 9., 9., 9., 9., 9.,\n",
       "         5., 9., 9., 9., 5., 5., 9., 9., 5., 5., 5., 5., 9., 5., 9., 5., 5.,\n",
       "         5., 9., 9., 5., 9., 5., 9., 5., 9., 9., 5., 9., 5., 9., 5., 9., 5.,\n",
       "         5., 5., 5., 9., 9., 5., 9., 5., 9., 5., 9., 9., 5., 5., 5., 5., 5.,\n",
       "         9., 5., 5., 5., 9., 5., 9., 5., 9., 9., 5., 5., 5., 9., 9., 9., 9.,\n",
       "         9., 9., 5., 5., 5., 5., 5., 9., 5., 9., 5., 5., 9., 9., 5., 9., 5.,\n",
       "         5., 9., 9., 5., 5., 5., 9., 5., 9., 9., 5., 9., 9., 9., 9., 9., 5.,\n",
       "         9., 5., 9., 5., 5., 5., 5., 9., 9., 5., 5., 9., 9., 9., 5., 9., 5.,\n",
       "         5., 5., 5., 9., 9., 9., 5., 5., 5., 9., 5., 5., 5., 9., 5., 9., 5.,\n",
       "         9., 5., 5., 5., 5., 9., 9., 5., 5., 9., 9., 9., 5., 5., 5., 5., 9.,\n",
       "         5., 5., 5., 5., 9., 5., 9., 5., 9., 9., 9., 5., 9., 9., 9., 5., 9.,\n",
       "         5., 5., 5., 5., 9., 9., 5., 9., 9., 5., 5., 9., 9., 9., 9., 5., 9.,\n",
       "         5., 5., 9., 9., 5., 5., 5., 9., 5., 9., 9., 9., 5., 5., 9., 9., 9.,\n",
       "         5., 9., 9., 9., 9., 9., 9., 5., 9., 9., 5., 5., 9., 9., 5., 9., 9.,\n",
       "         9., 9., 5., 5., 9., 5., 9., 9., 9., 9., 5., 5., 9., 5., 5., 5., 5.,\n",
       "         5., 9., 5., 9., 5., 9., 9., 9., 5., 9., 9., 9., 9., 9., 9., 9., 9.,\n",
       "         9., 9., 9., 9., 9., 5., 9., 5., 5., 9., 5., 5., 9., 9., 9., 5., 5.,\n",
       "         9., 5., 9., 9., 5., 5., 9., 9., 5., 5., 5., 5., 5., 5., 9., 9., 9.,\n",
       "         9., 5., 9., 9., 5., 5., 9., 9., 5., 9., 5., 5., 9., 9., 5., 5., 9.,\n",
       "         9., 9., 9., 5., 5., 9., 5., 9., 5., 9., 5., 5., 5., 5., 5., 5., 5.,\n",
       "         5., 5., 9., 9., 9., 5., 9., 5., 5., 9., 5., 5., 9., 5., 5., 9., 5.,\n",
       "         5., 9., 5., 9., 5., 9., 9., 5., 5., 5., 9., 5., 5., 5., 5., 9., 5.,\n",
       "         9., 9., 9., 5., 9., 9., 5., 9., 9., 9., 9., 5., 9., 5., 5., 5., 9.,\n",
       "         9., 9., 5., 5., 9., 5., 5., 5., 9., 5., 5., 9., 9., 9., 5., 5., 9.,\n",
       "         9., 9., 9., 5., 9., 9., 5., 9., 9., 5., 5., 5., 9., 9., 5., 9., 5.,\n",
       "         5., 5., 5., 5., 5., 5., 5., 9., 5., 5., 5., 9., 5., 9., 9., 9., 9.,\n",
       "         5., 9., 5., 9., 9., 9., 5., 5., 5., 5., 9., 9., 5., 9., 5., 5., 9.,\n",
       "         5., 9., 9., 5., 9., 5., 9., 5., 5., 5., 5., 5., 9., 9., 5., 9., 5.,\n",
       "         5., 9., 9., 9., 9., 5., 5., 5., 5., 5., 9., 5., 9., 5., 9., 9., 9.,\n",
       "         5., 9., 9., 5., 5., 9., 5., 5., 5., 9., 9., 5., 9., 5., 9., 9., 9.,\n",
       "         5., 5., 9., 5., 9., 5., 9., 5., 9., 9., 9., 9., 5., 9., 5., 9., 5.,\n",
       "         9., 9., 9., 5., 9., 5., 9., 9., 5., 9., 9., 9., 5., 9., 9., 5., 9.,\n",
       "         9., 9., 5., 9., 5., 5., 5., 9., 9., 9., 9., 9., 5., 9., 9., 5., 5.,\n",
       "         9., 5., 9., 5., 9., 9., 5., 5., 9., 5., 5., 5., 5., 5., 5., 5., 9.,\n",
       "         9., 5., 5., 5., 9., 9., 5., 5., 5., 5., 5., 5., 9., 9., 5., 9., 5.,\n",
       "         5., 5., 9., 9., 5., 5., 9., 9., 5., 5., 5., 5., 5., 9., 9., 5., 5.,\n",
       "         5., 9., 5., 9., 5., 5., 5., 9., 9., 5., 9., 9., 9., 9., 9., 5., 9.,\n",
       "         9., 5., 5., 5., 5., 9., 9., 9., 9., 5., 5., 9., 5., 9., 9., 5., 5.,\n",
       "         9., 9., 9., 9., 5., 5., 5., 9., 5., 5., 9., 9., 9., 5., 5., 5., 9.,\n",
       "         9., 5., 9., 9., 5., 5., 9., 9., 9., 5., 5., 5., 5., 9., 5., 5., 5.,\n",
       "         5., 9., 9., 9., 5., 9., 5., 5., 5., 9., 9., 5., 9., 5., 9., 5., 5.,\n",
       "         9., 9., 9., 9., 9., 9., 9., 9., 5., 5., 9., 9., 5., 9., 9., 5., 9.,\n",
       "         5., 5., 9., 9., 5., 5., 5., 9., 9., 5., 5., 5., 9., 5., 5., 5., 9.,\n",
       "         9., 5., 9., 5., 5., 9., 9., 9., 5., 9., 5., 5., 5., 9., 9., 5., 9.,\n",
       "         5., 9., 9., 9., 5., 9., 5., 5., 5., 9., 5., 9., 9., 5., 9., 9., 5.,\n",
       "         9., 9., 9., 5., 5., 9., 5., 5., 9., 5., 9., 9., 9., 9., 5., 9., 9.,\n",
       "         9., 9., 9., 9., 9., 5., 9., 5., 5., 9., 9., 9., 5., 5., 5., 5., 5.,\n",
       "         9., 9., 5., 5., 5., 5., 5., 9., 5., 9., 9., 5., 9., 9., 9., 9., 5.,\n",
       "         5., 5., 5., 5., 9., 5., 9., 9., 5., 5., 9., 5., 5., 5.])},\n",
       " {'name': '6_7',\n",
       "  'train_acc': 1.0,\n",
       "  'val_acc': 0.992,\n",
       "  'test_acc': 0.999,\n",
       "  'train_time': 3.548743724822998,\n",
       "  'train_pred': array([7., 7., 6., ..., 6., 7., 7.]),\n",
       "  'val_pred': array([7., 6., 6., 7., 7., 7., 6., 7., 7., 7., 6., 6., 7., 7., 6., 6., 7.,\n",
       "         7., 7., 6., 7., 7., 7., 7., 7., 7., 6., 6., 6., 6., 6., 7., 6., 6.,\n",
       "         6., 7., 7., 6., 7., 6., 7., 7., 6., 7., 6., 7., 6., 6., 7., 7., 6.,\n",
       "         6., 7., 6., 6., 7., 6., 6., 6., 7., 6., 7., 6., 7., 6., 7., 6., 6.,\n",
       "         6., 6., 7., 6., 6., 7., 7., 6., 7., 7., 7., 7., 7., 6., 7., 6., 7.,\n",
       "         7., 6., 7., 6., 7., 7., 6., 7., 6., 6., 7., 6., 7., 6., 6., 7., 7.,\n",
       "         6., 6., 6., 7., 7., 7., 6., 6., 6., 7., 6., 7., 7., 7., 7., 7., 7.,\n",
       "         7., 7., 6., 7., 6., 6., 7., 6., 6., 6., 7., 7., 6., 6., 7., 7., 6.,\n",
       "         6., 7., 7., 7., 7., 6., 6., 7., 6., 7., 6., 7., 7., 7., 6., 7., 6.,\n",
       "         6., 7., 7., 7., 7., 7., 6., 6., 7., 6., 7., 6., 7., 6., 7., 6., 7.,\n",
       "         6., 6., 6., 7., 7., 6., 6., 6., 7., 6., 6., 7., 7., 7., 7., 6., 7.,\n",
       "         6., 6., 7., 7., 6., 6., 6., 7., 7., 7., 6., 7., 7., 7., 7., 6., 7.,\n",
       "         7., 7., 7., 6., 6., 7., 6., 7., 7., 6., 7., 7., 6., 6., 6., 6., 7.,\n",
       "         7., 6., 6., 6., 6., 7., 7., 7., 6., 6., 6., 7., 6., 6., 7., 6., 7.,\n",
       "         6., 6., 6., 6., 7., 7., 6., 7., 7., 7., 6., 7., 7., 6., 7., 6., 6.,\n",
       "         6., 6., 6., 6., 6., 6., 6., 7., 7., 6., 7., 7., 7., 7., 6., 7., 6.,\n",
       "         7., 6., 7., 7., 6., 6., 6., 6., 6., 6., 6., 6., 6., 7., 6., 7., 7.,\n",
       "         6., 6., 6., 6., 7., 6., 6., 6., 6., 7., 6., 7., 6., 7., 6., 7., 7.,\n",
       "         7., 6., 6., 6., 7., 7., 6., 7., 6., 6., 6., 6., 6., 6., 6., 6., 6.,\n",
       "         7., 6., 6., 7., 7., 7., 6., 6., 6., 7., 7., 6., 6., 7., 6., 7., 6.,\n",
       "         6., 7., 7., 7., 6., 7., 6., 7., 7., 6., 7., 7., 6., 7., 6., 6., 7.,\n",
       "         7., 7., 6., 6., 7., 6., 7., 7., 7., 6., 7., 6., 7., 7., 7., 6., 6.,\n",
       "         6., 6., 7., 7., 7., 6., 7., 6., 6., 6., 6., 6., 7., 6., 7., 7., 7.,\n",
       "         6., 6., 6., 6., 6., 6., 7., 6., 6., 6., 7., 7., 6., 6., 7., 7., 7.,\n",
       "         6., 7., 6., 6., 7., 6., 7., 7., 6., 6., 6., 6., 7., 6., 7., 7., 7.,\n",
       "         6., 7., 6., 7., 7., 6., 7., 7., 6., 6., 6., 6., 6., 7., 7., 7., 6.,\n",
       "         6., 7., 7., 7., 6., 7., 6., 7., 6., 7., 7., 6., 7., 7., 7., 6., 6.,\n",
       "         6., 6., 6., 7., 7., 7., 7., 6., 6., 6., 6., 7., 7., 7., 6., 6., 7.,\n",
       "         7., 7., 7., 7., 6., 7., 7., 6., 7., 6., 6., 6., 7., 7., 6., 6., 7.,\n",
       "         7., 7., 7., 7., 6., 6., 6.]),\n",
       "  'test_pred': array([7., 7., 6., 7., 6., 7., 7., 6., 7., 6., 7., 6., 7., 6., 7., 6., 6.,\n",
       "         7., 6., 7., 6., 6., 7., 6., 7., 6., 6., 7., 7., 7., 7., 7., 7., 7.,\n",
       "         6., 7., 6., 7., 6., 7., 7., 6., 6., 6., 7., 6., 7., 7., 6., 7., 7.,\n",
       "         6., 6., 6., 6., 6., 6., 7., 7., 6., 6., 7., 7., 6., 6., 6., 6., 6.,\n",
       "         6., 7., 6., 6., 6., 6., 6., 7., 7., 7., 7., 7., 7., 6., 6., 6., 7.,\n",
       "         7., 6., 6., 7., 6., 7., 6., 6., 6., 6., 7., 6., 7., 7., 6., 6., 7.,\n",
       "         7., 7., 7., 6., 6., 6., 7., 6., 6., 6., 6., 6., 7., 7., 7., 6., 7.,\n",
       "         7., 6., 7., 6., 6., 7., 6., 6., 7., 6., 6., 6., 6., 6., 6., 7., 6.,\n",
       "         7., 6., 6., 6., 7., 6., 6., 7., 7., 6., 7., 7., 6., 6., 7., 7., 6.,\n",
       "         6., 7., 7., 6., 6., 7., 7., 7., 6., 6., 6., 6., 7., 6., 6., 6., 6.,\n",
       "         7., 7., 6., 7., 6., 7., 7., 7., 6., 6., 7., 6., 7., 7., 6., 6., 7.,\n",
       "         7., 7., 7., 6., 7., 7., 6., 7., 7., 7., 6., 6., 7., 6., 7., 7., 7.,\n",
       "         7., 6., 7., 6., 6., 7., 6., 7., 7., 6., 7., 7., 6., 6., 6., 6., 7.,\n",
       "         7., 7., 7., 7., 7., 6., 6., 6., 7., 7., 6., 6., 6., 6., 6., 7., 7.,\n",
       "         7., 6., 7., 6., 7., 7., 7., 7., 6., 7., 6., 6., 7., 6., 7., 7., 6.,\n",
       "         6., 6., 7., 7., 7., 7., 6., 6., 6., 7., 6., 7., 7., 7., 7., 7., 6.,\n",
       "         7., 7., 6., 7., 7., 7., 6., 7., 7., 7., 6., 6., 6., 7., 6., 7., 6.,\n",
       "         7., 6., 7., 6., 7., 7., 6., 7., 7., 6., 7., 7., 6., 6., 7., 7., 6.,\n",
       "         7., 7., 6., 6., 7., 6., 7., 7., 6., 7., 6., 7., 7., 7., 6., 6., 6.,\n",
       "         7., 7., 6., 6., 7., 6., 6., 6., 7., 7., 7., 7., 7., 6., 7., 6., 6.,\n",
       "         7., 6., 6., 7., 6., 7., 7., 6., 6., 7., 6., 6., 7., 6., 6., 7., 6.,\n",
       "         6., 7., 7., 6., 7., 6., 7., 7., 6., 7., 6., 6., 7., 7., 6., 6., 7.,\n",
       "         6., 7., 6., 6., 6., 6., 6., 6., 7., 7., 6., 6., 7., 7., 7., 7., 6.,\n",
       "         6., 6., 7., 7., 7., 7., 6., 7., 7., 6., 7., 6., 6., 7., 6., 6., 7.,\n",
       "         7., 7., 6., 6., 6., 7., 7., 6., 6., 7., 7., 7., 7., 6., 6., 6., 6.,\n",
       "         7., 7., 7., 7., 6., 7., 7., 6., 6., 7., 6., 6., 6., 7., 6., 6., 7.,\n",
       "         7., 7., 6., 7., 7., 6., 7., 6., 7., 7., 7., 6., 7., 6., 7., 7., 6.,\n",
       "         6., 6., 7., 7., 6., 7., 6., 6., 7., 6., 7., 7., 7., 6., 7., 7., 6.,\n",
       "         7., 6., 6., 6., 7., 7., 7., 6., 6., 7., 6., 7., 6., 6., 6., 6., 6.,\n",
       "         6., 7., 7., 6., 7., 6., 7., 6., 6., 6., 6., 6., 6., 6., 7., 7., 6.,\n",
       "         7., 6., 7., 6., 6., 7., 6., 7., 7., 6., 6., 6., 7., 6., 6., 7., 7.,\n",
       "         6., 6., 7., 7., 7., 7., 6., 7., 6., 7., 6., 6., 6., 6., 6., 7., 6.,\n",
       "         7., 6., 6., 7., 6., 7., 7., 7., 7., 7., 7., 7., 6., 6., 6., 6., 7.,\n",
       "         6., 6., 7., 6., 7., 6., 6., 6., 7., 7., 6., 6., 7., 6., 7., 7., 6.,\n",
       "         7., 6., 6., 6., 7., 6., 7., 6., 7., 7., 7., 6., 7., 7., 6., 7., 6.,\n",
       "         6., 6., 7., 7., 6., 6., 6., 7., 6., 6., 7., 6., 7., 7., 7., 6., 7.,\n",
       "         6., 7., 6., 7., 7., 6., 6., 7., 6., 6., 7., 7., 6., 7., 6., 7., 6.,\n",
       "         7., 7., 7., 7., 6., 6., 7., 6., 6., 6., 6., 6., 6., 7., 7., 6., 7.,\n",
       "         7., 7., 7., 7., 6., 7., 6., 7., 6., 7., 7., 7., 6., 7., 7., 7., 7.,\n",
       "         6., 7., 7., 6., 6., 6., 7., 6., 6., 6., 7., 7., 6., 6., 7., 7., 7.,\n",
       "         6., 7., 7., 6., 6., 7., 7., 6., 7., 7., 7., 6., 7., 6., 6., 7., 7.,\n",
       "         6., 6., 6., 6., 7., 6., 7., 7., 7., 6., 6., 6., 7., 6., 6., 6., 7.,\n",
       "         7., 6., 6., 6., 7., 7., 7., 6., 7., 7., 7., 7., 6., 6., 6., 7., 6.,\n",
       "         6., 7., 6., 7., 7., 6., 7., 7., 6., 7., 7., 6., 6., 6., 7., 6., 6.,\n",
       "         7., 6., 6., 7., 7., 6., 6., 6., 6., 6., 7., 6., 6., 7., 7., 7., 7.,\n",
       "         6., 7., 6., 6., 6., 6., 7., 7., 6., 6., 6., 6., 7., 7., 6., 6., 7.,\n",
       "         7., 6., 6., 7., 7., 7., 7., 7., 7., 7., 6., 6., 7., 6., 7., 6., 6.,\n",
       "         7., 6., 6., 7., 7., 7., 7., 6., 6., 7., 6., 7., 7., 7., 7., 7., 7.,\n",
       "         7., 6., 6., 7., 7., 6., 7., 7., 7., 6., 6., 6., 6., 6., 7., 7., 7.,\n",
       "         6., 7., 6., 6., 7., 7., 7., 7., 7., 6., 6., 7., 6., 7., 6., 6., 6.,\n",
       "         6., 7., 6., 7., 6., 6., 6., 7., 6., 7., 7., 7., 7., 7., 7., 7., 6.,\n",
       "         6., 6., 7., 6., 7., 6., 7., 6., 7., 6., 6., 6., 6., 6., 7., 7., 7.,\n",
       "         7., 6., 6., 6., 7., 6., 6., 7., 7., 7., 6., 7., 6., 7., 6., 6., 7.,\n",
       "         7., 6., 7., 7., 7., 7., 7., 6., 7., 7., 7., 7., 6., 7., 7., 6., 6.,\n",
       "         7., 6., 6., 6., 7., 7., 7., 6., 7., 6., 7., 6., 7., 6., 7., 7., 6.,\n",
       "         7., 6., 7., 6., 7., 6., 7., 7., 6., 7., 7., 6., 7., 6., 6., 6., 7.,\n",
       "         7., 6., 7., 7., 6., 6., 7., 7., 6., 6., 6., 6., 6., 6., 6., 7., 6.,\n",
       "         6., 7., 6., 7., 6., 7., 6., 6., 6., 7., 7., 6., 7., 6., 7., 6., 6.,\n",
       "         6., 6., 6., 7., 6., 7., 7., 7., 6., 7., 7., 6., 6., 6.])},\n",
       " {'name': '6_8',\n",
       "  'train_acc': 0.9971111111111111,\n",
       "  'val_acc': 0.99,\n",
       "  'test_acc': 0.986,\n",
       "  'train_time': 7.283390998840332,\n",
       "  'train_pred': array([6., 8., 6., ..., 8., 8., 8.]),\n",
       "  'val_pred': array([6., 8., 6., 8., 8., 8., 8., 8., 8., 6., 6., 6., 8., 6., 6., 6., 6.,\n",
       "         8., 8., 8., 8., 8., 8., 8., 6., 6., 8., 6., 6., 8., 8., 6., 6., 6.,\n",
       "         8., 6., 6., 8., 6., 8., 8., 6., 8., 8., 6., 6., 8., 6., 6., 6., 6.,\n",
       "         8., 8., 6., 8., 8., 6., 6., 6., 8., 8., 6., 8., 6., 8., 6., 8., 6.,\n",
       "         6., 8., 8., 6., 6., 8., 6., 8., 6., 8., 8., 8., 8., 8., 6., 8., 8.,\n",
       "         8., 8., 6., 8., 6., 6., 8., 8., 6., 8., 6., 6., 6., 6., 8., 8., 8.,\n",
       "         6., 6., 6., 8., 8., 8., 8., 8., 6., 8., 6., 8., 6., 8., 6., 8., 8.,\n",
       "         8., 8., 8., 8., 8., 8., 6., 6., 6., 6., 8., 6., 6., 8., 6., 6., 6.,\n",
       "         6., 8., 8., 8., 6., 8., 8., 6., 6., 6., 8., 6., 8., 8., 6., 6., 8.,\n",
       "         8., 6., 6., 8., 6., 8., 6., 8., 6., 8., 8., 8., 8., 8., 6., 6., 6.,\n",
       "         6., 8., 6., 6., 6., 8., 8., 6., 6., 8., 6., 6., 8., 6., 6., 8., 6.,\n",
       "         8., 6., 8., 8., 6., 8., 8., 6., 8., 8., 6., 8., 6., 8., 6., 8., 6.,\n",
       "         6., 6., 6., 6., 6., 6., 6., 8., 8., 8., 6., 6., 8., 6., 6., 6., 8.,\n",
       "         6., 8., 8., 8., 8., 6., 6., 8., 8., 6., 6., 6., 6., 8., 8., 8., 6.,\n",
       "         8., 8., 8., 8., 8., 8., 8., 8., 6., 8., 8., 8., 6., 8., 8., 6., 6.,\n",
       "         8., 8., 8., 6., 8., 6., 6., 6., 6., 6., 6., 8., 8., 6., 8., 8., 6.,\n",
       "         8., 8., 6., 6., 6., 8., 6., 6., 6., 8., 6., 8., 6., 8., 6., 6., 6.,\n",
       "         8., 6., 8., 8., 6., 6., 8., 6., 6., 8., 8., 8., 6., 6., 6., 8., 6.,\n",
       "         8., 6., 6., 8., 8., 8., 8., 8., 6., 6., 8., 8., 8., 6., 8., 8., 6.,\n",
       "         8., 8., 6., 8., 8., 8., 8., 6., 6., 6., 6., 8., 8., 6., 8., 6., 6.,\n",
       "         6., 8., 8., 8., 8., 6., 6., 8., 6., 6., 6., 6., 8., 6., 8., 6., 8.,\n",
       "         6., 6., 8., 6., 8., 6., 6., 8., 8., 6., 8., 6., 6., 6., 8., 6., 8.,\n",
       "         6., 8., 8., 8., 8., 6., 6., 8., 8., 6., 6., 6., 8., 8., 6., 8., 8.,\n",
       "         6., 8., 6., 6., 8., 6., 8., 6., 8., 6., 8., 8., 6., 8., 6., 6., 8.,\n",
       "         6., 6., 6., 6., 6., 8., 6., 6., 6., 8., 8., 6., 8., 8., 8., 6., 8.,\n",
       "         6., 8., 6., 8., 6., 8., 8., 6., 6., 8., 6., 8., 6., 6., 8., 6., 8.,\n",
       "         8., 6., 8., 6., 6., 8., 6., 6., 6., 8., 6., 8., 6., 8., 8., 6., 6.,\n",
       "         6., 6., 8., 8., 6., 8., 6., 6., 6., 6., 8., 6., 6., 6., 6., 8., 8.,\n",
       "         6., 8., 8., 6., 8., 6., 8., 8., 8., 6., 6., 6., 6., 6., 8., 8., 6.,\n",
       "         8., 6., 8., 6., 6., 6., 8.]),\n",
       "  'test_pred': array([8., 6., 6., 8., 8., 6., 8., 8., 6., 8., 8., 6., 6., 8., 6., 6., 6.,\n",
       "         8., 8., 8., 6., 6., 6., 8., 6., 6., 8., 8., 8., 8., 8., 6., 8., 6.,\n",
       "         8., 6., 8., 8., 6., 6., 8., 6., 6., 8., 8., 8., 6., 6., 6., 6., 6.,\n",
       "         6., 6., 8., 8., 8., 6., 8., 8., 8., 6., 6., 8., 8., 8., 8., 6., 6.,\n",
       "         6., 6., 8., 6., 8., 6., 8., 8., 8., 8., 6., 6., 6., 8., 6., 6., 8.,\n",
       "         8., 8., 8., 6., 6., 6., 8., 8., 6., 6., 8., 6., 8., 8., 6., 8., 6.,\n",
       "         6., 8., 6., 6., 6., 8., 6., 8., 8., 8., 8., 6., 6., 6., 6., 6., 8.,\n",
       "         6., 6., 6., 8., 6., 8., 6., 6., 8., 8., 8., 8., 6., 6., 6., 6., 6.,\n",
       "         8., 6., 6., 6., 8., 6., 8., 6., 6., 6., 6., 6., 6., 8., 8., 6., 8.,\n",
       "         8., 6., 6., 8., 8., 6., 6., 8., 8., 8., 8., 8., 6., 6., 8., 6., 8.,\n",
       "         6., 6., 6., 6., 6., 8., 8., 8., 8., 6., 8., 6., 8., 8., 8., 8., 8.,\n",
       "         8., 6., 6., 6., 6., 8., 6., 8., 8., 6., 8., 8., 8., 8., 8., 6., 8.,\n",
       "         6., 6., 8., 6., 8., 8., 6., 8., 6., 6., 6., 6., 6., 8., 6., 6., 6.,\n",
       "         6., 8., 6., 6., 8., 6., 8., 6., 8., 6., 8., 6., 8., 6., 6., 8., 8.,\n",
       "         8., 8., 6., 8., 8., 8., 6., 8., 8., 6., 8., 6., 6., 8., 6., 8., 6.,\n",
       "         6., 6., 8., 8., 8., 6., 8., 8., 6., 8., 8., 6., 8., 8., 6., 8., 8.,\n",
       "         8., 8., 8., 8., 8., 8., 8., 6., 8., 6., 6., 6., 6., 6., 8., 6., 8.,\n",
       "         8., 6., 8., 8., 8., 6., 6., 6., 8., 6., 6., 6., 6., 8., 6., 6., 6.,\n",
       "         8., 8., 8., 6., 8., 8., 8., 6., 6., 6., 8., 6., 6., 8., 6., 6., 6.,\n",
       "         8., 8., 8., 6., 6., 6., 8., 6., 6., 8., 8., 8., 6., 6., 6., 8., 6.,\n",
       "         6., 8., 6., 8., 6., 6., 6., 6., 8., 8., 8., 8., 6., 8., 8., 8., 8.,\n",
       "         8., 6., 8., 8., 6., 8., 6., 6., 8., 6., 6., 6., 6., 8., 6., 6., 8.,\n",
       "         8., 8., 8., 8., 6., 8., 8., 8., 6., 6., 8., 8., 6., 8., 8., 8., 6.,\n",
       "         6., 6., 8., 6., 8., 8., 8., 6., 6., 6., 6., 8., 6., 8., 8., 6., 6.,\n",
       "         6., 6., 8., 6., 8., 8., 8., 8., 6., 6., 6., 8., 8., 6., 8., 8., 6.,\n",
       "         6., 6., 8., 8., 6., 8., 6., 6., 8., 6., 8., 6., 8., 8., 8., 8., 6.,\n",
       "         8., 8., 6., 8., 6., 8., 6., 8., 6., 8., 8., 6., 6., 6., 8., 8., 8.,\n",
       "         6., 6., 8., 8., 6., 8., 6., 8., 8., 6., 8., 6., 8., 8., 6., 6., 6.,\n",
       "         8., 8., 6., 6., 6., 8., 6., 6., 6., 6., 6., 6., 8., 8., 8., 6., 8.,\n",
       "         6., 8., 6., 8., 8., 6., 8., 6., 6., 6., 8., 6., 6., 8., 6., 6., 6.,\n",
       "         6., 8., 6., 6., 6., 8., 8., 8., 8., 6., 8., 6., 8., 6., 6., 8., 6.,\n",
       "         8., 6., 8., 6., 6., 6., 8., 8., 6., 8., 6., 6., 8., 8., 6., 8., 8.,\n",
       "         8., 6., 6., 8., 8., 6., 6., 6., 6., 6., 8., 8., 8., 6., 8., 8., 8.,\n",
       "         6., 6., 8., 6., 6., 8., 8., 8., 6., 8., 6., 6., 8., 8., 6., 8., 6.,\n",
       "         8., 6., 6., 6., 8., 6., 8., 6., 6., 8., 8., 6., 6., 6., 8., 8., 6.,\n",
       "         6., 6., 6., 8., 8., 6., 8., 6., 6., 6., 8., 6., 8., 8., 6., 8., 8.,\n",
       "         8., 8., 8., 6., 8., 8., 8., 6., 6., 8., 8., 8., 8., 8., 6., 6., 6.,\n",
       "         6., 8., 6., 8., 6., 8., 6., 6., 6., 6., 6., 6., 8., 8., 6., 8., 8.,\n",
       "         8., 8., 8., 6., 6., 8., 8., 8., 6., 8., 6., 8., 8., 8., 6., 8., 8.,\n",
       "         6., 6., 6., 6., 6., 6., 8., 6., 6., 8., 8., 8., 6., 8., 6., 6., 6.,\n",
       "         8., 8., 8., 8., 6., 8., 6., 6., 8., 6., 6., 6., 8., 8., 6., 8., 6.,\n",
       "         8., 8., 8., 8., 6., 6., 6., 6., 8., 6., 8., 8., 8., 6., 8., 8., 6.,\n",
       "         6., 8., 8., 8., 8., 8., 8., 6., 6., 6., 6., 8., 6., 8., 6., 8., 8.,\n",
       "         8., 6., 8., 8., 6., 8., 8., 8., 6., 6., 8., 6., 8., 8., 8., 6., 6.,\n",
       "         8., 6., 6., 6., 8., 8., 6., 6., 6., 8., 8., 6., 8., 6., 8., 6., 8.,\n",
       "         8., 6., 6., 6., 6., 6., 8., 8., 8., 6., 6., 6., 6., 8., 8., 6., 6.,\n",
       "         8., 8., 8., 8., 8., 8., 6., 8., 6., 8., 8., 8., 8., 8., 8., 8., 6.,\n",
       "         6., 8., 6., 8., 6., 6., 8., 8., 6., 8., 6., 8., 8., 6., 6., 8., 8.,\n",
       "         8., 6., 8., 8., 8., 8., 6., 6., 6., 8., 6., 6., 8., 6., 8., 6., 6.,\n",
       "         8., 8., 8., 6., 6., 6., 6., 6., 8., 8., 8., 6., 8., 6., 8., 6., 8.,\n",
       "         8., 6., 6., 6., 8., 6., 6., 6., 8., 6., 8., 8., 6., 8., 6., 6., 6.,\n",
       "         8., 6., 6., 8., 6., 6., 6., 6., 6., 6., 8., 8., 6., 6., 6., 6., 6.,\n",
       "         8., 6., 6., 6., 8., 6., 8., 8., 6., 8., 8., 8., 8., 6., 8., 8., 8.,\n",
       "         6., 6., 6., 6., 6., 6., 8., 8., 8., 6., 6., 6., 8., 8., 6., 8., 8.,\n",
       "         8., 8., 8., 6., 8., 8., 8., 6., 8., 8., 6., 6., 8., 6., 8., 6., 8.,\n",
       "         8., 8., 6., 6., 6., 8., 8., 8., 6., 8., 6., 6., 6., 8., 6., 6., 6.,\n",
       "         6., 8., 8., 6., 8., 6., 6., 8., 6., 8., 8., 6., 8., 6., 6., 6., 8.,\n",
       "         8., 8., 6., 6., 8., 8., 6., 8., 6., 8., 6., 8., 8., 8., 8., 6., 6.,\n",
       "         8., 8., 8., 8., 6., 8., 6., 8., 8., 8., 6., 8., 6., 6.])},\n",
       " {'name': '6_9',\n",
       "  'train_acc': 1.0,\n",
       "  'val_acc': 0.998,\n",
       "  'test_acc': 0.999,\n",
       "  'train_time': 4.1297736167907715,\n",
       "  'train_pred': array([6., 9., 6., ..., 9., 6., 9.]),\n",
       "  'val_pred': array([9., 6., 9., 6., 9., 9., 9., 6., 9., 9., 9., 6., 6., 6., 9., 9., 6.,\n",
       "         9., 6., 9., 9., 9., 9., 9., 9., 9., 6., 6., 9., 9., 6., 6., 6., 6.,\n",
       "         6., 9., 6., 9., 9., 9., 9., 6., 9., 6., 9., 9., 6., 6., 9., 6., 9.,\n",
       "         6., 6., 9., 6., 6., 9., 6., 9., 9., 6., 9., 6., 6., 6., 6., 9., 6.,\n",
       "         9., 9., 9., 9., 6., 6., 9., 9., 6., 6., 6., 6., 9., 9., 6., 9., 6.,\n",
       "         9., 6., 9., 6., 9., 6., 6., 9., 9., 6., 9., 9., 6., 9., 6., 9., 6.,\n",
       "         9., 9., 6., 6., 6., 6., 9., 9., 6., 6., 9., 6., 9., 9., 6., 9., 9.,\n",
       "         9., 9., 6., 9., 9., 6., 6., 6., 9., 9., 6., 9., 6., 9., 9., 9., 9.,\n",
       "         9., 6., 6., 6., 6., 9., 9., 9., 9., 9., 6., 9., 9., 6., 6., 9., 6.,\n",
       "         6., 6., 9., 6., 6., 9., 6., 9., 9., 9., 6., 6., 9., 9., 9., 9., 9.,\n",
       "         6., 9., 6., 6., 6., 9., 9., 9., 9., 6., 6., 6., 6., 6., 9., 9., 6.,\n",
       "         6., 9., 9., 6., 6., 6., 9., 9., 9., 6., 9., 6., 6., 6., 6., 6., 9.,\n",
       "         6., 6., 6., 6., 6., 9., 9., 6., 6., 9., 9., 9., 6., 6., 9., 6., 6.,\n",
       "         9., 6., 9., 9., 9., 6., 6., 6., 9., 6., 9., 6., 9., 6., 6., 9., 9.,\n",
       "         6., 9., 9., 6., 9., 9., 6., 9., 9., 6., 6., 9., 6., 9., 6., 6., 9.,\n",
       "         9., 6., 6., 9., 6., 6., 9., 6., 9., 6., 6., 9., 9., 6., 9., 9., 6.,\n",
       "         6., 6., 9., 6., 9., 9., 6., 6., 9., 6., 6., 6., 6., 9., 6., 6., 6.,\n",
       "         6., 9., 9., 9., 9., 6., 6., 6., 6., 6., 9., 6., 9., 6., 9., 9., 9.,\n",
       "         6., 9., 6., 6., 6., 9., 9., 9., 9., 9., 9., 9., 9., 6., 6., 6., 6.,\n",
       "         9., 6., 6., 6., 6., 9., 9., 9., 9., 6., 9., 6., 9., 9., 6., 9., 6.,\n",
       "         9., 6., 6., 9., 6., 9., 9., 9., 6., 9., 6., 6., 9., 6., 9., 6., 6.,\n",
       "         9., 9., 6., 9., 6., 6., 9., 6., 6., 9., 9., 6., 6., 9., 6., 9., 9.,\n",
       "         9., 9., 6., 6., 6., 6., 9., 9., 9., 6., 9., 6., 9., 6., 6., 6., 6.,\n",
       "         9., 9., 9., 9., 6., 9., 6., 9., 6., 6., 6., 6., 6., 6., 9., 6., 6.,\n",
       "         6., 9., 9., 9., 6., 9., 9., 9., 9., 6., 9., 6., 9., 6., 6., 9., 9.,\n",
       "         6., 6., 6., 9., 9., 6., 9., 9., 9., 6., 6., 9., 9., 9., 6., 9., 9.,\n",
       "         9., 6., 9., 6., 6., 6., 6., 9., 9., 9., 9., 6., 6., 6., 9., 6., 6.,\n",
       "         6., 9., 6., 6., 6., 6., 6., 9., 9., 9., 6., 6., 6., 6., 9., 9., 9.,\n",
       "         6., 9., 6., 9., 9., 9., 6., 9., 6., 6., 9., 9., 6., 6., 9., 6., 9.,\n",
       "         6., 9., 6., 9., 6., 6., 9.]),\n",
       "  'test_pred': array([9., 9., 9., 6., 6., 6., 6., 9., 9., 6., 6., 6., 6., 6., 9., 9., 9.,\n",
       "         6., 9., 6., 9., 9., 9., 6., 9., 9., 9., 9., 9., 9., 9., 6., 9., 9.,\n",
       "         6., 9., 9., 9., 9., 9., 9., 9., 9., 6., 6., 6., 9., 9., 9., 9., 6.,\n",
       "         6., 6., 9., 9., 9., 9., 9., 9., 6., 9., 9., 6., 9., 9., 9., 6., 6.,\n",
       "         6., 6., 6., 6., 6., 6., 6., 6., 6., 6., 6., 6., 6., 9., 9., 9., 9.,\n",
       "         6., 6., 9., 6., 6., 6., 9., 9., 9., 9., 6., 6., 6., 9., 9., 6., 6.,\n",
       "         9., 6., 9., 9., 6., 9., 6., 6., 9., 9., 6., 9., 9., 9., 6., 6., 6.,\n",
       "         9., 6., 6., 6., 9., 9., 6., 6., 9., 9., 9., 6., 6., 9., 9., 6., 9.,\n",
       "         6., 9., 9., 6., 9., 9., 6., 9., 9., 9., 9., 6., 9., 6., 9., 9., 6.,\n",
       "         9., 6., 6., 6., 6., 6., 6., 6., 6., 6., 6., 6., 6., 9., 6., 6., 9.,\n",
       "         9., 6., 6., 9., 6., 6., 9., 6., 6., 9., 9., 6., 9., 9., 6., 6., 6.,\n",
       "         6., 6., 9., 9., 9., 6., 6., 9., 9., 6., 6., 6., 9., 6., 9., 6., 9.,\n",
       "         9., 9., 6., 9., 9., 9., 9., 6., 9., 6., 9., 9., 6., 6., 6., 9., 9.,\n",
       "         6., 6., 9., 6., 9., 9., 9., 6., 6., 6., 6., 6., 9., 9., 9., 6., 6.,\n",
       "         6., 9., 6., 9., 6., 6., 6., 9., 6., 9., 9., 9., 9., 6., 9., 6., 9.,\n",
       "         9., 6., 9., 6., 9., 6., 6., 9., 6., 9., 6., 6., 9., 9., 9., 6., 6.,\n",
       "         9., 6., 9., 6., 9., 9., 9., 9., 9., 6., 6., 9., 9., 6., 6., 6., 6.,\n",
       "         6., 9., 9., 9., 6., 6., 6., 9., 6., 6., 9., 6., 6., 9., 9., 6., 6.,\n",
       "         9., 6., 6., 9., 9., 9., 6., 6., 6., 6., 6., 9., 9., 6., 6., 9., 6.,\n",
       "         6., 6., 9., 9., 6., 6., 6., 6., 9., 6., 6., 6., 9., 6., 6., 6., 6.,\n",
       "         9., 9., 6., 9., 9., 9., 6., 6., 9., 6., 9., 6., 9., 6., 6., 6., 9.,\n",
       "         6., 9., 9., 6., 6., 6., 6., 6., 9., 6., 6., 9., 9., 9., 9., 6., 9.,\n",
       "         9., 6., 6., 9., 9., 9., 9., 9., 9., 9., 9., 9., 9., 9., 9., 9., 9.,\n",
       "         6., 9., 6., 6., 9., 9., 6., 9., 9., 9., 6., 9., 9., 6., 6., 6., 6.,\n",
       "         9., 6., 9., 6., 9., 6., 9., 9., 9., 6., 6., 9., 9., 6., 6., 9., 9.,\n",
       "         6., 9., 6., 9., 9., 9., 9., 9., 9., 9., 9., 9., 9., 9., 9., 9., 9.,\n",
       "         9., 6., 6., 6., 9., 9., 6., 9., 6., 6., 6., 6., 9., 9., 6., 6., 9.,\n",
       "         6., 6., 9., 6., 6., 6., 6., 9., 9., 9., 9., 9., 9., 9., 6., 9., 6.,\n",
       "         9., 6., 9., 9., 6., 9., 9., 9., 9., 6., 6., 6., 6., 9., 6., 9., 9.,\n",
       "         6., 6., 6., 6., 9., 9., 9., 6., 6., 6., 6., 6., 9., 6., 6., 9., 6.,\n",
       "         9., 6., 6., 9., 6., 6., 6., 6., 9., 9., 6., 6., 6., 6., 9., 6., 9.,\n",
       "         6., 6., 6., 9., 6., 6., 9., 6., 6., 9., 9., 9., 6., 9., 9., 9., 6.,\n",
       "         9., 6., 9., 6., 6., 9., 6., 9., 6., 6., 9., 6., 6., 9., 6., 9., 9.,\n",
       "         6., 6., 6., 6., 6., 9., 6., 9., 9., 6., 9., 9., 9., 6., 9., 9., 6.,\n",
       "         6., 9., 9., 9., 9., 6., 9., 6., 6., 6., 9., 9., 6., 6., 6., 9., 6.,\n",
       "         6., 6., 9., 9., 6., 9., 9., 9., 6., 6., 6., 9., 9., 6., 6., 9., 9.,\n",
       "         6., 9., 6., 6., 6., 9., 6., 6., 9., 9., 6., 6., 9., 9., 6., 9., 9.,\n",
       "         6., 6., 9., 9., 6., 6., 6., 9., 9., 6., 6., 9., 6., 6., 6., 6., 6.,\n",
       "         6., 6., 9., 9., 9., 9., 6., 6., 9., 6., 9., 9., 9., 6., 9., 9., 9.,\n",
       "         9., 6., 6., 6., 6., 9., 9., 6., 6., 6., 9., 6., 6., 9., 9., 6., 6.,\n",
       "         6., 9., 6., 9., 9., 9., 9., 9., 6., 6., 6., 9., 9., 9., 9., 6., 6.,\n",
       "         9., 6., 9., 9., 9., 6., 6., 9., 9., 9., 9., 6., 6., 9., 6., 9., 9.,\n",
       "         6., 6., 9., 9., 9., 6., 9., 6., 6., 6., 9., 9., 6., 9., 9., 9., 9.,\n",
       "         6., 9., 9., 6., 9., 9., 9., 6., 6., 6., 9., 6., 6., 9., 9., 6., 6.,\n",
       "         6., 9., 9., 6., 6., 6., 6., 6., 6., 6., 6., 6., 9., 6., 9., 6., 6.,\n",
       "         9., 6., 6., 9., 9., 6., 6., 6., 6., 9., 9., 6., 6., 6., 6., 6., 6.,\n",
       "         9., 9., 6., 9., 9., 6., 6., 6., 6., 6., 9., 9., 6., 6., 9., 9., 9.,\n",
       "         9., 9., 9., 9., 6., 6., 9., 9., 6., 9., 9., 9., 9., 9., 9., 9., 9.,\n",
       "         9., 6., 6., 9., 9., 6., 9., 6., 6., 6., 6., 6., 9., 9., 9., 6., 9.,\n",
       "         6., 6., 9., 9., 6., 6., 9., 6., 9., 6., 9., 6., 6., 6., 6., 9., 6.,\n",
       "         6., 6., 9., 9., 9., 6., 9., 9., 9., 9., 6., 6., 6., 9., 6., 6., 9.,\n",
       "         9., 9., 6., 6., 6., 9., 9., 9., 6., 9., 6., 9., 6., 9., 9., 6., 6.,\n",
       "         6., 9., 6., 6., 6., 6., 9., 9., 6., 6., 9., 9., 9., 9., 6., 9., 9.,\n",
       "         9., 9., 6., 9., 9., 9., 6., 9., 9., 9., 6., 6., 6., 9., 9., 6., 9.,\n",
       "         9., 6., 6., 9., 6., 9., 9., 6., 9., 6., 9., 9., 9., 9., 6., 9., 6.,\n",
       "         6., 9., 6., 9., 9., 9., 6., 9., 9., 9., 6., 9., 6., 9., 6., 9., 6.,\n",
       "         6., 9., 9., 6., 9., 6., 9., 9., 6., 9., 6., 6., 6., 6., 6., 9., 9.,\n",
       "         6., 6., 6., 6., 6., 9., 6., 6., 6., 9., 9., 6., 9., 9., 9., 6., 9.,\n",
       "         6., 6., 6., 6., 6., 9., 9., 9., 6., 6., 6., 9., 6., 6.])},\n",
       " {'name': '7_8',\n",
       "  'train_acc': 1.0,\n",
       "  'val_acc': 0.986,\n",
       "  'test_acc': 0.995,\n",
       "  'train_time': 4.661247968673706,\n",
       "  'train_pred': array([7., 7., 8., ..., 8., 8., 7.]),\n",
       "  'val_pred': array([7., 8., 7., 8., 8., 7., 8., 8., 7., 8., 8., 7., 7., 7., 8., 7., 7.,\n",
       "         8., 7., 7., 7., 7., 8., 8., 8., 7., 8., 7., 8., 7., 8., 7., 8., 7.,\n",
       "         8., 8., 8., 7., 8., 7., 7., 8., 7., 8., 7., 7., 8., 7., 8., 7., 8.,\n",
       "         7., 7., 7., 8., 8., 7., 8., 8., 7., 8., 7., 8., 7., 8., 7., 8., 8.,\n",
       "         8., 8., 8., 7., 8., 7., 7., 8., 7., 7., 7., 7., 7., 7., 8., 8., 8.,\n",
       "         8., 8., 8., 8., 8., 8., 7., 7., 7., 8., 7., 7., 8., 7., 8., 8., 7.,\n",
       "         7., 8., 7., 8., 8., 7., 7., 8., 7., 7., 8., 8., 8., 8., 8., 8., 8.,\n",
       "         7., 7., 8., 8., 8., 8., 8., 7., 7., 7., 7., 7., 8., 8., 8., 7., 7.,\n",
       "         7., 7., 8., 8., 7., 7., 7., 7., 7., 8., 8., 7., 7., 7., 8., 8., 8.,\n",
       "         7., 8., 7., 8., 8., 8., 7., 7., 7., 8., 8., 7., 7., 7., 8., 7., 7.,\n",
       "         8., 7., 8., 8., 7., 8., 7., 8., 8., 8., 7., 8., 8., 7., 7., 7., 8.,\n",
       "         8., 8., 7., 7., 7., 7., 7., 8., 7., 8., 7., 7., 8., 8., 7., 8., 7.,\n",
       "         8., 7., 7., 7., 8., 7., 8., 7., 8., 7., 8., 8., 7., 7., 8., 7., 8.,\n",
       "         7., 8., 7., 7., 7., 7., 7., 7., 8., 8., 8., 8., 7., 7., 7., 7., 8.,\n",
       "         8., 8., 8., 8., 7., 8., 8., 7., 8., 7., 8., 8., 7., 8., 8., 8., 8.,\n",
       "         7., 8., 8., 8., 8., 7., 7., 8., 7., 8., 7., 8., 7., 8., 8., 8., 8.,\n",
       "         8., 8., 8., 8., 7., 7., 7., 7., 8., 7., 7., 8., 8., 7., 8., 7., 7.,\n",
       "         7., 8., 8., 8., 8., 7., 8., 7., 8., 7., 8., 8., 7., 8., 8., 8., 8.,\n",
       "         7., 8., 7., 8., 7., 8., 7., 8., 8., 8., 8., 7., 7., 8., 8., 7., 7.,\n",
       "         7., 8., 8., 8., 8., 7., 8., 8., 8., 8., 8., 8., 8., 8., 8., 8., 7.,\n",
       "         8., 7., 7., 8., 7., 7., 7., 8., 7., 8., 8., 7., 7., 8., 7., 7., 8.,\n",
       "         7., 7., 7., 7., 7., 8., 8., 8., 7., 7., 7., 7., 8., 8., 7., 8., 7.,\n",
       "         7., 8., 8., 7., 8., 7., 8., 8., 7., 7., 7., 8., 8., 7., 8., 7., 7.,\n",
       "         8., 7., 8., 8., 8., 8., 7., 8., 7., 8., 7., 7., 7., 8., 7., 8., 7.,\n",
       "         7., 8., 8., 7., 8., 7., 8., 7., 8., 8., 7., 8., 8., 7., 7., 7., 8.,\n",
       "         8., 8., 8., 8., 7., 7., 7., 7., 8., 7., 8., 8., 7., 7., 7., 8., 7.,\n",
       "         8., 7., 7., 7., 8., 8., 7., 7., 8., 8., 7., 7., 7., 7., 7., 7., 7.,\n",
       "         8., 7., 8., 8., 7., 7., 7., 7., 8., 7., 8., 7., 7., 8., 8., 8., 7.,\n",
       "         8., 8., 7., 8., 7., 7., 8., 7., 8., 7., 7., 7., 7., 8., 7., 8., 8.,\n",
       "         7., 8., 7., 7., 7., 7., 8.]),\n",
       "  'test_pred': array([7., 7., 8., 7., 8., 8., 7., 7., 8., 8., 7., 8., 7., 8., 7., 7., 8.,\n",
       "         7., 8., 7., 8., 8., 7., 8., 7., 8., 7., 8., 8., 7., 7., 8., 7., 7.,\n",
       "         7., 8., 7., 7., 8., 7., 8., 7., 8., 7., 8., 8., 7., 8., 8., 7., 7.,\n",
       "         8., 7., 7., 7., 8., 8., 7., 8., 8., 8., 8., 8., 8., 7., 8., 7., 8.,\n",
       "         8., 8., 8., 8., 8., 8., 7., 8., 8., 7., 7., 8., 8., 7., 8., 7., 7.,\n",
       "         7., 8., 8., 8., 7., 7., 8., 7., 7., 8., 8., 8., 8., 7., 7., 7., 8.,\n",
       "         7., 8., 8., 7., 8., 7., 8., 7., 7., 8., 8., 7., 7., 7., 7., 7., 8.,\n",
       "         7., 8., 8., 8., 8., 7., 8., 7., 8., 7., 8., 8., 7., 7., 7., 7., 8.,\n",
       "         7., 7., 8., 7., 7., 8., 8., 8., 7., 7., 8., 8., 7., 8., 7., 7., 8.,\n",
       "         8., 8., 8., 7., 8., 7., 7., 8., 8., 8., 7., 8., 8., 8., 7., 8., 7.,\n",
       "         8., 7., 8., 8., 7., 7., 7., 8., 7., 7., 8., 7., 8., 7., 8., 7., 7.,\n",
       "         8., 8., 8., 8., 8., 7., 7., 7., 8., 7., 8., 7., 7., 8., 7., 7., 7.,\n",
       "         8., 7., 8., 7., 7., 8., 7., 7., 7., 7., 7., 8., 7., 7., 7., 8., 8.,\n",
       "         7., 7., 8., 8., 8., 8., 7., 8., 8., 7., 7., 8., 8., 7., 8., 8., 7.,\n",
       "         8., 8., 7., 7., 7., 8., 7., 8., 7., 7., 7., 8., 7., 8., 8., 8., 7.,\n",
       "         7., 7., 8., 8., 8., 8., 8., 7., 8., 8., 8., 8., 8., 7., 7., 7., 8.,\n",
       "         7., 8., 8., 8., 8., 7., 7., 8., 7., 7., 7., 7., 7., 7., 7., 8., 7.,\n",
       "         7., 8., 8., 8., 7., 8., 8., 7., 7., 7., 7., 7., 8., 7., 7., 7., 7.,\n",
       "         7., 7., 8., 7., 7., 7., 8., 7., 8., 8., 8., 8., 7., 7., 7., 7., 7.,\n",
       "         8., 7., 8., 7., 7., 8., 7., 7., 8., 7., 8., 7., 8., 7., 7., 8., 8.,\n",
       "         8., 7., 7., 7., 8., 8., 7., 8., 7., 7., 7., 8., 8., 8., 7., 8., 8.,\n",
       "         8., 8., 8., 7., 8., 7., 7., 8., 8., 8., 7., 7., 8., 7., 7., 8., 8.,\n",
       "         8., 8., 8., 8., 8., 7., 8., 7., 8., 8., 7., 8., 8., 7., 7., 7., 8.,\n",
       "         8., 7., 7., 7., 7., 8., 8., 7., 7., 8., 8., 7., 7., 8., 8., 7., 7.,\n",
       "         8., 7., 7., 7., 8., 8., 7., 8., 8., 7., 7., 8., 7., 8., 8., 8., 7.,\n",
       "         7., 7., 7., 8., 7., 7., 8., 8., 7., 8., 8., 7., 8., 8., 7., 8., 8.,\n",
       "         8., 7., 7., 7., 8., 7., 8., 7., 8., 8., 7., 7., 7., 8., 7., 7., 7.,\n",
       "         8., 8., 7., 8., 8., 8., 7., 7., 8., 8., 7., 8., 7., 7., 7., 8., 8.,\n",
       "         8., 7., 7., 7., 8., 8., 7., 7., 7., 8., 8., 7., 7., 8., 8., 7., 7.,\n",
       "         8., 8., 7., 7., 8., 8., 8., 8., 8., 7., 7., 8., 7., 7., 7., 7., 7.,\n",
       "         8., 8., 8., 7., 8., 8., 8., 8., 7., 7., 8., 7., 7., 7., 7., 7., 8.,\n",
       "         7., 8., 8., 8., 8., 7., 7., 8., 8., 8., 8., 8., 7., 7., 7., 8., 7.,\n",
       "         7., 7., 7., 7., 8., 7., 8., 8., 8., 8., 7., 8., 8., 7., 8., 7., 8.,\n",
       "         8., 8., 7., 8., 7., 7., 7., 8., 8., 7., 8., 8., 7., 8., 7., 8., 7.,\n",
       "         7., 7., 7., 7., 8., 7., 8., 7., 7., 8., 8., 7., 8., 8., 8., 7., 7.,\n",
       "         7., 7., 7., 8., 7., 7., 8., 7., 8., 8., 8., 8., 8., 8., 8., 8., 7.,\n",
       "         8., 8., 8., 8., 7., 7., 8., 8., 7., 8., 7., 7., 7., 7., 8., 7., 8.,\n",
       "         8., 7., 8., 7., 7., 8., 8., 8., 8., 8., 7., 7., 7., 7., 7., 8., 7.,\n",
       "         7., 8., 8., 8., 8., 7., 7., 7., 8., 7., 7., 8., 7., 8., 7., 8., 7.,\n",
       "         8., 7., 7., 8., 7., 7., 7., 8., 8., 7., 8., 7., 7., 8., 7., 7., 7.,\n",
       "         7., 8., 7., 8., 8., 8., 7., 8., 7., 7., 8., 7., 8., 8., 8., 7., 8.,\n",
       "         7., 7., 8., 8., 8., 7., 7., 8., 8., 8., 8., 7., 7., 8., 8., 8., 8.,\n",
       "         8., 7., 7., 8., 8., 7., 7., 7., 7., 7., 7., 8., 8., 8., 8., 8., 7.,\n",
       "         7., 7., 8., 8., 8., 7., 8., 8., 7., 7., 7., 8., 8., 8., 8., 7., 8.,\n",
       "         7., 8., 7., 7., 8., 8., 7., 8., 8., 7., 7., 8., 7., 7., 8., 7., 7.,\n",
       "         7., 8., 8., 8., 8., 8., 7., 7., 7., 8., 8., 8., 7., 8., 8., 8., 8.,\n",
       "         7., 7., 7., 7., 8., 8., 7., 7., 8., 8., 7., 8., 8., 8., 8., 7., 7.,\n",
       "         8., 8., 8., 7., 8., 8., 7., 7., 7., 7., 8., 7., 8., 8., 8., 7., 7.,\n",
       "         7., 8., 8., 7., 8., 7., 8., 7., 7., 7., 7., 7., 7., 7., 8., 8., 8.,\n",
       "         8., 7., 7., 7., 8., 8., 7., 7., 7., 7., 7., 7., 7., 8., 8., 8., 7.,\n",
       "         8., 8., 8., 8., 7., 8., 7., 7., 8., 7., 7., 7., 8., 8., 7., 7., 8.,\n",
       "         8., 8., 7., 7., 8., 7., 8., 7., 7., 7., 7., 7., 8., 8., 7., 7., 7.,\n",
       "         7., 8., 7., 7., 7., 8., 7., 8., 7., 8., 7., 7., 7., 7., 7., 8., 8.,\n",
       "         8., 8., 8., 7., 8., 7., 8., 7., 7., 7., 7., 7., 8., 7., 8., 7., 7.,\n",
       "         8., 7., 7., 8., 8., 7., 8., 8., 7., 8., 8., 7., 8., 8., 8., 7., 8.,\n",
       "         7., 8., 8., 7., 7., 7., 8., 7., 8., 7., 8., 8., 7., 8., 7., 7., 8.,\n",
       "         7., 8., 7., 8., 7., 7., 8., 8., 8., 8., 7., 8., 7., 8., 7., 8., 7.,\n",
       "         8., 7., 8., 8., 8., 7., 7., 8., 8., 7., 8., 8., 7., 8., 8., 8., 8.,\n",
       "         8., 8., 8., 7., 7., 7., 7., 8., 8., 7., 7., 8., 8., 8.])},\n",
       " {'name': '7_9',\n",
       "  'train_acc': 0.9882222222222222,\n",
       "  'val_acc': 0.958,\n",
       "  'test_acc': 0.966,\n",
       "  'train_time': 6.967391014099121,\n",
       "  'train_pred': array([7., 7., 9., ..., 9., 7., 7.]),\n",
       "  'val_pred': array([7., 9., 9., 9., 7., 9., 7., 9., 7., 7., 7., 7., 9., 9., 9., 7., 7.,\n",
       "         7., 9., 7., 7., 7., 9., 7., 9., 9., 7., 9., 7., 9., 9., 9., 7., 9.,\n",
       "         9., 7., 9., 9., 7., 9., 9., 9., 9., 7., 9., 7., 7., 9., 7., 9., 7.,\n",
       "         9., 7., 7., 9., 9., 7., 7., 9., 7., 9., 9., 9., 7., 9., 7., 7., 9.,\n",
       "         7., 7., 9., 7., 9., 9., 9., 9., 9., 7., 7., 7., 9., 7., 7., 7., 7.,\n",
       "         7., 9., 7., 7., 9., 9., 7., 7., 9., 9., 7., 7., 7., 9., 7., 9., 9.,\n",
       "         9., 9., 7., 9., 7., 9., 9., 7., 9., 7., 7., 7., 9., 9., 9., 9., 7.,\n",
       "         9., 7., 9., 7., 9., 7., 7., 7., 9., 9., 9., 7., 7., 7., 9., 9., 7.,\n",
       "         9., 9., 9., 9., 9., 9., 9., 7., 9., 7., 7., 7., 7., 9., 7., 7., 9.,\n",
       "         9., 7., 9., 9., 9., 9., 9., 7., 7., 7., 7., 7., 7., 7., 7., 9., 7.,\n",
       "         7., 7., 9., 7., 9., 9., 9., 7., 9., 7., 9., 9., 9., 9., 9., 9., 9.,\n",
       "         7., 7., 7., 9., 9., 9., 9., 7., 7., 7., 9., 7., 7., 9., 7., 9., 9.,\n",
       "         7., 7., 9., 9., 7., 7., 7., 9., 7., 7., 7., 7., 7., 7., 7., 7., 7.,\n",
       "         7., 7., 7., 9., 7., 7., 9., 7., 9., 7., 9., 9., 7., 7., 7., 7., 9.,\n",
       "         9., 9., 7., 9., 9., 7., 9., 7., 9., 9., 7., 7., 9., 9., 9., 7., 7.,\n",
       "         9., 7., 7., 9., 7., 7., 9., 7., 9., 9., 9., 9., 9., 9., 9., 7., 7.,\n",
       "         7., 7., 7., 9., 7., 9., 7., 9., 9., 9., 9., 7., 7., 9., 9., 9., 9.,\n",
       "         7., 7., 9., 7., 7., 9., 9., 9., 9., 9., 7., 7., 7., 9., 7., 7., 7.,\n",
       "         9., 9., 9., 9., 9., 7., 7., 7., 9., 9., 9., 9., 9., 9., 9., 9., 9.,\n",
       "         9., 9., 7., 9., 9., 9., 7., 7., 9., 9., 7., 9., 9., 7., 7., 9., 9.,\n",
       "         9., 7., 7., 7., 9., 7., 7., 9., 7., 9., 7., 7., 7., 9., 7., 7., 9.,\n",
       "         7., 9., 7., 7., 7., 9., 9., 9., 7., 7., 7., 7., 9., 7., 9., 9., 7.,\n",
       "         7., 9., 9., 9., 9., 7., 7., 7., 9., 9., 7., 9., 9., 9., 7., 9., 9.,\n",
       "         9., 7., 7., 7., 9., 9., 7., 9., 7., 7., 9., 9., 9., 7., 7., 7., 9.,\n",
       "         9., 9., 7., 9., 9., 9., 9., 7., 7., 7., 9., 9., 9., 9., 7., 7., 9.,\n",
       "         7., 7., 9., 9., 7., 9., 9., 9., 7., 7., 7., 7., 9., 9., 9., 9., 7.,\n",
       "         7., 7., 9., 9., 9., 9., 7., 7., 7., 9., 7., 7., 7., 7., 7., 7., 7.,\n",
       "         9., 7., 7., 9., 7., 7., 7., 9., 7., 9., 7., 7., 9., 9., 9., 9., 7.,\n",
       "         9., 7., 7., 7., 9., 9., 7., 9., 7., 7., 9., 9., 7., 7., 9., 9., 7.,\n",
       "         7., 7., 7., 7., 9., 9., 9.]),\n",
       "  'test_pred': array([9., 7., 7., 9., 9., 7., 7., 7., 7., 7., 9., 9., 7., 7., 7., 7., 9.,\n",
       "         9., 9., 9., 9., 9., 7., 9., 9., 9., 7., 9., 9., 9., 9., 9., 9., 9.,\n",
       "         9., 7., 7., 9., 7., 7., 9., 7., 9., 7., 9., 9., 9., 9., 7., 7., 7.,\n",
       "         9., 9., 7., 9., 7., 9., 9., 9., 7., 9., 9., 9., 9., 9., 9., 9., 9.,\n",
       "         9., 7., 9., 7., 9., 7., 7., 7., 7., 9., 9., 9., 9., 9., 7., 9., 9.,\n",
       "         7., 7., 9., 9., 7., 7., 7., 7., 9., 9., 7., 9., 7., 9., 7., 9., 7.,\n",
       "         9., 9., 9., 9., 9., 7., 9., 9., 7., 7., 7., 7., 9., 9., 7., 9., 7.,\n",
       "         9., 9., 9., 9., 9., 9., 9., 7., 7., 7., 9., 7., 7., 7., 9., 9., 9.,\n",
       "         9., 7., 9., 9., 7., 7., 9., 9., 7., 9., 9., 7., 7., 7., 7., 7., 9.,\n",
       "         7., 7., 9., 9., 7., 9., 9., 7., 7., 7., 7., 7., 9., 9., 9., 7., 9.,\n",
       "         7., 7., 7., 9., 9., 9., 7., 7., 9., 9., 7., 9., 7., 9., 7., 7., 9.,\n",
       "         7., 9., 7., 9., 9., 7., 7., 7., 7., 9., 9., 7., 9., 7., 7., 9., 7.,\n",
       "         9., 9., 7., 7., 7., 7., 7., 9., 7., 9., 9., 7., 7., 9., 9., 9., 9.,\n",
       "         7., 7., 9., 7., 7., 7., 9., 7., 9., 7., 7., 7., 7., 9., 9., 9., 9.,\n",
       "         7., 9., 9., 9., 7., 7., 7., 9., 9., 7., 9., 7., 7., 7., 7., 9., 9.,\n",
       "         7., 7., 7., 9., 9., 9., 7., 9., 7., 7., 9., 9., 9., 7., 9., 9., 7.,\n",
       "         9., 9., 9., 7., 7., 7., 9., 9., 7., 7., 7., 7., 7., 9., 9., 7., 7.,\n",
       "         7., 7., 7., 9., 9., 9., 7., 7., 9., 7., 7., 7., 7., 9., 7., 7., 7.,\n",
       "         9., 7., 9., 7., 7., 9., 7., 7., 9., 7., 9., 9., 7., 7., 7., 7., 7.,\n",
       "         7., 9., 9., 9., 7., 7., 7., 9., 9., 7., 7., 7., 7., 7., 9., 7., 7.,\n",
       "         7., 9., 7., 7., 9., 9., 9., 9., 9., 9., 7., 9., 7., 9., 7., 7., 7.,\n",
       "         9., 7., 7., 7., 9., 9., 9., 7., 7., 9., 9., 9., 9., 9., 7., 9., 7.,\n",
       "         7., 9., 9., 9., 9., 9., 7., 9., 9., 7., 9., 9., 9., 9., 7., 7., 9.,\n",
       "         9., 9., 9., 7., 7., 7., 7., 9., 9., 9., 9., 7., 7., 9., 9., 9., 7.,\n",
       "         7., 7., 7., 9., 7., 9., 7., 9., 9., 7., 9., 7., 7., 7., 7., 9., 9.,\n",
       "         7., 9., 9., 9., 9., 9., 9., 9., 9., 9., 7., 9., 7., 7., 9., 9., 7.,\n",
       "         9., 9., 9., 9., 9., 9., 7., 7., 7., 9., 9., 9., 7., 7., 9., 7., 9.,\n",
       "         7., 7., 7., 7., 9., 7., 7., 7., 9., 7., 7., 7., 9., 7., 9., 9., 9.,\n",
       "         7., 9., 9., 7., 9., 7., 7., 7., 9., 9., 7., 9., 7., 7., 9., 7., 7.,\n",
       "         7., 7., 9., 9., 9., 7., 9., 7., 7., 7., 7., 9., 9., 9., 9., 7., 7.,\n",
       "         7., 9., 7., 9., 9., 7., 9., 9., 7., 7., 7., 7., 9., 7., 9., 7., 7.,\n",
       "         9., 9., 7., 7., 9., 7., 9., 9., 7., 7., 7., 9., 9., 7., 9., 7., 9.,\n",
       "         9., 9., 9., 7., 7., 9., 7., 9., 7., 7., 7., 7., 9., 7., 7., 7., 9.,\n",
       "         7., 9., 7., 9., 9., 7., 9., 9., 9., 9., 9., 7., 9., 9., 7., 9., 9.,\n",
       "         9., 9., 7., 7., 7., 9., 9., 9., 7., 7., 7., 7., 7., 7., 9., 7., 9.,\n",
       "         7., 9., 9., 9., 9., 7., 7., 9., 9., 9., 9., 7., 7., 7., 7., 9., 7.,\n",
       "         7., 9., 9., 7., 7., 7., 9., 9., 9., 9., 7., 9., 9., 7., 7., 7., 7.,\n",
       "         7., 7., 7., 9., 9., 7., 9., 7., 7., 7., 9., 7., 7., 9., 7., 9., 7.,\n",
       "         9., 7., 7., 7., 9., 7., 9., 7., 9., 7., 9., 9., 7., 9., 7., 9., 7.,\n",
       "         7., 9., 7., 7., 9., 9., 7., 7., 7., 9., 7., 9., 7., 9., 7., 7., 7.,\n",
       "         9., 7., 7., 9., 7., 9., 7., 9., 9., 9., 7., 7., 7., 9., 9., 7., 9.,\n",
       "         9., 9., 9., 9., 9., 7., 7., 9., 7., 9., 9., 7., 7., 9., 7., 9., 9.,\n",
       "         9., 9., 9., 7., 9., 7., 7., 7., 9., 9., 7., 7., 9., 7., 7., 9., 9.,\n",
       "         7., 9., 9., 9., 9., 9., 9., 7., 9., 7., 7., 7., 7., 7., 9., 9., 7.,\n",
       "         7., 9., 9., 7., 7., 7., 7., 9., 7., 9., 7., 7., 9., 7., 7., 7., 9.,\n",
       "         9., 7., 9., 9., 9., 7., 7., 7., 7., 9., 9., 7., 7., 7., 7., 9., 7.,\n",
       "         7., 9., 9., 7., 7., 9., 9., 7., 9., 9., 7., 9., 7., 9., 9., 9., 9.,\n",
       "         7., 7., 7., 9., 9., 9., 7., 9., 7., 9., 7., 9., 9., 7., 7., 9., 9.,\n",
       "         7., 9., 9., 7., 7., 7., 9., 9., 9., 7., 7., 7., 9., 7., 7., 9., 7.,\n",
       "         9., 7., 9., 7., 7., 9., 7., 7., 9., 7., 7., 9., 7., 9., 9., 7., 9.,\n",
       "         7., 9., 7., 9., 9., 9., 7., 7., 7., 9., 7., 9., 7., 9., 7., 7., 9.,\n",
       "         7., 7., 9., 9., 9., 7., 7., 9., 9., 9., 9., 9., 7., 9., 7., 7., 9.,\n",
       "         7., 7., 9., 7., 7., 7., 7., 7., 9., 9., 9., 7., 9., 7., 7., 9., 7.,\n",
       "         9., 7., 9., 7., 7., 7., 7., 9., 9., 9., 7., 9., 7., 7., 7., 7., 9.,\n",
       "         9., 7., 9., 7., 9., 9., 9., 9., 7., 7., 7., 7., 9., 9., 7., 9., 7.,\n",
       "         9., 7., 9., 9., 7., 9., 9., 9., 7., 7., 9., 7., 7., 7., 9., 9., 9.,\n",
       "         9., 9., 9., 7., 9., 9., 7., 9., 9., 7., 7., 7., 9., 9., 7., 9., 7.,\n",
       "         7., 9., 9., 9., 9., 9., 7., 7., 7., 9., 7., 7., 9., 9., 7., 9., 9.,\n",
       "         7., 9., 9., 7., 9., 9., 7., 9., 7., 7., 7., 7., 7., 9.])},\n",
       " {'name': '8_9',\n",
       "  'train_acc': 1.0,\n",
       "  'val_acc': 0.992,\n",
       "  'test_acc': 0.998,\n",
       "  'train_time': 5.829332113265991,\n",
       "  'train_pred': array([9., 8., 8., ..., 8., 8., 8.]),\n",
       "  'val_pred': array([9., 9., 8., 9., 8., 9., 8., 8., 8., 9., 8., 8., 9., 9., 9., 8., 9.,\n",
       "         8., 9., 9., 9., 8., 8., 9., 8., 8., 9., 9., 9., 8., 9., 9., 8., 8.,\n",
       "         8., 9., 9., 8., 8., 9., 8., 9., 9., 9., 9., 8., 9., 8., 9., 9., 8.,\n",
       "         8., 9., 9., 8., 9., 9., 8., 8., 9., 9., 8., 9., 8., 8., 8., 9., 8.,\n",
       "         9., 9., 8., 9., 8., 8., 9., 9., 8., 8., 8., 8., 9., 9., 8., 9., 8.,\n",
       "         8., 8., 8., 9., 8., 8., 8., 8., 8., 9., 9., 8., 8., 9., 8., 9., 9.,\n",
       "         9., 8., 9., 9., 9., 9., 8., 8., 8., 8., 8., 9., 9., 8., 8., 8., 8.,\n",
       "         9., 8., 8., 9., 9., 8., 9., 8., 8., 8., 8., 8., 9., 8., 9., 9., 8.,\n",
       "         9., 9., 9., 8., 9., 9., 9., 9., 9., 8., 9., 9., 8., 8., 9., 9., 9.,\n",
       "         8., 9., 9., 8., 9., 9., 8., 9., 8., 8., 8., 8., 8., 8., 9., 8., 9.,\n",
       "         8., 9., 9., 9., 8., 8., 9., 8., 8., 9., 8., 9., 9., 9., 8., 9., 9.,\n",
       "         9., 9., 9., 8., 8., 8., 9., 9., 8., 9., 8., 9., 8., 8., 9., 9., 9.,\n",
       "         8., 8., 9., 8., 8., 8., 8., 8., 8., 8., 8., 9., 9., 9., 8., 8., 9.,\n",
       "         9., 8., 9., 8., 9., 9., 9., 8., 9., 9., 8., 8., 8., 8., 8., 8., 9.,\n",
       "         9., 9., 8., 8., 8., 9., 9., 8., 8., 9., 8., 8., 8., 8., 8., 8., 9.,\n",
       "         9., 8., 9., 8., 8., 9., 9., 8., 8., 8., 8., 9., 8., 9., 8., 9., 9.,\n",
       "         9., 8., 9., 8., 8., 9., 8., 8., 8., 9., 8., 9., 9., 8., 9., 9., 8.,\n",
       "         9., 8., 9., 8., 8., 9., 8., 8., 8., 9., 9., 8., 8., 9., 8., 9., 8.,\n",
       "         8., 9., 8., 8., 8., 8., 8., 9., 9., 9., 9., 8., 9., 8., 8., 8., 8.,\n",
       "         8., 8., 9., 9., 8., 8., 9., 9., 9., 9., 8., 9., 9., 8., 8., 8., 9.,\n",
       "         8., 8., 8., 9., 9., 8., 8., 9., 9., 9., 9., 9., 8., 9., 9., 9., 8.,\n",
       "         8., 9., 9., 9., 8., 9., 8., 9., 9., 8., 9., 9., 8., 8., 8., 9., 9.,\n",
       "         8., 9., 8., 9., 8., 8., 8., 8., 9., 9., 8., 8., 9., 9., 9., 8., 8.,\n",
       "         9., 8., 8., 9., 9., 9., 8., 9., 8., 8., 8., 9., 9., 8., 9., 9., 9.,\n",
       "         8., 9., 9., 8., 9., 8., 9., 9., 8., 8., 9., 8., 8., 8., 9., 9., 9.,\n",
       "         9., 9., 8., 8., 9., 8., 9., 9., 8., 8., 8., 9., 8., 9., 9., 9., 9.,\n",
       "         8., 9., 9., 8., 9., 8., 8., 9., 9., 9., 9., 8., 8., 9., 9., 9., 9.,\n",
       "         8., 8., 8., 9., 8., 8., 9., 8., 9., 9., 8., 9., 8., 9., 9., 9., 8.,\n",
       "         8., 8., 9., 8., 8., 8., 9., 8., 9., 9., 8., 9., 9., 9., 8., 9., 8.,\n",
       "         8., 9., 8., 9., 9., 8., 9.]),\n",
       "  'test_pred': array([9., 9., 9., 8., 8., 8., 8., 8., 8., 9., 9., 8., 8., 8., 9., 9., 9.,\n",
       "         8., 8., 9., 9., 9., 9., 9., 8., 9., 9., 9., 9., 9., 9., 9., 9., 9.,\n",
       "         8., 8., 8., 9., 8., 9., 9., 9., 8., 9., 9., 9., 8., 8., 9., 9., 8.,\n",
       "         9., 9., 8., 8., 9., 9., 9., 9., 9., 9., 8., 8., 9., 8., 9., 9., 9.,\n",
       "         9., 8., 8., 8., 8., 8., 8., 8., 8., 8., 8., 8., 8., 8., 8., 8., 9.,\n",
       "         9., 8., 8., 8., 9., 9., 9., 8., 9., 8., 8., 9., 9., 8., 8., 9., 8.,\n",
       "         8., 9., 9., 8., 9., 9., 8., 8., 9., 8., 9., 9., 8., 9., 9., 9., 9.,\n",
       "         8., 8., 8., 8., 8., 9., 9., 9., 9., 9., 8., 9., 9., 9., 9., 8., 9.,\n",
       "         8., 8., 9., 9., 9., 9., 8., 8., 9., 8., 9., 8., 9., 9., 9., 9., 8.,\n",
       "         8., 8., 8., 9., 8., 9., 9., 8., 8., 9., 8., 8., 8., 8., 9., 8., 8.,\n",
       "         9., 9., 8., 8., 9., 9., 8., 8., 8., 8., 9., 9., 9., 8., 8., 8., 8.,\n",
       "         9., 8., 9., 8., 8., 9., 8., 9., 9., 9., 8., 9., 8., 8., 9., 9., 9.,\n",
       "         8., 8., 8., 8., 9., 8., 9., 9., 9., 8., 8., 8., 9., 9., 8., 9., 8.,\n",
       "         9., 9., 9., 8., 9., 9., 8., 9., 8., 8., 9., 9., 8., 8., 8., 9., 9.,\n",
       "         8., 8., 9., 8., 9., 9., 8., 8., 9., 8., 8., 9., 8., 8., 9., 8., 9.,\n",
       "         9., 8., 8., 9., 9., 9., 9., 8., 8., 8., 9., 8., 8., 8., 9., 8., 9.,\n",
       "         8., 8., 9., 8., 8., 8., 8., 9., 9., 9., 8., 9., 8., 8., 8., 8., 8.,\n",
       "         9., 9., 8., 9., 9., 9., 8., 8., 8., 8., 8., 9., 8., 9., 9., 9., 8.,\n",
       "         9., 9., 9., 9., 8., 8., 8., 8., 8., 9., 9., 8., 9., 8., 9., 9., 8.,\n",
       "         8., 8., 8., 9., 8., 8., 8., 9., 8., 8., 9., 8., 9., 9., 9., 9., 9.,\n",
       "         9., 8., 8., 8., 8., 8., 8., 8., 8., 8., 9., 8., 8., 8., 9., 9., 9.,\n",
       "         8., 9., 8., 8., 8., 9., 9., 8., 9., 9., 8., 9., 8., 9., 8., 8., 9.,\n",
       "         9., 9., 9., 8., 9., 8., 8., 8., 9., 9., 9., 9., 9., 9., 9., 9., 9.,\n",
       "         8., 8., 9., 9., 9., 8., 8., 9., 9., 8., 8., 9., 9., 9., 8., 8., 9.,\n",
       "         8., 9., 9., 9., 9., 9., 8., 8., 8., 8., 9., 9., 8., 9., 9., 8., 8.,\n",
       "         9., 8., 9., 9., 9., 9., 9., 9., 9., 9., 9., 9., 9., 9., 9., 9., 8.,\n",
       "         9., 8., 8., 9., 9., 9., 8., 8., 8., 8., 8., 8., 9., 8., 9., 8., 8.,\n",
       "         9., 8., 8., 9., 8., 8., 8., 9., 9., 9., 8., 9., 8., 8., 9., 9., 9.,\n",
       "         9., 9., 8., 8., 9., 9., 8., 9., 9., 9., 9., 8., 8., 8., 8., 8., 9.,\n",
       "         9., 9., 8., 8., 8., 9., 9., 9., 8., 9., 8., 8., 9., 8., 9., 8., 8.,\n",
       "         9., 8., 8., 9., 9., 8., 9., 9., 8., 8., 8., 8., 8., 9., 8., 9., 8.,\n",
       "         9., 8., 9., 9., 9., 9., 8., 9., 8., 9., 9., 8., 9., 8., 9., 8., 8.,\n",
       "         9., 8., 8., 8., 8., 9., 8., 9., 9., 8., 9., 8., 8., 8., 8., 9., 8.,\n",
       "         9., 8., 9., 9., 9., 8., 9., 9., 8., 8., 8., 9., 9., 9., 9., 8., 9.,\n",
       "         8., 8., 9., 9., 8., 8., 9., 8., 8., 9., 9., 8., 9., 8., 9., 9., 9.,\n",
       "         8., 9., 8., 9., 9., 9., 8., 8., 8., 9., 9., 8., 9., 8., 8., 8., 9.,\n",
       "         9., 8., 8., 8., 8., 8., 9., 9., 8., 8., 9., 8., 8., 9., 8., 8., 8.,\n",
       "         8., 9., 9., 8., 8., 8., 9., 8., 8., 8., 8., 8., 9., 8., 9., 9., 9.,\n",
       "         8., 8., 8., 8., 9., 8., 9., 9., 9., 9., 8., 9., 9., 8., 8., 9., 8.,\n",
       "         8., 9., 9., 8., 9., 8., 8., 9., 9., 8., 8., 9., 9., 9., 8., 9., 8.,\n",
       "         9., 8., 8., 9., 8., 9., 8., 9., 9., 9., 9., 9., 8., 8., 9., 9., 8.,\n",
       "         8., 9., 9., 9., 9., 8., 8., 8., 9., 9., 9., 8., 9., 8., 8., 9., 8.,\n",
       "         9., 9., 8., 8., 8., 8., 8., 8., 9., 9., 8., 9., 9., 9., 9., 9., 9.,\n",
       "         9., 9., 9., 8., 8., 8., 9., 8., 8., 8., 8., 8., 8., 8., 9., 9., 8.,\n",
       "         8., 8., 9., 9., 8., 8., 8., 8., 9., 8., 9., 8., 8., 9., 8., 8., 9.,\n",
       "         9., 8., 8., 8., 9., 9., 8., 8., 8., 8., 8., 8., 8., 8., 9., 8., 9.,\n",
       "         9., 8., 8., 9., 8., 8., 8., 8., 8., 8., 8., 8., 8., 9., 9., 8., 8.,\n",
       "         9., 9., 9., 9., 9., 9., 9., 8., 8., 8., 8., 9., 9., 9., 9., 9., 9.,\n",
       "         8., 9., 8., 8., 9., 9., 8., 9., 9., 9., 9., 9., 8., 8., 8., 8., 9.,\n",
       "         9., 8., 8., 9., 9., 9., 9., 8., 8., 8., 9., 8., 9., 9., 8., 8., 8.,\n",
       "         9., 8., 9., 9., 9., 8., 9., 9., 8., 8., 9., 8., 9., 8., 9., 8., 9.,\n",
       "         8., 9., 9., 9., 9., 9., 9., 9., 9., 9., 8., 8., 9., 8., 9., 9., 8.,\n",
       "         9., 9., 9., 8., 8., 9., 9., 9., 9., 8., 8., 9., 8., 8., 9., 9., 8.,\n",
       "         9., 8., 8., 9., 9., 9., 9., 9., 9., 9., 8., 8., 8., 9., 9., 9., 8.,\n",
       "         8., 9., 8., 8., 9., 9., 8., 8., 9., 9., 8., 8., 8., 9., 8., 8., 8.,\n",
       "         9., 9., 9., 9., 8., 9., 8., 9., 9., 9., 8., 8., 8., 9., 9., 8., 9.,\n",
       "         8., 9., 8., 9., 9., 9., 9., 8., 9., 9., 8., 8., 8., 8., 8., 8., 9.,\n",
       "         8., 9., 8., 9., 8., 8., 9., 9., 9., 9., 8., 8., 8., 8., 8., 8., 8.,\n",
       "         8., 8., 8., 8., 9., 8., 9., 9., 8., 8., 8., 8., 9., 8.])}]"
      ]
     },
     "execution_count": 23,
     "metadata": {},
     "output_type": "execute_result"
    }
   ],
   "source": [
    "sk_data_list"
   ]
  },
  {
   "cell_type": "code",
   "execution_count": 24,
   "metadata": {},
   "outputs": [
    {
     "data": {
      "text/plain": [
       "['sk_data_list']"
      ]
     },
     "execution_count": 24,
     "metadata": {},
     "output_type": "execute_result"
    }
   ],
   "source": [
    "joblib.dump(sk_data_list, \"sk_data_list\")"
   ]
  },
  {
   "cell_type": "code",
   "execution_count": 58,
   "metadata": {},
   "outputs": [],
   "source": [
    "test_x_f , test_y_f = readDataUnfiltered(test_path)"
   ]
  },
  {
   "cell_type": "code",
   "execution_count": 63,
   "metadata": {},
   "outputs": [],
   "source": [
    "test_count = test_x_f.shape[0]"
   ]
  },
  {
   "cell_type": "code",
   "execution_count": 65,
   "metadata": {},
   "outputs": [],
   "source": [
    "test = test_x_f"
   ]
  },
  {
   "cell_type": "code",
   "execution_count": 66,
   "metadata": {},
   "outputs": [],
   "source": [
    "test_count = test.shape[0]\n"
   ]
  },
  {
   "cell_type": "code",
   "execution_count": 67,
   "metadata": {},
   "outputs": [],
   "source": [
    "m_vote = np.zeros((test_count,10))\n"
   ]
  },
  {
   "cell_type": "code",
   "execution_count": 71,
   "metadata": {},
   "outputs": [],
   "source": [
    "m_conf = np.zeros((test_count,10))"
   ]
  },
  {
   "cell_type": "code",
   "execution_count": 72,
   "metadata": {},
   "outputs": [
    {
     "data": {
      "text/plain": [
       "(5000, 10)"
      ]
     },
     "execution_count": 72,
     "metadata": {},
     "output_type": "execute_result"
    }
   ],
   "source": [
    "m_conf.shape"
   ]
  },
  {
   "cell_type": "code",
   "execution_count": null,
   "metadata": {},
   "outputs": [],
   "source": []
  },
  {
   "cell_type": "code",
   "execution_count": null,
   "metadata": {},
   "outputs": [],
   "source": []
  },
  {
   "cell_type": "code",
   "execution_count": 11,
   "metadata": {},
   "outputs": [],
   "source": [
    "from tqdm import tqdm_notebook"
   ]
  },
  {
   "cell_type": "markdown",
   "metadata": {},
   "source": [
    "# Predict Multi"
   ]
  },
  {
   "cell_type": "code",
   "execution_count": 166,
   "metadata": {},
   "outputs": [],
   "source": [
    "def predictMulti(test):\n",
    "    test_count = test.shape[0]\n",
    "    m_vote = np.zeros((test_count,10))\n",
    "    m_conf = np.zeros((test_count,10))\n",
    "\n",
    "    for i in tqdm_notebook(range(0,9)):\n",
    "        for j in (range(i+1, 10)):\n",
    "            model_name = str(i)+\"_\"+str(j)\n",
    "            model = joblib.load(model_name)\n",
    "            for test_no, test_example in tqdm_notebook(enumerate(test), total=test_count):\n",
    "\n",
    "               \n",
    "\n",
    "                pred =  int(model.predict(test_example.reshape(1,-1))[0])\n",
    "                conf = model.decision_function(test_example.reshape(1,-1))[0]\n",
    "\n",
    "                m_vote[test_no][pred] = m_vote[test_no][pred] + 1\n",
    "                m_conf[test_no][pred] = m_conf[test_no][pred] + abs(conf)\n",
    "    \n",
    "    p = np.argmax(m_vote, axis=1) \n",
    "    for test_no in range(test_count):\n",
    "        n_vote = m_vote[test_no][p[test_no]]\n",
    "        max_conf = m_conf[test_no][p[test_no]]\n",
    "\n",
    "        for i in range(10):\n",
    "            if n_vote == m_vote[test_no][i]:\n",
    "                if(m_conf[test_no][i] > max_conf):\n",
    "                    p[test_no] = i\n",
    "\n",
    "    return p, m_vote, m_conf\n",
    "\n"
   ]
  },
  {
   "cell_type": "code",
   "execution_count": 167,
   "metadata": {},
   "outputs": [],
   "source": [
    "test_x, test_y = readDataUnfiltered(test_path)\n",
    "val_x, val_y = readDataUnfiltered(val_path)"
   ]
  },
  {
   "cell_type": "code",
   "execution_count": 168,
   "metadata": {
    "collapsed": true
   },
   "outputs": [
    {
     "data": {
      "application/vnd.jupyter.widget-view+json": {
       "model_id": "7f328e9b6d38456897845ad7f410a432",
       "version_major": 2,
       "version_minor": 0
      },
      "text/plain": [
       "HBox(children=(IntProgress(value=0, max=9), HTML(value='')))"
      ]
     },
     "metadata": {},
     "output_type": "display_data"
    },
    {
     "data": {
      "application/vnd.jupyter.widget-view+json": {
       "model_id": "98799824c88847cc942efb529503f263",
       "version_major": 2,
       "version_minor": 0
      },
      "text/plain": [
       "HBox(children=(IntProgress(value=0, max=5000), HTML(value='')))"
      ]
     },
     "metadata": {},
     "output_type": "display_data"
    },
    {
     "name": "stdout",
     "output_type": "stream",
     "text": [
      "\n"
     ]
    },
    {
     "data": {
      "application/vnd.jupyter.widget-view+json": {
       "model_id": "27804bb40cd942188e241f728065596d",
       "version_major": 2,
       "version_minor": 0
      },
      "text/plain": [
       "HBox(children=(IntProgress(value=0, max=5000), HTML(value='')))"
      ]
     },
     "metadata": {},
     "output_type": "display_data"
    },
    {
     "name": "stdout",
     "output_type": "stream",
     "text": [
      "\n"
     ]
    },
    {
     "data": {
      "application/vnd.jupyter.widget-view+json": {
       "model_id": "dbfe9b2004c642139fd126feda04888a",
       "version_major": 2,
       "version_minor": 0
      },
      "text/plain": [
       "HBox(children=(IntProgress(value=0, max=5000), HTML(value='')))"
      ]
     },
     "metadata": {},
     "output_type": "display_data"
    },
    {
     "name": "stdout",
     "output_type": "stream",
     "text": [
      "\n"
     ]
    },
    {
     "data": {
      "application/vnd.jupyter.widget-view+json": {
       "model_id": "674e0fc25898448093bb2ea448cd8d92",
       "version_major": 2,
       "version_minor": 0
      },
      "text/plain": [
       "HBox(children=(IntProgress(value=0, max=5000), HTML(value='')))"
      ]
     },
     "metadata": {},
     "output_type": "display_data"
    },
    {
     "name": "stdout",
     "output_type": "stream",
     "text": [
      "\n"
     ]
    },
    {
     "data": {
      "application/vnd.jupyter.widget-view+json": {
       "model_id": "bbad5f96f24b45158df8fc916844c550",
       "version_major": 2,
       "version_minor": 0
      },
      "text/plain": [
       "HBox(children=(IntProgress(value=0, max=5000), HTML(value='')))"
      ]
     },
     "metadata": {},
     "output_type": "display_data"
    },
    {
     "name": "stdout",
     "output_type": "stream",
     "text": [
      "\n"
     ]
    },
    {
     "data": {
      "application/vnd.jupyter.widget-view+json": {
       "model_id": "e9d20b2843274bf8b6bc5f835903269d",
       "version_major": 2,
       "version_minor": 0
      },
      "text/plain": [
       "HBox(children=(IntProgress(value=0, max=5000), HTML(value='')))"
      ]
     },
     "metadata": {},
     "output_type": "display_data"
    },
    {
     "name": "stdout",
     "output_type": "stream",
     "text": [
      "\n"
     ]
    },
    {
     "data": {
      "application/vnd.jupyter.widget-view+json": {
       "model_id": "aea2a3c50b7f4bdb83b5f8e0c1d75495",
       "version_major": 2,
       "version_minor": 0
      },
      "text/plain": [
       "HBox(children=(IntProgress(value=0, max=5000), HTML(value='')))"
      ]
     },
     "metadata": {},
     "output_type": "display_data"
    },
    {
     "name": "stdout",
     "output_type": "stream",
     "text": [
      "\n"
     ]
    },
    {
     "data": {
      "application/vnd.jupyter.widget-view+json": {
       "model_id": "e8a3e984f0b748cda5f8dca0dc017b0d",
       "version_major": 2,
       "version_minor": 0
      },
      "text/plain": [
       "HBox(children=(IntProgress(value=0, max=5000), HTML(value='')))"
      ]
     },
     "metadata": {},
     "output_type": "display_data"
    },
    {
     "name": "stdout",
     "output_type": "stream",
     "text": [
      "\n"
     ]
    },
    {
     "data": {
      "application/vnd.jupyter.widget-view+json": {
       "model_id": "ee3d17732dc7484b83bc80e152d986dd",
       "version_major": 2,
       "version_minor": 0
      },
      "text/plain": [
       "HBox(children=(IntProgress(value=0, max=5000), HTML(value='')))"
      ]
     },
     "metadata": {},
     "output_type": "display_data"
    },
    {
     "name": "stdout",
     "output_type": "stream",
     "text": [
      "\n"
     ]
    },
    {
     "data": {
      "application/vnd.jupyter.widget-view+json": {
       "model_id": "fc9c6c29b45c4a278838c675a402f5b1",
       "version_major": 2,
       "version_minor": 0
      },
      "text/plain": [
       "HBox(children=(IntProgress(value=0, max=5000), HTML(value='')))"
      ]
     },
     "metadata": {},
     "output_type": "display_data"
    },
    {
     "name": "stdout",
     "output_type": "stream",
     "text": [
      "\n"
     ]
    },
    {
     "data": {
      "application/vnd.jupyter.widget-view+json": {
       "model_id": "1ecb1205b49c48e58bc7439abe5977ba",
       "version_major": 2,
       "version_minor": 0
      },
      "text/plain": [
       "HBox(children=(IntProgress(value=0, max=5000), HTML(value='')))"
      ]
     },
     "metadata": {},
     "output_type": "display_data"
    },
    {
     "name": "stdout",
     "output_type": "stream",
     "text": [
      "\n"
     ]
    },
    {
     "data": {
      "application/vnd.jupyter.widget-view+json": {
       "model_id": "f25cc0b13afc4ba1b1e2535a30476f78",
       "version_major": 2,
       "version_minor": 0
      },
      "text/plain": [
       "HBox(children=(IntProgress(value=0, max=5000), HTML(value='')))"
      ]
     },
     "metadata": {},
     "output_type": "display_data"
    },
    {
     "name": "stdout",
     "output_type": "stream",
     "text": [
      "\n"
     ]
    },
    {
     "data": {
      "application/vnd.jupyter.widget-view+json": {
       "model_id": "e9a56b924c6f46bc9585426a15d18f1d",
       "version_major": 2,
       "version_minor": 0
      },
      "text/plain": [
       "HBox(children=(IntProgress(value=0, max=5000), HTML(value='')))"
      ]
     },
     "metadata": {},
     "output_type": "display_data"
    },
    {
     "name": "stdout",
     "output_type": "stream",
     "text": [
      "\n"
     ]
    },
    {
     "data": {
      "application/vnd.jupyter.widget-view+json": {
       "model_id": "bcc73f1725a743d9aa8b9b2075f159bb",
       "version_major": 2,
       "version_minor": 0
      },
      "text/plain": [
       "HBox(children=(IntProgress(value=0, max=5000), HTML(value='')))"
      ]
     },
     "metadata": {},
     "output_type": "display_data"
    },
    {
     "name": "stdout",
     "output_type": "stream",
     "text": [
      "\n"
     ]
    },
    {
     "data": {
      "application/vnd.jupyter.widget-view+json": {
       "model_id": "e168f56e9e9d44d18fb4290afd9c39fd",
       "version_major": 2,
       "version_minor": 0
      },
      "text/plain": [
       "HBox(children=(IntProgress(value=0, max=5000), HTML(value='')))"
      ]
     },
     "metadata": {},
     "output_type": "display_data"
    },
    {
     "name": "stdout",
     "output_type": "stream",
     "text": [
      "\n"
     ]
    },
    {
     "data": {
      "application/vnd.jupyter.widget-view+json": {
       "model_id": "fc2dbf3cc04b4662a369fe55c4cfe367",
       "version_major": 2,
       "version_minor": 0
      },
      "text/plain": [
       "HBox(children=(IntProgress(value=0, max=5000), HTML(value='')))"
      ]
     },
     "metadata": {},
     "output_type": "display_data"
    },
    {
     "name": "stdout",
     "output_type": "stream",
     "text": [
      "\n"
     ]
    },
    {
     "data": {
      "application/vnd.jupyter.widget-view+json": {
       "model_id": "7402aa54623c4fa6a05d7c01150369c5",
       "version_major": 2,
       "version_minor": 0
      },
      "text/plain": [
       "HBox(children=(IntProgress(value=0, max=5000), HTML(value='')))"
      ]
     },
     "metadata": {},
     "output_type": "display_data"
    },
    {
     "name": "stdout",
     "output_type": "stream",
     "text": [
      "\n"
     ]
    },
    {
     "data": {
      "application/vnd.jupyter.widget-view+json": {
       "model_id": "a58fd13965d34601ad5b14f8b3151bc0",
       "version_major": 2,
       "version_minor": 0
      },
      "text/plain": [
       "HBox(children=(IntProgress(value=0, max=5000), HTML(value='')))"
      ]
     },
     "metadata": {},
     "output_type": "display_data"
    },
    {
     "name": "stdout",
     "output_type": "stream",
     "text": [
      "\n"
     ]
    },
    {
     "data": {
      "application/vnd.jupyter.widget-view+json": {
       "model_id": "606b30593c8842bdbd505b898cbce2aa",
       "version_major": 2,
       "version_minor": 0
      },
      "text/plain": [
       "HBox(children=(IntProgress(value=0, max=5000), HTML(value='')))"
      ]
     },
     "metadata": {},
     "output_type": "display_data"
    },
    {
     "name": "stdout",
     "output_type": "stream",
     "text": [
      "\n"
     ]
    },
    {
     "data": {
      "application/vnd.jupyter.widget-view+json": {
       "model_id": "db7dbe8db5b244bc83175b8c8a8e9ccd",
       "version_major": 2,
       "version_minor": 0
      },
      "text/plain": [
       "HBox(children=(IntProgress(value=0, max=5000), HTML(value='')))"
      ]
     },
     "metadata": {},
     "output_type": "display_data"
    },
    {
     "name": "stdout",
     "output_type": "stream",
     "text": [
      "\n"
     ]
    },
    {
     "data": {
      "application/vnd.jupyter.widget-view+json": {
       "model_id": "e00a82668ddc460eba38fb0198ed0707",
       "version_major": 2,
       "version_minor": 0
      },
      "text/plain": [
       "HBox(children=(IntProgress(value=0, max=5000), HTML(value='')))"
      ]
     },
     "metadata": {},
     "output_type": "display_data"
    },
    {
     "name": "stdout",
     "output_type": "stream",
     "text": [
      "\n"
     ]
    },
    {
     "data": {
      "application/vnd.jupyter.widget-view+json": {
       "model_id": "0aa46f49b32b4a189d763e7398162f0a",
       "version_major": 2,
       "version_minor": 0
      },
      "text/plain": [
       "HBox(children=(IntProgress(value=0, max=5000), HTML(value='')))"
      ]
     },
     "metadata": {},
     "output_type": "display_data"
    },
    {
     "name": "stdout",
     "output_type": "stream",
     "text": [
      "\n"
     ]
    },
    {
     "data": {
      "application/vnd.jupyter.widget-view+json": {
       "model_id": "389e347edbc54db7a401374b0a5b99a5",
       "version_major": 2,
       "version_minor": 0
      },
      "text/plain": [
       "HBox(children=(IntProgress(value=0, max=5000), HTML(value='')))"
      ]
     },
     "metadata": {},
     "output_type": "display_data"
    },
    {
     "name": "stdout",
     "output_type": "stream",
     "text": [
      "\n"
     ]
    },
    {
     "data": {
      "application/vnd.jupyter.widget-view+json": {
       "model_id": "390d244f1ddf45e4bcfaaff19de3bf58",
       "version_major": 2,
       "version_minor": 0
      },
      "text/plain": [
       "HBox(children=(IntProgress(value=0, max=5000), HTML(value='')))"
      ]
     },
     "metadata": {},
     "output_type": "display_data"
    },
    {
     "name": "stdout",
     "output_type": "stream",
     "text": [
      "\n"
     ]
    },
    {
     "data": {
      "application/vnd.jupyter.widget-view+json": {
       "model_id": "62d2e9c2ff104740b503bfbef8f09f35",
       "version_major": 2,
       "version_minor": 0
      },
      "text/plain": [
       "HBox(children=(IntProgress(value=0, max=5000), HTML(value='')))"
      ]
     },
     "metadata": {},
     "output_type": "display_data"
    },
    {
     "name": "stdout",
     "output_type": "stream",
     "text": [
      "\n"
     ]
    },
    {
     "data": {
      "application/vnd.jupyter.widget-view+json": {
       "model_id": "ffb3762725a74f39adffa5a6fd4b60ab",
       "version_major": 2,
       "version_minor": 0
      },
      "text/plain": [
       "HBox(children=(IntProgress(value=0, max=5000), HTML(value='')))"
      ]
     },
     "metadata": {},
     "output_type": "display_data"
    },
    {
     "name": "stdout",
     "output_type": "stream",
     "text": [
      "\n"
     ]
    },
    {
     "data": {
      "application/vnd.jupyter.widget-view+json": {
       "model_id": "2c6fbe35e24d4ed99b8d2938e60ccc01",
       "version_major": 2,
       "version_minor": 0
      },
      "text/plain": [
       "HBox(children=(IntProgress(value=0, max=5000), HTML(value='')))"
      ]
     },
     "metadata": {},
     "output_type": "display_data"
    },
    {
     "name": "stdout",
     "output_type": "stream",
     "text": [
      "\n"
     ]
    },
    {
     "data": {
      "application/vnd.jupyter.widget-view+json": {
       "model_id": "bac6337ec1034b5eb9536a03914c5295",
       "version_major": 2,
       "version_minor": 0
      },
      "text/plain": [
       "HBox(children=(IntProgress(value=0, max=5000), HTML(value='')))"
      ]
     },
     "metadata": {},
     "output_type": "display_data"
    },
    {
     "name": "stdout",
     "output_type": "stream",
     "text": [
      "\n"
     ]
    },
    {
     "data": {
      "application/vnd.jupyter.widget-view+json": {
       "model_id": "65921a85e5e94f418e101168747d1ee4",
       "version_major": 2,
       "version_minor": 0
      },
      "text/plain": [
       "HBox(children=(IntProgress(value=0, max=5000), HTML(value='')))"
      ]
     },
     "metadata": {},
     "output_type": "display_data"
    },
    {
     "name": "stdout",
     "output_type": "stream",
     "text": [
      "\n"
     ]
    },
    {
     "data": {
      "application/vnd.jupyter.widget-view+json": {
       "model_id": "24f0679b12dd487ca130c4ee1c497c01",
       "version_major": 2,
       "version_minor": 0
      },
      "text/plain": [
       "HBox(children=(IntProgress(value=0, max=5000), HTML(value='')))"
      ]
     },
     "metadata": {},
     "output_type": "display_data"
    },
    {
     "name": "stdout",
     "output_type": "stream",
     "text": [
      "\n"
     ]
    },
    {
     "data": {
      "application/vnd.jupyter.widget-view+json": {
       "model_id": "ad764ea6c73e46a3a675a814e6dfa8fe",
       "version_major": 2,
       "version_minor": 0
      },
      "text/plain": [
       "HBox(children=(IntProgress(value=0, max=5000), HTML(value='')))"
      ]
     },
     "metadata": {},
     "output_type": "display_data"
    },
    {
     "name": "stdout",
     "output_type": "stream",
     "text": [
      "\n"
     ]
    },
    {
     "data": {
      "application/vnd.jupyter.widget-view+json": {
       "model_id": "324bbb9079d547509ad5badfe7f04c78",
       "version_major": 2,
       "version_minor": 0
      },
      "text/plain": [
       "HBox(children=(IntProgress(value=0, max=5000), HTML(value='')))"
      ]
     },
     "metadata": {},
     "output_type": "display_data"
    },
    {
     "name": "stdout",
     "output_type": "stream",
     "text": [
      "\n"
     ]
    },
    {
     "data": {
      "application/vnd.jupyter.widget-view+json": {
       "model_id": "0c4e71ae3bc749919696d64ebe58310c",
       "version_major": 2,
       "version_minor": 0
      },
      "text/plain": [
       "HBox(children=(IntProgress(value=0, max=5000), HTML(value='')))"
      ]
     },
     "metadata": {},
     "output_type": "display_data"
    },
    {
     "name": "stdout",
     "output_type": "stream",
     "text": [
      "\n"
     ]
    },
    {
     "data": {
      "application/vnd.jupyter.widget-view+json": {
       "model_id": "24a737e2c7384ecba8bf7993851cd271",
       "version_major": 2,
       "version_minor": 0
      },
      "text/plain": [
       "HBox(children=(IntProgress(value=0, max=5000), HTML(value='')))"
      ]
     },
     "metadata": {},
     "output_type": "display_data"
    },
    {
     "name": "stdout",
     "output_type": "stream",
     "text": [
      "\n"
     ]
    },
    {
     "data": {
      "application/vnd.jupyter.widget-view+json": {
       "model_id": "8bb4083b75e14e0cb409170ecabbe421",
       "version_major": 2,
       "version_minor": 0
      },
      "text/plain": [
       "HBox(children=(IntProgress(value=0, max=5000), HTML(value='')))"
      ]
     },
     "metadata": {},
     "output_type": "display_data"
    },
    {
     "name": "stdout",
     "output_type": "stream",
     "text": [
      "\n"
     ]
    },
    {
     "data": {
      "application/vnd.jupyter.widget-view+json": {
       "model_id": "bf7f9390a7944a129bbce577b2e70811",
       "version_major": 2,
       "version_minor": 0
      },
      "text/plain": [
       "HBox(children=(IntProgress(value=0, max=5000), HTML(value='')))"
      ]
     },
     "metadata": {},
     "output_type": "display_data"
    },
    {
     "name": "stdout",
     "output_type": "stream",
     "text": [
      "\n"
     ]
    },
    {
     "data": {
      "application/vnd.jupyter.widget-view+json": {
       "model_id": "c5752e8d84b54afab969df4769ef60a8",
       "version_major": 2,
       "version_minor": 0
      },
      "text/plain": [
       "HBox(children=(IntProgress(value=0, max=5000), HTML(value='')))"
      ]
     },
     "metadata": {},
     "output_type": "display_data"
    },
    {
     "name": "stdout",
     "output_type": "stream",
     "text": [
      "\n"
     ]
    },
    {
     "data": {
      "application/vnd.jupyter.widget-view+json": {
       "model_id": "33d7fbdf3f814ff5a4088874becfdd5c",
       "version_major": 2,
       "version_minor": 0
      },
      "text/plain": [
       "HBox(children=(IntProgress(value=0, max=5000), HTML(value='')))"
      ]
     },
     "metadata": {},
     "output_type": "display_data"
    },
    {
     "name": "stdout",
     "output_type": "stream",
     "text": [
      "\n"
     ]
    },
    {
     "data": {
      "application/vnd.jupyter.widget-view+json": {
       "model_id": "ed45d768d02847daa2f9b038a0e6486a",
       "version_major": 2,
       "version_minor": 0
      },
      "text/plain": [
       "HBox(children=(IntProgress(value=0, max=5000), HTML(value='')))"
      ]
     },
     "metadata": {},
     "output_type": "display_data"
    },
    {
     "name": "stdout",
     "output_type": "stream",
     "text": [
      "\n"
     ]
    },
    {
     "data": {
      "application/vnd.jupyter.widget-view+json": {
       "model_id": "e6e84ff7caa64b05bc3a0a93af1d8b4d",
       "version_major": 2,
       "version_minor": 0
      },
      "text/plain": [
       "HBox(children=(IntProgress(value=0, max=5000), HTML(value='')))"
      ]
     },
     "metadata": {},
     "output_type": "display_data"
    },
    {
     "name": "stdout",
     "output_type": "stream",
     "text": [
      "\n"
     ]
    },
    {
     "data": {
      "application/vnd.jupyter.widget-view+json": {
       "model_id": "5d8cc641d1dc4d03b1bb95c33d0ebcf4",
       "version_major": 2,
       "version_minor": 0
      },
      "text/plain": [
       "HBox(children=(IntProgress(value=0, max=5000), HTML(value='')))"
      ]
     },
     "metadata": {},
     "output_type": "display_data"
    },
    {
     "name": "stdout",
     "output_type": "stream",
     "text": [
      "\n"
     ]
    },
    {
     "data": {
      "application/vnd.jupyter.widget-view+json": {
       "model_id": "82ebcdd811f44d1aa82ccbb700d285a6",
       "version_major": 2,
       "version_minor": 0
      },
      "text/plain": [
       "HBox(children=(IntProgress(value=0, max=5000), HTML(value='')))"
      ]
     },
     "metadata": {},
     "output_type": "display_data"
    },
    {
     "name": "stdout",
     "output_type": "stream",
     "text": [
      "\n"
     ]
    },
    {
     "data": {
      "application/vnd.jupyter.widget-view+json": {
       "model_id": "2512ea0c999a440cab2ea2007dcf6790",
       "version_major": 2,
       "version_minor": 0
      },
      "text/plain": [
       "HBox(children=(IntProgress(value=0, max=5000), HTML(value='')))"
      ]
     },
     "metadata": {},
     "output_type": "display_data"
    },
    {
     "name": "stdout",
     "output_type": "stream",
     "text": [
      "\n"
     ]
    },
    {
     "data": {
      "application/vnd.jupyter.widget-view+json": {
       "model_id": "ca3926947195410aa357dd131a313862",
       "version_major": 2,
       "version_minor": 0
      },
      "text/plain": [
       "HBox(children=(IntProgress(value=0, max=5000), HTML(value='')))"
      ]
     },
     "metadata": {},
     "output_type": "display_data"
    },
    {
     "name": "stdout",
     "output_type": "stream",
     "text": [
      "\n"
     ]
    },
    {
     "data": {
      "application/vnd.jupyter.widget-view+json": {
       "model_id": "6f96ef5bb3484f48a234917265b1ded7",
       "version_major": 2,
       "version_minor": 0
      },
      "text/plain": [
       "HBox(children=(IntProgress(value=0, max=5000), HTML(value='')))"
      ]
     },
     "metadata": {},
     "output_type": "display_data"
    },
    {
     "name": "stdout",
     "output_type": "stream",
     "text": [
      "\n",
      "\n",
      "time: 673.2258729934692\n"
     ]
    }
   ],
   "source": [
    "t = time.time()\n",
    "p_test, v,c = predictMulti(test_x)\n",
    "print(\"time:\", time.time()-t)"
   ]
  },
  {
   "cell_type": "code",
   "execution_count": 173,
   "metadata": {},
   "outputs": [],
   "source": [
    "acc_test = calculateAccuracy(test_y, p_test)"
   ]
  },
  {
   "cell_type": "code",
   "execution_count": 178,
   "metadata": {},
   "outputs": [],
   "source": [
    "f1_score_test = f1_score(test_y, p_test, average=\"weighted\")"
   ]
  },
  {
   "cell_type": "code",
   "execution_count": 180,
   "metadata": {},
   "outputs": [
    {
     "name": "stdout",
     "output_type": "stream",
     "text": [
      "Test Accuracy: 0.8808\n",
      "F1 Score: 0.8798029243833515\n"
     ]
    }
   ],
   "source": [
    "print(\"Test Accuracy:\", acc_test)\n",
    "print(\"F1 Score:\", f1_score_test)"
   ]
  },
  {
   "cell_type": "code",
   "execution_count": 202,
   "metadata": {},
   "outputs": [
    {
     "data": {
      "image/png": "[encoded data removed]",
      "text/plain": [
       "<Figure size 792x648 with 2 Axes>"
      ]
     },
     "metadata": {},
     "output_type": "display_data"
    }
   ],
   "source": [
    "plot_cm(test_y.astype(int), p_test.astype(int), title=\"Scikit-Learn Confusion Matrix: Test\")"
   ]
  },
  {
   "cell_type": "code",
   "execution_count": 203,
   "metadata": {
    "collapsed": true
   },
   "outputs": [
    {
     "data": {
      "application/vnd.jupyter.widget-view+json": {
       "model_id": "18c6665fdbd84609af161122486458e5",
       "version_major": 2,
       "version_minor": 0
      },
      "text/plain": [
       "HBox(children=(IntProgress(value=0, max=9), HTML(value='')))"
      ]
     },
     "metadata": {},
     "output_type": "display_data"
    },
    {
     "data": {
      "application/vnd.jupyter.widget-view+json": {
       "model_id": "9036cd3008704b409cc2593796b7e8df",
       "version_major": 2,
       "version_minor": 0
      },
      "text/plain": [
       "HBox(children=(IntProgress(value=0, max=2500), HTML(value='')))"
      ]
     },
     "metadata": {},
     "output_type": "display_data"
    },
    {
     "name": "stdout",
     "output_type": "stream",
     "text": [
      "\n"
     ]
    },
    {
     "data": {
      "application/vnd.jupyter.widget-view+json": {
       "model_id": "c1c21b9ae77c43559a040fdd077a0fb1",
       "version_major": 2,
       "version_minor": 0
      },
      "text/plain": [
       "HBox(children=(IntProgress(value=0, max=2500), HTML(value='')))"
      ]
     },
     "metadata": {},
     "output_type": "display_data"
    },
    {
     "name": "stdout",
     "output_type": "stream",
     "text": [
      "\n"
     ]
    },
    {
     "data": {
      "application/vnd.jupyter.widget-view+json": {
       "model_id": "ae7f97ab33a64f8782a4f3c57101c181",
       "version_major": 2,
       "version_minor": 0
      },
      "text/plain": [
       "HBox(children=(IntProgress(value=0, max=2500), HTML(value='')))"
      ]
     },
     "metadata": {},
     "output_type": "display_data"
    },
    {
     "name": "stdout",
     "output_type": "stream",
     "text": [
      "\n"
     ]
    },
    {
     "data": {
      "application/vnd.jupyter.widget-view+json": {
       "model_id": "6509923fd83944a6885455c01e958c6c",
       "version_major": 2,
       "version_minor": 0
      },
      "text/plain": [
       "HBox(children=(IntProgress(value=0, max=2500), HTML(value='')))"
      ]
     },
     "metadata": {},
     "output_type": "display_data"
    },
    {
     "name": "stdout",
     "output_type": "stream",
     "text": [
      "\n"
     ]
    },
    {
     "data": {
      "application/vnd.jupyter.widget-view+json": {
       "model_id": "9eb624f3d9ab49d9a5620cb2381d4757",
       "version_major": 2,
       "version_minor": 0
      },
      "text/plain": [
       "HBox(children=(IntProgress(value=0, max=2500), HTML(value='')))"
      ]
     },
     "metadata": {},
     "output_type": "display_data"
    },
    {
     "name": "stdout",
     "output_type": "stream",
     "text": [
      "\n"
     ]
    },
    {
     "data": {
      "application/vnd.jupyter.widget-view+json": {
       "model_id": "e1837ebd18444934b525d71580928f97",
       "version_major": 2,
       "version_minor": 0
      },
      "text/plain": [
       "HBox(children=(IntProgress(value=0, max=2500), HTML(value='')))"
      ]
     },
     "metadata": {},
     "output_type": "display_data"
    },
    {
     "name": "stdout",
     "output_type": "stream",
     "text": [
      "\n"
     ]
    },
    {
     "data": {
      "application/vnd.jupyter.widget-view+json": {
       "model_id": "04aa5871f8c94a60a3e734d56648e65f",
       "version_major": 2,
       "version_minor": 0
      },
      "text/plain": [
       "HBox(children=(IntProgress(value=0, max=2500), HTML(value='')))"
      ]
     },
     "metadata": {},
     "output_type": "display_data"
    },
    {
     "name": "stdout",
     "output_type": "stream",
     "text": [
      "\n"
     ]
    },
    {
     "data": {
      "application/vnd.jupyter.widget-view+json": {
       "model_id": "89caa47697fc4c749c93d3b5fa526497",
       "version_major": 2,
       "version_minor": 0
      },
      "text/plain": [
       "HBox(children=(IntProgress(value=0, max=2500), HTML(value='')))"
      ]
     },
     "metadata": {},
     "output_type": "display_data"
    },
    {
     "name": "stdout",
     "output_type": "stream",
     "text": [
      "\n"
     ]
    },
    {
     "data": {
      "application/vnd.jupyter.widget-view+json": {
       "model_id": "250a407e7fa94bc6a6e971b4cb3603bd",
       "version_major": 2,
       "version_minor": 0
      },
      "text/plain": [
       "HBox(children=(IntProgress(value=0, max=2500), HTML(value='')))"
      ]
     },
     "metadata": {},
     "output_type": "display_data"
    },
    {
     "name": "stdout",
     "output_type": "stream",
     "text": [
      "\n"
     ]
    },
    {
     "data": {
      "application/vnd.jupyter.widget-view+json": {
       "model_id": "e27df54ff8d14e079b7b06d5edd771dc",
       "version_major": 2,
       "version_minor": 0
      },
      "text/plain": [
       "HBox(children=(IntProgress(value=0, max=2500), HTML(value='')))"
      ]
     },
     "metadata": {},
     "output_type": "display_data"
    },
    {
     "name": "stdout",
     "output_type": "stream",
     "text": [
      "\n"
     ]
    },
    {
     "data": {
      "application/vnd.jupyter.widget-view+json": {
       "model_id": "ee66464d5edc4ad29a7cea1a7c942694",
       "version_major": 2,
       "version_minor": 0
      },
      "text/plain": [
       "HBox(children=(IntProgress(value=0, max=2500), HTML(value='')))"
      ]
     },
     "metadata": {},
     "output_type": "display_data"
    },
    {
     "name": "stdout",
     "output_type": "stream",
     "text": [
      "\n"
     ]
    },
    {
     "data": {
      "application/vnd.jupyter.widget-view+json": {
       "model_id": "6a853d21b44c43fbb5f09274199e8047",
       "version_major": 2,
       "version_minor": 0
      },
      "text/plain": [
       "HBox(children=(IntProgress(value=0, max=2500), HTML(value='')))"
      ]
     },
     "metadata": {},
     "output_type": "display_data"
    },
    {
     "name": "stdout",
     "output_type": "stream",
     "text": [
      "\n"
     ]
    },
    {
     "data": {
      "application/vnd.jupyter.widget-view+json": {
       "model_id": "cd0491500f0e482e9c5c48ee9d8c19fd",
       "version_major": 2,
       "version_minor": 0
      },
      "text/plain": [
       "HBox(children=(IntProgress(value=0, max=2500), HTML(value='')))"
      ]
     },
     "metadata": {},
     "output_type": "display_data"
    },
    {
     "name": "stdout",
     "output_type": "stream",
     "text": [
      "\n"
     ]
    },
    {
     "data": {
      "application/vnd.jupyter.widget-view+json": {
       "model_id": "29cf50b5aa5040f7b46d917cfa23030d",
       "version_major": 2,
       "version_minor": 0
      },
      "text/plain": [
       "HBox(children=(IntProgress(value=0, max=2500), HTML(value='')))"
      ]
     },
     "metadata": {},
     "output_type": "display_data"
    },
    {
     "name": "stdout",
     "output_type": "stream",
     "text": [
      "\n"
     ]
    },
    {
     "data": {
      "application/vnd.jupyter.widget-view+json": {
       "model_id": "6baad03217c24dfdab46f09e0e4fb6fc",
       "version_major": 2,
       "version_minor": 0
      },
      "text/plain": [
       "HBox(children=(IntProgress(value=0, max=2500), HTML(value='')))"
      ]
     },
     "metadata": {},
     "output_type": "display_data"
    },
    {
     "name": "stdout",
     "output_type": "stream",
     "text": [
      "\n"
     ]
    },
    {
     "data": {
      "application/vnd.jupyter.widget-view+json": {
       "model_id": "faaa7b26522c46049c94745c47384632",
       "version_major": 2,
       "version_minor": 0
      },
      "text/plain": [
       "HBox(children=(IntProgress(value=0, max=2500), HTML(value='')))"
      ]
     },
     "metadata": {},
     "output_type": "display_data"
    },
    {
     "name": "stdout",
     "output_type": "stream",
     "text": [
      "\n"
     ]
    },
    {
     "data": {
      "application/vnd.jupyter.widget-view+json": {
       "model_id": "b07a3edc14484a98a8c4aa43401a8848",
       "version_major": 2,
       "version_minor": 0
      },
      "text/plain": [
       "HBox(children=(IntProgress(value=0, max=2500), HTML(value='')))"
      ]
     },
     "metadata": {},
     "output_type": "display_data"
    },
    {
     "name": "stdout",
     "output_type": "stream",
     "text": [
      "\n"
     ]
    },
    {
     "data": {
      "application/vnd.jupyter.widget-view+json": {
       "model_id": "57f7f872b5904ad5b305c92de4e15673",
       "version_major": 2,
       "version_minor": 0
      },
      "text/plain": [
       "HBox(children=(IntProgress(value=0, max=2500), HTML(value='')))"
      ]
     },
     "metadata": {},
     "output_type": "display_data"
    },
    {
     "name": "stdout",
     "output_type": "stream",
     "text": [
      "\n"
     ]
    },
    {
     "data": {
      "application/vnd.jupyter.widget-view+json": {
       "model_id": "d3a25dc3c935418bbfbccd4d80e43c60",
       "version_major": 2,
       "version_minor": 0
      },
      "text/plain": [
       "HBox(children=(IntProgress(value=0, max=2500), HTML(value='')))"
      ]
     },
     "metadata": {},
     "output_type": "display_data"
    },
    {
     "name": "stdout",
     "output_type": "stream",
     "text": [
      "\n"
     ]
    },
    {
     "data": {
      "application/vnd.jupyter.widget-view+json": {
       "model_id": "766b0a65d8b84b379e8b47db1a62e45b",
       "version_major": 2,
       "version_minor": 0
      },
      "text/plain": [
       "HBox(children=(IntProgress(value=0, max=2500), HTML(value='')))"
      ]
     },
     "metadata": {},
     "output_type": "display_data"
    },
    {
     "name": "stdout",
     "output_type": "stream",
     "text": [
      "\n"
     ]
    },
    {
     "data": {
      "application/vnd.jupyter.widget-view+json": {
       "model_id": "5c17f8669abc4a179530951022de4a3b",
       "version_major": 2,
       "version_minor": 0
      },
      "text/plain": [
       "HBox(children=(IntProgress(value=0, max=2500), HTML(value='')))"
      ]
     },
     "metadata": {},
     "output_type": "display_data"
    },
    {
     "name": "stdout",
     "output_type": "stream",
     "text": [
      "\n"
     ]
    },
    {
     "data": {
      "application/vnd.jupyter.widget-view+json": {
       "model_id": "09b22a14f0874acf8e1b0b0543bef1ad",
       "version_major": 2,
       "version_minor": 0
      },
      "text/plain": [
       "HBox(children=(IntProgress(value=0, max=2500), HTML(value='')))"
      ]
     },
     "metadata": {},
     "output_type": "display_data"
    },
    {
     "name": "stdout",
     "output_type": "stream",
     "text": [
      "\n"
     ]
    },
    {
     "data": {
      "application/vnd.jupyter.widget-view+json": {
       "model_id": "9e44396b111a4bbc979039627829872f",
       "version_major": 2,
       "version_minor": 0
      },
      "text/plain": [
       "HBox(children=(IntProgress(value=0, max=2500), HTML(value='')))"
      ]
     },
     "metadata": {},
     "output_type": "display_data"
    },
    {
     "name": "stdout",
     "output_type": "stream",
     "text": [
      "\n"
     ]
    },
    {
     "data": {
      "application/vnd.jupyter.widget-view+json": {
       "model_id": "1b15b436c25e411f850c511e260cc7e5",
       "version_major": 2,
       "version_minor": 0
      },
      "text/plain": [
       "HBox(children=(IntProgress(value=0, max=2500), HTML(value='')))"
      ]
     },
     "metadata": {},
     "output_type": "display_data"
    },
    {
     "name": "stdout",
     "output_type": "stream",
     "text": [
      "\n"
     ]
    },
    {
     "data": {
      "application/vnd.jupyter.widget-view+json": {
       "model_id": "82a3cb914ff04730b82c84d709481327",
       "version_major": 2,
       "version_minor": 0
      },
      "text/plain": [
       "HBox(children=(IntProgress(value=0, max=2500), HTML(value='')))"
      ]
     },
     "metadata": {},
     "output_type": "display_data"
    },
    {
     "name": "stdout",
     "output_type": "stream",
     "text": [
      "\n"
     ]
    },
    {
     "data": {
      "application/vnd.jupyter.widget-view+json": {
       "model_id": "8304e5acc24b4a878f05845fcb0dbc5e",
       "version_major": 2,
       "version_minor": 0
      },
      "text/plain": [
       "HBox(children=(IntProgress(value=0, max=2500), HTML(value='')))"
      ]
     },
     "metadata": {},
     "output_type": "display_data"
    },
    {
     "name": "stdout",
     "output_type": "stream",
     "text": [
      "\n"
     ]
    },
    {
     "data": {
      "application/vnd.jupyter.widget-view+json": {
       "model_id": "7ac79880cbe44f05a64fe5aa596edecc",
       "version_major": 2,
       "version_minor": 0
      },
      "text/plain": [
       "HBox(children=(IntProgress(value=0, max=2500), HTML(value='')))"
      ]
     },
     "metadata": {},
     "output_type": "display_data"
    },
    {
     "name": "stdout",
     "output_type": "stream",
     "text": [
      "\n"
     ]
    },
    {
     "data": {
      "application/vnd.jupyter.widget-view+json": {
       "model_id": "82350649c2f64e92b1c2f354f2d69305",
       "version_major": 2,
       "version_minor": 0
      },
      "text/plain": [
       "HBox(children=(IntProgress(value=0, max=2500), HTML(value='')))"
      ]
     },
     "metadata": {},
     "output_type": "display_data"
    },
    {
     "name": "stdout",
     "output_type": "stream",
     "text": [
      "\n"
     ]
    },
    {
     "data": {
      "application/vnd.jupyter.widget-view+json": {
       "model_id": "fea1290c755f4a6bb2c64cde397e6e1c",
       "version_major": 2,
       "version_minor": 0
      },
      "text/plain": [
       "HBox(children=(IntProgress(value=0, max=2500), HTML(value='')))"
      ]
     },
     "metadata": {},
     "output_type": "display_data"
    },
    {
     "name": "stdout",
     "output_type": "stream",
     "text": [
      "\n"
     ]
    },
    {
     "data": {
      "application/vnd.jupyter.widget-view+json": {
       "model_id": "ba0df55538d842b6b53458b0f66ddc2d",
       "version_major": 2,
       "version_minor": 0
      },
      "text/plain": [
       "HBox(children=(IntProgress(value=0, max=2500), HTML(value='')))"
      ]
     },
     "metadata": {},
     "output_type": "display_data"
    },
    {
     "name": "stdout",
     "output_type": "stream",
     "text": [
      "\n"
     ]
    },
    {
     "data": {
      "application/vnd.jupyter.widget-view+json": {
       "model_id": "379935a9b94b430ebea1c0dfda681464",
       "version_major": 2,
       "version_minor": 0
      },
      "text/plain": [
       "HBox(children=(IntProgress(value=0, max=2500), HTML(value='')))"
      ]
     },
     "metadata": {},
     "output_type": "display_data"
    },
    {
     "name": "stdout",
     "output_type": "stream",
     "text": [
      "\n"
     ]
    },
    {
     "data": {
      "application/vnd.jupyter.widget-view+json": {
       "model_id": "cbd4489b6de948bda969e7676ac4c236",
       "version_major": 2,
       "version_minor": 0
      },
      "text/plain": [
       "HBox(children=(IntProgress(value=0, max=2500), HTML(value='')))"
      ]
     },
     "metadata": {},
     "output_type": "display_data"
    },
    {
     "name": "stdout",
     "output_type": "stream",
     "text": [
      "\n"
     ]
    },
    {
     "data": {
      "application/vnd.jupyter.widget-view+json": {
       "model_id": "ff1b7b1ce76646b19bc13e4ccdd6160f",
       "version_major": 2,
       "version_minor": 0
      },
      "text/plain": [
       "HBox(children=(IntProgress(value=0, max=2500), HTML(value='')))"
      ]
     },
     "metadata": {},
     "output_type": "display_data"
    },
    {
     "name": "stdout",
     "output_type": "stream",
     "text": [
      "\n"
     ]
    },
    {
     "data": {
      "application/vnd.jupyter.widget-view+json": {
       "model_id": "317a6990641c415686084b25c23375e2",
       "version_major": 2,
       "version_minor": 0
      },
      "text/plain": [
       "HBox(children=(IntProgress(value=0, max=2500), HTML(value='')))"
      ]
     },
     "metadata": {},
     "output_type": "display_data"
    },
    {
     "name": "stdout",
     "output_type": "stream",
     "text": [
      "\n"
     ]
    },
    {
     "data": {
      "application/vnd.jupyter.widget-view+json": {
       "model_id": "fdde148dee66451eb036000ccdbf0441",
       "version_major": 2,
       "version_minor": 0
      },
      "text/plain": [
       "HBox(children=(IntProgress(value=0, max=2500), HTML(value='')))"
      ]
     },
     "metadata": {},
     "output_type": "display_data"
    },
    {
     "name": "stdout",
     "output_type": "stream",
     "text": [
      "\n"
     ]
    },
    {
     "data": {
      "application/vnd.jupyter.widget-view+json": {
       "model_id": "c8b02584fd0e4cc6994f480246f41d55",
       "version_major": 2,
       "version_minor": 0
      },
      "text/plain": [
       "HBox(children=(IntProgress(value=0, max=2500), HTML(value='')))"
      ]
     },
     "metadata": {},
     "output_type": "display_data"
    },
    {
     "name": "stdout",
     "output_type": "stream",
     "text": [
      "\n"
     ]
    },
    {
     "data": {
      "application/vnd.jupyter.widget-view+json": {
       "model_id": "7477ae29d430402daa8455e1a667bb4f",
       "version_major": 2,
       "version_minor": 0
      },
      "text/plain": [
       "HBox(children=(IntProgress(value=0, max=2500), HTML(value='')))"
      ]
     },
     "metadata": {},
     "output_type": "display_data"
    },
    {
     "name": "stdout",
     "output_type": "stream",
     "text": [
      "\n"
     ]
    },
    {
     "data": {
      "application/vnd.jupyter.widget-view+json": {
       "model_id": "40cf444750d04ddcb0de1aba5509c516",
       "version_major": 2,
       "version_minor": 0
      },
      "text/plain": [
       "HBox(children=(IntProgress(value=0, max=2500), HTML(value='')))"
      ]
     },
     "metadata": {},
     "output_type": "display_data"
    },
    {
     "name": "stdout",
     "output_type": "stream",
     "text": [
      "\n"
     ]
    },
    {
     "data": {
      "application/vnd.jupyter.widget-view+json": {
       "model_id": "b0bae9f2cd734153828800e28fbfe8ef",
       "version_major": 2,
       "version_minor": 0
      },
      "text/plain": [
       "HBox(children=(IntProgress(value=0, max=2500), HTML(value='')))"
      ]
     },
     "metadata": {},
     "output_type": "display_data"
    },
    {
     "name": "stdout",
     "output_type": "stream",
     "text": [
      "\n"
     ]
    },
    {
     "data": {
      "application/vnd.jupyter.widget-view+json": {
       "model_id": "c74dedffab744141a13b67f0557c7d89",
       "version_major": 2,
       "version_minor": 0
      },
      "text/plain": [
       "HBox(children=(IntProgress(value=0, max=2500), HTML(value='')))"
      ]
     },
     "metadata": {},
     "output_type": "display_data"
    },
    {
     "name": "stdout",
     "output_type": "stream",
     "text": [
      "\n"
     ]
    },
    {
     "data": {
      "application/vnd.jupyter.widget-view+json": {
       "model_id": "e36bdc10923f4dc38392155964c4c62e",
       "version_major": 2,
       "version_minor": 0
      },
      "text/plain": [
       "HBox(children=(IntProgress(value=0, max=2500), HTML(value='')))"
      ]
     },
     "metadata": {},
     "output_type": "display_data"
    },
    {
     "name": "stdout",
     "output_type": "stream",
     "text": [
      "\n"
     ]
    },
    {
     "data": {
      "application/vnd.jupyter.widget-view+json": {
       "model_id": "7f697ec6faaf4911a973371d6dce41bb",
       "version_major": 2,
       "version_minor": 0
      },
      "text/plain": [
       "HBox(children=(IntProgress(value=0, max=2500), HTML(value='')))"
      ]
     },
     "metadata": {},
     "output_type": "display_data"
    },
    {
     "name": "stdout",
     "output_type": "stream",
     "text": [
      "\n"
     ]
    },
    {
     "data": {
      "application/vnd.jupyter.widget-view+json": {
       "model_id": "4ab70d8ce86a47cd9b68cdb80cbf94f9",
       "version_major": 2,
       "version_minor": 0
      },
      "text/plain": [
       "HBox(children=(IntProgress(value=0, max=2500), HTML(value='')))"
      ]
     },
     "metadata": {},
     "output_type": "display_data"
    },
    {
     "name": "stdout",
     "output_type": "stream",
     "text": [
      "\n"
     ]
    },
    {
     "data": {
      "application/vnd.jupyter.widget-view+json": {
       "model_id": "7d045224815646af936e5f42a82de111",
       "version_major": 2,
       "version_minor": 0
      },
      "text/plain": [
       "HBox(children=(IntProgress(value=0, max=2500), HTML(value='')))"
      ]
     },
     "metadata": {},
     "output_type": "display_data"
    },
    {
     "name": "stdout",
     "output_type": "stream",
     "text": [
      "\n"
     ]
    },
    {
     "data": {
      "application/vnd.jupyter.widget-view+json": {
       "model_id": "2d76f418cd2c4306a274c11795f40533",
       "version_major": 2,
       "version_minor": 0
      },
      "text/plain": [
       "HBox(children=(IntProgress(value=0, max=2500), HTML(value='')))"
      ]
     },
     "metadata": {},
     "output_type": "display_data"
    },
    {
     "name": "stdout",
     "output_type": "stream",
     "text": [
      "\n",
      "\n",
      "time: 324.92828607559204\n"
     ]
    }
   ],
   "source": [
    "t = time.time()\n",
    "p_val, vv,cv = predictMulti(val_x)\n",
    "print(\"time:\", time.time()-t)"
   ]
  },
  {
   "cell_type": "code",
   "execution_count": 204,
   "metadata": {},
   "outputs": [
    {
     "name": "stdout",
     "output_type": "stream",
     "text": [
      "Test Accuracy: 0.8788\n",
      "F1 Score: 0.8782948833370894\n"
     ]
    }
   ],
   "source": [
    "acc_test = calculateAccuracy(val_y, p_val)\n",
    "f1_score_test = f1_score(val_y, p_val, average=\"weighted\")\n",
    "print(\"val Accuracy:\", acc_test)\n",
    "print(\"F1 Score:\", f1_score_test)"
   ]
  },
  {
   "cell_type": "code",
   "execution_count": 205,
   "metadata": {},
   "outputs": [
    {
     "data": {
      "image/png": "[encoded data removed]",
      "text/plain": [
       "<Figure size 792x648 with 2 Axes>"
      ]
     },
     "metadata": {},
     "output_type": "display_data"
    }
   ],
   "source": [
    "plot_cm(val_y.astype(int), p_val.astype(int), title=\"Scikit-Learn Confusion Matrix: Validation\")"
   ]
  },
  {
   "cell_type": "code",
   "execution_count": null,
   "metadata": {},
   "outputs": [],
   "source": []
  },
  {
   "cell_type": "code",
   "execution_count": 12,
   "metadata": {},
   "outputs": [],
   "source": [
    "train_x, train_y = readDataUnfiltered(train_path)\n",
    "test_x, test_y = readDataUnfiltered(test_path)\n",
    "val_x, val_y = readDataUnfiltered(val_path)"
   ]
  },
  {
   "cell_type": "code",
   "execution_count": 13,
   "metadata": {},
   "outputs": [],
   "source": [
    "# K Fold "
   ]
  },
  {
   "cell_type": "code",
   "execution_count": 14,
   "metadata": {},
   "outputs": [],
   "source": [
    "# grid search"
   ]
  },
  {
   "cell_type": "code",
   "execution_count": 7,
   "metadata": {},
   "outputs": [],
   "source": [
    "C_set = [1e-5, 1e-3, 1, 5, 10]"
   ]
  },
  {
   "cell_type": "code",
   "execution_count": 21,
   "metadata": {},
   "outputs": [],
   "source": [
    "# Test set"
   ]
  },
  {
   "cell_type": "code",
   "execution_count": 22,
   "metadata": {},
   "outputs": [],
   "source": [
    "# train_x, train_y\n",
    "skf = StratifiedKFold(n_splits=5)\n",
    "skf.get_n_splits(train_x, train_y)\n",
    "\n",
    "parameters = { 'C':C_set, 'gamma':[0.05]}\n",
    "# for train_index, test_index in skf.split(train_x, train_y):\n",
    "#     X_train, X_test = train_x[train_index], train_x[test_index]\n",
    "#     y_train, y_test = train_y[train_index], train_y[test_index]\n",
    "#     svc = svm.SVC()\n",
    "#     clf = GridSearchCV(svc, parameters)\n",
    "#     clf.fit(iris.data, iris.target)\n",
    "\n",
    "\n",
    "    \n",
    "    \n",
    "    \n",
    "    \n"
   ]
  },
  {
   "cell_type": "markdown",
   "metadata": {},
   "source": [
    "# Grid Search for C"
   ]
  },
  {
   "cell_type": "code",
   "execution_count": 23,
   "metadata": {},
   "outputs": [],
   "source": [
    "svc = svm.SVC()"
   ]
  },
  {
   "cell_type": "code",
   "execution_count": 32,
   "metadata": {},
   "outputs": [],
   "source": [
    "clf = GridSearchCV(svc, parameters, cv=5, verbose=15, scoring='accuracy', n_jobs=-1, )"
   ]
  },
  {
   "cell_type": "code",
   "execution_count": 33,
   "metadata": {},
   "outputs": [
    {
     "name": "stdout",
     "output_type": "stream",
     "text": [
      "Fitting 5 folds for each of 5 candidates, totalling 25 fits\n"
     ]
    },
    {
     "name": "stderr",
     "output_type": "stream",
     "text": [
      "[Parallel(n_jobs=-1)]: Using backend LokyBackend with 8 concurrent workers.\n",
      "[Parallel(n_jobs=-1)]: Done   1 tasks      | elapsed: 28.1min\n",
      "[Parallel(n_jobs=-1)]: Done   2 tasks      | elapsed: 28.1min\n",
      "[Parallel(n_jobs=-1)]: Done   3 tasks      | elapsed: 28.1min\n",
      "[Parallel(n_jobs=-1)]: Done   4 tasks      | elapsed: 28.2min\n",
      "[Parallel(n_jobs=-1)]: Done   5 tasks      | elapsed: 28.2min\n",
      "[Parallel(n_jobs=-1)]: Done   6 tasks      | elapsed: 28.2min\n",
      "[Parallel(n_jobs=-1)]: Done   7 tasks      | elapsed: 28.2min\n",
      "[Parallel(n_jobs=-1)]: Done   8 tasks      | elapsed: 28.3min\n",
      "[Parallel(n_jobs=-1)]: Done   9 tasks      | elapsed: 36.8min\n",
      "[Parallel(n_jobs=-1)]: Done  10 tasks      | elapsed: 36.8min\n",
      "[Parallel(n_jobs=-1)]: Done  12 out of  25 | elapsed: 36.9min remaining: 40.0min\n",
      "[Parallel(n_jobs=-1)]: Done  14 out of  25 | elapsed: 37.7min remaining: 29.6min\n",
      "[Parallel(n_jobs=-1)]: Done  16 out of  25 | elapsed: 46.1min remaining: 25.9min\n",
      "[Parallel(n_jobs=-1)]: Done  18 out of  25 | elapsed: 46.2min remaining: 18.0min\n",
      "[Parallel(n_jobs=-1)]: Done  20 out of  25 | elapsed: 47.0min remaining: 11.8min\n",
      "[Parallel(n_jobs=-1)]: Done  22 out of  25 | elapsed: 51.8min remaining:  7.1min\n",
      "[Parallel(n_jobs=-1)]: Done  25 out of  25 | elapsed: 52.6min finished\n"
     ]
    },
    {
     "name": "stdout",
     "output_type": "stream",
     "text": [
      "Time taken: 3340.544531583786\n"
     ]
    }
   ],
   "source": [
    "st = time.time()\n",
    "clf.fit(train_x, train_y.reshape(-1))\n",
    "print(\"Time taken:\", time.time() - st)"
   ]
  },
  {
   "cell_type": "code",
   "execution_count": 34,
   "metadata": {},
   "outputs": [
    {
     "data": {
      "text/plain": [
       "{'C': 5, 'gamma': 0.05}"
      ]
     },
     "execution_count": 34,
     "metadata": {},
     "output_type": "execute_result"
    }
   ],
   "source": [
    "clf.best_params_"
   ]
  },
  {
   "cell_type": "code",
   "execution_count": 36,
   "metadata": {},
   "outputs": [
    {
     "data": {
      "text/plain": [
       "['k_fold_clf']"
      ]
     },
     "execution_count": 36,
     "metadata": {},
     "output_type": "execute_result"
    }
   ],
   "source": [
    "samplesjoblib.dump(clf, \"k_fold_clf\")"
   ]
  },
  {
   "cell_type": "code",
   "execution_count": 14,
   "metadata": {},
   "outputs": [],
   "source": [
    "clf = joblib.load(\"k_fold_clf\")"
   ]
  },
  {
   "cell_type": "code",
   "execution_count": 54,
   "metadata": {},
   "outputs": [],
   "source": [
    "# test acc"
   ]
  },
  {
   "cell_type": "code",
   "execution_count": 55,
   "metadata": {},
   "outputs": [
    {
     "name": "stdout",
     "output_type": "stream",
     "text": [
      "Time taken: 41.442158460617065\n"
     ]
    }
   ],
   "source": [
    "st = time.time()\n",
    "pred_test = clf.predict(test_x)\n",
    "print(\"Time taken:\", time.time() - st)"
   ]
  },
  {
   "cell_type": "code",
   "execution_count": 63,
   "metadata": {},
   "outputs": [
    {
     "name": "stdout",
     "output_type": "stream",
     "text": [
      "Accuracy on test data: 0.8828\n",
      "F1 score on test data: 0.8820810950165507\n"
     ]
    }
   ],
   "source": [
    "pred_test_acc = calculateAccuracy(test_y, pred_test)\n",
    "f1_test_score = f1_score(test_y, pred_test, average=\"weighted\")\n",
    "print(\"Accuracy on test data:\",pred_test_acc)\n",
    "print(\"F1 score on test data:\", f1_test_score)"
   ]
  },
  {
   "cell_type": "code",
   "execution_count": null,
   "metadata": {},
   "outputs": [],
   "source": [
    "# val acc"
   ]
  },
  {
   "cell_type": "code",
   "execution_count": 66,
   "metadata": {},
   "outputs": [
    {
     "name": "stdout",
     "output_type": "stream",
     "text": [
      "Time taken: 20.620283603668213\n"
     ]
    }
   ],
   "source": [
    "st = time.time()\n",
    "pred_val = clf.predict(val_x)\n",
    "print(\"Time taken:\", time.time() - st)"
   ]
  },
  {
   "cell_type": "code",
   "execution_count": 67,
   "metadata": {},
   "outputs": [
    {
     "name": "stdout",
     "output_type": "stream",
     "text": [
      "Accuracy on test data: 0.8888\n",
      "F1 score on test data: 0.8883933943278136\n"
     ]
    }
   ],
   "source": [
    "pred_val_acc = calculateAccuracy(val_y, pred_val)\n",
    "f1_val_score = f1_score(val_y, pred_val, average=\"weighted\")\n",
    "print(\"Accuracy on val data:\",pred_val_acc)\n",
    "print(\"F1 score on val data:\", f1_val_score)"
   ]
  },
  {
   "cell_type": "code",
   "execution_count": 17,
   "metadata": {},
   "outputs": [
    {
     "data": {
      "text/plain": [
       "0.05"
      ]
     },
     "execution_count": 17,
     "metadata": {},
     "output_type": "execute_result"
    }
   ],
   "source": [
    "gama"
   ]
  },
  {
   "cell_type": "markdown",
   "metadata": {},
   "source": [
    "# Plot of C vs Accuracy"
   ]
  },
  {
   "cell_type": "code",
   "execution_count": 15,
   "metadata": {},
   "outputs": [],
   "source": [
    "test_acc_list = []\n",
    "val_acc_list = []"
   ]
  },
  {
   "cell_type": "code",
   "execution_count": 18,
   "metadata": {},
   "outputs": [],
   "source": [
    "C_set = [1e-5, 1e-3, 1, 5, 10]\n",
    "model_list = []"
   ]
  },
  {
   "cell_type": "code",
   "execution_count": null,
   "metadata": {},
   "outputs": [
    {
     "name": "stderr",
     "output_type": "stream",
     "text": [
      "  0%|          | 0/5 [00:00<?, ?it/s]"
     ]
    },
    {
     "name": "stdout",
     "output_type": "stream",
     "text": [
      "1e-05\n"
     ]
    }
   ],
   "source": [
    "for c in tqdm(C_set):\n",
    "    print(c)\n",
    "    clf_gauss = SVC(gamma=gama, C=c)\n",
    "    clf_gauss.fit(train_x, train_y.reshape(-1,))\n",
    "    model_list.append(clf)\n",
    "    \n",
    "    \n",
    "    pred_test_list = clf.predict(test_x)\n",
    "    pred_val_list = clf.predic(val_x)\n",
    "    \n",
    "    test_acc = calculateAccuracy(test_y, pred_test_list)\n",
    "    val_acc = calculateAccuracy(val_y, pred_val_list)\n",
    "    \n",
    "    test_acc_list.append(test_acc)\n",
    "    val_acc_list.append(val_acc)"
   ]
  },
  {
   "cell_type": "code",
   "execution_count": 19,
   "metadata": {},
   "outputs": [],
   "source": [
    "def pl_C(c):\n",
    "    clf_gauss = SVC(gamma=gama, C=c)\n",
    "    clf_gauss.fit(train_x, train_y.reshape(-1,))\n",
    "    return clf_gauss"
   ]
  },
  {
   "cell_type": "code",
   "execution_count": 21,
   "metadata": {},
   "outputs": [
    {
     "name": "stderr",
     "output_type": "stream",
     "text": [
      "100%|██████████| 5/5 [00:00<00:00, 21.94it/s]\n"
     ]
    }
   ],
   "source": [
    "out = Parallel(n_jobs=-1)(delayed(pl_C)(c) for c in tqdm(C_set))"
   ]
  },
  {
   "cell_type": "code",
   "execution_count": null,
   "metadata": {},
   "outputs": [],
   "source": [
    "# time taken = 14 vmin "
   ]
  },
  {
   "cell_type": "code",
   "execution_count": 22,
   "metadata": {},
   "outputs": [
    {
     "data": {
      "text/plain": [
       "[SVC(C=1e-05, cache_size=200, class_weight=None, coef0=0.0,\n",
       "     decision_function_shape='ovr', degree=3, gamma=0.05, kernel='rbf',\n",
       "     max_iter=-1, probability=False, random_state=None, shrinking=True,\n",
       "     tol=0.001, verbose=False),\n",
       " SVC(C=0.011, cache_size=200, class_weight=None, coef0=0.0,\n",
       "     decision_function_shape='ovr', degree=3, gamma=0.05, kernel='rbf',\n",
       "     max_iter=-1, probability=False, random_state=None, shrinking=True,\n",
       "     tol=0.001, verbose=False),\n",
       " SVC(C=1, cache_size=200, class_weight=None, coef0=0.0,\n",
       "     decision_function_shape='ovr', degree=3, gamma=0.05, kernel='rbf',\n",
       "     max_iter=-1, probability=False, random_state=None, shrinking=True,\n",
       "     tol=0.001, verbose=False),\n",
       " SVC(C=5, cache_size=200, class_weight=None, coef0=0.0,\n",
       "     decision_function_shape='ovr', degree=3, gamma=0.05, kernel='rbf',\n",
       "     max_iter=-1, probability=False, random_state=None, shrinking=True,\n",
       "     tol=0.001, verbose=False),\n",
       " SVC(C=10, cache_size=200, class_weight=None, coef0=0.0,\n",
       "     decision_function_shape='ovr', degree=3, gamma=0.05, kernel='rbf',\n",
       "     max_iter=-1, probability=False, random_state=None, shrinking=True,\n",
       "     tol=0.001, verbose=False)]"
      ]
     },
     "execution_count": 22,
     "metadata": {},
     "output_type": "execute_result"
    }
   ],
   "source": [
    "joblib.dump(out, \"SVM_C_Model\")"
   ]
  },
  {
   "cell_type": "code",
   "execution_count": 23,
   "metadata": {},
   "outputs": [
    {
     "data": {
      "text/plain": [
       "['SVM_C_Model']"
      ]
     },
     "execution_count": 23,
     "metadata": {},
     "output_type": "execute_result"
    }
   ],
   "source": [
    "joblib.dump(out, \"SVM_C_Model\")"
   ]
  },
  {
   "cell_type": "code",
   "execution_count": 24,
   "metadata": {},
   "outputs": [],
   "source": [
    "model_out = joblib.load(\"SVM_C_Model\")"
   ]
  },
  {
   "cell_type": "code",
   "execution_count": null,
   "metadata": {},
   "outputs": [],
   "source": [
    "test_acc_list = []\n",
    "val_acc_list = []\n",
    "for m in model_out:\n",
    "    pred_test_list = m.predict(test_x)\n",
    "    pred_val_list = m.predic(val_x)\n",
    "    \n",
    "    test_acc = calculateAccuracy(test_y, pred_test_list)\n",
    "    val_acc = calculateAccuracy(val_y, pred_val_list)\n",
    "    \n",
    "    test_acc_list.append(test_acc)\n",
    "    val_acc_list.append(val_acc)"
   ]
  },
  {
   "cell_type": "code",
   "execution_count": 29,
   "metadata": {},
   "outputs": [],
   "source": [
    "def pl_predict(m):\n",
    "    pred_test_list = m.predict(test_x)\n",
    "    pred_val_list = m.predict(val_x)\n",
    "    \n",
    "    test_acc = calculateAccuracy(test_y, pred_test_list)\n",
    "    val_acc = calculateAccuracy(val_y, pred_val_list)\n",
    "    \n",
    "    return test_acc, val_acc\n",
    "    "
   ]
  },
  {
   "cell_type": "code",
   "execution_count": 30,
   "metadata": {},
   "outputs": [
    {
     "name": "stderr",
     "output_type": "stream",
     "text": [
      "\n",
      "  0%|          | 0/5 [00:00<?, ?it/s]\u001b[A\n",
      "100%|██████████| 5/5 [00:00<00:00, 38.32it/s]\u001b[A\n"
     ]
    }
   ],
   "source": [
    "out = Parallel(n_jobs=-1)(delayed(pl_predict)(m) for m in tqdm(model_out))"
   ]
  },
  {
   "cell_type": "code",
   "execution_count": null,
   "metadata": {},
   "outputs": [],
   "source": [
    "# time take = 3 min "
   ]
  },
  {
   "cell_type": "code",
   "execution_count": 71,
   "metadata": {},
   "outputs": [
    {
     "data": {
      "text/plain": [
       "[(0.5736, 0.552),\n",
       " (0.684, 0.6624),\n",
       " (0.8808, 0.8792),\n",
       " (0.8828, 0.8888),\n",
       " (0.8824, 0.888)]"
      ]
     },
     "execution_count": 71,
     "metadata": {},
     "output_type": "execute_result"
    }
   ],
   "source": [
    "out"
   ]
  },
  {
   "cell_type": "markdown",
   "metadata": {},
   "source": [
    "# Result\n",
    "for each 5 c's, train acuuracy and validation accuracy\n",
    "\n",
    "\n",
    "[(0.5736, 0.552),\n",
    " (0.684, 0.6624),\n",
    " (0.8808, 0.8792),\n",
    " (0.8828, 0.8888),\n",
    " (0.8824, 0.888)]"
   ]
  },
  {
   "cell_type": "code",
   "execution_count": 72,
   "metadata": {},
   "outputs": [
    {
     "data": {
      "text/plain": [
       "['SVM_C_ACC_TEST_VAL']"
      ]
     },
     "execution_count": 72,
     "metadata": {},
     "output_type": "execute_result"
    }
   ],
   "source": [
    "joblib.dump(out, \"SVM_C_ACC_TEST_VAL\")"
   ]
  },
  {
   "cell_type": "code",
   "execution_count": 2,
   "metadata": {},
   "outputs": [],
   "source": [
    "out = joblib.load(\"SVM_C_ACC_TEST_VAL\")"
   ]
  },
  {
   "cell_type": "code",
   "execution_count": 3,
   "metadata": {},
   "outputs": [],
   "source": [
    "a,b = zip(*out)"
   ]
  },
  {
   "cell_type": "code",
   "execution_count": null,
   "metadata": {},
   "outputs": [],
   "source": []
  },
  {
   "cell_type": "code",
   "execution_count": 4,
   "metadata": {},
   "outputs": [
    {
     "data": {
      "text/plain": [
       "(0.552, 0.6624, 0.8792, 0.8888, 0.888)"
      ]
     },
     "execution_count": 4,
     "metadata": {},
     "output_type": "execute_result"
    }
   ],
   "source": [
    "b"
   ]
  },
  {
   "cell_type": "code",
   "execution_count": 8,
   "metadata": {},
   "outputs": [],
   "source": [
    "C_set_log = np.log10(C_set)"
   ]
  },
  {
   "cell_type": "code",
   "execution_count": 9,
   "metadata": {},
   "outputs": [
    {
     "data": {
      "text/plain": [
       "array([-5.     , -3.     ,  0.     ,  0.69897,  1.     ])"
      ]
     },
     "execution_count": 9,
     "metadata": {},
     "output_type": "execute_result"
    }
   ],
   "source": [
    "C_set_log"
   ]
  },
  {
   "cell_type": "code",
   "execution_count": 10,
   "metadata": {},
   "outputs": [],
   "source": [
    "test_acc_list = list(a)"
   ]
  },
  {
   "cell_type": "code",
   "execution_count": 11,
   "metadata": {},
   "outputs": [],
   "source": [
    "val_acc_list = list(b)"
   ]
  },
  {
   "cell_type": "code",
   "execution_count": 16,
   "metadata": {},
   "outputs": [
    {
     "data": {
      "text/plain": [
       "<matplotlib.legend.Legend at 0x7fb488e07f90>"
      ]
     },
     "execution_count": 16,
     "metadata": {},
     "output_type": "execute_result"
    },
    {
     "data": {
      "image/png": "[encoded data removed]",
      "text/plain": [
       "<Figure size 432x288 with 1 Axes>"
      ]
     },
     "metadata": {
      "needs_background": "light"
     },
     "output_type": "display_data"
    }
   ],
   "source": [
    "%matplotlib inline\n",
    "plt.title(\"C vs Accuracy\")\n",
    "plt.xlabel(\"C in log10\")\n",
    "plt.ylabel(\"Accuracy\")\n",
    "plt.plot(C_set_log, test_acc_list, color=\"b\", label=\"Test Acccuracy\", marker=\"o\")\n",
    "plt.plot(C_set_log, val_acc_list, color=\"r\", label=\"Validation Accuracy\", marker=\"x\")\n",
    "plt.legend(loc=\"upper left\")\n"
   ]
  },
  {
   "cell_type": "code",
   "execution_count": null,
   "metadata": {},
   "outputs": [],
   "source": []
  }
 ],
 "metadata": {
  "kernelspec": {
   "display_name": "Python 3",
   "language": "python",
   "name": "python3"
  },
  "language_info": {
   "codemirror_mode": {
    "name": "ipython",
    "version": 3
   },
   "file_extension": ".py",
   "mimetype": "text/x-python",
   "name": "python",
   "nbconvert_exporter": "python",
   "pygments_lexer": "ipython3",
   "version": "3.7.4"
  }
 },
 "nbformat": 4,
 "nbformat_minor": 2
}
