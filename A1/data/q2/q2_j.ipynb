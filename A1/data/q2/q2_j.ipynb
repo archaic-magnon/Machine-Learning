{
 "cells": [
  {
   "cell_type": "code",
   "execution_count": 204,
   "metadata": {},
   "outputs": [],
   "source": [
    "import pandas as pd\n",
    "import numpy as np\n",
    "import matplotlib.pyplot as plt\n",
    "import matplotlib.animation as animation\n",
    "import matplotlib\n",
    "import time\n",
    "# from timing import time_it as tt\n",
    "from mpl_toolkits.mplot3d import Axes3D\n",
    "import math"
   ]
  },
  {
   "cell_type": "code",
   "execution_count": 205,
   "metadata": {},
   "outputs": [],
   "source": [
    "#part (a)"
   ]
  },
  {
   "cell_type": "code",
   "execution_count": 206,
   "metadata": {},
   "outputs": [
    {
     "name": "stdout",
     "output_type": "stream",
     "text": [
      "[[3]\n",
      " [1]\n",
      " [2]]\n"
     ]
    }
   ],
   "source": [
    "theta = np.array([3, 1, 2]).reshape((3, 1))\n",
    "print(theta)"
   ]
  },
  {
   "cell_type": "code",
   "execution_count": 207,
   "metadata": {},
   "outputs": [],
   "source": [
    "def sample(count=1000000):\n",
    "    x0 = np.ones((count)).reshape(count, 1)\n",
    "    x1 = np.random.normal(3, 2, count).reshape(count, 1)\n",
    "    x2 = np.random.normal(-1, 2, count).reshape(count, 1)\n",
    "    error = np.random.normal(0, math.sqrt(2), count).reshape(count, 1)\n",
    "    \n",
    "    desX  = np.hstack((x0, x1, x2))\n",
    "    y = np.dot(desX, theta) + error\n",
    "    return (desX, y)"
   ]
  },
  {
   "cell_type": "code",
   "execution_count": 208,
   "metadata": {},
   "outputs": [],
   "source": [
    "d = sample(20)[0]"
   ]
  },
  {
   "cell_type": "code",
   "execution_count": 209,
   "metadata": {},
   "outputs": [
    {
     "data": {
      "text/plain": [
       "array([[ 1.        ,  4.12777928, -1.45400984],\n",
       "       [ 1.        , -2.62114939, -2.92752471],\n",
       "       [ 1.        ,  1.67848114, -0.39575067],\n",
       "       [ 1.        ,  3.50359325, -1.88203021],\n",
       "       [ 1.        ,  5.3999881 , -2.69264211],\n",
       "       [ 1.        ,  3.94499303, -1.66041644],\n",
       "       [ 1.        ,  2.64282669,  1.77987591],\n",
       "       [ 1.        ,  2.50904538, -0.5360578 ],\n",
       "       [ 1.        , -1.50078985, -3.50251491],\n",
       "       [ 1.        ,  4.15248444,  1.43932515],\n",
       "       [ 1.        ,  1.19543708,  1.33596073],\n",
       "       [ 1.        , -0.97936697, -2.64681055],\n",
       "       [ 1.        ,  2.05215915,  0.35213951],\n",
       "       [ 1.        ,  4.55658133,  1.9101288 ],\n",
       "       [ 1.        ,  5.37829108, -0.95210736],\n",
       "       [ 1.        ,  1.91781161, -1.23075164],\n",
       "       [ 1.        ,  3.07625183, -0.17122685],\n",
       "       [ 1.        ,  2.21484844, -1.1005943 ],\n",
       "       [ 1.        ,  6.25637107, -1.91259789],\n",
       "       [ 1.        ,  3.32789486, -0.95148709]])"
      ]
     },
     "execution_count": 209,
     "metadata": {},
     "output_type": "execute_result"
    }
   ],
   "source": [
    "d"
   ]
  },
  {
   "cell_type": "code",
   "execution_count": 210,
   "metadata": {},
   "outputs": [
    {
     "data": {
      "text/plain": [
       "array([[ 1.        ,  4.12777928, -1.45400984],\n",
       "       [ 1.        , -2.62114939, -2.92752471],\n",
       "       [ 1.        ,  1.67848114, -0.39575067],\n",
       "       [ 1.        ,  3.50359325, -1.88203021],\n",
       "       [ 1.        ,  5.3999881 , -2.69264211]])"
      ]
     },
     "execution_count": 210,
     "metadata": {},
     "output_type": "execute_result"
    }
   ],
   "source": [
    "d[0:5]"
   ]
  },
  {
   "cell_type": "code",
   "execution_count": 211,
   "metadata": {},
   "outputs": [],
   "source": [
    "eta = 0.1"
   ]
  },
  {
   "cell_type": "code",
   "execution_count": 212,
   "metadata": {},
   "outputs": [],
   "source": [
    "def cost(X, Y, theta):\n",
    "\t'''Input:\n",
    "\t\tX = Design Matrix \n",
    "\t\t# h= vector of hypothesis for each exampla x_i (i=0...m) (Vector of Xθ)\n",
    "\t\tY= Output vector\n",
    "        theta = parameter matrix\n",
    "            [θ0]\n",
    "            [θ1]\n",
    "            [θ2]\n",
    "\t\tReturns the cost J(θ)\n",
    "\t\tJ(θ) = 1/2m * Σ(hθ(x_i) - y_i)^2 (i=0...m)\n",
    "\t\tor\n",
    "\t\tJ(θ) = 1/2m * [(Xθ - Y)^t * (Xθ - Y)]\n",
    "\t'''\n",
    "\tm = len(Y)\n",
    "\th = np.dot(X, theta)\n",
    "\n",
    "\treturn (1 / ((2 * m)) * np.sum((h - Y) ** 2))\n"
   ]
  },
  {
   "cell_type": "code",
   "execution_count": 216,
   "metadata": {},
   "outputs": [],
   "source": [
    "cost_arr = []\n",
    "theta0_arr = []\n",
    "theta1_arr = []\n",
    "def stochasticGradientDescent(X, Y, eta, r):\n",
    "    print(X.shape, Y.shape)\n",
    "    '''\n",
    "    Input:\n",
    "        X= Design Matrix of x\n",
    "        Y= Output\n",
    "        eta = Learning rate\n",
    "\n",
    "    output: θ vector\n",
    "        θ := θ - eta * (1/m) * X^t * (Xθ - Y)\n",
    "    '''\n",
    "    m = len(Y)\n",
    "    theta_prev = np.zeros((X.shape[1], 1))\n",
    "    for i in range(0, 2):\n",
    "        for b in range(0, m//r + 1):\n",
    "#             print(theta_prev)\n",
    "            cost_arr.append(cost(X, Y, theta_prev))\n",
    "            theta0_arr.append(theta_prev[0][0])\n",
    "            theta1_arr.append(theta_prev[1][0])\n",
    "            \n",
    "            if b == m//r:\n",
    "                rem = Y.shape[0] - m//r * r\n",
    "                if rem == 0:\n",
    "                    continue\n",
    "                Xb = X[b*r:][:]\n",
    "                Yb = Y[b*r:][:]\n",
    "            else:\n",
    "                rem = r\n",
    "                Xb = X[b*r:b*r+r][:]\n",
    "                Yb = Y[b*r:b*r+r][:]\n",
    "\n",
    "            h = np.dot(Xb, theta_prev)\n",
    "#             print(\"-\"*30)\n",
    "#             print(Yb.shape)\n",
    "\n",
    "            theta_current = theta_prev - (1 / rem) * eta *  np.dot(np.transpose(Xb), (h - Yb))\n",
    "            theta_prev = theta_current\n",
    "            \n",
    "            \n",
    "\n",
    "\n",
    "    return theta_current\n",
    "    "
   ]
  },
  {
   "cell_type": "code",
   "execution_count": null,
   "metadata": {},
   "outputs": [],
   "source": []
  },
  {
   "cell_type": "code",
   "execution_count": 217,
   "metadata": {},
   "outputs": [],
   "source": [
    "sample_data = sample(1000000)\n",
    "sample_x = sample_data[0]\n",
    "sample_y = sample_data[1]\n",
    "r = 100"
   ]
  },
  {
   "cell_type": "code",
   "execution_count": 218,
   "metadata": {},
   "outputs": [
    {
     "name": "stdout",
     "output_type": "stream",
     "text": [
      "(1000000, 3) (1000000, 1)\n"
     ]
    }
   ],
   "source": [
    "theta_sgd =  stochasticGradientDescent(sample_x, sample_y, eta, r)"
   ]
  },
  {
   "cell_type": "code",
   "execution_count": 219,
   "metadata": {},
   "outputs": [
    {
     "data": {
      "text/plain": [
       "array([[2.98927424],\n",
       "       [0.95483367],\n",
       "       [2.04992177]])"
      ]
     },
     "execution_count": 219,
     "metadata": {},
     "output_type": "execute_result"
    }
   ],
   "source": [
    "theta_sgd"
   ]
  },
  {
   "cell_type": "code",
   "execution_count": 220,
   "metadata": {},
   "outputs": [
    {
     "data": {
      "text/plain": [
       "18.96348075888236"
      ]
     },
     "execution_count": 220,
     "metadata": {},
     "output_type": "execute_result"
    }
   ],
   "source": [
    "cost(sample_x, sample_y, np.array([0,0,0]).reshape(3,1))"
   ]
  },
  {
   "cell_type": "code",
   "execution_count": 221,
   "metadata": {},
   "outputs": [
    {
     "data": {
      "text/plain": [
       "1.0027637218512038"
      ]
     },
     "execution_count": 221,
     "metadata": {},
     "output_type": "execute_result"
    }
   ],
   "source": [
    "cost(sample_x, sample_y, np.array([3,1,2]).reshape(3,1))"
   ]
  },
  {
   "cell_type": "code",
   "execution_count": 222,
   "metadata": {},
   "outputs": [
    {
     "data": {
      "text/plain": [
       "1.031056233279816"
      ]
     },
     "execution_count": 222,
     "metadata": {},
     "output_type": "execute_result"
    }
   ],
   "source": [
    "cost(sample_x, sample_y, theta_sgd)"
   ]
  },
  {
   "cell_type": "code",
   "execution_count": 223,
   "metadata": {},
   "outputs": [],
   "source": [
    "#(c) part"
   ]
  },
  {
   "cell_type": "code",
   "execution_count": 225,
   "metadata": {},
   "outputs": [
    {
     "ename": "NameError",
     "evalue": "name 'desX' is not defined",
     "output_type": "error",
     "traceback": [
      "\u001b[0;31m---------------------------------------------------------------------------\u001b[0m",
      "\u001b[0;31mNameError\u001b[0m                                 Traceback (most recent call last)",
      "\u001b[0;32m<ipython-input-225-7c0c4973e386>\u001b[0m in \u001b[0;36m<module>\u001b[0;34m\u001b[0m\n\u001b[0;32m----> 1\u001b[0;31m \u001b[0mdesX\u001b[0m\u001b[0;34m\u001b[0m\u001b[0;34m\u001b[0m\u001b[0m\n\u001b[0m",
      "\u001b[0;31mNameError\u001b[0m: name 'desX' is not defined"
     ]
    }
   ],
   "source": [
    "desX"
   ]
  },
  {
   "cell_type": "code",
   "execution_count": 226,
   "metadata": {},
   "outputs": [
    {
     "data": {
      "text/plain": [
       "array([[ 8.81574602],\n",
       "       [16.28115033],\n",
       "       [-4.53325276],\n",
       "       ...,\n",
       "       [ 7.37730804],\n",
       "       [ 6.75661557],\n",
       "       [ 2.61669033]])"
      ]
     },
     "execution_count": 226,
     "metadata": {},
     "output_type": "execute_result"
    }
   ],
   "source": [
    "sample_y"
   ]
  },
  {
   "cell_type": "code",
   "execution_count": 236,
   "metadata": {},
   "outputs": [],
   "source": [
    "np.random.shuffle(sample_y)"
   ]
  },
  {
   "cell_type": "code",
   "execution_count": 237,
   "metadata": {},
   "outputs": [
    {
     "data": {
      "text/plain": [
       "array([[10.00618943],\n",
       "       [ 8.40523629],\n",
       "       [ 2.74008677],\n",
       "       ...,\n",
       "       [ 0.19263127],\n",
       "       [-0.69958061],\n",
       "       [ 3.05899404]])"
      ]
     },
     "execution_count": 237,
     "metadata": {},
     "output_type": "execute_result"
    }
   ],
   "source": [
    "sample_y"
   ]
  },
  {
   "cell_type": "code",
   "execution_count": 231,
   "metadata": {},
   "outputs": [
    {
     "name": "stdout",
     "output_type": "stream",
     "text": [
      "None\n"
     ]
    }
   ],
   "source": [
    "print(cc)"
   ]
  },
  {
   "cell_type": "code",
   "execution_count": 238,
   "metadata": {},
   "outputs": [
    {
     "data": {
      "text/plain": [
       "array([[ 1.        ,  2.61085723,  1.9567683 ],\n",
       "       [ 1.        ,  7.59329478,  2.03047323],\n",
       "       [ 1.        , -2.33606133, -1.71466582],\n",
       "       ...,\n",
       "       [ 1.        ,  1.72334903,  2.75254605],\n",
       "       [ 1.        ,  0.08830156,  0.80618514],\n",
       "       [ 1.        ,  6.69502038, -2.17430155]])"
      ]
     },
     "execution_count": 238,
     "metadata": {},
     "output_type": "execute_result"
    }
   ],
   "source": [
    "sample_x"
   ]
  },
  {
   "cell_type": "code",
   "execution_count": 241,
   "metadata": {},
   "outputs": [],
   "source": [
    "xy = np.hstack((sample_x, sample_y))"
   ]
  },
  {
   "cell_type": "code",
   "execution_count": 242,
   "metadata": {},
   "outputs": [
    {
     "data": {
      "text/plain": [
       "array([[ 1.        ,  2.61085723,  1.9567683 , 10.00618943],\n",
       "       [ 1.        ,  7.59329478,  2.03047323,  8.40523629],\n",
       "       [ 1.        , -2.33606133, -1.71466582,  2.74008677],\n",
       "       ...,\n",
       "       [ 1.        ,  1.72334903,  2.75254605,  0.19263127],\n",
       "       [ 1.        ,  0.08830156,  0.80618514, -0.69958061],\n",
       "       [ 1.        ,  6.69502038, -2.17430155,  3.05899404]])"
      ]
     },
     "execution_count": 242,
     "metadata": {},
     "output_type": "execute_result"
    }
   ],
   "source": [
    "xy"
   ]
  },
  {
   "cell_type": "code",
   "execution_count": 243,
   "metadata": {},
   "outputs": [],
   "source": [
    "np.random.shuffle(xy)"
   ]
  },
  {
   "cell_type": "code",
   "execution_count": 244,
   "metadata": {},
   "outputs": [
    {
     "data": {
      "text/plain": [
       "array([[ 1.        ,  3.01618942, -1.80351604,  0.4980087 ],\n",
       "       [ 1.        ,  2.14951089,  0.25643015,  6.27626716],\n",
       "       [ 1.        ,  4.18387032, -1.29255475, -0.01212842],\n",
       "       ...,\n",
       "       [ 1.        ,  3.75173684, -0.59722351, -1.03957543],\n",
       "       [ 1.        ,  3.84792989, -2.58213865,  6.2944381 ],\n",
       "       [ 1.        ,  1.23866665,  0.7927699 , -1.18405637]])"
      ]
     },
     "execution_count": 244,
     "metadata": {},
     "output_type": "execute_result"
    }
   ],
   "source": [
    "xy"
   ]
  },
  {
   "cell_type": "code",
   "execution_count": 248,
   "metadata": {},
   "outputs": [
    {
     "data": {
      "text/plain": [
       "array([[1.        , 3.01618942],\n",
       "       [1.        , 2.14951089],\n",
       "       [1.        , 4.18387032],\n",
       "       ...,\n",
       "       [1.        , 3.75173684],\n",
       "       [1.        , 3.84792989],\n",
       "       [1.        , 1.23866665]])"
      ]
     },
     "execution_count": 248,
     "metadata": {},
     "output_type": "execute_result"
    }
   ],
   "source": [
    "xy[:,(0,1)]"
   ]
  },
  {
   "cell_type": "code",
   "execution_count": null,
   "metadata": {},
   "outputs": [],
   "source": []
  }
 ],
 "metadata": {
  "kernelspec": {
   "display_name": "Python 3",
   "language": "python",
   "name": "python3"
  },
  "language_info": {
   "codemirror_mode": {
    "name": "ipython",
    "version": 3
   },
   "file_extension": ".py",
   "mimetype": "text/x-python",
   "name": "python",
   "nbconvert_exporter": "python",
   "pygments_lexer": "ipython3",
   "version": "3.7.4"
  }
 },
 "nbformat": 4,
 "nbformat_minor": 2
}
