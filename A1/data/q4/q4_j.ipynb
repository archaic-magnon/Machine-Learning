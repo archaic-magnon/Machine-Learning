{
 "cells": [
  {
   "cell_type": "code",
   "execution_count": 1,
   "metadata": {},
   "outputs": [],
   "source": [
    "import pandas as pd\n",
    "import numpy as np\n",
    "import matplotlib.pyplot as plt\n",
    "import matplotlib.animation as animation\n",
    "import matplotlib\n",
    "import time\n",
    "# from timing import time_it as tt\n",
    "from mpl_toolkits.mplot3d import Axes3D\n",
    "import math"
   ]
  },
  {
   "cell_type": "code",
   "execution_count": 2,
   "metadata": {},
   "outputs": [],
   "source": [
    "def loadData():\n",
    "\t'''Load data logisticX.csv and logisticY.csv\n",
    "\t\tReturn type: dict\n",
    "\t\t{'X': X, 'Y' : Y}\n",
    "\t'''\n",
    "\tX = np.array(pd.read_csv('q4x.dat', sep=\"\\s+\", header=None))\n",
    "\tY = np.array(pd.read_csv('q4y.dat', header=None))\n",
    "\n",
    "\treturn {'X' : X, 'Y': Y}"
   ]
  },
  {
   "cell_type": "code",
   "execution_count": 3,
   "metadata": {},
   "outputs": [],
   "source": [
    "def normalize(V):\n",
    "\t'''Normalizes 1-D numpy vector\n",
    "\t\t(X - mean) / (max - min)\n",
    "\t'''\n",
    "\treturn (V - np.mean(V, axis=0)) / np.std(V, axis=0)"
   ]
  },
  {
   "cell_type": "code",
   "execution_count": 4,
   "metadata": {},
   "outputs": [],
   "source": [
    "def designMatrix(X):\n",
    "\t'''\n",
    "\tX:\n",
    "\t\t[x_1_0, x_1_0, ...x_i_0.. x_n_0 ]\n",
    "\t\t[x_1_1, x_1_1, ...x_i_1.. x_n_1 ]\n",
    "\t\t[       .......                 ]\n",
    "\t\t[x_1_m, x_1_m, ...x_i_m.. x_n_m ]\n",
    "\n",
    "\treturn:\n",
    "\t\t[1 x_1_0, x_1_0, ...x_i_0.. x_n_0 ]\n",
    "\t\t[1 x_1_1, x_1_1, ...x_i_1.. x_n_1 ]\n",
    "\t\t[         .......                 ]\n",
    "\t\t[1 x_1_m, x_1_m, ...x_i_m.. x_n_m ]\n",
    "\t'''\n",
    "\tnrow = len(X)\n",
    "\treturn np.append(np.ones((nrow, 1)), X, axis=1)"
   ]
  },
  {
   "cell_type": "code",
   "execution_count": 5,
   "metadata": {},
   "outputs": [],
   "source": [
    "# Alaska = 0\n",
    "# Canada = 1"
   ]
  },
  {
   "cell_type": "code",
   "execution_count": 6,
   "metadata": {},
   "outputs": [],
   "source": [
    "# φ =1/m Σ1{y(i) = 1}\n",
    "def phi(Y):\n",
    "    m = Y.shape[0]\n",
    "    ones = np.count_nonzero(Y == \"Canada\")\n",
    "    return ones / m\n",
    "    "
   ]
  },
  {
   "cell_type": "code",
   "execution_count": 7,
   "metadata": {},
   "outputs": [],
   "source": [
    "data = loadData()\n",
    "X = designMatrix(normalize(data['X']))\n",
    "Y = data['Y']"
   ]
  },
  {
   "cell_type": "code",
   "execution_count": 62,
   "metadata": {},
   "outputs": [],
   "source": [
    "phy = phi(Y)"
   ]
  },
  {
   "cell_type": "code",
   "execution_count": 9,
   "metadata": {},
   "outputs": [],
   "source": [
    "def mu(X, Y, S):\n",
    "    denominator = np.count_nonzero(Y == S)\n",
    "\n",
    "    sum_x = 0\n",
    "    for index , row in enumerate(Y):\n",
    "        if row[0] == S:\n",
    "            sum_x+= X[index][1]\n",
    "    u1 =  sum_x / denominator\n",
    "    \n",
    "    sum_x = 0\n",
    "    for index , row in enumerate(Y):\n",
    "        if row[0] == S:\n",
    "            sum_x+= X[index][2]\n",
    "    u2 =  sum_x / denominator\n",
    "    \n",
    "    return np.array([[u1], [u2]])\n",
    "    \n",
    "    \n"
   ]
  },
  {
   "cell_type": "code",
   "execution_count": 10,
   "metadata": {},
   "outputs": [
    {
     "data": {
      "text/plain": [
       "-0.38344522690247185"
      ]
     },
     "execution_count": 10,
     "metadata": {},
     "output_type": "execute_result"
    }
   ],
   "source": [
    "X[0][1]"
   ]
  },
  {
   "cell_type": "code",
   "execution_count": 281,
   "metadata": {},
   "outputs": [],
   "source": [
    "u0 = mu(X, Y, \"Alaska\")"
   ]
  },
  {
   "cell_type": "code",
   "execution_count": 12,
   "metadata": {},
   "outputs": [],
   "source": [
    "u1 = mu(X, Y, \"Canada\")"
   ]
  },
  {
   "cell_type": "code",
   "execution_count": 13,
   "metadata": {},
   "outputs": [
    {
     "name": "stdout",
     "output_type": "stream",
     "text": [
      "[[-0.75529433]\n",
      " [ 0.68509431]]\n",
      "[[ 0.75529433]\n",
      " [-0.68509431]]\n"
     ]
    }
   ],
   "source": [
    "print(u0)\n",
    "print(u1)"
   ]
  },
  {
   "cell_type": "code",
   "execution_count": 29,
   "metadata": {},
   "outputs": [],
   "source": [
    "def sigma(X, Y):\n",
    "    m = X.shape[0]\n",
    "    n = X.shape[1]\n",
    "    print(m ,n)\n",
    "    u0 = mu(X, Y, \"Alaska\")\n",
    "    u1 = mu(X, Y, \"Canada\")\n",
    "    print(u0, u1)\n",
    "    sigma_Matrix = 0\n",
    "    for i in range(0, m):\n",
    "        x_i = (X[i][1:].T).reshape(2,1)\n",
    "        if Y[i][0] == \"Alaska\":\n",
    "            v = x_i - u0\n",
    "        else:\n",
    "            v = x_i - u1\n",
    "        \n",
    "        sigma_Matrix += np.dot(v, v.T)\n",
    "    return sigma_Matrix / m"
   ]
  },
  {
   "cell_type": "code",
   "execution_count": 37,
   "metadata": {},
   "outputs": [
    {
     "name": "stdout",
     "output_type": "stream",
     "text": [
      "100 3\n",
      "[[-0.75529433]\n",
      " [ 0.68509431]] [[ 0.75529433]\n",
      " [-0.68509431]]\n"
     ]
    }
   ],
   "source": [
    "sig = sigma(X, Y)"
   ]
  },
  {
   "cell_type": "code",
   "execution_count": 16,
   "metadata": {},
   "outputs": [
    {
     "data": {
      "text/plain": [
       "array([[ 0.3718491, -1.340194 ]])"
      ]
     },
     "execution_count": 16,
     "metadata": {},
     "output_type": "execute_result"
    }
   ],
   "source": [
    "X[0][1:] - u0.T"
   ]
  },
  {
   "cell_type": "code",
   "execution_count": null,
   "metadata": {},
   "outputs": [],
   "source": [
    "[[-0.75529433]\n",
    " [ 0.68509431]] [[ 0.75529433]\n",
    " [-0.68509431]] [[ 0.42953048 -0.02247228]\n",
    " [-0.02247228  0.53064579]]"
   ]
  },
  {
   "cell_type": "code",
   "execution_count": 284,
   "metadata": {},
   "outputs": [
    {
     "name": "stdout",
     "output_type": "stream",
     "text": [
      "[[-0.75529433]\n",
      " [ 0.68509431]] [[ 0.75529433]\n",
      " [-0.68509431]] [[ 0.42953048 -0.02247228]\n",
      " [-0.02247228  0.53064579]]\n"
     ]
    }
   ],
   "source": [
    "print(u0, u1, sig)"
   ]
  },
  {
   "cell_type": "code",
   "execution_count": 17,
   "metadata": {},
   "outputs": [],
   "source": [
    "# part (b)"
   ]
  },
  {
   "cell_type": "code",
   "execution_count": 18,
   "metadata": {},
   "outputs": [],
   "source": [
    "def getXData(X, Y, val = 0):\n",
    "    m = X.shape[1]\n",
    "    new_x = np.empty((0, m))\n",
    "    for index, row in enumerate(Y):\n",
    "        if row[0] == val:\n",
    "            new_x = np.append(new_x, X[index])\n",
    "    new_x = new_x.reshape((-1,m))   \n",
    "    return new_x     "
   ]
  },
  {
   "cell_type": "code",
   "execution_count": 19,
   "metadata": {},
   "outputs": [],
   "source": [
    "xx0 = getXData(X, Y, val=\"Alaska\")\n",
    "x10 = xx0[:,1]\n",
    "x20 = xx0[:,2]\n",
    "\n",
    "xx1 = getXData(X, Y, val=\"Canada\")\n",
    "x11 = xx1[:,1]\n",
    "x21 = xx1[:,2]"
   ]
  },
  {
   "cell_type": "code",
   "execution_count": null,
   "metadata": {},
   "outputs": [],
   "source": [
    "plt.xlabel()"
   ]
  },
  {
   "cell_type": "code",
   "execution_count": 25,
   "metadata": {},
   "outputs": [
    {
     "data": {
      "text/plain": [
       "<matplotlib.legend.Legend at 0x11f0f2290>"
      ]
     },
     "execution_count": 25,
     "metadata": {},
     "output_type": "execute_result"
    },
    {
     "data": {
      "image/png": "[encoded data removed]",
      "text/plain": [
       "<Figure size 432x288 with 1 Axes>"
      ]
     },
     "metadata": {
      "needs_background": "light"
     },
     "output_type": "display_data"
    }
   ],
   "source": [
    "plt.title(\"GDA - Scatter plot of training data\")\n",
    "plt.scatter(x10, x20,color=\"r\", label=\"Alaska\", marker=\"+\")\n",
    "plt.scatter(x11, x21,color=\"b\", label=\"Canada\", marker=\"*\")\n",
    "plt.legend(loc=\"upper right\")"
   ]
  },
  {
   "cell_type": "code",
   "execution_count": 26,
   "metadata": {},
   "outputs": [],
   "source": [
    "#part(3)"
   ]
  },
  {
   "cell_type": "code",
   "execution_count": 63,
   "metadata": {},
   "outputs": [],
   "source": [
    "def calcCoeff(u0, u1, sig, phy):\n",
    "    #(u0-u1).T * inv(sigma)\n",
    "    sig_inv = np.linalg.inv(sig)\n",
    "    c1 =  np.dot( ((u0-u1).T), sig_inv) \n",
    "    \n",
    "    a_temp1 = np.dot(u1.T, sig_inv)\n",
    "    a_temp2 = np.dot(a_temp1, u1)\n",
    "    \n",
    "    b_temp1 = np.dot(u0.T, sig_inv)\n",
    "    b_temp2 = np.dot(b_temp1, u0)\n",
    "    \n",
    "    b_temp3 = b_temp2 - math.log(phy/(1 - phy))\n",
    "    \n",
    "    c2 = 1/2 *(a_temp2 - b_temp2)\n",
    "    \n",
    "    return (c1, c2)\n",
    "    "
   ]
  },
  {
   "cell_type": "code",
   "execution_count": 65,
   "metadata": {},
   "outputs": [
    {
     "data": {
      "text/plain": [
       "(array([[-3.38925452,  2.43858399]]), array([[-1.11022302e-15]]))"
      ]
     },
     "execution_count": 65,
     "metadata": {},
     "output_type": "execute_result"
    }
   ],
   "source": [
    "calcCoeff(u0, u1, sig, phy)    "
   ]
  },
  {
   "cell_type": "code",
   "execution_count": 303,
   "metadata": {},
   "outputs": [],
   "source": [
    "def plotDecisionBoundry(u0, u1, sig, phy, X, Y):\n",
    "    (A, c) = calcCoeff(u0, u1, sig, phy)\n",
    "    a1 = A[0][0]\n",
    "    a2 = A[0][1]\n",
    "    x1 = X[:, 1].reshape(-1, 1)\n",
    "    x2 = -(c + a1*x1) / a2\n",
    "    print(a1)\n",
    "    print(A[0:,])\n",
    "    \n",
    "    xx0 = getXData(X, Y, val=\"Alaska\")\n",
    "    x10 = xx0[:,1]\n",
    "    x20 = xx0[:,2]\n",
    "    \n",
    "    xx1 = getXData(X, Y, val=\"Canada\")\n",
    "    x11 = xx1[:,1]\n",
    "    x21 = xx1[:,2]\n",
    "    \n",
    "    plt.plot(x1, x2, label=\"Boundry\")\n",
    "    plt.scatter(x10, x20,color=\"r\", label=\"Alaska\", marker=\"+\")\n",
    "    plt.scatter(x11, x21,color=\"b\", label=\"Canada\", marker=\"*\")\n",
    "    plt.title(\"Decision Boundry\")\n",
    "    plt.legend(loc=\"upper right\")\n",
    "#     plt.xlabel(\"x1\")\n",
    "#     plt.ylabel(\"x2\")\n",
    "    \n",
    "    \n",
    "    "
   ]
  },
  {
   "cell_type": "code",
   "execution_count": 305,
   "metadata": {},
   "outputs": [
    {
     "name": "stdout",
     "output_type": "stream",
     "text": [
      "-3.3892545212594527\n",
      "[[-3.38925452  2.43858399]]\n"
     ]
    },
    {
     "data": {
      "image/png": "[encoded data removed]",
      "text/plain": [
       "<Figure size 432x288 with 1 Axes>"
      ]
     },
     "metadata": {
      "needs_background": "light"
     },
     "output_type": "display_data"
    }
   ],
   "source": [
    "plotDecisionBoundry(u0, u1, sig, phy, X, Y)"
   ]
  },
  {
   "cell_type": "code",
   "execution_count": null,
   "metadata": {},
   "outputs": [],
   "source": []
  },
  {
   "cell_type": "code",
   "execution_count": 79,
   "metadata": {},
   "outputs": [],
   "source": [
    "# part(d)"
   ]
  },
  {
   "cell_type": "code",
   "execution_count": 117,
   "metadata": {},
   "outputs": [],
   "source": [
    "def sigmaGeneral(X, Y, value=0):\n",
    "    m = Y.shape[0]\n",
    "    y_count = 0\n",
    "    u = 0\n",
    "#     y_non_zero = np.count_nonzero(Y[:,0])\n",
    "#     y_zero = m - y_non_zero\n",
    "#     print(y_non_zero)\n",
    "#     print(y_zero)\n",
    "    n = X.shape[1]\n",
    "#     print(m ,n)\n",
    "    u0 = mu(X, Y, \"Alaska\")\n",
    "    u1 = mu(X, Y, \"Canada\")\n",
    "    S = \"\"\n",
    "    if value == 0:\n",
    "        S = \"Alaska\"\n",
    "        u = u0\n",
    "    else:\n",
    "        S = \"Canada\"\n",
    "        u = u1\n",
    "\n",
    "  \n",
    "#     print(u0, u1)\n",
    "    sigma_Matrix = 0\n",
    "    for i in range(0, m):\n",
    "        if Y[i][0] == S:\n",
    "            y_count += 1\n",
    "            x_i = (X[i][1:].T).reshape(2,1)\n",
    "            v = x_i - u\n",
    "            sigma_Matrix += np.dot(v, v.T)\n",
    "            \n",
    "#         if Y[i][0] == \"Alaska\":\n",
    "#             v = x_i - u0\n",
    "#         else:\n",
    "#             v = x_i - u1\n",
    "        \n",
    "    print(y_count)\n",
    "    return sigma_Matrix / y_count"
   ]
  },
  {
   "cell_type": "code",
   "execution_count": 118,
   "metadata": {},
   "outputs": [
    {
     "name": "stdout",
     "output_type": "stream",
     "text": [
      "50\n",
      "50\n"
     ]
    }
   ],
   "source": [
    "sigma0 = sigmaGeneral(X, Y, 0)\n",
    "sigma1 = sigmaGeneral(X, Y, 1)"
   ]
  },
  {
   "cell_type": "code",
   "execution_count": 119,
   "metadata": {},
   "outputs": [
    {
     "data": {
      "text/plain": [
       "array([[ 0.38158978, -0.15486516],\n",
       "       [-0.15486516,  0.64773717]])"
      ]
     },
     "execution_count": 119,
     "metadata": {},
     "output_type": "execute_result"
    }
   ],
   "source": [
    "sigma0"
   ]
  },
  {
   "cell_type": "code",
   "execution_count": 120,
   "metadata": {},
   "outputs": [
    {
     "data": {
      "text/plain": [
       "array([[0.47747117, 0.1099206 ],\n",
       "       [0.1099206 , 0.41355441]])"
      ]
     },
     "execution_count": 120,
     "metadata": {},
     "output_type": "execute_result"
    }
   ],
   "source": [
    "sigma1"
   ]
  },
  {
   "cell_type": "code",
   "execution_count": 266,
   "metadata": {},
   "outputs": [],
   "source": [
    "def calcCoeffQuad(sigma0, sigma1, mu0, mu1, phy):\n",
    "    sig0_inv = np.linalg.inv(sigma0)\n",
    "    sig1_inv = np.linalg.inv(sigma1)\n",
    "    \n",
    "    Q = sig0_inv - sig1_inv\n",
    "    \n",
    "    u_0_s_0 = (mu0.T).dot(sig0_inv)\n",
    "    u_1_s_1 = (mu1.T).dot(sig1_inv)\n",
    "    \n",
    "    d_sig0 = np.linalg.det(sigma0)\n",
    "    d_sig1 = np.linalg.det(sigma1)\n",
    "    \n",
    "    L = u_0_s_0 - u_1_s_1\n",
    "    \n",
    "    C = (-u_1_s_1.dot(mu1) + u_0_s_0.dot(mu0))/2 + math.log(phy/(1 - phy)) - (1/2) * (math.log(d_sig1) - math.log(d_sig0))\n",
    "    \n",
    "    return (Q/2, L/2, C)\n"
   ]
  },
  {
   "cell_type": "code",
   "execution_count": 267,
   "metadata": {},
   "outputs": [
    {
     "data": {
      "text/plain": [
       "(array([[ 0.3356739 ,  0.64341817],\n",
       "        [ 0.64341817, -0.43296599]]),\n",
       " array([[-1.9039266 ,  1.42983653]]),\n",
       " array([[-0.58478699]]))"
      ]
     },
     "execution_count": 267,
     "metadata": {},
     "output_type": "execute_result"
    }
   ],
   "source": [
    "calcCoeffQuad(sigma0, sigma1, u0, u1, phy)"
   ]
  },
  {
   "cell_type": "code",
   "execution_count": 268,
   "metadata": {},
   "outputs": [
    {
     "data": {
      "text/plain": [
       "0.5"
      ]
     },
     "execution_count": 268,
     "metadata": {},
     "output_type": "execute_result"
    }
   ],
   "source": [
    "phy"
   ]
  },
  {
   "cell_type": "code",
   "execution_count": 278,
   "metadata": {},
   "outputs": [],
   "source": [
    "def plotQuadDecisionBoundry(u0, u1, sigma0, sigma1, phy, X, Y):\n",
    "    q_coeff = calcCoeffQuad(sigma0, sigma1, u0, u1, phy)\n",
    "    \n",
    "    Q = q_coeff[0]\n",
    "    L = q_coeff[1]\n",
    "    Const_term = q_coeff[2][0][0]\n",
    "    \n",
    "    A = Q[0][0]\n",
    "    B = Q[1][1]\n",
    "    C = 2 * Q[0][1]\n",
    "    D = -2 * L[0][0]\n",
    "    E = -2 * L[0][1]\n",
    "    print(Const_term, A, B, C, D, E)\n",
    "    \n",
    "    \n",
    "    x1 = np.linspace(-2, 2, 400)\n",
    "#     print(x1)\n",
    "    alpha = B\n",
    "    beta = C * x1 + E\n",
    "    gama = A*(x1**2) + D*x1 + Const_term\n",
    "    \n",
    "#     print(alpha, beta, gama)\n",
    "    \n",
    "    \n",
    "    \n",
    "    x2 = solveSqrt(alpha, beta, gama)\n",
    "#     x2 = [solveSqrt(B, C * i + E, A*(i**2) + D*i + Const_term) for i in x1]\n",
    "    \n",
    "    plt.plot(x1, x2)\n"
   ]
  },
  {
   "cell_type": "code",
   "execution_count": 279,
   "metadata": {},
   "outputs": [],
   "source": [
    "def solveSqrt(alpha, beta, gama):\n",
    "#     print(alpha, beta, gama)\n",
    "    return (-beta - np.sqrt(beta**2 - 4*alpha*gama)) / (2 * alpha)"
   ]
  },
  {
   "cell_type": "code",
   "execution_count": 286,
   "metadata": {
    "scrolled": true
   },
   "outputs": [
    {
     "name": "stdout",
     "output_type": "stream",
     "text": [
      "-0.5847869867727319 0.3356738996816149 -0.4329659903108941 1.2868363366568851 3.8078531935404865 -2.8596730626868707\n"
     ]
    },
    {
     "data": {
      "image/png": "[encoded data removed]",
      "text/plain": [
       "<Figure size 432x288 with 1 Axes>"
      ]
     },
     "metadata": {
      "needs_background": "light"
     },
     "output_type": "display_data"
    }
   ],
   "source": [
    "\n",
    "plotQuadDecisionBoundry(u0, u1, sigma0, sigma1, phy, X, Y)\n",
    "plotDecisionBoundry(u0, u1, sig, phy, X, Y)"
   ]
  },
  {
   "cell_type": "code",
   "execution_count": null,
   "metadata": {},
   "outputs": [],
   "source": []
  },
  {
   "cell_type": "code",
   "execution_count": null,
   "metadata": {},
   "outputs": [],
   "source": []
  }
 ],
 "metadata": {
  "kernelspec": {
   "display_name": "Python 3",
   "language": "python",
   "name": "python3"
  },
  "language_info": {
   "codemirror_mode": {
    "name": "ipython",
    "version": 3
   },
   "file_extension": ".py",
   "mimetype": "text/x-python",
   "name": "python",
   "nbconvert_exporter": "python",
   "pygments_lexer": "ipython3",
   "version": "3.7.4"
  }
 },
 "nbformat": 4,
 "nbformat_minor": 2
}
