{
 "cells": [
  {
   "cell_type": "code",
   "execution_count": 1,
   "metadata": {},
   "outputs": [],
   "source": [
    "import pandas as pd\n",
    "import numpy as np\n",
    "import matplotlib.pyplot as plt\n",
    "import matplotlib.animation as animation\n",
    "import matplotlib\n",
    "import time\n",
    "# from timing import time_it as tt\n",
    "from mpl_toolkits.mplot3d import Axes3D\n"
   ]
  },
  {
   "cell_type": "code",
   "execution_count": 2,
   "metadata": {},
   "outputs": [
    {
     "data": {
      "text/plain": [
       "'3.1.1'"
      ]
     },
     "execution_count": 2,
     "metadata": {},
     "output_type": "execute_result"
    }
   ],
   "source": [
    "matplotlib.__version__"
   ]
  },
  {
   "cell_type": "code",
   "execution_count": 3,
   "metadata": {},
   "outputs": [],
   "source": [
    "def loadData():\n",
    "\t'''Load data linearX.csv and linearY.csv\n",
    "\t\tReturn type: dict\n",
    "\t\t{'X': X, 'Y' : Y}\n",
    "\t'''\n",
    "\tX = np.array(pd.read_csv('linearX.csv', header=None))\n",
    "\tY = np.array(pd.read_csv('linearY.csv', header=None))\n",
    "\n",
    "\treturn {'X' : X, 'Y': Y}\n"
   ]
  },
  {
   "cell_type": "code",
   "execution_count": 4,
   "metadata": {},
   "outputs": [],
   "source": [
    "def normalize(V):\n",
    "\t'''Normalizes 1-D numpy vector\n",
    "\t\t(X - mean) / (max - min)\n",
    "\t'''\n",
    "\treturn (V - np.mean(V)) / np.std(V)\n"
   ]
  },
  {
   "cell_type": "code",
   "execution_count": 5,
   "metadata": {},
   "outputs": [],
   "source": [
    "def hypothesis(theta, X):\n",
    "\t'''theta: Vector of parameters\n",
    "\t\t[ θ0 ]\n",
    "\t\t[ θ1 ]\n",
    "\t\t[ .. ] \n",
    "\t\t[ θn ]\n",
    "\n",
    "\tX: Vector of features\n",
    "\t\t[ X0 ]\n",
    "\t\t[ X1 ]\n",
    "\t\t[ .. ] \n",
    "\t\t[ Xn ]\n",
    "\t'''\n",
    "\treturn np.dot(np.transpose(theta), X)\n",
    "\n"
   ]
  },
  {
   "cell_type": "code",
   "execution_count": 6,
   "metadata": {},
   "outputs": [],
   "source": [
    "def designMatrix(X):\n",
    "\t'''\n",
    "\tX:\n",
    "\t\t[x_1_0, x_1_0, ...x_i_0.. x_n_0 ]\n",
    "\t\t[x_1_1, x_1_1, ...x_i_1.. x_n_1 ]\n",
    "\t\t[       .......                 ]\n",
    "\t\t[x_1_m, x_1_m, ...x_i_m.. x_n_m ]\n",
    "\n",
    "\treturn:\n",
    "\t\t[1 x_1_0, x_1_0, ...x_i_0.. x_n_0 ]\n",
    "\t\t[1 x_1_1, x_1_1, ...x_i_1.. x_n_1 ]\n",
    "\t\t[         .......                 ]\n",
    "\t\t[1 x_1_m, x_1_m, ...x_i_m.. x_n_m ]\n",
    "\t'''\n",
    "\tnrow = len(X)\n",
    "\treturn np.append(np.ones((nrow, 1)), X, axis=1)\n",
    "\n"
   ]
  },
  {
   "cell_type": "code",
   "execution_count": 7,
   "metadata": {},
   "outputs": [],
   "source": [
    "def cost(X, Y, theta):\n",
    "\t'''Input:\n",
    "\t\tX = Design Matrix \n",
    "\t\t# h= vector of hypothesis for each exampla x_i (i=0...m) (Vector of Xθ)\n",
    "\t\tY= Output vector\n",
    "        theta = parameter matrix\n",
    "            [θ0]\n",
    "            [θ1]\n",
    "            [θ2]\n",
    "\t\tReturns the cost J(θ)\n",
    "\t\tJ(θ) = 1/2m * Σ(hθ(x_i) - y_i)^2 (i=0...m)\n",
    "\t\tor\n",
    "\t\tJ(θ) = 1/2m * [(Xθ - Y)^t * (Xθ - Y)]\n",
    "\t'''\n",
    "\tm = len(Y)\n",
    "\th = np.dot(X, theta)\n",
    "\n",
    "\treturn (1 / ((2 * m)) * np.sum((h - Y) ** 2))\n"
   ]
  },
  {
   "cell_type": "code",
   "execution_count": 8,
   "metadata": {},
   "outputs": [],
   "source": [
    "cost_arr = []\n",
    "theta0_arr = []\n",
    "theta1_arr = []\n",
    "\n",
    "def gradientDescent(X, Y, eta):\n",
    "\tprint(X.shape, Y.shape)\n",
    "\t'''\n",
    "\tInput:\n",
    "\t\tX= Design Matrix of x\n",
    "\t\tY= Output\n",
    "\t\teta = Learning rate\n",
    "\n",
    "\toutput: θ vector\n",
    "\t\tθ := θ - eta * (1/m) * X^t * (Xθ - Y)\n",
    "\t'''\n",
    "\tm = len(Y)\n",
    "\ttheta_prev = np.zeros((X.shape[1], 1))\n",
    "\tfor i in range(0, 100000):\n",
    "\t\tcost_arr.append(cost(X, Y, theta_prev))\n",
    "\t\ttheta0_arr.append(theta_prev[0][0])\n",
    "\t\ttheta1_arr.append(theta_prev[1][0])\n",
    "\t\th = np.dot(X, theta_prev)\n",
    "\t\ttheta_current = theta_prev - (1 / m) * eta *  np.dot(np.transpose(X), (h - Y))\n",
    "\t\ttheta_prev = theta_current\n",
    "        \n",
    "\n",
    "\treturn theta_current\n"
   ]
  },
  {
   "cell_type": "code",
   "execution_count": 9,
   "metadata": {},
   "outputs": [],
   "source": [
    "data = loadData()"
   ]
  },
  {
   "cell_type": "code",
   "execution_count": 10,
   "metadata": {},
   "outputs": [],
   "source": [
    "X = data['X']"
   ]
  },
  {
   "cell_type": "code",
   "execution_count": 11,
   "metadata": {},
   "outputs": [
    {
     "data": {
      "text/plain": [
       "8.062"
      ]
     },
     "execution_count": 11,
     "metadata": {},
     "output_type": "execute_result"
    }
   ],
   "source": [
    "np.mean(X)"
   ]
  },
  {
   "cell_type": "code",
   "execution_count": 12,
   "metadata": {},
   "outputs": [
    {
     "data": {
      "text/plain": [
       "1.723123907326458"
      ]
     },
     "execution_count": 12,
     "metadata": {},
     "output_type": "execute_result"
    }
   ],
   "source": [
    "np.std(X)"
   ]
  },
  {
   "cell_type": "code",
   "execution_count": 13,
   "metadata": {},
   "outputs": [],
   "source": [
    "X = normalize(X)"
   ]
  },
  {
   "cell_type": "code",
   "execution_count": 14,
   "metadata": {},
   "outputs": [],
   "source": [
    "# cost(desX, Y, np.array([0, 0]))"
   ]
  },
  {
   "cell_type": "code",
   "execution_count": 15,
   "metadata": {},
   "outputs": [],
   "source": [
    "Y = data['Y']"
   ]
  },
  {
   "cell_type": "code",
   "execution_count": 16,
   "metadata": {},
   "outputs": [],
   "source": [
    "desX = designMatrix(X)"
   ]
  },
  {
   "cell_type": "code",
   "execution_count": 17,
   "metadata": {
    "collapsed": true
   },
   "outputs": [
    {
     "data": {
      "text/plain": [
       "array([[ 1.        ,  0.60239429],\n",
       "       [ 1.        , -0.03598116],\n",
       "       [ 1.        ,  0.60239429],\n",
       "       [ 1.        ,  0.19615537],\n",
       "       [ 1.        , -0.67435661],\n",
       "       [ 1.        , -0.21008356],\n",
       "       [ 1.        ,  4.37461286],\n",
       "       [ 1.        , -0.44222008],\n",
       "       [ 1.        , -0.61632248],\n",
       "       [ 1.        , -0.50025422],\n",
       "       [ 1.        ,  1.18273561],\n",
       "       [ 1.        ,  1.99521345],\n",
       "       [ 1.        , -0.55828835],\n",
       "       [ 1.        ,  1.12470147],\n",
       "       [ 1.        ,  0.48632602],\n",
       "       [ 1.        , -0.09401529],\n",
       "       [ 1.        , -1.42880033],\n",
       "       [ 1.        , -1.0225614 ],\n",
       "       [ 1.        , -0.79042488],\n",
       "       [ 1.        ,  1.356838  ],\n",
       "       [ 1.        ,  0.2541895 ],\n",
       "       [ 1.        , -0.38418595],\n",
       "       [ 1.        , -1.0225614 ],\n",
       "       [ 1.        , -1.54486859],\n",
       "       [ 1.        ,  0.48632602],\n",
       "       [ 1.        ,  0.77649668],\n",
       "       [ 1.        , -0.32615182],\n",
       "       [ 1.        ,  2.22734998],\n",
       "       [ 1.        , -0.15204943],\n",
       "       [ 1.        , -0.38418595],\n",
       "       [ 1.        ,  1.58897453],\n",
       "       [ 1.        ,  1.24076974],\n",
       "       [ 1.        , -1.08059553],\n",
       "       [ 1.        , -0.21008356],\n",
       "       [ 1.        ,  3.27196435],\n",
       "       [ 1.        , -0.03598116],\n",
       "       [ 1.        , -0.79042488],\n",
       "       [ 1.        , -0.79042488],\n",
       "       [ 1.        , -0.61632248],\n",
       "       [ 1.        ,  0.13812123],\n",
       "       [ 1.        , -0.38418595],\n",
       "       [ 1.        ,  1.06666734],\n",
       "       [ 1.        , -1.13862967],\n",
       "       [ 1.        , -0.61632248],\n",
       "       [ 1.        , -1.54486859],\n",
       "       [ 1.        ,  1.5309404 ],\n",
       "       [ 1.        , -0.26811769],\n",
       "       [ 1.        ,  0.48632602],\n",
       "       [ 1.        ,  0.66042842],\n",
       "       [ 1.        , -0.84845901],\n",
       "       [ 1.        , -0.50025422],\n",
       "       [ 1.        , -0.03598116],\n",
       "       [ 1.        , -0.15204943],\n",
       "       [ 1.        , -0.09401529],\n",
       "       [ 1.        , -0.61632248],\n",
       "       [ 1.        , -0.61632248],\n",
       "       [ 1.        , -0.26811769],\n",
       "       [ 1.        ,  0.60239429],\n",
       "       [ 1.        ,  0.54436016],\n",
       "       [ 1.        , -0.09401529],\n",
       "       [ 1.        , -0.84845901],\n",
       "       [ 1.        ,  2.22734998],\n",
       "       [ 1.        , -0.90649314],\n",
       "       [ 1.        , -0.55828835],\n",
       "       [ 1.        ,  0.42829189],\n",
       "       [ 1.        , -0.32615182],\n",
       "       [ 1.        , -0.21008356],\n",
       "       [ 1.        , -1.1966638 ],\n",
       "       [ 1.        ,  1.47290627],\n",
       "       [ 1.        , -0.84845901],\n",
       "       [ 1.        ,  0.0800871 ],\n",
       "       [ 1.        , -0.09401529],\n",
       "       [ 1.        , -0.55828835],\n",
       "       [ 1.        , -1.42880033],\n",
       "       [ 1.        , -0.96452727],\n",
       "       [ 1.        , -0.32615182],\n",
       "       [ 1.        ,  1.00863321],\n",
       "       [ 1.        , -0.61632248],\n",
       "       [ 1.        ,  1.41487213],\n",
       "       [ 1.        , -0.55828835],\n",
       "       [ 1.        , -1.08059553],\n",
       "       [ 1.        , -0.90649314],\n",
       "       [ 1.        , -0.21008356],\n",
       "       [ 1.        , -0.50025422],\n",
       "       [ 1.        ,  0.71846255],\n",
       "       [ 1.        ,  0.2541895 ],\n",
       "       [ 1.        , -0.21008356],\n",
       "       [ 1.        , -0.73239074],\n",
       "       [ 1.        , -0.15204943],\n",
       "       [ 1.        ,  0.37025776],\n",
       "       [ 1.        ,  0.89256495],\n",
       "       [ 1.        , -0.50025422],\n",
       "       [ 1.        ,  0.71846255],\n",
       "       [ 1.        ,  0.02205297],\n",
       "       [ 1.        , -0.84845901],\n",
       "       [ 1.        , -0.15204943],\n",
       "       [ 1.        ,  1.24076974],\n",
       "       [ 1.        , -1.13862967],\n",
       "       [ 1.        , -0.44222008],\n",
       "       [ 1.        , -0.44222008]])"
      ]
     },
     "execution_count": 17,
     "metadata": {},
     "output_type": "execute_result"
    }
   ],
   "source": [
    "desX"
   ]
  },
  {
   "cell_type": "code",
   "execution_count": 18,
   "metadata": {},
   "outputs": [],
   "source": [
    "eta = 0.1"
   ]
  },
  {
   "cell_type": "code",
   "execution_count": null,
   "metadata": {},
   "outputs": [],
   "source": []
  },
  {
   "cell_type": "code",
   "execution_count": 19,
   "metadata": {},
   "outputs": [
    {
     "name": "stdout",
     "output_type": "stream",
     "text": [
      "(100, 2) (100, 1)\n"
     ]
    }
   ],
   "source": [
    "theta = gradientDescent(desX, Y, eta)\n",
    "theta_opt = theta.copy()"
   ]
  },
  {
   "cell_type": "code",
   "execution_count": 20,
   "metadata": {},
   "outputs": [
    {
     "data": {
      "text/plain": [
       "array([[0.9966201],\n",
       "       [0.0013402]])"
      ]
     },
     "execution_count": 20,
     "metadata": {},
     "output_type": "execute_result"
    }
   ],
   "source": [
    "theta"
   ]
  },
  {
   "cell_type": "code",
   "execution_count": 37,
   "metadata": {},
   "outputs": [
    {
     "data": {
      "text/plain": [
       "[<matplotlib.lines.Line2D at 0x1297eb450>]"
      ]
     },
     "execution_count": 37,
     "metadata": {},
     "output_type": "execute_result"
    }
   ],
   "source": [
    "plt.plot(cost_arr)"
   ]
  },
  {
   "cell_type": "code",
   "execution_count": 44,
   "metadata": {},
   "outputs": [
    {
     "data": {
      "text/plain": [
       "<matplotlib.legend.Legend at 0x12a8b9bd0>"
      ]
     },
     "execution_count": 44,
     "metadata": {},
     "output_type": "execute_result"
    }
   ],
   "source": [
    "plt.title(\"Linear regression - Hypothesis\")\n",
    "plt.xlabel(\"Acidity\")\n",
    "plt.ylabel(\"Density\")\n",
    "\n",
    "\n",
    "plt.scatter(X, Y)\n",
    "plt.plot(X, np.dot(designMatrix(X), theta), color='r', label=\"line\")\n",
    "plt.legend(loc=\"upper right\")"
   ]
  },
  {
   "cell_type": "code",
   "execution_count": 23,
   "metadata": {},
   "outputs": [],
   "source": [
    "# fig, ax1 = plt.subplots(figsize=(8, 5), \n",
    "#                         subplot_kw={'projection': '3d'})\n",
    "\n",
    "# alpha = 0.8\n",
    "# r = np.linspace(-alpha,alpha,100)\n",
    "# X,Y= np.meshgrid(r,r)\n",
    "# l = 1./(1+np.exp(-(X**2+Y**2)))\n",
    "\n",
    "# ax1.plot_wireframe(X,Y,l)\n",
    "# ax1.set_title(\"plot\")\n",
    "\n",
    "# plt.show()\n",
    "\n",
    "\n"
   ]
  },
  {
   "cell_type": "code",
   "execution_count": 39,
   "metadata": {},
   "outputs": [
    {
     "name": "stdout",
     "output_type": "stream",
     "text": [
      "Using matplotlib backend: MacOSX\n"
     ]
    }
   ],
   "source": [
    "# Plot Katora\n",
    "%matplotlib\n",
    "# np.linspace(-1, 1, 100)\n",
    "# t1, t2 = np.meshgrid(r, r)\n",
    "# print(t2.shape)\n",
    "# j = cost(desX, Y, )\n",
    "theta0_center = theta_opt[0][0]\n",
    "theta1_center = theta_opt[1][0]\n",
    "\n",
    "theta0_axis = np.linspace(theta0_center -5 , theta0_center + 5, 100)\n",
    "theta1_axis = np.linspace(theta1_center -5 , theta1_center + 5, 100)\n",
    "\n",
    "cost_axis = []\n",
    "\n",
    "for e1 in theta0_axis:\n",
    "    v = []\n",
    "    for e2 in theta1_axis:\n",
    "        theta_vec = np.array([e1, e2])\n",
    "        c = cost(desX, Y, theta_vec)\n",
    "        v.append(c)\n",
    "    cost_axis.append(v)\n",
    "\n",
    "# print(np.array(cost_axis))\n",
    "theta0_axis = np.array(theta0_axis)\n",
    "theta1_axis = np.array(theta1_axis)\n",
    "\n",
    "meshX, meshY = np.meshgrid(theta0_axis, theta1_axis)\n",
    "\n",
    "    \n",
    "    \n",
    "fig = plt.figure()\n",
    "ax = plt.axes(projection='3d')\n",
    "\n",
    "ax.plot_surface(meshX, meshY, np.array(cost_axis),cmap='viridis', edgecolor='none')\n",
    "# ax.set_title('Surface plot')\n",
    "plt.show()\n"
   ]
  },
  {
   "cell_type": "code",
   "execution_count": 53,
   "metadata": {},
   "outputs": [
    {
     "name": "stdout",
     "output_type": "stream",
     "text": [
      "Using matplotlib backend: MacOSX\n"
     ]
    },
    {
     "ename": "AttributeError",
     "evalue": "'Poly3DCollection' object has no attribute '_edgecolors2d'",
     "output_type": "error",
     "traceback": [
      "\u001b[0;31m---------------------------------------------------------------------------\u001b[0m",
      "\u001b[0;31mAttributeError\u001b[0m                            Traceback (most recent call last)",
      "\u001b[0;32m<ipython-input-53-ffa6d33ad512>\u001b[0m in \u001b[0;36m<module>\u001b[0;34m\u001b[0m\n\u001b[1;32m     56\u001b[0m \u001b[0;31m# ax.legend()\u001b[0m\u001b[0;34m\u001b[0m\u001b[0;34m\u001b[0m\u001b[0;34m\u001b[0m\u001b[0m\n\u001b[1;32m     57\u001b[0m \u001b[0max\u001b[0m\u001b[0;34m.\u001b[0m\u001b[0mset_xlabel\u001b[0m\u001b[0;34m(\u001b[0m\u001b[0;34m\"θ1\"\u001b[0m\u001b[0;34m)\u001b[0m\u001b[0;34m\u001b[0m\u001b[0;34m\u001b[0m\u001b[0m\n\u001b[0;32m---> 58\u001b[0;31m \u001b[0mplt\u001b[0m\u001b[0;34m.\u001b[0m\u001b[0mlegend\u001b[0m\u001b[0;34m(\u001b[0m\u001b[0mloc\u001b[0m\u001b[0;34m=\u001b[0m\u001b[0;34m\"upper right\"\u001b[0m\u001b[0;34m)\u001b[0m\u001b[0;34m\u001b[0m\u001b[0;34m\u001b[0m\u001b[0m\n\u001b[0m\u001b[1;32m     59\u001b[0m \u001b[0mplt\u001b[0m\u001b[0;34m.\u001b[0m\u001b[0mshow\u001b[0m\u001b[0;34m(\u001b[0m\u001b[0;34m)\u001b[0m\u001b[0;34m\u001b[0m\u001b[0;34m\u001b[0m\u001b[0m\n\u001b[1;32m     60\u001b[0m \u001b[0;34m\u001b[0m\u001b[0m\n",
      "\u001b[0;32m~/Desktop/Anaconda3/anaconda3/lib/python3.7/site-packages/matplotlib/pyplot.py\u001b[0m in \u001b[0;36mlegend\u001b[0;34m(*args, **kwargs)\u001b[0m\n\u001b[1;32m   2689\u001b[0m \u001b[0;34m@\u001b[0m\u001b[0mdocstring\u001b[0m\u001b[0;34m.\u001b[0m\u001b[0mcopy\u001b[0m\u001b[0;34m(\u001b[0m\u001b[0mAxes\u001b[0m\u001b[0;34m.\u001b[0m\u001b[0mlegend\u001b[0m\u001b[0;34m)\u001b[0m\u001b[0;34m\u001b[0m\u001b[0;34m\u001b[0m\u001b[0m\n\u001b[1;32m   2690\u001b[0m \u001b[0;32mdef\u001b[0m \u001b[0mlegend\u001b[0m\u001b[0;34m(\u001b[0m\u001b[0;34m*\u001b[0m\u001b[0margs\u001b[0m\u001b[0;34m,\u001b[0m \u001b[0;34m**\u001b[0m\u001b[0mkwargs\u001b[0m\u001b[0;34m)\u001b[0m\u001b[0;34m:\u001b[0m\u001b[0;34m\u001b[0m\u001b[0;34m\u001b[0m\u001b[0m\n\u001b[0;32m-> 2691\u001b[0;31m     \u001b[0;32mreturn\u001b[0m \u001b[0mgca\u001b[0m\u001b[0;34m(\u001b[0m\u001b[0;34m)\u001b[0m\u001b[0;34m.\u001b[0m\u001b[0mlegend\u001b[0m\u001b[0;34m(\u001b[0m\u001b[0;34m*\u001b[0m\u001b[0margs\u001b[0m\u001b[0;34m,\u001b[0m \u001b[0;34m**\u001b[0m\u001b[0mkwargs\u001b[0m\u001b[0;34m)\u001b[0m\u001b[0;34m\u001b[0m\u001b[0;34m\u001b[0m\u001b[0m\n\u001b[0m\u001b[1;32m   2692\u001b[0m \u001b[0;34m\u001b[0m\u001b[0m\n\u001b[1;32m   2693\u001b[0m \u001b[0;34m\u001b[0m\u001b[0m\n",
      "\u001b[0;32m~/Desktop/Anaconda3/anaconda3/lib/python3.7/site-packages/matplotlib/axes/_axes.py\u001b[0m in \u001b[0;36mlegend\u001b[0;34m(self, *args, **kwargs)\u001b[0m\n\u001b[1;32m    404\u001b[0m         \u001b[0;32mif\u001b[0m \u001b[0mlen\u001b[0m\u001b[0;34m(\u001b[0m\u001b[0mextra_args\u001b[0m\u001b[0;34m)\u001b[0m\u001b[0;34m:\u001b[0m\u001b[0;34m\u001b[0m\u001b[0;34m\u001b[0m\u001b[0m\n\u001b[1;32m    405\u001b[0m             \u001b[0;32mraise\u001b[0m \u001b[0mTypeError\u001b[0m\u001b[0;34m(\u001b[0m\u001b[0;34m'legend only accepts two non-keyword arguments'\u001b[0m\u001b[0;34m)\u001b[0m\u001b[0;34m\u001b[0m\u001b[0;34m\u001b[0m\u001b[0m\n\u001b[0;32m--> 406\u001b[0;31m         \u001b[0mself\u001b[0m\u001b[0;34m.\u001b[0m\u001b[0mlegend_\u001b[0m \u001b[0;34m=\u001b[0m \u001b[0mmlegend\u001b[0m\u001b[0;34m.\u001b[0m\u001b[0mLegend\u001b[0m\u001b[0;34m(\u001b[0m\u001b[0mself\u001b[0m\u001b[0;34m,\u001b[0m \u001b[0mhandles\u001b[0m\u001b[0;34m,\u001b[0m \u001b[0mlabels\u001b[0m\u001b[0;34m,\u001b[0m \u001b[0;34m**\u001b[0m\u001b[0mkwargs\u001b[0m\u001b[0;34m)\u001b[0m\u001b[0;34m\u001b[0m\u001b[0;34m\u001b[0m\u001b[0m\n\u001b[0m\u001b[1;32m    407\u001b[0m         \u001b[0mself\u001b[0m\u001b[0;34m.\u001b[0m\u001b[0mlegend_\u001b[0m\u001b[0;34m.\u001b[0m\u001b[0m_remove_method\u001b[0m \u001b[0;34m=\u001b[0m \u001b[0mself\u001b[0m\u001b[0;34m.\u001b[0m\u001b[0m_remove_legend\u001b[0m\u001b[0;34m\u001b[0m\u001b[0;34m\u001b[0m\u001b[0m\n\u001b[1;32m    408\u001b[0m         \u001b[0;32mreturn\u001b[0m \u001b[0mself\u001b[0m\u001b[0;34m.\u001b[0m\u001b[0mlegend_\u001b[0m\u001b[0;34m\u001b[0m\u001b[0;34m\u001b[0m\u001b[0m\n",
      "\u001b[0;32m~/Desktop/Anaconda3/anaconda3/lib/python3.7/site-packages/matplotlib/legend.py\u001b[0m in \u001b[0;36m__init__\u001b[0;34m(self, parent, handles, labels, loc, numpoints, markerscale, markerfirst, scatterpoints, scatteryoffsets, prop, fontsize, borderpad, labelspacing, handlelength, handleheight, handletextpad, borderaxespad, columnspacing, ncol, mode, fancybox, shadow, title, title_fontsize, framealpha, edgecolor, facecolor, bbox_to_anchor, bbox_transform, frameon, handler_map)\u001b[0m\n\u001b[1;32m    573\u001b[0m \u001b[0;34m\u001b[0m\u001b[0m\n\u001b[1;32m    574\u001b[0m         \u001b[0;31m# init with null renderer\u001b[0m\u001b[0;34m\u001b[0m\u001b[0;34m\u001b[0m\u001b[0;34m\u001b[0m\u001b[0m\n\u001b[0;32m--> 575\u001b[0;31m         \u001b[0mself\u001b[0m\u001b[0;34m.\u001b[0m\u001b[0m_init_legend_box\u001b[0m\u001b[0;34m(\u001b[0m\u001b[0mhandles\u001b[0m\u001b[0;34m,\u001b[0m \u001b[0mlabels\u001b[0m\u001b[0;34m,\u001b[0m \u001b[0mmarkerfirst\u001b[0m\u001b[0;34m)\u001b[0m\u001b[0;34m\u001b[0m\u001b[0;34m\u001b[0m\u001b[0m\n\u001b[0m\u001b[1;32m    576\u001b[0m \u001b[0;34m\u001b[0m\u001b[0m\n\u001b[1;32m    577\u001b[0m         \u001b[0;31m# If shadow is activated use framealpha if not\u001b[0m\u001b[0;34m\u001b[0m\u001b[0;34m\u001b[0m\u001b[0;34m\u001b[0m\u001b[0m\n",
      "\u001b[0;32m~/Desktop/Anaconda3/anaconda3/lib/python3.7/site-packages/matplotlib/legend.py\u001b[0m in \u001b[0;36m_init_legend_box\u001b[0;34m(self, handles, labels, markerfirst)\u001b[0m\n\u001b[1;32m    831\u001b[0m                 \u001b[0;31m# original artist/handle.\u001b[0m\u001b[0;34m\u001b[0m\u001b[0;34m\u001b[0m\u001b[0;34m\u001b[0m\u001b[0m\n\u001b[1;32m    832\u001b[0m                 handle_list.append(handler.legend_artist(self, orig_handle,\n\u001b[0;32m--> 833\u001b[0;31m                                                          fontsize, handlebox))\n\u001b[0m\u001b[1;32m    834\u001b[0m                 \u001b[0mhandles_and_labels\u001b[0m\u001b[0;34m.\u001b[0m\u001b[0mappend\u001b[0m\u001b[0;34m(\u001b[0m\u001b[0;34m(\u001b[0m\u001b[0mhandlebox\u001b[0m\u001b[0;34m,\u001b[0m \u001b[0mtextbox\u001b[0m\u001b[0;34m)\u001b[0m\u001b[0;34m)\u001b[0m\u001b[0;34m\u001b[0m\u001b[0;34m\u001b[0m\u001b[0m\n\u001b[1;32m    835\u001b[0m \u001b[0;34m\u001b[0m\u001b[0m\n",
      "\u001b[0;32m~/Desktop/Anaconda3/anaconda3/lib/python3.7/site-packages/matplotlib/legend_handler.py\u001b[0m in \u001b[0;36mlegend_artist\u001b[0;34m(self, legend, orig_handle, fontsize, handlebox)\u001b[0m\n\u001b[1;32m    113\u001b[0m         artists = self.create_artists(legend, orig_handle,\n\u001b[1;32m    114\u001b[0m                                       \u001b[0mxdescent\u001b[0m\u001b[0;34m,\u001b[0m \u001b[0mydescent\u001b[0m\u001b[0;34m,\u001b[0m \u001b[0mwidth\u001b[0m\u001b[0;34m,\u001b[0m \u001b[0mheight\u001b[0m\u001b[0;34m,\u001b[0m\u001b[0;34m\u001b[0m\u001b[0;34m\u001b[0m\u001b[0m\n\u001b[0;32m--> 115\u001b[0;31m                                       fontsize, handlebox.get_transform())\n\u001b[0m\u001b[1;32m    116\u001b[0m \u001b[0;34m\u001b[0m\u001b[0m\n\u001b[1;32m    117\u001b[0m         \u001b[0;31m# create_artists will return a list of artists.\u001b[0m\u001b[0;34m\u001b[0m\u001b[0;34m\u001b[0m\u001b[0;34m\u001b[0m\u001b[0m\n",
      "\u001b[0;32m~/Desktop/Anaconda3/anaconda3/lib/python3.7/site-packages/matplotlib/legend_handler.py\u001b[0m in \u001b[0;36mcreate_artists\u001b[0;34m(self, legend, orig_handle, xdescent, ydescent, width, height, fontsize, trans)\u001b[0m\n\u001b[1;32m    744\u001b[0m         p = Rectangle(xy=(-xdescent, -ydescent),\n\u001b[1;32m    745\u001b[0m                       width=width, height=height)\n\u001b[0;32m--> 746\u001b[0;31m         \u001b[0mself\u001b[0m\u001b[0;34m.\u001b[0m\u001b[0mupdate_prop\u001b[0m\u001b[0;34m(\u001b[0m\u001b[0mp\u001b[0m\u001b[0;34m,\u001b[0m \u001b[0morig_handle\u001b[0m\u001b[0;34m,\u001b[0m \u001b[0mlegend\u001b[0m\u001b[0;34m)\u001b[0m\u001b[0;34m\u001b[0m\u001b[0;34m\u001b[0m\u001b[0m\n\u001b[0m\u001b[1;32m    747\u001b[0m         \u001b[0mp\u001b[0m\u001b[0;34m.\u001b[0m\u001b[0mset_transform\u001b[0m\u001b[0;34m(\u001b[0m\u001b[0mtrans\u001b[0m\u001b[0;34m)\u001b[0m\u001b[0;34m\u001b[0m\u001b[0;34m\u001b[0m\u001b[0m\n\u001b[1;32m    748\u001b[0m         \u001b[0;32mreturn\u001b[0m \u001b[0;34m[\u001b[0m\u001b[0mp\u001b[0m\u001b[0;34m]\u001b[0m\u001b[0;34m\u001b[0m\u001b[0;34m\u001b[0m\u001b[0m\n",
      "\u001b[0;32m~/Desktop/Anaconda3/anaconda3/lib/python3.7/site-packages/matplotlib/legend_handler.py\u001b[0m in \u001b[0;36mupdate_prop\u001b[0;34m(self, legend_handle, orig_handle, legend)\u001b[0m\n\u001b[1;32m     70\u001b[0m     \u001b[0;32mdef\u001b[0m \u001b[0mupdate_prop\u001b[0m\u001b[0;34m(\u001b[0m\u001b[0mself\u001b[0m\u001b[0;34m,\u001b[0m \u001b[0mlegend_handle\u001b[0m\u001b[0;34m,\u001b[0m \u001b[0morig_handle\u001b[0m\u001b[0;34m,\u001b[0m \u001b[0mlegend\u001b[0m\u001b[0;34m)\u001b[0m\u001b[0;34m:\u001b[0m\u001b[0;34m\u001b[0m\u001b[0;34m\u001b[0m\u001b[0m\n\u001b[1;32m     71\u001b[0m \u001b[0;34m\u001b[0m\u001b[0m\n\u001b[0;32m---> 72\u001b[0;31m         \u001b[0mself\u001b[0m\u001b[0;34m.\u001b[0m\u001b[0m_update_prop\u001b[0m\u001b[0;34m(\u001b[0m\u001b[0mlegend_handle\u001b[0m\u001b[0;34m,\u001b[0m \u001b[0morig_handle\u001b[0m\u001b[0;34m)\u001b[0m\u001b[0;34m\u001b[0m\u001b[0;34m\u001b[0m\u001b[0m\n\u001b[0m\u001b[1;32m     73\u001b[0m \u001b[0;34m\u001b[0m\u001b[0m\n\u001b[1;32m     74\u001b[0m         \u001b[0mlegend\u001b[0m\u001b[0;34m.\u001b[0m\u001b[0m_set_artist_props\u001b[0m\u001b[0;34m(\u001b[0m\u001b[0mlegend_handle\u001b[0m\u001b[0;34m)\u001b[0m\u001b[0;34m\u001b[0m\u001b[0;34m\u001b[0m\u001b[0m\n",
      "\u001b[0;32m~/Desktop/Anaconda3/anaconda3/lib/python3.7/site-packages/matplotlib/legend_handler.py\u001b[0m in \u001b[0;36m_update_prop\u001b[0;34m(self, legend_handle, orig_handle)\u001b[0m\n\u001b[1;32m    727\u001b[0m                 \u001b[0;32mreturn\u001b[0m \u001b[0;32mNone\u001b[0m\u001b[0;34m\u001b[0m\u001b[0;34m\u001b[0m\u001b[0m\n\u001b[1;32m    728\u001b[0m         edgecolor = getattr(orig_handle, '_original_edgecolor',\n\u001b[0;32m--> 729\u001b[0;31m                             orig_handle.get_edgecolor())\n\u001b[0m\u001b[1;32m    730\u001b[0m         \u001b[0mlegend_handle\u001b[0m\u001b[0;34m.\u001b[0m\u001b[0mset_edgecolor\u001b[0m\u001b[0;34m(\u001b[0m\u001b[0mfirst_color\u001b[0m\u001b[0;34m(\u001b[0m\u001b[0medgecolor\u001b[0m\u001b[0;34m)\u001b[0m\u001b[0;34m)\u001b[0m\u001b[0;34m\u001b[0m\u001b[0;34m\u001b[0m\u001b[0m\n\u001b[1;32m    731\u001b[0m         facecolor = getattr(orig_handle, '_original_facecolor',\n",
      "\u001b[0;32m~/Desktop/Anaconda3/anaconda3/lib/python3.7/site-packages/mpl_toolkits/mplot3d/art3d.py\u001b[0m in \u001b[0;36mget_edgecolor\u001b[0;34m(self)\u001b[0m\n\u001b[1;32m    774\u001b[0m \u001b[0;34m\u001b[0m\u001b[0m\n\u001b[1;32m    775\u001b[0m     \u001b[0;32mdef\u001b[0m \u001b[0mget_edgecolor\u001b[0m\u001b[0;34m(\u001b[0m\u001b[0mself\u001b[0m\u001b[0;34m)\u001b[0m\u001b[0;34m:\u001b[0m\u001b[0;34m\u001b[0m\u001b[0;34m\u001b[0m\u001b[0m\n\u001b[0;32m--> 776\u001b[0;31m         \u001b[0;32mreturn\u001b[0m \u001b[0mself\u001b[0m\u001b[0;34m.\u001b[0m\u001b[0m_edgecolors2d\u001b[0m\u001b[0;34m\u001b[0m\u001b[0;34m\u001b[0m\u001b[0m\n\u001b[0m\u001b[1;32m    777\u001b[0m \u001b[0;34m\u001b[0m\u001b[0m\n\u001b[1;32m    778\u001b[0m \u001b[0;34m\u001b[0m\u001b[0m\n",
      "\u001b[0;31mAttributeError\u001b[0m: 'Poly3DCollection' object has no attribute '_edgecolors2d'"
     ]
    }
   ],
   "source": [
    "%matplotlib\n",
    "# Animation \n",
    "theta0_center = theta_opt[0][0]\n",
    "theta1_center = theta_opt[1][0]\n",
    "\n",
    "theta0_axis = np.linspace(theta0_center -1 , theta0_center + 1, 100)\n",
    "theta1_axis = np.linspace(theta1_center -1 , theta1_center + 1, 100)\n",
    "\n",
    "\n",
    "\n",
    "# print(np.array(cost_axis))\n",
    "theta0_axis = np.array(theta0_axis)\n",
    "theta1_axis = np.array(theta1_axis)\n",
    "\n",
    "meshX, meshY = np.meshgrid(theta0_axis, theta1_axis)\n",
    "\n",
    "cost_axis = []\n",
    "\n",
    "for e1 in range((meshX.shape[0])):\n",
    "    v = []\n",
    "    for e2 in range(meshY.shape[0]):\n",
    "        theta_vec = np.array([[meshX[e1][e2]], [meshY[e1][e2]]])\n",
    "        c = cost(desX, Y, theta_vec)\n",
    "        v.append(c)\n",
    "    cost_axis.append(v)    \n",
    "\n",
    "fig = plt.figure()\n",
    "ax = plt.axes(projection='3d')\n",
    "\n",
    "ax.plot_surface(meshX, meshY, np.array(cost_axis),cmap='viridis', edgecolor='none',  label=\"Cost\")\n",
    "\n",
    "# fig1 = plt.figure()\n",
    "# line, = ax.plot([], [], lw=2)\n",
    "# def init():\n",
    "#     line.set_data([], [])\n",
    "#     return line,\n",
    "# def animate(i):\n",
    "#     x = np.linspace(0, 2, 1000)\n",
    "#     y = np.sin(2 * np.pi * (x - 0.01 * i))\n",
    "#     line.set_data(x, y)\n",
    "#     return line,\n",
    "# anim = animation.FuncAnimation(fig, animate, init_func=init,\n",
    "#                                frames=200, interval=20, blit=True)\n",
    "# line, = ax.plot([], [], [], lw=2)\n",
    "\n",
    "# def initLine():\n",
    "#     line.set_data([], [])\n",
    "#     line.set_3d_properties([])\n",
    "#     return line\n",
    "\n",
    "def animate(i, theta0_arr, theta1_arr, cost_arr):\n",
    "    line, = plt.plot(theta0_arr[:i], theta1_arr[:i], cost_arr[:i], color=\"red\")\n",
    "    return line,\n",
    "\n",
    "anim = animation.FuncAnimation(fig, animate, frames=len(cost_arr), fargs=(theta0_arr, theta1_arr, cost_arr), interval=200)\n",
    "# ax.legend()\n",
    "plt.show()\n",
    "\n"
   ]
  },
  {
   "cell_type": "code",
   "execution_count": 26,
   "metadata": {},
   "outputs": [],
   "source": [
    "#contour plot"
   ]
  },
  {
   "cell_type": "code",
   "execution_count": 27,
   "metadata": {},
   "outputs": [],
   "source": [
    "# Animation \n",
    "# theta0_center = theta_opt[0][0]\n",
    "# theta1_center = theta_opt[1][0]\n",
    "\n",
    "# theta0_axis = np.linspace(theta0_center -1 , theta0_center + 1, 100)\n",
    "# theta1_axis = np.linspace(theta1_center -1 , theta1_center + 1, 100)\n",
    "\n",
    "\n",
    "\n",
    "# # print(np.array(cost_axis))\n",
    "# theta0_axis = np.array(theta0_axis)\n",
    "# theta1_axis = np.array(theta1_axis)\n",
    "\n",
    "# meshX, meshY = np.meshgrid(theta0_axis, theta1_axis)\n",
    "\n",
    "# cost_axis = []\n",
    "\n",
    "# for e1 in range((meshX.shape[0])):\n",
    "#     v = []\n",
    "#     for e2 in range(meshY.shape[0]):\n",
    "#         theta_vec = np.array([[meshX[e1][e2]], [meshY[e1][e2]]])\n",
    "#         c = cost(desX, Y, theta_vec)\n",
    "#         v.append(c)\n",
    "#     cost_axis.append(v)    \n",
    "\n",
    "# fig2 = plt.figure()\n",
    "# ax = plt.axes(projection='3d')\n",
    "# #\n",
    "# plt.contourf(meshX, meshY, np.array(cost_axis),cmap='viridis', zdir = 'z')\n",
    "\n",
    "# # fig1 = plt.figure()\n",
    "# # line, = ax.plot([], [], lw=2)\n",
    "# # def init():\n",
    "# #     line.set_data([], [])\n",
    "# #     return line,\n",
    "# # def animate(i):\n",
    "# #     x = np.linspace(0, 2, 1000)\n",
    "# #     y = np.sin(2 * np.pi * (x - 0.01 * i))\n",
    "# #     line.set_data(x, y)\n",
    "# #     return line,\n",
    "# # anim = animation.FuncAnimation(fig, animate, init_func=init,\n",
    "# #                                frames=200, interval=20, blit=True)\n",
    "# # line, = ax.plot([], [], [], lw=2)\n",
    "\n",
    "# # def initLine():\n",
    "# #     line.set_data([], [])\n",
    "# #     line.set_3d_properties([])\n",
    "# #     return line\n",
    "\n",
    "# def animate(i, theta0_arr, theta1_arr, cost_arr):\n",
    "#     line, = plt.plot(theta0_arr[:i], theta1_arr[:i], cost_arr[:i], color=\"red\")\n",
    "#     return line\n",
    "\n",
    "# anim = animation.FuncAnimation(fig2, animate, frames=len(cost_arr), fargs=(theta0_arr, theta1_arr, cost_arr), interval=200)\n",
    "\n",
    "# plt.show()\n"
   ]
  },
  {
   "cell_type": "code",
   "execution_count": 54,
   "metadata": {},
   "outputs": [
    {
     "name": "stdout",
     "output_type": "stream",
     "text": [
      "Using matplotlib backend: MacOSX\n"
     ]
    }
   ],
   "source": [
    "%matplotlib\n",
    "fig3 = plt.figure()\n",
    "plt.contour(meshX, meshY, np.array(cost_axis))\n",
    "def animate(i, theta0_arr, theta1_arr):\n",
    "    line, = plt.plot(theta0_arr[:i], theta1_arr[:i], color=\"red\")\n",
    "    return line,\n",
    "\n",
    "anim = animation.FuncAnimation(fig3, animate, frames=len(cost_arr), fargs=(theta0_arr, theta1_arr), interval=200)\n",
    "plt.show()"
   ]
  },
  {
   "cell_type": "code",
   "execution_count": null,
   "metadata": {},
   "outputs": [],
   "source": []
  }
 ],
 "metadata": {
  "kernelspec": {
   "display_name": "Python 3",
   "language": "python",
   "name": "python3"
  },
  "language_info": {
   "codemirror_mode": {
    "name": "ipython",
    "version": 3
   },
   "file_extension": ".py",
   "mimetype": "text/x-python",
   "name": "python",
   "nbconvert_exporter": "python",
   "pygments_lexer": "ipython3",
   "version": "3.7.4"
  }
 },
 "nbformat": 4,
 "nbformat_minor": 2
}
