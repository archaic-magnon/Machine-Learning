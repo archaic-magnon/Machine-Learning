{
 "cells": [
  {
   "cell_type": "code",
   "execution_count": 1,
   "metadata": {},
   "outputs": [],
   "source": [
    "import pandas as pd\n",
    "import numpy as np\n",
    "import matplotlib.pyplot as plt\n",
    "import matplotlib.animation as animation\n",
    "import matplotlib\n",
    "import time\n",
    "# from timing import time_it as tt\n",
    "from mpl_toolkits.mplot3d import Axes3D\n",
    "import math"
   ]
  },
  {
   "cell_type": "code",
   "execution_count": 2,
   "metadata": {},
   "outputs": [],
   "source": [
    "def loadData():\n",
    "\t'''Load data logisticX.csv and logisticY.csv\n",
    "\t\tReturn type: dict\n",
    "\t\t{'X': X, 'Y' : Y}\n",
    "\t'''\n",
    "\tX = np.array(pd.read_csv('logisticX.csv', header=None))\n",
    "\tY = np.array(pd.read_csv('logisticY.csv', header=None))\n",
    "\n",
    "\treturn {'X' : X, 'Y': Y}"
   ]
  },
  {
   "cell_type": "code",
   "execution_count": 15,
   "metadata": {},
   "outputs": [],
   "source": [
    "def normalize(V):\n",
    "\t'''Normalizes 1-D numpy vector\n",
    "\t\t(X - mean) / (max - min)\n",
    "\t'''\n",
    "\treturn (V - np.mean(V, axis=0)) / np.std(V, axis=0)\n"
   ]
  },
  {
   "cell_type": "code",
   "execution_count": 16,
   "metadata": {},
   "outputs": [],
   "source": [
    "def designMatrix(X):\n",
    "\t'''\n",
    "\tX:\n",
    "\t\t[x_1_0, x_1_0, ...x_i_0.. x_n_0 ]\n",
    "\t\t[x_1_1, x_1_1, ...x_i_1.. x_n_1 ]\n",
    "\t\t[       .......                 ]\n",
    "\t\t[x_1_m, x_1_m, ...x_i_m.. x_n_m ]\n",
    "\n",
    "\treturn:\n",
    "\t\t[1 x_1_0, x_1_0, ...x_i_0.. x_n_0 ]\n",
    "\t\t[1 x_1_1, x_1_1, ...x_i_1.. x_n_1 ]\n",
    "\t\t[         .......                 ]\n",
    "\t\t[1 x_1_m, x_1_m, ...x_i_m.. x_n_m ]\n",
    "\t'''\n",
    "\tnrow = len(X)\n",
    "\treturn np.append(np.ones((nrow, 1)), X, axis=1)"
   ]
  },
  {
   "cell_type": "code",
   "execution_count": 17,
   "metadata": {},
   "outputs": [],
   "source": [
    "def sigmoid(X, theta):\n",
    "    return 1 / (1 + np.exp(-1 * np.dot(X, theta)))"
   ]
  },
  {
   "cell_type": "code",
   "execution_count": 18,
   "metadata": {},
   "outputs": [],
   "source": [
    "def hessian(X, theta):\n",
    "    sigm = sigmoid(X, theta)\n",
    "    sigm1 = (1 - sigm)\n",
    "    a = sigm * sigm1\n",
    "    D = np.diag(a.T[0])\n",
    "#     print(sigm.shape)\n",
    "#     print(sigm1.shape)\n",
    "    return -1 *(X.T @ D @ X)\n",
    " "
   ]
  },
  {
   "cell_type": "code",
   "execution_count": 19,
   "metadata": {},
   "outputs": [],
   "source": [
    "def deltaLL(X, Y, theta):\n",
    "   return (X.T @ (Y - sigmoid(X, theta)))"
   ]
  },
  {
   "cell_type": "code",
   "execution_count": 20,
   "metadata": {},
   "outputs": [],
   "source": [
    "def converge(theta1, theta2):\n",
    "    if (abs(theta1 - theta2).all() < 1e-15):\n",
    "        return True\n",
    "    else:\n",
    "        return False"
   ]
  },
  {
   "cell_type": "code",
   "execution_count": 77,
   "metadata": {},
   "outputs": [],
   "source": [
    "def newton(X, Y):\n",
    "    m = X.shape[1]\n",
    "    theta_prev = np.ones((m,1))\n",
    "    theta_current = np.zeros((m,1))\n",
    "    while(not converge(theta_current, theta_prev)):\n",
    "        theta_prev = theta_current.copy()\n",
    "        H = hessian(X, theta_prev)\n",
    "        d_ll_theta = deltaLL(X, Y, theta_prev)\n",
    "        if np.linalg.det(H) == 0:\n",
    "            theta = theta_prev - (np.linalg.pinv(H) @ d_ll_theta)\n",
    "        else:\n",
    "            theta = theta_prev - (np.linalg.inv(H) @ d_ll_theta)\n",
    "        theta_current = theta.copy()\n",
    "    return theta_current\n",
    "    "
   ]
  },
  {
   "cell_type": "code",
   "execution_count": 78,
   "metadata": {},
   "outputs": [],
   "source": [
    "X = designMatrix(normalize(loadData()['X']))\n",
    "Y = loadData()['Y']\n",
    "m = X.shape[1]\n"
   ]
  },
  {
   "cell_type": "code",
   "execution_count": 79,
   "metadata": {},
   "outputs": [],
   "source": [
    "theta = np.zeros((m,1))"
   ]
  },
  {
   "cell_type": "code",
   "execution_count": 80,
   "metadata": {},
   "outputs": [],
   "source": [
    "H = hessian(X, theta)"
   ]
  },
  {
   "cell_type": "code",
   "execution_count": 190,
   "metadata": {},
   "outputs": [],
   "source": [
    "theta_opt = newton(X, Y)"
   ]
  },
  {
   "cell_type": "code",
   "execution_count": 191,
   "metadata": {},
   "outputs": [
    {
     "data": {
      "text/plain": [
       "array([[ 0.40125316],\n",
       "       [ 2.5885477 ],\n",
       "       [-2.72558849]])"
      ]
     },
     "execution_count": 191,
     "metadata": {},
     "output_type": "execute_result"
    }
   ],
   "source": [
    "theta_opt"
   ]
  },
  {
   "cell_type": "code",
   "execution_count": 82,
   "metadata": {},
   "outputs": [
    {
     "data": {
      "text/plain": [
       "array([-0.55136993, -0.70429721, -1.39690538, -1.14109148, -1.28408644,\n",
       "       -0.71938522, -1.34830528, -0.64129147, -1.49531866, -0.40071723,\n",
       "       -0.97428929, -2.41007702, -0.70270501, -0.12746492,  0.11591463,\n",
       "       -0.67336299,  0.27900168, -0.32095546,  0.75643502, -0.64561317,\n",
       "       -0.48275358, -0.5160382 , -0.42338716, -0.21458116, -0.03640609,\n",
       "       -1.59896348, -1.83362383,  0.16921551, -0.11214945, -1.49251336,\n",
       "       -0.88565668,  0.55991172, -1.72838681, -0.59761963, -1.90239182,\n",
       "       -0.71627664, -0.61384493, -0.98679946, -0.13027023, -0.95184682,\n",
       "        0.0557142 , -0.01312961, -1.05799366, -0.64978322, -0.68784445,\n",
       "       -0.11169453,  0.09968933, -0.24339244, -0.82704845, -1.52329594,\n",
       "        0.09150086, -0.93099654, -0.10767612,  0.88699564,  0.08816481,\n",
       "        1.38944932,  0.24359412,  0.84430945,  0.21432792,  1.14895089,\n",
       "       -0.57949885,  1.91745405,  0.50175841,  0.56324776, -0.41671508,\n",
       "        0.6669684 ,  0.61472898, -0.24900306,  1.12203509,  2.19934975,\n",
       "        1.57414483,  0.62026378,  1.09254143,  0.83119273,  0.98813842,\n",
       "       -0.90248853, -0.02146972,  0.4518694 ,  1.15061892,  0.94583132,\n",
       "        0.59054267, -0.97497166, -0.41626016,  1.68688794,  0.77281196,\n",
       "        0.68144986,  0.41153359,  2.87853792,  0.14737959,  0.560215  ,\n",
       "        1.07669522,  1.67521179,  0.56885838,  1.40370332,  1.42531179,\n",
       "        0.86751011, -0.33134269,  1.27966315,  0.7472609 ,  1.84845861])"
      ]
     },
     "execution_count": 82,
     "metadata": {},
     "output_type": "execute_result"
    }
   ],
   "source": [
    "X[:,1]"
   ]
  },
  {
   "cell_type": "code",
   "execution_count": 45,
   "metadata": {},
   "outputs": [],
   "source": [
    "x1 =  X[:,1]"
   ]
  },
  {
   "cell_type": "code",
   "execution_count": 48,
   "metadata": {},
   "outputs": [],
   "source": [
    "x2 =  X[:,2]"
   ]
  },
  {
   "cell_type": "code",
   "execution_count": 166,
   "metadata": {},
   "outputs": [],
   "source": [
    "def getXData(X, Y, val = 0):\n",
    "    m = X.shape[1]\n",
    "    new_x = np.empty((0, m))\n",
    "    for index, row in enumerate(Y):\n",
    "        if row[0] == val:\n",
    "            new_x = np.append(new_x, X[index])\n",
    "    new_x = new_x.reshape((-1,m))   \n",
    "    return new_x\n",
    "            \n",
    "            \n",
    "    \n",
    "    "
   ]
  },
  {
   "cell_type": "code",
   "execution_count": 156,
   "metadata": {
    "collapsed": true
   },
   "outputs": [
    {
     "data": {
      "text/plain": [
       "array([[0],\n",
       "       [0],\n",
       "       [0],\n",
       "       [0],\n",
       "       [0],\n",
       "       [0],\n",
       "       [0],\n",
       "       [0],\n",
       "       [0],\n",
       "       [0],\n",
       "       [0],\n",
       "       [0],\n",
       "       [0],\n",
       "       [0],\n",
       "       [0],\n",
       "       [0],\n",
       "       [0],\n",
       "       [0],\n",
       "       [0],\n",
       "       [0],\n",
       "       [0],\n",
       "       [0],\n",
       "       [0],\n",
       "       [0],\n",
       "       [0],\n",
       "       [0],\n",
       "       [0],\n",
       "       [0],\n",
       "       [0],\n",
       "       [0],\n",
       "       [0],\n",
       "       [0],\n",
       "       [0],\n",
       "       [0],\n",
       "       [0],\n",
       "       [0],\n",
       "       [0],\n",
       "       [0],\n",
       "       [0],\n",
       "       [0],\n",
       "       [0],\n",
       "       [0],\n",
       "       [0],\n",
       "       [0],\n",
       "       [0],\n",
       "       [0],\n",
       "       [0],\n",
       "       [0],\n",
       "       [0],\n",
       "       [0],\n",
       "       [1],\n",
       "       [1],\n",
       "       [1],\n",
       "       [1],\n",
       "       [1],\n",
       "       [1],\n",
       "       [1],\n",
       "       [1],\n",
       "       [1],\n",
       "       [1],\n",
       "       [1],\n",
       "       [1],\n",
       "       [1],\n",
       "       [1],\n",
       "       [1],\n",
       "       [1],\n",
       "       [1],\n",
       "       [1],\n",
       "       [1],\n",
       "       [1],\n",
       "       [1],\n",
       "       [1],\n",
       "       [1],\n",
       "       [1],\n",
       "       [1],\n",
       "       [1],\n",
       "       [1],\n",
       "       [1],\n",
       "       [1],\n",
       "       [1],\n",
       "       [1],\n",
       "       [1],\n",
       "       [1],\n",
       "       [1],\n",
       "       [1],\n",
       "       [1],\n",
       "       [1],\n",
       "       [1],\n",
       "       [1],\n",
       "       [1],\n",
       "       [1],\n",
       "       [1],\n",
       "       [1],\n",
       "       [1],\n",
       "       [1],\n",
       "       [1],\n",
       "       [1],\n",
       "       [1],\n",
       "       [1],\n",
       "       [1]])"
      ]
     },
     "execution_count": 156,
     "metadata": {},
     "output_type": "execute_result"
    }
   ],
   "source": [
    "Y"
   ]
  },
  {
   "cell_type": "code",
   "execution_count": null,
   "metadata": {},
   "outputs": [],
   "source": []
  },
  {
   "cell_type": "code",
   "execution_count": null,
   "metadata": {},
   "outputs": [],
   "source": []
  },
  {
   "cell_type": "code",
   "execution_count": 169,
   "metadata": {
    "scrolled": true
   },
   "outputs": [
    {
     "data": {
      "text/plain": [
       "(50, 3)"
      ]
     },
     "execution_count": 169,
     "metadata": {},
     "output_type": "execute_result"
    }
   ],
   "source": [
    "getXData(X, Y, val=0).shape"
   ]
  },
  {
   "cell_type": "code",
   "execution_count": 138,
   "metadata": {},
   "outputs": [],
   "source": [
    " new_x = np.empty((0, 3))"
   ]
  },
  {
   "cell_type": "code",
   "execution_count": 111,
   "metadata": {},
   "outputs": [
    {
     "data": {
      "text/plain": [
       "array([ 1.        , -0.55136993, -0.22518431])"
      ]
     },
     "execution_count": 111,
     "metadata": {},
     "output_type": "execute_result"
    }
   ],
   "source": [
    "np.append(new_x, X[0])"
   ]
  },
  {
   "cell_type": "code",
   "execution_count": 177,
   "metadata": {},
   "outputs": [],
   "source": [
    "xx0 = getXData(X, Y, val=0)\n",
    "x10 = xx0[:,1]\n",
    "x20 = xx0[:,2]\n",
    "\n",
    "xx1 = getXData(X, Y, val=1)\n",
    "x11 = xx1[:,1]\n",
    "x21 = xx1[:,2]"
   ]
  },
  {
   "cell_type": "code",
   "execution_count": 178,
   "metadata": {},
   "outputs": [],
   "source": [
    "# xx1 = getXData(X, Y, val=1)"
   ]
  },
  {
   "cell_type": "code",
   "execution_count": 186,
   "metadata": {},
   "outputs": [
    {
     "data": {
      "text/plain": [
       "array([-1.02599421, -1.42185376, -3.21470303, -2.55251656, -2.92266584,\n",
       "       -1.46090981, -3.08889938, -1.25876041, -3.46945053, -0.6360225 ,\n",
       "       -2.12074114, -5.83734615, -1.41773226,  0.07130413,  0.70130371,\n",
       "       -1.34177904,  1.12346231, -0.42955535,  2.3593213 , -1.26994732,\n",
       "       -0.8483775 , -0.93453632, -0.69470471, -0.1542004 ,  0.30701425,\n",
       "       -3.73774007, -4.34516957,  0.83927558,  0.11094896, -3.46218885,\n",
       "       -1.89131139,  1.85061136, -4.07275854, -1.14571375, -4.5231788 ,\n",
       "       -1.45286308, -1.18771373, -2.1531243 ,  0.06404245, -2.06264772,\n",
       "        0.54547204,  0.36726655, -2.3374139 , -1.2807417 , -1.379265  ,\n",
       "        0.11212653,  0.65930374, -0.22877978, -1.73960121, -3.54187104,\n",
       "        0.63810749, -2.0086758 ,  0.12252839,  2.69728369,  0.62947198,\n",
       "        3.99790899,  1.03180816,  2.58678844,  0.9560512 ,  3.37536735,\n",
       "       -1.09880724,  5.36467444,  1.70007874,  1.85924686, -0.67743369,\n",
       "        2.12773267,  1.99250846, -0.24330314,  3.3056945 ,  6.09437489,\n",
       "        4.47600213,  2.00683555,  3.22934876,  2.55283519,  2.9590966 ,\n",
       "       -1.93488145,  0.34567778,  1.57093864,  3.3796851 ,  2.84958265,\n",
       "        1.92990102, -2.1225075 , -0.67625612,  4.76784306,  2.40171379,\n",
       "        2.16521862,  1.4665275 ,  7.85248587,  0.78275225,  1.8513964 ,\n",
       "        3.18833009,  4.73761878,  1.87377022,  4.03480616,  4.09074071,\n",
       "        2.64684447, -0.45644318,  3.71372226,  2.33557365,  5.18607643])"
      ]
     },
     "execution_count": 186,
     "metadata": {},
     "output_type": "execute_result"
    }
   ],
   "source": [
    "xx0[:,1]\n",
    "X[:,1]\n",
    "theta_opt[0][0] + theta_opt[1][0] * X[:,1] "
   ]
  },
  {
   "cell_type": "code",
   "execution_count": 189,
   "metadata": {
    "scrolled": true
   },
   "outputs": [
    {
     "data": {
      "text/plain": [
       "[<matplotlib.lines.Line2D at 0x1191cec10>]"
      ]
     },
     "execution_count": 189,
     "metadata": {},
     "output_type": "execute_result"
    },
    {
     "data": {
      "image/png": "[encoded data removed]",
      "text/plain": [
       "<Figure size 432x288 with 1 Axes>"
      ]
     },
     "metadata": {
      "needs_background": "light"
     },
     "output_type": "display_data"
    }
   ],
   "source": [
    "#todo filter x1, x2 wrt 0 and 1 y\n",
    "plt.scatter(x10, x20,color=\"r\")\n",
    "plt.scatter(x11, x21,color=\"b\")\n",
    "\n",
    "yy = -(theta_opt[0][0] + theta_opt[1][0]*X[:,1]) / theta_opt[2][0]\n",
    "plt.plot(X[:,1], yy,'--', linewidth=2, color=\"m\")"
   ]
  },
  {
   "cell_type": "code",
   "execution_count": 193,
   "metadata": {},
   "outputs": [
    {
     "data": {
      "text/plain": [
       "array([[0],\n",
       "       [0],\n",
       "       [0],\n",
       "       [0],\n",
       "       [0],\n",
       "       [0],\n",
       "       [0],\n",
       "       [0],\n",
       "       [0],\n",
       "       [0],\n",
       "       [0],\n",
       "       [0],\n",
       "       [0],\n",
       "       [0],\n",
       "       [0],\n",
       "       [0],\n",
       "       [0],\n",
       "       [0],\n",
       "       [0],\n",
       "       [0],\n",
       "       [0],\n",
       "       [0],\n",
       "       [0],\n",
       "       [0],\n",
       "       [0],\n",
       "       [0],\n",
       "       [0],\n",
       "       [0],\n",
       "       [0],\n",
       "       [0],\n",
       "       [0],\n",
       "       [0],\n",
       "       [0],\n",
       "       [0],\n",
       "       [0],\n",
       "       [0],\n",
       "       [0],\n",
       "       [0],\n",
       "       [0],\n",
       "       [0],\n",
       "       [0],\n",
       "       [0],\n",
       "       [0],\n",
       "       [0],\n",
       "       [0],\n",
       "       [0],\n",
       "       [0],\n",
       "       [0],\n",
       "       [0],\n",
       "       [0],\n",
       "       [1],\n",
       "       [1],\n",
       "       [1],\n",
       "       [1],\n",
       "       [1],\n",
       "       [1],\n",
       "       [1],\n",
       "       [1],\n",
       "       [1],\n",
       "       [1],\n",
       "       [1],\n",
       "       [1],\n",
       "       [1],\n",
       "       [1],\n",
       "       [1],\n",
       "       [1],\n",
       "       [1],\n",
       "       [1],\n",
       "       [1],\n",
       "       [1],\n",
       "       [1],\n",
       "       [1],\n",
       "       [1],\n",
       "       [1],\n",
       "       [1],\n",
       "       [1],\n",
       "       [1],\n",
       "       [1],\n",
       "       [1],\n",
       "       [1],\n",
       "       [1],\n",
       "       [1],\n",
       "       [1],\n",
       "       [1],\n",
       "       [1],\n",
       "       [1],\n",
       "       [1],\n",
       "       [1],\n",
       "       [1],\n",
       "       [1],\n",
       "       [1],\n",
       "       [1],\n",
       "       [1],\n",
       "       [1],\n",
       "       [1],\n",
       "       [1],\n",
       "       [1],\n",
       "       [1],\n",
       "       [1],\n",
       "       [1]])"
      ]
     },
     "execution_count": 193,
     "metadata": {},
     "output_type": "execute_result"
    }
   ],
   "source": []
  },
  {
   "cell_type": "code",
   "execution_count": null,
   "metadata": {},
   "outputs": [],
   "source": []
  }
 ],
 "metadata": {
  "kernelspec": {
   "display_name": "Python 3",
   "language": "python",
   "name": "python3"
  },
  "language_info": {
   "codemirror_mode": {
    "name": "ipython",
    "version": 3
   },
   "file_extension": ".py",
   "mimetype": "text/x-python",
   "name": "python",
   "nbconvert_exporter": "python",
   "pygments_lexer": "ipython3",
   "version": "3.7.4"
  }
 },
 "nbformat": 4,
 "nbformat_minor": 2
}
